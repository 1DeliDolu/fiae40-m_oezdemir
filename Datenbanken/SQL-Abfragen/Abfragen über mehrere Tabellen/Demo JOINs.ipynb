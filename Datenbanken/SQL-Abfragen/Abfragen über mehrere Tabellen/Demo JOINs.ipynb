{
    "metadata": {
        "kernelspec": {
            "name": "SQL",
            "display_name": "SQL",
            "language": "sql"
        },
        "language_info": {
            "name": "sql",
            "version": ""
        }
    },
    "nbformat_minor": 2,
    "nbformat": 4,
    "cells": [
        {
            "cell_type": "markdown",
            "source": [
                "## INNER JOIN ohne Tabellen-Aliase\n",
                "\n",
                "Der INNER JOIN liefert aus beiden Tabellen jeweils nur zueinander passende Zeilen.  \n",
                "Wo Spaltennamen nicht eindeutig sind, muss der Tabellenname davorgeschrieben werden (Zweiteiliger Bezeichner)"
            ],
            "metadata": {
                "azdata_cell_guid": "98ee656d-024c-4ee8-899d-21f1a92b03c1"
            },
            "attachments": {}
        },
        {
            "cell_type": "code",
            "source": [
                "SELECT Kunde.KundenNr, Firma, COUNT(BestellungID) AS [Anzahl Bestellungen]\r\n",
                "FROM Kunde\r\n",
                "INNER JOIN Bestellung ON Kunde.KundenNr = Bestellung.KundenNr\r\n",
                "WHERE Kunde.KundenNr <= 10\r\n",
                "GROUP BY Kunde.KundenNr, Firma\r\n",
                "HAVING COUNT(BestellungID) >= 10\r\n",
                "ORDER BY [Anzahl Bestellungen] DESC;"
            ],
            "metadata": {
                "azdata_cell_guid": "cac2382d-af21-41e9-ae4a-9b51fe841cda",
                "language": "sql",
                "tags": []
            },
            "outputs": [
{
    "output_type": "display_data",
    "data": {
        "text/html": "(6 rows affected)"
    },
    "metadata": {}
}, {
    "output_type": "display_data",
    "data": {
        "text/html": "Total execution time: 00:00:00.029"
    },
    "metadata": {}
}, {
    "output_type": "execute_result",
    "metadata": {},
    "execution_count": 1,
    "data": {
        "application/vnd.dataresource+json": {
            "schema": {
                "fields": [
                    {
                        "name": "KundenNr"
                    },
                    {
                        "name": "Firma"
                    },
                    {
                        "name": "Anzahl Bestellungen"
                    }
                ]
            },
            "data": [
                {
                    "KundenNr": "5",
                    "Firma": "Berglunds snabbköp",
                    "Anzahl Bestellungen": "11"
                },
                {
                    "KundenNr": "7",
                    "Firma": "Blondel père et fils",
                    "Anzahl Bestellungen": "11"
                },
                {
                    "KundenNr": "8",
                    "Firma": "Bólido Comidas preparadas",
                    "Anzahl Bestellungen": "10"
                },
                {
                    "KundenNr": "6",
                    "Firma": "Blauer See Delikatessen",
                    "Anzahl Bestellungen": "10"
                },
                {
                    "KundenNr": "3",
                    "Firma": "Antonio Moreno Taquería",
                    "Anzahl Bestellungen": "10"
                },
                {
                    "KundenNr": "4",
                    "Firma": "Around the Horn",
                    "Anzahl Bestellungen": "10"
                }
            ]
        },
        "text/html": [
            "<table>",
            "<tr><th>KundenNr</th><th>Firma</th><th>Anzahl Bestellungen</th></tr>",
            "<tr><td>5</td><td>Berglunds snabbköp</td><td>11</td></tr>",
            "<tr><td>7</td><td>Blondel père et fils</td><td>11</td></tr>",
            "<tr><td>8</td><td>Bólido Comidas preparadas</td><td>10</td></tr>",
            "<tr><td>6</td><td>Blauer See Delikatessen</td><td>10</td></tr>",
            "<tr><td>3</td><td>Antonio Moreno Taquería</td><td>10</td></tr>",
            "<tr><td>4</td><td>Around the Horn</td><td>10</td></tr>",
            "</table>"
        ]
    }
}
],
            "execution_count": 1
        },
        {
            "cell_type": "markdown",
            "source": [
                "## INNER JOIN mit Tabellen-Aliasen\n",
                "\n",
                "Tabellen-Namen durch Buchstaben abgekürzt\n",
                "\n",
                "Geben Sie am Besten die Zuordnung zu den Tabellen bei allen Spalten an!"
            ],
            "metadata": {
                "azdata_cell_guid": "7c1db885-b407-4f6b-8950-01a90a57a4ee"
            },
            "attachments": {}
        },
        {
            "cell_type": "code",
            "source": [
                "SELECT k.KundenNr, k.Firma, COUNT(b.BestellungID) AS [Anzahl Bestellungen]\r\n",
                "FROM Kunde AS k\r\n",
                "INNER JOIN Bestellung AS b ON k.KundenNr = b.KundenNr\r\n",
                "WHERE k.KundenNr <= 10\r\n",
                "GROUP BY k.KundenNr, Firma\r\n",
                "HAVING COUNT(b.BestellungID) >= 10\r\n",
                "ORDER BY [Anzahl Bestellungen] DESC;"
            ],
            "metadata": {
                "azdata_cell_guid": "f79e63b1-dd88-48d4-8cc8-0aafd29107da",
                "language": "sql"
            },
            "outputs": [],
            "execution_count": null
        },
        {
            "cell_type": "markdown",
            "source": [
                "## Der Kunde ohne Bestellungen wird beim INNER JOIN nicht angezeigt!\n",
                "\n",
                "Sie können alle Zeilen aus der Kunden-Tabelle anzeigen, wenn Sie einen **LEFT JOIN** beginnend mit Kunde oder einen **RIGHT JOIN** beginnend mit Bestellung machen.  \n",
                "Die erstgenannte Tabelle ist die **LEFT Tabelle**; die gejointe Tabelle ist die **RIGHT-Tabelle**.\n",
                "\n",
                "Das Schlüsselwort **OUTER** kann weggelassen werden."
            ],
            "metadata": {
                "azdata_cell_guid": "161290d6-c124-424b-ae91-93f22064c7b6"
            },
            "attachments": {}
        },
        {
            "cell_type": "code",
            "source": [
                "SELECT k.KundenNr, k.Firma, COUNT(b.BestellungID) AS [Anzahl Bestellungen]\r\n",
                "FROM Kunde AS k\r\n",
                "LEFT OUTER JOIN Bestellung AS b ON k.KundenNr = b.KundenNr\r\n",
                "GROUP BY k.KundenNr, Firma\r\n",
                "ORDER BY [Anzahl Bestellungen] ASC;"
            ],
            "metadata": {
                "azdata_cell_guid": "aca0f48f-2971-4bd5-a260-ef4d973e77b5",
                "language": "sql"
            },
            "outputs": [],
            "execution_count": null
        },
        {
            "cell_type": "code",
            "source": [
                "SELECT k.KundenNr, k.Firma, COUNT(b.BestellungID) AS [Anzahl Bestellungen]\r\n",
                "FROM Bestellung AS b \r\n",
                "RIGHT OUTER JOIN Kunde AS k ON  k.KundenNr = b.KundenNr\r\n",
                "GROUP BY k.KundenNr, Firma\r\n",
                "ORDER BY [Anzahl Bestellungen] ASC;"
            ],
            "metadata": {
                "azdata_cell_guid": "a70179b2-775b-45fc-a4f2-3f8ee7bfc59f",
                "language": "sql"
            },
            "outputs": [],
            "execution_count": null
        },
        {
            "cell_type": "markdown",
            "source": [
                "## Beim LEFT JOIN nach Werten aus der RIGHT Tabelle filtern\n",
                "\n",
                "Der Filter muss in der ON Klausel beim JOIN gesetzt werden.  \n",
                "Eine WHERE-Klausel zum Filtern aus der RIGHT-Tabelle macht einen LEFT-JOIN kaputt."
            ],
            "metadata": {
                "azdata_cell_guid": "9246e6ee-15d7-46e9-94da-d3422708d918"
            },
            "attachments": {}
        },
        {
            "cell_type": "code",
            "source": [
                "-- Vorbereitung: Aus welchen Jahren gibt es Bestellungen?\r\n",
                "SELECT MIN(Bestelldatum) AS Erste, MAX(Bestelldatum) AS Letzte\r\n",
                "FROM Bestellung;"
            ],
            "metadata": {
                "azdata_cell_guid": "1da37a81-ff47-4e4e-bb09-f1cf1da4733c",
                "language": "sql"
            },
            "outputs": [],
            "execution_count": null
        },
        {
            "cell_type": "markdown",
            "source": [
                "## Situation für Filter in der ON-Klausel des Joins\n",
                "\n",
                "- In einem LEFT JOIN wird gefiltert nach einem Wert in einer Spalte der RIGHT-Tabelle.\n",
                "- In einem RIGHT JOIN wird gefiltert nach einem Wert der LEFT Tabelle.\n",
                "\n",
                "### Alle Kunden werden angezeigt, obwohl beinahe keiner eine Bestellung in 2020 hatte:"
            ],
            "metadata": {
                "azdata_cell_guid": "ab32f623-f78b-4ecd-9c65-7e32cdac0b2f"
            },
            "attachments": {}
        },
        {
            "cell_type": "code",
            "source": [
                "SELECT k.KundenNr, k.Firma, COUNT(b.BestellungID) AS [Anzahl Bestellungen in 2020]\r\n",
                "FROM Kunde AS k\r\n",
                "LEFT OUTER JOIN Bestellung AS b ON k.KundenNr = b.KundenNr\r\n",
                "                                AND YEAR(b.Bestelldatum) = 2020\r\n",
                "GROUP BY k.KundenNr, Firma\r\n",
                "ORDER BY [Anzahl Bestellungen in 2020] DESC;"
            ],
            "metadata": {
                "azdata_cell_guid": "4dbb2890-479a-4d2c-9e57-c6cf4cd5699b",
                "language": "sql"
            },
            "outputs": [],
            "execution_count": null
        },
        {
            "cell_type": "markdown",
            "source": [
                "## CROSS JOIN (Kartesisches Produkt)\n",
                "\n",
                "Jede Zeile der ersten Tabelle wird mit jeder Zeile der anderen Tabelle kombiniert."
            ],
            "metadata": {
                "azdata_cell_guid": "6a8acff5-6f14-459a-9972-1e80397f01d4"
            },
            "attachments": {}
        },
        {
            "cell_type": "code",
            "source": [
                "SELECT m.Vorname, k.Nachname\r\n",
                "FROM Kunde AS k\r\n",
                "CROSS JOIN Mitarbeiter AS m;"
            ],
            "metadata": {
                "azdata_cell_guid": "a8ba669e-8074-420a-bd24-532e699950ee",
                "language": "sql"
            },
            "outputs": [],
            "execution_count": null
        },
        {
            "cell_type": "markdown",
            "source": [
                "## Korrelierte Unterabfrage als Alternative zum LEFT JOIN\n",
                "\n",
                "### Alle Kunden mit Anzahl Ihrer Bestellungen anzeigen ohne LEFT JOIN"
            ],
            "metadata": {
                "azdata_cell_guid": "730cd2c9-e402-4f15-9ce7-d24e8d6507e6",
                "language": ""
            },
            "attachments": {}
        },
        {
            "cell_type": "code",
            "source": [
                "SELECT KundenNr, Firma, (\r\n",
                "    SELECT COUNT(*) \r\n",
                "    FROM Bestellung\r\n",
                "    -- Korrelation\r\n",
                "    WHERE Bestellung.KundenNr = Kunde.KundenNr\r\n",
                ") AS [Anzahl Bestellungen]\r\n",
                "FROM Kunde;"
            ],
            "metadata": {
                "azdata_cell_guid": "d5af7481-1388-4af3-bb0f-c69bb333d14c",
                "language": "sql"
            },
            "outputs": [],
            "execution_count": null
        }
    ]
}