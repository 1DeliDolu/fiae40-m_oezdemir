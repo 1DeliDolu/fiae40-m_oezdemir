{
    "metadata": {
        "kernelspec": {
            "name": "SQL",
            "display_name": "SQL",
            "language": "sql"
        },
        "language_info": {
            "name": "sql",
            "version": ""
        }
    },
    "nbformat_minor": 2,
    "nbformat": 4,
    "cells": [
        {
            "cell_type": "markdown",
            "source": [
                "# LIKE\n",
                "\n",
                "[Suche mit Platzhaltern](https://learn.microsoft.com/en-us/sql/t-sql/language-elements/like-transact-sql?view=sql-server-ver16)"
            ],
            "metadata": {
                "azdata_cell_guid": "b717017e-fdbc-40a6-98e3-339ee70f182d"
            },
            "attachments": {}
        },
        {
            "cell_type": "code",
            "source": [
                "SELECT DISTINCT Vorname\r\n",
                "FROM Adresse\r\n",
                "WHERE Vorname LIKE '[A-C]%'\r\n",
                "ORDER BY Vorname;"
            ],
            "metadata": {
                "azdata_cell_guid": "81ee42eb-4a71-41fe-aa3f-616763efa119",
                "language": "sql"
            },
            "outputs": [],
            "execution_count": null
        },
        {
            "cell_type": "code",
            "source": [
                "SELECT DISTINCT Vorname\r\n",
                "FROM Adresse\r\n",
                "WHERE Vorname LIKE 'B_rb%'\r\n",
                "ORDER BY Vorname;"
            ],
            "metadata": {
                "azdata_cell_guid": "cb780061-1ff8-492c-9850-79af0c1708d9",
                "language": "sql"
            },
            "outputs": [],
            "execution_count": null
        },
        {
            "cell_type": "code",
            "source": [
                "SELECT DISTINCT Vorname\r\n",
                "FROM Adresse\r\n",
                "WHERE Vorname LIKE 'H%nn%'\r\n",
                "ORDER BY Vorname;"
            ],
            "metadata": {
                "azdata_cell_guid": "1a497fe8-f32f-4c33-9ff0-f754cab6e521",
                "language": "sql"
            },
            "outputs": [],
            "execution_count": null
        },
        {
            "cell_type": "code",
            "source": [
                "-- Eine performantere Möglichkeit,\r\n",
                "-- Namen mit Anfangsbuchstabe A zu filtern\r\n",
                "SELECT DISTINCT Vorname\r\n",
                "FROM Adresse\r\n",
                "WHERE LEFT(Vorname, 1) = 'A' \r\n",
                "ORDER BY Vorname;"
            ],
            "metadata": {
                "azdata_cell_guid": "f1900af4-31fa-4563-83c7-744dee1f2d0f",
                "language": "sql"
            },
            "outputs": [],
            "execution_count": null
        },
        {
            "cell_type": "code",
            "source": [
                "-- Suche nach einem Hochkomma im Text\r\n",
                "SELECT Firma, Telefon\r\n",
                "FROM Kunde\r\n",
                "WHERE Firma LIKE '%''%' \r\n",
                "ORDER BY Firma;"
            ],
            "metadata": {
                "azdata_cell_guid": "94b1f4bf-dcd5-4d0a-b61f-9aabd51a7c5f",
                "language": "sql"
            },
            "outputs": [],
            "execution_count": null
        },
        {
            "cell_type": "code",
            "source": [
                "SELECT DISTINCT Vorname FROM Adresse ORDER BY 1;"
            ],
            "metadata": {
                "language": "sql",
                "azdata_cell_guid": "6b6289ee-b797-4d5a-8cba-f1178f91cde6"
            },
            "outputs": [],
            "execution_count": null
        },
        {
            "cell_type": "markdown",
            "source": [
                "## Beispiele für die Verwendung des ESCAPE Characters"
            ],
            "metadata": {
                "language": "sql",
                "azdata_cell_guid": "3efbe2b9-154d-442b-a5e3-8c0797e8b25b"
            },
            "attachments": {}
        },
        {
            "cell_type": "code",
            "source": [
                "DROP TABLE IF EXISTS Wildcardsuche;\r\n",
                "GO\r\n",
                "CREATE TABLE Wildcardsuche (\r\n",
                "    Demofeld VARCHAR(100) NOT NULL\r\n",
                ");\r\n",
                "GO"
            ],
            "metadata": {
                "language": "sql",
                "azdata_cell_guid": "02bc30cb-9391-4fe7-bb41-c3c05068db63"
            },
            "outputs": [],
            "execution_count": null
        },
        {
            "cell_type": "code",
            "source": [
                "INSERT INTO Wildcardsuche (Demofeld)\r\n",
                "VALUES ('Heute 10% Rabatt auf alle Datenbanken!'),\r\n",
                "    ('Hyperlink [Linktext](URI) in Markdown'),\r\n",
                "    ('Zwinker ^|^ Zwinker'),\r\n",
                "    ('Noch ein _bisschen_ Markdown');"
            ],
            "metadata": {
                "language": "sql",
                "azdata_cell_guid": "cbbce922-067f-4cf7-b48b-a25b4f585a60"
            },
            "outputs": [],
            "execution_count": null
        },
        {
            "cell_type": "code",
            "source": [
                "-- Suche mit Escape-Character\r\n",
                "SELECT Demofeld FROM Wildcardsuche WHERE Demofeld LIKE '%!^%' ESCAPE('!');\r\n",
                "SELECT Demofeld FROM Wildcardsuche WHERE Demofeld LIKE '%!%%' ESCAPE('!');\r\n",
                "SELECT Demofeld FROM Wildcardsuche WHERE Demofeld LIKE '%![%' ESCAPE('!');\r\n",
                "SELECT Demofeld FROM Wildcardsuche WHERE Demofeld LIKE '%!_%' ESCAPE('!');"
            ],
            "metadata": {
                "language": "sql",
                "azdata_cell_guid": "16fe37cb-7f22-4483-84b2-71923f401569"
            },
            "outputs": [],
            "execution_count": null
        },
        {
            "cell_type": "markdown",
            "source": [
                "## Besonderheiten bei NVARCHAR vs. VARCHAR\n",
                "\n",
                "[Pattern-Matching Using LIKE](https:\\learn.microsoft.com\\en-us\\sql\\t-sql\\language-elements\\like-transact-sql?view=sql-server-ver16#pattern-match-using-like)"
            ],
            "metadata": {
                "language": "sql",
                "azdata_cell_guid": "e62f4624-812b-4390-b8f3-e4d57609ed76"
            },
            "attachments": {}
        },
        {
            "cell_type": "code",
            "source": [
                "-- ASCII pattern matching with char column\r\n",
                "USE SQL_Seminar;\r\n",
                "DROP TABLE IF EXISTS t;\r\n",
                "GO\r\n",
                "CREATE TABLE t (col1 CHAR(30));\r\n",
                "\r\n",
                "INSERT INTO t\r\n",
                "VALUES ('Robert King');\r\n",
                "\r\n",
                "SELECT * FROM t\r\n",
                "WHERE col1 LIKE '% King'; -- returns 1 row\r\n",
                "\r\n",
                "DROP TABLE IF EXISTS t;"
            ],
            "metadata": {
                "language": "sql",
                "azdata_cell_guid": "0edefefc-ed84-4efb-9713-39ae34a380c9"
            },
            "outputs": [],
            "execution_count": null
        },
        {
            "cell_type": "code",
            "source": [
                "-- Unicode pattern matching with nchar column\r\n",
                "USE SQL_Seminar;\r\n",
                "DROP TABLE IF EXISTS t;\r\n",
                "GO\r\n",
                "CREATE TABLE t (col1 NCHAR(30));\r\n",
                "\r\n",
                "INSERT INTO t\r\n",
                "VALUES ('Robert King');\r\n",
                "\r\n",
                "SELECT * FROM t\r\n",
                "WHERE col1 LIKE '% King'; -- no rows returned\r\n",
                "\r\n",
                "-- Unicode pattern matching with nchar column and RTRIM\r\n",
                "SELECT * FROM t\r\n",
                "WHERE RTRIM(col1) LIKE '% King'; -- returns 1 row\r\n",
                "\r\n",
                "DROP TABLE IF EXISTS t;"
            ],
            "metadata": {
                "language": "sql",
                "azdata_cell_guid": "2eba3f9d-34c2-42b3-b20b-cc37473f2b32"
            },
            "outputs": [],
            "execution_count": null
        }
    ]
}