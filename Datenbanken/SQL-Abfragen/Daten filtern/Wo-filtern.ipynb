{
    "metadata": {
        "kernelspec": {
            "name": "SQL",
            "display_name": "SQL",
            "language": "sql"
        },
        "language_info": {
            "name": "sql",
            "version": ""
        }
    },
    "nbformat_minor": 2,
    "nbformat": 4,
    "cells": [
        {
            "cell_type": "markdown",
            "source": [
                "## Der Normalfall: Filtern in der WHERE-Klausel"
            ],
            "metadata": {
                "language": "sql",
                "azdata_cell_guid": "f7cdc18e-0b2e-4b20-ba03-aafa3972a72c"
            },
            "attachments": {}
        },
        {
            "cell_type": "code",
            "source": [
                "SELECT KundenNr, Firma, Ort, Land\r\n",
                "FROM Kunde\r\n",
                "WHERE Land = 'Kanada'"
            ],
            "metadata": {
                "language": "sql",
                "azdata_cell_guid": "0fd99806-a0bd-4b82-876c-dc2ad82164bc"
            },
            "outputs": [],
            "execution_count": null
        },
        {
            "cell_type": "markdown",
            "source": [
                "## Situation für Filter in der ON-Klausel des Joins\n",
                "\n",
                "- In einem LEFT JOIN wird gefiltert nach einem Wert in einer Spalte der RIGHT-Tabelle.\n",
                "- In einem RIGHT JOIN wird gefiltert nach einem Wert der LEFT Tabelle.\n",
                "\n",
                "### Alle Kunden werden angezeigt, obwohl beinahe keiner eine Bestellung in 2020 hatte:"
            ],
            "metadata": {
                "language": "sql",
                "azdata_cell_guid": "30b5912c-4d03-40c1-b473-bd963349fff6"
            },
            "attachments": {}
        },
        {
            "cell_type": "code",
            "source": [
                "SELECT k.KundenNr, k.Firma, COUNT(b.BestellungID) AS [Anzahl Bestellungen in 2020]\r\n",
                "FROM Kunde AS k\r\n",
                "LEFT OUTER JOIN Bestellung AS b ON k.KundenNr = b.KundenNr\r\n",
                "                                AND YEAR(b.Bestelldatum) = 2020\r\n",
                "GROUP BY k.KundenNr, Firma\r\n",
                "ORDER BY [Anzahl Bestellungen in 2020] DESC;"
            ],
            "metadata": {
                "language": "sql",
                "azdata_cell_guid": "388f2cb5-445c-456d-9ec1-4135db825437"
            },
            "outputs": [],
            "execution_count": null
        },
        {
            "cell_type": "code",
            "source": [
                "-- Alternativlösung als korrelierte Unterabfrage\r\n",
                "SELECT KundenNr, Firma, (\r\n",
                "    SELECT COUNT(BestellungID)\r\n",
                "    FROM Bestellung\r\n",
                "    WHERE YEAR(Bestelldatum) = 2020\r\n",
                "    AND Bestellung.KundenNr = Kunde.KundenNr\r\n",
                ") AS [Anzahl Bestellungen in 2020]\r\n",
                "FROM Kunde\r\n",
                "ORDER BY [Anzahl Bestellungen in 2020] DESC;\r\n",
                ""
            ],
            "metadata": {
                "language": "sql",
                "azdata_cell_guid": "b5f63b90-1168-4685-918d-9d2e03673f35"
            },
            "outputs": [],
            "execution_count": null
        },
        {
            "cell_type": "markdown",
            "source": [
                "## Filtern in der HAVING-Klausel\n",
                "\n",
                "- Wird nach dem Ergebnis einer Aggregat-Funktion gefiltert, benötigen Sie die HAVING-Klausel.\n",
                "- Die Aggregat-Funktion wird in der HAVING-Klausel wiederholt, da auf das Spalten-Alias nicht zugegriffen werden kann."
            ],
            "metadata": {
                "language": "sql",
                "azdata_cell_guid": "27ae2a51-c010-4918-8bd1-062674b1c4fa"
            },
            "attachments": {}
        },
        {
            "cell_type": "code",
            "source": [
                "-- Filter nach dem Wert einer Aggregation mit HAVING\r\n",
                "SELECT KundenNr, COUNT(BestellungID) AS [Anzahl Bestellungen]\r\n",
                "FROM Bestellung\r\n",
                "WHERE KundenNr <= 10\r\n",
                "GROUP BY KundenNr\r\n",
                "HAVING COUNT(BestellungID) >= 10\r\n",
                "ORDER BY [Anzahl Bestellungen] DESC;"
            ],
            "metadata": {
                "azdata_cell_guid": "a51518a6-84a1-4572-9c06-3199e110b00f",
                "language": "sql"
            },
            "outputs": [],
            "execution_count": null
        }
    ]
}