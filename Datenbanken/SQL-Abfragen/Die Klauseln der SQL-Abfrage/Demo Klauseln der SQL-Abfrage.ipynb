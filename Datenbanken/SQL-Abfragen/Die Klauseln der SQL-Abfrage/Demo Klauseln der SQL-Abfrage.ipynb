{
    "metadata": {
        "kernelspec": {
            "name": "SQL",
            "display_name": "SQL",
            "language": "sql"
        },
        "language_info": {
            "name": "sql",
            "version": ""
        }
    },
    "nbformat_minor": 2,
    "nbformat": 4,
    "cells": [
        {
            "cell_type": "markdown",
            "source": [
                "# Demo: Klauseln der SQL-Abfrage"
            ],
            "metadata": {
                "azdata_cell_guid": "eb616bb8-8a0b-4bd0-8e06-ad2020202bf9"
            },
            "attachments": {}
        },
        {
            "cell_type": "code",
            "source": [
                "-- SELECT ohne weitere Klauseln\r\n",
                "\r\n",
                "SELECT 'Hallo Welt!' AS Gruß;\r\n",
                "\r\n",
                "SELECT 1 + 2 * 3 - 4 / 5 AS [Wer mag hier Kopfrechnen?];"
            ],
            "metadata": {
                "azdata_cell_guid": "30bc4e37-eb95-4a8c-85f0-f08a6f86863c",
                "language": "sql"
            },
            "outputs": [],
            "execution_count": null
        },
        {
            "cell_type": "code",
            "source": [
                "-- FROM Klausel\r\n",
                "SELECT KundenNr, Firma\r\n",
                "FROM Kunde;"
            ],
            "metadata": {
                "language": "sql",
                "azdata_cell_guid": "806b532a-cc3b-422d-a1d5-25e2628a14f7"
            },
            "outputs": [
                {
                    "output_type": "display_data",
                    "data": {
                        "text/html": "(92 rows affected)"
                    },
                    "metadata": {}
                },
                {
                    "output_type": "display_data",
                    "data": {
                        "text/html": "Total execution time: 00:00:00.027"
                    },
                    "metadata": {}
                },
                {
                    "output_type": "execute_result",
                    "metadata": {},
                    "execution_count": 1,
                    "data": {
                        "application/vnd.dataresource+json": {
                            "schema": {
                                "fields": [
                                    {
                                        "name": "KundenNr"
                                    },
                                    {
                                        "name": "Firma"
                                    }
                                ]
                            },
                            "data": [
                                {
                                    "KundenNr": "1",
                                    "Firma": "Alfreds Futterkiste"
                                },
                                {
                                    "KundenNr": "2",
                                    "Firma": "Ana Trujillo Emparedados y helados"
                                },
                                {
                                    "KundenNr": "3",
                                    "Firma": "Antonio Moreno Taquería"
                                },
                                {
                                    "KundenNr": "4",
                                    "Firma": "Around the Horn"
                                },
                                {
                                    "KundenNr": "5",
                                    "Firma": "Berglunds snabbköp"
                                },
                                {
                                    "KundenNr": "6",
                                    "Firma": "Blauer See Delikatessen"
                                },
                                {
                                    "KundenNr": "7",
                                    "Firma": "Blondel père et fils"
                                },
                                {
                                    "KundenNr": "8",
                                    "Firma": "Bólido Comidas preparadas"
                                },
                                {
                                    "KundenNr": "9",
                                    "Firma": "Bon app'"
                                },
                                {
                                    "KundenNr": "10",
                                    "Firma": "Bottom-Dollar Markets"
                                },
                                {
                                    "KundenNr": "11",
                                    "Firma": "B's Beverages"
                                },
                                {
                                    "KundenNr": "12",
                                    "Firma": "Cactus Comidas para llevar"
                                },
                                {
                                    "KundenNr": "13",
                                    "Firma": "Centro comercial Moctezuma"
                                },
                                {
                                    "KundenNr": "14",
                                    "Firma": "Chop-suey Chinese"
                                },
                                {
                                    "KundenNr": "15",
                                    "Firma": "Comércio Mineiro"
                                },
                                {
                                    "KundenNr": "16",
                                    "Firma": "Consolidated Holdings"
                                },
                                {
                                    "KundenNr": "17",
                                    "Firma": "Drachenblut Delikatessen"
                                },
                                {
                                    "KundenNr": "18",
                                    "Firma": "Du monde entier"
                                },
                                {
                                    "KundenNr": "19",
                                    "Firma": "Eastern Connection"
                                },
                                {
                                    "KundenNr": "20",
                                    "Firma": "Ernst Handel"
                                },
                                {
                                    "KundenNr": "21",
                                    "Firma": "Familia Arquibaldo"
                                },
                                {
                                    "KundenNr": "22",
                                    "Firma": "FISSA Fabrica Inter. Salchichas S.A."
                                },
                                {
                                    "KundenNr": "23",
                                    "Firma": "Folies gourmandes"
                                },
                                {
                                    "KundenNr": "24",
                                    "Firma": "Folk och fä HB"
                                },
                                {
                                    "KundenNr": "25",
                                    "Firma": "Frankenversand"
                                },
                                {
                                    "KundenNr": "26",
                                    "Firma": "France restauration"
                                },
                                {
                                    "KundenNr": "27",
                                    "Firma": "Franchi S.p.A."
                                },
                                {
                                    "KundenNr": "28",
                                    "Firma": "Furia Bacalhau e Frutos do Mar"
                                },
                                {
                                    "KundenNr": "29",
                                    "Firma": "Galería del gastrónomo"
                                },
                                {
                                    "KundenNr": "30",
                                    "Firma": "Godos Cocina Típica"
                                },
                                {
                                    "KundenNr": "31",
                                    "Firma": "Gourmet Lanchonetes"
                                },
                                {
                                    "KundenNr": "32",
                                    "Firma": "Great Lakes Food Market"
                                },
                                {
                                    "KundenNr": "33",
                                    "Firma": "GROSELLA-Restaurante"
                                },
                                {
                                    "KundenNr": "34",
                                    "Firma": "Hanari Carnes"
                                },
                                {
                                    "KundenNr": "35",
                                    "Firma": "HILARIÓN-Abastos"
                                },
                                {
                                    "KundenNr": "36",
                                    "Firma": "Hungry Coyote Import Store"
                                },
                                {
                                    "KundenNr": "37",
                                    "Firma": "Hungry Owl All-Night Grocers"
                                },
                                {
                                    "KundenNr": "38",
                                    "Firma": "Island Trading"
                                },
                                {
                                    "KundenNr": "39",
                                    "Firma": "Königlich Essen"
                                },
                                {
                                    "KundenNr": "40",
                                    "Firma": "La corne d'abondance"
                                },
                                {
                                    "KundenNr": "41",
                                    "Firma": "La maison d'Asie"
                                },
                                {
                                    "KundenNr": "42",
                                    "Firma": "Laughing Bacchus Wine Cellars"
                                },
                                {
                                    "KundenNr": "43",
                                    "Firma": "Lazy K Kountry Store"
                                },
                                {
                                    "KundenNr": "44",
                                    "Firma": "Lehmanns Marktstand"
                                },
                                {
                                    "KundenNr": "45",
                                    "Firma": "Let's Stop N Shop"
                                },
                                {
                                    "KundenNr": "46",
                                    "Firma": "LILA-Supermercado"
                                },
                                {
                                    "KundenNr": "47",
                                    "Firma": "LINO-Delicateses"
                                },
                                {
                                    "KundenNr": "48",
                                    "Firma": "Lonesome Pine Restaurant"
                                },
                                {
                                    "KundenNr": "49",
                                    "Firma": "Magazzini Alimentari Riuniti"
                                },
                                {
                                    "KundenNr": "50",
                                    "Firma": "Maison Dewey"
                                },
                                {
                                    "KundenNr": "51",
                                    "Firma": "Mère Paillarde"
                                },
                                {
                                    "KundenNr": "52",
                                    "Firma": "Morgenstern Gesundkost"
                                },
                                {
                                    "KundenNr": "53",
                                    "Firma": "North/South"
                                },
                                {
                                    "KundenNr": "54",
                                    "Firma": "Océano Atlántico Ltda."
                                },
                                {
                                    "KundenNr": "55",
                                    "Firma": "Old World Delicatessen"
                                },
                                {
                                    "KundenNr": "56",
                                    "Firma": "Ottilies Käseladen"
                                },
                                {
                                    "KundenNr": "57",
                                    "Firma": "Paris spécialités"
                                },
                                {
                                    "KundenNr": "58",
                                    "Firma": "Pericles Comidas clásicas"
                                },
                                {
                                    "KundenNr": "59",
                                    "Firma": "Piccolo und mehr"
                                },
                                {
                                    "KundenNr": "60",
                                    "Firma": "Princesa Isabel Vinhos"
                                },
                                {
                                    "KundenNr": "61",
                                    "Firma": "Que Delícia"
                                },
                                {
                                    "KundenNr": "62",
                                    "Firma": "Queen Cozinha"
                                },
                                {
                                    "KundenNr": "63",
                                    "Firma": "QUICK-Stop"
                                },
                                {
                                    "KundenNr": "64",
                                    "Firma": "Rancho grande"
                                },
                                {
                                    "KundenNr": "65",
                                    "Firma": "Rattlesnake Canyon Grocery"
                                },
                                {
                                    "KundenNr": "66",
                                    "Firma": "Reggiani Caseifici"
                                },
                                {
                                    "KundenNr": "67",
                                    "Firma": "Ricardo Adocicados"
                                },
                                {
                                    "KundenNr": "68",
                                    "Firma": "Richter Supermarkt"
                                },
                                {
                                    "KundenNr": "69",
                                    "Firma": "Romero y tomillo"
                                },
                                {
                                    "KundenNr": "70",
                                    "Firma": "Santé Gourmet"
                                },
                                {
                                    "KundenNr": "71",
                                    "Firma": "Save-a-lot Markets"
                                },
                                {
                                    "KundenNr": "72",
                                    "Firma": "Seven Seas Imports"
                                },
                                {
                                    "KundenNr": "73",
                                    "Firma": "Simons bistro"
                                },
                                {
                                    "KundenNr": "74",
                                    "Firma": "Spécialités du monde"
                                },
                                {
                                    "KundenNr": "75",
                                    "Firma": "Split Rail Beer & Ale"
                                },
                                {
                                    "KundenNr": "76",
                                    "Firma": "Suprêmes délices"
                                },
                                {
                                    "KundenNr": "77",
                                    "Firma": "The Big Cheese"
                                },
                                {
                                    "KundenNr": "78",
                                    "Firma": "The Cracker Box"
                                },
                                {
                                    "KundenNr": "79",
                                    "Firma": "Toms Spezialitäten"
                                },
                                {
                                    "KundenNr": "80",
                                    "Firma": "Tortuga Restaurante"
                                },
                                {
                                    "KundenNr": "81",
                                    "Firma": "Tradição Hipermercados"
                                },
                                {
                                    "KundenNr": "82",
                                    "Firma": "Trail's Head Gourmet Provisioners"
                                },
                                {
                                    "KundenNr": "83",
                                    "Firma": "Vaffeljernet"
                                },
                                {
                                    "KundenNr": "84",
                                    "Firma": "Victuailles en stock"
                                },
                                {
                                    "KundenNr": "85",
                                    "Firma": "Vins et alcools Chevalier"
                                },
                                {
                                    "KundenNr": "86",
                                    "Firma": "Die Wandernde Kuh"
                                },
                                {
                                    "KundenNr": "87",
                                    "Firma": "Wartian Herkku"
                                },
                                {
                                    "KundenNr": "88",
                                    "Firma": "Wellington Importadora"
                                },
                                {
                                    "KundenNr": "89",
                                    "Firma": "White Clover Markets"
                                },
                                {
                                    "KundenNr": "90",
                                    "Firma": "Wilman Kala"
                                },
                                {
                                    "KundenNr": "91",
                                    "Firma": "Wolski  Zajazd"
                                },
                                {
                                    "KundenNr": "92",
                                    "Firma": "IAD GmbH"
                                }
                            ]
                        },
                        "text/html": [
                            "<table>",
                            "<tr><th>KundenNr</th><th>Firma</th></tr>",
                            "<tr><td>1</td><td>Alfreds Futterkiste</td></tr>",
                            "<tr><td>2</td><td>Ana Trujillo Emparedados y helados</td></tr>",
                            "<tr><td>3</td><td>Antonio Moreno Taquería</td></tr>",
                            "<tr><td>4</td><td>Around the Horn</td></tr>",
                            "<tr><td>5</td><td>Berglunds snabbköp</td></tr>",
                            "<tr><td>6</td><td>Blauer See Delikatessen</td></tr>",
                            "<tr><td>7</td><td>Blondel père et fils</td></tr>",
                            "<tr><td>8</td><td>Bólido Comidas preparadas</td></tr>",
                            "<tr><td>9</td><td>Bon app&#39;</td></tr>",
                            "<tr><td>10</td><td>Bottom-Dollar Markets</td></tr>",
                            "<tr><td>11</td><td>B&#39;s Beverages</td></tr>",
                            "<tr><td>12</td><td>Cactus Comidas para llevar</td></tr>",
                            "<tr><td>13</td><td>Centro comercial Moctezuma</td></tr>",
                            "<tr><td>14</td><td>Chop-suey Chinese</td></tr>",
                            "<tr><td>15</td><td>Comércio Mineiro</td></tr>",
                            "<tr><td>16</td><td>Consolidated Holdings</td></tr>",
                            "<tr><td>17</td><td>Drachenblut Delikatessen</td></tr>",
                            "<tr><td>18</td><td>Du monde entier</td></tr>",
                            "<tr><td>19</td><td>Eastern Connection</td></tr>",
                            "<tr><td>20</td><td>Ernst Handel</td></tr>",
                            "<tr><td>21</td><td>Familia Arquibaldo</td></tr>",
                            "<tr><td>22</td><td>FISSA Fabrica Inter. Salchichas S.A.</td></tr>",
                            "<tr><td>23</td><td>Folies gourmandes</td></tr>",
                            "<tr><td>24</td><td>Folk och fä HB</td></tr>",
                            "<tr><td>25</td><td>Frankenversand</td></tr>",
                            "<tr><td>26</td><td>France restauration</td></tr>",
                            "<tr><td>27</td><td>Franchi S.p.A.</td></tr>",
                            "<tr><td>28</td><td>Furia Bacalhau e Frutos do Mar</td></tr>",
                            "<tr><td>29</td><td>Galería del gastrónomo</td></tr>",
                            "<tr><td>30</td><td>Godos Cocina Típica</td></tr>",
                            "<tr><td>31</td><td>Gourmet Lanchonetes</td></tr>",
                            "<tr><td>32</td><td>Great Lakes Food Market</td></tr>",
                            "<tr><td>33</td><td>GROSELLA-Restaurante</td></tr>",
                            "<tr><td>34</td><td>Hanari Carnes</td></tr>",
                            "<tr><td>35</td><td>HILARIÓN-Abastos</td></tr>",
                            "<tr><td>36</td><td>Hungry Coyote Import Store</td></tr>",
                            "<tr><td>37</td><td>Hungry Owl All-Night Grocers</td></tr>",
                            "<tr><td>38</td><td>Island Trading</td></tr>",
                            "<tr><td>39</td><td>Königlich Essen</td></tr>",
                            "<tr><td>40</td><td>La corne d&#39;abondance</td></tr>",
                            "<tr><td>41</td><td>La maison d&#39;Asie</td></tr>",
                            "<tr><td>42</td><td>Laughing Bacchus Wine Cellars</td></tr>",
                            "<tr><td>43</td><td>Lazy K Kountry Store</td></tr>",
                            "<tr><td>44</td><td>Lehmanns Marktstand</td></tr>",
                            "<tr><td>45</td><td>Let&#39;s Stop N Shop</td></tr>",
                            "<tr><td>46</td><td>LILA-Supermercado</td></tr>",
                            "<tr><td>47</td><td>LINO-Delicateses</td></tr>",
                            "<tr><td>48</td><td>Lonesome Pine Restaurant</td></tr>",
                            "<tr><td>49</td><td>Magazzini Alimentari Riuniti</td></tr>",
                            "<tr><td>50</td><td>Maison Dewey</td></tr>",
                            "<tr><td>51</td><td>Mère Paillarde</td></tr>",
                            "<tr><td>52</td><td>Morgenstern Gesundkost</td></tr>",
                            "<tr><td>53</td><td>North/South</td></tr>",
                            "<tr><td>54</td><td>Océano Atlántico Ltda.</td></tr>",
                            "<tr><td>55</td><td>Old World Delicatessen</td></tr>",
                            "<tr><td>56</td><td>Ottilies Käseladen</td></tr>",
                            "<tr><td>57</td><td>Paris spécialités</td></tr>",
                            "<tr><td>58</td><td>Pericles Comidas clásicas</td></tr>",
                            "<tr><td>59</td><td>Piccolo und mehr</td></tr>",
                            "<tr><td>60</td><td>Princesa Isabel Vinhos</td></tr>",
                            "<tr><td>61</td><td>Que Delícia</td></tr>",
                            "<tr><td>62</td><td>Queen Cozinha</td></tr>",
                            "<tr><td>63</td><td>QUICK-Stop</td></tr>",
                            "<tr><td>64</td><td>Rancho grande</td></tr>",
                            "<tr><td>65</td><td>Rattlesnake Canyon Grocery</td></tr>",
                            "<tr><td>66</td><td>Reggiani Caseifici</td></tr>",
                            "<tr><td>67</td><td>Ricardo Adocicados</td></tr>",
                            "<tr><td>68</td><td>Richter Supermarkt</td></tr>",
                            "<tr><td>69</td><td>Romero y tomillo</td></tr>",
                            "<tr><td>70</td><td>Santé Gourmet</td></tr>",
                            "<tr><td>71</td><td>Save-a-lot Markets</td></tr>",
                            "<tr><td>72</td><td>Seven Seas Imports</td></tr>",
                            "<tr><td>73</td><td>Simons bistro</td></tr>",
                            "<tr><td>74</td><td>Spécialités du monde</td></tr>",
                            "<tr><td>75</td><td>Split Rail Beer &amp; Ale</td></tr>",
                            "<tr><td>76</td><td>Suprêmes délices</td></tr>",
                            "<tr><td>77</td><td>The Big Cheese</td></tr>",
                            "<tr><td>78</td><td>The Cracker Box</td></tr>",
                            "<tr><td>79</td><td>Toms Spezialitäten</td></tr>",
                            "<tr><td>80</td><td>Tortuga Restaurante</td></tr>",
                            "<tr><td>81</td><td>Tradição Hipermercados</td></tr>",
                            "<tr><td>82</td><td>Trail&#39;s Head Gourmet Provisioners</td></tr>",
                            "<tr><td>83</td><td>Vaffeljernet</td></tr>",
                            "<tr><td>84</td><td>Victuailles en stock</td></tr>",
                            "<tr><td>85</td><td>Vins et alcools Chevalier</td></tr>",
                            "<tr><td>86</td><td>Die Wandernde Kuh</td></tr>",
                            "<tr><td>87</td><td>Wartian Herkku</td></tr>",
                            "<tr><td>88</td><td>Wellington Importadora</td></tr>",
                            "<tr><td>89</td><td>White Clover Markets</td></tr>",
                            "<tr><td>90</td><td>Wilman Kala</td></tr>",
                            "<tr><td>91</td><td>Wolski  Zajazd</td></tr>",
                            "<tr><td>92</td><td>IAD GmbH</td></tr>",
                            "</table>"
                        ]
                    }
                }
            ],
            "execution_count": 1
        },
        {
            "cell_type": "code",
            "source": [
                "-- WHERE Klausel\r\n",
                "SELECT KundenNr, Firma\r\n",
                "FROM Kunde\r\n",
                "WHERE Land = 'Frankreich';"
            ],
            "metadata": {
                "language": "sql",
                "azdata_cell_guid": "8d2b2c5f-babe-4695-b20d-c97a756a74c8"
            },
            "outputs": [
{
    "output_type": "display_data",
    "data": {
        "text/html": "(11 rows affected)"
    },
    "metadata": {}
}, {
    "output_type": "display_data",
    "data": {
        "text/html": "Total execution time: 00:00:00.034"
    },
    "metadata": {}
}, {
    "output_type": "execute_result",
    "metadata": {},
    "execution_count": 2,
    "data": {
        "application/vnd.dataresource+json": {
            "schema": {
                "fields": [
                    {
                        "name": "KundenNr"
                    },
                    {
                        "name": "Firma"
                    }
                ]
            },
            "data": [
                {
                    "KundenNr": "7",
                    "Firma": "Blondel père et fils"
                },
                {
                    "KundenNr": "9",
                    "Firma": "Bon app'"
                },
                {
                    "KundenNr": "18",
                    "Firma": "Du monde entier"
                },
                {
                    "KundenNr": "23",
                    "Firma": "Folies gourmandes"
                },
                {
                    "KundenNr": "26",
                    "Firma": "France restauration"
                },
                {
                    "KundenNr": "40",
                    "Firma": "La corne d'abondance"
                },
                {
                    "KundenNr": "41",
                    "Firma": "La maison d'Asie"
                },
                {
                    "KundenNr": "57",
                    "Firma": "Paris spécialités"
                },
                {
                    "KundenNr": "74",
                    "Firma": "Spécialités du monde"
                },
                {
                    "KundenNr": "84",
                    "Firma": "Victuailles en stock"
                },
                {
                    "KundenNr": "85",
                    "Firma": "Vins et alcools Chevalier"
                }
            ]
        },
        "text/html": [
            "<table>",
            "<tr><th>KundenNr</th><th>Firma</th></tr>",
            "<tr><td>7</td><td>Blondel père et fils</td></tr>",
            "<tr><td>9</td><td>Bon app&#39;</td></tr>",
            "<tr><td>18</td><td>Du monde entier</td></tr>",
            "<tr><td>23</td><td>Folies gourmandes</td></tr>",
            "<tr><td>26</td><td>France restauration</td></tr>",
            "<tr><td>40</td><td>La corne d&#39;abondance</td></tr>",
            "<tr><td>41</td><td>La maison d&#39;Asie</td></tr>",
            "<tr><td>57</td><td>Paris spécialités</td></tr>",
            "<tr><td>74</td><td>Spécialités du monde</td></tr>",
            "<tr><td>84</td><td>Victuailles en stock</td></tr>",
            "<tr><td>85</td><td>Vins et alcools Chevalier</td></tr>",
            "</table>"
        ]
    }
}
],
            "execution_count": 2
        },
        {
            "cell_type": "code",
            "source": [
                "-- GROUP BY Klausel wegen einer Aggregatfunktion\r\n",
                "SELECT Land, COUNT(KundenNr) AS [Anzahl Kunden]\r\n",
                "FROM Kunde\r\n",
                "GROUP BY Land;"
            ],
            "metadata": {
                "language": "sql",
                "azdata_cell_guid": "ecc91837-72ea-404f-878c-3b7f929c1676"
            },
            "outputs": [],
            "execution_count": null
        },
        {
            "cell_type": "code",
            "source": [
                "-- HAVING-Klausel zum Filtern des Aggregatergebnisses\r\n",
                "SELECT Land, COUNT(KundenNr) AS [Anzahl Kunden]\r\n",
                "FROM Kunde\r\n",
                "GROUP BY Land\r\n",
                "HAVING COUNT(KundenNr) > 10;\r\n",
                ""
            ],
            "metadata": {
                "language": "sql",
                "azdata_cell_guid": "0610c834-0e9f-4af2-8650-e3ce76120088"
            },
            "outputs": [],
            "execution_count": null
        },
        {
            "cell_type": "code",
            "source": [
                "-- ORDER BY zum Sortieren der Ausgabe, mit alternativen Angaben der Sortierspalte\r\n",
                "-- ASC ascending, aufsteigend ist Default! | DESC descending, absteigend\r\n",
                "SELECT Land, COUNT(KundenNr) AS [Anzahl Kunden]\r\n",
                "FROM Kunde\r\n",
                "GROUP BY Land\r\n",
                "HAVING COUNT(KundenNr) > 10\r\n",
                "ORDER BY [Anzahl Kunden] DESC;\r\n",
                "-- ORDER BY 2 DESC;\r\n",
                "-- ORDER BY COUNT(KundenNR) DESC;"
            ],
            "metadata": {
                "language": "sql",
                "azdata_cell_guid": "c0c30f16-ff15-4ee6-a757-18c5bd2aa1e4"
            },
            "outputs": [],
            "execution_count": null
        },
        {
            "cell_type": "code",
            "source": [
                "-- DISTINCT: Doppelte Werte nicht anzeigen\r\n",
                "SELECT DISTINCT Land\r\n",
                "FROM Kunde;"
            ],
            "metadata": {
                "language": "sql",
                "azdata_cell_guid": "c40a62ed-bb68-46b6-bc41-e5bb6f8bdc63"
            },
            "outputs": [],
            "execution_count": null
        },
        {
            "cell_type": "code",
            "source": [
                "-- WITH Klausel zum Voranstellen einer Unterabfrage\r\n",
                "WITH Unterabfrage AS (\r\n",
                "    SELECT Land, COUNT(KundenNr) AS [Anzahl Kunden]\r\n",
                "    FROM Kunde\r\n",
                "    GROUP BY Land\r\n",
                ")\r\n",
                "SELECT MIN([Anzahl Kunden]) AS [Kleinste Anzahl Kunden je Land]\r\n",
                "    , MAX([Anzahl Kunden]) AS [Größte Anzahl Kunden je Land]\r\n",
                "    , AVG([Anzahl Kunden]) AS [Mittlere Anzahl Kunden je Land]\r\n",
                "    , SUM([Anzahl Kunden]) AS [Gesamtanzahl aller Kunden]\r\n",
                "FROM Unterabfrage;"
            ],
            "metadata": {
                "language": "sql",
                "azdata_cell_guid": "d35031b0-5f50-4a8f-bfc4-49fed8526e28"
            },
            "outputs": [],
            "execution_count": null
        }
    ]
}