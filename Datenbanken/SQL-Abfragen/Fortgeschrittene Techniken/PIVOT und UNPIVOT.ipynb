{
    "metadata": {
        "kernelspec": {
            "name": "SQL",
            "display_name": "SQL",
            "language": "sql"
        },
        "language_info": {
            "name": "sql",
            "version": ""
        }
    },
    "nbformat_minor": 2,
    "nbformat": 4,
    "cells": [
        {
            "cell_type": "markdown",
            "source": [
                "# PIVOT und UNPIVOT\n",
                "\n",
                "PIVOT Tabellen fassen Daten übersichtlich zusammen. Sie haben das Werkzeug wahrscheinlich schon einmal in Excel kennengelernt.\n",
                "\n",
                "Die Tabelle PivotDaten in der SQL\\_Seminar Datenbank zeigt Ihnen das Ergebnis einer Pivot-Anweisung in T-SQL."
            ],
            "metadata": {
                "azdata_cell_guid": "41ab1ac4-2f0f-4f77-8c5a-aeb63dc2dc5c"
            },
            "attachments": {}
        },
        {
            "cell_type": "code",
            "source": [
                "-- Rohdaten für PIVOT Demo in Excel\r\n",
                "SELECT k.Kategorie\r\n",
                ", b.BestellungID\r\n",
                ", b.Bestelldatum \r\n",
                ", CAST(d.Verkaufspreis * d.Menge AS money) AS Umsatz \r\n",
                "FROM Produktkategorie AS k\r\n",
                "JOIN Produkt AS p ON k.KategorieID = p.KategorieID\r\n",
                "JOIN BestellDetail AS d ON p.ProduktID = d.ProduktID\r\n",
                "JOIN Bestellung AS b ON d.BestellungID = b.BestellungID;"
            ],
            "metadata": {
                "azdata_cell_guid": "6cc51504-e6b2-47f3-9ae1-32c2faaf5745",
                "language": "sql"
            },
            "outputs": [],
            "execution_count": null
        },
        {
            "cell_type": "code",
            "source": [
                "-- Rohdaten für PIVOT Abfrage\r\n",
                "-- Die einzelnen Umsätze werden ohne Aggregation ausgegeben (KEINE Summe!)\r\n",
                "SELECT k.Kategorie\r\n",
                "    , YEAR(b.Bestelldatum) AS Jahr\r\n",
                "    , CAST(d.Verkaufspreis * d.Menge AS money) AS Umsatz \r\n",
                "FROM Produktkategorie AS k\r\n",
                "JOIN Produkt AS p ON k.KategorieID = p.KategorieID\r\n",
                "JOIN BestellDetail AS d ON p.ProduktID = d.ProduktID\r\n",
                "JOIN Bestellung AS b ON d.BestellungID = b.BestellungID"
            ],
            "metadata": {
                "language": "sql",
                "azdata_cell_guid": "dc7138c6-ad9b-4371-9254-43f3d37b6d67"
            },
            "outputs": [],
            "execution_count": null
        },
        {
            "cell_type": "code",
            "source": [
                "-- Pivot mit Umsatzdaten in einer vorangestellten Unterabfrage\r\n",
                "WITH Umsatzdaten AS \r\n",
                "(\r\n",
                "  SELECT k.Kategorie\r\n",
                "    , YEAR(b.Bestelldatum) AS Jahr\r\n",
                "    , CAST(d.Verkaufspreis * d.Menge AS money) AS Umsatz \r\n",
                "  FROM Produktkategorie AS k\r\n",
                "  JOIN Produkt AS p ON k.KategorieID = p.KategorieID\r\n",
                "  JOIN BestellDetail AS d ON p.ProduktID = d.ProduktID\r\n",
                "  JOIN Bestellung AS b ON d.BestellungID = b.BestellungID\r\n",
                ")\r\n",
                "SELECT [Kategorie], [2016], [2017], [2018]\r\n",
                "FROM Umsatzdaten\r\n",
                "PIVOT \r\n",
                "(\r\n",
                "\tSUM(Umsatz) FOR Jahr IN ([2016], [2017], [2018])\r\n",
                ") AS pt\r\n",
                "ORDER BY Kategorie;"
            ],
            "metadata": {
                "language": "sql",
                "azdata_cell_guid": "82482737-be06-49f0-a042-c219bd7cfda6"
            },
            "outputs": [],
            "execution_count": null
        },
        {
            "cell_type": "code",
            "source": [
                "-- Pivot mit Umsatzdaten in einer Unterabfrage in der FROM-Klausel\r\n",
                "SELECT [Kategorie], [2016], [2017], [2018]\r\n",
                "FROM (\r\n",
                "  SELECT k.Kategorie\r\n",
                "    , YEAR(b.Bestelldatum) AS Jahr\r\n",
                "    , CAST(d.Verkaufspreis * d.Menge AS money) AS Umsatz \r\n",
                "  FROM Produktkategorie AS k\r\n",
                "  JOIN Produkt AS p ON k.KategorieID = p.KategorieID\r\n",
                "  JOIN BestellDetail AS d ON p.ProduktID = d.ProduktID\r\n",
                "  JOIN Bestellung AS b ON d.BestellungID = b.BestellungID\r\n",
                ") AS Umsatzdaten\r\n",
                "PIVOT \r\n",
                "(\r\n",
                "\tSUM(Umsatz) FOR Jahr IN ([2016], [2017], [2018])\r\n",
                ") AS pt -- Alias\r\n",
                "ORDER BY Kategorie;"
            ],
            "metadata": {
                "language": "sql",
                "azdata_cell_guid": "ed2d9c99-f1c1-4802-a826-cb5da9ad4c85"
            },
            "outputs": [],
            "execution_count": null
        },
        {
            "cell_type": "code",
            "source": [
                "-- Ersetzen von NULL in der Ausgabe\r\n",
                "WITH Umsatzdaten AS \r\n",
                "(\r\n",
                "  SELECT k.Kategorie\r\n",
                "    , YEAR(b.Bestelldatum) AS Jahr\r\n",
                "    , CAST(d.Verkaufspreis * d.Menge AS money) AS Umsatz \r\n",
                "  FROM Produktkategorie AS k\r\n",
                "  JOIN Produkt AS p ON k.KategorieID = p.KategorieID\r\n",
                "  JOIN BestellDetail AS d ON p.ProduktID = d.ProduktID\r\n",
                "  JOIN Bestellung AS b ON d.BestellungID = b.BestellungID\r\n",
                ")\r\n",
                "SELECT [Kategorie]\r\n",
                "  , COALESCE([2016], 0) AS [2016]\r\n",
                "  , COALESCE([2017], 0) AS [2017]\r\n",
                "  , COALESCE([2018], 0) AS [2018]\r\n",
                "  , COALESCE([2019], 0) AS [2019]\r\n",
                "  , COALESCE([2020], 0) AS [2020]\r\n",
                "FROM Umsatzdaten\r\n",
                "PIVOT \r\n",
                "(\r\n",
                "\tSUM(Umsatz) FOR Jahr IN ([2016], [2017], [2018], [2019], [2020])\r\n",
                ") AS pt -- Alias\r\n",
                "ORDER BY Kategorie;"
            ],
            "metadata": {
                "language": "sql",
                "azdata_cell_guid": "7f7a567c-8fa2-4de6-8f5b-817a8908530e"
            },
            "outputs": [],
            "execution_count": null
        },
        {
            "cell_type": "code",
            "source": [
                "-- Ansicht der gleichen Daten mit vertauschten Spalten und Zeilen\r\n",
                "WITH Umsatzdaten AS (\r\n",
                "  SELECT k.Kategorie\r\n",
                "    , YEAR(b.Bestelldatum) AS Jahr\r\n",
                "    , CAST(d.Verkaufspreis * d.Menge AS money) AS Umsatz \r\n",
                "  FROM Produktkategorie AS k\r\n",
                "  JOIN Produkt AS p ON k.KategorieID = p.KategorieID\r\n",
                "  JOIN BestellDetail AS d ON p.ProduktID = d.ProduktID\r\n",
                "  JOIN Bestellung AS b ON d.BestellungID = b.BestellungID\r\n",
                ")\r\n",
                "SELECT [Jahr], [Fleischprodukte],[Getränke],[Getreideprodukte],[Gewürze],[Meeresfrüchte],[Milchprodukte],[Naturprodukte],[Süßwaren]\r\n",
                "FROM Umsatzdaten\r\n",
                "PIVOT (SUM(Umsatz) FOR Kategorie IN([Fleischprodukte],[Getränke],[Getreideprodukte],[Gewürze],[Meeresfrüchte],[Milchprodukte],[Naturprodukte],[Süßwaren])) AS pt\r\n",
                "ORDER BY Jahr;"
            ],
            "metadata": {
                "language": "sql",
                "azdata_cell_guid": "5968662c-536a-45cb-8689-053830cf9c6a"
            },
            "outputs": [],
            "execution_count": null
        },
        {
            "cell_type": "code",
            "source": [
                "-- UNPIVOT Vorbereiten\r\n",
                "DROP TABLE IF EXISTS PivotDaten;\r\n",
                "GO\r\n",
                "\r\n",
                "WITH Umsatzdaten AS (\r\n",
                "  SELECT k.Kategorie\r\n",
                "    , YEAR(b.Bestelldatum) AS Jahr\r\n",
                "    , CAST(d.Verkaufspreis * d.Menge AS money) AS Umsatz \r\n",
                "  FROM Produktkategorie AS k\r\n",
                "  JOIN Produkt AS p ON k.KategorieID = p.KategorieID\r\n",
                "  JOIN BestellDetail AS d ON p.ProduktID = d.ProduktID\r\n",
                "  JOIN Bestellung AS b ON d.BestellungID = b.BestellungID\r\n",
                ")\r\n",
                "SELECT [Kategorie], [2016], [2017], [2018]\r\n",
                "INTO PivotDaten\r\n",
                "FROM Umsatzdaten\r\n",
                "PIVOT (SUM(Umsatz) FOR Jahr IN([2016], [2017], [2018])) AS pt\r\n",
                "ORDER BY Kategorie;\r\n",
                "\r\n",
                "SELECT * FROM PivotDaten;"
            ],
            "metadata": {
                "language": "sql",
                "azdata_cell_guid": "30f8f9d4-d696-411e-af90-121ea30ac313",
                "tags": []
            },
            "outputs": [],
            "execution_count": null
        },
        {
            "cell_type": "code",
            "source": [
                "-- UNPIVOT\r\n",
                "SELECT Kategorie, Jahr, Umsatz\r\n",
                "FROM ( \r\n",
                "  SELECT Kategorie, [2016], [2017], [2018] FROM PivotDaten\r\n",
                "  ) AS pvt\r\n",
                "UNPIVOT (\r\n",
                "  Umsatz FOR Jahr IN ([2016], [2017], [2018])\r\n",
                ") AS unpvt;"
            ],
            "metadata": {
                "language": "sql",
                "azdata_cell_guid": "27a74173-9131-487b-9517-de8807842ede",
                "tags": []
            },
            "outputs": [],
            "execution_count": null
        }
    ]
}