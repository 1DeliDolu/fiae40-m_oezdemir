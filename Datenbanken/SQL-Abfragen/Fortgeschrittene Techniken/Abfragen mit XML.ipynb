{
    "metadata": {
        "kernelspec": {
            "name": "SQL",
            "display_name": "SQL",
            "language": "sql"
        },
        "language_info": {
            "name": "sql",
            "version": ""
        }
    },
    "nbformat_minor": 2,
    "nbformat": 4,
    "cells": [
        {
            "cell_type": "markdown",
            "source": [
                "# Abfragen zur Ausgabe relationaler Daten als XML\n",
                "\n",
                "[Basic syntax of the FOR XML clause](https:\\learn.microsoft.com\\en-us\\sql\\relational-databases\\xml\\basic-syntax-of-the-for-xml-clause?view=sql-server-ver16)"
            ],
            "metadata": {
                "language": "sql",
                "azdata_cell_guid": "aaf5c2c8-f1a4-4cde-bcf8-4b30c040c379"
            },
            "attachments": {}
        },
        {
            "cell_type": "markdown",
            "source": [
                "## FOR XML RAW\n",
                "\n",
                "Ergebnis: KundenBestellungen-Bsp1.xml"
            ],
            "metadata": {
                "language": "sql",
                "azdata_cell_guid": "375715e0-d8ba-4015-ae1c-cb8ee88d937a"
            },
            "attachments": {}
        },
        {
            "cell_type": "code",
            "source": [
                "-- RAW macht Elemente für Zeilen und XML-Attribute für Spalten\r\n",
                "SELECT Kunde.KundenNr, Firma, Bestelldatum, CAST(SUM(Menge * Verkaufspreis) AS DECIMAL(9,2)) AS Rechnungsbetrag\r\n",
                "FROM Kunde\r\n",
                "JOIN Bestellung ON Kunde.KundenNr = Bestellung.KundenNr\r\n",
                "JOIN BestellDetail ON Bestellung.BestellungID = BestellDetail.BestellungID\r\n",
                "WHERE Kunde.KundenNr <= 3\r\n",
                "AND YEAR(Bestelldatum) = 2018\r\n",
                "GROUP BY Kunde.KundenNr, Firma, Bestelldatum\r\n",
                "ORDER BY Kunde.KundenNr, Bestelldatum\r\n",
                "FOR XML RAW, ROOT('KundenBestellungen');"
            ],
            "metadata": {
                "language": "sql",
                "azdata_cell_guid": "49e55611-60b9-4da2-8e26-f2dcebb91beb"
            },
            "outputs": [],
            "execution_count": null
        },
        {
            "cell_type": "markdown",
            "source": [
                "## FOR XML AUTO\n",
                "\n",
                "Ergebnis: KundenBestellungen-Bsp2.xml"
            ],
            "metadata": {
                "language": "sql",
                "azdata_cell_guid": "182fb218-2788-4d41-999d-4a21167574bf"
            },
            "attachments": {}
        },
        {
            "cell_type": "code",
            "source": [
                "-- FOR XML AUTO erstellt Elemente je Tabelle\r\n",
                "-- und XML-Attribute für Spalten, entsprechend verschachtelt\r\n",
                "SELECT Kunde.KundenNr, Firma, Bestelldatum, CAST(SUM(Menge * Verkaufspreis)AS DECIMAL(9,2)) AS Rechnungsbetrag\r\n",
                "FROM Kunde\r\n",
                "JOIN Bestellung ON Kunde.KundenNr = Bestellung.KundenNr\r\n",
                "JOIN BestellDetail ON Bestellung.BestellungID = BestellDetail.BestellungID\r\n",
                "WHERE Kunde.KundenNr <= 3\r\n",
                "AND YEAR(Bestelldatum) = 2018\r\n",
                "GROUP BY Kunde.KundenNr, Firma, Bestelldatum\r\n",
                "ORDER BY Kunde.KundenNr, Bestelldatum\r\n",
                "FOR XML AUTO, ROOT('KundenBestellungen');"
            ],
            "metadata": {
                "azdata_cell_guid": "034bdf8b-e722-4037-a8a2-c749d72a2827",
                "language": "sql"
            },
            "outputs": [],
            "execution_count": null
        },
        {
            "cell_type": "markdown",
            "source": [
                "## FOR XML AUTO, ELEMENTS\n",
                "\n",
                "Ergebnis: KundenBestellungen-Bsp3.xml"
            ],
            "metadata": {
                "language": "sql",
                "azdata_cell_guid": "f4873932-1dbf-4c94-b43b-432065adf786"
            },
            "attachments": {}
        },
        {
            "cell_type": "code",
            "source": [
                "-- Version mit Elementen für alles\r\n",
                "SELECT Kunde.KundenNr, Firma, Bestelldatum\r\n",
                "    , CAST(SUM(Menge * Verkaufspreis) AS DECIMAL(9,2)) AS Rechnungsbetrag\r\n",
                "FROM Kunde\r\n",
                "JOIN Bestellung ON Kunde.KundenNr = Bestellung.KundenNr\r\n",
                "JOIN BestellDetail ON Bestellung.BestellungID = BestellDetail.BestellungID\r\n",
                "WHERE Kunde.KundenNr <= 3\r\n",
                "AND YEAR(Bestelldatum) = 2018\r\n",
                "GROUP BY Kunde.KundenNr, Firma, Bestelldatum\r\n",
                "ORDER BY Kunde.KundenNr, Bestelldatum\r\n",
                "FOR XML AUTO, ELEMENTS, ROOT('KundenBestellungen');"
            ],
            "metadata": {
                "language": "sql",
                "azdata_cell_guid": "fc26de30-205d-45fb-8225-0aec57b7821a"
            },
            "outputs": [],
            "execution_count": null
        },
        {
            "cell_type": "markdown",
            "source": [
                "## FOR XML PATH für flexible Mischung von XML-Elementen und Attributen\n",
                "\n",
                "Ergebnis: KundenBestellungen-Bsp4.xml"
            ],
            "metadata": {
                "language": "sql",
                "azdata_cell_guid": "83e5a8bf-ef28-4d04-b1e8-ca832f25cde8"
            },
            "attachments": {}
        },
        {
            "cell_type": "code",
            "source": [
                "-- FOR XML PATH zur Mischung von XML-Elementen und Attributen\r\n",
                "SELECT Kunde.KundenNr AS \"@KundenNr\", Firma, Bestelldatum AS \"Bestellung/@Bestelldatum\"\r\n",
                "    , CAST(SUM(Menge * Verkaufspreis) AS DECIMAL(9,2)) AS \"Bestellung/@Rechnungsbetrag\"\r\n",
                "FROM Kunde\r\n",
                "JOIN Bestellung ON Kunde.KundenNr = Bestellung.KundenNr\r\n",
                "JOIN BestellDetail ON Bestellung.BestellungID = BestellDetail.BestellungID\r\n",
                "WHERE Kunde.KundenNr <= 3\r\n",
                "AND YEAR(Bestelldatum) = 2018\r\n",
                "GROUP BY Kunde.KundenNr, Firma, Bestelldatum\r\n",
                "ORDER BY Kunde.KundenNr, Bestelldatum\r\n",
                "FOR XML PATH('Kunde'), ROOT('KundenBestellungen');"
            ],
            "metadata": {
                "language": "sql",
                "azdata_cell_guid": "ed3c137c-8a91-4e89-bc29-7a18fcfb4eba"
            },
            "outputs": [],
            "execution_count": null
        },
        {
            "cell_type": "code",
            "source": [
                "-- BAUSTELLE: Ausgabe der Unterabfragen noch nicht gelöst\r\n",
                "SELECT Kunde.KundenNr, Kunde.Firma\r\n",
                "    , (\r\n",
                "        SELECT Bestelldatum\r\n",
                "            , CAST(SUM(Menge * Verkaufspreis) AS DECIMAL(9,2)) AS Rechnungssumme\r\n",
                "            , (\r\n",
                "               SELECT Produkt, Menge, CAST(Verkaufspreis AS DECIMAL(9,2)) AS Verkaufspreis\r\n",
                "               FROM Produkt\r\n",
                "               JOIN BestellDetail AS Details ON Produkt.ProduktID = Details.ProduktID\r\n",
                "               AND Details.BestellungID = Bestellung.BestellungID \r\n",
                "               FOR XML AUTO, TYPE\r\n",
                "            ) AS Positionen\r\n",
                "        FROM Bestellung \r\n",
                "        JOIN BestellDetail ON Bestellung.BestellungID = BestellDetail.BestellungID\r\n",
                "        WHERE Kunde.KundenNr = Bestellung.KundenNr\r\n",
                "        AND YEAR(Bestelldatum) = 2018\r\n",
                "        GROUP BY Bestellung.BestellungID, Bestelldatum\r\n",
                "        FOR XML AUTO, TYPE\r\n",
                "     ) AS Bestellungen\r\n",
                "FROM Kunde \r\n",
                "WHERE KundenNr <= 3\r\n",
                "FOR XML AUTO, ELEMENTS;"
            ],
            "metadata": {
                "language": "sql",
                "azdata_cell_guid": "b9378096-319d-47a4-a33b-af6ff894ed47"
            },
            "outputs": [],
            "execution_count": null
        }
    ]
}