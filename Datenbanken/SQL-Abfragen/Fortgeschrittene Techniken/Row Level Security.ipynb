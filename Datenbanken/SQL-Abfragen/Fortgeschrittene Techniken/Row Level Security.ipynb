{
    "metadata": {
        "kernelspec": {
            "name": "SQL",
            "display_name": "SQL",
            "language": "sql"
        },
        "language_info": {
            "name": "sql",
            "version": ""
        }
    },
    "nbformat_minor": 2,
    "nbformat": 4,
    "cells": [
        {
            "cell_type": "markdown",
            "source": [
                "# Row Level Security\n",
                "\n",
                "https://docs.microsoft.com/en-us/sql/relational-databases/security/row-level-security?view=sql-server-ver15"
            ],
            "metadata": {
                "azdata_cell_guid": "aae54fa9-bb65-469d-8111-c61fb2d65708"
            },
            "attachments": {}
        },
        {
            "cell_type": "code",
            "source": [
                "USE master;\r\n",
                "\r\n",
                "DROP DATABASE IF EXISTS rls_demo;\r\n",
                "go\r\n",
                "\r\n",
                "CREATE DATABASE rls_demo;\r\n",
                "go\r\n",
                "\r\n",
                "USE rls_demo;\r\n",
                "\r\n",
                "CREATE USER Manager WITHOUT LOGIN;  \r\n",
                "CREATE USER SalesRep1 WITHOUT LOGIN;  \r\n",
                "CREATE USER SalesRep2 WITHOUT LOGIN;\r\n",
                "GO\r\n",
                "\r\n",
                "CREATE SCHEMA Sales\r\n",
                "GO\r\n",
                "CREATE TABLE Sales.Orders \r\n",
                "    (  \r\n",
                "    OrderID int,  \r\n",
                "    SalesRep nvarchar(50),  \r\n",
                "    Product nvarchar(50),  \r\n",
                "    Quantity smallint  \r\n",
                "    );\r\n",
                "\r\n",
                "INSERT INTO Sales.Orders  VALUES (1, 'SalesRep1', 'Valve', 5);\r\n",
                "INSERT INTO Sales.Orders  VALUES (2, 'SalesRep1', 'Wheel', 2);\r\n",
                "INSERT INTO Sales.Orders  VALUES (3, 'SalesRep1', 'Valve', 4);\r\n",
                "INSERT INTO Sales.Orders  VALUES (4, 'SalesRep2', 'Bracket', 2);\r\n",
                "INSERT INTO Sales.Orders  VALUES (5, 'SalesRep2', 'Wheel', 5);\r\n",
                "INSERT INTO Sales.Orders  VALUES (6, 'SalesRep2', 'Seat', 5);\r\n",
                "-- View the 6 rows in the table  \r\n",
                "SELECT * FROM Sales.Orders;"
            ],
            "metadata": {
                "azdata_cell_guid": "2e851c81-ee2c-4952-a832-7bd94a38db44",
                "language": "sql"
            },
            "outputs": [],
            "execution_count": null
        },
        {
            "cell_type": "code",
            "source": [
                "GRANT SELECT ON Sales.Orders TO Manager;  \r\n",
                "GRANT SELECT ON Sales.Orders TO SalesRep1;  \r\n",
                "GRANT SELECT ON Sales.Orders TO SalesRep2; \r\n",
                "GO"
            ],
            "metadata": {
                "language": "sql",
                "azdata_cell_guid": "9532f74c-b17c-4b3c-a5c1-695657d4f541"
            },
            "outputs": [],
            "execution_count": null
        },
        {
            "cell_type": "code",
            "source": [
                "CREATE SCHEMA Security;  \r\n",
                "GO  \r\n",
                "  \r\n",
                "CREATE FUNCTION Security.tvf_securitypredicate(@SalesRep AS nvarchar(50))  \r\n",
                "    RETURNS TABLE  \r\n",
                "WITH SCHEMABINDING  \r\n",
                "AS  \r\n",
                "    RETURN SELECT 1 AS tvf_securitypredicate_result\r\n",
                "\tWHERE @SalesRep = USER_NAME() OR USER_NAME() = 'Manager';  \r\n",
                "GO"
            ],
            "metadata": {
                "language": "sql",
                "azdata_cell_guid": "01ee62d8-304e-4b22-b021-e96972e55856"
            },
            "outputs": [],
            "execution_count": null
        },
        {
            "cell_type": "code",
            "source": [
                "CREATE SECURITY POLICY SalesFilter  \r\n",
                "ADD FILTER PREDICATE Security.tvf_securitypredicate(SalesRep)\r\n",
                "ON Sales.Orders\r\n",
                "WITH (STATE = ON);  \r\n",
                "GO\r\n",
                "\r\n",
                "GRANT SELECT ON Security.tvf_securitypredicate TO Manager;  \r\n",
                "GRANT SELECT ON Security.tvf_securitypredicate TO SalesRep1;  \r\n",
                "GRANT SELECT ON Security.tvf_securitypredicate TO SalesRep2;"
            ],
            "metadata": {
                "language": "sql",
                "azdata_cell_guid": "1180f7a3-9cf5-4c65-8d17-ca001b831c60"
            },
            "outputs": [],
            "execution_count": null
        },
        {
            "cell_type": "code",
            "source": [
                "EXECUTE AS USER = 'SalesRep1';  \r\n",
                "SELECT * FROM Sales.Orders;\r\n",
                "REVERT; "
            ],
            "metadata": {
                "language": "sql",
                "azdata_cell_guid": "3e2a7833-0f7b-479b-8120-397afdd8fc01"
            },
            "outputs": [],
            "execution_count": null
        },
        {
            "cell_type": "code",
            "source": [
                "EXECUTE AS USER = 'SalesRep2';  \r\n",
                "SELECT * FROM Sales.Orders;\r\n",
                "REVERT;  "
            ],
            "metadata": {
                "language": "sql",
                "azdata_cell_guid": "d31380fb-4f44-412f-a600-960f970d7dc1"
            },
            "outputs": [],
            "execution_count": null
        },
        {
            "cell_type": "code",
            "source": [
                "EXECUTE AS USER = 'Manager';  \r\n",
                "SELECT * FROM Sales.Orders;\r\n",
                "REVERT;"
            ],
            "metadata": {
                "language": "sql",
                "azdata_cell_guid": "cb36b481-cbc5-4276-95b5-546ab69ab8eb"
            },
            "outputs": [],
            "execution_count": null
        },
        {
            "cell_type": "code",
            "source": [
                "/* Aufräumen */\r\n",
                "ALTER SECURITY POLICY SalesFilter  \r\n",
                "WITH (STATE = OFF);\r\n",
                "\r\n",
                "DROP USER SalesRep1;\r\n",
                "DROP USER SalesRep2;\r\n",
                "DROP USER Manager;\r\n",
                "\r\n",
                "DROP SECURITY POLICY SalesFilter;\r\n",
                "DROP TABLE Sales.Orders;\r\n",
                "DROP FUNCTION Security.tvf_securitypredicate;\r\n",
                "DROP SCHEMA Security;\r\n",
                "DROP SCHEMA Sales;\r\n",
                "\r\n",
                "USE master;\r\n",
                "DROP DATABASE IF EXISTS rls_demo;"
            ],
            "metadata": {
                "language": "sql",
                "azdata_cell_guid": "85d6c1bf-ef56-4b2e-852d-2ffe98f04fba"
            },
            "outputs": [],
            "execution_count": null
        }
    ]
}