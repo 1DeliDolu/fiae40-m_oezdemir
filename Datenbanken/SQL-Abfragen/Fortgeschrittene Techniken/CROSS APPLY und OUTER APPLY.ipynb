{
    "metadata": {
        "kernelspec": {
            "name": "SQL",
            "display_name": "SQL",
            "language": "sql"
        },
        "language_info": {
            "name": "sql",
            "version": ""
        }
    },
    "nbformat_minor": 2,
    "nbformat": 4,
    "cells": [
        {
            "cell_type": "markdown",
            "source": [
                "# CROSS APPLY und OUTER APPLY"
            ],
            "metadata": {
                "azdata_cell_guid": "fe437222-0f24-45e2-a5ea-64ec1d870000"
            },
            "attachments": {}
        },
        {
            "cell_type": "markdown",
            "source": [
                "## Zeige zu **jedem** Produkt die beiden jüngsten Bestellungen mit BestellungID, Bestelldatum, KundenNr und Firma\n",
                "\n",
                "Die Lösung mit OUTER APPLY hat die achtfachen Ausführungskosten gegenüber der Lösung mit RANK in der Unterabfrage!\n",
                "\n",
                "```\n",
                "Fensterfunktionen sind nur in der SELECT- oder ORDER BY-Klausel zulässig.\n",
                "\n",
                "```"
            ],
            "metadata": {
                "language": "sql",
                "azdata_cell_guid": "24535633-9cdc-486a-9817-cf25c8ac2daf"
            },
            "attachments": {}
        },
        {
            "cell_type": "code",
            "source": [
                "-- Lösungsversuch mit CROSS APPLY zeigt nur Produkte mit Bestellungen\r\n",
                "SELECT p.ProduktID, p.Produkt, a.BestellungID, a.Bestelldatum, a.KundenNr, a.Firma\r\n",
                "FROM Produkt AS p\r\n",
                "CROSS APPLY (\r\n",
                "   SELECT TOP(2) WITH TIES b.BestellungID, b.Bestelldatum, k.KundenNr, k.Firma\r\n",
                "    FROM Bestellung AS b\r\n",
                "    JOIN BestellDetail AS d ON b.BestellungID = d.BestellungID\r\n",
                "    JOIN Kunde AS k ON b.KundenNr = k.KundenNr\r\n",
                "    WHERE d.ProduktID = p.ProduktID\r\n",
                "    ORDER BY b.Bestelldatum DESC \r\n",
                ") AS a;"
            ],
            "metadata": {
                "language": "sql",
                "azdata_cell_guid": "6ec4f97f-86e2-4929-bbff-8773a58f7226"
            },
            "outputs": [],
            "execution_count": null
        },
        {
            "cell_type": "code",
            "source": [
                "-- Lösung mit OUTER APPLY\r\n",
                "SELECT p.ProduktID, p.Produkt, a.BestellungID, a.Bestelldatum, a.KundenNr, a.Firma\r\n",
                "FROM Produkt AS p\r\n",
                "OUTER APPLY (\r\n",
                "   SELECT TOP(2) WITH TIES b.BestellungID, b.Bestelldatum, k.KundenNr, k.Firma\r\n",
                "    FROM Bestellung AS b\r\n",
                "    JOIN BestellDetail AS d ON b.BestellungID = d.BestellungID\r\n",
                "    JOIN Kunde AS k ON b.KundenNr = k.KundenNr\r\n",
                "    WHERE d.ProduktID = p.ProduktID\r\n",
                "    ORDER BY b.Bestelldatum DESC \r\n",
                ") AS a;"
            ],
            "metadata": {
                "azdata_cell_guid": "5cbdc5d1-d5d4-49b5-b807-99480b9db99b",
                "language": "sql"
            },
            "outputs": [],
            "execution_count": null
        },
        {
            "cell_type": "code",
            "source": [
                "-- Nicht zulässig! Fensterfunktionen sind nur in der SELECT- oder ORDER BY-Klausel zulässig.\r\n",
                "SELECT p.ProduktID, p.Produkt\r\n",
                "    , RANK() OVER(PARTITION BY p.ProduktID ORDER BY b.BestellungID DESC) AS Rang\r\n",
                "    , b.BestellungID, b.Bestelldatum, k.KundenNr, k.Firma\r\n",
                "FROM Bestellung AS b \r\n",
                "JOIN Kunde AS k ON b.KundenNr = k.KundenNr\r\n",
                "JOIN BestellDetail AS d ON b.BestellungID = d.BestellungID\r\n",
                "RIGHT JOIN Produkt AS p ON d.ProduktID = p.ProduktID\r\n",
                "WHERE RANK() OVER(PARTITION BY p.ProduktID ORDER BY b.BestellungID DESC) <=2"
            ],
            "metadata": {
                "language": "sql",
                "azdata_cell_guid": "ed3cf2b1-d51f-4f63-8f65-52fb5f886ea9"
            },
            "outputs": [],
            "execution_count": null
        },
        {
            "cell_type": "code",
            "source": [
                "-- Lösung mit vorangestellter Unterabfrage, auf der gefiltert wird\r\n",
                "WITH Sub AS (\r\n",
                "    SELECT p.ProduktID, p.Produkt\r\n",
                "        , RANK() OVER(PARTITION BY p.ProduktID ORDER BY b.BestellungID DESC) AS Rang\r\n",
                "        , b.BestellungID, b.Bestelldatum, k.KundenNr, k.Firma\r\n",
                "    FROM Bestellung AS b \r\n",
                "    JOIN Kunde AS k ON b.KundenNr = k.KundenNr\r\n",
                "    JOIN BestellDetail AS d ON b.BestellungID = d.BestellungID\r\n",
                "    RIGHT JOIN Produkt AS p ON d.ProduktID = p.ProduktID \r\n",
                ")\r\n",
                "SELECT ProduktID, Produkt, BestellungID, Bestelldatum, KundenNr, Firma\r\n",
                "FROM SUB \r\n",
                "WHERE Rang <= 2;"
            ],
            "metadata": {
                "language": "sql",
                "azdata_cell_guid": "a3df816e-7e38-4d55-b964-f2f211545f94"
            },
            "outputs": [],
            "execution_count": null
        },
        {
            "cell_type": "code",
            "source": [
                "-- Unterabfrage in FROM Klausel, statt vorangestellt\r\n",
                "SELECT ProduktID, Produkt, BestellungID, Bestelldatum, KundenNr, Firma\r\n",
                "FROM (\r\n",
                "    SELECT p.ProduktID, p.Produkt\r\n",
                "        , RANK() OVER(PARTITION BY p.ProduktID ORDER BY b.BestellungID DESC) AS Rang\r\n",
                "        , b.BestellungID, b.Bestelldatum, k.KundenNr, k.Firma\r\n",
                "    FROM Bestellung AS b \r\n",
                "    JOIN Kunde AS k ON b.KundenNr = k.KundenNr\r\n",
                "    JOIN BestellDetail AS d ON b.BestellungID = d.BestellungID\r\n",
                "    RIGHT JOIN Produkt AS p ON d.ProduktID = p.ProduktID \r\n",
                ") AS SUB \r\n",
                "WHERE Rang <= 2;"
            ],
            "metadata": {
                "language": "sql",
                "azdata_cell_guid": "b13a3469-94f8-4c0c-82d8-ea43f420f779"
            },
            "outputs": [],
            "execution_count": null
        },
        {
            "cell_type": "markdown",
            "source": [
                "## OUTER APPLY mit Tabellenwertfunktionen einsetzen\n",
                "\n",
                "Möchte man für Bequemlichkeit in der Abfrageformulierung Performance-Einbußen in Kauf nehmen?"
            ],
            "metadata": {
                "language": "sql",
                "azdata_cell_guid": "8e6d237d-8da1-4a82-a2dd-377ac05692be"
            },
            "attachments": {}
        },
        {
            "cell_type": "code",
            "source": [
                "-- Erstelle Tabellenwertfunktion für jüngste Bestellungen\r\n",
                "CREATE OR ALTER FUNCTION dbo.fn_GetNLetzteProduktBestellungen(\r\n",
                "    @ProduktID INT,\r\n",
                "    @N INT\r\n",
                ") \r\n",
                "RETURNS TABLE\r\n",
                "AS\r\n",
                "RETURN\r\n",
                "   SELECT TOP(@N) WITH TIES b.BestellungID, b.Bestelldatum, k.KundenNr, k.Firma\r\n",
                "    FROM Bestellung AS b\r\n",
                "    JOIN BestellDetail AS d ON b.BestellungID = d.BestellungID\r\n",
                "    JOIN Kunde AS k ON b.KundenNr = k.KundenNr\r\n",
                "    WHERE d.ProduktID = @ProduktID\r\n",
                "    ORDER BY b.Bestelldatum DESC;"
            ],
            "metadata": {
                "language": "sql",
                "azdata_cell_guid": "8b69bf53-4e88-4de1-95c2-542f25ba932a"
            },
            "outputs": [],
            "execution_count": null
        },
        {
            "cell_type": "code",
            "source": [
                "-- Verwende OUTER APPLY mit einer Tabellenwertfunktion\r\n",
                "SELECT p.ProduktID, p.Produkt, a.BestellungID, a.Bestelldatum, a.KundenNr, a.Firma\r\n",
                "FROM Produkt AS p\r\n",
                "OUTER APPLY dbo.fn_GetNLetzteProduktBestellungen(p.ProduktID, 3) AS a;"
            ],
            "metadata": {
                "language": "sql",
                "azdata_cell_guid": "591d8dbd-8a7f-491a-804d-bde1a4ae50a0"
            },
            "outputs": [],
            "execution_count": null
        },
        {
            "cell_type": "markdown",
            "source": [
                "## Zeige zu **jedem** Kunden die 3 letzten Produkte, die er bestellt hat\n",
                "\n",
                "Die Lösung mit OUTER APPLY hat die sechsfachen Ausführungskosten der Lösung mit RANK und Unterabfrage!\n",
                "\n",
                "Bei mehr Produkten am gleichen Bestelldatum werden auch mehr als 3 Produkte ausgegeben."
            ],
            "metadata": {
                "language": "sql",
                "azdata_cell_guid": "0b488b1c-170c-45fc-bb7e-4473dd73a408"
            },
            "attachments": {}
        },
        {
            "cell_type": "code",
            "source": [
                "SELECT KundenNr, Firma, sub.ProduktID, sub.Produkt, sub.Bestelldatum, sub.Menge\r\n",
                "FROM Kunde AS k\r\n",
                "OUTER APPLY (\r\n",
                "    SELECT TOP(3) WITH TIES b.Bestelldatum, p.ProduktID, p.Produkt, d.Menge\r\n",
                "    FROM Bestellung AS b\r\n",
                "    JOIN BestellDetail AS d ON b.BestellungID = d.BestellungID\r\n",
                "    JOIN Produkt AS p ON d.ProduktID = p.ProduktID\r\n",
                "    WHERE b.KundenNr = k.KundenNr\r\n",
                "    ORDER BY b.Bestelldatum DESC\r\n",
                ") AS sub;"
            ],
            "metadata": {
                "language": "sql",
                "azdata_cell_guid": "f372f975-b52e-4d73-a29b-7f4e1660d864"
            },
            "outputs": [],
            "execution_count": null
        },
        {
            "cell_type": "code",
            "source": [
                "WITH Sub AS (\r\n",
                "    SELECT k.KundenNr, k.Firma, p.ProduktID, p.Produkt, b.Bestelldatum, d.Menge\r\n",
                "        , RANK() OVER(PARTITION BY k.KundenNr ORDER BY b.Bestelldatum DESC) AS Rang\r\n",
                "    FROM Kunde AS k\r\n",
                "    LEFT JOIN Bestellung AS b ON k.KundenNr = b.KundenNr\r\n",
                "    LEFT JOIN BestellDetail AS d ON b.BestellungID = d.BestellungID\r\n",
                "    LEFT JOIN Produkt AS p ON d.ProduktID = p.ProduktID\r\n",
                ")\r\n",
                "SELECT KundenNr, Firma, ProduktID, Produkt, Bestelldatum, Menge\r\n",
                "FROM Sub\r\n",
                "WHERE Rang <= 3\r\n",
                "ORDER BY KundenNr;"
            ],
            "metadata": {
                "language": "sql",
                "azdata_cell_guid": "4fbddddf-25bd-40b3-84b5-411ca798cd3f"
            },
            "outputs": [],
            "execution_count": null
        },
        {
            "cell_type": "markdown",
            "source": [
                "## Top 3 Produkte nach Umsatz per Kategorie für ein bestimmtes Jahr\n",
                "\n",
                "Die Lösung mit OUTER APPLY hat die 5,6-fachen Ausführungskosten gegenüber der Alternativlösung."
            ],
            "metadata": {
                "language": "sql",
                "azdata_cell_guid": "8e3947b4-3305-4594-aed6-af5ee673b673"
            },
            "attachments": {}
        },
        {
            "cell_type": "code",
            "source": [
                "-- TOP 3 Produkte je kategorie nach Umsatz in 2018\r\n",
                "SELECT k.Kategorie, Sub.Rang, Sub.ProduktID, Sub.Produkt, Sub.Umsatz\r\n",
                "FROM Produktkategorie AS k\r\n",
                "OUTER APPLY (\r\n",
                "    SELECT TOP(3) WITH TIES RANK() OVER(ORDER BY SUM(d.Menge * d.Verkaufspreis) DESC) AS Rang\r\n",
                "        , p.ProduktID, p.Produkt, SUM(d.Menge * d.Verkaufspreis) AS Umsatz \r\n",
                "    FROM Bestellung AS b\r\n",
                "    JOIN BestellDetail AS d ON b.BestellungID = d.BestellungID\r\n",
                "    JOIN Produkt AS p ON d.ProduktID = p.ProduktID\r\n",
                "    WHERE YEAR(b.Bestelldatum) = 2017\r\n",
                "        AND p.KategorieID = k.KategorieID -- Korrelation\r\n",
                "    GROUP BY p.ProduktID, p.Produkt  \r\n",
                "\tORDER BY SUM(d.Menge * d.Verkaufspreis) DESC\r\n",
                ") AS Sub\r\n",
                "ORDER BY k.Kategorie;"
            ],
            "metadata": {
                "language": "sql",
                "azdata_cell_guid": "5c78ae77-e60c-4475-afcd-da6a6f48b72c"
            },
            "outputs": [],
            "execution_count": null
        },
        {
            "cell_type": "code",
            "source": [
                "WITH Sub AS (\r\n",
                "    SELECT k.Kategorie\r\n",
                "    , RANK() OVER(PARTITION BY k.Kategorie ORDER BY SUM(d.Menge * d.Verkaufspreis) DESC) AS Rang\r\n",
                "    , p.ProduktID\r\n",
                "    , p.Produkt\r\n",
                "    , SUM(d.Menge * d.Verkaufspreis) AS Umsatz\r\n",
                "    FROM Bestellung AS b\r\n",
                "    JOIN BestellDetail AS d ON b.BestellungID = d.BestellungID\r\n",
                "        AND YEAR(b.Bestelldatum) = 2017\r\n",
                "    JOIN Produkt AS p ON d.ProduktID = p.ProduktID\r\n",
                "    RIGHT JOIN Produktkategorie AS k ON p.KategorieID = k.KategorieID\r\n",
                "    GROUP BY k.Kategorie, p.ProduktID, p.Produkt\r\n",
                ")\r\n",
                "SELECT * \r\n",
                "FROM Sub\r\n",
                "WHERE Rang <=3;"
            ],
            "metadata": {
                "language": "sql",
                "azdata_cell_guid": "7dd73d37-6b90-4807-8552-c27adf6686a0",
                "tags": []
            },
            "outputs": [],
            "execution_count": null
        },
        {
            "cell_type": "markdown",
            "source": [
                "## Tabellenwertfunktion mit Parametern zur Vorgabe von Produktkategorie, Jahr und Anzahl von Top Produkten"
            ],
            "metadata": {
                "language": "sql",
                "azdata_cell_guid": "c610bd50-8d07-4194-b487-6e24493a4c88"
            },
            "attachments": {}
        },
        {
            "cell_type": "code",
            "source": [
                "DROP FUNCTION IF EXISTS dbo.fn_GetTopNProdukteInKategorieUndJahr;\r\n",
                "GO\r\n",
                "CREATE FUNCTION \r\n",
                "    dbo.fn_GetTopNProdukteInKategorieUndJahr(\r\n",
                "            @Kategorie AS VARCHAR(30), \r\n",
                "            @Jahr AS INT, \r\n",
                "            @NumProd AS INT\r\n",
                ") \r\n",
                "RETURNS TABLE\r\n",
                "AS\r\n",
                "RETURN\r\n",
                "WITH Sub AS (\r\n",
                "    SELECT k.Kategorie\r\n",
                "    , RANK() OVER(PARTITION BY k.Kategorie ORDER BY SUM(d.Menge * d.Verkaufspreis) DESC) AS Rang\r\n",
                "    , p.ProduktID\r\n",
                "    , p.Produkt\r\n",
                "    , SUM(d.Menge * d.Verkaufspreis) AS Umsatz\r\n",
                "    FROM Bestellung AS b\r\n",
                "    JOIN BestellDetail AS d ON b.BestellungID = d.BestellungID\r\n",
                "        AND YEAR(b.Bestelldatum) = @Jahr\r\n",
                "    JOIN Produkt AS p ON d.ProduktID = p.ProduktID\r\n",
                "    RIGHT JOIN Produktkategorie AS k ON p.KategorieID = k.KategorieID\r\n",
                "    WHERE k.Kategorie = @Kategorie\r\n",
                "    GROUP BY k.Kategorie, p.ProduktID, p.Produkt\r\n",
                ")\r\n",
                "SELECT * \r\n",
                "FROM Sub\r\n",
                "WHERE Rang <= @NumProd;"
            ],
            "metadata": {
                "language": "sql",
                "azdata_cell_guid": "cd4dac0e-e26c-4973-96e3-4d23099091a2"
            },
            "outputs": [],
            "execution_count": null
        },
        {
            "cell_type": "code",
            "source": [
                "-- Top 5 Produkte für Getränke in 2017\r\n",
                "SELECT * FROM dbo.fn_GetTopNProdukteInKategorieUndJahr('Getränke', 2017, 5);"
            ],
            "metadata": {
                "language": "sql",
                "azdata_cell_guid": "687cb8c8-56dc-4da1-9ff9-febf59638231"
            },
            "outputs": [],
            "execution_count": null
        },
        {
            "cell_type": "code",
            "source": [
                "-- Die Top Süßware in 2016\r\n",
                "SELECT * FROM dbo.fn_GetTopNProdukteInKategorieUndJahr('Süßwaren', 2016, 1);"
            ],
            "metadata": {
                "language": "sql",
                "azdata_cell_guid": "a8914615-b205-4d27-b31e-4cbe9dd96d09"
            },
            "outputs": [],
            "execution_count": null
        },
        {
            "cell_type": "markdown",
            "source": [
                "## Zwischenergebnisse durch Gruppierung mit ROLLUP\n",
                "\n",
                "Zeige Umsätze nach Produktkategorie, Produkt, Jahr und Quartal mit Zwischensummen für Jahre, Produkte und Kategorien."
            ],
            "metadata": {
                "language": "sql",
                "azdata_cell_guid": "41f95d1e-f1b3-49ba-8c33-11e11ccc6bb6"
            },
            "attachments": {}
        },
        {
            "cell_type": "code",
            "source": [
                "SELECT k.Kategorie, p.Produkt, DATEPART(YEAR, b.Bestelldatum) AS Jahr\r\n",
                "    , DATEPART(QUARTER, b.Bestelldatum) AS Quartal\r\n",
                "    , SUM(d.Menge * d.Verkaufspreis) AS Umsatz\r\n",
                "FROM Produktkategorie AS k\r\n",
                "LEFT JOIN Produkt AS p ON k.KategorieID = p.KategorieID\r\n",
                "LEFT JOIN BestellDetail AS d ON p.ProduktID = d.ProduktID\r\n",
                "LEFT JOIN Bestellung AS b ON d.BestellungID = b.BestellungID\r\n",
                "GROUP BY ROLLUP(k.Kategorie, p.Produkt, DATEPART(YEAR, b.Bestelldatum)\r\n",
                "    , DATEPART(QUARTER, b.Bestelldatum));"
            ],
            "metadata": {
                "language": "sql",
                "azdata_cell_guid": "f1da3198-91c5-49d4-a0c1-8cb22e94ea2b"
            },
            "outputs": [],
            "execution_count": null
        },
        {
            "cell_type": "code",
            "source": [
                "-- Versuch einer lesefreundlicheren Variante, die NULL mit Text ersetzt\r\n",
                "WITH Sub AS (\r\n",
                "    SELECT k.Kategorie, p.Produkt, DATEPART(YEAR, b.Bestelldatum) AS Jahr\r\n",
                "        , DATEPART(QUARTER, b.Bestelldatum) AS Quartal\r\n",
                "        , SUM(d.Menge * d.Verkaufspreis) AS Umsatz\r\n",
                "    FROM Produktkategorie AS k\r\n",
                "    LEFT JOIN Produkt AS p ON k.KategorieID = p.KategorieID\r\n",
                "    LEFT JOIN BestellDetail AS d ON p.ProduktID = d.ProduktID\r\n",
                "    LEFT JOIN Bestellung AS b ON d.BestellungID = b.BestellungID\r\n",
                "    GROUP BY ROLLUP(k.Kategorie, p.Produkt, DATEPART(YEAR, b.Bestelldatum)\r\n",
                "        , DATEPART(QUARTER, b.Bestelldatum))\r\n",
                ")\r\n",
                "SELECT COALESCE(Kategorie, '——>') AS Kategorie \r\n",
                "    , COALESCE(Produkt, '——>') AS Produkt\r\n",
                "    , COALESCE(CAST(Jahr AS CHAR(4)), '——>') AS Jahr\r\n",
                "    , CASE \r\n",
                "        WHEN Kategorie IS NULL THEN 'GRAND TOTAL'\r\n",
                "        WHEN Produkt IS NULL THEN CONCAT('TOTAL Kategorie ', Kategorie)\r\n",
                "        WHEN Jahr IS NULL THEN CONCAT('TOTAL Produkt ', Produkt)\r\n",
                "        WHEN Quartal IS NULL THEN CONCAT('TOTAL Jahr ', Jahr)\r\n",
                "        ELSE CONCAT('Q', Quartal, ' / ', Jahr) \r\n",
                "      END AS Quartal\r\n",
                "    , Umsatz\r\n",
                "FROM Sub;"
            ],
            "metadata": {
                "language": "sql",
                "azdata_cell_guid": "54a51416-c155-4a4a-855f-b336919d1052"
            },
            "outputs": [],
            "execution_count": null
        },
        {
            "cell_type": "markdown",
            "source": [
                "## Kumulierte Summen (\"Running Totals\")\n",
                "\n",
                "Kumuliere die Quartalsumsätze für Jahre, gruppiert nach Kategorie und Produkt.\n",
                "\n",
                "### Referenz:\n",
                "\n",
                "- [Running Total (databasestar.com)](https:\\www.databasestar.com\\sql-running-total\\) \n",
                "- [Running Total (learnsql.com)](https:\\learnsql.com\\blog\\what-is-a-running-total-and-how-to-compute-it-in-sql\\)"
            ],
            "metadata": {
                "language": "sql",
                "azdata_cell_guid": "4758fb7d-e26d-4902-9e1a-72e06cfa0677"
            },
            "attachments": {}
        },
        {
            "cell_type": "code",
            "source": [
                "WITH Sub AS (\r\n",
                "    SELECT k.Kategorie, p.Produkt, DATEPART(YEAR, b.Bestelldatum) AS Jahr\r\n",
                "        , DATEPART(QUARTER, b.Bestelldatum) AS Quartal\r\n",
                "        , SUM(d.Menge * d.Verkaufspreis) AS Umsatz\r\n",
                "    FROM Produktkategorie AS k\r\n",
                "    LEFT JOIN Produkt AS p ON k.KategorieID = p.KategorieID\r\n",
                "    LEFT JOIN BestellDetail AS d ON p.ProduktID = d.ProduktID\r\n",
                "    LEFT JOIN Bestellung AS b ON d.BestellungID = b.BestellungID\r\n",
                "    GROUP BY k.Kategorie, p.Produkt, DATEPART(YEAR, b.Bestelldatum), DATEPART(QUARTER, b.Bestelldatum)\r\n",
                ")\r\n",
                "SELECT Kategorie, Produkt, Jahr, Quartal, Umsatz\r\n",
                "    , SUM(Umsatz) OVER (PARTITION BY Kategorie, Produkt, Jahr ORDER BY Jahr, Quartal) AS [Kumulierter Jahresumsatz]\r\n",
                "FROM Sub\r\n",
                "WHERE Jahr = 2017;"
            ],
            "metadata": {
                "language": "sql",
                "azdata_cell_guid": "fb9592f4-112a-4994-9738-49c0fa4cd14d"
            },
            "outputs": [],
            "execution_count": null
        }
    ]
}