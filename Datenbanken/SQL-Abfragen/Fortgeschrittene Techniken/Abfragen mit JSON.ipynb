{
    "metadata": {
        "kernelspec": {
            "name": "SQL",
            "display_name": "SQL",
            "language": "sql"
        },
        "language_info": {
            "name": "sql",
            "version": ""
        }
    },
    "nbformat_minor": 2,
    "nbformat": 4,
    "cells": [
        {
            "cell_type": "markdown",
            "source": [
                "# Abfragen zur Ausgabe relationaler Daten als JSON\n",
                "\n",
                "[Format Query Results as JSON with FOR JSON](https:\\learn.microsoft.com\\en-us\\sql\\relational-databases\\json\\format-query-results-as-json-with-for-json-sql-server?view=sql-server-ver16)"
            ],
            "metadata": {
                "azdata_cell_guid": "2371075f-14d4-465d-8893-bcbd151bea60"
            },
            "attachments": {}
        },
        {
            "cell_type": "markdown",
            "source": [
                "## Lösung ohne Unterabfrage mit FOR JSON AUTO\n",
                "\n",
                "Ergebnis: KundenBestellungen-Bsp1.json"
            ],
            "metadata": {
                "language": "sql",
                "azdata_cell_guid": "700b87d7-0b9a-45c4-83b5-40f9efa160af"
            },
            "attachments": {}
        },
        {
            "cell_type": "code",
            "source": [
                "SELECT Kunde.KundenNr, Firma, Bestelldatum\r\n",
                "    , CAST(SUM(Menge * Verkaufspreis) AS DECIMAL(9,2)) AS Rechnungsbetrag\r\n",
                "FROM Kunde\r\n",
                "JOIN Bestellung ON Kunde.KundenNr = Bestellung.KundenNr\r\n",
                "    AND YEAR(Bestelldatum) = 2018\r\n",
                "JOIN BestellDetail ON Bestellung.BestellungID = BestellDetail.BestellungID\r\n",
                "WHERE Kunde.KundenNr <= 3\r\n",
                "GROUP BY Kunde.KundenNr, Firma, Bestelldatum\r\n",
                "ORDER BY Kunde.KundenNr, Bestelldatum\r\n",
                "FOR JSON AUTO;"
            ],
            "metadata": {
                "azdata_cell_guid": "aa628bc1-1da9-4b56-8b56-72eb9fc32062",
                "language": "sql"
            },
            "outputs": [],
            "execution_count": null
        },
        {
            "cell_type": "markdown",
            "source": [
                "## Ausgewählte Kunden mit Rechnungen: Lösung mit korrelierter Unterabfrage und FOR JSON AUTO\n",
                "\n",
                "Die korrelierte Unterabfrage gibt selbst mehrere Spalten im JSON Format aus.\n",
                "\n",
                "Ergebnis: [KundenBestellungen-Bsp2.json]()"
            ],
            "metadata": {
                "language": "sql",
                "azdata_cell_guid": "213ea15e-6f86-4f10-93ec-7bc99d0dff81"
            },
            "attachments": {}
        },
        {
            "cell_type": "code",
            "source": [
                "SELECT Kunde.KundenNr, Kunde.Firma\r\n",
                "    , (\r\n",
                "        SELECT Bestelldatum, CAST(SUM(Menge * Verkaufspreis) AS DECIMAL(9,2)) AS Rechnungssumme\r\n",
                "        FROM Bestellung \r\n",
                "        JOIN BestellDetail ON Bestellung.BestellungID = BestellDetail.BestellungID\r\n",
                "        WHERE Kunde.KundenNr = Bestellung.KundenNr\r\n",
                "        AND YEAR(Bestelldatum) = 2018\r\n",
                "        GROUP BY Bestelldatum\r\n",
                "        FOR JSON AUTO \r\n",
                "     ) AS Bestellungen\r\n",
                "FROM Kunde \r\n",
                "WHERE KundenNr <= 3\r\n",
                "FOR JSON AUTO;"
            ],
            "metadata": {
                "language": "sql",
                "azdata_cell_guid": "d1105644-ed30-4dd3-9c4f-56e5380c90c5"
            },
            "outputs": [],
            "execution_count": null
        },
        {
            "cell_type": "markdown",
            "source": [
                "## Ausgewählte Kunden mit Rechnungen und Details\n",
                "\n",
                "Zur Steuerung der Verschachtelung werden hier sowohl FOR JSON AUTO als auch FOR JSON PATH eingesetzt.\n",
                "\n",
                "- Äußere Abfrage zeigt Kunden\n",
                "- Erste innere korrelierte Unterabfrage zeigt Rechnungsdatum und Summe\n",
                "- Zweite innere Unterabfrage zeigt Rechnungspositionen\n",
                "\n",
                "Ergebnis: [KundenBestellungen-Bsp3.json]()"
            ],
            "metadata": {
                "language": "sql",
                "azdata_cell_guid": "0fb28afb-7957-4fee-b2ec-e0ee61d40a4d"
            },
            "attachments": {}
        },
        {
            "cell_type": "code",
            "source": [
                "SELECT Kunde.KundenNr, Kunde.Firma\r\n",
                "    , (\r\n",
                "        SELECT Bestelldatum\r\n",
                "            , CAST(SUM(Menge * Verkaufspreis) AS DECIMAL(9,2)) AS Rechnungssumme\r\n",
                "            , (\r\n",
                "               SELECT Produkt, Menge, CAST(Verkaufspreis AS DECIMAL(9,2)) AS Verkaufspreis\r\n",
                "               FROM Produkt\r\n",
                "               JOIN BestellDetail AS Details ON Produkt.ProduktID = Details.ProduktID\r\n",
                "               AND Details.BestellungID = Bestellung.BestellungID \r\n",
                "               FOR JSON PATH\r\n",
                "            ) AS Positionen\r\n",
                "        FROM Bestellung \r\n",
                "        JOIN BestellDetail ON Bestellung.BestellungID = BestellDetail.BestellungID\r\n",
                "        WHERE Kunde.KundenNr = Bestellung.KundenNr\r\n",
                "        AND YEAR(Bestelldatum) = 2018\r\n",
                "        GROUP BY Bestellung.BestellungID, Bestelldatum\r\n",
                "        FOR JSON AUTO \r\n",
                "     ) AS Bestellungen\r\n",
                "FROM Kunde \r\n",
                "WHERE KundenNr <= 3\r\n",
                "FOR JSON AUTO;"
            ],
            "metadata": {
                "language": "sql",
                "azdata_cell_guid": "3409486f-650b-45b7-9a81-b5c242b9a1f4"
            },
            "outputs": [],
            "execution_count": null
        }
    ]
}