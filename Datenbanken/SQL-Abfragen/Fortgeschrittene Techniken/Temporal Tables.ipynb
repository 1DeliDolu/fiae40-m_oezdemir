{
    "metadata": {
        "kernelspec": {
            "name": "SQL",
            "display_name": "SQL",
            "language": "sql"
        },
        "language_info": {
            "name": "sql",
            "version": ""
        }
    },
    "nbformat_minor": 2,
    "nbformat": 4,
    "cells": [
        {
            "cell_type": "markdown",
            "source": [
                "# System-Versioned Temporal Tables\n",
                "\n",
                "[Referenz Temporal Tables](https:\\learn.microsoft.com\\en-us\\sql\\relational-databases\\tables\\temporal-tables?view=sql-server-ver16)  \n",
                "\n",
                "  \n",
                "\n",
                "Temporal Tables erfassen Änderungen an Datensätzen, sodass es zum Beispiel möglich wird, Werte für einen bestimmten Zeitpunkt in der Vergangenheit abzufragen.\n",
                "\n",
                "![Temporal Table](../_Images/temporal-querying.svg)  \n",
                "\n",
                "Dieses Feature ist seit SQL Server 2016 verfügbar. Eine neue Tabelle kann bei Ihrer Erstellung eine History Tabelle zugewiesen bekommen, oder dies kann nachträglich für vorhandene Tabellen geschehen."
            ],
            "metadata": {
                "azdata_cell_guid": "08c19e50-a15d-4de0-9138-5dd90c6fb480"
            },
            "attachments": {}
        },
        {
            "cell_type": "markdown",
            "source": [
                "## Tabelle **Angebot**\n",
                "\n",
                "Die Tabelle **Angebot**  hat eine History-Tabelle. Änderungen werden über die View **vw\\_Angebot** vorgenommen. Ein Trigger trägt den User ein, der die Änderung am Datensatz gemacht hat."
            ],
            "metadata": {
                "azdata_cell_guid": "530682f8-5479-4228-b815-a831bed7f7f9",
                "language": ""
            },
            "attachments": {}
        },
        {
            "cell_type": "code",
            "source": [
                "-- * übergeht die versteckten Spalten GueltigVon und GueltigBis\r\n",
                "SELECT * FROM Angebot WHERE ID = 1;"
            ],
            "metadata": {
                "azdata_cell_guid": "778038c9-33b6-411c-9dab-28a211a308fb",
                "language": "sql"
            },
            "outputs": [],
            "execution_count": null
        },
        {
            "cell_type": "code",
            "source": [
                "-- Diese Abfrage zeigt die aktuellen Werte des Datensatzes an\r\n",
                "SELECT ID, Gegenstand, Mindestgebot, Gebot, Nutzer, GueltigVon, GueltigBis FROM Angebot WHERE ID = 1;"
            ],
            "metadata": {
                "language": "sql",
                "azdata_cell_guid": "094a0c81-c74d-4922-aa6a-19f896341f97"
            },
            "outputs": [],
            "execution_count": null
        },
        {
            "cell_type": "code",
            "source": [
                "-- Diese Abfrage zeigt die gesamte Historie des des Datensatzes an\r\n",
                "SELECT ID, Gegenstand, Mindestgebot, Gebot, Nutzer, GueltigVon, GueltigBis \r\n",
                "FROM Angebot FOR SYSTEM_TIME ALL \r\n",
                "WHERE ID = 1\r\n",
                "ORDER BY GueltigVon DESC;"
            ],
            "metadata": {
                "language": "sql",
                "azdata_cell_guid": "5ba56071-13cb-453c-99ac-0bc32045bf01"
            },
            "outputs": [],
            "execution_count": null
        },
        {
            "cell_type": "code",
            "source": [
                "-- Beispiel Abfrage für einen bestimmten Zeitpunkt\r\n",
                "SELECT ID, Gegenstand, Mindestgebot, Gebot, Nutzer, GueltigVon, GueltigBis \r\n",
                "FROM Angebot FOR SYSTEM_TIME AS OF '2020-03-04 15:07' \r\n",
                "WHERE ID = 1\r\n",
                "ORDER BY GueltigVon DESC;"
            ],
            "metadata": {
                "language": "sql",
                "azdata_cell_guid": "84cec3c9-0646-4bc9-b11b-2e17d7538dc5"
            },
            "outputs": [],
            "execution_count": null
        },
        {
            "cell_type": "code",
            "source": [
                "-- Ein neues Gebot wird abgegeben (Werte müssen >=10 über dem letzten Gebot liegen)\r\n",
                "UPDATE vw_Angebot SET Gebot = 85 WHERE ID = 1;"
            ],
            "metadata": {
                "language": "sql",
                "azdata_cell_guid": "c13ea053-740b-4a71-83c4-7f195d8b555b"
            },
            "outputs": [],
            "execution_count": null
        },
        {
            "cell_type": "code",
            "source": [
                "-- Auch die Tabelle Produkt hat eine Historie\r\n",
                "-- Frage die Historie des Produkts mit der ProduktID 9 ab\r\n",
                "\r\n",
                ""
            ],
            "metadata": {
                "language": "sql",
                "azdata_cell_guid": "1f0ba8de-7af0-4499-afb5-8fb9055ff337"
            },
            "outputs": [],
            "execution_count": null
        },
        {
            "cell_type": "markdown",
            "source": [
                "## Nachträglich einen Temporal Table zuweisen"
            ],
            "metadata": {
                "language": "",
                "azdata_cell_guid": "4b9440e5-d354-4089-a2db-73f235a68ef9"
            },
            "attachments": {}
        },
        {
            "cell_type": "code",
            "source": [
                "BEGIN TRAN;\r\n",
                "\r\n",
                "ALTER TABLE dbo.Kunde ADD\r\n",
                "  GueltigVon DATETIME2(3) GENERATED ALWAYS AS ROW START HIDDEN NOT NULL\r\n",
                "    CONSTRAINT dft_Kunde_GueltigVon DEFAULT('19000101'),\r\n",
                "  GueltigBis DATETIME2(3) GENERATED ALWAYS AS ROW END HIDDEN NOT NULL\r\n",
                "    CONSTRAINT dft_Kunde_GueltigBis DEFAULT('99991231 23:59:59.999'),\r\n",
                "  PERIOD FOR SYSTEM_TIME (GueltigVon, GueltigBis);\r\n",
                "\r\n",
                "ALTER TABLE dbo.Kunde\r\n",
                "  SET ( SYSTEM_VERSIONING = ON ( HISTORY_TABLE = dbo.KundeHistory ) );\r\n",
                "\r\n",
                "ALTER TABLE dbo.Kunde DROP CONSTRAINT dft_Kunde_GueltigVon, dft_Kunde_GueltigBis;\r\n",
                "\r\n",
                "COMMIT TRAN;"
            ],
            "metadata": {
                "azdata_cell_guid": "2425ac3f-e1ec-430f-90bd-444b422d7b21",
                "language": "sql"
            },
            "outputs": [],
            "execution_count": null
        },
        {
            "cell_type": "code",
            "source": [
                "-- Ändere die Telefonnummer eines Kunden und Frage die Historie des Datensatzes ab\r\n",
                "\r\n",
                ""
            ],
            "metadata": {
                "language": "sql",
                "azdata_cell_guid": "b4bab623-dc44-44ba-a751-bda5c0bb10ad"
            },
            "outputs": [],
            "execution_count": null
        },
        {
            "cell_type": "markdown",
            "source": [
                "## Neue Tabelle als Temporal Table erstellen"
            ],
            "metadata": {
                "language": "sql",
                "azdata_cell_guid": "1a351766-1b10-4882-90f1-df2c3272835c"
            },
            "attachments": {}
        },
        {
            "cell_type": "code",
            "source": [
                "CREATE TABLE Highscores (\r\n",
                "    ID INT IDENTITY(1,1) NOT NULL\r\n",
                "        CONSTRAINT pk_Highscores PRIMARY KEY(ID),\r\n",
                "    Spieler VARCHAR(100) NOT NULL,    \r\n",
                "    Spiel VARCHAR(100) NOT NULL,\r\n",
                "    Score BIGINT NOT NULL,\r\n",
                "    GueltigVon DATETIME2(3) GENERATED ALWAYS AS ROW START HIDDEN NOT NULL,\r\n",
                "    GueltigBis DATETIME2(3) GENERATED ALWAYS AS ROW END HIDDEN NOT NULL,\r\n",
                "    PERIOD FOR SYSTEM_TIME (GueltigVon, GueltigBis)    \r\n",
                ")\r\n",
                "WITH ( SYSTEM_VERSIONING = ON ( HISTORY_TABLE = dbo.HighscoresHistory ) );"
            ],
            "metadata": {
                "language": "sql",
                "azdata_cell_guid": "e9b3ed33-29f9-41fa-a7ea-b9c484b07aba"
            },
            "outputs": [],
            "execution_count": null
        },
        {
            "cell_type": "code",
            "source": [
                "-- Um einen Temporal Table zu löschen, muss zuvor die Versionierung ausgeschaltet werden\r\n",
                "ALTER TABLE Highscores SET\r\n",
                "(SYSTEM_VERSIONING = OFF)\r\n",
                "GO\r\n",
                "\r\n",
                "DROP TABLE IF EXISTS Highscores;"
            ],
            "metadata": {
                "language": "sql",
                "azdata_cell_guid": "624f9009-9e7f-44e7-91ff-0aace37da7ee"
            },
            "outputs": [],
            "execution_count": null
        }
    ]
}