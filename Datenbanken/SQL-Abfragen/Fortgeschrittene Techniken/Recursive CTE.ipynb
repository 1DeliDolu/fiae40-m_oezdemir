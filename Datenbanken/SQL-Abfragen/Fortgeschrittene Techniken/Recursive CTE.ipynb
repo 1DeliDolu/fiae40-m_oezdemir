{
    "metadata": {
        "kernelspec": {
            "name": "SQL",
            "display_name": "SQL",
            "language": "sql"
        },
        "language_info": {
            "name": "sql",
            "version": ""
        }
    },
    "nbformat_minor": 2,
    "nbformat": 4,
    "cells": [
        {
            "cell_type": "markdown",
            "source": [
                "## Recursive CTE (Common Table Expression\n",
                "\n",
                "Quellen:\n",
                "\n",
                "- [SQL Server Recursive CTE](https:\\www.sqlservertutorial.net\\sql-server-basics\\sql-server-recursive-cte\\)\n",
                "- [What Is a Recursive CTE in SQL?](https:\\learnsql.com\\blog\\sql-recursive-cte\\)\n",
                "- [Recursive Queries using Common Table Expressions (CTE) in SQL Server](https:\\www.mssqltips.com\\sqlservertip\\1520\\recursive-queries-using-common-table-expressions-cte-in-sql-server\\)"
            ],
            "metadata": {
                "azdata_cell_guid": "b4030b3a-7b67-44f1-afff-36d3901c4cf9"
            },
            "attachments": {}
        },
        {
            "cell_type": "markdown",
            "source": [
                "## Mitarbeiterhierarchie"
            ],
            "metadata": {
                "azdata_cell_guid": "42f6f643-42ae-4b87-b6de-0f685b57fa08"
            },
            "attachments": {}
        },
        {
            "cell_type": "code",
            "source": [
                "-- Manager für einen ausgewählten Mitarbeiter finden\r\n",
                "WITH MitarbeiterCTE AS (    \r\n",
                "    SELECT MitarbeiterNr, Vorgesetzte, Vorname, Nachname, 0 AS Distanz\r\n",
                "    FROM Mitarbeiter\r\n",
                "    WHERE MitarbeiterNr = 9\r\n",
                "    UNION ALL\r\n",
                "    SELECT m.MitarbeiterNr, m.Vorgesetzte, m.Nachname, m.Vorname, Distanz + 1\r\n",
                "    FROM MitarbeiterCTE AS s\r\n",
                "    JOIN Mitarbeiter AS m ON s.Vorgesetzte = m.MitarbeiterNr\r\n",
                ")\r\n",
                "SELECT MitarbeiterNr, Vorgesetzte, Vorname, Nachname, Distanz\r\n",
                "FROM MitarbeiterCTE;"
            ],
            "metadata": {
                "azdata_cell_guid": "0c1145e0-5891-4c09-9be2-197114713cc2",
                "language": "sql"
            },
            "outputs": [],
            "execution_count": null
        },
        {
            "cell_type": "code",
            "source": [
                "-- Ausgehend vom Manager die untergeordnete Hierarchie finden\r\n",
                "WITH Managers AS \r\n",
                "( \r\n",
                "--initialization \r\n",
                "SELECT MitarbeiterNr, Nachname, Vorgesetzte\r\n",
                "FROM Mitarbeiter\r\n",
                "WHERE Vorgesetzte IS NULL \r\n",
                "UNION ALL \r\n",
                "--recursive execution \r\n",
                "SELECT e.MitarbeiterNr,e.Nachname, e.Vorgesetzte \r\n",
                "FROM Mitarbeiter e INNER JOIN Managers m  \r\n",
                "ON e.Vorgesetzte = m.MitarbeiterNr \r\n",
                ") \r\n",
                "SELECT * FROM Managers OPTION (MAXRECURSION 3); \r\n",
                ""
            ],
            "metadata": {
                "language": "sql",
                "azdata_cell_guid": "fa9dcc72-9df9-4ff0-9979-f8fefd7b2a13"
            },
            "outputs": [],
            "execution_count": null
        },
        {
            "cell_type": "code",
            "source": [
                "-- Vorbereitung einer Streckensuche\r\n",
                "-- Tabelle mit Wegstrecken zwischen Städten\r\n",
                "USE SQL_Seminar;\r\n",
                "\r\n",
                "DROP TABLE IF EXISTS CityRouten;\r\n",
                "GO\r\n",
                "\r\n",
                "CREATE TABLE CityRouten (\r\n",
                "    city_from VARCHAR(300),\r\n",
                "    city_to VARCHAR(300),\r\n",
                "    distance DECIMAL(9,1),\r\n",
                "    CONSTRAINT pk_CityRouten PRIMARY KEY(city_from, city_to)\r\n",
                ");\r\n",
                "GO\r\n",
                "\r\n",
                "INSERT INTO CityRouten (city_from, city_to, distance)\r\n",
                "VALUES ('Groningen','Heerenveen',61.4),\r\n",
                "('Groningen','Harlingen',91.6),\r\n",
                "('Harlingen','Wieringerwerf',52.3),\r\n",
                "('Wieringerwerf','Hoorn',26.5),\r\n",
                "('Hoorn','Amsterdam',46.1),\r\n",
                "('Amsterdam','Haarlem',30),\r\n",
                "('Heerenveen','Lelystad',74),\r\n",
                "('Lelystad','Amsterdam',57.2);\r\n",
                "\r\n",
                "SELECT * FROM CityRouten;\r\n",
                "\r\n",
                "\r\n",
                ""
            ],
            "metadata": {
                "azdata_cell_guid": "8eb0ea7a-1efe-46e8-aa5e-93483d2dd38e",
                "language": "sql"
            },
            "outputs": [],
            "execution_count": null
        },
        {
            "cell_type": "code",
            "source": [
                "-- Finde mögliche Strecken zwischen zwei Städten\r\n",
                "WITH  possible_route AS (\r\n",
                "   SELECT  cr.city_to,\r\n",
                "           CAST(CONCAT(cr.city_from , ' —> ' , cr.city_to) AS VARCHAR(1000)) AS route,\r\n",
                "           cr.distance\r\n",
                "    FROM CityRouten cr\r\n",
                "    WHERE cr.city_from = 'Groningen'\r\n",
                "    UNION ALL\r\n",
                "    SELECT  cr.city_to,\r\n",
                "            CAST(CONCAT(pr.route, ' —> ' , cr.city_to) AS VARCHAR(1000)) AS route,\r\n",
                "            CAST((pr.distance + cr.distance) AS DECIMAL(9, 1))\r\n",
                "    FROM possible_route pr\r\n",
                "    INNER JOIN CityRouten cr ON cr.city_from = pr.city_to\r\n",
                ")\r\n",
                " \r\n",
                "SELECT  pr.route, pr.distance\r\n",
                "FROM possible_route pr\r\n",
                "WHERE pr.city_to = 'Haarlem'\r\n",
                "ORDER BY pr.distance;"
            ],
            "metadata": {
                "language": "sql",
                "azdata_cell_guid": "fd6d6549-e7e1-45e3-86fb-5c2810cb8d8f"
            },
            "outputs": [],
            "execution_count": null
        }
    ]
}