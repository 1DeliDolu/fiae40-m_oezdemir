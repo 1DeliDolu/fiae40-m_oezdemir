{
    "metadata": {
        "kernelspec": {
            "name": "SQL",
            "display_name": "SQL",
            "language": "sql"
        },
        "language_info": {
            "name": "sql",
            "version": ""
        }
    },
    "nbformat_minor": 2,
    "nbformat": 4,
    "cells": [
        {
            "cell_type": "markdown",
            "source": [
                "# MERGE\n",
                "\n",
                "Aktualisieren einer Tabelle mit Werten aus einer anderen Tabelle\n",
                "\n",
                "[https://www.mssqltips.com/sqlservertip/1704/using-merge-in-sql-server-to-insert-update-and-delete-at-the-same-time/](https://www.mssqltips.com/sqlservertip/1704/using-merge-in-sql-server-to-insert-update-and-delete-at-the-same-time/)  \n",
                "\n",
                "## Objekte für die Demo erstellen"
            ],
            "metadata": {
                "azdata_cell_guid": "93330595-251c-4c56-9236-1d79cca7db3f"
            },
            "attachments": {}
        },
        {
            "cell_type": "code",
            "source": [
                "USE master;\r\n",
                "\r\n",
                "DROP DATABASE IF EXISTS MergeDemo;\r\n",
                "go\r\n",
                "\r\n",
                "CREATE DATABASE MergeDemo;\r\n",
                "go\r\n",
                "\r\n",
                "USE MergeDemo;\r\n",
                "\r\n",
                "--MERGE SQL statement - Part 1\r\n",
                "\r\n",
                "--Create a target table\r\n",
                "CREATE TABLE Products\r\n",
                "(\r\n",
                "   ProductID INT PRIMARY KEY,\r\n",
                "   ProductName VARCHAR(100),\r\n",
                "   Rate MONEY\r\n",
                ") \r\n",
                "GO\r\n",
                "\r\n",
                "--Insert records into target table\r\n",
                "INSERT INTO Products\r\n",
                "VALUES\r\n",
                "   (1, 'Tea', 10.00),\r\n",
                "   (2, 'Coffee', 20.00),\r\n",
                "   (3, 'Muffin', 30.00),\r\n",
                "   (4, 'Biscuit', 40.00)\r\n",
                "GO\r\n",
                "\r\n",
                "--Create source table\r\n",
                "CREATE TABLE UpdatedProducts\r\n",
                "(\r\n",
                "   ProductID INT PRIMARY KEY,\r\n",
                "   ProductName VARCHAR(100),\r\n",
                "   Rate MONEY\r\n",
                ") \r\n",
                "GO\r\n",
                "\r\n",
                "--Insert records into source table\r\n",
                "INSERT INTO UpdatedProducts\r\n",
                "VALUES\r\n",
                "   (1, 'Tea', 10.00),\r\n",
                "   (2, 'Coffee', 25.00),\r\n",
                "   (3, 'Muffin', 35.00),\r\n",
                "   (5, 'Pizza', 60.00)\r\n",
                "GO\r\n",
                "\r\n",
                "SELECT * FROM Products\r\n",
                "SELECT * FROM UpdatedProducts\r\n",
                "GO"
            ],
            "metadata": {
                "azdata_cell_guid": "260efc80-d54b-4434-9cb8-3fb2043a55d3",
                "language": "sql"
            },
            "outputs": [],
            "execution_count": null
        },
        {
            "cell_type": "markdown",
            "source": [
                "# MERGE Aktion"
            ],
            "metadata": {
                "azdata_cell_guid": "3fed33e2-edfd-4e49-8d37-98f82475fda5"
            },
            "attachments": {}
        },
        {
            "cell_type": "code",
            "source": [
                "USE MergeDemo;\r\n",
                "\r\n",
                "--MERGE SQL statement - Part 2\r\n",
                "\r\n",
                "--Synchronize the target table with refreshed data from source table\r\n",
                "MERGE Products AS TARGET\r\n",
                "USING UpdatedProducts AS SOURCE \r\n",
                "ON (TARGET.ProductID = SOURCE.ProductID) \r\n",
                "--When records are matched, update the records if there is any change\r\n",
                "WHEN MATCHED AND TARGET.ProductName <> SOURCE.ProductName OR TARGET.Rate <> SOURCE.Rate \r\n",
                "THEN UPDATE SET TARGET.ProductName = SOURCE.ProductName, TARGET.Rate = SOURCE.Rate \r\n",
                "--When no records are matched, insert the incoming records from source table to target table\r\n",
                "WHEN NOT MATCHED BY TARGET \r\n",
                "THEN INSERT (ProductID, ProductName, Rate) VALUES (SOURCE.ProductID, SOURCE.ProductName, SOURCE.Rate)\r\n",
                "--When there is a row that exists in target and same record does not exist in source then delete this record target\r\n",
                "WHEN NOT MATCHED BY SOURCE \r\n",
                "THEN DELETE \r\n",
                "--$action specifies a column of type nvarchar(10) in the OUTPUT clause that returns \r\n",
                "--one of three values for each row: 'INSERT', 'UPDATE', or 'DELETE' according to the action that was performed on that row\r\n",
                "OUTPUT $action, \r\n",
                "DELETED.ProductID AS TargetProductID, \r\n",
                "DELETED.ProductName AS TargetProductName, \r\n",
                "DELETED.Rate AS TargetRate, \r\n",
                "INSERTED.ProductID AS SourceProductID, \r\n",
                "INSERTED.ProductName AS SourceProductName, \r\n",
                "INSERTED.Rate AS SourceRate; \r\n",
                "\r\n",
                "SELECT @@ROWCOUNT;\r\n",
                "GO\r\n",
                "\r\n",
                "SELECT * FROM Products\r\n",
                "GO\r\n",
                "\r\n",
                ""
            ],
            "metadata": {
                "azdata_cell_guid": "38b191e0-685f-4649-ae48-f3db52bf1da1",
                "language": "sql"
            },
            "outputs": [],
            "execution_count": null
        },
        {
            "cell_type": "markdown",
            "source": [
                "## Aufräumen nach der Demo"
            ],
            "metadata": {
                "language": "sql",
                "azdata_cell_guid": "871590cc-6ea3-4973-8dc0-10b18ce3f009"
            },
            "attachments": {}
        },
        {
            "cell_type": "code",
            "source": [
                "USE master;\r\n",
                "\r\n",
                "DROP DATABASE IF EXISTS MergeDemo;"
            ],
            "metadata": {
                "language": "sql",
                "azdata_cell_guid": "0de91df5-fe46-4406-ad5c-31d7416b450e"
            },
            "outputs": [],
            "execution_count": null
        }
    ]
}