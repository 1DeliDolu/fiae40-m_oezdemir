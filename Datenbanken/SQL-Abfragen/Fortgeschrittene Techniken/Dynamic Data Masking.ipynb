{
    "metadata": {
        "kernelspec": {
            "name": "SQL",
            "display_name": "SQL",
            "language": "sql"
        },
        "language_info": {
            "name": "sql",
            "version": ""
        }
    },
    "nbformat_minor": 2,
    "nbformat": 4,
    "cells": [
        {
            "cell_type": "markdown",
            "source": [
                "# Dynamic Data Masking\n",
                "\n",
                "Dynamische Datenmaskierung versteckt die tatsächlichen Daten hinter einer Maske von Werten, die anstelle der Daten angezeigt werden.\n",
                "\n",
                "Die tatsächlichen Daten können nur von Datenbank-Usern mit der Berechtigung **UNMASK** eingesehen werden.\n",
                "\n",
                "  \n",
                "\n",
                "Folgende Maskierungsfunktionen stehen zur Verfügung:\n",
                "\n",
                "  \n",
                "\n",
                "- **default()** zeigt XXXX anstelle der eigentlichen Werte an.\n",
                "- **email()** zeigt den ersten Buchstaben der E\\_Mail Adresse an und maskiert den Rest, z. Bsp. aXXX@XXXX.com\n",
                "- **random(von, bis)** zeigt eine Zufallszahl im angegebenen Bereich an\n",
                "- **partial()** ermöglicht die teilweise Maskierung der Werte mit Anzeige einiger Zeichen des eigentlichen Wertes am Anfang und/oder Ende.\n",
                "- SQL Server 2022 bringt eine neue Funktion zur Maskierung von Datumswerten hinzu: **datetime()**\n",
                "\n",
                "[https://learn.microsoft.com/en-us/sql/relational-databases/security/dynamic-data-masking?view=sql-server-ver16](https://learn.microsoft.com/en-us/sql/relational-databases/security/dynamic-data-masking?view=sql-server-ver16)"
            ],
            "metadata": {
                "azdata_cell_guid": "8636a6bb-b713-448e-b0b7-d29c50f5ec79"
            },
            "attachments": {}
        },
        {
            "cell_type": "code",
            "source": [
                "USE SQL_Seminar;\r\n",
                "GO\r\n",
                "-- schema to contain user tables\r\n",
                "CREATE SCHEMA Data;\r\n",
                "GO\r\n",
                "\r\n",
                "-- table with masked columns\r\n",
                "CREATE TABLE Data.Membership(\r\n",
                "    MemberID        int IDENTITY(1,1) NOT NULL PRIMARY KEY CLUSTERED,\r\n",
                "    FirstName        varchar(100) MASKED WITH (FUNCTION = 'partial(1, \"xxxxx\", 1)') NULL,\r\n",
                "    LastName        varchar(100) NOT NULL,\r\n",
                "    Phone            varchar(12) MASKED WITH (FUNCTION = 'default()') NULL,\r\n",
                "    Email            varchar(100) MASKED WITH (FUNCTION = 'email()') NOT NULL,\r\n",
                "    DiscountCode    smallint MASKED WITH (FUNCTION = 'random(1, 100)') NULL\r\n",
                "    );\r\n",
                "\r\n",
                "-- inserting sample data\r\n",
                "INSERT INTO Data.Membership (FirstName, LastName, Phone, Email, DiscountCode)\r\n",
                "VALUES   \r\n",
                "('Roberto', 'Tamburello', '555.123.4567', 'RTamburello@contoso.com', 10),  \r\n",
                "('Janice', 'Galvin', '555.123.4568', 'JGalvin@contoso.com.co', 5),  \r\n",
                "('Shakti', 'Menon', '555.123.4570', 'SMenon@contoso.net', 50),  \r\n",
                "('Zheng', 'Mu', '555.123.4569', 'ZMu@contoso.net', 40);  "
            ],
            "metadata": {
                "azdata_cell_guid": "b96dc0ee-261e-4b28-8495-d925cc9856fc",
                "language": "sql"
            },
            "outputs": [],
            "execution_count": null
        },
        {
            "cell_type": "code",
            "source": [
                "CREATE USER MaskingTestUser WITHOUT LOGIN;  \r\n",
                "\r\n",
                "GRANT SELECT ON SCHEMA::Data TO MaskingTestUser;  \r\n",
                "  \r\n",
                "  -- impersonate for testing:\r\n",
                "EXECUTE AS USER = 'MaskingTestUser';  \r\n",
                "\r\n",
                "SELECT * FROM Data.Membership;  \r\n",
                "\r\n",
                "REVERT;"
            ],
            "metadata": {
                "language": "sql",
                "azdata_cell_guid": "0a110761-8754-43dc-8180-9f73fc3301eb"
            },
            "outputs": [
                {
                    "output_type": "display_data",
                    "data": {
                        "text/html": "(4 rows affected)"
                    },
                    "metadata": {}
                },
                {
                    "output_type": "display_data",
                    "data": {
                        "text/html": "Total execution time: 00:00:00.026"
                    },
                    "metadata": {}
                },
                {
                    "output_type": "execute_result",
                    "execution_count": 11,
                    "data": {
                        "application/vnd.dataresource+json": {
                            "schema": {
                                "fields": [
                                    {
                                        "name": "MemberID"
                                    },
                                    {
                                        "name": "FirstName"
                                    },
                                    {
                                        "name": "LastName"
                                    },
                                    {
                                        "name": "Phone"
                                    },
                                    {
                                        "name": "Email"
                                    },
                                    {
                                        "name": "DiscountCode"
                                    }
                                ]
                            },
                            "data": [
                                {
                                    "0": "1",
                                    "1": "Rxxxxxo",
                                    "2": "Tamburello",
                                    "3": "xxxx",
                                    "4": "RXXX@XXXX.com",
                                    "5": "20"
                                },
                                {
                                    "0": "2",
                                    "1": "Jxxxxxe",
                                    "2": "Galvin",
                                    "3": "xxxx",
                                    "4": "JXXX@XXXX.com",
                                    "5": "14"
                                },
                                {
                                    "0": "3",
                                    "1": "Sxxxxxi",
                                    "2": "Menon",
                                    "3": "xxxx",
                                    "4": "SXXX@XXXX.com",
                                    "5": "38"
                                },
                                {
                                    "0": "4",
                                    "1": "Zxxxxxg",
                                    "2": "Mu",
                                    "3": "xxxx",
                                    "4": "ZXXX@XXXX.com",
                                    "5": "11"
                                }
                            ]
                        },
                        "text/html": "<table><tr><th>MemberID</th><th>FirstName</th><th>LastName</th><th>Phone</th><th>Email</th><th>DiscountCode</th></tr><tr><td>1</td><td>Rxxxxxo</td><td>Tamburello</td><td>xxxx</td><td>RXXX@XXXX.com</td><td>20</td></tr><tr><td>2</td><td>Jxxxxxe</td><td>Galvin</td><td>xxxx</td><td>JXXX@XXXX.com</td><td>14</td></tr><tr><td>3</td><td>Sxxxxxi</td><td>Menon</td><td>xxxx</td><td>SXXX@XXXX.com</td><td>38</td></tr><tr><td>4</td><td>Zxxxxxg</td><td>Mu</td><td>xxxx</td><td>ZXXX@XXXX.com</td><td>11</td></tr></table>"
                    },
                    "metadata": {}
                }
            ],
            "execution_count": 11
        },
        {
            "cell_type": "code",
            "source": [
                "ALTER TABLE Data.Membership  \r\n",
                "ALTER COLUMN LastName ADD MASKED WITH (FUNCTION = 'partial(2,\"xxxx\",0)');"
            ],
            "metadata": {
                "language": "sql",
                "azdata_cell_guid": "f4e779dd-c8b9-4407-9d70-e53f45fcf877"
            },
            "outputs": [],
            "execution_count": null
        },
        {
            "cell_type": "code",
            "source": [
                "ALTER TABLE Data.Membership  \r\n",
                "ALTER COLUMN LastName varchar(100) MASKED WITH (FUNCTION = 'default()');"
            ],
            "metadata": {
                "language": "sql",
                "azdata_cell_guid": "a3b45b49-0de3-4dc0-abd6-805847a613ae"
            },
            "outputs": [],
            "execution_count": null
        },
        {
            "cell_type": "code",
            "source": [
                "GRANT UNMASK TO MaskingTestUser;  \r\n",
                "\r\n",
                "EXECUTE AS USER = 'MaskingTestUser';  \r\n",
                "\r\n",
                "SELECT * FROM Data.Membership;  \r\n",
                "\r\n",
                "REVERT;    \r\n",
                "  \r\n",
                "-- Removing the UNMASK permission  \r\n",
                "REVOKE UNMASK TO MaskingTestUser;  "
            ],
            "metadata": {
                "language": "sql",
                "azdata_cell_guid": "3e7dd7c9-69e6-4099-b0ca-5e23bedcc837",
                "tags": []
            },
            "outputs": [],
            "execution_count": null
        },
        {
            "cell_type": "code",
            "source": [
                "ALTER TABLE Data.Membership   \r\n",
                "ALTER COLUMN LastName DROP MASKED;"
            ],
            "metadata": {
                "language": "sql",
                "azdata_cell_guid": "ca604cd2-aae3-4948-8e3f-a7fdfd942d51"
            },
            "outputs": [],
            "execution_count": null
        },
        {
            "cell_type": "code",
            "source": [
                "-- Aufräumen\r\n",
                "DROP USER MaskingTestUser;\r\n",
                "\r\n",
                "DROP TABLE Data.Membership;\r\n",
                "\r\n",
                "DROP Schema Data;"
            ],
            "metadata": {
                "language": "sql",
                "azdata_cell_guid": "82b026f9-7d91-47ab-bd17-8fc5a3b7bb82"
            },
            "outputs": [],
            "execution_count": null
        },
        {
            "cell_type": "markdown",
            "source": [
                "## Weitere Demos mit feineren Einstellungen der Berechtigungen\n",
                "\n",
                "[https://learn.microsoft.com/en-us/sql/relational-databases/security/dynamic-data-masking?view=sql-server-ver16#granular-permission-examples](https://learn.microsoft.com/en-us/sql/relational-databases/security/dynamic-data-masking?view=sql-server-ver16#granular-permission-examples)"
            ],
            "metadata": {
                "language": "sql",
                "azdata_cell_guid": "cb0bec09-d574-4730-9e1a-7164698edbda"
            },
            "attachments": {}
        }
    ]
}