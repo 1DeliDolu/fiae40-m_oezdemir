{
    "metadata": {
        "kernelspec": {
            "name": "SQL",
            "display_name": "SQL",
            "language": "sql"
        },
        "language_info": {
            "name": "sql",
            "version": ""
        }
    },
    "nbformat_minor": 2,
    "nbformat": 4,
    "cells": [
        {
            "cell_type": "markdown",
            "source": [
                "# Unterabfragen\n",
                "\n",
                "- Mehrere Abfragen werden verschachtelt oder gejoint.\n",
                "    \n",
                "- Die Unterabfrage wird in runde Klammern gesetzt.\n",
                "    \n",
                "- Um eine Unterabfrage zu joinen, bekommt sie ein Alias wie eine Tabelle.\n",
                "    \n",
                "- Unterabfragen können unabhängig sein  oder abhängig von der umgebenden Abfrage.\n",
                "    \n",
                "- Abhängige Unterabfragen nennt man **korrelierte Unterabfragen**.\n",
                "    \n",
                "- Unterabfragen kommen in verschiedenen Klauseln vor:\n",
                "    \n",
                "    - SELECT Klausel\n",
                "    - FROM Klausel\n",
                "    - WHERE Klausel\n",
                "    - HAVING Klausel\n",
                "\n",
                "Es folgen zunächst Beispiele mit Unterabfragen in verschiedenen Klauseln, danach korrelierte Unterabfragen:"
            ],
            "metadata": {
                "azdata_cell_guid": "5f09f062-37bc-4481-ad17-a1f32e7fa235"
            },
            "attachments": {}
        },
        {
            "cell_type": "markdown",
            "source": [
                "## Unterabfragen in der SELECT-Klausel"
            ],
            "metadata": {
                "azdata_cell_guid": "59cf9e76-ce32-491e-9e4f-abe3dc3362f5"
            },
            "attachments": {}
        },
        {
            "cell_type": "code",
            "source": [
                "SELECT COUNT(*) FROM Kunde"
            ],
            "metadata": {
                "language": "sql",
                "azdata_cell_guid": "4e0ae36d-79d4-4526-a26a-702bf35cda11"
            },
            "outputs": [
{
    "output_type": "display_data",
    "data": {
        "text/html": "(1 row affected)"
    },
    "metadata": {}
}, {
    "output_type": "display_data",
    "data": {
        "text/html": "Total execution time: 00:00:00.044"
    },
    "metadata": {}
}, {
    "output_type": "execute_result",
    "metadata": {},
    "execution_count": 2,
    "data": {
        "application/vnd.dataresource+json": {
            "schema": {
                "fields": [
                    {
                        "name": "(No column name)"
                    }
                ]
            },
            "data": [
                {
                    "(No column name)": "92"
                }
            ]
        },
        "text/html": [
            "<table>",
            "<tr><th>(No column name)</th></tr>",
            "<tr><td>92</td></tr>",
            "</table>"
        ]
    }
}
],
            "execution_count": 2
        },
        {
            "cell_type": "code",
            "source": [
                "-- Unabhängige Unterabfrage in der SELECT Klausel\r\n",
                "-- Typisch zur Berechnung von Prozentanteilen für Gruppen\r\n",
                "SELECT Land \r\n",
                "\t, COUNT(*) AS [Anzahl Kunden]\r\n",
                "\t, 100.0 * COUNT(*) / (\r\n",
                "\t\tSELECT COUNT(*) FROM Kunde -- Unterabfrage!\r\n",
                "\t) AS [Prozent unformatiert]\r\n",
                "\t, CAST(100.0 * COUNT(*) / (\r\n",
                "\t\tSELECT COUNT(*) FROM Kunde -- Unterabfrage!\r\n",
                "\t) AS decimal(4,1)) AS [Anteil in %]\r\n",
                "FROM Kunde\r\n",
                "GROUP BY Land\r\n",
                "ORDER BY [Anzahl Kunden] DESC;"
            ],
            "metadata": {
                "azdata_cell_guid": "1edb6e74-a8c2-4f21-a8ce-8d6a70f3437d",
                "language": "sql"
            },
            "outputs": [],
            "execution_count": null
        },
        {
            "cell_type": "code",
            "source": [
                "SELECT SUM(Menge * Verkaufspreis) FROM BestellDetail"
            ],
            "metadata": {
                "language": "sql",
                "azdata_cell_guid": "702891e4-3a32-44ef-bd48-b58c157774ee"
            },
            "outputs": [],
            "execution_count": null
        },
        {
            "cell_type": "code",
            "source": [
                "-- Zeigen Sie in SQL_Seminar: Gesamtumsatz nach Land gruppiert und Umsatzanteil in Prozent\r\n",
                "SELECT k.Land,\r\n",
                "    SUM(d.Menge * d.Verkaufspreis) AS Umsatz,\r\n",
                "    CAST(100.0 * SUM(d.Menge * d.Verkaufspreis) / (\r\n",
                "        -- Unterabfrage für Gesamtumsatz aller Länder\r\n",
                "        SELECT SUM(Menge * Verkaufspreis) FROM BestellDetail\r\n",
                "    ) AS decimal(5,2)) AS [Umsatzanteil %]\r\n",
                "FROM Kunde AS k\r\n",
                "JOIN Bestellung AS b ON k.KundenNr = b.KundenNr\r\n",
                "JOIN BestellDetail AS d ON b.BestellungID = d.BestellungID\r\n",
                "GROUP BY k.Land\r\n",
                "ORDER BY k.Land ASC;\r\n",
                "\r\n",
                "-- Zeigen Sie in SQL_Seminar: Gesamtumsatz nach Produktkategorie gruppiert und Umsatzanteil in Prozent\r\n",
                "\r\n",
                "-- Zeigen Sie in SQL_Seminar für das Jahr 2017: Gesamtumsatz nach Produktkategorie gruppiert und Umsatzanteil in Prozent "
            ],
            "metadata": {
                "language": "sql",
                "azdata_cell_guid": "4e36f3f8-8d63-4d02-870a-e5744b705bf5"
            },
            "outputs": [],
            "execution_count": null
        },
        {
            "cell_type": "code",
            "source": [
                "-- Zeigen Sie in SQL_Seminar: Gesamtumsatz nach Produktkategorie gruppiert und Umsatzanteil in Prozent\r\n",
                "SELECT k.Kategorie,\r\n",
                "    SUM(d.Menge * d.Verkaufspreis) AS Umsatz,\r\n",
                "    CAST(100.0 * SUM(d.Menge * d.Verkaufspreis) / (\r\n",
                "        -- Unterabfrage für Gesamtumsatz aller Länder\r\n",
                "        SELECT SUM(Menge * Verkaufspreis) FROM BestellDetail\r\n",
                "    ) AS decimal(5,2)) AS [Umsatzanteil %]\r\n",
                "FROM Produktkategorie AS k\r\n",
                "JOIN Produkt AS p ON k.KategorieID = p.KategorieID\r\n",
                "JOIN BestellDetail AS d ON p.ProduktID = d.ProduktID\r\n",
                "GROUP BY k.Kategorie\r\n",
                "ORDER BY k.Kategorie ASC;"
            ],
            "metadata": {
                "language": "sql",
                "azdata_cell_guid": "8831cf8d-b91c-4ad4-b3be-503453b46cbb"
            },
            "outputs": [],
            "execution_count": null
        },
        {
            "cell_type": "code",
            "source": [
                "-- Zeigen Sie in SQL_Seminar für das Jahr 2017: Gesamtumsatz nach Produktkategorie gruppiert und Umsatzanteil in Prozent\r\n",
                "SELECT k.Kategorie,\r\n",
                "    SUM(d.Menge * d.Verkaufspreis) AS Umsatz,\r\n",
                "    CAST(100.0 * SUM(d.Menge * d.Verkaufspreis) / (\r\n",
                "        -- Unterabfrage für Gesamtumsatz aller Länder\r\n",
                "        SELECT SUM(Menge * Verkaufspreis) \r\n",
                "        FROM BestellDetail AS d\r\n",
                "        JOIN Bestellung AS b ON b.BestellungID = d.BestellungID\r\n",
                "        WHERE YEAR(b.Bestelldatum) = 2017\r\n",
                "    ) AS decimal(5,2)) AS [Umsatzanteil %]\r\n",
                "FROM Produktkategorie AS k\r\n",
                "JOIN Produkt AS p ON k.KategorieID = p.KategorieID\r\n",
                "JOIN BestellDetail AS d ON p.ProduktID = d.ProduktID\r\n",
                "JOIN Bestellung AS b ON b.BestellungID = d.BestellungID\r\n",
                "WHERE YEAR(b.Bestelldatum) = 2017\r\n",
                "GROUP BY k.Kategorie\r\n",
                "ORDER BY k.Kategorie ASC;"
            ],
            "metadata": {
                "language": "sql",
                "azdata_cell_guid": "7a3c33f2-b05d-4e0c-9156-58b842a8fc85",
                "tags": []
            },
            "outputs": [],
            "execution_count": null
        },
        {
            "cell_type": "code",
            "source": [
                "-- Wenn die Unterabfrage immer denselben Wert liefert,\r\n",
                "-- lässt der sich vorab in eine Variable speichern\r\n",
                "DECLARE @anzahlKunden INT = (\r\n",
                "\tSELECT COUNT(*) FROM Kunde\r\n",
                "\t);\r\n",
                "SELECT Land\r\n",
                "\t, COUNT(*) AS [Anzahl Kunden]\r\n",
                "\t, CAST((100.0 * COUNT(*) / @anzahlKunden) AS decimal(4,1)) AS [Anteil in %]\r\n",
                "FROM Kunde\r\n",
                "GROUP BY Land\r\n",
                "ORDER BY [Anzahl Kunden] DESC;"
            ],
            "metadata": {
                "language": "sql",
                "azdata_cell_guid": "83f63ae0-6688-43d8-a68b-571d217ef25a"
            },
            "outputs": [],
            "execution_count": null
        },
        {
            "cell_type": "code",
            "source": [
                "SELECT BestellungID\r\n",
                "\t\t, SUM(Menge * Verkaufspreis) AS Rechnungsbetrag\r\n",
                "\tFROM BestellDetail\r\n",
                "\tGROUP BY BestellungID "
            ],
            "metadata": {
                "language": "sql",
                "azdata_cell_guid": "095c4cfc-3dcf-46c2-8aef-fa1142ad2ef8"
            },
            "outputs": [],
            "execution_count": null
        },
        {
            "cell_type": "markdown",
            "source": [
                "## Unterabfragen in der FROM-Klausel"
            ],
            "metadata": {
                "language": "sql",
                "azdata_cell_guid": "dccc9fb0-8e1b-4052-934f-39fd06c52be7"
            },
            "attachments": {}
        },
        {
            "cell_type": "code",
            "source": [
                "-- Unabhängige Unterabfrage in der FROM Klausel\r\n",
                "-- z. B. Details bereitstellen, aus denen Aggregate gebildet werden\r\n",
                "SELECT FORMAT(MAX(Rechnungsbetrag),'C','de-de') AS [Größte Rechnungssumme]\r\n",
                "\t, FORMAT(MIN(Rechnungsbetrag),'C','de-de') AS [Kleinste Rechnungssumme]\r\n",
                "\t, FORMAT(AVG(Rechnungsbetrag),'C','de-de') AS [Durchschnittliche Rechnungssumme]\r\n",
                "\t, FORMAT(SUM(Rechnungsbetrag),'C','de-de') AS [Gesamtumsatz]\r\n",
                "FROM\r\n",
                "( \r\n",
                "\tSELECT BestellungID\r\n",
                "\t\t, SUM(Menge * Verkaufspreis) AS Rechnungsbetrag\r\n",
                "\tFROM BestellDetail\r\n",
                "\tGROUP BY BestellungID \r\n",
                ") AS Umsatzdaten;"
            ],
            "metadata": {
                "language": "sql",
                "azdata_cell_guid": "9971165f-ab47-4e5b-8b40-ce0768d7f549"
            },
            "outputs": [],
            "execution_count": null
        },
        {
            "cell_type": "code",
            "source": [
                "-- Alternativ: Unterabfrage mit WITH voranstellen\r\n",
                "WITH Umsatzdaten AS (\r\n",
                "\tSELECT BestellungID\r\n",
                "\t\t, SUM(Menge * Verkaufspreis) AS Rechnungsbetrag\r\n",
                "\tFROM BestellDetail\r\n",
                "\tGROUP BY BestellungID\r\n",
                ")\r\n",
                "SELECT FORMAT(MAX(Rechnungsbetrag),'C','de-de') AS [Größte Rechnungssumme]\r\n",
                "\t, FORMAT(MIN(Rechnungsbetrag),'C','de-de') AS [Kleinste Rechnungssumme]\r\n",
                "\t, FORMAT(AVG(Rechnungsbetrag),'C','de-de') AS [Durchschnittliche Rechnungssumme]\r\n",
                "\t, FORMAT(SUM(Rechnungsbetrag),'C','de-de') AS [Gesamtumsatz]\r\n",
                "FROM Umsatzdaten;"
            ],
            "metadata": {
                "language": "sql",
                "azdata_cell_guid": "e4317c5f-cb6d-4b59-8eb8-70275f6488f3",
                "tags": []
            },
            "outputs": [],
            "execution_count": null
        },
        {
            "cell_type": "code",
            "source": [
                "    SELECT DISTINCT KundenNr\r\n",
                "    FROM Bestellung\r\n",
                "    WHERE Bestelldatum >= '20170101'\r\n",
                "    AND Bestelldatum < '20170201' "
            ],
            "metadata": {
                "language": "sql",
                "azdata_cell_guid": "b29cf41e-9a3b-4ece-97cc-a52bbf24d793"
            },
            "outputs": [],
            "execution_count": null
        },
        {
            "cell_type": "code",
            "source": [
                "-- WHERE Klausel\r\n",
                "-- z. B. ausgewählte IDs liefern\r\n",
                "-- Zeige Firma und Ort der Kunden, die im Januar 2017 bestellt haben\r\n",
                "SELECT Firma, Ort\r\n",
                "FROM Kunde\r\n",
                "WHERE KundenNr IN ( \r\n",
                "    SELECT DISTINCT KundenNr\r\n",
                "    FROM Bestellung\r\n",
                "    WHERE Bestelldatum >= '20170101'\r\n",
                "    AND Bestelldatum < '20170201' \r\n",
                ");"
            ],
            "metadata": {
                "language": "sql",
                "azdata_cell_guid": "2fc71db6-b4af-435d-b329-97926ffaac0a"
            },
            "outputs": [],
            "execution_count": null
        },
        {
            "cell_type": "markdown",
            "source": [
                "## Unterabfragen in der WHERE-Klausel"
            ],
            "metadata": {
                "language": "sql",
                "azdata_cell_guid": "0edd9f06-161d-43be-bf81-217e7318006e"
            },
            "attachments": {}
        },
        {
            "cell_type": "code",
            "source": [
                "-- Das geht auch ohne Unterabfrage!\r\n",
                "SELECT k.Firma, k.Ort\r\n",
                "FROM Kunde AS k\r\n",
                "JOIN Bestellung AS b \r\n",
                "\tON k.KundenNr = b.KundenNr\r\n",
                "WHERE Bestelldatum >= '20170101'\r\n",
                "AND Bestelldatum < '20170201';"
            ],
            "metadata": {
                "azdata_cell_guid": "35b669a8-a56a-4061-b2f0-0482c6d9be26",
                "language": "sql"
            },
            "outputs": [],
            "execution_count": null
        },
        {
            "cell_type": "code",
            "source": [
                "-- Übungen: Unterabfragen in der WHERE-Klausel:\r\n",
                "-- Bitte jeweils eine zweite Lösungsvariante ohne Unterabfrage entwickeln!\r\n",
                "-- Welcher Mitarbeiter hat im Februar 2020 etwas verkauft? (1 Zeile)\r\n",
                "SELECT Vorname, Nachname\r\n",
                "FROM Mitarbeiter\r\n",
                "WHERE MitarbeiterNr IN (\r\n",
                "    SELECT MitarbeiterNr\r\n",
                "    FROM Bestellung\r\n",
                "    WHERE Bestelldatum >= '20200201'\r\n",
                "    AND Bestelldatum < '20200301'\r\n",
                ");\r\n",
                "-- alternativ:\r\n",
                "SELECT m.Vorname, m.Nachname\r\n",
                "FROM Mitarbeiter AS m\r\n",
                "JOIN Bestellung AS b ON m.MitarbeiterNr = b.MitarbeiterNr\r\n",
                "WHERE b.Bestelldatum >= '20200201'\r\n",
                "AND b.Bestelldatum < '20200301';"
            ],
            "metadata": {
                "language": "sql",
                "azdata_cell_guid": "5719bbae-8495-4251-ab77-f981f9768bd9"
            },
            "outputs": [],
            "execution_count": null
        },
        {
            "cell_type": "code",
            "source": [
                "-- Welche Produkte wurden im Februar 2020 verkauft? (2 Zeilen)\r\n",
                "SELECT Produkt\r\n",
                "FROM Produkt\r\n",
                "WHERE ProduktID IN (\r\n",
                "    SELECT ProduktID\r\n",
                "    FROM Bestellung AS b \r\n",
                "    JOIN BestellDetail AS d ON b.BestellungID = d.BestellungID\r\n",
                "    WHERE b.Bestelldatum >= '20200201'\r\n",
                "        AND b.Bestelldatum < '20200301'\r\n",
                ");\r\n",
                "\r\n",
                "SELECT Produkt\r\n",
                "FROM Produkt\r\n",
                "WHERE ProduktID IN (\r\n",
                "    SELECT ProduktID\r\n",
                "    FROM BestellDetail\r\n",
                "    WHERE BestellungID IN (\r\n",
                "        SELECT BestellungID\r\n",
                "        FROM Bestellung WHERE Bestelldatum <='20200228'\r\n",
                "        AND Bestelldatum >'20200131'\r\n",
                "    )\r\n",
                ");\r\n",
                "\r\n",
                "SELECT p.Produkt\r\n",
                "FROM Produkt AS p\r\n",
                "JOIN BestellDetail AS d ON p.ProduktID = d.ProduktID\r\n",
                "JOIN Bestellung AS b ON b.BestellungID = d.BestellungID\r\n",
                "WHERE Bestelldatum >= '20200201'\r\n",
                "AND Bestelldatum < '20200301';"
            ],
            "metadata": {
                "language": "sql",
                "azdata_cell_guid": "ee895ad8-1171-4646-bb26-e79a3a04fee8"
            },
            "outputs": [],
            "execution_count": null
        },
        {
            "cell_type": "code",
            "source": [
                "SELECT TOP 1 SUM(d.Menge * d.Verkaufspreis) AS Wert\r\n",
                "\tFROM Bestellung AS b\r\n",
                "\tJOIN BestellDetail AS d ON b.BestellungID = d.BestellungID\r\n",
                "\tWHERE b.Bestelldatum >= '2017-01-01'\r\n",
                "\t\tAND b.Bestelldatum < '2018-01-01'\r\n",
                "\tGROUP BY b.BestellungID\r\n",
                "\tORDER BY Wert DESC"
            ],
            "metadata": {
                "language": "sql",
                "azdata_cell_guid": "c99cb7b4-381f-4311-9966-dfc521242f47"
            },
            "outputs": [],
            "execution_count": null
        },
        {
            "cell_type": "code",
            "source": [
                "SELECT b.BestellungID, b.Bestelldatum\r\n",
                "\t, SUM(d.Menge * d.Verkaufspreis) AS Bestellwert\r\n",
                "FROM Bestellung AS b\r\n",
                "JOIN BestellDetail AS d ON b.BestellungID = d.BestellungID\r\n",
                "WHERE b.Bestelldatum >= '2018-01-01'\r\n",
                "\tAND b.Bestelldatum < '2019-01-01'\r\n",
                "GROUP BY  b.BestellungID, b.Bestelldatum"
            ],
            "metadata": {
                "language": "sql",
                "azdata_cell_guid": "3fae3f5c-2383-4433-972b-fb1b507ceed9"
            },
            "outputs": [],
            "execution_count": null
        },
        {
            "cell_type": "markdown",
            "source": [
                "## Unterabfragen in der HAVING-Klausel"
            ],
            "metadata": {
                "language": "sql",
                "azdata_cell_guid": "cb77aee4-a8e2-4603-a400-f224318fbb2c"
            },
            "attachments": {}
        },
        {
            "cell_type": "code",
            "source": [
                "-- Unterabfrage in HAVING Klausel\r\n",
                "-- Filtern auf dem Wert aus einer Aggregation\r\n",
                "-- Zeige Bestellungen aus 2018, die über dem höchsten Bestellwert aus 2017 liegen\r\n",
                "-- BestellungID, Bestelldatum, Bestellwert / 11493.20\r\n",
                "SELECT b.BestellungID, b.Bestelldatum\r\n",
                "\t, SUM(d.Menge * d.Verkaufspreis) AS Bestellwert\r\n",
                "FROM Bestellung AS b\r\n",
                "JOIN BestellDetail AS d ON b.BestellungID = d.BestellungID\r\n",
                "WHERE b.Bestelldatum >= '2018-01-01'\r\n",
                "\tAND b.Bestelldatum < '2019-01-01'\r\n",
                "GROUP BY  b.BestellungID, b.Bestelldatum\r\n",
                "HAVING SUM(d.Menge * d.Verkaufspreis) > (\r\n",
                "\t-- höchster Bestellwert aus 2017\r\n",
                "\tSELECT TOP 1 SUM(d.Menge * d.Verkaufspreis) AS Wert\r\n",
                "\tFROM Bestellung AS b\r\n",
                "\tJOIN BestellDetail AS d ON b.BestellungID = d.BestellungID\r\n",
                "\tWHERE b.Bestelldatum >= '2017-01-01'\r\n",
                "\t\tAND b.Bestelldatum < '2018-01-01'\r\n",
                "\tGROUP BY b.BestellungID\r\n",
                "\tORDER BY Wert DESC\r\n",
                ");"
            ],
            "metadata": {
                "language": "sql",
                "azdata_cell_guid": "497421be-9efe-4dbd-add2-f364c2b05c20"
            },
            "outputs": [],
            "execution_count": null
        },
        {
            "cell_type": "code",
            "source": [
                "WITH Bestellungen2017 AS (\r\n",
                "    SELECT SUM(d.Menge * d.Verkaufspreis) AS Wert\r\n",
                "\tFROM Bestellung AS b\r\n",
                "\tJOIN BestellDetail AS d ON b.BestellungID = d.BestellungID\r\n",
                "\tWHERE b.Bestelldatum >= '2017-01-01'\r\n",
                "\t\tAND b.Bestelldatum < '2018-01-01'\r\n",
                "\tGROUP BY b.BestellungID\r\n",
                ")\r\n",
                "SELECT b.BestellungID, b.Bestelldatum\r\n",
                "\t, SUM(d.Menge * d.Verkaufspreis) AS Bestellwert\r\n",
                "FROM Bestellung AS b\r\n",
                "JOIN BestellDetail AS d ON b.BestellungID = d.BestellungID\r\n",
                "WHERE b.Bestelldatum >= '2018-01-01'\r\n",
                "\tAND b.Bestelldatum < '2019-01-01'\r\n",
                "GROUP BY  b.BestellungID, b.Bestelldatum\r\n",
                "HAVING SUM(d.Menge * d.Verkaufspreis) > (\r\n",
                "\tSELECT MAX(Wert) FROM Bestellungen2017\r\n",
                ");"
            ],
            "metadata": {
                "language": "sql",
                "azdata_cell_guid": "f82ac43a-1595-4c63-b093-289efda2f335"
            },
            "outputs": [],
            "execution_count": null
        },
        {
            "cell_type": "markdown",
            "source": [
                "# Korrelierte Unterabfragen\n",
                "\n",
                "- die Unterabfrage ist abhängig von der äußeren Abfrage\n",
                "- sie kann deshalb nicht alleine ausgeführt werden\n",
                "- Alternative zu LEFT JOIN\n",
                "    - z. B.: \"Zeige **ALLE** Kunden und die Anzahl ihrer Bestellungen\""
            ],
            "metadata": {
                "language": "",
                "azdata_cell_guid": "e621ae31-6cc0-4913-822e-4457917793b5"
            },
            "attachments": {}
        },
        {
            "cell_type": "code",
            "source": [
                "SELECT COUNT(BestellungID) \r\n",
                "\t\tFROM Bestellung\r\n",
                "        -- Korrelation!\r\n",
                "\t\t-- WHERE Bestellung.KundenNr = Kunde.KundenNr"
            ],
            "metadata": {
                "language": "sql",
                "azdata_cell_guid": "461ee8a5-cdb9-44d7-aa06-7cbc1bca0c00"
            },
            "outputs": [],
            "execution_count": null
        },
        {
            "cell_type": "code",
            "source": [
                "-- \"Zeige ALLE Kunden und die Anzahl ihrer Bestellungen\"\r\n",
                "-- Lösung mit korrelierter Unterabfrage\r\n",
                "SELECT Firma\r\n",
                "\t, (\r\n",
                "\t\tSELECT COUNT(BestellungID) \r\n",
                "\t\tFROM Bestellung\r\n",
                "        -- Korrelation!\r\n",
                "\t\tWHERE Bestellung.KundenNr = Kunde.KundenNr\r\n",
                "\t) AS [Anzahl Bestellungen]\r\n",
                "FROM Kunde;"
            ],
            "metadata": {
                "azdata_cell_guid": "c5b7ee23-08f5-465a-9294-59990046cabe",
                "language": "sql"
            },
            "outputs": [],
            "execution_count": null
        },
        {
            "cell_type": "code",
            "source": [
                "-- \"Zeige ALLE Kunden und die Anzahl ihrer Bestellungen\"\r\n",
                "-- Lösung mit LEFT JOIN\r\n",
                "SELECT k.Firma\r\n",
                "\t, COUNT(b.BestellungID) AS [Anzahl Bestellungen]\r\n",
                "FROM Kunde AS k\r\n",
                "LEFT JOIN Bestellung AS b\r\n",
                "\tON k.KundenNr = b.KundenNr\r\n",
                "GROUP BY k.firma\r\n",
                "ORDER BY [Anzahl Bestellungen] ASC;"
            ],
            "metadata": {
                "language": "sql",
                "azdata_cell_guid": "4e341265-1253-44f7-988d-3b03ffb77701"
            },
            "outputs": [],
            "execution_count": null
        }
    ]
}