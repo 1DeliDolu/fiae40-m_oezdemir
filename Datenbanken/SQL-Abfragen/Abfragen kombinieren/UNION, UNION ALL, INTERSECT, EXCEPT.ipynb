{
    "metadata": {
        "kernelspec": {
            "name": "SQL",
            "display_name": "SQL",
            "language": "sql"
        },
        "language_info": {
            "name": "sql",
            "version": ""
        }
    },
    "nbformat_minor": 2,
    "nbformat": 4,
    "cells": [
        {
            "cell_type": "markdown",
            "source": [
                "# Abfragen kombinieren mit UNION, UNION ALL, INTERSECT, EXCEPT\n",
                "\n",
                "Während JOINs Spalten aus verschiedenen Tabellen zusammenbringen und dabei Zeilen auswählen, je nachdem ob ein INNER oder OUTER JOIN vorliegt, sind nachfolgend demonstrierte Operationen sogenannte **SET Operationen**. _Sie kombinieren Zeilen_ aus unterschiedelichen Abfragen, wobei die Anzahl der Spalten und ihre Datentypen übereinstimmen müssen.\n",
                "\n",
                "- [UNION](https://learn.microsoft.com/en-us/sql/t-sql/language-elements/set-operators-union-transact-sql?view=sql-server-ver16)\n",
                "- [EXCEPT and INTERSECT](https://learn.microsoft.com/en-us/sql/t-sql/language-elements/set-operators-except-and-intersect-transact-sql?view=sql-server-ver16)"
            ],
            "metadata": {
                "azdata_cell_guid": "6899b9e8-8694-4b53-a1e0-c83f2eb88bd1"
            },
            "attachments": {}
        },
        {
            "cell_type": "code",
            "source": [
                "-- Beispiele mit Tabellen Mitarbeiter und Kunde\r\n",
                "SELECT COUNT(DISTINCT Vorname) AS [Vornamen von Mitarbeitern] FROM Mitarbeiter; -- 10\r\n",
                "SELECT COUNT(DISTINCT Vorname) AS [Vornamen von Kunden] FROM Kunde; -- 86"
            ],
            "metadata": {
                "azdata_cell_guid": "8ed7df3c-f265-4c46-af9e-3ff939ea455b",
                "language": "sql"
            },
            "outputs": [],
            "execution_count": null
        },
        {
            "cell_type": "code",
            "source": [
                "-- UNION\r\n",
                "-- ALLE Vornamen von Mitarbeitern UND Kunden ohne Mehrfachnennung\r\n",
                "SELECT Vorname FROM Mitarbeiter\r\n",
                "UNION\r\n",
                "SELECT Vorname FROM Kunde\r\n",
                "ORDER BY Vorname; -- 95 Zeilen"
            ],
            "metadata": {
                "language": "sql",
                "azdata_cell_guid": "2b1baa3a-1be8-469e-b5f7-84943ad88fdb"
            },
            "outputs": [],
            "execution_count": null
        },
        {
            "cell_type": "code",
            "source": [
                "-- UNION ALL\r\n",
                "-- mit Nennung von Duplikaten\r\n",
                "SELECT Vorname FROM Mitarbeiter\r\n",
                "UNION ALL\r\n",
                "SELECT Vorname FROM Kunde\r\n",
                "ORDER BY Vorname; -- 102 Zeilen"
            ],
            "metadata": {
                "language": "sql",
                "azdata_cell_guid": "fe2b94de-6d78-45aa-8ad7-7542f5f4afaf"
            },
            "outputs": [],
            "execution_count": null
        },
        {
            "cell_type": "code",
            "source": [
                "-- INTERSECT \r\n",
                "-- Mitarbeiter Vornamen, die AUCH in der Kundenliste vorkommen\r\n",
                "SELECT Vorname FROM Mitarbeiter\r\n",
                "INTERSECT\r\n",
                "SELECT Vorname FROM Kunde\r\n",
                "ORDER BY Vorname; "
            ],
            "metadata": {
                "language": "sql",
                "azdata_cell_guid": "4d78594d-e525-4dde-b973-b4240bbf42b0"
            },
            "outputs": [],
            "execution_count": null
        },
        {
            "cell_type": "code",
            "source": [
                "-- EXCEPT\r\n",
                "-- Mitarbeiter Vornamen, die NICHT in der Kundenliste vorkommen\r\n",
                "SELECT Vorname FROM Mitarbeiter\r\n",
                "EXCEPT \r\n",
                "SELECT Vorname FROM Kunde\r\n",
                "ORDER BY Vorname;"
            ],
            "metadata": {
                "language": "sql",
                "azdata_cell_guid": "54cb4f12-67b8-4fb7-a9d6-8a332992b5f9"
            },
            "outputs": [],
            "execution_count": null
        },
        {
            "cell_type": "code",
            "source": [
                "-- Namen von Mitarbeitern und Kunden auflisten, mit Typangabe\r\n",
                "SELECT Vorname AS Name, 'Mitarbeiter' AS Typ\r\n",
                "FROM Mitarbeiter\r\n",
                "UNION\r\n",
                "SELECT Vorname, 'Kunde'\r\n",
                "FROM Kunde\r\n",
                "ORDER BY Name;"
            ],
            "metadata": {
                "language": "sql",
                "azdata_cell_guid": "e932d906-5942-477a-8be6-d11fea595437"
            },
            "outputs": [],
            "execution_count": null
        },
        {
            "cell_type": "code",
            "source": [
                "-- Fehler mit Spalten Alias\r\n",
                "SELECT Ort AS Stadt -- Alias hier festgelegt\r\n",
                "FROM Kunde\r\n",
                "UNION\r\n",
                "SELECT Ort AS City -- Alias hier wirkungslos, aber Abfrage läuft.\r\n",
                "FROM Adresse; "
            ],
            "metadata": {
                "language": "sql",
                "azdata_cell_guid": "141726fe-b11a-4f91-8646-81106c8b0da5"
            },
            "outputs": [],
            "execution_count": null
        },
        {
            "cell_type": "code",
            "source": [
                "-- Falsche Anzahl Spalten\r\n",
                "/*  Alle Abfragen, die mit einem UNION-, INTERSECT- oder EXCEPT-Operator verbunden werden, \r\n",
                "    müssen gleich viele Ausdrücke in ihren Ziellisten aufweisen. */\r\n",
                "SELECT Vorname, Nachname\r\n",
                "FROM Mitarbeiter\r\n",
                "UNION\r\n",
                "SELECT Firma\r\n",
                "FROM Kunde;"
            ],
            "metadata": {
                "language": "sql",
                "azdata_cell_guid": "62b3137d-0bcc-41df-956b-4742d5b6384a"
            },
            "outputs": [],
            "execution_count": null
        },
        {
            "cell_type": "code",
            "source": [
                "-- Unpassende Datentypen\r\n",
                "/* Fehler beim Konvertieren einer Zeichenfolge \r\n",
                "\tin ein Datum und/oder eine Uhrzeit. */\r\n",
                "SELECT Vorname, Geburtsdatum\r\n",
                "FROM Mitarbeiter\r\n",
                "UNION\r\n",
                "SELECT Firma, Ort\r\n",
                "FROM Kunde;"
            ],
            "metadata": {
                "language": "sql",
                "azdata_cell_guid": "97c9ac1c-f004-469b-af3b-271281abe975"
            },
            "outputs": [],
            "execution_count": null
        },
        {
            "cell_type": "code",
            "source": [
                "-- Datentypen angeglichen, aber inhaltlich sinnlos\r\n",
                "SELECT Vorname, FORMAT(Geburtsdatum, 'd', 'de-de') AS Geburtsdatum\r\n",
                "FROM Mitarbeiter\r\n",
                "UNION\r\n",
                "SELECT Firma, Ort\r\n",
                "FROM Kunde;"
            ],
            "metadata": {
                "language": "sql",
                "azdata_cell_guid": "98cfc985-e78f-48a7-b8d9-9cd940b58a72"
            },
            "outputs": [],
            "execution_count": null
        }
    ]
}