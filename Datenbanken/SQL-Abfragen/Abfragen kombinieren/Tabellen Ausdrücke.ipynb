{
    "metadata": {
        "kernelspec": {
            "name": "SQL",
            "display_name": "SQL",
            "language": "sql"
        },
        "language_info": {
            "name": "sql",
            "version": ""
        }
    },
    "nbformat_minor": 2,
    "nbformat": 4,
    "cells": [
        {
            "cell_type": "markdown",
            "source": [
                "## Tabellenausdrücke (Table Expressions)\n",
                "\n",
                "In T-SQL werden folgende Arten von Tabellenausdrücken unterschieden:\n",
                "\n",
                "- **Derived Table**\n",
                "    - Eine eingeklammerte Unterabfrage mit Tabellen-Alias\n",
                "    - Typisch eine Unterabfrage in der FROM-Klausel der äußeren Abfrage\n",
                "    - ist nicht wiederverwendbar\n",
                "- **Common Table Expression (CTE)**\n",
                "    - Eine benannte Unterabfrage in einer WITH-Klausel\n",
                "    - Mehrere Unterabfragen können damit ohne Verschachtelung vorbereitet werden, sodass die Abfrage insgesamt übersichtlich bleibt.\n",
                "    - ist nicht wiederverwendbar\n",
                "- **View**\n",
                "    - Eine Abfrage, die als View-Datenbankobjekt permanent gespeichert ist\n",
                "    - Kann abgefragt werden wie eine Tabelle\n",
                "    - ist wiederverwendbar\n",
                "- **Inline Table-Valued Function**\n",
                "    - Einem View ähnliches Objekt in der Datenbank, das beim Aufruf Eingabeparameter bekommen kann.\n",
                "    - ist wiederverwendbar"
            ],
            "metadata": {
                "azdata_cell_guid": "b1c9f042-c42d-4dca-a653-6e20f9e7db9a"
            },
            "attachments": {}
        },
        {
            "cell_type": "markdown",
            "source": [
                "## Derived Table\n",
                "\n",
                "Das folgende Beispiel zeigt die beiden günstigsten Produkte jeder Kategorie, indem die äußere Abfrage den Tabellenausdruck filtert."
            ],
            "metadata": {
                "azdata_cell_guid": "6a6293be-cde9-4f74-bd66-36cfa163845f",
                "language": ""
            },
            "attachments": {}
        },
        {
            "cell_type": "code",
            "source": [
                "SELECT KategorieID, ProduktID, Produkt, Einzelpreis\r\n",
                "FROM (\r\n",
                "SELECT ROW_NUMBER() OVER(\r\n",
                "\tPARTITION BY KategorieID \r\n",
                "\tORDER BY Einzelpreis, ProduktID\r\n",
                "\t) AS RowNum,\r\n",
                "\tKategorieID, ProduktID, Produkt, Einzelpreis\r\n",
                "FROM Produkt ) AS dt\r\n",
                "WHERE RowNum <=2;"
            ],
            "metadata": {
                "azdata_cell_guid": "f65e8b87-c72e-4f1c-8066-2a0730e5f6a1",
                "language": "sql"
            },
            "outputs": [],
            "execution_count": null
        },
        {
            "cell_type": "markdown",
            "source": [
                "## Common Table Expression\n",
                "\n",
                "Die gleiche Abfrage wie oben, diesmal mit vorangestellter CTE."
            ],
            "metadata": {
                "language": "sql",
                "azdata_cell_guid": "48a12ad8-1a28-469e-92e4-d98ea0434e73"
            },
            "attachments": {}
        },
        {
            "cell_type": "code",
            "source": [
                "WITH cte AS (        \r\n",
                "    SELECT ROW_NUMBER() OVER(\r\n",
                "        PARTITION BY KategorieID \r\n",
                "        ORDER BY Einzelpreis, ProduktID\r\n",
                "        ) AS RowNum,\r\n",
                "        KategorieID, ProduktID, Produkt, Einzelpreis\r\n",
                "FROM Produkt )\r\n",
                "SELECT KategorieID, ProduktID, Produkt, Einzelpreis\r\n",
                "FROM cte\r\n",
                "WHERE RowNum <=2;"
            ],
            "metadata": {
                "language": "sql",
                "azdata_cell_guid": "ff313cfb-6760-4e11-a364-a1196ba212d2"
            },
            "outputs": [],
            "execution_count": null
        },
        {
            "cell_type": "markdown",
            "source": [
                "## View\n",
                "\n",
                "Was in den vorherigen Beispielen als Derived Table bzw. CTE eingebettet war, wird im folgenden Beispiel als View-Objekt angelegt und dann abgefragt."
            ],
            "metadata": {
                "language": "sql",
                "azdata_cell_guid": "f5cb9cd0-c1a8-44c5-a161-7976672f2dae"
            },
            "attachments": {}
        },
        {
            "cell_type": "code",
            "source": [
                "DROP VIEW IF EXISTS dbo.vw_ProdukteNachKategorieUndPreis;\r\n",
                "GO\r\n",
                "CREATE VIEW dbo.vw_ProdukteNachKategorieUndPreis\r\n",
                "AS \r\n",
                "SELECT ROW_NUMBER() OVER(\r\n",
                "        PARTITION BY KategorieID \r\n",
                "        ORDER BY Einzelpreis, ProduktID\r\n",
                "        ) AS RowNum,\r\n",
                "        KategorieID, ProduktID, Produkt, Einzelpreis\r\n",
                "FROM Produkt;"
            ],
            "metadata": {
                "language": "sql",
                "azdata_cell_guid": "dd006ae1-7b1b-48a7-9f36-bf5a86b8fef8"
            },
            "outputs": [],
            "execution_count": null
        },
        {
            "cell_type": "code",
            "source": [
                "SELECT KategorieID, ProduktID, Produkt, Einzelpreis\r\n",
                "FROM dbo.vw_ProdukteNachKategorieUndPreis\r\n",
                "WHERE RowNum <=2;"
            ],
            "metadata": {
                "language": "sql",
                "azdata_cell_guid": "ecc319da-6cf4-42df-b2ae-e808cbfd0d94"
            },
            "outputs": [],
            "execution_count": null
        },
        {
            "cell_type": "markdown",
            "source": [
                "## Inline Table-Valued-Function\n",
                "\n",
                "Folgende Funktion erlaubt, für eine bestimmte Kategorie eine gewünschte Anzahl Produkte anzuzeigen."
            ],
            "metadata": {
                "language": "sql",
                "azdata_cell_guid": "2b1f9558-3f22-4f3e-88ba-71249f7db8ad"
            },
            "attachments": {}
        },
        {
            "cell_type": "code",
            "source": [
                "DROP FUNCTION IF EXISTS dbo.udf_GuenstigeProdukte;\r\n",
                "GO\r\n",
                "CREATE FUNCTION dbo.udf_GuenstigeProdukte (@Kat AS INT, @Num AS INT) RETURNS TABLE\r\n",
                "AS \r\n",
                "RETURN\r\n",
                "WITH cte AS (        \r\n",
                "    SELECT ROW_NUMBER() OVER(\r\n",
                "        PARTITION BY KategorieID \r\n",
                "        ORDER BY Einzelpreis, ProduktID\r\n",
                "        ) AS RowNum,\r\n",
                "        KategorieID, ProduktID, Produkt, Einzelpreis\r\n",
                "    FROM Produkt\r\n",
                "    WHERE KategorieID = @Kat )\r\n",
                "SELECT KategorieID, ProduktID, Produkt, Einzelpreis\r\n",
                "FROM cte\r\n",
                "WHERE RowNum <= @Num;"
            ],
            "metadata": {
                "language": "sql",
                "azdata_cell_guid": "5e54a69b-dc4d-44a8-9a20-dceae5c7932e"
            },
            "outputs": [],
            "execution_count": null
        },
        {
            "cell_type": "code",
            "source": [
                "-- Die 5 günstigsten Produkte der 3. Kategorie\r\n",
                "SELECT * FROM udf_GuenstigeProdukte(3, 5);"
            ],
            "metadata": {
                "language": "sql",
                "azdata_cell_guid": "2b67b2c4-d207-4883-89de-95c9ddb664e5"
            },
            "outputs": [],
            "execution_count": null
        },
        {
            "cell_type": "code",
            "source": [
                "-- Die 3 günstigsten Produkte der 4. Kategorie\r\n",
                "SELECT * FROM udf_GuenstigeProdukte(4, 3);"
            ],
            "metadata": {
                "language": "sql",
                "azdata_cell_guid": "ecac8f5e-9f17-4688-9361-a4c7d7d65640"
            },
            "outputs": [],
            "execution_count": null
        },
        {
            "cell_type": "markdown",
            "source": [
                "# Übungen zu Tabellenausdrücken\n",
                "\n",
                "1. Schreiben Sie die Tabellenwertfunktion **udf\\_GuenstigeProdukte** um, so dass anstelle der KategorieID die Bezeichnung der Kategorie als Parameter übergeben wird.\n",
                "    \n",
                "    - Entweder verwenden Sie einen JOIN zwischen Produkt und Kategorie\n",
                "    - Oder Sie nutzen eine Unterabfrage, um die KategorieID zur Bezeichnung zu finden\n",
                "2. Schreiben Sie ein VIEW, das die Umsätze der Kategorien nach Jahren auflistet.\n",
                "    \n",
                "3. Schreiben Sie eine Tabellenwertfunktion, der Sie als Parameter eine Jahreszahl übergeben und die die Gesamtumsätze aller Kategorien im entsprechenden Jahr anzeigt.\n",
                "    \n",
                "4. **Delikatessen** letzte Aufgabe in Notebook 02-Kunden: Zeige für jedes Land die beiden Kunden mit dem höchsten Umsatz 2013 an."
            ],
            "metadata": {
                "language": "sql",
                "azdata_cell_guid": "3a1df05e-050e-4181-82ce-8d70426e29a8"
            },
            "attachments": {}
        }
    ]
}