{
    "metadata": {
        "kernelspec": {
            "name": "SQL",
            "display_name": "SQL",
            "language": "sql"
        },
        "language_info": {
            "name": "sql",
            "version": ""
        }
    },
    "nbformat_minor": 2,
    "nbformat": 4,
    "cells": [
        {
            "cell_type": "markdown",
            "source": [
                "# TABLESAMPLE\n",
                "\n",
                "[TABLESAMPLE Referenz](https:\\learn.microsoft.com\\en-us\\sql\\t-sql\\queries\\from-transact-sql?view=sql-server-ver16#tablesample-clause)\n",
                "\n",
                "- Wählt zufällig eine ungefähre Anzahl Zeilen oder einen Prozentsatz der Datensätze aus.\n",
                "- Mit dem gleichen repeat\\_seed lässt sich die gleiche Auswahl wiederholen.\n",
                "- Da zufällig Speicherseiten gewählt und der Inhalt dieser Seiten angezeigt wird, erscheinden Blöcke von fortlaufenden IDs."
            ],
            "metadata": {
                "azdata_cell_guid": "12666720-a1e7-4b7e-83e0-0b01d39989b3"
            },
            "attachments": {}
        },
        {
            "cell_type": "code",
            "source": [
                "SELECT AdressID, Vorname, Nachname, Ort\r\n",
                "FROM Adresse TABLESAMPLE SYSTEM (1 PERCENT) REPEATABLE (123)  ;"
            ],
            "metadata": {
                "azdata_cell_guid": "61692057-2002-41a0-aeed-d8e5395fae8a",
                "language": "sql"
            },
            "outputs": [],
            "execution_count": null
        }
    ]
}