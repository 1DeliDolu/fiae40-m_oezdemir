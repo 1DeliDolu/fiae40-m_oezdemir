{
    "metadata": {
        "kernelspec": {
            "name": "SQL",
            "display_name": "SQL",
            "language": "sql"
        },
        "language_info": {
            "name": "sql",
            "version": ""
        }
    },
    "nbformat_minor": 2,
    "nbformat": 4,
    "cells": [
        {
            "cell_type": "markdown",
            "source": [
                "# CASE\n",
                "\n",
                "Sie verwenden CASE, wenn Sie nicht einfach nur Werte aus der Datenbank anzeigen möchten, sondern die **Werte interpretieren**, das heißt abhängig von den Werten unterschiedliche Ausgaben machen wollen.\n",
                "\n",
                "- **Simple CASE** macht die Ausgabe abhängig von bestimmten Werten.\n",
                "- **Searched CASE** verwendet Ausdrücke ähnlich wie in WHERE Klauseln und passt die Ausgabe an, wenn das Ergebnis eines solchen Ausdrucks WAHR wird.\n",
                "\n",
                "**Referenz**: [CASE](https://learn.microsoft.com/en-us/sql/t-sql/language-elements/case-transact-sql?view=sql-server-ver16)"
            ],
            "metadata": {
                "azdata_cell_guid": "88672945-ad15-4858-830a-1000217b51b0"
            },
            "attachments": {}
        },
        {
            "cell_type": "code",
            "source": [
                "-- Simple CASE\r\n",
                "SELECT AdressID, Nachname, Vorname, Ort\r\n",
                "\t, Newsletter\r\n",
                "\t, CASE Newsletter \r\n",
                "\t\tWHEN 1 THEN 'Abonniert'\r\n",
                "\t\tELSE 'Nicht abonniert'\r\n",
                "\t  END AS [Newsletter Abo]\r\n",
                "FROM Adresse\r\n",
                "ORDER BY AdressID;"
            ],
            "metadata": {
                "azdata_cell_guid": "1e41af9d-2936-4e72-a2df-2e6e6c6db4b7",
                "language": "sql"
            },
            "outputs": [],
            "execution_count": null
        },
        {
            "cell_type": "code",
            "source": [
                "-- Searched CASE\r\n",
                "SELECT AdressID, Nachname, Vorname, Ort\r\n",
                "\t, LEFT(Nachname, 1) AS [Anfangsbuchstabe]\r\n",
                "\t, CASE\r\n",
                "\t\tWHEN LEFT(Nachname, 1) BETWEEN 'A' AND 'H'\r\n",
                "\t\t\tTHEN 'Frau Mayer'\r\n",
                "\t    WHEN LEFT(Nachname, 1) BETWEEN 'I' AND 'R'\r\n",
                "\t\t\tTHEN 'Herr Müller' \r\n",
                "        ELSE 'Frau Schmidt'\r\n",
                "\tEND AS [Sachbearbeiter]\r\n",
                "FROM Adresse\r\n",
                "ORDER BY AdressID;"
            ],
            "metadata": {
                "language": "sql",
                "azdata_cell_guid": "b701b1c2-bda1-4996-b3ea-db5e827422af"
            },
            "outputs": [],
            "execution_count": null
        }
    ]
}