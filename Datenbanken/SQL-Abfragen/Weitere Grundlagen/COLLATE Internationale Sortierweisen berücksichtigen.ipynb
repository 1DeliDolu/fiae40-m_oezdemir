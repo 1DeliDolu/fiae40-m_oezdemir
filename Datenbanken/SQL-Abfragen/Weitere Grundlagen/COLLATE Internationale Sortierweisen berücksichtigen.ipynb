{
    "metadata": {
        "kernelspec": {
            "name": "SQL",
            "display_name": "SQL",
            "language": "sql"
        },
        "language_info": {
            "name": "sql",
            "version": ""
        }
    },
    "nbformat_minor": 2,
    "nbformat": 4,
    "cells": [
        {
            "cell_type": "markdown",
            "source": [
                "# Mit COLLATE die Sortierreihenfolge anpassen"
            ],
            "metadata": {
                "language": "sql",
                "azdata_cell_guid": "6045b6d9-76fc-47c3-b41e-9838c8d3e98d"
            },
            "attachments": {}
        },
        {
            "cell_type": "code",
            "source": [
                "-- Sortierung OHNE Berücksichtigung von Groß- und Kleinschreibung und Akzenten\r\n",
                "SELECT Vorname\r\n",
                "FROM Sortierung\r\n",
                "ORDER BY Vorname COLLATE Latin1_General_CI_AI ASC;\r\n",
                "\r\n",
                "-- Sortierung MIT Berücksichtigung von Groß- und Kleinschreibung und Akzenten\r\n",
                "SELECT Vorname\r\n",
                "FROM Sortierung\r\n",
                "ORDER BY Vorname COLLATE Latin1_General_CS_AS ASC;"
            ],
            "metadata": {
                "azdata_cell_guid": "c5b8dbe3-e6d7-4de9-9857-2dc0c63e743c",
                "language": "sql"
            },
            "outputs": [
                {
                    "output_type": "display_data",
                    "data": {
                        "text/html": "(9 rows affected)"
                    },
                    "metadata": {}
                },
                {
                    "output_type": "display_data",
                    "data": {
                        "text/html": "(9 rows affected)"
                    },
                    "metadata": {}
                },
                {
                    "output_type": "display_data",
                    "data": {
                        "text/html": "Total execution time: 00:00:00.029"
                    },
                    "metadata": {}
                },
                {
                    "output_type": "execute_result",
                    "execution_count": 2,
                    "data": {
                        "application/vnd.dataresource+json": {
                            "schema": {
                                "fields": [
                                    {
                                        "name": "Vorname"
                                    }
                                ]
                            },
                            "data": [
                                {
                                    "0": "albert"
                                },
                                {
                                    "0": "Albert"
                                },
                                {
                                    "0": "ALBERT"
                                },
                                {
                                    "0": "álbert"
                                },
                                {
                                    "0": "Álbert"
                                },
                                {
                                    "0": "ÁLBERT"
                                },
                                {
                                    "0": "aLBERT"
                                },
                                {
                                    "0": "berta"
                                },
                                {
                                    "0": "Berta"
                                }
                            ]
                        },
                        "text/html": "<table><tr><th>Vorname</th></tr><tr><td>albert</td></tr><tr><td>Albert</td></tr><tr><td>ALBERT</td></tr><tr><td>álbert</td></tr><tr><td>Álbert</td></tr><tr><td>ÁLBERT</td></tr><tr><td>aLBERT</td></tr><tr><td>berta</td></tr><tr><td>Berta</td></tr></table>"
                    },
                    "metadata": {}
                },
                {
                    "output_type": "execute_result",
                    "execution_count": 2,
                    "data": {
                        "application/vnd.dataresource+json": {
                            "schema": {
                                "fields": [
                                    {
                                        "name": "Vorname"
                                    }
                                ]
                            },
                            "data": [
                                {
                                    "0": "albert"
                                },
                                {
                                    "0": "aLBERT"
                                },
                                {
                                    "0": "Albert"
                                },
                                {
                                    "0": "ALBERT"
                                },
                                {
                                    "0": "álbert"
                                },
                                {
                                    "0": "Álbert"
                                },
                                {
                                    "0": "ÁLBERT"
                                },
                                {
                                    "0": "berta"
                                },
                                {
                                    "0": "Berta"
                                }
                            ]
                        },
                        "text/html": "<table><tr><th>Vorname</th></tr><tr><td>albert</td></tr><tr><td>aLBERT</td></tr><tr><td>Albert</td></tr><tr><td>ALBERT</td></tr><tr><td>álbert</td></tr><tr><td>Álbert</td></tr><tr><td>ÁLBERT</td></tr><tr><td>berta</td></tr><tr><td>Berta</td></tr></table>"
                    },
                    "metadata": {}
                }
            ],
            "execution_count": 2
        },
        {
            "cell_type": "code",
            "source": [
                "-- Orte in typischer Latin1 Sortierung\r\n",
                "SELECT Place FROM Locations\r\n",
                "ORDER BY Place\r\n",
                "COLLATE Latin1_General_CS_AS ASC;\r\n",
                "\r\n",
                "-- Orte in Spanischer Sortierung\r\n",
                "-- Ch ist ein eigener Buchstabe!\r\n",
                "SELECT Place FROM Locations\r\n",
                "ORDER BY Place\r\n",
                "COLLATE Traditional_Spanish_ci_ai ASC;"
            ],
            "metadata": {
                "language": "sql",
                "azdata_cell_guid": "24a087d6-697a-462f-a6f8-40dc9c172e4a"
            },
            "outputs": [
                {
                    "output_type": "display_data",
                    "data": {
                        "text/html": "(4 rows affected)"
                    },
                    "metadata": {}
                },
                {
                    "output_type": "display_data",
                    "data": {
                        "text/html": "(4 rows affected)"
                    },
                    "metadata": {}
                },
                {
                    "output_type": "display_data",
                    "data": {
                        "text/html": "Total execution time: 00:00:00.038"
                    },
                    "metadata": {}
                },
                {
                    "output_type": "execute_result",
                    "execution_count": 3,
                    "data": {
                        "application/vnd.dataresource+json": {
                            "schema": {
                                "fields": [
                                    {
                                        "name": "Place"
                                    }
                                ]
                            },
                            "data": [
                                {
                                    "0": "California"
                                },
                                {
                                    "0": "Chiapas"
                                },
                                {
                                    "0": "Cinco Rios"
                                },
                                {
                                    "0": "Colima"
                                }
                            ]
                        },
                        "text/html": "<table><tr><th>Place</th></tr><tr><td>California</td></tr><tr><td>Chiapas</td></tr><tr><td>Cinco Rios</td></tr><tr><td>Colima</td></tr></table>"
                    },
                    "metadata": {}
                },
                {
                    "output_type": "execute_result",
                    "execution_count": 3,
                    "data": {
                        "application/vnd.dataresource+json": {
                            "schema": {
                                "fields": [
                                    {
                                        "name": "Place"
                                    }
                                ]
                            },
                            "data": [
                                {
                                    "0": "California"
                                },
                                {
                                    "0": "Cinco Rios"
                                },
                                {
                                    "0": "Colima"
                                },
                                {
                                    "0": "Chiapas"
                                }
                            ]
                        },
                        "text/html": "<table><tr><th>Place</th></tr><tr><td>California</td></tr><tr><td>Cinco Rios</td></tr><tr><td>Colima</td></tr><tr><td>Chiapas</td></tr></table>"
                    },
                    "metadata": {}
                }
            ],
            "execution_count": 3
        },
        {
            "cell_type": "code",
            "source": [
                "SELECT * FROM sys.fn_helpcollations()"
            ],
            "metadata": {
                "language": "sql",
                "azdata_cell_guid": "9e73dfa1-76b3-48ac-b965-5446d853ba8e"
            },
            "outputs": [],
            "execution_count": null
        }
    ]
}