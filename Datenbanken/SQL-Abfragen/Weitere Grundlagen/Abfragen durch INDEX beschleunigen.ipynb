{
    "metadata": {
        "kernelspec": {
            "name": "SQL",
            "display_name": "SQL",
            "language": "sql"
        },
        "language_info": {
            "name": "sql",
            "version": ""
        }
    },
    "nbformat_minor": 2,
    "nbformat": 4,
    "cells": [
        {
            "cell_type": "markdown",
            "source": [
                "# Suchvorgänge beschleunigen durch einen INDEX\n",
                "\n",
                "Primärschlüssel: **CLUSTERED INDEX**\n",
                "\n",
                "Weitere Indexe: **NONCLUSTERED INDEX**\n",
                "\n",
                "- Gezielt eingesetzte Indexe beschleunigen die Suche.\n",
                "- Änderungen an Daten werden hingegen ausgebremst.\n",
                "- Indexe fragmentieren mit der Zeit und müssen aufgefrischt oder neu erstellt werden.\n",
                "\n",
                "### Hinweise zur Pflege von Indices\n",
                "\n",
                "- [CREATE INDEX](https:\\learn.microsoft.com\\en-us\\sql\\t-sql\\statements\\create-index-transact-sql?view=sql-server-ver16)\n",
                "- [ALTER INDEX](https:\\learn.microsoft.com\\en-us\\sql\\t-sql\\statements\\alter-index-transact-sql?view=sql-server-ver16)\n",
                "- [DROP INDEX](https:\\learn.microsoft.com\\en-us\\sql\\t-sql\\statements\\drop-index-transact-sql?view=sql-server-ver16)\n",
                "- [Specify Fill Factor for an Index](https:\\learn.microsoft.com\\en-us\\sql\\relational-databases\\indexes\\specify-fill-factor-for-an-index?view=sql-server-ver16)"
            ],
            "metadata": {
                "azdata_cell_guid": "2af46012-f9cd-4a29-912d-5d1fb1db1d02"
            },
            "attachments": {}
        },
        {
            "cell_type": "code",
            "source": [
                "-- Clustered Index Scan auf Primärschlüssel\r\n",
                "SELECT * FROM Adresse WHERE Ort=N'Marburg';"
            ],
            "metadata": {
                "azdata_cell_guid": "75d819cd-b676-46f3-978b-2399c5d1d7a0",
                "language": "sql"
            },
            "outputs": [],
            "execution_count": null
        },
        {
            "cell_type": "markdown",
            "source": [
                "![Ausführungsplan ohne Index](../_images/Ortsuche%20ohne%20Index.png)"
            ],
            "metadata": {
                "language": "sql",
                "azdata_cell_guid": "4043b0a2-ccfe-4772-a444-e0235572bf21"
            },
            "attachments": {}
        },
        {
            "cell_type": "code",
            "source": [
                "-- Tabelle ändern INDEX hinzufügen\r\n",
                "-- Nonclustered Index für ort wird erstellt\r\n",
                "CREATE INDEX ix_ort ON Adresse(Ort);"
            ],
            "metadata": {
                "language": "sql",
                "azdata_cell_guid": "a9303849-6019-4e0c-a29e-fc6fd5c957c4"
            },
            "outputs": [],
            "execution_count": null
        },
        {
            "cell_type": "code",
            "source": [
                "-- Schnellere Suche mit Index Seek\r\n",
                "SELECT * FROM Adresse WHERE Ort=N'Marburg';"
            ],
            "metadata": {
                "language": "sql",
                "azdata_cell_guid": "3ad789f3-3666-4665-ba7c-08c01492c2c0"
            },
            "outputs": [],
            "execution_count": null
        },
        {
            "cell_type": "markdown",
            "source": [
                "![Ausführungsplan mit Index](../_images/Ortsuche%20mit%20Index.png)"
            ],
            "metadata": {
                "language": "sql",
                "azdata_cell_guid": "651672a3-fe31-436a-a780-c549b45520e7"
            },
            "attachments": {}
        },
        {
            "cell_type": "code",
            "source": [
                "-- Tabelle ändern INDEX löschen\r\n",
                "-- Syntax variiert je nach System\r\n",
                "-- https://www.w3schools.com/sql/sql_create_index.asp\r\n",
                "DROP INDEX Adresse.ix_ort;"
            ],
            "metadata": {
                "language": "sql",
                "azdata_cell_guid": "41a999c6-8c2e-45fe-8b13-56f312c4a365"
            },
            "outputs": [],
            "execution_count": null
        },
        {
            "cell_type": "code",
            "source": [
                "-- Clustered Index Scan, 2ms\r\n",
                "SELECT Mobile \r\n",
                "FROM Adresse \r\n",
                "WHERE Nachname = 'Kuntz' \r\n",
                "\tAND Vorname = 'Moritz';"
            ],
            "metadata": {
                "language": "sql",
                "azdata_cell_guid": "bfcf3220-fbc1-4b74-a6a0-20fefa4fcf17"
            },
            "outputs": [],
            "execution_count": null
        },
        {
            "cell_type": "markdown",
            "source": [
                "![Ausführungsplan ohne Index](../_images/Handy%20mit%20Nachname%20und%20Vorname%20suchen%20ohne%20Index.png)"
            ],
            "metadata": {
                "language": "sql",
                "azdata_cell_guid": "29009356-a339-467a-9272-51f6c9d21e4d"
            },
            "attachments": {}
        },
        {
            "cell_type": "code",
            "source": [
                "CREATE INDEX ix_namensuche ON Adresse(Nachname,Vorname);"
            ],
            "metadata": {
                "language": "sql",
                "azdata_cell_guid": "e2347b52-17e7-4ea2-8f27-17d595bf92b7"
            },
            "outputs": [],
            "execution_count": null
        },
        {
            "cell_type": "code",
            "source": [
                "-- Index Seek und Schlüsselsuche\r\n",
                "SELECT Mobile \r\n",
                "FROM Adresse \r\n",
                "WHERE Nachname = 'Kuntz' \r\n",
                "\tAND Vorname = 'Moritz';"
            ],
            "metadata": {
                "language": "sql",
                "azdata_cell_guid": "3df45cf4-2522-4684-923c-71ec6c6e126b"
            },
            "outputs": [],
            "execution_count": null
        },
        {
            "cell_type": "markdown",
            "source": [
                "![Handysuche mit Index über Nachname und Vorname](../_images/Handysuche%20mit%20Index%20über%20Nachname%20und%20Vorname.png)"
            ],
            "metadata": {
                "language": "sql",
                "azdata_cell_guid": "c4d29fe1-4296-4c61-8613-30a103df42a5"
            },
            "attachments": {}
        },
        {
            "cell_type": "code",
            "source": [
                "DROP INDEX Adresse.ix_namensuche;"
            ],
            "metadata": {
                "language": "sql",
                "azdata_cell_guid": "24a9c23e-eca3-4d8e-93d1-9e159051c8fb"
            },
            "outputs": [],
            "execution_count": null
        },
        {
            "cell_type": "code",
            "source": [
                "CREATE INDEX ix_namen_telefonsuche ON Adresse(Nachname,Vorname)\r\n",
                "INCLUDE(Mobile);"
            ],
            "metadata": {
                "language": "sql",
                "azdata_cell_guid": "de68d60c-103c-40fe-b3f6-aa98ca72965e"
            },
            "outputs": [],
            "execution_count": null
        },
        {
            "cell_type": "code",
            "source": [
                "-- Alle Information aus dem Index: reiner Index Seek\r\n",
                "SELECT Mobile \r\n",
                "FROM Adresse \r\n",
                "WHERE Nachname = 'Kuntz' \r\n",
                "\tAND Vorname = 'Moritz';"
            ],
            "metadata": {
                "language": "sql",
                "azdata_cell_guid": "f9df37f7-0931-49c1-9e44-7181402bf597"
            },
            "outputs": [],
            "execution_count": null
        },
        {
            "cell_type": "markdown",
            "source": [
                "![Handysuche mit speziellem Index](../_images/Handysuche%20mit%20speziellem%20Index.png)"
            ],
            "metadata": {
                "language": "sql",
                "azdata_cell_guid": "87076432-062c-410f-a331-dc0eca8c3420"
            },
            "attachments": {}
        },
        {
            "cell_type": "code",
            "source": [
                "DROP INDEX Adresse.ix_namen_telefonsuche;"
            ],
            "metadata": {
                "language": "sql",
                "azdata_cell_guid": "1f9d5caa-7e0f-4a77-94af-fb6f8162a859"
            },
            "outputs": [],
            "execution_count": null
        }
    ]
}