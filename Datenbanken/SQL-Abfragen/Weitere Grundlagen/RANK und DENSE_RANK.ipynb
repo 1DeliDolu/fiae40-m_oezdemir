{
    "metadata": {
        "kernelspec": {
            "name": "SQL",
            "display_name": "SQL",
            "language": "sql"
        },
        "language_info": {
            "name": "sql",
            "version": ""
        }
    },
    "nbformat_minor": 2,
    "nbformat": 4,
    "cells": [
        {
            "cell_type": "markdown",
            "source": [
                "# RANK() und DENSE\\_RANK()\n",
                "\n",
                "- [Ranking Functions (Transact-SQL)](https:\\learn.microsoft.com\\en-us\\sql\\t-sql\\functions\\ranking-functions-transact-sql?view=sql-server-ver16)\n",
                "- [RANK (Transact-SQL)](https:\\learn.microsoft.com\\en-us\\sql\\t-sql\\functions\\rank-transact-sql?view=sql-server-ver16)\n",
                "- [DENSE\\_RANK (Transact-SQL)](https:\\learn.microsoft.com\\en-us\\sql\\t-sql\\functions\\dense-rank-transact-sql?view=sql-server-ver16)"
            ],
            "metadata": {
                "azdata_cell_guid": "529fa209-28fa-48d2-9c6f-1aa40f12864e"
            },
            "attachments": {}
        },
        {
            "cell_type": "code",
            "source": [
                "-- Rang aller Länder nach Anzahl Kunden im Land\r\n",
                "SELECT RANK() OVER (ORDER BY COUNT(KundenNr) DESC) AS Rang\r\n",
                "    , DENSE_RANK() OVER (ORDER BY COUNT(KundenNr) DESC) AS [Rang ohne Lücken]\r\n",
                "    , Land, COUNT(KundenNr) AS [Anzahl Kunden]\r\n",
                "FROM Kunde\r\n",
                "GROUP BY Land;"
            ],
            "metadata": {
                "azdata_cell_guid": "41c93867-c730-4914-89a6-febd4f36595f",
                "language": "sql"
            },
            "outputs": [],
            "execution_count": null
        },
        {
            "cell_type": "code",
            "source": [
                "-- Rang der Kunden nach Umsatz partitioniert nach Land\r\n",
                "SELECT k.Land\r\n",
                "    , RANK() OVER(\r\n",
                "            PARTITION BY k.Land \r\n",
                "            ORDER BY SUM(d.Menge * d.Verkaufspreis) DESC\r\n",
                "    ) AS [Rang im Land]\r\n",
                "    , k.KundenNr, k.Firma\r\n",
                "    , SUM(d.Menge * d.Verkaufspreis) AS [Umsatz]\r\n",
                "FROM Kunde AS k \r\n",
                "JOIN Bestellung AS b ON k.KundenNr = b.KundenNr\r\n",
                "JOIN BestellDetail AS d ON b.BestellungID = d.BestellungID\r\n",
                "GROUP BY k.Land, k.KundenNr, k.Firma;"
            ],
            "metadata": {
                "language": "sql",
                "azdata_cell_guid": "440746c6-eca6-429b-b3e3-dbb8173d1f80"
            },
            "outputs": [],
            "execution_count": null
        },
        {
            "cell_type": "code",
            "source": [
                "-- Filtere die Top 3 Kunden nach Umsatz je Land\r\n",
                "WITH Umsatzabfrage AS (\r\n",
                "    SELECT k.Land\r\n",
                "    , RANK() OVER(\r\n",
                "            PARTITION BY k.Land \r\n",
                "            ORDER BY SUM(d.Menge * d.Verkaufspreis) DESC\r\n",
                "    ) AS [Rang im Land]\r\n",
                "    , k.KundenNr, k.Firma\r\n",
                "    , SUM(d.Menge * d.Verkaufspreis) AS [Umsatz]\r\n",
                "    FROM Kunde AS k \r\n",
                "    JOIN Bestellung AS b ON k.KundenNr = b.KundenNr\r\n",
                "    JOIN BestellDetail AS d ON b.BestellungID = d.BestellungID\r\n",
                "    GROUP BY k.Land, k.KundenNr, k.Firma\r\n",
                ")\r\n",
                "SELECT * \r\n",
                "FROM Umsatzabfrage\r\n",
                "WHERE [Rang im Land] <= 3;"
            ],
            "metadata": {
                "language": "sql",
                "azdata_cell_guid": "eda3b18d-41e6-409e-bedb-c32a57f4f474"
            },
            "outputs": [],
            "execution_count": null
        },
        {
            "cell_type": "code",
            "source": [
                "-- Zeige die Top 3 Produkte nach Verkaufzahlen in jeder Kategorie\r\n",
                "WITH u AS (\r\n",
                "    SELECT k.Kategorie\r\n",
                "        , p.Produkt    \r\n",
                "        , RANK() OVER( \r\n",
                "            PARTITION BY k.Kategorie \r\n",
                "            ORDER BY SUM(d.Menge * d.Verkaufspreis) DESC\r\n",
                "            ) AS [Rang des Produkts] \r\n",
                "        , SUM(d.Menge * d.Verkaufspreis) AS Umsatz\r\n",
                "    FROM Produktkategorie AS k\r\n",
                "    JOIN Produkt AS p ON k.KategorieID = p.KategorieID\r\n",
                "    JOIN BestellDetail AS d ON p.ProduktID = d.ProduktID\r\n",
                "    GROUP BY k.Kategorie, p.Produkt\r\n",
                ")\r\n",
                "SELECT * \r\n",
                "FROM u\r\n",
                "WHERE [Rang des Produkts] <= 3;"
            ],
            "metadata": {
                "language": "sql",
                "azdata_cell_guid": "fce24562-f875-463c-9d65-c4e0a8a93967"
            },
            "outputs": [],
            "execution_count": null
        }
    ]
}