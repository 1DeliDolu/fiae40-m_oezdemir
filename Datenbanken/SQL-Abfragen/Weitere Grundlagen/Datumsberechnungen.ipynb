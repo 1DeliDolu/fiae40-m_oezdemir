{
    "metadata": {
        "kernelspec": {
            "name": "SQL",
            "display_name": "SQL",
            "language": "sql"
        },
        "language_info": {
            "name": "sql",
            "version": ""
        }
    },
    "nbformat_minor": 2,
    "nbformat": 4,
    "cells": [
        {
            "cell_type": "markdown",
            "source": [
                "# Datumsberechnungen\n",
                "\n",
                "**Referenz**: [Date and time data types and functions](https://learn.microsoft.com/en-us/sql/t-sql/functions/date-and-time-data-types-and-functions-transact-sql?view=sql-server-ver16)\n",
                "\n",
                "Folgende Funktionen sollten Sie in Ihr Repertoire auf jeden Fall aufnehmen:\n",
                "\n",
                "- GETDATE()\n",
                "- DATEDIFF()\n",
                "- DAY()\n",
                "- MONTH()\n",
                "- YEAR()\n",
                "- DATEFROMPARTS()\n",
                "- EOMONTH()\n",
                "\n",
                "## Übungen:\n",
                "\n",
                "- Wie viele Tage sind es bis zum \"nächsten ersten\"?\n",
                "- Wie viele Tage sind es bis zu Ihrem nächsten Geburtstag?\n",
                "\n",
                "### Praxis mit der Tabelle **Adresse**:\n",
                "\n",
                "Zu den Adressen sind Geburtsdaten angegeben.\n",
                "\n",
                "Erstellen Sie eine Abfrage mit folgenden berechneten Spalten:\n",
                "\n",
                "- Alter am heutigen Tag\n",
                "- Alter zu Stichtag 31.12. d. J.\n",
                "- Geburtstag in diesem Jahr\n",
                "- nächster Geburtstag\n",
                "- nächster runder Geburtstag\n",
                "\n",
                "### Hinweis:\n",
                "\n",
                "Die Funktion DATEDIFF verhält sich anders als die ähnliche Funktion in Excel: Sie berechnet die Differenz in Jahren nicht tagesgenau.\n",
                "\n",
                "Für eine genaue Alterberechnung sind CASE-Anweisungen erforderlich."
            ],
            "metadata": {
                "azdata_cell_guid": "82633b86-5246-4176-821d-587f406c7382"
            },
            "attachments": {}
        },
        {
            "cell_type": "code",
            "source": [
                "-- Diverse Datumsberechnungen\r\n",
                "DECLARE @Datum DATE = '1994-04-15';\r\n",
                "DECLARE @Heute DATE = CAST(GETDATE() AS DATE);\r\n",
                "DECLARE @DatDiesJahr DATE = DATEFROMPARTS(YEAR(@Heute),MONTH(@Datum), DAY(@Datum));\r\n",
                "DECLARE @NextDat DATE = DATEADD(YEAR, CASE WHEN @DatDiesJahr < @Heute THEN 1 ELSE 0 END , @DatDiesJahr);\r\n",
                "DECLARE @Alter INT =  DATEDIFF(YEAR, @Datum, @Heute) + \r\n",
                "        CASE WHEN \r\n",
                "            (DATEADD(YEAR,DATEDIFF(YEAR, @Datum, @Heute) , @Datum) > @Heute) \r\n",
                "            THEN - 1 \r\n",
                "            ELSE 0 \r\n",
                "        END;\r\n",
                "DECLARE @NextRundDat DATE = DATEADD(YEAR, \r\n",
                "        10 - (@Alter % 10)  +\r\n",
                "        CASE \r\n",
                "            WHEN @DatDiesJahr < @Heute THEN 0 \r\n",
                "            WHEN @DatDiesJahr =  @Heute THEN  0 \r\n",
                "            ELSE  9\r\n",
                "        END, @DatDiesJahr);\r\n",
                "\r\n",
                "SELECT @Datum AS Datum, @DatDiesJahr AS [Datum dieses Jahr], @NextDat AS [Nächstes Datum], @Alter AS [Alter], @NextRundDat AS [Jubiläum];        "
            ],
            "metadata": {
                "language": "sql",
                "azdata_cell_guid": "96f0514e-1cef-4a39-9712-debcfce96967"
            },
            "outputs": [],
            "execution_count": null
        },
        {
            "cell_type": "code",
            "source": [
                "CREATE OR ALTER FUNCTION dbo.udf_FullYearsSinceDate(@Datum AS DATE)\r\n",
                "RETURNS INT\r\n",
                "AS\r\n",
                "BEGIN\r\n",
                "    DECLARE @Heute DATE = CAST(GETDATE() AS DATE);\r\n",
                "    DECLARE @Alter INT =  DATEDIFF(YEAR, @Datum, @Heute) + \r\n",
                "            CASE WHEN \r\n",
                "                (DATEADD(YEAR,DATEDIFF(YEAR, @Datum, @Heute) , @Datum) > @Heute) \r\n",
                "                THEN - 1 \r\n",
                "                ELSE 0 \r\n",
                "            END;\r\n",
                "    RETURN @Alter;       \r\n",
                "END;     "
            ],
            "metadata": {
                "language": "sql",
                "azdata_cell_guid": "5ea945a9-b24d-4320-8481-35dfa18bc909"
            },
            "outputs": [],
            "execution_count": null
        },
        {
            "cell_type": "code",
            "source": [
                "CREATE OR ALTER FUNCTION dbo.udf_DateThisYear(@Datum AS DATE)\r\n",
                "RETURNS DATE\r\n",
                "AS\r\n",
                "BEGIN\r\n",
                "    DECLARE @Heute DATE = CAST(GETDATE() AS DATE);\r\n",
                "    DECLARE @DatDiesJahr DATE = DATEFROMPARTS(YEAR(@Heute),MONTH(@Datum), DAY(@Datum));\r\n",
                "    RETURN @DatDiesJahr;\r\n",
                "END;            "
            ],
            "metadata": {
                "language": "sql",
                "azdata_cell_guid": "652ab2a2-d715-4d23-b54e-ada13124bd9d"
            },
            "outputs": [],
            "execution_count": null
        },
        {
            "cell_type": "code",
            "source": [
                "-- Nächster Geburtstag (ggf. nächstes Jahr)\r\n",
                "CREATE OR ALTER FUNCTION dbo.udf_NextEvent(@Datum AS DATE)\r\n",
                "RETURNS DATE\r\n",
                "AS\r\n",
                "BEGIN\r\n",
                "    DECLARE @Heute DATE = CAST(GETDATE() AS DATE);\r\n",
                "    DECLARE @DatDiesJahr DATE = DATEFROMPARTS(YEAR(@Heute),MONTH(@Datum), DAY(@Datum));\r\n",
                "    DECLARE @NextDat DATE = DATEADD(YEAR, CASE WHEN @DatDiesJahr < @Heute THEN 1 ELSE 0 END , @DatDiesJahr);\r\n",
                "    RETURN @NextDat;       \r\n",
                "END;     "
            ],
            "metadata": {
                "language": "sql",
                "azdata_cell_guid": "aff60b65-8f27-4a8f-9612-a7bc201203cc"
            },
            "outputs": [],
            "execution_count": null
        },
        {
            "cell_type": "code",
            "source": [
                "-- Nächstes rundes Jubiläum\r\n",
                "CREATE OR ALTER FUNCTION dbo.udf_NextRoundEvent(@Datum AS DATE)\r\n",
                "RETURNS DATE\r\n",
                "AS\r\n",
                "BEGIN\r\n",
                "    DECLARE @Heute DATE = CAST(GETDATE() AS DATE);\r\n",
                "    DECLARE @DatDiesJahr DATE = DATEFROMPARTS(YEAR(@Heute),MONTH(@Datum), DAY(@Datum));\r\n",
                "    DECLARE @Alter INT =  DATEDIFF(YEAR, @Datum, @Heute) + \r\n",
                "            CASE WHEN \r\n",
                "                (DATEADD(YEAR,DATEDIFF(YEAR, @Datum, @Heute) , @Datum) > @Heute) \r\n",
                "                THEN - 1 \r\n",
                "                ELSE 0 \r\n",
                "            END;\r\n",
                "    DECLARE @NextRundDat DATE = DATEADD(YEAR, \r\n",
                "            10 - (@Alter % 10)  +\r\n",
                "            CASE \r\n",
                "                WHEN @DatDiesJahr < @Heute THEN 0 \r\n",
                "                WHEN @DatDiesJahr =  @Heute THEN  0 \r\n",
                "                ELSE  9\r\n",
                "            END, @DatDiesJahr);\r\n",
                "     RETURN @NextRundDat;       \r\n",
                "END;     "
            ],
            "metadata": {
                "language": "sql",
                "azdata_cell_guid": "3d8ba78e-8b38-4ff7-a989-a510f7f96518"
            },
            "outputs": [],
            "execution_count": null
        },
        {
            "cell_type": "code",
            "source": [
                "-- Teste die Funktionen\r\n",
                "SELECT AdressID\r\n",
                "    , CONCAT(Vorname, ' ', Nachname) AS Person\r\n",
                "    , Geburtsdatum\r\n",
                "    , dbo.udf_FullYearsSinceDate(Geburtsdatum) AS [Alter]\r\n",
                "    , dbo.udf_DateThisYear(Geburtsdatum) AS [Geburtstag dieses Jahr]\r\n",
                "    , dbo.udf_NextEvent(Geburtsdatum) AS [Nächster Geburtstag]\r\n",
                "    , dbo.udf_NextRoundEvent(Geburtsdatum) AS [Nächster runder Geburtstag]\r\n",
                "FROM Adresse TABLESAMPLE (10 PERCENT)\r\n",
                "WHERE MONTH(GETDATE()) = MONTH(Geburtsdatum)\r\n",
                "ORDER BY [Geburtstag dieses Jahr];"
            ],
            "metadata": {
                "language": "sql",
                "azdata_cell_guid": "eece0e5c-1f70-4d74-bfa2-5a3f03a0f3bd"
            },
            "outputs": [],
            "execution_count": null
        }
    ]
}