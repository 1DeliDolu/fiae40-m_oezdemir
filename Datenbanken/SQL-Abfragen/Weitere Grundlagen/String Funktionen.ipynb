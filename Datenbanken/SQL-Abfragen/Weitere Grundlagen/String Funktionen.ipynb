{
    "metadata": {
        "kernelspec": {
            "name": "SQL",
            "display_name": "SQL",
            "language": "sql"
        },
        "language_info": {
            "name": "sql",
            "version": ""
        }
    },
    "nbformat_minor": 2,
    "nbformat": 4,
    "cells": [
        {
            "cell_type": "markdown",
            "source": [
                "# String Funktionen\n",
                "\n",
                "[Referenz: String Funktionen](https:\\learn.microsoft.com\\en-us\\sql\\t-sql\\functions\\string-functions-transact-sql?view=sql-server-ver16)\n",
                "\n",
                "Entdecke die diversen String-Funktionen anhand der Referenz.\n",
                "\n",
                "Ich zeige hier nur eine ausgewählte Funktion: [STRING\\_AGG](https:\\learn.microsoft.com\\en-us\\sql\\t-sql\\functions\\string-agg-transact-sql?view=sql-server-ver16)\n",
                "\n",
                "Sie verkettet Werte aus mehreren Datensätzen zu einer Zeichenkette."
            ],
            "metadata": {
                "azdata_cell_guid": "900b8778-68ce-4a4f-9f52-6006b4551bca"
            },
            "attachments": {}
        },
        {
            "cell_type": "code",
            "source": [
                "SELECT k.Firma, COALESCE(STRING_AGG(b.Bestelldatum, ', '), '— keine —') AS [Bestelldaten]\r\n",
                "FROM Kunde AS k\r\n",
                "LEFT JOIN Bestellung AS b ON k.KundenNr = b.KundenNr\r\n",
                "GROUP BY k.Firma\r\n",
                "ORDER BY k.Firma;"
            ],
            "metadata": {
                "azdata_cell_guid": "fdbbd7e9-b409-4b68-ae96-9f9532d9d0a7",
                "language": "sql"
            },
            "outputs": [],
            "execution_count": null
        }
    ]
}