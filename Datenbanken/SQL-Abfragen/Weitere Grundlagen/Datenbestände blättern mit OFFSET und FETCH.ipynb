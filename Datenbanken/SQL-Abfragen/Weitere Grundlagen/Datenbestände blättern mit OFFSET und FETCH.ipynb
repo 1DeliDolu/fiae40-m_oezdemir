{
    "metadata": {
        "kernelspec": {
            "name": "SQL",
            "display_name": "SQL",
            "language": "sql"
        },
        "language_info": {
            "name": "sql",
            "version": ""
        }
    },
    "nbformat_minor": 2,
    "nbformat": 4,
    "cells": [
        {
            "cell_type": "markdown",
            "source": [
                "# OFFSET ... FETCH\n",
                "\n",
                "Diese Klauseln werden zum Blättern in Datenbeständen verwendet.\n",
                "\n",
                "  \n",
                "\n",
                "Der Hilfeartikel zu [FETCH](https://learn.microsoft.com/en-us/sql/t-sql/language-elements/fetch-transact-sql?view=sql-server-ver16) behandelt die Anweisung im Kontext von Cursern, die zum Durchlaufen von Datensätzen verwendet werden.\n",
                "\n",
                "Folgende Beispiele sind keine Cursor, sondern einfaches \"Blättern\", um keine große Anzahl Zeilen auf einmal anzuzeigen."
            ],
            "metadata": {
                "azdata_cell_guid": "464f9e38-d5e9-4bde-99ff-83d6c7c6aee9"
            },
            "attachments": {}
        },
        {
            "cell_type": "code",
            "source": [
                "-- OFFSET..FETCH\r\n",
                "SELECT AdressID, Nachname, Vorname, Ort\r\n",
                "FROM Adresse\r\n",
                "ORDER BY AdressID\r\n",
                "OFFSET 100 ROWS\r\n",
                "FETCH NEXT 20 ROWS ONLY;"
            ],
            "metadata": {
                "azdata_cell_guid": "f2884caa-4816-46a7-9f74-6451dc8f8a6a",
                "language": "sql"
            },
            "outputs": [],
            "execution_count": null
        },
        {
            "cell_type": "code",
            "source": [
                "-- Blättern mit Variablen\r\n",
                "DECLARE @pagesize INT = 20, @page INT = 6;\r\n",
                "SELECT AdressID, Nachname, Vorname, Ort\r\n",
                "FROM Adresse\r\n",
                "ORDER BY AdressID\r\n",
                "OFFSET @pagesize * (@page - 1) ROWS\r\n",
                "FETCH NEXT @pagesize ROWS ONLY;"
            ],
            "metadata": {
                "language": "sql",
                "azdata_cell_guid": "c99a92b5-ac21-4573-8e8c-b86b0ca95c77"
            },
            "outputs": [],
            "execution_count": null
        },
        {
            "cell_type": "code",
            "source": [
                "-- Erstellen einer Prozedur zum Blättern\r\n",
                "CREATE OR ALTER PROCEDURE usp_ZeigeAdressen \r\n",
                "(\r\n",
                "\t@pagesize INT = 20, \r\n",
                "\t@page INT = 1\r\n",
                ")\r\n",
                "AS\r\n",
                "BEGIN\r\n",
                "\tSELECT AdressID, Nachname, Vorname, Ort\r\n",
                "\tFROM Adresse\r\n",
                "\tORDER BY AdressID\r\n",
                "\tOFFSET @pagesize * (@page - 1) ROWS\r\n",
                "\tFETCH NEXT @pagesize ROWS ONLY;\r\n",
                "END;"
            ],
            "metadata": {
                "language": "sql",
                "azdata_cell_guid": "e42bd134-3010-43b6-b390-1dac44a615ea"
            },
            "outputs": [],
            "execution_count": null
        },
        {
            "cell_type": "code",
            "source": [
                "-- Prozeduraufrufe zum Blättern in den Adressen\r\n",
                "-- Bitte einzeln ausführen\r\n",
                "-- EXEC usp_ZeigeAdressen;\r\n",
                "-- EXEC usp_ZeigeAdressen 50, 10;\r\n",
                "-- EXEC usp_ZeigeAdressen 'DROP DATABASE master', 123;\r\n",
                "-- EXEC usp_ZeigeAdressen 50, -13;"
            ],
            "metadata": {
                "language": "sql",
                "azdata_cell_guid": "8e80bd58-7717-4868-b8f1-fc6cb810551a"
            },
            "outputs": [],
            "execution_count": null
        }
    ]
}