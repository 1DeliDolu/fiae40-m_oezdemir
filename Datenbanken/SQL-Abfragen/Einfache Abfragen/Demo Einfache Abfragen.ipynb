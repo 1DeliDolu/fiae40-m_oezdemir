{
    "metadata": {
        "kernelspec": {
            "name": "SQL",
            "display_name": "SQL",
            "language": "sql"
        },
        "language_info": {
            "name": "sql",
            "version": ""
        }
    },
    "nbformat_minor": 2,
    "nbformat": 4,
    "cells": [
        {
            "cell_type": "markdown",
            "source": [
                "# Demo: Einfache Abfragen\n",
                "\n",
                "_Einfach_ meint hier: Abfragen über eine einzelne Tabelle ohne Unterabfragen."
            ],
            "metadata": {
                "azdata_cell_guid": "4238aecc-0a9f-41da-a6ac-ae383192c99f"
            },
            "attachments": {}
        },
        {
            "cell_type": "code",
            "source": [
                "USE SQL_Seminar;"
            ],
            "metadata": {
                "azdata_cell_guid": "cedb01d4-fc0f-4bd7-aaf5-e0b160a785c0",
                "language": "sql"
            },
            "outputs": [
{
    "output_type": "display_data",
    "data": {
        "text/html": "Commands completed successfully."
    },
    "metadata": {}
}, {
    "output_type": "display_data",
    "data": {
        "text/html": "Total execution time: 00:00:00.010"
    },
    "metadata": {}
}
],
            "execution_count": 5
        },
        {
            "cell_type": "code",
            "source": [
                "/*  \r\n",
                "    Mit * auf die Schnelle alle Spalten und Zeilen anzeigen\r\n",
                "    Für Produktivcode in Anwendungen geben Sie bitte die \r\n",
                "    Spaltenliste in SELECT genau an, sonst könnte Ihre \r\n",
                "    Anwendung nicht funktionieren, wenn sich die Struktur\r\n",
                "    der Tabelle ändert.\r\n",
                "    Die Auswahl der anzuzeigenden Spalten nennt man Projektion.\r\n",
                "*/\r\n",
                "SELECT * FROM Mitarbeiter;"
            ],
            "metadata": {
                "azdata_cell_guid": "5ebeafd6-477c-4db1-b364-84634c1c8f06",
                "language": "sql"
            },
            "outputs": [
                {
                    "output_type": "display_data",
                    "data": {
                        "text/html": "(10 rows affected)"
                    },
                    "metadata": {}
                },
                {
                    "output_type": "display_data",
                    "data": {
                        "text/html": "Total execution time: 00:00:00.098"
                    },
                    "metadata": {}
                },
                {
                    "output_type": "execute_result",
                    "metadata": {},
                    "execution_count": 1,
                    "data": {
                        "application/vnd.dataresource+json": {
                            "schema": {
                                "fields": [
                                    {
                                        "name": "MitarbeiterNr"
                                    },
                                    {
                                        "name": "Vorname"
                                    },
                                    {
                                        "name": "Nachname"
                                    },
                                    {
                                        "name": "Anrede"
                                    },
                                    {
                                        "name": "Position"
                                    },
                                    {
                                        "name": "Geburtsdatum"
                                    },
                                    {
                                        "name": "Einstelldatum"
                                    },
                                    {
                                        "name": "Vorgesetzte"
                                    },
                                    {
                                        "name": "Strasse"
                                    },
                                    {
                                        "name": "Ort"
                                    },
                                    {
                                        "name": "PLZ"
                                    },
                                    {
                                        "name": "Region"
                                    },
                                    {
                                        "name": "Land"
                                    }
                                ]
                            },
                            "data": [
                                {
                                    "MitarbeiterNr": "1",
                                    "Vorname": "Nancy",
                                    "Nachname": "Davolio",
                                    "Anrede": "Frau",
                                    "Position": "Vertriebsmitarbeiterin",
                                    "Geburtsdatum": "1968-12-08",
                                    "Einstelldatum": "2002-05-01",
                                    "Vorgesetzte": "2",
                                    "Strasse": "507 - 20th Ave. E.\r\nApt. 2A",
                                    "Ort": "Seattle",
                                    "PLZ": "98122",
                                    "Region": "WA",
                                    "Land": "USA"
                                },
                                {
                                    "MitarbeiterNr": "2",
                                    "Vorname": "Andrew",
                                    "Nachname": "Fuller",
                                    "Anrede": "Herr",
                                    "Position": "Geschäftsführer",
                                    "Geburtsdatum": "1972-02-19",
                                    "Einstelldatum": "2002-08-14",
                                    "Vorgesetzte": "NULL",
                                    "Strasse": "908 W. Capital Way",
                                    "Ort": "Tacoma",
                                    "PLZ": "98401",
                                    "Region": "WA",
                                    "Land": "USA"
                                },
                                {
                                    "MitarbeiterNr": "3",
                                    "Vorname": "Janet",
                                    "Nachname": "Leverling",
                                    "Anrede": "Frau",
                                    "Position": "Vertriebsmitarbeiterin",
                                    "Geburtsdatum": "1983-08-30",
                                    "Einstelldatum": "2002-04-01",
                                    "Vorgesetzte": "2",
                                    "Strasse": "722 Moss Bay Blvd.",
                                    "Ort": "Kirkland",
                                    "PLZ": "98033",
                                    "Region": "WA",
                                    "Land": "USA"
                                },
                                {
                                    "MitarbeiterNr": "4",
                                    "Vorname": "Margaret",
                                    "Nachname": "Peacock",
                                    "Anrede": "Frau",
                                    "Position": "Vertriebsmitarbeiterin",
                                    "Geburtsdatum": "1957-09-19",
                                    "Einstelldatum": "2003-05-03",
                                    "Vorgesetzte": "2",
                                    "Strasse": "4110 Old Redmond Rd.",
                                    "Ort": "Redmond",
                                    "PLZ": "98052",
                                    "Region": "WA",
                                    "Land": "USA"
                                },
                                {
                                    "MitarbeiterNr": "5",
                                    "Vorname": "Steven",
                                    "Nachname": "Buchanan",
                                    "Anrede": "Herr",
                                    "Position": "Vertriebsmanager",
                                    "Geburtsdatum": "1975-03-04",
                                    "Einstelldatum": "2003-10-17",
                                    "Vorgesetzte": "2",
                                    "Strasse": "14 Garrett Hill",
                                    "Ort": "London",
                                    "PLZ": "SW1 8JR",
                                    "Region": "NULL",
                                    "Land": "UK"
                                },
                                {
                                    "MitarbeiterNr": "6",
                                    "Vorname": "Michael",
                                    "Nachname": "Suyama",
                                    "Anrede": "Herr",
                                    "Position": "Vertriebsmitarbeiter",
                                    "Geburtsdatum": "1983-07-02",
                                    "Einstelldatum": "2003-10-17",
                                    "Vorgesetzte": "5",
                                    "Strasse": "Coventry House\r\nMiner Rd.",
                                    "Ort": "London",
                                    "PLZ": "EC2 7JR",
                                    "Region": "NULL",
                                    "Land": "UK"
                                },
                                {
                                    "MitarbeiterNr": "7",
                                    "Vorname": "Robert",
                                    "Nachname": "King",
                                    "Anrede": "Herr",
                                    "Position": "Vertriebsmitarbeiter",
                                    "Geburtsdatum": "1980-05-29",
                                    "Einstelldatum": "2004-01-02",
                                    "Vorgesetzte": "5",
                                    "Strasse": "Edgeham Hollow\r\nWinchester Way",
                                    "Ort": "London",
                                    "PLZ": "RG1 9SP",
                                    "Region": "NULL",
                                    "Land": "UK"
                                },
                                {
                                    "MitarbeiterNr": "8",
                                    "Vorname": "Laura",
                                    "Nachname": "Callahan",
                                    "Anrede": "Frau",
                                    "Position": "Vertriebskoordination",
                                    "Geburtsdatum": "1978-01-09",
                                    "Einstelldatum": "2004-03-05",
                                    "Vorgesetzte": "2",
                                    "Strasse": "4726 - 11th Ave. N.E.",
                                    "Ort": "Seattle",
                                    "PLZ": "98105",
                                    "Region": "WA",
                                    "Land": "USA"
                                },
                                {
                                    "MitarbeiterNr": "9",
                                    "Vorname": "Anne",
                                    "Nachname": "Dodsworth",
                                    "Anrede": "Frau",
                                    "Position": "Vertriebsmitarbeiterin",
                                    "Geburtsdatum": "1986-01-27",
                                    "Einstelldatum": "2004-11-15",
                                    "Vorgesetzte": "5",
                                    "Strasse": "7 Houndstooth Rd.",
                                    "Ort": "London",
                                    "PLZ": "WG2 7LT",
                                    "Region": "NULL",
                                    "Land": "UK"
                                },
                                {
                                    "MitarbeiterNr": "10",
                                    "Vorname": "Jane",
                                    "Nachname": "Doe",
                                    "Anrede": "Frau",
                                    "Position": "Vertriebsmitarbeiterin",
                                    "Geburtsdatum": "1968-12-08",
                                    "Einstelldatum": "2013-05-01",
                                    "Vorgesetzte": "8",
                                    "Strasse": "7890 - 20th Ave. E., Apt. 2A",
                                    "Ort": "Seattle",
                                    "PLZ": "10003",
                                    "Region": "WA",
                                    "Land": "USA"
                                }
                            ]
                        },
                        "text/html": [
                            "<table>",
                            "<tr><th>MitarbeiterNr</th><th>Vorname</th><th>Nachname</th><th>Anrede</th><th>Position</th><th>Geburtsdatum</th><th>Einstelldatum</th><th>Vorgesetzte</th><th>Strasse</th><th>Ort</th><th>PLZ</th><th>Region</th><th>Land</th></tr>",
                            "<tr><td>1</td><td>Nancy</td><td>Davolio</td><td>Frau</td><td>Vertriebsmitarbeiterin</td><td>1968-12-08</td><td>2002-05-01</td><td>2</td><td>507 - 20th Ave. E.\r\nApt. 2A</td><td>Seattle</td><td>98122</td><td>WA</td><td>USA</td></tr>",
                            "<tr><td>2</td><td>Andrew</td><td>Fuller</td><td>Herr</td><td>Geschäftsführer</td><td>1972-02-19</td><td>2002-08-14</td><td>NULL</td><td>908 W. Capital Way</td><td>Tacoma</td><td>98401</td><td>WA</td><td>USA</td></tr>",
                            "<tr><td>3</td><td>Janet</td><td>Leverling</td><td>Frau</td><td>Vertriebsmitarbeiterin</td><td>1983-08-30</td><td>2002-04-01</td><td>2</td><td>722 Moss Bay Blvd.</td><td>Kirkland</td><td>98033</td><td>WA</td><td>USA</td></tr>",
                            "<tr><td>4</td><td>Margaret</td><td>Peacock</td><td>Frau</td><td>Vertriebsmitarbeiterin</td><td>1957-09-19</td><td>2003-05-03</td><td>2</td><td>4110 Old Redmond Rd.</td><td>Redmond</td><td>98052</td><td>WA</td><td>USA</td></tr>",
                            "<tr><td>5</td><td>Steven</td><td>Buchanan</td><td>Herr</td><td>Vertriebsmanager</td><td>1975-03-04</td><td>2003-10-17</td><td>2</td><td>14 Garrett Hill</td><td>London</td><td>SW1 8JR</td><td>NULL</td><td>UK</td></tr>",
                            "<tr><td>6</td><td>Michael</td><td>Suyama</td><td>Herr</td><td>Vertriebsmitarbeiter</td><td>1983-07-02</td><td>2003-10-17</td><td>5</td><td>Coventry House\r\nMiner Rd.</td><td>London</td><td>EC2 7JR</td><td>NULL</td><td>UK</td></tr>",
                            "<tr><td>7</td><td>Robert</td><td>King</td><td>Herr</td><td>Vertriebsmitarbeiter</td><td>1980-05-29</td><td>2004-01-02</td><td>5</td><td>Edgeham Hollow\r\nWinchester Way</td><td>London</td><td>RG1 9SP</td><td>NULL</td><td>UK</td></tr>",
                            "<tr><td>8</td><td>Laura</td><td>Callahan</td><td>Frau</td><td>Vertriebskoordination</td><td>1978-01-09</td><td>2004-03-05</td><td>2</td><td>4726 - 11th Ave. N.E.</td><td>Seattle</td><td>98105</td><td>WA</td><td>USA</td></tr>",
                            "<tr><td>9</td><td>Anne</td><td>Dodsworth</td><td>Frau</td><td>Vertriebsmitarbeiterin</td><td>1986-01-27</td><td>2004-11-15</td><td>5</td><td>7 Houndstooth Rd.</td><td>London</td><td>WG2 7LT</td><td>NULL</td><td>UK</td></tr>",
                            "<tr><td>10</td><td>Jane</td><td>Doe</td><td>Frau</td><td>Vertriebsmitarbeiterin</td><td>1968-12-08</td><td>2013-05-01</td><td>8</td><td>7890 - 20th Ave. E., Apt. 2A</td><td>Seattle</td><td>10003</td><td>WA</td><td>USA</td></tr>",
                            "</table>"
                        ]
                    }
                }
            ],
            "execution_count": 1
        },
        {
            "cell_type": "code",
            "source": [
                "/*\r\n",
                " Geben Sie den Spalten verständliche Überschriften, besonders bei berechneten Spalten\r\n",
                " Man nennt das Spalten-Alias.\r\n",
                " Das Schlüsselwort AS ist optional, aber es schafft Übersicht und hilft, Fehler zu vermeiden.\r\n",
                "*/\r\n",
                "SELECT Land, COUNT(MitarbeiterNr) AS [Anzahl Mitarbeiter]\r\n",
                "FROM Mitarbeiter\r\n",
                "GROUP BY Land;"
            ],
            "metadata": {
                "language": "sql",
                "azdata_cell_guid": "ef20684e-fdac-4d2b-a406-999e66aa41b9"
            },
            "outputs": [
                {
                    "output_type": "display_data",
                    "data": {
                        "text/html": "(2 rows affected)"
                    },
                    "metadata": {}
                },
                {
                    "output_type": "display_data",
                    "data": {
                        "text/html": "Total execution time: 00:00:00.006"
                    },
                    "metadata": {}
                },
                {
                    "output_type": "execute_result",
                    "execution_count": 2,
                    "data": {
                        "application/vnd.dataresource+json": {
                            "schema": {
                                "fields": [
                                    {
                                        "name": "Land"
                                    },
                                    {
                                        "name": "Anzahl Mitarbeiter"
                                    }
                                ]
                            },
                            "data": [
                                {
                                    "Land": "UK",
                                    "Anzahl Mitarbeiter": "4"
                                },
                                {
                                    "Land": "USA",
                                    "Anzahl Mitarbeiter": "6"
                                }
                            ]
                        },
                        "text/html": "<table><tr><th>Land</th><th>Anzahl Mitarbeiter</th></tr><tr><td>UK</td><td>4</td></tr><tr><td>USA</td><td>6</td></tr></table>"
                    },
                    "metadata": {}
                }
            ],
            "execution_count": 2
        },
        {
            "cell_type": "code",
            "source": [
                "-- Kombinieren Sie mehrere Spalten zu einer neuen Spalte\r\n",
                "SELECT CONCAT(Vorname, ' ', Nachname) AS Mitarbeiter, Land\r\n",
                "FROM Mitarbeiter;"
            ],
            "metadata": {
                "language": "sql",
                "azdata_cell_guid": "d31c03e4-76e0-49ec-9c52-1a9ac1c3fc47"
            },
            "outputs": [],
            "execution_count": null
        },
        {
            "cell_type": "code",
            "source": [
                "-- Rechnen Sie mit SQL\r\n",
                "SELECT BestellungID, Menge * Verkaufspreis AS [Bestellposten Umsatz]\r\n",
                "FROM BestellDetail;"
            ],
            "metadata": {
                "language": "sql",
                "azdata_cell_guid": "e74c9f22-eacc-4c2d-9b7b-53d6aae0f0b0"
            },
            "outputs": [],
            "execution_count": null
        },
        {
            "cell_type": "code",
            "source": [
                "-- Aggregieren Sie mit SQL\r\n",
                "-- Gruppieren Sie, wenn weitere Spalten angezeigt werden\r\n",
                "SELECT BestellungID, SUM(Menge * Verkaufspreis) AS [Rechnungssumme]\r\n",
                "FROM BestellDetail\r\n",
                "GROUP BY BestellungID;"
            ],
            "metadata": {
                "language": "sql",
                "azdata_cell_guid": "8dc9e1cb-6788-40bd-9488-01982183396f"
            },
            "outputs": [],
            "execution_count": null
        },
        {
            "cell_type": "code",
            "source": [
                "-- Filtern Sie nicht aggregierte Werte mit WHERE\r\n",
                "SELECT BestellungID, SUM(Menge * Verkaufspreis) AS [Rechnungssumme]\r\n",
                "FROM BestellDetail\r\n",
                "WHERE BestellungID BETWEEN 100 AND 150\r\n",
                "GROUP BY BestellungID;"
            ],
            "metadata": {
                "language": "sql",
                "azdata_cell_guid": "8c213e9a-2b02-49e1-9f47-8476cc0f35ad"
            },
            "outputs": [],
            "execution_count": null
        },
        {
            "cell_type": "code",
            "source": [
                "-- Filtern Sie aggregierte Werte mit HAVING\r\n",
                "SELECT BestellungID, SUM(Menge * Verkaufspreis) AS [Rechnungssumme]\r\n",
                "FROM BestellDetail\r\n",
                "GROUP BY BestellungID\r\n",
                "HAVING SUM(Menge * Verkaufspreis) > 10000;"
            ],
            "metadata": {
                "language": "sql",
                "azdata_cell_guid": "60198d06-d7e0-438b-a6a4-ea92fa90ca66"
            },
            "outputs": [],
            "execution_count": null
        },
        {
            "cell_type": "code",
            "source": [
                "/* Sortieren Sie die Abfrageergebnisse mit ORDER BY\r\n",
                "  Die Default-Sortierfolge ist aufsteigend ASC, alternativ absteigend DESC\r\n",
                "  Mehrere Sortierspalten geben Sie durch Komma getrennt an.\r\n",
                "  ASC|DESC wird dabei für jede Spalte individuell angegeben.  \r\n",
                "*/  \r\n",
                "SELECT BestellungID, SUM(Menge * Verkaufspreis) AS [Rechnungssumme]\r\n",
                "FROM BestellDetail\r\n",
                "GROUP BY BestellungID\r\n",
                "HAVING SUM(Menge * Verkaufspreis) > 10000\r\n",
                "ORDER BY Rechnungssumme DESC;"
            ],
            "metadata": {
                "language": "sql",
                "azdata_cell_guid": "7cde4e5a-5d32-4721-82d1-8b403eec3a1b"
            },
            "outputs": [
                {
                    "output_type": "display_data",
                    "data": {
                        "text/html": "(14 rows affected)"
                    },
                    "metadata": {}
                },
                {
                    "output_type": "display_data",
                    "data": {
                        "text/html": "Total execution time: 00:00:00.040"
                    },
                    "metadata": {}
                },
                {
                    "output_type": "execute_result",
                    "metadata": {},
                    "execution_count": 2,
                    "data": {
                        "application/vnd.dataresource+json": {
                            "schema": {
                                "fields": [
                                    {
                                        "name": "BestellungID"
                                    },
                                    {
                                        "name": "Rechnungssumme"
                                    }
                                ]
                            },
                            "data": [
                                {
                                    "BestellungID": "618",
                                    "Rechnungssumme": "17250,00"
                                },
                                {
                                    "BestellungID": "783",
                                    "Rechnungssumme": "16321,90"
                                },
                                {
                                    "BestellungID": "734",
                                    "Rechnungssumme": "15810,00"
                                },
                                {
                                    "BestellungID": "125",
                                    "Rechnungssumme": "12281,20"
                                },
                                {
                                    "BestellungID": "177",
                                    "Rechnungssumme": "11493,20"
                                },
                                {
                                    "BestellungID": "570",
                                    "Rechnungssumme": "11490,70"
                                },
                                {
                                    "BestellungID": "642",
                                    "Rechnungssumme": "11380,00"
                                },
                                {
                                    "BestellungID": "170",
                                    "Rechnungssumme": "11283,20"
                                },
                                {
                                    "BestellungID": "650",
                                    "Rechnungssumme": "10835,24"
                                },
                                {
                                    "BestellungID": "106",
                                    "Rechnungssumme": "10741,60"
                                },
                                {
                                    "BestellungID": "268",
                                    "Rechnungssumme": "10588,50"
                                },
                                {
                                    "BestellungID": "232",
                                    "Rechnungssumme": "10495,60"
                                },
                                {
                                    "BestellungID": "293",
                                    "Rechnungssumme": "10191,70"
                                },
                                {
                                    "BestellungID": "444",
                                    "Rechnungssumme": "10164,80"
                                }
                            ]
                        },
                        "text/html": [
                            "<table>",
                            "<tr><th>BestellungID</th><th>Rechnungssumme</th></tr>",
                            "<tr><td>618</td><td>17250,00</td></tr>",
                            "<tr><td>783</td><td>16321,90</td></tr>",
                            "<tr><td>734</td><td>15810,00</td></tr>",
                            "<tr><td>125</td><td>12281,20</td></tr>",
                            "<tr><td>177</td><td>11493,20</td></tr>",
                            "<tr><td>570</td><td>11490,70</td></tr>",
                            "<tr><td>642</td><td>11380,00</td></tr>",
                            "<tr><td>170</td><td>11283,20</td></tr>",
                            "<tr><td>650</td><td>10835,24</td></tr>",
                            "<tr><td>106</td><td>10741,60</td></tr>",
                            "<tr><td>268</td><td>10588,50</td></tr>",
                            "<tr><td>232</td><td>10495,60</td></tr>",
                            "<tr><td>293</td><td>10191,70</td></tr>",
                            "<tr><td>444</td><td>10164,80</td></tr>",
                            "</table>"
                        ]
                    }
                }
            ],
            "execution_count": 2
        },
        {
            "cell_type": "code",
            "source": [
                "-- Begrenzen Sie die Anzahl angezeigter Zeilen mit TOP\r\n",
                "SELECT TOP 5 BestellungID, SUM(Menge * Verkaufspreis) AS [Rechnungssumme]\r\n",
                "FROM BestellDetail\r\n",
                "GROUP BY BestellungID\r\n",
                "HAVING SUM(Menge * Verkaufspreis) > 10000\r\n",
                "ORDER BY Rechnungssumme DESC;"
            ],
            "metadata": {
                "language": "sql",
                "azdata_cell_guid": "752efa6e-e776-4a3b-835f-f56a2c9b6cc5"
            },
            "outputs": [],
            "execution_count": null
        },
        {
            "cell_type": "code",
            "source": [
                "-- Lassen Sie bei TOP Begrenzung Ranggleiche in der Sortierfolge WITH TIES mit ausgeben\r\n",
                "-- Im Beispiel werden nicht 10 sondern 11 Zeilen ausgegeben\r\n",
                "SELECT TOP 10 WITH TIES Land, COUNT(KundenNr) AS [Anzahl Kunden im Land]\r\n",
                "FROM Kunde\r\n",
                "GROUP BY Land\r\n",
                "ORDER BY [Anzahl Kunden im Land] DESC;"
            ],
            "metadata": {
                "language": "sql",
                "azdata_cell_guid": "1faf0b86-01ec-4dd0-8122-15521173333a"
            },
            "outputs": [],
            "execution_count": null
        }
    ]
}