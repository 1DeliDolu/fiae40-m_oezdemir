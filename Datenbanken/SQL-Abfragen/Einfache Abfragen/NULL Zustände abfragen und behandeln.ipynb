{
    "metadata": {
        "kernelspec": {
            "name": "SQL",
            "display_name": "SQL",
            "language": "sql"
        },
        "language_info": {
            "name": "sql",
            "version": ""
        }
    },
    "nbformat_minor": 2,
    "nbformat": 4,
    "cells": [
        {
            "cell_type": "markdown",
            "source": [
                "# NULL Zustände abfragen und behandeln\n",
                "\n",
                "NULL tritt auf, wenn ein Attribut laut Tabellendefinition erlaubt, dass der Wert leer bleiben darf, oder wenn in einem OUTER JOIN keine passenden Zeilen in der anderen Tabelle gefunden werden: In diesem Fall werden dort alle Attribute als NULL dargestellt. Sie finden Beispiele für OUTER JOINs im Abschnitt _Abfragen über mehrere Tabellen_.\n",
                "\n",
                "- Filtern Sie NULL-Zustände mit IS NULL bzw. IS NOT NULL (Vergleiche mit Gleichheitszeichen = funktionieren nicht!)\n",
                "- Unterdrücken Sie die die Anzeige von NULL mit der Funktion COALESCE"
            ],
            "metadata": {
                "azdata_cell_guid": "f3fdd316-0faf-4a49-ab4e-401311ab9b12"
            },
            "attachments": {}
        },
        {
            "cell_type": "code",
            "source": [
                "-- Das geht alles nicht! \r\n",
                "SELECT * FROM Mitarbeiter WHERE Region = NULL;\r\n",
                "SELECT * FROM Mitarbeiter WHERE Region <> NULL;\r\n",
                "SELECT * FROM Bestellung WHERE Versanddatum = NULL;\r\n",
                "SELECT * FROM Bestellung WHERE Versanddatum <> NULL;"
            ],
            "metadata": {
                "language": "sql",
                "azdata_cell_guid": "68faa65a-1272-40ed-bd1c-7fca093e3493"
            },
            "outputs": [
                {
                    "output_type": "display_data",
                    "data": {
                        "text/html": "(0 rows affected)"
                    },
                    "metadata": {}
                },
                {
                    "output_type": "display_data",
                    "data": {
                        "text/html": "(0 rows affected)"
                    },
                    "metadata": {}
                },
                {
                    "output_type": "display_data",
                    "data": {
                        "text/html": "(0 rows affected)"
                    },
                    "metadata": {}
                },
                {
                    "output_type": "display_data",
                    "data": {
                        "text/html": "(0 rows affected)"
                    },
                    "metadata": {}
                },
                {
                    "output_type": "display_data",
                    "data": {
                        "text/html": "Total execution time: 00:00:00.019"
                    },
                    "metadata": {}
                },
                {
                    "output_type": "execute_result",
                    "metadata": {},
                    "execution_count": 1,
                    "data": {
                        "application/vnd.dataresource+json": {
                            "schema": {
                                "fields": [
                                    {
                                        "name": "MitarbeiterNr"
                                    },
                                    {
                                        "name": "Vorname"
                                    },
                                    {
                                        "name": "Nachname"
                                    },
                                    {
                                        "name": "Anrede"
                                    },
                                    {
                                        "name": "Position"
                                    },
                                    {
                                        "name": "Geburtsdatum"
                                    },
                                    {
                                        "name": "Einstelldatum"
                                    },
                                    {
                                        "name": "Vorgesetzte"
                                    },
                                    {
                                        "name": "Strasse"
                                    },
                                    {
                                        "name": "Ort"
                                    },
                                    {
                                        "name": "PLZ"
                                    },
                                    {
                                        "name": "Region"
                                    },
                                    {
                                        "name": "Land"
                                    }
                                ]
                            },
                            "data": []
                        },
                        "text/html": [
                            "<table>",
                            "<tr><th>MitarbeiterNr</th><th>Vorname</th><th>Nachname</th><th>Anrede</th><th>Position</th><th>Geburtsdatum</th><th>Einstelldatum</th><th>Vorgesetzte</th><th>Strasse</th><th>Ort</th><th>PLZ</th><th>Region</th><th>Land</th></tr>",
                            "</table>"
                        ]
                    }
                },
                {
                    "output_type": "execute_result",
                    "metadata": {},
                    "execution_count": 1,
                    "data": {
                        "application/vnd.dataresource+json": {
                            "schema": {
                                "fields": [
                                    {
                                        "name": "MitarbeiterNr"
                                    },
                                    {
                                        "name": "Vorname"
                                    },
                                    {
                                        "name": "Nachname"
                                    },
                                    {
                                        "name": "Anrede"
                                    },
                                    {
                                        "name": "Position"
                                    },
                                    {
                                        "name": "Geburtsdatum"
                                    },
                                    {
                                        "name": "Einstelldatum"
                                    },
                                    {
                                        "name": "Vorgesetzte"
                                    },
                                    {
                                        "name": "Strasse"
                                    },
                                    {
                                        "name": "Ort"
                                    },
                                    {
                                        "name": "PLZ"
                                    },
                                    {
                                        "name": "Region"
                                    },
                                    {
                                        "name": "Land"
                                    }
                                ]
                            },
                            "data": []
                        },
                        "text/html": [
                            "<table>",
                            "<tr><th>MitarbeiterNr</th><th>Vorname</th><th>Nachname</th><th>Anrede</th><th>Position</th><th>Geburtsdatum</th><th>Einstelldatum</th><th>Vorgesetzte</th><th>Strasse</th><th>Ort</th><th>PLZ</th><th>Region</th><th>Land</th></tr>",
                            "</table>"
                        ]
                    }
                },
                {
                    "output_type": "execute_result",
                    "metadata": {},
                    "execution_count": 1,
                    "data": {
                        "application/vnd.dataresource+json": {
                            "schema": {
                                "fields": [
                                    {
                                        "name": "BestellungID"
                                    },
                                    {
                                        "name": "KundenNr"
                                    },
                                    {
                                        "name": "MitarbeiterNr"
                                    },
                                    {
                                        "name": "Bestelldatum"
                                    },
                                    {
                                        "name": "Versanddatum"
                                    }
                                ]
                            },
                            "data": []
                        },
                        "text/html": [
                            "<table>",
                            "<tr><th>BestellungID</th><th>KundenNr</th><th>MitarbeiterNr</th><th>Bestelldatum</th><th>Versanddatum</th></tr>",
                            "</table>"
                        ]
                    }
                },
                {
                    "output_type": "execute_result",
                    "metadata": {},
                    "execution_count": 1,
                    "data": {
                        "application/vnd.dataresource+json": {
                            "schema": {
                                "fields": [
                                    {
                                        "name": "BestellungID"
                                    },
                                    {
                                        "name": "KundenNr"
                                    },
                                    {
                                        "name": "MitarbeiterNr"
                                    },
                                    {
                                        "name": "Bestelldatum"
                                    },
                                    {
                                        "name": "Versanddatum"
                                    }
                                ]
                            },
                            "data": []
                        },
                        "text/html": [
                            "<table>",
                            "<tr><th>BestellungID</th><th>KundenNr</th><th>MitarbeiterNr</th><th>Bestelldatum</th><th>Versanddatum</th></tr>",
                            "</table>"
                        ]
                    }
                }
            ],
            "execution_count": 1
        },
        {
            "cell_type": "code",
            "source": [
                "-- IS NULL | IS NOT NULL\r\n",
                "SELECT MitarbeiterNr, Vorname, Nachname, Ort, Region, Land\r\n",
                "FROM Mitarbeiter \r\n",
                "WHERE Region IS NULL;"
            ],
            "metadata": {
                "azdata_cell_guid": "6fedc584-fd6a-49c7-afd6-0378386335c9",
                "language": "sql"
            },
            "outputs": [
                {
                    "output_type": "display_data",
                    "data": {
                        "text/html": "(4 rows affected)"
                    },
                    "metadata": {}
                },
                {
                    "output_type": "display_data",
                    "data": {
                        "text/html": "Total execution time: 00:00:00.035"
                    },
                    "metadata": {}
                },
                {
                    "output_type": "execute_result",
                    "metadata": {},
                    "execution_count": 2,
                    "data": {
                        "application/vnd.dataresource+json": {
                            "schema": {
                                "fields": [
                                    {
                                        "name": "MitarbeiterNr"
                                    },
                                    {
                                        "name": "Vorname"
                                    },
                                    {
                                        "name": "Nachname"
                                    },
                                    {
                                        "name": "Ort"
                                    },
                                    {
                                        "name": "Region"
                                    },
                                    {
                                        "name": "Land"
                                    }
                                ]
                            },
                            "data": [
                                {
                                    "MitarbeiterNr": "5",
                                    "Vorname": "Steven",
                                    "Nachname": "Buchanan",
                                    "Ort": "London",
                                    "Region": "NULL",
                                    "Land": "UK"
                                },
                                {
                                    "MitarbeiterNr": "6",
                                    "Vorname": "Michael",
                                    "Nachname": "Suyama",
                                    "Ort": "London",
                                    "Region": "NULL",
                                    "Land": "UK"
                                },
                                {
                                    "MitarbeiterNr": "7",
                                    "Vorname": "Robert",
                                    "Nachname": "King",
                                    "Ort": "London",
                                    "Region": "NULL",
                                    "Land": "UK"
                                },
                                {
                                    "MitarbeiterNr": "9",
                                    "Vorname": "Anne",
                                    "Nachname": "Dodsworth",
                                    "Ort": "London",
                                    "Region": "NULL",
                                    "Land": "UK"
                                }
                            ]
                        },
                        "text/html": [
                            "<table>",
                            "<tr><th>MitarbeiterNr</th><th>Vorname</th><th>Nachname</th><th>Ort</th><th>Region</th><th>Land</th></tr>",
                            "<tr><td>5</td><td>Steven</td><td>Buchanan</td><td>London</td><td>NULL</td><td>UK</td></tr>",
                            "<tr><td>6</td><td>Michael</td><td>Suyama</td><td>London</td><td>NULL</td><td>UK</td></tr>",
                            "<tr><td>7</td><td>Robert</td><td>King</td><td>London</td><td>NULL</td><td>UK</td></tr>",
                            "<tr><td>9</td><td>Anne</td><td>Dodsworth</td><td>London</td><td>NULL</td><td>UK</td></tr>",
                            "</table>"
                        ]
                    }
                }
            ],
            "execution_count": 2
        },
        {
            "cell_type": "code",
            "source": [
                "-- Zeige '—' statt NULL mit COALESCE\r\n",
                "SELECT MitarbeiterNr, Vorname, Nachname, Ort, COALESCE(Region, '—') AS Region, Land\r\n",
                "FROM Mitarbeiter \r\n",
                "WHERE Region IS NULL;"
            ],
            "metadata": {
                "language": "sql",
                "azdata_cell_guid": "dcf73fec-a64d-4ee9-bba4-c2e0514d06bd"
            },
            "outputs": [],
            "execution_count": null
        },
        {
            "cell_type": "code",
            "source": [
                "-- Finde noch nicht gelieferte Bestellungen\r\n",
                "SELECT BestellungID, Bestelldatum, Versanddatum\r\n",
                "FROM Bestellung\r\n",
                "WHERE Versanddatum IS NULL;"
            ],
            "metadata": {
                "language": "sql",
                "azdata_cell_guid": "2e976f0e-2c8c-475f-bc33-3a936a1188b9"
            },
            "outputs": [],
            "execution_count": null
        },
        {
            "cell_type": "code",
            "source": [
                "-- Finde Kunden ohne FAX\r\n",
                ""
            ],
            "metadata": {
                "language": "sql",
                "azdata_cell_guid": "c15720ac-dcf0-4a55-81c9-74a46f43ef9e"
            },
            "outputs": [
                {
                    "output_type": "display_data",
                    "data": {
                        "text/html": "Commands completed successfully."
                    },
                    "metadata": {}
                },
                {
                    "output_type": "display_data",
                    "data": {
                        "text/html": "Total execution time: 00:00:00.001"
                    },
                    "metadata": {}
                }
            ],
            "execution_count": 3
        },
        {
            "cell_type": "code",
            "source": [
                "-- Wie viele Kunden in Deutschland haben kein Fax?\r\n",
                ""
            ],
            "metadata": {
                "language": "sql",
                "azdata_cell_guid": "452a8b0e-3915-4257-9e1c-09d374a58f58"
            },
            "outputs": [
{
    "output_type": "display_data",
    "data": {
        "text/html": "Commands completed successfully."
    },
    "metadata": {}
}, {
    "output_type": "display_data",
    "data": {
        "text/html": "Total execution time: 00:00:00.001"
    },
    "metadata": {}
}
],
            "execution_count": 6
        },
        {
            "cell_type": "code",
            "source": [
                "-- Finde Mitarbeitende, die keine(n) Vorgesetzte(n) haben\r\n",
                ""
            ],
            "metadata": {
                "language": "sql",
                "azdata_cell_guid": "92c2a34c-b952-43e1-b66c-095e096569d2"
            },
            "outputs": [
                {
                    "output_type": "display_data",
                    "data": {
                        "text/html": "Commands completed successfully."
                    },
                    "metadata": {}
                },
                {
                    "output_type": "display_data",
                    "data": {
                        "text/html": "Total execution time: 00:00:00.001"
                    },
                    "metadata": {}
                }
            ],
            "execution_count": 5
        },
        {
            "cell_type": "code",
            "source": [
                "-- Alle Funktionsargumente von COALESCE müssen den gleichen Datentyp haben\r\n",
                "-- Um bei fehlendem Datum Text anzuzeigen, wird das Datum in VARCHAR umgewandelt.\r\n",
                "SELECT BestellungID, Bestelldatum\r\n",
                "    , COALESCE(CAST(Versanddatum AS VARCHAR(20)), 'nicht geliefert!') AS Versanddatum\r\n",
                "FROM Bestellung\r\n",
                "WHERE Versanddatum IS NULL;"
            ],
            "metadata": {
                "language": "sql",
                "azdata_cell_guid": "be1c69c1-01a9-4b43-8b1a-c3bc455e10cb"
            },
            "outputs": [
                {
                    "output_type": "display_data",
                    "data": {
                        "text/html": "(1 row affected)"
                    },
                    "metadata": {}
                },
                {
                    "output_type": "display_data",
                    "data": {
                        "text/html": "Total execution time: 00:00:00.051"
                    },
                    "metadata": {}
                },
                {
                    "output_type": "execute_result",
                    "metadata": {},
                    "execution_count": 4,
                    "data": {
                        "application/vnd.dataresource+json": {
                            "schema": {
                                "fields": [
                                    {
                                        "name": "BestellungID"
                                    },
                                    {
                                        "name": "Bestelldatum"
                                    },
                                    {
                                        "name": "Versanddatum"
                                    }
                                ]
                            },
                            "data": [
                                {
                                    "BestellungID": "836",
                                    "Bestelldatum": "2020-02-28",
                                    "Versanddatum": "nicht geliefert!"
                                }
                            ]
                        },
                        "text/html": [
                            "<table>",
                            "<tr><th>BestellungID</th><th>Bestelldatum</th><th>Versanddatum</th></tr>",
                            "<tr><td>836</td><td>2020-02-28</td><td>nicht geliefert!</td></tr>",
                            "</table>"
                        ]
                    }
                }
            ],
            "execution_count": 4
        }
    ]
}