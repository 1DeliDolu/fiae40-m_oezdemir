{
    "metadata": {
        "kernelspec": {
            "name": "SQL",
            "display_name": "SQL",
            "language": "sql"
        },
        "language_info": {
            "name": "sql",
            "version": ""
        }
    },
    "nbformat_minor": 2,
    "nbformat": 4,
    "cells": [
        {
            "cell_type": "markdown",
            "source": [
                "# Typumwandlung / CAST / TRY\\_CAST / FORMAT / CONVERT\n",
                "\n",
                "Nutzen Sie für explizite Typumwandlung CAST oder TRY\\_CAST.\n",
                "\n",
                "Falls die Umwandlung fehlschlägt, bricht CAST mit Fehlermeldung ab; TRY\\_CAST gibt stattdessen NULL zurück. \n",
                "\n",
                "  \n",
                "\n",
                "CONVERT gibt immer eine Zeichenkette zurück, nach der Sie nicht numerisch sortieren können!"
            ],
            "metadata": {
                "azdata_cell_guid": "558d80bf-076e-4d8e-a8d6-f441a417744c"
            },
            "attachments": {}
        },
        {
            "cell_type": "code",
            "source": [
                "-- SELECT 1 + '1', 'A' + 1;\r\n",
                "\r\n",
                "-- SELECT GETDATE(), CAST(GETDATE() AS date)\r\n",
                "\r\n",
                "-- SELECT CAST('A' AS int)\r\n",
                "\r\n",
                "SELECT TRY_CAST('A' AS int)"
            ],
            "metadata": {
                "azdata_cell_guid": "610c63c5-8a03-4040-89d7-1d0db34685a3",
                "language": "sql"
            },
            "outputs": [],
            "execution_count": null
        },
        {
            "cell_type": "code",
            "source": [
                "SELECT k.Firma, \r\n",
                "    -- Ausgabe formatiert\r\n",
                "    FORMAT(COALESCE(SUM(d.menge * d.Verkaufspreis), 0), 'N', 'de-de') AS Gesamtumsatz\r\n",
                "FROM Kunde AS k \r\n",
                "LEFT JOIN Bestellung AS b ON k.KundenNr = b.KundenNr\r\n",
                "    AND YEAR(b.Bestelldatum) = 2016\r\n",
                "LEFT JOIN BestellDetail AS d ON b.BestellungID = d.BestellungID\r\n",
                "GROUP BY k.Firma\r\n",
                "-- Sortierung numerisch\r\n",
                "ORDER BY SUM(d.menge * d.Verkaufspreis) DESC;"
            ],
            "metadata": {
                "azdata_cell_guid": "40f17772-b944-45ae-9aef-b327c47a564c",
                "language": "sql"
            },
            "outputs": [],
            "execution_count": null
        },
        {
            "cell_type": "markdown",
            "source": [
                "# FORMAT Beispiele aus der Referenz\n",
                "\n",
                "[https://learn.microsoft.com/en-us/sql/t-sql/functions/format-transact-sql?view=sql-server-ver16](https://learn.microsoft.com/en-us/sql/t-sql/functions/format-transact-sql?view=sql-server-ver16)"
            ],
            "metadata": {
                "language": "sql",
                "azdata_cell_guid": "a77d4ea9-eec7-4637-8d78-7c39fa1926ac"
            },
            "attachments": {}
        },
        {
            "cell_type": "code",
            "source": [
                "-- FORMAT( Zahl, Code, Kultur Region)\r\n",
                "DECLARE @zahl DECIMAL(15,5) = 5.0 / 3 * 10000;\r\n",
                "SELECT @zahl AS Unformatiert\r\n",
                "\t, FORMAT(@zahl, 'N', 'de-de') AS [Numeric]\r\n",
                "\t, FORMAT(@zahl, 'N0', 'de-de') AS [Keine Dezimalstelle]\r\n",
                "\t, FORMAT(@zahl, 'N1', 'de-de') AS [Eine Dezimalstelle]\r\n",
                "\t, FORMAT(@zahl, 'C', 'de-de') AS [Currency]\r\n",
                "\t, FORMAT(@zahl, 'G', 'de-de') AS [General];\r\n",
                "\r\n",
                "-- mit dem Formatierten Wert kann nicht weiter gerechnet werden\r\n",
                "DECLARE @formatiert VARCHAR(20) = FORMAT(@zahl, 'C', 'de-de');\r\n",
                "SELECT TRY_PARSE(@formatiert AS DECIMAL(15,5)) * 5 AS Berechnung    "
            ],
            "metadata": {
                "language": "sql",
                "azdata_cell_guid": "aa95fbd0-f6d8-4bc7-9f38-10a7f27b68ff"
            },
            "outputs": [],
            "execution_count": null
        },
        {
            "cell_type": "code",
            "source": [
                "-- Formatierung der Uhrzeit\r\n",
                "SELECT GETDATE() AS [GETDATE datetime], CAST(GETDATE() AS time) AS [GETDATE als time];\r\n",
                "\r\n",
                "DECLARE @zeit time = CAST(GETDATE() AS time);\r\n",
                "SELECT @zeit AS [Unformatierte Zeit] \r\n",
                "\t, FORMAT(@zeit, N'hh\\:mm') AS [Formatierte Zeit];"
            ],
            "metadata": {
                "language": "sql",
                "azdata_cell_guid": "56cb65d6-83b2-4ef8-8cca-0cf3b6d95b73"
            },
            "outputs": [],
            "execution_count": null
        },
        {
            "cell_type": "code",
            "source": [
                "-- Datumsformatierung\r\n",
                "SELECT GETDATE() AS [Aktuelles Datum und Zeit]\r\n",
                "\t, FORMAT(GETDATE(), 'd', 'de-de') AS [kurzes Datum]\r\n",
                "\t, FORMAT(GETDATE(), 'D', 'de-de') AS [langes Datum]\r\n",
                "\t, FORMAT(GETDATE(), 'dddd', 'de-de') AS [Wochentag];\r\n",
                "\r\n",
                "SELECT 'Heute ist ' + FORMAT(GETDATE(), 'dddd, \\der d. MMMM yyyy.', 'de-de') AS [Datums-Ansage];"
            ],
            "metadata": {
                "language": "sql",
                "azdata_cell_guid": "5487a505-c1bc-4b87-b926-6b74f1619a3b"
            },
            "outputs": [],
            "execution_count": null
        },
        {
            "cell_type": "code",
            "source": [
                "-- Internationale Datumsformate, kurz und lang\r\n",
                "\r\n",
                "SET DATEFORMAT mdy;\r\n",
                "DECLARE @d DATE = '11/22/2020';\r\n",
                "SELECT FORMAT( @d, 'd', 'en-US' ) 'US English'  \r\n",
                "      ,FORMAT( @d, 'd', 'en-gb' ) 'Great Britain English'  \r\n",
                "      ,FORMAT( @d, 'd', 'de-de' ) 'German'  \r\n",
                "      ,FORMAT( @d, 'd', 'zh-cn' ) 'Chinese Simplified (PRC)';  \r\n",
                "  \r\n",
                "SELECT FORMAT( @d, 'D', 'en-US' ) 'US English'  \r\n",
                "      ,FORMAT( @d, 'D', 'en-gb' ) 'Great Britain English'  \r\n",
                "      ,FORMAT( @d, 'D', 'de-de' ) 'German'  \r\n",
                "      ,FORMAT( @d, 'D', 'zh-cn' ) 'Chinese Simplified (PRC)';"
            ],
            "metadata": {
                "azdata_cell_guid": "0015fd4a-6c2a-43c6-95f3-07012a331672",
                "language": "sql"
            },
            "outputs": [],
            "execution_count": null
        }
    ]
}