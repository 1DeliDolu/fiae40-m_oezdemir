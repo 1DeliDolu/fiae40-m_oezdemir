{
    "metadata": {
        "kernelspec": {
            "name": "SQL",
            "display_name": "SQL",
            "language": "sql"
        },
        "language_info": {
            "name": "sql",
            "version": ""
        }
    },
    "nbformat_minor": 2,
    "nbformat": 4,
    "cells": [
        {
            "cell_type": "markdown",
            "source": [
                "# Wiederherstellung der Datenbank SQL\\_Seminar aus dem Backup\n",
                "\n",
                "## Passen Sie den Dateipfad zur Backup-Datei an!\n",
                "\n",
                "Die Pfade in Zeilen 6 und 8 entsprechen den Standard Installationspfaden für Microsoft SQL Server 2022 Developer Edition."
            ],
            "metadata": {
                "azdata_cell_guid": "d103dfa4-ebbe-43e8-912d-a855576245ab"
            },
            "attachments": {}
        },
        {
            "cell_type": "code",
            "source": [
                "USE [master]\r\n",
                "RESTORE DATABASE [SQL_Seminar] \r\n",
                "FROM  DISK = N'D:\\SQL_Seminar.bak' \r\n",
                "WITH  FILE = 1,  \r\n",
                "MOVE N'SQL_Seminar' \r\n",
                "TO N'C:\\Program Files\\Microsoft SQL Server\\MSSQL16.MSSQLSERVER\\MSSQL\\DATA\\SQL_Seminar.mdf',  \r\n",
                "MOVE N'SQL_Seminar_log' \r\n",
                "TO N'C:\\Program Files\\Microsoft SQL Server\\MSSQL16.MSSQLSERVER\\MSSQL\\DATA\\SQL_Seminar_log.ldf',  \r\n",
                "NOUNLOAD,  STATS = 5"
            ],
            "metadata": {
                "azdata_cell_guid": "2009ddad-39cb-4773-b15c-030b9d2e88a6",
                "language": "sql"
            },
            "outputs": [
                {
                    "output_type": "error",
                    "ename": "",
                    "evalue": "Msg 3201, Level 16, State 2, Line 2\r\nDas Sicherungsmedium \"D:\\SQL_Seminar.bak\" kann nicht geöffnet werden. Betriebssystemfehler 2(Das System kann die angegebene Datei nicht finden.).",
                    "traceback": []
                },
                {
                    "output_type": "error",
                    "ename": "",
                    "evalue": "Msg 3013, Level 16, State 1, Line 2\r\nRESTORE DATABASE wird fehlerbedingt beendet.",
                    "traceback": []
                },
                {
                    "output_type": "display_data",
                    "data": {
                        "text/html": "Total execution time: 00:00:00.032"
                    },
                    "metadata": {}
                }
            ],
            "execution_count": 1
        },
        {
            "cell_type": "markdown",
            "source": [
                "## Tabellen der gewählten Datenbank auflisten"
            ],
            "metadata": {
                "azdata_cell_guid": "e135838f-81c5-4e8d-8900-cc798f96df0b"
            },
            "attachments": {}
        },
        {
            "cell_type": "code",
            "source": [
                "USE SQL_Seminar;\r\n",
                "\r\n",
                "SELECT * FROM sys.tables;"
            ],
            "metadata": {
                "azdata_cell_guid": "be8b8d37-0fd5-448d-a19c-0ca0e49aaec8",
                "language": "sql"
            },
            "outputs": [
                {
                    "output_type": "display_data",
                    "data": {
                        "text/html": "(15 rows affected)"
                    },
                    "metadata": {}
                },
                {
                    "output_type": "display_data",
                    "data": {
                        "text/html": "Total execution time: 00:00:00.365"
                    },
                    "metadata": {}
                },
                {
                    "output_type": "execute_result",
                    "execution_count": 2,
                    "data": {
                        "application/vnd.dataresource+json": {
                            "schema": {
                                "fields": [
                                    {
                                        "name": "name"
                                    },
                                    {
                                        "name": "object_id"
                                    },
                                    {
                                        "name": "principal_id"
                                    },
                                    {
                                        "name": "schema_id"
                                    },
                                    {
                                        "name": "parent_object_id"
                                    },
                                    {
                                        "name": "type"
                                    },
                                    {
                                        "name": "type_desc"
                                    },
                                    {
                                        "name": "create_date"
                                    },
                                    {
                                        "name": "modify_date"
                                    },
                                    {
                                        "name": "is_ms_shipped"
                                    },
                                    {
                                        "name": "is_published"
                                    },
                                    {
                                        "name": "is_schema_published"
                                    },
                                    {
                                        "name": "lob_data_space_id"
                                    },
                                    {
                                        "name": "filestream_data_space_id"
                                    },
                                    {
                                        "name": "max_column_id_used"
                                    },
                                    {
                                        "name": "lock_on_bulk_load"
                                    },
                                    {
                                        "name": "uses_ansi_nulls"
                                    },
                                    {
                                        "name": "is_replicated"
                                    },
                                    {
                                        "name": "has_replication_filter"
                                    },
                                    {
                                        "name": "is_merge_published"
                                    },
                                    {
                                        "name": "is_sync_tran_subscribed"
                                    },
                                    {
                                        "name": "has_unchecked_assembly_data"
                                    },
                                    {
                                        "name": "text_in_row_limit"
                                    },
                                    {
                                        "name": "large_value_types_out_of_row"
                                    },
                                    {
                                        "name": "is_tracked_by_cdc"
                                    },
                                    {
                                        "name": "lock_escalation"
                                    },
                                    {
                                        "name": "lock_escalation_desc"
                                    },
                                    {
                                        "name": "is_filetable"
                                    },
                                    {
                                        "name": "is_memory_optimized"
                                    },
                                    {
                                        "name": "durability"
                                    },
                                    {
                                        "name": "durability_desc"
                                    },
                                    {
                                        "name": "temporal_type"
                                    },
                                    {
                                        "name": "temporal_type_desc"
                                    },
                                    {
                                        "name": "history_table_id"
                                    },
                                    {
                                        "name": "is_remote_data_archive_enabled"
                                    },
                                    {
                                        "name": "is_external"
                                    },
                                    {
                                        "name": "history_retention_period"
                                    },
                                    {
                                        "name": "history_retention_period_unit"
                                    },
                                    {
                                        "name": "history_retention_period_unit_desc"
                                    },
                                    {
                                        "name": "is_node"
                                    },
                                    {
                                        "name": "is_edge"
                                    },
                                    {
                                        "name": "data_retention_period"
                                    },
                                    {
                                        "name": "data_retention_period_unit"
                                    },
                                    {
                                        "name": "data_retention_period_unit_desc"
                                    },
                                    {
                                        "name": "ledger_type"
                                    },
                                    {
                                        "name": "ledger_type_desc"
                                    },
                                    {
                                        "name": "ledger_view_id"
                                    },
                                    {
                                        "name": "is_dropped_ledger_table"
                                    }
                                ]
                            },
                            "data": [
                                {
                                    "name": "tblTriggerTest",
                                    "object_id": "338100245",
                                    "principal_id": "NULL",
                                    "schema_id": "1",
                                    "parent_object_id": "0",
                                    "type": "U ",
                                    "type_desc": "USER_TABLE",
                                    "create_date": "2020-02-28 13:59:26.630",
                                    "modify_date": "2020-02-28 14:17:11.180",
                                    "is_ms_shipped": "0",
                                    "is_published": "0",
                                    "is_schema_published": "0",
                                    "lob_data_space_id": "0",
                                    "filestream_data_space_id": "NULL",
                                    "max_column_id_used": "4",
                                    "lock_on_bulk_load": "0",
                                    "uses_ansi_nulls": "1",
                                    "is_replicated": "0",
                                    "has_replication_filter": "0",
                                    "is_merge_published": "0",
                                    "is_sync_tran_subscribed": "0",
                                    "has_unchecked_assembly_data": "0",
                                    "text_in_row_limit": "0",
                                    "large_value_types_out_of_row": "0",
                                    "is_tracked_by_cdc": "0",
                                    "lock_escalation": "0",
                                    "lock_escalation_desc": "TABLE",
                                    "is_filetable": "0",
                                    "is_memory_optimized": "0",
                                    "durability": "0",
                                    "durability_desc": "SCHEMA_AND_DATA",
                                    "temporal_type": "0",
                                    "temporal_type_desc": "NON_TEMPORAL_TABLE",
                                    "history_table_id": "NULL",
                                    "is_remote_data_archive_enabled": "0",
                                    "is_external": "0",
                                    "history_retention_period": "NULL",
                                    "history_retention_period_unit": "NULL",
                                    "history_retention_period_unit_desc": "NULL",
                                    "is_node": "0",
                                    "is_edge": "0",
                                    "data_retention_period": "-1",
                                    "data_retention_period_unit": "-1",
                                    "data_retention_period_unit_desc": "INFINITE",
                                    "ledger_type": "0",
                                    "ledger_type_desc": "NON_LEDGER_TABLE",
                                    "ledger_view_id": "NULL",
                                    "is_dropped_ledger_table": "0"
                                },
                                {
                                    "name": "Angebot",
                                    "object_id": "738101670",
                                    "principal_id": "NULL",
                                    "schema_id": "1",
                                    "parent_object_id": "0",
                                    "type": "U ",
                                    "type_desc": "USER_TABLE",
                                    "create_date": "2020-03-04 13:37:56.187",
                                    "modify_date": "2020-03-04 13:37:56.197",
                                    "is_ms_shipped": "0",
                                    "is_published": "0",
                                    "is_schema_published": "0",
                                    "lob_data_space_id": "0",
                                    "filestream_data_space_id": "NULL",
                                    "max_column_id_used": "7",
                                    "lock_on_bulk_load": "0",
                                    "uses_ansi_nulls": "1",
                                    "is_replicated": "0",
                                    "has_replication_filter": "0",
                                    "is_merge_published": "0",
                                    "is_sync_tran_subscribed": "0",
                                    "has_unchecked_assembly_data": "0",
                                    "text_in_row_limit": "0",
                                    "large_value_types_out_of_row": "0",
                                    "is_tracked_by_cdc": "0",
                                    "lock_escalation": "0",
                                    "lock_escalation_desc": "TABLE",
                                    "is_filetable": "0",
                                    "is_memory_optimized": "0",
                                    "durability": "0",
                                    "durability_desc": "SCHEMA_AND_DATA",
                                    "temporal_type": "2",
                                    "temporal_type_desc": "SYSTEM_VERSIONED_TEMPORAL_TABLE",
                                    "history_table_id": "786101841",
                                    "is_remote_data_archive_enabled": "0",
                                    "is_external": "0",
                                    "history_retention_period": "-1",
                                    "history_retention_period_unit": "-1",
                                    "history_retention_period_unit_desc": "INFINITE",
                                    "is_node": "0",
                                    "is_edge": "0",
                                    "data_retention_period": "-1",
                                    "data_retention_period_unit": "-1",
                                    "data_retention_period_unit_desc": "INFINITE",
                                    "ledger_type": "0",
                                    "ledger_type_desc": "NON_LEDGER_TABLE",
                                    "ledger_view_id": "NULL",
                                    "is_dropped_ledger_table": "0"
                                },
                                {
                                    "name": "AngebotHistory",
                                    "object_id": "786101841",
                                    "principal_id": "NULL",
                                    "schema_id": "1",
                                    "parent_object_id": "0",
                                    "type": "U ",
                                    "type_desc": "USER_TABLE",
                                    "create_date": "2020-03-04 13:37:56.190",
                                    "modify_date": "2020-03-04 13:37:56.193",
                                    "is_ms_shipped": "0",
                                    "is_published": "0",
                                    "is_schema_published": "0",
                                    "lob_data_space_id": "0",
                                    "filestream_data_space_id": "NULL",
                                    "max_column_id_used": "7",
                                    "lock_on_bulk_load": "0",
                                    "uses_ansi_nulls": "1",
                                    "is_replicated": "0",
                                    "has_replication_filter": "0",
                                    "is_merge_published": "0",
                                    "is_sync_tran_subscribed": "0",
                                    "has_unchecked_assembly_data": "0",
                                    "text_in_row_limit": "0",
                                    "large_value_types_out_of_row": "0",
                                    "is_tracked_by_cdc": "0",
                                    "lock_escalation": "0",
                                    "lock_escalation_desc": "TABLE",
                                    "is_filetable": "0",
                                    "is_memory_optimized": "0",
                                    "durability": "0",
                                    "durability_desc": "SCHEMA_AND_DATA",
                                    "temporal_type": "1",
                                    "temporal_type_desc": "HISTORY_TABLE",
                                    "history_table_id": "NULL",
                                    "is_remote_data_archive_enabled": "0",
                                    "is_external": "0",
                                    "history_retention_period": "NULL",
                                    "history_retention_period_unit": "NULL",
                                    "history_retention_period_unit_desc": "NULL",
                                    "is_node": "0",
                                    "is_edge": "0",
                                    "data_retention_period": "-1",
                                    "data_retention_period_unit": "-1",
                                    "data_retention_period_unit_desc": "INFINITE",
                                    "ledger_type": "0",
                                    "ledger_type_desc": "NON_LEDGER_TABLE",
                                    "ledger_view_id": "NULL",
                                    "is_dropped_ledger_table": "0"
                                },
                                {
                                    "name": "Sortierung",
                                    "object_id": "901578250",
                                    "principal_id": "NULL",
                                    "schema_id": "1",
                                    "parent_object_id": "0",
                                    "type": "U ",
                                    "type_desc": "USER_TABLE",
                                    "create_date": "2020-02-19 09:21:20.423",
                                    "modify_date": "2020-02-19 09:21:20.423",
                                    "is_ms_shipped": "0",
                                    "is_published": "0",
                                    "is_schema_published": "0",
                                    "lob_data_space_id": "0",
                                    "filestream_data_space_id": "NULL",
                                    "max_column_id_used": "2",
                                    "lock_on_bulk_load": "0",
                                    "uses_ansi_nulls": "1",
                                    "is_replicated": "0",
                                    "has_replication_filter": "0",
                                    "is_merge_published": "0",
                                    "is_sync_tran_subscribed": "0",
                                    "has_unchecked_assembly_data": "0",
                                    "text_in_row_limit": "0",
                                    "large_value_types_out_of_row": "0",
                                    "is_tracked_by_cdc": "0",
                                    "lock_escalation": "0",
                                    "lock_escalation_desc": "TABLE",
                                    "is_filetable": "0",
                                    "is_memory_optimized": "0",
                                    "durability": "0",
                                    "durability_desc": "SCHEMA_AND_DATA",
                                    "temporal_type": "0",
                                    "temporal_type_desc": "NON_TEMPORAL_TABLE",
                                    "history_table_id": "NULL",
                                    "is_remote_data_archive_enabled": "0",
                                    "is_external": "0",
                                    "history_retention_period": "NULL",
                                    "history_retention_period_unit": "NULL",
                                    "history_retention_period_unit_desc": "NULL",
                                    "is_node": "0",
                                    "is_edge": "0",
                                    "data_retention_period": "-1",
                                    "data_retention_period_unit": "-1",
                                    "data_retention_period_unit_desc": "INFINITE",
                                    "ledger_type": "0",
                                    "ledger_type_desc": "NON_LEDGER_TABLE",
                                    "ledger_view_id": "NULL",
                                    "is_dropped_ledger_table": "0"
                                },
                                {
                                    "name": "Locations",
                                    "object_id": "933578364",
                                    "principal_id": "NULL",
                                    "schema_id": "1",
                                    "parent_object_id": "0",
                                    "type": "U ",
                                    "type_desc": "USER_TABLE",
                                    "create_date": "2020-02-19 09:21:20.430",
                                    "modify_date": "2020-02-19 09:21:20.430",
                                    "is_ms_shipped": "0",
                                    "is_published": "0",
                                    "is_schema_published": "0",
                                    "lob_data_space_id": "0",
                                    "filestream_data_space_id": "NULL",
                                    "max_column_id_used": "1",
                                    "lock_on_bulk_load": "0",
                                    "uses_ansi_nulls": "1",
                                    "is_replicated": "0",
                                    "has_replication_filter": "0",
                                    "is_merge_published": "0",
                                    "is_sync_tran_subscribed": "0",
                                    "has_unchecked_assembly_data": "0",
                                    "text_in_row_limit": "0",
                                    "large_value_types_out_of_row": "0",
                                    "is_tracked_by_cdc": "0",
                                    "lock_escalation": "0",
                                    "lock_escalation_desc": "TABLE",
                                    "is_filetable": "0",
                                    "is_memory_optimized": "0",
                                    "durability": "0",
                                    "durability_desc": "SCHEMA_AND_DATA",
                                    "temporal_type": "0",
                                    "temporal_type_desc": "NON_TEMPORAL_TABLE",
                                    "history_table_id": "NULL",
                                    "is_remote_data_archive_enabled": "0",
                                    "is_external": "0",
                                    "history_retention_period": "NULL",
                                    "history_retention_period_unit": "NULL",
                                    "history_retention_period_unit_desc": "NULL",
                                    "is_node": "0",
                                    "is_edge": "0",
                                    "data_retention_period": "-1",
                                    "data_retention_period_unit": "-1",
                                    "data_retention_period_unit_desc": "INFINITE",
                                    "ledger_type": "0",
                                    "ledger_type_desc": "NON_LEDGER_TABLE",
                                    "ledger_view_id": "NULL",
                                    "is_dropped_ledger_table": "0"
                                },
                                {
                                    "name": "Adresse",
                                    "object_id": "949578421",
                                    "principal_id": "NULL",
                                    "schema_id": "1",
                                    "parent_object_id": "0",
                                    "type": "U ",
                                    "type_desc": "USER_TABLE",
                                    "create_date": "2020-02-19 09:41:40.150",
                                    "modify_date": "2022-09-23 13:06:12.500",
                                    "is_ms_shipped": "0",
                                    "is_published": "0",
                                    "is_schema_published": "0",
                                    "lob_data_space_id": "0",
                                    "filestream_data_space_id": "NULL",
                                    "max_column_id_used": "14",
                                    "lock_on_bulk_load": "0",
                                    "uses_ansi_nulls": "1",
                                    "is_replicated": "0",
                                    "has_replication_filter": "0",
                                    "is_merge_published": "0",
                                    "is_sync_tran_subscribed": "0",
                                    "has_unchecked_assembly_data": "0",
                                    "text_in_row_limit": "0",
                                    "large_value_types_out_of_row": "0",
                                    "is_tracked_by_cdc": "0",
                                    "lock_escalation": "0",
                                    "lock_escalation_desc": "TABLE",
                                    "is_filetable": "0",
                                    "is_memory_optimized": "0",
                                    "durability": "0",
                                    "durability_desc": "SCHEMA_AND_DATA",
                                    "temporal_type": "0",
                                    "temporal_type_desc": "NON_TEMPORAL_TABLE",
                                    "history_table_id": "NULL",
                                    "is_remote_data_archive_enabled": "0",
                                    "is_external": "0",
                                    "history_retention_period": "NULL",
                                    "history_retention_period_unit": "NULL",
                                    "history_retention_period_unit_desc": "NULL",
                                    "is_node": "0",
                                    "is_edge": "0",
                                    "data_retention_period": "-1",
                                    "data_retention_period_unit": "-1",
                                    "data_retention_period_unit_desc": "INFINITE",
                                    "ledger_type": "0",
                                    "ledger_type_desc": "NON_LEDGER_TABLE",
                                    "ledger_view_id": "NULL",
                                    "is_dropped_ledger_table": "0"
                                },
                                {
                                    "name": "Produktkategorie",
                                    "object_id": "997578592",
                                    "principal_id": "NULL",
                                    "schema_id": "1",
                                    "parent_object_id": "0",
                                    "type": "U ",
                                    "type_desc": "USER_TABLE",
                                    "create_date": "2020-02-19 12:23:04.530",
                                    "modify_date": "2020-02-19 12:32:28.570",
                                    "is_ms_shipped": "0",
                                    "is_published": "0",
                                    "is_schema_published": "0",
                                    "lob_data_space_id": "0",
                                    "filestream_data_space_id": "NULL",
                                    "max_column_id_used": "2",
                                    "lock_on_bulk_load": "0",
                                    "uses_ansi_nulls": "1",
                                    "is_replicated": "0",
                                    "has_replication_filter": "0",
                                    "is_merge_published": "0",
                                    "is_sync_tran_subscribed": "0",
                                    "has_unchecked_assembly_data": "0",
                                    "text_in_row_limit": "0",
                                    "large_value_types_out_of_row": "0",
                                    "is_tracked_by_cdc": "0",
                                    "lock_escalation": "0",
                                    "lock_escalation_desc": "TABLE",
                                    "is_filetable": "0",
                                    "is_memory_optimized": "0",
                                    "durability": "0",
                                    "durability_desc": "SCHEMA_AND_DATA",
                                    "temporal_type": "0",
                                    "temporal_type_desc": "NON_TEMPORAL_TABLE",
                                    "history_table_id": "NULL",
                                    "is_remote_data_archive_enabled": "0",
                                    "is_external": "0",
                                    "history_retention_period": "NULL",
                                    "history_retention_period_unit": "NULL",
                                    "history_retention_period_unit_desc": "NULL",
                                    "is_node": "0",
                                    "is_edge": "0",
                                    "data_retention_period": "-1",
                                    "data_retention_period_unit": "-1",
                                    "data_retention_period_unit_desc": "INFINITE",
                                    "ledger_type": "0",
                                    "ledger_type_desc": "NON_LEDGER_TABLE",
                                    "ledger_view_id": "NULL",
                                    "is_dropped_ledger_table": "0"
                                },
                                {
                                    "name": "Produkt",
                                    "object_id": "1013578649",
                                    "principal_id": "NULL",
                                    "schema_id": "1",
                                    "parent_object_id": "0",
                                    "type": "U ",
                                    "type_desc": "USER_TABLE",
                                    "create_date": "2020-02-19 12:28:48.233",
                                    "modify_date": "2020-02-19 13:22:05.400",
                                    "is_ms_shipped": "0",
                                    "is_published": "0",
                                    "is_schema_published": "0",
                                    "lob_data_space_id": "0",
                                    "filestream_data_space_id": "NULL",
                                    "max_column_id_used": "6",
                                    "lock_on_bulk_load": "0",
                                    "uses_ansi_nulls": "1",
                                    "is_replicated": "0",
                                    "has_replication_filter": "0",
                                    "is_merge_published": "0",
                                    "is_sync_tran_subscribed": "0",
                                    "has_unchecked_assembly_data": "0",
                                    "text_in_row_limit": "0",
                                    "large_value_types_out_of_row": "0",
                                    "is_tracked_by_cdc": "0",
                                    "lock_escalation": "0",
                                    "lock_escalation_desc": "TABLE",
                                    "is_filetable": "0",
                                    "is_memory_optimized": "0",
                                    "durability": "0",
                                    "durability_desc": "SCHEMA_AND_DATA",
                                    "temporal_type": "2",
                                    "temporal_type_desc": "SYSTEM_VERSIONED_TEMPORAL_TABLE",
                                    "history_table_id": "1109578991",
                                    "is_remote_data_archive_enabled": "0",
                                    "is_external": "0",
                                    "history_retention_period": "-1",
                                    "history_retention_period_unit": "-1",
                                    "history_retention_period_unit_desc": "INFINITE",
                                    "is_node": "0",
                                    "is_edge": "0",
                                    "data_retention_period": "-1",
                                    "data_retention_period_unit": "-1",
                                    "data_retention_period_unit_desc": "INFINITE",
                                    "ledger_type": "0",
                                    "ledger_type_desc": "NON_LEDGER_TABLE",
                                    "ledger_view_id": "NULL",
                                    "is_dropped_ledger_table": "0"
                                },
                                {
                                    "name": "ProduktHistory",
                                    "object_id": "1109578991",
                                    "principal_id": "NULL",
                                    "schema_id": "1",
                                    "parent_object_id": "0",
                                    "type": "U ",
                                    "type_desc": "USER_TABLE",
                                    "create_date": "2020-02-19 12:39:14.617",
                                    "modify_date": "2020-02-19 12:39:14.620",
                                    "is_ms_shipped": "0",
                                    "is_published": "0",
                                    "is_schema_published": "0",
                                    "lob_data_space_id": "0",
                                    "filestream_data_space_id": "NULL",
                                    "max_column_id_used": "6",
                                    "lock_on_bulk_load": "0",
                                    "uses_ansi_nulls": "1",
                                    "is_replicated": "0",
                                    "has_replication_filter": "0",
                                    "is_merge_published": "0",
                                    "is_sync_tran_subscribed": "0",
                                    "has_unchecked_assembly_data": "0",
                                    "text_in_row_limit": "0",
                                    "large_value_types_out_of_row": "0",
                                    "is_tracked_by_cdc": "0",
                                    "lock_escalation": "0",
                                    "lock_escalation_desc": "TABLE",
                                    "is_filetable": "0",
                                    "is_memory_optimized": "0",
                                    "durability": "0",
                                    "durability_desc": "SCHEMA_AND_DATA",
                                    "temporal_type": "1",
                                    "temporal_type_desc": "HISTORY_TABLE",
                                    "history_table_id": "NULL",
                                    "is_remote_data_archive_enabled": "0",
                                    "is_external": "0",
                                    "history_retention_period": "NULL",
                                    "history_retention_period_unit": "NULL",
                                    "history_retention_period_unit_desc": "NULL",
                                    "is_node": "0",
                                    "is_edge": "0",
                                    "data_retention_period": "-1",
                                    "data_retention_period_unit": "-1",
                                    "data_retention_period_unit_desc": "INFINITE",
                                    "ledger_type": "0",
                                    "ledger_type_desc": "NON_LEDGER_TABLE",
                                    "ledger_view_id": "NULL",
                                    "is_dropped_ledger_table": "0"
                                },
                                {
                                    "name": "Kunde",
                                    "object_id": "1173579219",
                                    "principal_id": "NULL",
                                    "schema_id": "1",
                                    "parent_object_id": "0",
                                    "type": "U ",
                                    "type_desc": "USER_TABLE",
                                    "create_date": "2020-02-19 13:05:20.047",
                                    "modify_date": "2022-09-23 13:04:46.390",
                                    "is_ms_shipped": "0",
                                    "is_published": "0",
                                    "is_schema_published": "0",
                                    "lob_data_space_id": "0",
                                    "filestream_data_space_id": "NULL",
                                    "max_column_id_used": "12",
                                    "lock_on_bulk_load": "0",
                                    "uses_ansi_nulls": "1",
                                    "is_replicated": "0",
                                    "has_replication_filter": "0",
                                    "is_merge_published": "0",
                                    "is_sync_tran_subscribed": "0",
                                    "has_unchecked_assembly_data": "0",
                                    "text_in_row_limit": "0",
                                    "large_value_types_out_of_row": "0",
                                    "is_tracked_by_cdc": "0",
                                    "lock_escalation": "0",
                                    "lock_escalation_desc": "TABLE",
                                    "is_filetable": "0",
                                    "is_memory_optimized": "0",
                                    "durability": "0",
                                    "durability_desc": "SCHEMA_AND_DATA",
                                    "temporal_type": "0",
                                    "temporal_type_desc": "NON_TEMPORAL_TABLE",
                                    "history_table_id": "NULL",
                                    "is_remote_data_archive_enabled": "0",
                                    "is_external": "0",
                                    "history_retention_period": "NULL",
                                    "history_retention_period_unit": "NULL",
                                    "history_retention_period_unit_desc": "NULL",
                                    "is_node": "0",
                                    "is_edge": "0",
                                    "data_retention_period": "-1",
                                    "data_retention_period_unit": "-1",
                                    "data_retention_period_unit_desc": "INFINITE",
                                    "ledger_type": "0",
                                    "ledger_type_desc": "NON_LEDGER_TABLE",
                                    "ledger_view_id": "NULL",
                                    "is_dropped_ledger_table": "0"
                                },
                                {
                                    "name": "Bestellung",
                                    "object_id": "1205579333",
                                    "principal_id": "NULL",
                                    "schema_id": "1",
                                    "parent_object_id": "0",
                                    "type": "U ",
                                    "type_desc": "USER_TABLE",
                                    "create_date": "2020-02-19 13:09:21.917",
                                    "modify_date": "2021-12-02 08:39:45.440",
                                    "is_ms_shipped": "0",
                                    "is_published": "0",
                                    "is_schema_published": "0",
                                    "lob_data_space_id": "0",
                                    "filestream_data_space_id": "NULL",
                                    "max_column_id_used": "5",
                                    "lock_on_bulk_load": "0",
                                    "uses_ansi_nulls": "1",
                                    "is_replicated": "0",
                                    "has_replication_filter": "0",
                                    "is_merge_published": "0",
                                    "is_sync_tran_subscribed": "0",
                                    "has_unchecked_assembly_data": "0",
                                    "text_in_row_limit": "0",
                                    "large_value_types_out_of_row": "0",
                                    "is_tracked_by_cdc": "0",
                                    "lock_escalation": "0",
                                    "lock_escalation_desc": "TABLE",
                                    "is_filetable": "0",
                                    "is_memory_optimized": "0",
                                    "durability": "0",
                                    "durability_desc": "SCHEMA_AND_DATA",
                                    "temporal_type": "0",
                                    "temporal_type_desc": "NON_TEMPORAL_TABLE",
                                    "history_table_id": "NULL",
                                    "is_remote_data_archive_enabled": "0",
                                    "is_external": "0",
                                    "history_retention_period": "NULL",
                                    "history_retention_period_unit": "NULL",
                                    "history_retention_period_unit_desc": "NULL",
                                    "is_node": "0",
                                    "is_edge": "0",
                                    "data_retention_period": "-1",
                                    "data_retention_period_unit": "-1",
                                    "data_retention_period_unit_desc": "INFINITE",
                                    "ledger_type": "0",
                                    "ledger_type_desc": "NON_LEDGER_TABLE",
                                    "ledger_view_id": "NULL",
                                    "is_dropped_ledger_table": "0"
                                },
                                {
                                    "name": "BestellDetail",
                                    "object_id": "1333579789",
                                    "principal_id": "NULL",
                                    "schema_id": "1",
                                    "parent_object_id": "0",
                                    "type": "U ",
                                    "type_desc": "USER_TABLE",
                                    "create_date": "2020-02-19 13:21:36.230",
                                    "modify_date": "2020-02-19 13:22:05.397",
                                    "is_ms_shipped": "0",
                                    "is_published": "0",
                                    "is_schema_published": "0",
                                    "lob_data_space_id": "0",
                                    "filestream_data_space_id": "NULL",
                                    "max_column_id_used": "4",
                                    "lock_on_bulk_load": "0",
                                    "uses_ansi_nulls": "1",
                                    "is_replicated": "0",
                                    "has_replication_filter": "0",
                                    "is_merge_published": "0",
                                    "is_sync_tran_subscribed": "0",
                                    "has_unchecked_assembly_data": "0",
                                    "text_in_row_limit": "0",
                                    "large_value_types_out_of_row": "0",
                                    "is_tracked_by_cdc": "0",
                                    "lock_escalation": "0",
                                    "lock_escalation_desc": "TABLE",
                                    "is_filetable": "0",
                                    "is_memory_optimized": "0",
                                    "durability": "0",
                                    "durability_desc": "SCHEMA_AND_DATA",
                                    "temporal_type": "0",
                                    "temporal_type_desc": "NON_TEMPORAL_TABLE",
                                    "history_table_id": "NULL",
                                    "is_remote_data_archive_enabled": "0",
                                    "is_external": "0",
                                    "history_retention_period": "NULL",
                                    "history_retention_period_unit": "NULL",
                                    "history_retention_period_unit_desc": "NULL",
                                    "is_node": "0",
                                    "is_edge": "0",
                                    "data_retention_period": "-1",
                                    "data_retention_period_unit": "-1",
                                    "data_retention_period_unit_desc": "INFINITE",
                                    "ledger_type": "0",
                                    "ledger_type_desc": "NON_LEDGER_TABLE",
                                    "ledger_view_id": "NULL",
                                    "is_dropped_ledger_table": "0"
                                },
                                {
                                    "name": "sysdiagrams",
                                    "object_id": "1413580074",
                                    "principal_id": "NULL",
                                    "schema_id": "1",
                                    "parent_object_id": "0",
                                    "type": "U ",
                                    "type_desc": "USER_TABLE",
                                    "create_date": "2020-02-19 13:22:59.170",
                                    "modify_date": "2020-02-19 13:22:59.170",
                                    "is_ms_shipped": "0",
                                    "is_published": "0",
                                    "is_schema_published": "0",
                                    "lob_data_space_id": "1",
                                    "filestream_data_space_id": "NULL",
                                    "max_column_id_used": "5",
                                    "lock_on_bulk_load": "0",
                                    "uses_ansi_nulls": "1",
                                    "is_replicated": "0",
                                    "has_replication_filter": "0",
                                    "is_merge_published": "0",
                                    "is_sync_tran_subscribed": "0",
                                    "has_unchecked_assembly_data": "0",
                                    "text_in_row_limit": "0",
                                    "large_value_types_out_of_row": "0",
                                    "is_tracked_by_cdc": "0",
                                    "lock_escalation": "0",
                                    "lock_escalation_desc": "TABLE",
                                    "is_filetable": "0",
                                    "is_memory_optimized": "0",
                                    "durability": "0",
                                    "durability_desc": "SCHEMA_AND_DATA",
                                    "temporal_type": "0",
                                    "temporal_type_desc": "NON_TEMPORAL_TABLE",
                                    "history_table_id": "NULL",
                                    "is_remote_data_archive_enabled": "0",
                                    "is_external": "0",
                                    "history_retention_period": "NULL",
                                    "history_retention_period_unit": "NULL",
                                    "history_retention_period_unit_desc": "NULL",
                                    "is_node": "0",
                                    "is_edge": "0",
                                    "data_retention_period": "-1",
                                    "data_retention_period_unit": "-1",
                                    "data_retention_period_unit_desc": "INFINITE",
                                    "ledger_type": "0",
                                    "ledger_type_desc": "NON_LEDGER_TABLE",
                                    "ledger_view_id": "NULL",
                                    "is_dropped_ledger_table": "0"
                                },
                                {
                                    "name": "Mitarbeiter",
                                    "object_id": "1634104862",
                                    "principal_id": "NULL",
                                    "schema_id": "1",
                                    "parent_object_id": "0",
                                    "type": "U ",
                                    "type_desc": "USER_TABLE",
                                    "create_date": "2021-12-02 08:19:13.947",
                                    "modify_date": "2022-09-23 13:03:08.123",
                                    "is_ms_shipped": "0",
                                    "is_published": "0",
                                    "is_schema_published": "0",
                                    "lob_data_space_id": "0",
                                    "filestream_data_space_id": "NULL",
                                    "max_column_id_used": "13",
                                    "lock_on_bulk_load": "0",
                                    "uses_ansi_nulls": "1",
                                    "is_replicated": "0",
                                    "has_replication_filter": "0",
                                    "is_merge_published": "0",
                                    "is_sync_tran_subscribed": "0",
                                    "has_unchecked_assembly_data": "0",
                                    "text_in_row_limit": "0",
                                    "large_value_types_out_of_row": "0",
                                    "is_tracked_by_cdc": "0",
                                    "lock_escalation": "0",
                                    "lock_escalation_desc": "TABLE",
                                    "is_filetable": "0",
                                    "is_memory_optimized": "0",
                                    "durability": "0",
                                    "durability_desc": "SCHEMA_AND_DATA",
                                    "temporal_type": "0",
                                    "temporal_type_desc": "NON_TEMPORAL_TABLE",
                                    "history_table_id": "NULL",
                                    "is_remote_data_archive_enabled": "0",
                                    "is_external": "0",
                                    "history_retention_period": "NULL",
                                    "history_retention_period_unit": "NULL",
                                    "history_retention_period_unit_desc": "NULL",
                                    "is_node": "0",
                                    "is_edge": "0",
                                    "data_retention_period": "-1",
                                    "data_retention_period_unit": "-1",
                                    "data_retention_period_unit_desc": "INFINITE",
                                    "ledger_type": "0",
                                    "ledger_type_desc": "NON_LEDGER_TABLE",
                                    "ledger_view_id": "NULL",
                                    "is_dropped_ledger_table": "0"
                                },
                                {
                                    "name": "PivotDaten",
                                    "object_id": "1845581613",
                                    "principal_id": "NULL",
                                    "schema_id": "1",
                                    "parent_object_id": "0",
                                    "type": "U ",
                                    "type_desc": "USER_TABLE",
                                    "create_date": "2020-02-20 11:06:42.527",
                                    "modify_date": "2020-02-20 11:06:42.527",
                                    "is_ms_shipped": "0",
                                    "is_published": "0",
                                    "is_schema_published": "0",
                                    "lob_data_space_id": "0",
                                    "filestream_data_space_id": "NULL",
                                    "max_column_id_used": "4",
                                    "lock_on_bulk_load": "0",
                                    "uses_ansi_nulls": "1",
                                    "is_replicated": "0",
                                    "has_replication_filter": "0",
                                    "is_merge_published": "0",
                                    "is_sync_tran_subscribed": "0",
                                    "has_unchecked_assembly_data": "0",
                                    "text_in_row_limit": "0",
                                    "large_value_types_out_of_row": "0",
                                    "is_tracked_by_cdc": "0",
                                    "lock_escalation": "0",
                                    "lock_escalation_desc": "TABLE",
                                    "is_filetable": "0",
                                    "is_memory_optimized": "0",
                                    "durability": "0",
                                    "durability_desc": "SCHEMA_AND_DATA",
                                    "temporal_type": "0",
                                    "temporal_type_desc": "NON_TEMPORAL_TABLE",
                                    "history_table_id": "NULL",
                                    "is_remote_data_archive_enabled": "0",
                                    "is_external": "0",
                                    "history_retention_period": "NULL",
                                    "history_retention_period_unit": "NULL",
                                    "history_retention_period_unit_desc": "NULL",
                                    "is_node": "0",
                                    "is_edge": "0",
                                    "data_retention_period": "-1",
                                    "data_retention_period_unit": "-1",
                                    "data_retention_period_unit_desc": "INFINITE",
                                    "ledger_type": "0",
                                    "ledger_type_desc": "NON_LEDGER_TABLE",
                                    "ledger_view_id": "NULL",
                                    "is_dropped_ledger_table": "0"
                                }
                            ]
                        },
                        "text/html": "<table><tr><th>name</th><th>object_id</th><th>principal_id</th><th>schema_id</th><th>parent_object_id</th><th>type</th><th>type_desc</th><th>create_date</th><th>modify_date</th><th>is_ms_shipped</th><th>is_published</th><th>is_schema_published</th><th>lob_data_space_id</th><th>filestream_data_space_id</th><th>max_column_id_used</th><th>lock_on_bulk_load</th><th>uses_ansi_nulls</th><th>is_replicated</th><th>has_replication_filter</th><th>is_merge_published</th><th>is_sync_tran_subscribed</th><th>has_unchecked_assembly_data</th><th>text_in_row_limit</th><th>large_value_types_out_of_row</th><th>is_tracked_by_cdc</th><th>lock_escalation</th><th>lock_escalation_desc</th><th>is_filetable</th><th>is_memory_optimized</th><th>durability</th><th>durability_desc</th><th>temporal_type</th><th>temporal_type_desc</th><th>history_table_id</th><th>is_remote_data_archive_enabled</th><th>is_external</th><th>history_retention_period</th><th>history_retention_period_unit</th><th>history_retention_period_unit_desc</th><th>is_node</th><th>is_edge</th><th>data_retention_period</th><th>data_retention_period_unit</th><th>data_retention_period_unit_desc</th><th>ledger_type</th><th>ledger_type_desc</th><th>ledger_view_id</th><th>is_dropped_ledger_table</th></tr><tr><td>tblTriggerTest</td><td>338100245</td><td>NULL</td><td>1</td><td>0</td><td>U </td><td>USER_TABLE</td><td>2020-02-28 13:59:26.630</td><td>2020-02-28 14:17:11.180</td><td>0</td><td>0</td><td>0</td><td>0</td><td>NULL</td><td>4</td><td>0</td><td>1</td><td>0</td><td>0</td><td>0</td><td>0</td><td>0</td><td>0</td><td>0</td><td>0</td><td>0</td><td>TABLE</td><td>0</td><td>0</td><td>0</td><td>SCHEMA_AND_DATA</td><td>0</td><td>NON_TEMPORAL_TABLE</td><td>NULL</td><td>0</td><td>0</td><td>NULL</td><td>NULL</td><td>NULL</td><td>0</td><td>0</td><td>-1</td><td>-1</td><td>INFINITE</td><td>0</td><td>NON_LEDGER_TABLE</td><td>NULL</td><td>0</td></tr><tr><td>Angebot</td><td>738101670</td><td>NULL</td><td>1</td><td>0</td><td>U </td><td>USER_TABLE</td><td>2020-03-04 13:37:56.187</td><td>2020-03-04 13:37:56.197</td><td>0</td><td>0</td><td>0</td><td>0</td><td>NULL</td><td>7</td><td>0</td><td>1</td><td>0</td><td>0</td><td>0</td><td>0</td><td>0</td><td>0</td><td>0</td><td>0</td><td>0</td><td>TABLE</td><td>0</td><td>0</td><td>0</td><td>SCHEMA_AND_DATA</td><td>2</td><td>SYSTEM_VERSIONED_TEMPORAL_TABLE</td><td>786101841</td><td>0</td><td>0</td><td>-1</td><td>-1</td><td>INFINITE</td><td>0</td><td>0</td><td>-1</td><td>-1</td><td>INFINITE</td><td>0</td><td>NON_LEDGER_TABLE</td><td>NULL</td><td>0</td></tr><tr><td>AngebotHistory</td><td>786101841</td><td>NULL</td><td>1</td><td>0</td><td>U </td><td>USER_TABLE</td><td>2020-03-04 13:37:56.190</td><td>2020-03-04 13:37:56.193</td><td>0</td><td>0</td><td>0</td><td>0</td><td>NULL</td><td>7</td><td>0</td><td>1</td><td>0</td><td>0</td><td>0</td><td>0</td><td>0</td><td>0</td><td>0</td><td>0</td><td>0</td><td>TABLE</td><td>0</td><td>0</td><td>0</td><td>SCHEMA_AND_DATA</td><td>1</td><td>HISTORY_TABLE</td><td>NULL</td><td>0</td><td>0</td><td>NULL</td><td>NULL</td><td>NULL</td><td>0</td><td>0</td><td>-1</td><td>-1</td><td>INFINITE</td><td>0</td><td>NON_LEDGER_TABLE</td><td>NULL</td><td>0</td></tr><tr><td>Sortierung</td><td>901578250</td><td>NULL</td><td>1</td><td>0</td><td>U </td><td>USER_TABLE</td><td>2020-02-19 09:21:20.423</td><td>2020-02-19 09:21:20.423</td><td>0</td><td>0</td><td>0</td><td>0</td><td>NULL</td><td>2</td><td>0</td><td>1</td><td>0</td><td>0</td><td>0</td><td>0</td><td>0</td><td>0</td><td>0</td><td>0</td><td>0</td><td>TABLE</td><td>0</td><td>0</td><td>0</td><td>SCHEMA_AND_DATA</td><td>0</td><td>NON_TEMPORAL_TABLE</td><td>NULL</td><td>0</td><td>0</td><td>NULL</td><td>NULL</td><td>NULL</td><td>0</td><td>0</td><td>-1</td><td>-1</td><td>INFINITE</td><td>0</td><td>NON_LEDGER_TABLE</td><td>NULL</td><td>0</td></tr><tr><td>Locations</td><td>933578364</td><td>NULL</td><td>1</td><td>0</td><td>U </td><td>USER_TABLE</td><td>2020-02-19 09:21:20.430</td><td>2020-02-19 09:21:20.430</td><td>0</td><td>0</td><td>0</td><td>0</td><td>NULL</td><td>1</td><td>0</td><td>1</td><td>0</td><td>0</td><td>0</td><td>0</td><td>0</td><td>0</td><td>0</td><td>0</td><td>0</td><td>TABLE</td><td>0</td><td>0</td><td>0</td><td>SCHEMA_AND_DATA</td><td>0</td><td>NON_TEMPORAL_TABLE</td><td>NULL</td><td>0</td><td>0</td><td>NULL</td><td>NULL</td><td>NULL</td><td>0</td><td>0</td><td>-1</td><td>-1</td><td>INFINITE</td><td>0</td><td>NON_LEDGER_TABLE</td><td>NULL</td><td>0</td></tr><tr><td>Adresse</td><td>949578421</td><td>NULL</td><td>1</td><td>0</td><td>U </td><td>USER_TABLE</td><td>2020-02-19 09:41:40.150</td><td>2022-09-23 13:06:12.500</td><td>0</td><td>0</td><td>0</td><td>0</td><td>NULL</td><td>14</td><td>0</td><td>1</td><td>0</td><td>0</td><td>0</td><td>0</td><td>0</td><td>0</td><td>0</td><td>0</td><td>0</td><td>TABLE</td><td>0</td><td>0</td><td>0</td><td>SCHEMA_AND_DATA</td><td>0</td><td>NON_TEMPORAL_TABLE</td><td>NULL</td><td>0</td><td>0</td><td>NULL</td><td>NULL</td><td>NULL</td><td>0</td><td>0</td><td>-1</td><td>-1</td><td>INFINITE</td><td>0</td><td>NON_LEDGER_TABLE</td><td>NULL</td><td>0</td></tr><tr><td>Produktkategorie</td><td>997578592</td><td>NULL</td><td>1</td><td>0</td><td>U </td><td>USER_TABLE</td><td>2020-02-19 12:23:04.530</td><td>2020-02-19 12:32:28.570</td><td>0</td><td>0</td><td>0</td><td>0</td><td>NULL</td><td>2</td><td>0</td><td>1</td><td>0</td><td>0</td><td>0</td><td>0</td><td>0</td><td>0</td><td>0</td><td>0</td><td>0</td><td>TABLE</td><td>0</td><td>0</td><td>0</td><td>SCHEMA_AND_DATA</td><td>0</td><td>NON_TEMPORAL_TABLE</td><td>NULL</td><td>0</td><td>0</td><td>NULL</td><td>NULL</td><td>NULL</td><td>0</td><td>0</td><td>-1</td><td>-1</td><td>INFINITE</td><td>0</td><td>NON_LEDGER_TABLE</td><td>NULL</td><td>0</td></tr><tr><td>Produkt</td><td>1013578649</td><td>NULL</td><td>1</td><td>0</td><td>U </td><td>USER_TABLE</td><td>2020-02-19 12:28:48.233</td><td>2020-02-19 13:22:05.400</td><td>0</td><td>0</td><td>0</td><td>0</td><td>NULL</td><td>6</td><td>0</td><td>1</td><td>0</td><td>0</td><td>0</td><td>0</td><td>0</td><td>0</td><td>0</td><td>0</td><td>0</td><td>TABLE</td><td>0</td><td>0</td><td>0</td><td>SCHEMA_AND_DATA</td><td>2</td><td>SYSTEM_VERSIONED_TEMPORAL_TABLE</td><td>1109578991</td><td>0</td><td>0</td><td>-1</td><td>-1</td><td>INFINITE</td><td>0</td><td>0</td><td>-1</td><td>-1</td><td>INFINITE</td><td>0</td><td>NON_LEDGER_TABLE</td><td>NULL</td><td>0</td></tr><tr><td>ProduktHistory</td><td>1109578991</td><td>NULL</td><td>1</td><td>0</td><td>U </td><td>USER_TABLE</td><td>2020-02-19 12:39:14.617</td><td>2020-02-19 12:39:14.620</td><td>0</td><td>0</td><td>0</td><td>0</td><td>NULL</td><td>6</td><td>0</td><td>1</td><td>0</td><td>0</td><td>0</td><td>0</td><td>0</td><td>0</td><td>0</td><td>0</td><td>0</td><td>TABLE</td><td>0</td><td>0</td><td>0</td><td>SCHEMA_AND_DATA</td><td>1</td><td>HISTORY_TABLE</td><td>NULL</td><td>0</td><td>0</td><td>NULL</td><td>NULL</td><td>NULL</td><td>0</td><td>0</td><td>-1</td><td>-1</td><td>INFINITE</td><td>0</td><td>NON_LEDGER_TABLE</td><td>NULL</td><td>0</td></tr><tr><td>Kunde</td><td>1173579219</td><td>NULL</td><td>1</td><td>0</td><td>U </td><td>USER_TABLE</td><td>2020-02-19 13:05:20.047</td><td>2022-09-23 13:04:46.390</td><td>0</td><td>0</td><td>0</td><td>0</td><td>NULL</td><td>12</td><td>0</td><td>1</td><td>0</td><td>0</td><td>0</td><td>0</td><td>0</td><td>0</td><td>0</td><td>0</td><td>0</td><td>TABLE</td><td>0</td><td>0</td><td>0</td><td>SCHEMA_AND_DATA</td><td>0</td><td>NON_TEMPORAL_TABLE</td><td>NULL</td><td>0</td><td>0</td><td>NULL</td><td>NULL</td><td>NULL</td><td>0</td><td>0</td><td>-1</td><td>-1</td><td>INFINITE</td><td>0</td><td>NON_LEDGER_TABLE</td><td>NULL</td><td>0</td></tr><tr><td>Bestellung</td><td>1205579333</td><td>NULL</td><td>1</td><td>0</td><td>U </td><td>USER_TABLE</td><td>2020-02-19 13:09:21.917</td><td>2021-12-02 08:39:45.440</td><td>0</td><td>0</td><td>0</td><td>0</td><td>NULL</td><td>5</td><td>0</td><td>1</td><td>0</td><td>0</td><td>0</td><td>0</td><td>0</td><td>0</td><td>0</td><td>0</td><td>0</td><td>TABLE</td><td>0</td><td>0</td><td>0</td><td>SCHEMA_AND_DATA</td><td>0</td><td>NON_TEMPORAL_TABLE</td><td>NULL</td><td>0</td><td>0</td><td>NULL</td><td>NULL</td><td>NULL</td><td>0</td><td>0</td><td>-1</td><td>-1</td><td>INFINITE</td><td>0</td><td>NON_LEDGER_TABLE</td><td>NULL</td><td>0</td></tr><tr><td>BestellDetail</td><td>1333579789</td><td>NULL</td><td>1</td><td>0</td><td>U </td><td>USER_TABLE</td><td>2020-02-19 13:21:36.230</td><td>2020-02-19 13:22:05.397</td><td>0</td><td>0</td><td>0</td><td>0</td><td>NULL</td><td>4</td><td>0</td><td>1</td><td>0</td><td>0</td><td>0</td><td>0</td><td>0</td><td>0</td><td>0</td><td>0</td><td>0</td><td>TABLE</td><td>0</td><td>0</td><td>0</td><td>SCHEMA_AND_DATA</td><td>0</td><td>NON_TEMPORAL_TABLE</td><td>NULL</td><td>0</td><td>0</td><td>NULL</td><td>NULL</td><td>NULL</td><td>0</td><td>0</td><td>-1</td><td>-1</td><td>INFINITE</td><td>0</td><td>NON_LEDGER_TABLE</td><td>NULL</td><td>0</td></tr><tr><td>sysdiagrams</td><td>1413580074</td><td>NULL</td><td>1</td><td>0</td><td>U </td><td>USER_TABLE</td><td>2020-02-19 13:22:59.170</td><td>2020-02-19 13:22:59.170</td><td>0</td><td>0</td><td>0</td><td>1</td><td>NULL</td><td>5</td><td>0</td><td>1</td><td>0</td><td>0</td><td>0</td><td>0</td><td>0</td><td>0</td><td>0</td><td>0</td><td>0</td><td>TABLE</td><td>0</td><td>0</td><td>0</td><td>SCHEMA_AND_DATA</td><td>0</td><td>NON_TEMPORAL_TABLE</td><td>NULL</td><td>0</td><td>0</td><td>NULL</td><td>NULL</td><td>NULL</td><td>0</td><td>0</td><td>-1</td><td>-1</td><td>INFINITE</td><td>0</td><td>NON_LEDGER_TABLE</td><td>NULL</td><td>0</td></tr><tr><td>Mitarbeiter</td><td>1634104862</td><td>NULL</td><td>1</td><td>0</td><td>U </td><td>USER_TABLE</td><td>2021-12-02 08:19:13.947</td><td>2022-09-23 13:03:08.123</td><td>0</td><td>0</td><td>0</td><td>0</td><td>NULL</td><td>13</td><td>0</td><td>1</td><td>0</td><td>0</td><td>0</td><td>0</td><td>0</td><td>0</td><td>0</td><td>0</td><td>0</td><td>TABLE</td><td>0</td><td>0</td><td>0</td><td>SCHEMA_AND_DATA</td><td>0</td><td>NON_TEMPORAL_TABLE</td><td>NULL</td><td>0</td><td>0</td><td>NULL</td><td>NULL</td><td>NULL</td><td>0</td><td>0</td><td>-1</td><td>-1</td><td>INFINITE</td><td>0</td><td>NON_LEDGER_TABLE</td><td>NULL</td><td>0</td></tr><tr><td>PivotDaten</td><td>1845581613</td><td>NULL</td><td>1</td><td>0</td><td>U </td><td>USER_TABLE</td><td>2020-02-20 11:06:42.527</td><td>2020-02-20 11:06:42.527</td><td>0</td><td>0</td><td>0</td><td>0</td><td>NULL</td><td>4</td><td>0</td><td>1</td><td>0</td><td>0</td><td>0</td><td>0</td><td>0</td><td>0</td><td>0</td><td>0</td><td>0</td><td>TABLE</td><td>0</td><td>0</td><td>0</td><td>SCHEMA_AND_DATA</td><td>0</td><td>NON_TEMPORAL_TABLE</td><td>NULL</td><td>0</td><td>0</td><td>NULL</td><td>NULL</td><td>NULL</td><td>0</td><td>0</td><td>-1</td><td>-1</td><td>INFINITE</td><td>0</td><td>NON_LEDGER_TABLE</td><td>NULL</td><td>0</td></tr></table>"
                    },
                    "metadata": {}
                }
            ],
            "execution_count": 2
        },
        {
            "cell_type": "markdown",
            "source": [
                "## Details zu einer Tabelle anzeigen"
            ],
            "metadata": {
                "azdata_cell_guid": "3bc9ea63-5ae2-4170-90ac-5c1805739835"
            },
            "attachments": {}
        },
        {
            "cell_type": "code",
            "source": [
                "EXEC sp_help 'dbo.Bestellung';"
            ],
            "metadata": {
                "azdata_cell_guid": "3feebe75-dd7f-4453-92c6-7c1b2d6f0650",
                "language": "sql"
            },
            "outputs": [
                {
                    "output_type": "display_data",
                    "data": {
                        "text/html": " "
                    },
                    "metadata": {}
                },
                {
                    "output_type": "display_data",
                    "data": {
                        "text/html": " "
                    },
                    "metadata": {}
                },
                {
                    "output_type": "display_data",
                    "data": {
                        "text/html": " "
                    },
                    "metadata": {}
                },
                {
                    "output_type": "display_data",
                    "data": {
                        "text/html": " "
                    },
                    "metadata": {}
                },
                {
                    "output_type": "display_data",
                    "data": {
                        "text/html": " "
                    },
                    "metadata": {}
                },
                {
                    "output_type": "display_data",
                    "data": {
                        "text/html": " "
                    },
                    "metadata": {}
                },
                {
                    "output_type": "display_data",
                    "data": {
                        "text/html": " "
                    },
                    "metadata": {}
                },
                {
                    "output_type": "display_data",
                    "data": {
                        "text/html": " "
                    },
                    "metadata": {}
                },
                {
                    "output_type": "display_data",
                    "data": {
                        "text/html": "Es verweisen keine Sichten mit Schemabindung auf die dbo.Bestellung-Tabelle."
                    },
                    "metadata": {}
                },
                {
                    "output_type": "display_data",
                    "data": {
                        "text/html": "Total execution time: 00:00:00.800"
                    },
                    "metadata": {}
                },
                {
                    "output_type": "execute_result",
                    "execution_count": 3,
                    "data": {
                        "application/vnd.dataresource+json": {
                            "schema": {
                                "fields": [
                                    {
                                        "name": "Name"
                                    },
                                    {
                                        "name": "Owner"
                                    },
                                    {
                                        "name": "Type"
                                    },
                                    {
                                        "name": "Created_datetime"
                                    }
                                ]
                            },
                            "data": [
                                {
                                    "Name": "Bestellung",
                                    "Owner": "dbo",
                                    "Type": "user table",
                                    "Created_datetime": "2020-02-19 13:09:21.917"
                                }
                            ]
                        },
                        "text/html": "<table><tr><th>Name</th><th>Owner</th><th>Type</th><th>Created_datetime</th></tr><tr><td>Bestellung</td><td>dbo</td><td>user table</td><td>2020-02-19 13:09:21.917</td></tr></table>"
                    },
                    "metadata": {}
                },
                {
                    "output_type": "execute_result",
                    "execution_count": 3,
                    "data": {
                        "application/vnd.dataresource+json": {
                            "schema": {
                                "fields": [
                                    {
                                        "name": "Column_name"
                                    },
                                    {
                                        "name": "Type"
                                    },
                                    {
                                        "name": "Computed"
                                    },
                                    {
                                        "name": "Length"
                                    },
                                    {
                                        "name": "Prec"
                                    },
                                    {
                                        "name": "Scale"
                                    },
                                    {
                                        "name": "Nullable"
                                    },
                                    {
                                        "name": "TrimTrailingBlanks"
                                    },
                                    {
                                        "name": "FixedLenNullInSource"
                                    },
                                    {
                                        "name": "Collation"
                                    }
                                ]
                            },
                            "data": [
                                {
                                    "Column_name": "BestellungID",
                                    "Type": "int",
                                    "Computed": "no",
                                    "Length": "4",
                                    "Prec": "10   ",
                                    "Scale": "0    ",
                                    "Nullable": "no",
                                    "TrimTrailingBlanks": "(n/a)",
                                    "FixedLenNullInSource": "(n/a)",
                                    "Collation": "NULL"
                                },
                                {
                                    "Column_name": "KundenNr",
                                    "Type": "int",
                                    "Computed": "no",
                                    "Length": "4",
                                    "Prec": "10   ",
                                    "Scale": "0    ",
                                    "Nullable": "no",
                                    "TrimTrailingBlanks": "(n/a)",
                                    "FixedLenNullInSource": "(n/a)",
                                    "Collation": "NULL"
                                },
                                {
                                    "Column_name": "MitarbeiterNr",
                                    "Type": "int",
                                    "Computed": "no",
                                    "Length": "4",
                                    "Prec": "10   ",
                                    "Scale": "0    ",
                                    "Nullable": "no",
                                    "TrimTrailingBlanks": "(n/a)",
                                    "FixedLenNullInSource": "(n/a)",
                                    "Collation": "NULL"
                                },
                                {
                                    "Column_name": "Bestelldatum",
                                    "Type": "date",
                                    "Computed": "no",
                                    "Length": "3",
                                    "Prec": "10   ",
                                    "Scale": "0    ",
                                    "Nullable": "no",
                                    "TrimTrailingBlanks": "(n/a)",
                                    "FixedLenNullInSource": "(n/a)",
                                    "Collation": "NULL"
                                },
                                {
                                    "Column_name": "Versanddatum",
                                    "Type": "date",
                                    "Computed": "no",
                                    "Length": "3",
                                    "Prec": "10   ",
                                    "Scale": "0    ",
                                    "Nullable": "yes",
                                    "TrimTrailingBlanks": "(n/a)",
                                    "FixedLenNullInSource": "(n/a)",
                                    "Collation": "NULL"
                                }
                            ]
                        },
                        "text/html": "<table><tr><th>Column_name</th><th>Type</th><th>Computed</th><th>Length</th><th>Prec</th><th>Scale</th><th>Nullable</th><th>TrimTrailingBlanks</th><th>FixedLenNullInSource</th><th>Collation</th></tr><tr><td>BestellungID</td><td>int</td><td>no</td><td>4</td><td>10   </td><td>0    </td><td>no</td><td>(n/a)</td><td>(n/a)</td><td>NULL</td></tr><tr><td>KundenNr</td><td>int</td><td>no</td><td>4</td><td>10   </td><td>0    </td><td>no</td><td>(n/a)</td><td>(n/a)</td><td>NULL</td></tr><tr><td>MitarbeiterNr</td><td>int</td><td>no</td><td>4</td><td>10   </td><td>0    </td><td>no</td><td>(n/a)</td><td>(n/a)</td><td>NULL</td></tr><tr><td>Bestelldatum</td><td>date</td><td>no</td><td>3</td><td>10   </td><td>0    </td><td>no</td><td>(n/a)</td><td>(n/a)</td><td>NULL</td></tr><tr><td>Versanddatum</td><td>date</td><td>no</td><td>3</td><td>10   </td><td>0    </td><td>yes</td><td>(n/a)</td><td>(n/a)</td><td>NULL</td></tr></table>"
                    },
                    "metadata": {}
                },
                {
                    "output_type": "execute_result",
                    "execution_count": 3,
                    "data": {
                        "application/vnd.dataresource+json": {
                            "schema": {
                                "fields": [
                                    {
                                        "name": "Identity"
                                    },
                                    {
                                        "name": "Seed"
                                    },
                                    {
                                        "name": "Increment"
                                    },
                                    {
                                        "name": "Not For Replication"
                                    }
                                ]
                            },
                            "data": [
                                {
                                    "Identity": "BestellungID",
                                    "Seed": "1",
                                    "Increment": "1",
                                    "Not For Replication": "0"
                                }
                            ]
                        },
                        "text/html": "<table><tr><th>Identity</th><th>Seed</th><th>Increment</th><th>Not For Replication</th></tr><tr><td>BestellungID</td><td>1</td><td>1</td><td>0</td></tr></table>"
                    },
                    "metadata": {}
                },
                {
                    "output_type": "execute_result",
                    "execution_count": 3,
                    "data": {
                        "application/vnd.dataresource+json": {
                            "schema": {
                                "fields": [
                                    {
                                        "name": "RowGuidCol"
                                    }
                                ]
                            },
                            "data": [
                                {
                                    "RowGuidCol": "No rowguidcol column defined."
                                }
                            ]
                        },
                        "text/html": "<table><tr><th>RowGuidCol</th></tr><tr><td>No rowguidcol column defined.</td></tr></table>"
                    },
                    "metadata": {}
                },
                {
                    "output_type": "execute_result",
                    "execution_count": 3,
                    "data": {
                        "application/vnd.dataresource+json": {
                            "schema": {
                                "fields": [
                                    {
                                        "name": "Data_located_on_filegroup"
                                    }
                                ]
                            },
                            "data": [
                                {
                                    "Data_located_on_filegroup": "PRIMARY"
                                }
                            ]
                        },
                        "text/html": "<table><tr><th>Data_located_on_filegroup</th></tr><tr><td>PRIMARY</td></tr></table>"
                    },
                    "metadata": {}
                },
                {
                    "output_type": "execute_result",
                    "execution_count": 3,
                    "data": {
                        "application/vnd.dataresource+json": {
                            "schema": {
                                "fields": [
                                    {
                                        "name": "index_name"
                                    },
                                    {
                                        "name": "index_description"
                                    },
                                    {
                                        "name": "index_keys"
                                    }
                                ]
                            },
                            "data": [
                                {
                                    "index_name": "pk_bestellung",
                                    "index_description": "clustered, unique, primary key located on PRIMARY",
                                    "index_keys": "BestellungID"
                                }
                            ]
                        },
                        "text/html": "<table><tr><th>index_name</th><th>index_description</th><th>index_keys</th></tr><tr><td>pk_bestellung</td><td>clustered, unique, primary key located on PRIMARY</td><td>BestellungID</td></tr></table>"
                    },
                    "metadata": {}
                },
                {
                    "output_type": "execute_result",
                    "execution_count": 3,
                    "data": {
                        "application/vnd.dataresource+json": {
                            "schema": {
                                "fields": [
                                    {
                                        "name": "constraint_type"
                                    },
                                    {
                                        "name": "constraint_name"
                                    },
                                    {
                                        "name": "delete_action"
                                    },
                                    {
                                        "name": "update_action"
                                    },
                                    {
                                        "name": "status_enabled"
                                    },
                                    {
                                        "name": "status_for_replication"
                                    },
                                    {
                                        "name": "constraint_keys"
                                    }
                                ]
                            },
                            "data": [
                                {
                                    "constraint_type": "FOREIGN KEY",
                                    "constraint_name": "fk_bestellung_kunde",
                                    "delete_action": "No Action",
                                    "update_action": "No Action",
                                    "status_enabled": "Enabled",
                                    "status_for_replication": "Is_For_Replication",
                                    "constraint_keys": "KundenNr"
                                },
                                {
                                    "constraint_type": " ",
                                    "constraint_name": " ",
                                    "delete_action": " ",
                                    "update_action": " ",
                                    "status_enabled": " ",
                                    "status_for_replication": " ",
                                    "constraint_keys": "REFERENCES SQL_Seminar.dbo.Kunde (KundenNr)"
                                },
                                {
                                    "constraint_type": "FOREIGN KEY",
                                    "constraint_name": "fk_bestellung_mitarbeiter",
                                    "delete_action": "No Action",
                                    "update_action": "No Action",
                                    "status_enabled": "Enabled",
                                    "status_for_replication": "Is_For_Replication",
                                    "constraint_keys": "MitarbeiterNr"
                                },
                                {
                                    "constraint_type": " ",
                                    "constraint_name": " ",
                                    "delete_action": " ",
                                    "update_action": " ",
                                    "status_enabled": " ",
                                    "status_for_replication": " ",
                                    "constraint_keys": "REFERENCES SQL_Seminar.dbo.Mitarbeiter (MitarbeiterNr)"
                                },
                                {
                                    "constraint_type": "PRIMARY KEY (clustered)",
                                    "constraint_name": "pk_bestellung",
                                    "delete_action": "(n/a)",
                                    "update_action": "(n/a)",
                                    "status_enabled": "(n/a)",
                                    "status_for_replication": "(n/a)",
                                    "constraint_keys": "BestellungID"
                                }
                            ]
                        },
                        "text/html": "<table><tr><th>constraint_type</th><th>constraint_name</th><th>delete_action</th><th>update_action</th><th>status_enabled</th><th>status_for_replication</th><th>constraint_keys</th></tr><tr><td>FOREIGN KEY</td><td>fk_bestellung_kunde</td><td>No Action</td><td>No Action</td><td>Enabled</td><td>Is_For_Replication</td><td>KundenNr</td></tr><tr><td> </td><td> </td><td> </td><td> </td><td> </td><td> </td><td>REFERENCES SQL_Seminar.dbo.Kunde (KundenNr)</td></tr><tr><td>FOREIGN KEY</td><td>fk_bestellung_mitarbeiter</td><td>No Action</td><td>No Action</td><td>Enabled</td><td>Is_For_Replication</td><td>MitarbeiterNr</td></tr><tr><td> </td><td> </td><td> </td><td> </td><td> </td><td> </td><td>REFERENCES SQL_Seminar.dbo.Mitarbeiter (MitarbeiterNr)</td></tr><tr><td>PRIMARY KEY (clustered)</td><td>pk_bestellung</td><td>(n/a)</td><td>(n/a)</td><td>(n/a)</td><td>(n/a)</td><td>BestellungID</td></tr></table>"
                    },
                    "metadata": {}
                },
                {
                    "output_type": "execute_result",
                    "execution_count": 3,
                    "data": {
                        "application/vnd.dataresource+json": {
                            "schema": {
                                "fields": [
                                    {
                                        "name": "Table is referenced by foreign key"
                                    }
                                ]
                            },
                            "data": [
                                {
                                    "Table is referenced by foreign key": "SQL_Seminar.dbo.BestellDetail: fk_bestelldetail_bestellung"
                                }
                            ]
                        },
                        "text/html": "<table><tr><th>Table is referenced by foreign key</th></tr><tr><td>SQL_Seminar.dbo.BestellDetail: fk_bestelldetail_bestellung</td></tr></table>"
                    },
                    "metadata": {}
                }
            ],
            "execution_count": 3
        },
        {
            "cell_type": "code",
            "source": [
                "SELECT s.name as schema_name, t.name as table_name, c.*\r\n",
                "FROM sys.columns AS c\r\n",
                "    INNER JOIN sys.tables AS t ON t.object_id = c.object_id\r\n",
                "    INNER JOIN sys.schemas AS s ON s.schema_id = t.schema_id\r\n",
                "WHERE t.name = 'Bestellung' AND s.name = 'dbo';"
            ],
            "metadata": {
                "language": "sql",
                "azdata_cell_guid": "1c2b4af9-e1ac-4d36-91a0-bb51f189aa85"
            },
            "outputs": [
{
    "output_type": "display_data",
    "data": {
        "text/html": "(5 rows affected)"
    },
    "metadata": {}
}, {
    "output_type": "display_data",
    "data": {
        "text/html": "Total execution time: 00:00:00.135"
    },
    "metadata": {}
}, {
    "output_type": "execute_result",
    "metadata": {},
    "execution_count": 1,
    "data": {
        "application/vnd.dataresource+json": {
            "schema": {
                "fields": [
                    {
                        "name": "schema_name"
                    },
                    {
                        "name": "table_name"
                    },
                    {
                        "name": "object_id"
                    },
                    {
                        "name": "name"
                    },
                    {
                        "name": "column_id"
                    },
                    {
                        "name": "system_type_id"
                    },
                    {
                        "name": "user_type_id"
                    },
                    {
                        "name": "max_length"
                    },
                    {
                        "name": "precision"
                    },
                    {
                        "name": "scale"
                    },
                    {
                        "name": "collation_name"
                    },
                    {
                        "name": "is_nullable"
                    },
                    {
                        "name": "is_ansi_padded"
                    },
                    {
                        "name": "is_rowguidcol"
                    },
                    {
                        "name": "is_identity"
                    },
                    {
                        "name": "is_computed"
                    },
                    {
                        "name": "is_filestream"
                    },
                    {
                        "name": "is_replicated"
                    },
                    {
                        "name": "is_non_sql_subscribed"
                    },
                    {
                        "name": "is_merge_published"
                    },
                    {
                        "name": "is_dts_replicated"
                    },
                    {
                        "name": "is_xml_document"
                    },
                    {
                        "name": "xml_collection_id"
                    },
                    {
                        "name": "default_object_id"
                    },
                    {
                        "name": "rule_object_id"
                    },
                    {
                        "name": "is_sparse"
                    },
                    {
                        "name": "is_column_set"
                    },
                    {
                        "name": "generated_always_type"
                    },
                    {
                        "name": "generated_always_type_desc"
                    },
                    {
                        "name": "encryption_type"
                    },
                    {
                        "name": "encryption_type_desc"
                    },
                    {
                        "name": "encryption_algorithm_name"
                    },
                    {
                        "name": "column_encryption_key_id"
                    },
                    {
                        "name": "column_encryption_key_database_name"
                    },
                    {
                        "name": "is_hidden"
                    },
                    {
                        "name": "is_masked"
                    },
                    {
                        "name": "graph_type"
                    },
                    {
                        "name": "graph_type_desc"
                    },
                    {
                        "name": "is_data_deletion_filter_column"
                    },
                    {
                        "name": "ledger_view_column_type"
                    },
                    {
                        "name": "ledger_view_column_type_desc"
                    },
                    {
                        "name": "is_dropped_ledger_column"
                    }
                ]
            },
            "data": [
                {
                    "schema_name": "dbo",
                    "table_name": "Bestellung",
                    "object_id": "1205579333",
                    "name": "BestellungID",
                    "column_id": "1",
                    "system_type_id": "56",
                    "user_type_id": "56",
                    "max_length": "4",
                    "precision": "10",
                    "scale": "0",
                    "collation_name": "NULL",
                    "is_nullable": "0",
                    "is_ansi_padded": "0",
                    "is_rowguidcol": "0",
                    "is_identity": "1",
                    "is_computed": "0",
                    "is_filestream": "0",
                    "is_replicated": "0",
                    "is_non_sql_subscribed": "0",
                    "is_merge_published": "0",
                    "is_dts_replicated": "0",
                    "is_xml_document": "0",
                    "xml_collection_id": "0",
                    "default_object_id": "0",
                    "rule_object_id": "0",
                    "is_sparse": "0",
                    "is_column_set": "0",
                    "generated_always_type": "0",
                    "generated_always_type_desc": "NOT_APPLICABLE",
                    "encryption_type": "NULL",
                    "encryption_type_desc": "NULL",
                    "encryption_algorithm_name": "NULL",
                    "column_encryption_key_id": "NULL",
                    "column_encryption_key_database_name": "NULL",
                    "is_hidden": "0",
                    "is_masked": "0",
                    "graph_type": "NULL",
                    "graph_type_desc": "NULL",
                    "is_data_deletion_filter_column": "0",
                    "ledger_view_column_type": "NULL",
                    "ledger_view_column_type_desc": "NULL",
                    "is_dropped_ledger_column": "0"
                },
                {
                    "schema_name": "dbo",
                    "table_name": "Bestellung",
                    "object_id": "1205579333",
                    "name": "KundenNr",
                    "column_id": "2",
                    "system_type_id": "56",
                    "user_type_id": "56",
                    "max_length": "4",
                    "precision": "10",
                    "scale": "0",
                    "collation_name": "NULL",
                    "is_nullable": "0",
                    "is_ansi_padded": "0",
                    "is_rowguidcol": "0",
                    "is_identity": "0",
                    "is_computed": "0",
                    "is_filestream": "0",
                    "is_replicated": "0",
                    "is_non_sql_subscribed": "0",
                    "is_merge_published": "0",
                    "is_dts_replicated": "0",
                    "is_xml_document": "0",
                    "xml_collection_id": "0",
                    "default_object_id": "0",
                    "rule_object_id": "0",
                    "is_sparse": "0",
                    "is_column_set": "0",
                    "generated_always_type": "0",
                    "generated_always_type_desc": "NOT_APPLICABLE",
                    "encryption_type": "NULL",
                    "encryption_type_desc": "NULL",
                    "encryption_algorithm_name": "NULL",
                    "column_encryption_key_id": "NULL",
                    "column_encryption_key_database_name": "NULL",
                    "is_hidden": "0",
                    "is_masked": "0",
                    "graph_type": "NULL",
                    "graph_type_desc": "NULL",
                    "is_data_deletion_filter_column": "0",
                    "ledger_view_column_type": "NULL",
                    "ledger_view_column_type_desc": "NULL",
                    "is_dropped_ledger_column": "0"
                },
                {
                    "schema_name": "dbo",
                    "table_name": "Bestellung",
                    "object_id": "1205579333",
                    "name": "MitarbeiterNr",
                    "column_id": "3",
                    "system_type_id": "56",
                    "user_type_id": "56",
                    "max_length": "4",
                    "precision": "10",
                    "scale": "0",
                    "collation_name": "NULL",
                    "is_nullable": "0",
                    "is_ansi_padded": "0",
                    "is_rowguidcol": "0",
                    "is_identity": "0",
                    "is_computed": "0",
                    "is_filestream": "0",
                    "is_replicated": "0",
                    "is_non_sql_subscribed": "0",
                    "is_merge_published": "0",
                    "is_dts_replicated": "0",
                    "is_xml_document": "0",
                    "xml_collection_id": "0",
                    "default_object_id": "0",
                    "rule_object_id": "0",
                    "is_sparse": "0",
                    "is_column_set": "0",
                    "generated_always_type": "0",
                    "generated_always_type_desc": "NOT_APPLICABLE",
                    "encryption_type": "NULL",
                    "encryption_type_desc": "NULL",
                    "encryption_algorithm_name": "NULL",
                    "column_encryption_key_id": "NULL",
                    "column_encryption_key_database_name": "NULL",
                    "is_hidden": "0",
                    "is_masked": "0",
                    "graph_type": "NULL",
                    "graph_type_desc": "NULL",
                    "is_data_deletion_filter_column": "0",
                    "ledger_view_column_type": "NULL",
                    "ledger_view_column_type_desc": "NULL",
                    "is_dropped_ledger_column": "0"
                },
                {
                    "schema_name": "dbo",
                    "table_name": "Bestellung",
                    "object_id": "1205579333",
                    "name": "Bestelldatum",
                    "column_id": "4",
                    "system_type_id": "40",
                    "user_type_id": "40",
                    "max_length": "3",
                    "precision": "10",
                    "scale": "0",
                    "collation_name": "NULL",
                    "is_nullable": "0",
                    "is_ansi_padded": "0",
                    "is_rowguidcol": "0",
                    "is_identity": "0",
                    "is_computed": "0",
                    "is_filestream": "0",
                    "is_replicated": "0",
                    "is_non_sql_subscribed": "0",
                    "is_merge_published": "0",
                    "is_dts_replicated": "0",
                    "is_xml_document": "0",
                    "xml_collection_id": "0",
                    "default_object_id": "0",
                    "rule_object_id": "0",
                    "is_sparse": "0",
                    "is_column_set": "0",
                    "generated_always_type": "0",
                    "generated_always_type_desc": "NOT_APPLICABLE",
                    "encryption_type": "NULL",
                    "encryption_type_desc": "NULL",
                    "encryption_algorithm_name": "NULL",
                    "column_encryption_key_id": "NULL",
                    "column_encryption_key_database_name": "NULL",
                    "is_hidden": "0",
                    "is_masked": "0",
                    "graph_type": "NULL",
                    "graph_type_desc": "NULL",
                    "is_data_deletion_filter_column": "0",
                    "ledger_view_column_type": "NULL",
                    "ledger_view_column_type_desc": "NULL",
                    "is_dropped_ledger_column": "0"
                },
                {
                    "schema_name": "dbo",
                    "table_name": "Bestellung",
                    "object_id": "1205579333",
                    "name": "Versanddatum",
                    "column_id": "5",
                    "system_type_id": "40",
                    "user_type_id": "40",
                    "max_length": "3",
                    "precision": "10",
                    "scale": "0",
                    "collation_name": "NULL",
                    "is_nullable": "1",
                    "is_ansi_padded": "0",
                    "is_rowguidcol": "0",
                    "is_identity": "0",
                    "is_computed": "0",
                    "is_filestream": "0",
                    "is_replicated": "0",
                    "is_non_sql_subscribed": "0",
                    "is_merge_published": "0",
                    "is_dts_replicated": "0",
                    "is_xml_document": "0",
                    "xml_collection_id": "0",
                    "default_object_id": "0",
                    "rule_object_id": "0",
                    "is_sparse": "0",
                    "is_column_set": "0",
                    "generated_always_type": "0",
                    "generated_always_type_desc": "NOT_APPLICABLE",
                    "encryption_type": "NULL",
                    "encryption_type_desc": "NULL",
                    "encryption_algorithm_name": "NULL",
                    "column_encryption_key_id": "NULL",
                    "column_encryption_key_database_name": "NULL",
                    "is_hidden": "0",
                    "is_masked": "0",
                    "graph_type": "NULL",
                    "graph_type_desc": "NULL",
                    "is_data_deletion_filter_column": "0",
                    "ledger_view_column_type": "NULL",
                    "ledger_view_column_type_desc": "NULL",
                    "is_dropped_ledger_column": "0"
                }
            ]
        },
        "text/html": [
            "<table>",
            "<tr><th>schema_name</th><th>table_name</th><th>object_id</th><th>name</th><th>column_id</th><th>system_type_id</th><th>user_type_id</th><th>max_length</th><th>precision</th><th>scale</th><th>collation_name</th><th>is_nullable</th><th>is_ansi_padded</th><th>is_rowguidcol</th><th>is_identity</th><th>is_computed</th><th>is_filestream</th><th>is_replicated</th><th>is_non_sql_subscribed</th><th>is_merge_published</th><th>is_dts_replicated</th><th>is_xml_document</th><th>xml_collection_id</th><th>default_object_id</th><th>rule_object_id</th><th>is_sparse</th><th>is_column_set</th><th>generated_always_type</th><th>generated_always_type_desc</th><th>encryption_type</th><th>encryption_type_desc</th><th>encryption_algorithm_name</th><th>column_encryption_key_id</th><th>column_encryption_key_database_name</th><th>is_hidden</th><th>is_masked</th><th>graph_type</th><th>graph_type_desc</th><th>is_data_deletion_filter_column</th><th>ledger_view_column_type</th><th>ledger_view_column_type_desc</th><th>is_dropped_ledger_column</th></tr>",
            "<tr><td>dbo</td><td>Bestellung</td><td>1205579333</td><td>BestellungID</td><td>1</td><td>56</td><td>56</td><td>4</td><td>10</td><td>0</td><td>NULL</td><td>0</td><td>0</td><td>0</td><td>1</td><td>0</td><td>0</td><td>0</td><td>0</td><td>0</td><td>0</td><td>0</td><td>0</td><td>0</td><td>0</td><td>0</td><td>0</td><td>0</td><td>NOT_APPLICABLE</td><td>NULL</td><td>NULL</td><td>NULL</td><td>NULL</td><td>NULL</td><td>0</td><td>0</td><td>NULL</td><td>NULL</td><td>0</td><td>NULL</td><td>NULL</td><td>0</td></tr>",
            "<tr><td>dbo</td><td>Bestellung</td><td>1205579333</td><td>KundenNr</td><td>2</td><td>56</td><td>56</td><td>4</td><td>10</td><td>0</td><td>NULL</td><td>0</td><td>0</td><td>0</td><td>0</td><td>0</td><td>0</td><td>0</td><td>0</td><td>0</td><td>0</td><td>0</td><td>0</td><td>0</td><td>0</td><td>0</td><td>0</td><td>0</td><td>NOT_APPLICABLE</td><td>NULL</td><td>NULL</td><td>NULL</td><td>NULL</td><td>NULL</td><td>0</td><td>0</td><td>NULL</td><td>NULL</td><td>0</td><td>NULL</td><td>NULL</td><td>0</td></tr>",
            "<tr><td>dbo</td><td>Bestellung</td><td>1205579333</td><td>MitarbeiterNr</td><td>3</td><td>56</td><td>56</td><td>4</td><td>10</td><td>0</td><td>NULL</td><td>0</td><td>0</td><td>0</td><td>0</td><td>0</td><td>0</td><td>0</td><td>0</td><td>0</td><td>0</td><td>0</td><td>0</td><td>0</td><td>0</td><td>0</td><td>0</td><td>0</td><td>NOT_APPLICABLE</td><td>NULL</td><td>NULL</td><td>NULL</td><td>NULL</td><td>NULL</td><td>0</td><td>0</td><td>NULL</td><td>NULL</td><td>0</td><td>NULL</td><td>NULL</td><td>0</td></tr>",
            "<tr><td>dbo</td><td>Bestellung</td><td>1205579333</td><td>Bestelldatum</td><td>4</td><td>40</td><td>40</td><td>3</td><td>10</td><td>0</td><td>NULL</td><td>0</td><td>0</td><td>0</td><td>0</td><td>0</td><td>0</td><td>0</td><td>0</td><td>0</td><td>0</td><td>0</td><td>0</td><td>0</td><td>0</td><td>0</td><td>0</td><td>0</td><td>NOT_APPLICABLE</td><td>NULL</td><td>NULL</td><td>NULL</td><td>NULL</td><td>NULL</td><td>0</td><td>0</td><td>NULL</td><td>NULL</td><td>0</td><td>NULL</td><td>NULL</td><td>0</td></tr>",
            "<tr><td>dbo</td><td>Bestellung</td><td>1205579333</td><td>Versanddatum</td><td>5</td><td>40</td><td>40</td><td>3</td><td>10</td><td>0</td><td>NULL</td><td>1</td><td>0</td><td>0</td><td>0</td><td>0</td><td>0</td><td>0</td><td>0</td><td>0</td><td>0</td><td>0</td><td>0</td><td>0</td><td>0</td><td>0</td><td>0</td><td>0</td><td>NOT_APPLICABLE</td><td>NULL</td><td>NULL</td><td>NULL</td><td>NULL</td><td>NULL</td><td>0</td><td>0</td><td>NULL</td><td>NULL</td><td>0</td><td>NULL</td><td>NULL</td><td>0</td></tr>",
            "</table>"
        ]
    }
}
],
            "execution_count": 1
        }
    ]
}