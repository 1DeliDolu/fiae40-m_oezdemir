{
    "metadata": {
        "kernelspec": {
            "name": "SQL",
            "display_name": "SQL",
            "language": "sql"
        },
        "language_info": {
            "name": "sql",
            "version": ""
        }
    },
    "nbformat_minor": 2,
    "nbformat": 4,
    "cells": [
        {
            "cell_type": "markdown",
            "source": [
                "# DCL-Übung\n",
                "\n",
                "Unser Testuser J\\_Doe soll die Möglichkeit bekommen, über eine Prozedur die Namen einer Person zu ändern. Die Prozedur wird im Schema\\_B erstellt. Um den Namen zu ändern, müssen Vor- und Nachname der Person bekannt sein. Alte und neue Namen werden der Prozedur übergeben.\n",
                "\n",
                "- Schreibe die Prozedur. Nutze in der Prozedur die Output-Klausel um die Änderung anzuzeigen.\n",
                "    - Ausgabe: Alter Vorname, Alter Nachname, Neuer Vorname, Neuer Nachname\n",
                "- Erteile J\\_Doe das Recht zum Ausführen der Prozedur.\n",
                "- Ändere den Vor- und Nachnamen einer Person, indem Du die Prozedur als J\\_Doe ausführst.\n",
                "- Überprüfe, dass die Änderung erfolgt ist."
            ],
            "metadata": {
                "azdata_cell_guid": "1b19567d-714d-41db-8f2e-64ec27f12625"
            },
            "attachments": {}
        },
        {
            "cell_type": "code",
            "source": [
                "-- Prozedur\r\n",
                "CREATE OR ALTER PROCEDURE Schema_B.usp_UpdatePerson (\r\n",
                "    @VornameAlt VARCHAR(50),\r\n",
                "    @NachnameAlt VARCHAR(50),\r\n",
                "    @VornameNeu VARCHAR(50),\r\n",
                "    @NachnameNeu VARCHAR(50)\r\n",
                ")\r\n",
                "AS \r\n",
                "UPDATE Schema_A.Person \r\n",
                "SET Vorname = @VornameNeu, Nachname = @NachnameNeu\r\n",
                "OUTPUT deleted.Vorname AS [Alter Vorname], deleted.Nachname AS [Alter Nachname],\r\n",
                "    inserted.Vorname AS [Neuer Vorname], inserted.Nachname AS [Neuer Nachname]\r\n",
                "WHERE Vorname = @VornameAlt AND Nachname = @NachnameAlt;"
            ],
            "metadata": {
                "language": "sql",
                "azdata_cell_guid": "047e9777-8d54-4531-95c8-a7470610e721"
            },
            "outputs": [],
            "execution_count": null
        },
        {
            "cell_type": "code",
            "source": [
                "-- Berechtigung zur Ausführung für J_Doe\r\n",
                "GRANT EXECUTE ON Schema_B.usp_UpdatePerson TO J_Doe;"
            ],
            "metadata": {
                "language": "sql",
                "azdata_cell_guid": "68ca2c8a-ddda-4b78-bfab-ebe7a900b4a0"
            },
            "outputs": [],
            "execution_count": null
        },
        {
            "cell_type": "code",
            "source": [
                "-- Wer ist denn so in der Personenliste?\r\n",
                "SELECT Vorname, Nachname FROM Schema_A.Person;"
            ],
            "metadata": {
                "language": "sql",
                "azdata_cell_guid": "645750ef-86e5-4748-a140-36c7aa626a47"
            },
            "outputs": [],
            "execution_count": null
        },
        {
            "cell_type": "code",
            "source": [
                "-- Test der Prozedur\r\n",
                "EXECUTE AS USER='J_Doe';\r\n",
                "EXECUTE Schema_B.usp_UpdatePerson 'Konrad','Zuse','Konrad', 'Zussel';\r\n",
                "REVERT;"
            ],
            "metadata": {
                "language": "sql",
                "azdata_cell_guid": "ac14bf7e-2931-4d4b-a4c0-de5a419a3d52"
            },
            "outputs": [],
            "execution_count": null
        }
    ]
}