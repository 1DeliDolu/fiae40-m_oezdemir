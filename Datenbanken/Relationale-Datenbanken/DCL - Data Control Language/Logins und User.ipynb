{
    "metadata": {
        "kernelspec": {
            "name": "SQL",
            "display_name": "SQL",
            "language": "sql"
        },
        "language_info": {
            "name": "sql",
            "version": ""
        }
    },
    "nbformat_minor": 2,
    "nbformat": 4,
    "cells": [
        {
            "cell_type": "markdown",
            "source": [
                "# Logins, User und Berechtigungen\n",
                "\n",
                "- [CREATE LOGIN](https:\\learn.microsoft.com\\en-us\\sql\\t-sql\\statements\\create-login-transact-sql?view=sql-server-ver16) | [ALTER LOGIN](https:\\learn.microsoft.com\\en-us\\sql\\t-sql\\statements\\alter-login-transact-sql?view=sql-server-ver16) | [DROP LOGIN](https:\\learn.microsoft.com\\en-us\\sql\\t-sql\\statements\\drop-login-transact-sql?view=sql-server-ver16)\n",
                "- [CREATE USER](https:\\learn.microsoft.com\\en-us\\sql\\t-sql\\statements\\create-user-transact-sql?view=sql-server-ver16) | [ALTER USER](https:\\learn.microsoft.com\\en-us\\sql\\t-sql\\statements\\alter-user-transact-sql?view=sql-server-ver16) | [DROP USER](https:\\learn.microsoft.com\\en-us\\sql\\t-sql\\statements\\drop-user-transact-sql?view=sql-server-ver16) \n",
                "- [Get started with Database Engine permissions](https:\\learn.microsoft.com\\en-us\\sql\\relational-databases\\security\\authentication-access\\getting-started-with-database-engine-permissions?view=sql-server-ver16)\n",
                "- [Permissions](https:\\learn.microsoft.com\\en-us\\sql\\relational-databases\\security\\permissions-database-engine?view=sql-server-ver16)\n",
                "\n",
                "|  | <br> |\n",
                "| --- | --- |"
            ],
            "metadata": {
                "azdata_cell_guid": "88207f66-ddba-4745-8d71-cfc7b7ba3d96"
            },
            "attachments": {}
        },
        {
            "cell_type": "markdown",
            "source": [
                "# Tradionelles Login und User Modell\n",
                "\n",
                "Auf Serverebene wird ein Login erstellt. Dann wird auf Datenbankebene ein User zu dem Login erstellt.\n",
                "\n",
                "Der User braucht dann noch Berechtigungen, um mit der Datenbank arbeiten zu können."
            ],
            "metadata": {
                "azdata_cell_guid": "6d264a0a-1ecf-4f16-974e-4ab99441397e"
            },
            "attachments": {}
        },
        {
            "cell_type": "code",
            "source": [
                "USE master;\r\n",
                "CREATE LOGIN BL_Johnson WITH PASSWORD = 'D4NK3V13LM4LS';\r\n",
                "\r\n",
                "USE DCL_Demo;\r\n",
                "CREATE USER BL_Johnson FOR LOGIN BL_Johnson;\r\n",
                "\r\n",
                "/*\r\n",
                "    Hiernach kann sich BL_Johnson mit SQL-Authentifizierung am Server anmelden,\r\n",
                "    sieht die Datenbank DCL_Demo, aber keine Datenbankobjekte.\r\n",
                "    Testen Sie das im SQL Server Management Studio.\r\n",
                "    Zum Zugriff auf Objekte müssen noch Berechtigungen erteilt werden.\r\n",
                "*/"
            ],
            "metadata": {
                "azdata_cell_guid": "14122c63-6177-4990-ba66-e0fa10f52b89",
                "language": "sql"
            },
            "outputs": [],
            "execution_count": null
        },
        {
            "cell_type": "code",
            "source": [
                "-- Hiernach sieht BL_Johnson die Views im Schema_B\r\n",
                "GRANT SELECT ON SCHEMA::Schema_B TO BL_Johnson;"
            ],
            "metadata": {
                "language": "sql",
                "azdata_cell_guid": "da47095e-04c4-420b-85fc-c098c1e7cdd4"
            },
            "outputs": [],
            "execution_count": null
        },
        {
            "cell_type": "code",
            "source": [
                "-- Aufräumen Schritt 1: User entfernen\r\n",
                "USE DCL_Demo;\r\n",
                "DROP USER BL_Johnson;"
            ],
            "metadata": {
                "language": "sql",
                "azdata_cell_guid": "6b69adf6-ff4a-4a69-8d15-c3f3a75eb4ae",
                "tags": []
            },
            "outputs": [],
            "execution_count": null
        },
        {
            "cell_type": "code",
            "source": [
                "-- Aufräumen Schritt 2: Login entfernen\r\n",
                "-- Schließen Sie SSMS, falls das Login sich nicht löschen lässt.\r\n",
                "USE master;\r\n",
                "DROP LOGIN BL_Johnson;"
            ],
            "metadata": {
                "language": "sql",
                "azdata_cell_guid": "bd79dbe7-f835-4e90-a275-34572634c99f"
            },
            "outputs": [],
            "execution_count": null
        },
        {
            "cell_type": "markdown",
            "source": [
                "# Contained Database User Modell\n",
                "\n",
                "[Contained Database Users - Making Your Database Portable](https:\\learn.microsoft.com\\en-us\\sql\\relational-databases\\security\\contained-database-users-making-your-database-portable?view=sql-server-ver16)\n",
                "\n",
                "Hier wird kein Login auf Server-Ebene erstellt, sondern die Authentifizierung erfolgt auf Datenbankebene. Zur verbindung mit dem Server muss der Datenbankname als Parameter mitgegeben werden. Microsoft empfiehlt dieses Modell als Grundlage für Service Levels mit höchster Verfügbarkeit.\n",
                "\n",
                "Folgendes Codebeispiel lässt sich hier nicht ausführen, da Contained Databases auf unserem Server nicht aktiviert sind."
            ],
            "metadata": {
                "language": "sql",
                "azdata_cell_guid": "63388e0a-d6ab-436f-8c13-72315521ad76"
            },
            "attachments": {}
        },
        {
            "cell_type": "code",
            "source": [
                "CREATE USER P_Pascal WITH PASSWORD = 'D4S1STD3RW3G';"
            ],
            "metadata": {
                "language": "sql",
                "azdata_cell_guid": "da32eb44-b578-4cd3-b552-28fb27bf7ea5"
            },
            "outputs": [],
            "execution_count": null
        }
    ]
}