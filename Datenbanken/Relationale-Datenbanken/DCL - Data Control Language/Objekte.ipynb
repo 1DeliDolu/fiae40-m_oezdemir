{
    "metadata": {
        "kernelspec": {
            "name": "SQL",
            "display_name": "SQL",
            "language": "sql"
        },
        "language_info": {
            "name": "sql",
            "version": ""
        }
    },
    "nbformat_minor": 2,
    "nbformat": 4,
    "cells": [
        {
            "cell_type": "markdown",
            "source": [
                "# Objekte und Daten für DCL-Demo\n",
                "\n",
                "## Schema\\_A enthält Tabellen\n",
                "\n",
                "- Kategorie\n",
                "- Person\n",
                "\n",
                "## Schema\\_B enthält 3 Views, eine Prozedur und eine Funktion\n",
                "\n",
                "- **Views**: vw\\_IT, vw\\_Kino, vw\\_Sport\n",
                "- **Prozedur**: usp\\_FindePerson\n",
                "- **Funktion**: udf\\_CountPeople"
            ],
            "metadata": {
                "azdata_cell_guid": "4cbd56dc-ac4b-4f89-b76e-15e344816b40"
            },
            "attachments": {}
        },
        {
            "cell_type": "code",
            "source": [
                "-- DATABASE\r\n",
                "USE Master;\r\n",
                "\r\n",
                "DROP DATABASE IF EXISTS DCL_Demo;\r\n",
                "GO"
            ],
            "metadata": {
                "language": "sql",
                "azdata_cell_guid": "172a8529-817b-4327-aab1-f8ea4151f769"
            },
            "outputs": [],
            "execution_count": null
        },
        {
            "cell_type": "code",
            "source": [
                "CREATE DATABASE DCL_Demo;\r\n",
                "GO \r\n",
                "\r\n",
                "USE DCL_Demo;\r\n",
                "GO"
            ],
            "metadata": {
                "language": "sql",
                "azdata_cell_guid": "2719785e-efb0-4026-bafe-310540eee301"
            },
            "outputs": [],
            "execution_count": null
        },
        {
            "cell_type": "code",
            "source": [
                "-- SCHEMA\r\n",
                "CREATE SCHEMA Schema_A;\r\n",
                "GO\r\n",
                "CREATE SCHEMA Schema_B;\r\n",
                "GO "
            ],
            "metadata": {
                "language": "sql",
                "azdata_cell_guid": "ef602876-a2ae-4e98-8cfd-bdad0e1b490c"
            },
            "outputs": [],
            "execution_count": null
        },
        {
            "cell_type": "code",
            "source": [
                "-- TABLE\r\n",
                "CREATE TABLE Schema_A.Kategorie (\r\n",
                "    ID INT IDENTITY(1,1) NOT NULL,\r\n",
                "    Kategorie VARCHAR(50) NOT NULL,\r\n",
                "    CONSTRAINT pk_Kategorie PRIMARY KEY(ID)\r\n",
                ");\r\n",
                "\r\n",
                "CREATE TABLE Schema_A.Person (\r\n",
                "    ID INT IDENTITY(1,1) NOT NULL,\r\n",
                "    Vorname VARCHAR(50) NOT NULL,\r\n",
                "    Nachname VARCHAR(50) NOT NULL,\r\n",
                "    KategorieID INT NOT NULL,\r\n",
                "    CONSTRAINT pk_Person PRIMARY KEY(ID),\r\n",
                "    CONSTRAINT fk_Person_Kategorie FOREIGN KEY(KategorieID) REFERENCES Schema_A.Kategorie(ID)\r\n",
                ");\r\n",
                "GO "
            ],
            "metadata": {
                "azdata_cell_guid": "96245a83-f08f-4d9f-a16c-52770337ffbb",
                "language": "sql"
            },
            "outputs": [],
            "execution_count": null
        },
        {
            "cell_type": "code",
            "source": [
                "-- VIEW\r\n",
                "CREATE OR ALTER VIEW Schema_B.vw_Sport\r\n",
                "AS\r\n",
                "SELECT p.ID, p.Vorname, p.Nachname, k.Kategorie\r\n",
                "FROM Schema_A.Kategorie AS k\r\n",
                "JOIN Schema_A.Person AS p ON k.ID = p.KategorieID\r\n",
                "WHERE k.Kategorie = 'Sport';\r\n",
                "GO\r\n",
                "\r\n",
                "CREATE OR ALTER VIEW Schema_B.vw_Kino\r\n",
                "AS\r\n",
                "SELECT p.ID, p.Vorname, p.Nachname, k.Kategorie\r\n",
                "FROM Schema_A.Kategorie AS k\r\n",
                "JOIN Schema_A.Person AS p ON k.ID = p.KategorieID\r\n",
                "WHERE k.Kategorie = 'Kino';\r\n",
                "GO\r\n",
                "\r\n",
                "CREATE OR ALTER VIEW Schema_B.vw_IT\r\n",
                "AS\r\n",
                "SELECT p.ID, p.Vorname, p.Nachname, k.Kategorie\r\n",
                "FROM Schema_A.Kategorie AS k\r\n",
                "JOIN Schema_A.Person AS p ON k.ID = p.KategorieID\r\n",
                "WHERE k.Kategorie = 'IT';\r\n",
                "GO"
            ],
            "metadata": {
                "azdata_cell_guid": "30cd4733-53b9-4e6a-9349-598576413e50",
                "language": "sql"
            },
            "outputs": [],
            "execution_count": null
        },
        {
            "cell_type": "code",
            "source": [
                "-- User Stored PROCEDURE\r\n",
                "CREATE OR ALTER PROCEDURE Schema_B.usp_FindePerson (\r\n",
                "    @search VARCHAR(50) \r\n",
                ")\r\n",
                "AS\r\n",
                "SELECT p.ID, p.Vorname, p.Nachname, k.Kategorie\r\n",
                "FROM Schema_A.Kategorie AS k \r\n",
                "JOIN Schema_A.Person AS p ON k.ID = p.KategorieID\r\n",
                "WHERE p.Vorname LIKE '%' + @search + '%' OR p.Nachname LIKE '%' + @search + '%'; "
            ],
            "metadata": {
                "language": "sql",
                "azdata_cell_guid": "3f13fc79-a2d0-402a-9c77-903c1c32aff0"
            },
            "outputs": [],
            "execution_count": null
        },
        {
            "cell_type": "code",
            "source": [
                "CREATE OR ALTER FUNCTION Schema_B.udf_CountPeople (\r\n",
                "    @Kategorie VARCHAR(50)\r\n",
                ")\r\n",
                "RETURNS INT\r\n",
                "AS\r\n",
                "BEGIN\r\n",
                "DECLARE @Cnt INT;\r\n",
                "SELECT @Cnt = COUNT(p.ID)\r\n",
                "FROM Schema_A.Kategorie AS k\r\n",
                "JOIN Schema_A.Person AS p ON k.ID = p.KategorieID\r\n",
                "WHERE k.Kategorie = @Kategorie;\r\n",
                "RETURN @Cnt;\r\n",
                "END;"
            ],
            "metadata": {
                "language": "sql",
                "azdata_cell_guid": "e885978c-925b-449a-977d-dd5813c8cd4a"
            },
            "outputs": [],
            "execution_count": null
        },
        {
            "cell_type": "code",
            "source": [
                "-- Data\r\n",
                "INSERT INTO Schema_A.Kategorie (Kategorie)\r\n",
                "VALUES ('IT'),\r\n",
                "    ('Kino'),\r\n",
                "    ('Sport');\r\n",
                "\r\n",
                "INSERT INTO Schema_A.Person (Vorname, Nachname, KategorieID)\r\n",
                "VALUES ('Konrad', 'Zuse', 1),    \r\n",
                "    ('Scarlett', 'Johansson', 2),    \r\n",
                "    ('Charles', 'Babbage', 1),    \r\n",
                "    ('Bill', 'Gates', 1),    \r\n",
                "    ('Alan', 'Turing', 1),    \r\n",
                "    ('Venus', 'Williams', 3),    \r\n",
                "    ('Steve', 'Jobs', 1),    \r\n",
                "    ('Gordon', 'Moore', 1),    \r\n",
                "    ('Ada', 'Lovelace', 1),    \r\n",
                "    ('Katherine', 'Johnson', 1),    \r\n",
                "    ('Annie', 'Easley', 1),    \r\n",
                "    ('Lindsey', 'Vonn', 3),    \r\n",
                "    ('Edson Pélé', 'Arantes do Nasciment0', 3),    \r\n",
                "    ('Serena', 'Williams', 3),    \r\n",
                "    ('Dirk', 'Nowitzki', 3),    \r\n",
                "    ('Muhammed', 'Ali', 3),    \r\n",
                "    ('Michael', 'Jordan', 3),    \r\n",
                "    ('Gwyneth', 'Paltrow', 2),    \r\n",
                "    ('Michael', 'Schumacher', 3),    \r\n",
                "    ('Harrison', 'Ford', 2),    \r\n",
                "    ('Zoe', 'Saldana', 2),    \r\n",
                "    ('Eva', 'Green', 2),    \r\n",
                "    ('Mel', 'Gibson', 2),    \r\n",
                "    ('Angelique', 'Kerber', 3),    \r\n",
                "    ('Bruce', 'Willis', 2),    \r\n",
                "    ('Kate', 'Blanchett', 2),    \r\n",
                "    ('Michael', 'Phelps', 3),    \r\n",
                "    ('Al', 'Pacino', 2),    \r\n",
                "    ('Robert', 'De Niro', 2),    \r\n",
                "    ('Tim', 'Berners-Lee', 1),    \r\n",
                "    ('Daniel', 'Craig', 2),    \r\n",
                "    ('Morgan', 'Freeman', 2);\r\n",
                "\r\n",
                "/*\r\n",
                "    https://www.sutori.com/en/story/famous-people-in-computer-history--TcHp7hWrDd1ZfLW2zQfxCs5h\r\n",
                "    https://www.intalio.com/10-women-who-changed-the-technology-world/\r\n",
                "    https://www.sportbuzzer.de/galerie/die-50-grossten-sportler-der-geschichte/\r\n",
                "    https://www.sport.de/diashow/sl2624/die-groessten-sportler-aller-zeiten/\r\n",
                "    https://www.the-numbers.com/box-office-star-records/worldwide/lifetime-acting/top-grossing-leading-stars\r\n",
                "    https://www.the-numbers.com/box-office-star-records/worldwide/lifetime-acting/top-grossing-stars\r\n",
                "*/"
            ],
            "metadata": {
                "azdata_cell_guid": "d6f77fd7-8bfa-4bb6-97a9-8494b478a305",
                "language": "sql"
            },
            "outputs": [],
            "execution_count": null
        },
        {
            "cell_type": "code",
            "source": [
                "SELECT * FROM Schema_B.vw_IT;\r\n",
                "SELECT * FROM Schema_B.vw_Sport;\r\n",
                "SELECT * FROM Schema_B.vw_Kino;"
            ],
            "metadata": {
                "azdata_cell_guid": "5ae5a4ef-edb4-45c7-a4ae-8a66b66fa4ab",
                "language": "sql"
            },
            "outputs": [],
            "execution_count": null
        },
        {
            "cell_type": "code",
            "source": [
                "EXECUTE Schema_B.usp_FindePerson 'Micha';"
            ],
            "metadata": {
                "language": "sql",
                "azdata_cell_guid": "792463a5-c589-47e0-b9f1-0cb669014bad"
            },
            "outputs": [],
            "execution_count": null
        },
        {
            "cell_type": "code",
            "source": [
                "SELECT Schema_B.udf_CountPeople('IT') AS [Anzahl Personen in IT];"
            ],
            "metadata": {
                "language": "sql",
                "azdata_cell_guid": "a522d40d-b623-40c7-9f83-132fb5ef3d28"
            },
            "outputs": [],
            "execution_count": null
        }
    ]
}