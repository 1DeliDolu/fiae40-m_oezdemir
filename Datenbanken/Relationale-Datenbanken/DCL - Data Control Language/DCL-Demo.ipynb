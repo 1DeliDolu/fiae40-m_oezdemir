{
    "metadata": {
        "kernelspec": {
            "name": "SQL",
            "display_name": "SQL",
            "language": "sql"
        },
        "language_info": {
            "name": "sql",
            "version": ""
        }
    },
    "nbformat_minor": 2,
    "nbformat": 4,
    "cells": [
        {
            "cell_type": "markdown",
            "source": [
                "# DCL-Demo\n",
                "\n",
                "Typische Rechte für die Arbeit mit Daten:\n",
                "\n",
                "| Aktion | Benötigte Berechtigung |\n",
                "| --- | --- |\n",
                "| Tabelle zeigen | SELECT |\n",
                "| Werte ändern | UPDATE |\n",
                "| Werte löschen | DELETE |\n",
                "| View anzeigen | SELECT |\n",
                "| Procedure ausführen | EXECUTE |\n",
                "| Function ausführen | EXECUTE |"
            ],
            "metadata": {
                "azdata_cell_guid": "88207f66-ddba-4745-8d71-cfc7b7ba3d96"
            },
            "attachments": {}
        },
        {
            "cell_type": "markdown",
            "source": [
                "## Testuser J\\_Doe\n",
                "\n",
                "Wir erstellen zum Ausprobieren der Berechtigungen den Testuser J\\_Doe ohne Login.\n",
                "\n",
                "J\\_Doe bekommt initial SELECT Recht in Schema\\_B.\n",
                "\n",
                "Dadurch kann er mittels der Views in Schema\\_B Daten aus den Tabellen in Schema\\_A anzeigen.\n",
                "\n",
                "Die SELECT-Berechtigung auf das Schema\\_B erlaubt die Nutzung aller im Schema\\_B enthaltenen Views.\n",
                "\n",
                "Mit DENY kann dennoch der Zugriff auf einzelne Views im Schema\\_B verweigert werden.\n",
                "\n",
                "Mit REVOKE können die erteilten Rechte"
            ],
            "metadata": {
                "azdata_cell_guid": "2164531e-2b15-41da-a645-0537c921c20b"
            },
            "attachments": {}
        },
        {
            "cell_type": "code",
            "source": [
                "USE DCL_Demo;\r\n",
                "CREATE USER J_Doe WITHOUT LOGIN;\r\n",
                "GRANT SELECT ON SCHEMA::Schema_B TO J_Doe;"
            ],
            "metadata": {
                "azdata_cell_guid": "d9dcbdf1-2baa-4fd7-ad2b-3743c30bee90",
                "language": "sql"
            },
            "outputs": [],
            "execution_count": null
        },
        {
            "cell_type": "code",
            "source": [
                "-- Keine Berechtigung zum Zugriff auf Tabellen in Schema_A\r\n",
                "EXECUTE AS USER = 'J_Doe';\r\n",
                "SELECT p.ID, p.Vorname, p.Nachname, k.Kategorie\r\n",
                "FROM Schema_A.Kategorie AS k\r\n",
                "JOIN Schema_A.Person AS p ON k.ID = p.KategorieID\r\n",
                "REVERT;"
            ],
            "metadata": {
                "language": "sql",
                "azdata_cell_guid": "7ae7318c-067e-4e70-9f47-1210cc76b8c5"
            },
            "outputs": [],
            "execution_count": null
        },
        {
            "cell_type": "code",
            "source": [
                "-- Darf ein VIEW in Schema_B anzeigen\r\n",
                "EXECUTE AS USER = 'J_Doe';\r\n",
                "SELECT * FROM Schema_B.vw_Sport;\r\n",
                "REVERT;"
            ],
            "metadata": {
                "language": "sql",
                "azdata_cell_guid": "788b5a2d-3adb-43d4-9d2a-01ffb3f71fce"
            },
            "outputs": [],
            "execution_count": null
        },
        {
            "cell_type": "code",
            "source": [
                "-- Darf Prozedur nicht ausführen\r\n",
                "EXECUTE AS USER = 'J_Doe';\r\n",
                "EXEC Schema_B.usp_FindePerson 'Micha';\r\n",
                "REVERT;"
            ],
            "metadata": {
                "language": "sql",
                "azdata_cell_guid": "8ec64426-93ed-4fc6-aab4-b7869dbb6ea1"
            },
            "outputs": [],
            "execution_count": null
        },
        {
            "cell_type": "code",
            "source": [
                "-- Darf Funktion nicht ausführen\r\n",
                "EXECUTE AS USER = 'J_Doe';\r\n",
                "SELECT Schema_B.udf_CountPeople('Sport') AS [Anzahl Personen in Sport];\r\n",
                "REVERT;"
            ],
            "metadata": {
                "language": "sql",
                "azdata_cell_guid": "d3abdc09-ce9e-45ec-b7c9-dd208bf2799a"
            },
            "outputs": [],
            "execution_count": null
        },
        {
            "cell_type": "code",
            "source": [
                "-- Verweigere Anzeige des Views Kino\r\n",
                "DENY SELECT ON Schema_B.vw_Kino TO J_Doe;"
            ],
            "metadata": {
                "language": "sql",
                "azdata_cell_guid": "7ef3e6f0-c849-49a2-9636-c500a9b52355"
            },
            "outputs": [],
            "execution_count": null
        },
        {
            "cell_type": "code",
            "source": [
                "EXECUTE AS USER = 'J_Doe';\r\n",
                "SELECT * FROM Schema_B.vw_IT; -- ok\r\n",
                "SELECT * FROM Schema_B.vw_Kino; -- nicht erlaubt\r\n",
                "REVERT;"
            ],
            "metadata": {
                "language": "sql",
                "azdata_cell_guid": "dc36322c-4563-4af8-ac50-27af605a3f91"
            },
            "outputs": [],
            "execution_count": null
        },
        {
            "cell_type": "code",
            "source": [
                "-- SELECT Recht in Schema_B wird entzogen\r\n",
                "REVOKE SELECT ON SCHEMA::Schema_B FROM J_Doe;"
            ],
            "metadata": {
                "language": "sql",
                "azdata_cell_guid": "7c55e9f7-74e9-43cc-9d79-6cf02439830c"
            },
            "outputs": [],
            "execution_count": null
        },
        {
            "cell_type": "code",
            "source": [
                "EXECUTE AS USER = 'J_Doe';\r\n",
                "SELECT * FROM Schema_B.vw_IT; -- verweigert\r\n",
                "REVERT;"
            ],
            "metadata": {
                "language": "sql",
                "azdata_cell_guid": "12063854-c3ce-4d5a-bf5c-e1afe1714e3e"
            },
            "outputs": [],
            "execution_count": null
        },
        {
            "cell_type": "code",
            "source": [
                "-- EXECUTE Recht wird erteilt\r\n",
                "GRANT EXECUTE ON SCHEMA::Schema_B TO J_Doe;"
            ],
            "metadata": {
                "language": "sql",
                "azdata_cell_guid": "e33308e6-92bf-48ed-8ecf-ca1d0f8f8e26"
            },
            "outputs": [],
            "execution_count": null
        },
        {
            "cell_type": "code",
            "source": [
                "EXECUTE AS USER = 'J_Doe';\r\n",
                "SELECT * FROM Schema_B.vw_Sport; -- verweigert\r\n",
                "REVERT;"
            ],
            "metadata": {
                "language": "sql",
                "azdata_cell_guid": "40407551-42f0-4190-ac66-6c0b50fa8369"
            },
            "outputs": [],
            "execution_count": null
        },
        {
            "cell_type": "code",
            "source": [
                "-- Ausführen der Funktion ist nun erlaubt\r\n",
                "EXECUTE AS USER = 'J_Doe';\r\n",
                "SELECT Schema_B.udf_CountPeople('Sport') AS [Anzahl Personen in Sport];\r\n",
                "REVERT;"
            ],
            "metadata": {
                "language": "sql",
                "azdata_cell_guid": "23fabf62-58c1-4966-9417-41e784276344"
            },
            "outputs": [],
            "execution_count": null
        },
        {
            "cell_type": "code",
            "source": [
                "-- Ausführen der Prozedur ist nun erlaubt\r\n",
                "EXECUTE AS USER = 'J_Doe';\r\n",
                "EXEC Schema_B.usp_FindePerson 'Al';\r\n",
                "REVERT;"
            ],
            "metadata": {
                "language": "sql",
                "azdata_cell_guid": "46514764-56e7-49a4-925a-37c091399ff4"
            },
            "outputs": [],
            "execution_count": null
        },
        {
            "cell_type": "code",
            "source": [
                "-- Entziehe auch das EXECUTE Recht wieder\r\n",
                "REVOKE EXECUTE ON Schema_B.vw_Sport FROM J_Doe;"
            ],
            "metadata": {
                "language": "sql",
                "azdata_cell_guid": "4b7a3432-553d-481c-8533-50661d8f0e22"
            },
            "outputs": [],
            "execution_count": null
        }
    ]
}