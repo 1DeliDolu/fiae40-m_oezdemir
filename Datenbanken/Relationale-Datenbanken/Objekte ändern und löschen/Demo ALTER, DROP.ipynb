{
    "metadata": {
        "kernelspec": {
            "name": "SQL",
            "display_name": "SQL",
            "language": "sql"
        },
        "language_info": {
            "name": "sql",
            "version": ""
        }
    },
    "nbformat_minor": 2,
    "nbformat": 4,
    "cells": [
        {
            "cell_type": "markdown",
            "source": [
                "# Demo Objekte ändern und löschen"
            ],
            "metadata": {
                "azdata_cell_guid": "f959e23b-3d71-4af1-a5a7-c8bf905ccec6"
            },
            "attachments": {}
        },
        {
            "cell_type": "code",
            "source": [
                "-- Neue Datenbank\r\n",
                "CREATE DATABASE ObjektDemo;"
            ],
            "metadata": {
                "azdata_cell_guid": "8979723a-5f6a-45d6-b24e-8f60e92c7f30",
                "language": "sql"
            },
            "outputs": [
                {
                    "output_type": "display_data",
                    "data": {
                        "text/html": "Commands completed successfully."
                    },
                    "metadata": {}
                },
                {
                    "output_type": "display_data",
                    "data": {
                        "text/html": "Total execution time: 00:00:00.371"
                    },
                    "metadata": {}
                }
            ],
            "execution_count": 1
        },
        {
            "cell_type": "code",
            "source": [
                "USE master;\r\n",
                "GO\r\n",
                "\r\n",
                "DROP DATABASE ObjektDemo;\r\n",
                "-- DROP DATABASE IF EXISTS ObjektDemo;"
            ],
            "metadata": {
                "language": "sql",
                "azdata_cell_guid": "f2858b78-6a40-4db7-9239-81067164bf1a"
            },
            "outputs": [
                {
                    "output_type": "display_data",
                    "data": {
                        "text/html": "Commands completed successfully."
                    },
                    "metadata": {}
                },
                {
                    "output_type": "display_data",
                    "data": {
                        "text/html": "Commands completed successfully."
                    },
                    "metadata": {}
                },
                {
                    "output_type": "display_data",
                    "data": {
                        "text/html": "Total execution time: 00:00:00.065"
                    },
                    "metadata": {}
                }
            ],
            "execution_count": 2
        },
        {
            "cell_type": "code",
            "source": [
                "-- ObjektDemo ist vorhanden!\r\n",
                "USE ObjektDemo;"
            ],
            "metadata": {
                "language": "sql",
                "azdata_cell_guid": "93bd13ac-8956-4c71-9d00-e3ce129bb3a7"
            },
            "outputs": [
                {
                    "output_type": "error",
                    "evalue": "Msg 911, Level 16, State 1, Line 2\r\nDie ObjektDemo-Datenbank ist nicht vorhanden. Stellen Sie sicher, dass der Name richtig eingegeben wurde.",
                    "ename": "",
                    "traceback": []
                },
                {
                    "output_type": "display_data",
                    "data": {
                        "text/html": "Total execution time: 00:00:00.006"
                    },
                    "metadata": {}
                }
            ],
            "execution_count": 3
        },
        {
            "cell_type": "code",
            "source": [
                "-- Neue Tabelle\r\n",
                "CREATE TABLE Inventar (\r\n",
                "    InventarNr INT IDENTITY(1,1),\r\n",
                "    Objekt VARCHAR(60) NOT NULL,\r\n",
                "    CONSTRAINT pk_Inventar PRIMARY KEY(InventarNr)\r\n",
                ");"
            ],
            "metadata": {
                "language": "sql",
                "azdata_cell_guid": "7abc9c65-2bd0-465b-8cd3-4f2fcc77c669"
            },
            "outputs": [
                {
                    "output_type": "display_data",
                    "data": {
                        "text/html": "Commands completed successfully."
                    },
                    "metadata": {}
                },
                {
                    "output_type": "display_data",
                    "data": {
                        "text/html": "Total execution time: 00:00:00.006"
                    },
                    "metadata": {}
                }
            ],
            "execution_count": 4
        },
        {
            "cell_type": "code",
            "source": [
                "-- Tabelle umbenennen\r\n",
                "EXEC sp_rename 'dbo.Inventar', 'BüroInventar';"
            ],
            "metadata": {
                "language": "sql",
                "azdata_cell_guid": "3012c6ed-5977-4b86-bacf-dd1dff7198de"
            },
            "outputs": [
{
    "output_type": "display_data",
    "data": {
        "text/html": "Vorsicht: Wenn Sie Teile eines Objektnamens ändern, werden Skripts und gespeicherte Prozeduren möglicherweise funktionsunfähig."
    },
    "metadata": {}
}, {
    "output_type": "display_data",
    "data": {
        "text/html": "Total execution time: 00:00:00.434"
    },
    "metadata": {}
}
],
            "execution_count": 5
        },
        {
            "cell_type": "code",
            "source": [
                "-- Spalten hinzufügen\r\n",
                "ALTER TABLE BüroInventar\r\n",
                "ADD Preis DECIMAL(9,2) NULL,\r\n",
                "    Jahr INT NULL;"
            ],
            "metadata": {
                "language": "sql",
                "azdata_cell_guid": "ff3bfc23-e0db-4290-9e45-81d68d5654c9"
            },
            "outputs": [],
            "execution_count": null
        },
        {
            "cell_type": "code",
            "source": [
                "-- Spalte umbenennen\r\n",
                "EXEC sp_rename 'dbo.BüroInventar.Preis', 'Anschaffungspreis', 'COLUMN';"
            ],
            "metadata": {
                "language": "sql",
                "azdata_cell_guid": "a36164ef-4023-4e3c-b713-17f3d77ee06a"
            },
            "outputs": [],
            "execution_count": null
        },
        {
            "cell_type": "code",
            "source": [
                "-- Datentyp ändern\r\n",
                "ALTER TABLE BüroInventar \r\n",
                "ALTER COLUMN Anschaffungspreis INT;"
            ],
            "metadata": {
                "language": "sql",
                "azdata_cell_guid": "cb5f0337-7192-4999-9d01-6874564abb5c"
            },
            "outputs": [],
            "execution_count": null
        },
        {
            "cell_type": "code",
            "source": [
                "-- Spalte löschen\r\n",
                "ALTER TABLE BüroInventar\r\n",
                "DROP COLUMN Jahr;"
            ],
            "metadata": {
                "language": "sql",
                "azdata_cell_guid": "ad470ff3-0719-414d-b8c0-66270f9a0529"
            },
            "outputs": [],
            "execution_count": null
        },
        {
            "cell_type": "code",
            "source": [
                "ALTER TABLE BüroInventar\r\n",
                "ADD CONSTRAINT chk_Büroinventar_Preis CHECK (Anschaffungspreis BETWEEN 10 AND 1000); "
            ],
            "metadata": {
                "language": "sql",
                "azdata_cell_guid": "cbfe15de-23e5-4f7a-8724-f6bb540da6c9"
            },
            "outputs": [],
            "execution_count": null
        },
        {
            "cell_type": "code",
            "source": [
                "INSERT INTO BüroInventar (Objekt, Anschaffungspreis)\r\n",
                "VALUES ('Blumentopf', 5); -- zu geringer Anschaffungspreis!"
            ],
            "metadata": {
                "language": "sql",
                "azdata_cell_guid": "a0bf65d5-36ba-45b0-8124-ad331190aa7c"
            },
            "outputs": [],
            "execution_count": null
        },
        {
            "cell_type": "code",
            "source": [
                "-- Check Constraint aussetzen\r\n",
                "ALTER TABLE BüroInventar\r\n",
                "NOCHECK CONSTRAINT chk_Büroinventar_Preis;"
            ],
            "metadata": {
                "language": "sql",
                "azdata_cell_guid": "bb04b432-28ac-4695-b68a-b0bb403522e6"
            },
            "outputs": [],
            "execution_count": null
        },
        {
            "cell_type": "code",
            "source": [
                "INSERT INTO BüroInventar (Objekt, Anschaffungspreis)\r\n",
                "VALUES ('Blumentopf', 5); -- das geht jetzt!"
            ],
            "metadata": {
                "language": "sql",
                "azdata_cell_guid": "2df138f8-3929-4ec8-af4f-ecdd94e04b4f"
            },
            "outputs": [],
            "execution_count": null
        },
        {
            "cell_type": "code",
            "source": [
                "-- Check Constraint wieder anschalten\r\n",
                "-- Kein Fehler, obwohl ein Anschaffungspreis gegen die Regel verstößt\r\n",
                "ALTER TABLE BüroInventar\r\n",
                "CHECK CONSTRAINT chk_Büroinventar_Preis;"
            ],
            "metadata": {
                "language": "sql",
                "azdata_cell_guid": "c462f1ba-2e9e-4e2f-bba3-aeb3b617b695"
            },
            "outputs": [],
            "execution_count": null
        },
        {
            "cell_type": "code",
            "source": [
                "-- Constraint löschen\r\n",
                "ALTER TABLE BüroInventar\r\n",
                "DROP CONSTRAINT chk_Büroinventar_Preis;"
            ],
            "metadata": {
                "language": "sql",
                "azdata_cell_guid": "1d0e8447-4ecf-4c57-9af1-89c84cfc42ee"
            },
            "outputs": [],
            "execution_count": null
        },
        {
            "cell_type": "code",
            "source": [
                "-- Constraint wieder hinzufügen\r\n",
                "-- geht nicht, weil ein Datensatz gegen die Regel verstößt\r\n",
                "ALTER TABLE BüroInventar\r\n",
                "ADD CONSTRAINT chk_Büroinventar_Preis CHECK (Anschaffungspreis BETWEEN 10 AND 1000); "
            ],
            "metadata": {
                "language": "sql",
                "azdata_cell_guid": "8c3d403a-0a6c-4c74-81b3-52cfd3f57064"
            },
            "outputs": [],
            "execution_count": null
        },
        {
            "cell_type": "code",
            "source": [
                "-- Aufräumen\r\n",
                "USE master;\r\n",
                "\r\n",
                "DROP DATABASE IF EXISTS ObjektDemo;"
            ],
            "metadata": {
                "language": "sql",
                "azdata_cell_guid": "7c07cfff-c219-4e17-afb4-b9f8d41f5852"
            },
            "outputs": [],
            "execution_count": null
        }
    ]
}