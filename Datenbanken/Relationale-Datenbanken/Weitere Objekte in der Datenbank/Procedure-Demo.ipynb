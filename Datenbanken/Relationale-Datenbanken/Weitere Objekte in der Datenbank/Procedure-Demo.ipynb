{
    "metadata": {
        "kernelspec": {
            "name": "SQL",
            "display_name": "SQL",
            "language": "sql"
        },
        "language_info": {
            "name": "sql",
            "version": ""
        }
    },
    "nbformat_minor": 2,
    "nbformat": 4,
    "cells": [
        {
            "cell_type": "markdown",
            "source": [
                "# PROCEDURE Demo\n",
                "\n",
                "- Prozeduren erleichtern Datenpflege-Routinen. Der Prozeduraufruf erspart das Erstellen evtl. komplexer INSERT-, UPDATE- oder DELETE-Anweisungen.\n",
                "- Außerdem erhöht die Verwendung von Prozeduren die Sicherheit, wenn Benutzer und Anwendungen Berechtigungen zum Aufrufen von Prozeduren (CONTROL), aber nicht Berechtigungen zum Ändern von Tabelleninhalten (INSERT, UPDATE, DELETE) erhalten.\n",
                "- Prozeduren werden mit dem Befehl EXEC (kurz für execute) aufgerufen. Parameter werden durch Komma getrennt übergeben.\n",
                "- Wenn beim Aufruf ein Parameter fehlt oder einen unpassenden Datentyp hat, wird die Prozedur nicht ausgeführt.\n",
                "\n",
                "**Beispiel**: Um das Budget eines Projekts aufzustocken oder zu reduzieren, wird die Prozedur dbo.usp\\_BudgetAnpassen aufgerufen.\n",
                "\n",
                "**Voraussetzung:**  Die Tabelle Projekt benötigt die Spalten, die im Aufbau der Trigger-Demo hinzugefügt wurden."
            ],
            "metadata": {
                "azdata_cell_guid": "19a465c7-b99f-47bb-a223-b0c7b4d144cb"
            },
            "attachments": {}
        },
        {
            "cell_type": "code",
            "source": [
                "USE NormalisierungsDemo;"
            ],
            "metadata": {
                "language": "sql",
                "azdata_cell_guid": "fcfa139a-3153-4023-b060-39a0e8282276"
            },
            "outputs": [],
            "execution_count": null
        },
        {
            "cell_type": "code",
            "source": [
                "CREATE OR ALTER PROCEDURE dbo.usp_BudgetAnpassen (\r\n",
                "    @Projektbezeichnung VARCHAR(120),\r\n",
                "    @BudgetÄnderung DECIMAL(9,2)\r\n",
                ")\r\n",
                "AS \r\n",
                "BEGIN\r\n",
                "    SET NOCOUNT ON;\r\n",
                "    BEGIN TRY\r\n",
                "        DECLARE @ProjNr INT, @Budget DECIMAL(9,2), @Personalkostenstand DECIMAL(9,2);\r\n",
                "        -- Das Projekt muss anhand der Bezeichnung (Beschreibung) identifiziert werden.\r\n",
                "        SELECT @ProjNr = ProjNr, @Budget = Personalbudget, @Personalkostenstand = Personalkostenstand\r\n",
                "            FROM Projekt\r\n",
                "            WHERE Beschreibung = @Projektbezeichnung;\r\n",
                "        -- Projekt gefunden?    \r\n",
                "        IF @ProjNr IS NULL THROW 50000, 'Fehler: Projekt nicht gefunden', 1;\r\n",
                "        -- Zielbudget noch nicht überschritten?\r\n",
                "        IF (@BudgetÄnderung < 0 AND \r\n",
                "            @Budget + @BudgetÄnderung < @Personalkostenstand ) THROW 50000, 'Fehler: Kosten bereits über Budget!', 1;\r\n",
                "        -- Jetzt kann das Budget angepasst werden\r\n",
                "        UPDATE Projekt\r\n",
                "            SET Personalbudget += @BudgetÄnderung\r\n",
                "            OUTPUT @Projektbezeichnung AS Projekt \r\n",
                "                , deleted.Personalbudget AS [Altes Budget]\r\n",
                "                , inserted.Personalbudget AS [Neues Budget]\r\n",
                "                , deleted.Personalkostenstand AS [Bisherige Kosten]\r\n",
                "            WHERE ProjNr = @ProjNr;  \r\n",
                "         PRINT 'Das Projektbudget wurde erfolgreich angepasst.';      \r\n",
                "    END TRY\r\n",
                "    BEGIN CATCH\r\n",
                "        PRINT 'Die Budgetanpassung war NICHT möglich!';\r\n",
                "        THROW;\r\n",
                "    END CATCH\r\n",
                "    SET NOCOUNT OFF;\r\n",
                "END;"
            ],
            "metadata": {
                "azdata_cell_guid": "89344d08-04a5-4597-a4df-194b89623ce8",
                "language": "sql"
            },
            "outputs": [],
            "execution_count": null
        },
        {
            "cell_type": "markdown",
            "source": [
                "## Es folgen Testfälle für den Funktionsaufruf\n",
                "\n",
                "1. Ungültiger Aufruf mit fehlendem Parameter @BudgetÄnderung.\n",
                "2. Ungültiger Aufruf mit falschem Datentyp im Parameter @BudgetÄnderung.\n",
                "3. Fehler durch vertippte Projektbezeichnung.\n",
                "4. Fehler, weil Kosten bereits über neuem Zielbudget liegen.\n",
                "5. Erfolgreicher Prozeduraufruf zur Erhöhung des Budgets."
            ],
            "metadata": {
                "language": "sql",
                "azdata_cell_guid": "8eb44724-acea-4b91-9a98-1eecbb719e30"
            },
            "attachments": {}
        },
        {
            "cell_type": "code",
            "source": [
                "-- Die Prozedur oder Funktion \"usp_BudgetAnpassen\" erwartet den @BudgetÄnderung-Parameter, der nicht bereitgestellt wurde.\r\n",
                "EXEC dbo.usp_BudgetAnpassen 'Verkaufsmesse';"
            ],
            "metadata": {
                "language": "sql",
                "azdata_cell_guid": "1295a556-755b-46be-99ed-ac1606a2048b"
            },
            "outputs": [],
            "execution_count": null
        },
        {
            "cell_type": "code",
            "source": [
                "EXEC dbo.usp_BudgetAnpassen 'Verkaufsmesse', 'das Doppelte'; -- Fehler beim Konvertieren des varchar-Datentyps in decimal."
            ],
            "metadata": {
                "language": "sql",
                "azdata_cell_guid": "9047f91f-328c-40a6-8273-da2f07da9b43"
            },
            "outputs": [],
            "execution_count": null
        },
        {
            "cell_type": "code",
            "source": [
                "EXEC dbo.usp_BudgetAnpassen 'Verkaufsmessssse', 1000; -- Fehler: Projekt nicht gefunden"
            ],
            "metadata": {
                "language": "sql",
                "azdata_cell_guid": "70d7216c-573e-4116-a76f-7d3ffe4a154d"
            },
            "outputs": [],
            "execution_count": null
        },
        {
            "cell_type": "code",
            "source": [
                "EXEC dbo.usp_BudgetAnpassen 'Verkaufsmesse', -5000; -- Fehler: Kosten bereits über Budget!"
            ],
            "metadata": {
                "language": "sql",
                "azdata_cell_guid": "7c0c48de-3640-425e-898f-fdaf32fec877"
            },
            "outputs": [],
            "execution_count": null
        },
        {
            "cell_type": "code",
            "source": [
                "EXEC dbo.usp_BudgetAnpassen 'Verkaufsmesse', 1000; -- Budgeterhöhung ok"
            ],
            "metadata": {
                "language": "sql",
                "azdata_cell_guid": "e3328f52-7e63-44f2-8172-8a5cf3ce42c3"
            },
            "outputs": [],
            "execution_count": null
        }
    ]
}