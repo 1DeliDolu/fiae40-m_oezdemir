{
    "metadata": {
        "kernelspec": {
            "name": "SQL",
            "display_name": "SQL",
            "language": "sql"
        },
        "language_info": {
            "name": "sql",
            "version": ""
        }
    },
    "nbformat_minor": 2,
    "nbformat": 4,
    "cells": [
        {
            "cell_type": "markdown",
            "source": [
                "# TRIGGER Demo\n",
                "\n",
                "[Referenz: Trigger](https:\\learn.microsoft.com\\en-us\\sql\\t-sql\\statements\\create-trigger-transact-sql?view=sql-server-ver16)  \n",
                "\n",
                "**Idee**: Beim Eintragen eines Datensatzes in die **Arbeitet\\_An Tabelle** soll geprüft werden, ob das **Projekt-Budget** noch ausreicht.\n",
                "\n",
                "- Neue Tätigkeiten sollen nur dann eingefügt werden, wenn der Mitarbeiter nicht bereits für dieses Projekt eingetragen ist.\n",
                "- Tätigkeiten müssen in Arbeitet\\_An einzeln eingetragen werden. \n",
                "- Nur bei ausreichendem Budget erfolgt der Eintrag.\n",
                "\n",
                "Dazu wird die Projekttabelle erweitert um die Spalten **Personalbudget** und **Personalkostenstand.**\n",
                "\n",
                "**Challenge:** Die Tabelle Arbeitet\\_An benötigt außerdem einen **Update-Trigger**, der beim Aufstocken der Stunden eines Mitarbeiters prüft, ob das Budget ausreicht."
            ],
            "metadata": {
                "azdata_cell_guid": "88a47cc3-7e05-43a2-a46e-567e10f21674"
            },
            "attachments": {}
        },
        {
            "cell_type": "code",
            "source": [
                "USE NormalisierungsDemo;"
            ],
            "metadata": {
                "azdata_cell_guid": "87ee67da-b21c-4799-8743-689ea19f4ac3",
                "language": "sql"
            },
            "outputs": [],
            "execution_count": null
        },
        {
            "cell_type": "code",
            "source": [
                "-- In Tabelle Projekt Spalten Personalbudget und Personalkostenstand hinzufügen\r\n",
                "ALTER TABLE Projekt\r\n",
                "ADD Personalbudget DECIMAL(9,2) CONSTRAINT df_Personalbudget DEFAULT 10000,\r\n",
                "    Personalkostenstand DECIMAL(9,2) CONSTRAINT df_Personalkostenstand DEFAULT 0;"
            ],
            "metadata": {
                "language": "sql",
                "azdata_cell_guid": "b2cb3551-2add-43e5-83c7-260d6a7ef274"
            },
            "outputs": [],
            "execution_count": null
        },
        {
            "cell_type": "code",
            "source": [
                "-- Die Standardwerte für Personalbudget und Personalkostenstand auf zuvor vorhandene Projekte anwenden\r\n",
                "UPDATE Projekt\r\n",
                "SET Personalbudget = 10000,\r\n",
                "    Personalkostenstand = 0;"
            ],
            "metadata": {
                "language": "sql",
                "azdata_cell_guid": "a26ca350-91ce-4ec2-8518-fa7aaea0438c",
                "tags": []
            },
            "outputs": [],
            "execution_count": null
        },
        {
            "cell_type": "code",
            "source": [
                "-- Den Stand der Personalkosten aktualisieren per Funktionsaufruf\r\n",
                "UPDATE Projekt\r\n",
                "SET Personalkostenstand = dbo.fnc_Personalkosten(Beschreibung);"
            ],
            "metadata": {
                "language": "sql",
                "azdata_cell_guid": "22e2d8d9-4917-46c3-a6e2-d428d8898d55"
            },
            "outputs": [],
            "execution_count": null
        },
        {
            "cell_type": "code",
            "source": [
                "-- Trigger erstellen\r\n",
                "CREATE OR ALTER TRIGGER dbo.tr_Kostenbremse\r\n",
                "ON dbo.Arbeitet_An\r\n",
                "INSTEAD OF INSERT\r\n",
                "AS\r\n",
                "BEGIN\r\n",
                "\tSET NOCOUNT ON;\r\n",
                "    BEGIN TRY\r\n",
                "        BEGIN TRANSACTION;\r\n",
                "        -- Verfügbares Büdget für Projekt ermitteln\r\n",
                "        DECLARE @Verfügbar DECIMAL(9,2), @Kosten DECIMAL(9,2);\r\n",
                "        DECLARE @Restbudget DECIMAL(9,2), @Projekt INT, @Test INT;\r\n",
                "        DECLARE @Posten AS TABLE (\r\n",
                "                PersonalNr INT NOT NULL,\r\n",
                "                ProjNr INT NOT NULL,\r\n",
                "                TätigkeitsNr INT NOT NULL,\r\n",
                "                Stunden INT NOT NULL\r\n",
                "            );\r\n",
                "        INSERT INTO @Posten (PersonalNr, ProjNr, TätigkeitsNr, Stunden)\r\n",
                "        SELECT  PersonalNr, ProjNr, TätigkeitsNr, Stunden\r\n",
                "        FROM inserted;\r\n",
                "        -- Datensätze müssen einzeln in Arbeitet_An eingefügt werden\r\n",
                "        SELECT @Test = COUNT(*) FROM @Posten;\r\n",
                "        IF @Test > 1 THROW 50000, 'Fehler: Datensätze müssen einzeln eigefügt werden!', 1;\r\n",
                "        -- PK Verletzung prüfen: Die Kombination PersonalNr+MitarbeiterNr muss eindeutig sein\r\n",
                "        SELECT @Test = COUNT(*)\r\n",
                "            FROM Arbeitet_An AS aa\r\n",
                "            JOIN @Posten AS po ON aa.PersonalNr = po.PersonalNr\r\n",
                "                AND aa.ProjNr = po.ProjNr;\r\n",
                "        -- SELECT @Test AS Test;\r\n",
                "        IF @Test > 0 THROW 50000, 'Der Mitarbeiter ist bereits für dieses Projekt registriert!', 1;\r\n",
                "        -- Kosten für neue Projektstunden ermitteln\r\n",
                "        SELECT @Kosten = (t.Stundenlohn * po.Stunden)\r\n",
                "            FROM @Posten AS po\r\n",
                "            JOIN Tätigkeit AS t ON po.TätigkeitsNr = t.TätigkeitsNr;\r\n",
                "        -- SELECT @Kosten As Kosten;\r\n",
                "        -- Budget ermitteln\r\n",
                "        SELECT @Restbudget = (pr.Personalbudget - pr.Personalkostenstand)\r\n",
                "            FROM Projekt AS pr\r\n",
                "            JOIN @Posten AS po ON pr.ProjNr = po.ProjNr;\r\n",
                "        -- SELECT @Restbudget AS Restbudget, @Kosten AS Kosten;\r\n",
                "        IF @Kosten > @Restbudget THROW 50000, 'Kein ausreichendes Budget verfügbar!', 1;\r\n",
                "        -- Bei verfügbarem Budget Arbeitet_An Datensatz schreiben und Projektkostenstand aktualisieren\r\n",
                "        -- Projektkostenstand aktualisieren\r\n",
                "        UPDATE Projekt \r\n",
                "            SET Personalkostenstand += @Kosten\r\n",
                "            WHERE ProjNr = (SELECT ProjNr FROM @Posten);\r\n",
                "         -- Arbeitet_An Datensatz einfügen   \r\n",
                "        INSERT INTO Arbeitet_An (PersonalNr, ProjNr, TätigkeitsNr, Stunden)\r\n",
                "            SELECT PersonalNr, ProjNr, TätigkeitsNr, Stunden\r\n",
                "            FROM @Posten;\r\n",
                "        PRINT 'Yay! • Tätigkeit registriert. • Kostenstand aktualisiert.';\r\n",
                "        COMMIT TRANSACTION;\r\n",
                "    END TRY\r\n",
                "    BEGIN CATCH\r\n",
                "        ROLLBACK TRANSACTION;\r\n",
                "        THROW;\r\n",
                "    END CATCH;\r\n",
                "    SET NOCOUNT OFF;\r\n",
                "END;"
            ],
            "metadata": {
                "language": "sql",
                "azdata_cell_guid": "603c9315-21be-4ad4-b75b-fd056b9523b0"
            },
            "outputs": [],
            "execution_count": null
        },
        {
            "cell_type": "code",
            "source": [
                "-- Testfall: Fehler beim einfügen mehrerer Datensätze\r\n",
                "INSERT INTO Arbeitet_An (PersonalNr, ProjNr, TätigkeitsNr,Stunden)\r\n",
                "VALUES(5,1,2,100),\r\n",
                "    (5,2,2,100);"
            ],
            "metadata": {
                "language": "sql",
                "azdata_cell_guid": "cdc1da42-82b0-40a6-a956-dd6826873f97"
            },
            "outputs": [],
            "execution_count": null
        },
        {
            "cell_type": "code",
            "source": [
                "-- Testfall: Fehler, da Mitarbeiter schon im Projekt ist (PK Verletzung)\r\n",
                "INSERT INTO Arbeitet_An (PersonalNr, ProjNr, TätigkeitsNr,Stunden)\r\n",
                "VALUES(2,1,1,100);"
            ],
            "metadata": {
                "azdata_cell_guid": "28f5b279-65cc-435d-ace1-a903272270a5",
                "language": "sql"
            },
            "outputs": [],
            "execution_count": null
        },
        {
            "cell_type": "code",
            "source": [
                "-- Testfall: Sollte EINMAL funktionieren\r\n",
                "INSERT INTO Arbeitet_An (PersonalNr, ProjNr, TätigkeitsNr,Stunden)\r\n",
                "VALUES(5,1,2,100);"
            ],
            "metadata": {
                "language": "sql",
                "azdata_cell_guid": "f311dbcf-ac7a-4328-9f04-c7fe7ce7623a"
            },
            "outputs": [],
            "execution_count": null
        },
        {
            "cell_type": "code",
            "source": [
                "-- Abfrage zur Kontrolle: Personalkostenstand mit Kosten aus Tätigkeiten vergleichen\r\n",
                "SELECT p.Beschreibung AS Projekt, p.Personalbudget , p.Personalkostenstand, SUM(1.0 * aa.Stunden * t.Stundenlohn) AS [Kostensumme aus Details]\r\n",
                "FROM Projekt AS P \r\n",
                "LEFT JOIN Arbeitet_An AS aa ON p.ProjNr = aa.ProjNr\r\n",
                "LEFT JOIN Tätigkeit AS t ON aa.TätigkeitsNr = t.TätigkeitsNr\r\n",
                "GROUP BY p.Beschreibung, p.Personalbudget, p.Personalkostenstand;"
            ],
            "metadata": {
                "language": "sql",
                "azdata_cell_guid": "70fbde5e-08ac-4307-bf06-fbf9d843fbcb"
            },
            "outputs": [],
            "execution_count": null
        },
        {
            "cell_type": "code",
            "source": [
                "-- Trigger löschen\r\n",
                "DROP TRIGGER dbo.tr_Kostenbremse;"
            ],
            "metadata": {
                "azdata_cell_guid": "59eae088-3dcd-4ce9-9c41-7b237974ba66",
                "language": "sql"
            },
            "outputs": [],
            "execution_count": null
        }
    ]
}