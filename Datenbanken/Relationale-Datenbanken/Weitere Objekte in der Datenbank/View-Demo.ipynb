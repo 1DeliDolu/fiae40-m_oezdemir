{
    "metadata": {
        "kernelspec": {
            "name": "SQL",
            "display_name": "SQL",
            "language": "sql"
        },
        "language_info": {
            "name": "sql",
            "version": ""
        }
    },
    "nbformat_minor": 2,
    "nbformat": 4,
    "cells": [
        {
            "cell_type": "markdown",
            "source": [
                "# VIEW Demo\n",
                "\n",
                "Zur Anzeige von Mitarbeitern, ihrer Abteilungszugehörigkeit und ihrer Aufgaben in Projekten ist ein JOIN über 5 Tabellen erforderlich.\n",
                "\n",
                "Um diese Abfrage bequem wieder zu verwenden, wird sie als VIEW abgespeichert."
            ],
            "metadata": {
                "azdata_cell_guid": "7586d98c-2e10-4419-946b-bef478fa7e01"
            },
            "attachments": {}
        },
        {
            "cell_type": "code",
            "source": [
                "USE NormalisierungsDemo; "
            ],
            "metadata": {
                "azdata_cell_guid": "377cd259-ebb6-4325-b96a-fc09dbdd7b02",
                "language": "sql"
            },
            "outputs": [],
            "execution_count": null
        },
        {
            "cell_type": "code",
            "source": [
                "-- Ausgangspunkt: diese Abfrage mit JOIN über mehrere Tabellen\r\n",
                "SELECT p1.PersonalNr, CONCAT(p1.Name, ', ', p1.Vorname) AS Mitarbeiter, a.Name AS Abteilung,\r\n",
                "    COALESCE(p2.Beschreibung, '') AS Projekt, \r\n",
                "    COALESCE(t.Tätigkeit, '') AS Tätigkeit,\r\n",
                "    COALESCE(CAST(aa.Stunden AS CHAR(3)), '') AS Stunden,\r\n",
                "    COALESCE(CAST(t.Stundenlohn AS CHAR(5)), '') AS Stundenlohn\r\n",
                "FROM Personal AS p1\r\n",
                "LEFT JOIN Abteilung AS a ON p1.AbtNr = a.AbtNr\r\n",
                "LEFT JOIN Arbeitet_An AS aa ON p1.PersonalNr = aa.PersonalNr\r\n",
                "LEFT JOIN Projekt AS p2 ON p2.ProjNr = aa.ProjNr\r\n",
                "LEFT JOIN Tätigkeit AS t ON aa.TätigkeitsNr = t.TätigkeitsNr\r\n",
                "ORDER BY p1.PersonalNr;"
            ],
            "metadata": {
                "azdata_cell_guid": "cb427e6d-4546-40df-a8d0-030a62b0b326",
                "language": "sql"
            },
            "outputs": [
                {
                    "output_type": "display_data",
                    "data": {
                        "text/html": "(9 rows affected)"
                    },
                    "metadata": {}
                },
                {
                    "output_type": "display_data",
                    "data": {
                        "text/html": "Total execution time: 00:00:00.036"
                    },
                    "metadata": {}
                },
                {
                    "output_type": "execute_result",
                    "metadata": {},
                    "execution_count": 2,
                    "data": {
                        "application/vnd.dataresource+json": {
                            "schema": {
                                "fields": [
                                    {
                                        "name": "PersonalNr"
                                    },
                                    {
                                        "name": "Mitarbeiter"
                                    },
                                    {
                                        "name": "Abteilung"
                                    },
                                    {
                                        "name": "Projekt"
                                    },
                                    {
                                        "name": "Tätigkeit"
                                    },
                                    {
                                        "name": "Stunden"
                                    },
                                    {
                                        "name": "Stundenlohn"
                                    }
                                ]
                            },
                            "data": [
                                {
                                    "PersonalNr": "1",
                                    "Mitarbeiter": "Eichenau, Maria",
                                    "Abteilung": "Personal",
                                    "Projekt": "",
                                    "Tätigkeit": "",
                                    "Stunden": "",
                                    "Stundenlohn": ""
                                },
                                {
                                    "PersonalNr": "2",
                                    "Mitarbeiter": "Glahn, Stefanie",
                                    "Abteilung": "Einkauf",
                                    "Projekt": "Kundenumfrage",
                                    "Tätigkeit": "Leitung",
                                    "Stunden": "25 ",
                                    "Stundenlohn": "50.00"
                                },
                                {
                                    "PersonalNr": "2",
                                    "Mitarbeiter": "Glahn, Stefanie",
                                    "Abteilung": "Einkauf",
                                    "Projekt": "Konkurrenzanalyse",
                                    "Tätigkeit": "Bearbeitung",
                                    "Stunden": "80 ",
                                    "Stundenlohn": "30.00"
                                },
                                {
                                    "PersonalNr": "3",
                                    "Mitarbeiter": "Kirsch, Karin",
                                    "Abteilung": "Einkauf",
                                    "Projekt": "Kundenumfrage",
                                    "Tätigkeit": "Bearbeitung",
                                    "Stunden": "55 ",
                                    "Stundenlohn": "30.00"
                                },
                                {
                                    "PersonalNr": "3",
                                    "Mitarbeiter": "Kirsch, Karin",
                                    "Abteilung": "Einkauf",
                                    "Projekt": "Konkurrenzanalyse",
                                    "Tätigkeit": "Bearbeitung",
                                    "Stunden": "65 ",
                                    "Stundenlohn": "30.00"
                                },
                                {
                                    "PersonalNr": "4",
                                    "Mitarbeiter": "Conolly, Sean",
                                    "Abteilung": "Verkauf",
                                    "Projekt": "Kundenumfrage",
                                    "Tätigkeit": "Bearbeitung",
                                    "Stunden": "70 ",
                                    "Stundenlohn": "30.00"
                                },
                                {
                                    "PersonalNr": "4",
                                    "Mitarbeiter": "Conolly, Sean",
                                    "Abteilung": "Verkauf",
                                    "Projekt": "Verkaufsmesse",
                                    "Tätigkeit": "Leitung",
                                    "Stunden": "25 ",
                                    "Stundenlohn": "50.00"
                                },
                                {
                                    "PersonalNr": "4",
                                    "Mitarbeiter": "Conolly, Sean",
                                    "Abteilung": "Verkauf",
                                    "Projekt": "Konkurrenzanalyse",
                                    "Tätigkeit": "Leitung",
                                    "Stunden": "25 ",
                                    "Stundenlohn": "50.00"
                                },
                                {
                                    "PersonalNr": "5",
                                    "Mitarbeiter": "Frawley, Lutz",
                                    "Abteilung": "Verkauf",
                                    "Projekt": "Verkaufsmesse",
                                    "Tätigkeit": "Präsentationsvorbereitung",
                                    "Stunden": "160",
                                    "Stundenlohn": "35.00"
                                }
                            ]
                        },
                        "text/html": [
                            "<table>",
                            "<tr><th>PersonalNr</th><th>Mitarbeiter</th><th>Abteilung</th><th>Projekt</th><th>Tätigkeit</th><th>Stunden</th><th>Stundenlohn</th></tr>",
                            "<tr><td>1</td><td>Eichenau, Maria</td><td>Personal</td><td></td><td></td><td></td><td></td></tr>",
                            "<tr><td>2</td><td>Glahn, Stefanie</td><td>Einkauf</td><td>Kundenumfrage</td><td>Leitung</td><td>25 </td><td>50.00</td></tr>",
                            "<tr><td>2</td><td>Glahn, Stefanie</td><td>Einkauf</td><td>Konkurrenzanalyse</td><td>Bearbeitung</td><td>80 </td><td>30.00</td></tr>",
                            "<tr><td>3</td><td>Kirsch, Karin</td><td>Einkauf</td><td>Kundenumfrage</td><td>Bearbeitung</td><td>55 </td><td>30.00</td></tr>",
                            "<tr><td>3</td><td>Kirsch, Karin</td><td>Einkauf</td><td>Konkurrenzanalyse</td><td>Bearbeitung</td><td>65 </td><td>30.00</td></tr>",
                            "<tr><td>4</td><td>Conolly, Sean</td><td>Verkauf</td><td>Kundenumfrage</td><td>Bearbeitung</td><td>70 </td><td>30.00</td></tr>",
                            "<tr><td>4</td><td>Conolly, Sean</td><td>Verkauf</td><td>Verkaufsmesse</td><td>Leitung</td><td>25 </td><td>50.00</td></tr>",
                            "<tr><td>4</td><td>Conolly, Sean</td><td>Verkauf</td><td>Konkurrenzanalyse</td><td>Leitung</td><td>25 </td><td>50.00</td></tr>",
                            "<tr><td>5</td><td>Frawley, Lutz</td><td>Verkauf</td><td>Verkaufsmesse</td><td>Präsentationsvorbereitung</td><td>160</td><td>35.00</td></tr>",
                            "</table>"
                        ]
                    }
                }
            ],
            "execution_count": 2
        },
        {
            "cell_type": "code",
            "source": [
                "-- Erstellung des VIEWs\r\n",
                "-- Die Sortierung wird nicht im View definiert!\r\n",
                "CREATE OR ALTER VIEW vw_MitarbeiterAbteilungProjektTätigkeit\r\n",
                "AS\r\n",
                "SELECT p1.PersonalNr, CONCAT(p1.Name, ', ', p1.Vorname) AS Mitarbeiter, a.Name AS Abteilung,\r\n",
                "    COALESCE(p2.Beschreibung, '') AS Projekt, \r\n",
                "    COALESCE(t.Tätigkeit, '') AS Tätigkeit,\r\n",
                "    COALESCE(CAST(aa.Stunden AS CHAR(3)), '') AS Stunden,\r\n",
                "    COALESCE(CAST(t.Stundenlohn AS CHAR(5)), '') AS Stundenlohn\r\n",
                "FROM Personal AS p1\r\n",
                "LEFT JOIN Abteilung AS a ON p1.AbtNr = a.AbtNr\r\n",
                "LEFT JOIN Arbeitet_An AS aa ON p1.PersonalNr = aa.PersonalNr\r\n",
                "LEFT JOIN Projekt AS p2 ON p2.ProjNr = aa.ProjNr\r\n",
                "LEFT JOIN Tätigkeit AS t ON aa.TätigkeitsNr = t.TätigkeitsNr;"
            ],
            "metadata": {
                "language": "sql",
                "azdata_cell_guid": "2d1fb3ed-89f2-4dda-af04-ae763bbef187"
            },
            "outputs": [
                {
                    "output_type": "display_data",
                    "data": {
                        "text/html": "Commands completed successfully."
                    },
                    "metadata": {}
                },
                {
                    "output_type": "display_data",
                    "data": {
                        "text/html": "Total execution time: 00:00:00.006"
                    },
                    "metadata": {}
                }
            ],
            "execution_count": 5
        },
        {
            "cell_type": "code",
            "source": [
                "-- Verwendung des VIEWs\r\n",
                "SELECT * \r\n",
                "FROM vw_MitarbeiterAbteilungProjektTätigkeit\r\n",
                "WHERE Projekt = 'Verkaufsmesse';"
            ],
            "metadata": {
                "language": "sql",
                "azdata_cell_guid": "d494550a-eed6-4253-bfeb-a112ea4c8df2"
            },
            "outputs": [
{
    "output_type": "display_data",
    "data": {
        "text/html": "(2 rows affected)"
    },
    "metadata": {}
}, {
    "output_type": "display_data",
    "data": {
        "text/html": "Total execution time: 00:00:00.050"
    },
    "metadata": {}
}, {
    "output_type": "execute_result",
    "metadata": {},
    "execution_count": 6,
    "data": {
        "application/vnd.dataresource+json": {
            "schema": {
                "fields": [
                    {
                        "name": "PersonalNr"
                    },
                    {
                        "name": "Mitarbeiter"
                    },
                    {
                        "name": "Abteilung"
                    },
                    {
                        "name": "Projekt"
                    },
                    {
                        "name": "Tätigkeit"
                    },
                    {
                        "name": "Stunden"
                    },
                    {
                        "name": "Stundenlohn"
                    }
                ]
            },
            "data": [
                {
                    "PersonalNr": "4",
                    "Mitarbeiter": "Conolly, Sean",
                    "Abteilung": "Verkauf",
                    "Projekt": "Verkaufsmesse",
                    "Tätigkeit": "Leitung",
                    "Stunden": "25 ",
                    "Stundenlohn": "50.00"
                },
                {
                    "PersonalNr": "5",
                    "Mitarbeiter": "Frawley, Lutz",
                    "Abteilung": "Verkauf",
                    "Projekt": "Verkaufsmesse",
                    "Tätigkeit": "Präsentationsvorbereitung",
                    "Stunden": "160",
                    "Stundenlohn": "35.00"
                }
            ]
        },
        "text/html": [
            "<table>",
            "<tr><th>PersonalNr</th><th>Mitarbeiter</th><th>Abteilung</th><th>Projekt</th><th>Tätigkeit</th><th>Stunden</th><th>Stundenlohn</th></tr>",
            "<tr><td>4</td><td>Conolly, Sean</td><td>Verkauf</td><td>Verkaufsmesse</td><td>Leitung</td><td>25 </td><td>50.00</td></tr>",
            "<tr><td>5</td><td>Frawley, Lutz</td><td>Verkauf</td><td>Verkaufsmesse</td><td>Präsentationsvorbereitung</td><td>160</td><td>35.00</td></tr>",
            "</table>"
        ]
    }
}
],
            "execution_count": 6
        }
    ]
}