{
    "metadata": {
        "kernelspec": {
            "name": "SQL",
            "display_name": "SQL",
            "language": "sql"
        },
        "language_info": {
            "name": "sql",
            "version": ""
        }
    },
    "nbformat_minor": 2,
    "nbformat": 4,
    "cells": [
        {
            "cell_type": "markdown",
            "source": [
                "# FUNCTION Demo\n",
                "\n",
                "### Referenz:\n",
                "\n",
                "- [User-defined functions](https:\\learn.microsoft.com\\en-us\\sql\\relational-databases\\user-defined-functions\\user-defined-functions?view=sql-server-ver16)\n",
                "- [Create user-defined functions](https:\\learn.microsoft.com\\en-us\\sql\\relational-databases\\user-defined-functions\\create-user-defined-functions-database-engine?view=sql-server-ver16)\n",
                "    - [Scalar function (scalar UDF)](https:\\learn.microsoft.com\\en-us\\sql\\relational-databases\\user-defined-functions\\create-user-defined-functions-database-engine?view=sql-server-ver16#scalar-function-scalar-udf)\n",
                "    - [Inline table-valued function (TVF)](https:\\learn.microsoft.com\\en-us\\sql\\relational-databases\\user-defined-functions\\create-user-defined-functions-database-engine?view=sql-server-ver16#inline-table-valued-function-tvf)\n",
                "    - [Multi-statement table-valued function (MSTVF)](https:\\learn.microsoft.com\\en-us\\sql\\relational-databases\\user-defined-functions\\create-user-defined-functions-database-engine?view=sql-server-ver16#multi-statement-table-valued-function-mstvf)\n",
                "\n",
                "Funktionen können einzelne Werte (**Skalarwerte**) zurückgeben oder mehrere Werte (**Tabellen**). Beide Arten können Eingabeparameter haben.\n",
                "\n",
                "Eine Funktion, die nur eine Anweisung enthält, nennt man **Inline-Funktion.** Komplexere Funktionen, die Kontrollstrukturen und mehrere Anweisungen enthalten, heißen **Multi-Statement-Funktionen.**\n",
                "\n",
                "**Skalarwertfunktionen** werden in SELECT-Klauseln verwendet; **Tabellenwertfunktionen** in FROM-Klauseln.\n",
                "\n",
                "Hier wird zunächst eine benutzerdefinierte Skalarwertfunktion demonstriert, das heißt: diese Funktion gibt einen einzelnen Wert zurück.\n",
                "\n",
                "Die folgenden Beispiel-Funktionen verwenden das VIEW <span style=\"color: rgb(33, 33, 33); font-family: Consolas, &quot;Courier New&quot;, monospace; font-size: 18px; white-space: pre;\">vw_MitarbeiterAbteilungProjektTätigkeit aus der VIEW Demo.</span>"
            ],
            "metadata": {
                "azdata_cell_guid": "ac97feef-f10d-4f35-a1d9-d7de976a68ec",
                "language": ""
            },
            "attachments": {}
        },
        {
            "cell_type": "code",
            "source": [
                "USE NormalisierungsDemo;"
            ],
            "metadata": {
                "azdata_cell_guid": "3e4e0c31-566f-49fa-8c79-d812f8223b86",
                "language": "sql"
            },
            "outputs": [],
            "execution_count": null
        },
        {
            "cell_type": "code",
            "source": [
                "-- Das soll die Funktion tun, aber für beliebige Projekte\r\n",
                "SELECT SUM(CAST(Stunden as int)) AS Gesamtstunden\r\n",
                "FROM vw_MitarbeiterAbteilungProjektTätigkeit\r\n",
                "WHERE Projekt = 'Kundenumfrage';"
            ],
            "metadata": {
                "language": "sql",
                "azdata_cell_guid": "a493b117-f447-4881-ae36-5286b02d379f"
            },
            "outputs": [],
            "execution_count": null
        },
        {
            "cell_type": "code",
            "source": [
                "-- So wird die Funktion erstellt\r\n",
                "CREATE OR ALTER FUNCTION dbo.fnc_ProjektStunden (@Projekt varchar(60))\r\n",
                "RETURNS int\r\n",
                "AS\r\n",
                "BEGIN\r\n",
                "    DECLARE @Gesamtstunden int;\r\n",
                "    SELECT @Gesamtstunden = SUM(CAST(Stunden as int))\r\n",
                "    FROM vw_MitarbeiterAbteilungProjektTätigkeit\r\n",
                "    WHERE Projekt = @Projekt;\r\n",
                "    RETURN @Gesamtstunden;\r\n",
                "END;"
            ],
            "metadata": {
                "azdata_cell_guid": "15935ffb-5cc1-4dc3-9a59-cbb1b1908c5c",
                "language": "sql"
            },
            "outputs": [],
            "execution_count": null
        },
        {
            "cell_type": "code",
            "source": [
                "-- So wird die Funktion verwendet\r\n",
                "SELECT dbo.fnc_ProjektStunden('Verkaufsmesse') AS [Gesamtstunden im Projekt Verkaufsmesse]"
            ],
            "metadata": {
                "language": "sql",
                "azdata_cell_guid": "d74615e3-d2c9-4753-96e6-43713405a0a8"
            },
            "outputs": [],
            "execution_count": null
        },
        {
            "cell_type": "code",
            "source": [
                "-- Funktion zur Berechnung der Personalkosten \r\n",
                "-- für ein als Parameter übergebenes Projekt!\r\n",
                "CREATE OR ALTER FUNCTION dbo.fnc_Personalkosten (@Projekt VARCHAR(60))\r\n",
                "RETURNS int\r\n",
                "AS\r\n",
                "BEGIN\r\n",
                "    DECLARE @Personalkosten DECIMAL(9,2);\r\n",
                "    SELECT @Personalkosten = SUM(CAST(Stunden as DECIMAL(9,2)) * CAST(Stundenlohn AS DECIMAL(9,2)))\r\n",
                "    FROM vw_MitarbeiterAbteilungProjektTätigkeit\r\n",
                "    WHERE Projekt = @Projekt;\r\n",
                "    RETURN @Personalkosten;\r\n",
                "END;"
            ],
            "metadata": {
                "language": "sql",
                "azdata_cell_guid": "64378573-56ee-4c9b-b564-54c8a4b55870"
            },
            "outputs": [],
            "execution_count": null
        },
        {
            "cell_type": "code",
            "source": [
                "-- Personalkosten des Projekts Verkaufsmesse abrufen\r\n",
                "SELECT dbo.fnc_Personalkosten('Verkaufsmesse') AS [Personalkosten im Projekt Verkaufsmesse]"
            ],
            "metadata": {
                "language": "sql",
                "azdata_cell_guid": "7a458604-9280-4228-9a42-47fa86b41948"
            },
            "outputs": [],
            "execution_count": null
        },
        {
            "cell_type": "markdown",
            "source": [
                "## Tabellenwertfunktion\n",
                "\n",
                "Ein Funktion kann nicht nur einzelne Werte (=Skalare), sondern auch Tabellen zurückgeben\n",
                "\n",
                "  \n",
                "\n",
                "Nachfolgend wird eine Funktion demonstriert, die eine Abteilung als Parameter bekommt und die involvierten Mitarbeiter anzeigt."
            ],
            "metadata": {
                "language": "sql",
                "azdata_cell_guid": "c2d0afe0-011d-491c-8708-57bd4e1029de"
            },
            "attachments": {}
        },
        {
            "cell_type": "code",
            "source": [
                "-- Abfrage zur Vorbereitung\r\n",
                "SELECT pr.ProjNr, pr.Beschreibung AS Projekt,\r\n",
                "\tCONCAT(pe.Vorname, ' ', pe.Name) AS Mitarbeiter,\r\n",
                "\tt.Tätigkeit, aa.Stunden\r\n",
                "FROM Projekt AS pr\r\n",
                "JOIN Arbeitet_An AS aa ON pr.ProjNr = aa.ProjNr\r\n",
                "JOIN Personal AS pe ON aa.PersonalNr = pe.PersonalNr\r\n",
                "JOIN Tätigkeit AS t ON aa.TätigkeitsNr = t.TätigkeitsNr\r\n",
                "WHERE pr.Beschreibung = 'Kundenumfrage'"
            ],
            "metadata": {
                "language": "sql",
                "azdata_cell_guid": "87a1389e-5397-4308-9bfc-4ddb6d409971"
            },
            "outputs": [],
            "execution_count": null
        },
        {
            "cell_type": "code",
            "source": [
                "CREATE OR ALTER FUNCTION dbo.fn_PersonalImProjekt (@p AS VARCHAR(120)) RETURNS TABLE\r\n",
                "AS \r\n",
                "RETURN\r\n",
                "SELECT pr.ProjNr, pr.Beschreibung AS Projekt,\r\n",
                "\tCONCAT(pe.Vorname, ' ', pe.Name) AS Mitarbeiter,\r\n",
                "\tt.Tätigkeit, aa.Stunden\r\n",
                "FROM Projekt AS pr\r\n",
                "JOIN Arbeitet_An AS aa ON pr.ProjNr = aa.ProjNr\r\n",
                "JOIN Personal AS pe ON aa.PersonalNr = pe.PersonalNr\r\n",
                "JOIN Tätigkeit AS t ON aa.TätigkeitsNr = t.TätigkeitsNr\r\n",
                "WHERE pr.Beschreibung = @p;"
            ],
            "metadata": {
                "language": "sql",
                "azdata_cell_guid": "c8ee4b78-69e9-4e2c-b0b3-b92e0bc687af"
            },
            "outputs": [],
            "execution_count": null
        },
        {
            "cell_type": "code",
            "source": [
                "-- Zeige Mitarbeiter im Projekt Kundenumfrage\r\n",
                "SELECT * FROM dbo.fn_PersonalImProjekt('Kundenumfrage');"
            ],
            "metadata": {
                "language": "sql",
                "azdata_cell_guid": "85cf7d7c-87f3-4e5a-8405-a2714fc65adf"
            },
            "outputs": [],
            "execution_count": null
        }
    ]
}