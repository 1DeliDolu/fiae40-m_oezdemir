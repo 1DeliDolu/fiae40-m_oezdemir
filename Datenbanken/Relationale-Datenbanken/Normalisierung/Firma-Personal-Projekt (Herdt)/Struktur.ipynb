{
    "metadata": {
        "kernelspec": {
            "name": "SQL",
            "display_name": "SQL",
            "language": "sql"
        },
        "language_info": {
            "name": "sql",
            "version": ""
        }
    },
    "nbformat_minor": 2,
    "nbformat": 4,
    "cells": [
        {
            "cell_type": "markdown",
            "source": [
                "# Datenbank _NormalisierungsDemo_ und Tabellen erstellen"
            ],
            "metadata": {
                "language": "sql",
                "azdata_cell_guid": "276ed04a-cce3-4e13-a163-7185d50e39d4"
            },
            "attachments": {}
        },
        {
            "cell_type": "code",
            "source": [
                "USE master;\r\n",
                "\r\n",
                "DROP DATABASE IF EXISTS NormalisierungsDemo;\r\n",
                "GO\r\n",
                "\r\n",
                "CREATE DATABASE NormalisierungsDemo;\r\n",
                "GO\r\n",
                "\r\n",
                "USE NormalisierungsDemo;\r\n",
                "\r\n",
                "CREATE TABLE Abteilung\r\n",
                "(\r\n",
                "  AbtNr INT NOT NULL,\r\n",
                "  Name VARCHAR(60) NOT NULL,\r\n",
                "  CONSTRAINT pk_Abteilung PRIMARY KEY (AbtNr)\r\n",
                ");\r\n",
                "\r\n",
                "CREATE TABLE Projekt\r\n",
                "(\r\n",
                "  ProjNr INT NOT NULL,\r\n",
                "  Beschreibung VARCHAR(120) NOT NULL,\r\n",
                "  CONSTRAINT pk_Projekt PRIMARY KEY (ProjNr),\r\n",
                "  CONSTRAINT uq_Projekt UNIQUE(Beschreibung)\r\n",
                ");\r\n",
                "\r\n",
                "/*\r\n",
                "  Demo DEFAULT, CHECK, UNIQUE Constraints\r\n",
                "*/\r\n",
                "CREATE TABLE Tätigkeit\r\n",
                "(\r\n",
                "  TätigkeitsNr INT NOT NULL,\r\n",
                "  Tätigkeit VARCHAR(60) NOT NULL,\r\n",
                "  Stundenlohn DECIMAL(9,2) CONSTRAINT df_Stundenlohn DEFAULT 20, \r\n",
                "  CONSTRAINT pk_Tätigkeit PRIMARY KEY (TätigkeitsNr),\r\n",
                "  CONSTRAINT ck_Stundenlohn CHECK(Stundenlohn BETWEEN 15 AND 50),\r\n",
                "  CONSTRAINT uq_Tätigkeit UNIQUE(Tätigkeit)\r\n",
                ");\r\n",
                "\r\n",
                "CREATE TABLE Personal\r\n",
                "(\r\n",
                "  PersonalNr INT NOT NULL,\r\n",
                "  Name VARCHAR(60) NOT NULL,\r\n",
                "  Vorname VARCHAR(60) NOT NULL,\r\n",
                "  AbtNr INT NOT NULL,\r\n",
                "  CONSTRAINT pk_Personal PRIMARY KEY (PersonalNr),\r\n",
                "  CONSTRAINT fk_Personal_Abteilung FOREIGN KEY (AbtNr) REFERENCES Abteilung(AbtNr)\r\n",
                ");\r\n",
                "\r\n",
                "CREATE TABLE Arbeitet_An\r\n",
                "(\r\n",
                "  PersonalNr INT NOT NULL,\r\n",
                "  ProjNr INT NOT NULL,\r\n",
                "  TätigkeitsNr INT NOT NULL,\r\n",
                "  Stunden INT NOT NULL,\r\n",
                "  CONSTRAINT pk_ArbeitetAn PRIMARY KEY (PersonalNr, ProjNr),\r\n",
                "  CONSTRAINT fk_ArbeitetAn_Tätigkeit FOREIGN KEY (TätigkeitsNr) REFERENCES Tätigkeit(TätigkeitsNr),\r\n",
                "  CONSTRAINT fk_ArbeitetAn_Personal FOREIGN KEY (PersonalNr) REFERENCES Personal(PersonalNr),\r\n",
                "  CONSTRAINT fk_ArbeitetAn_Projekt FOREIGN KEY (ProjNr) REFERENCES Projekt(ProjNr)\r\n",
                ");\r\n",
                ""
            ],
            "metadata": {
                "azdata_cell_guid": "3ff1af27-9b43-46fd-875a-ac8b63a2785b",
                "language": "sql"
            },
            "outputs": [
{
    "output_type": "display_data",
    "data": {
        "text/html": "Commands completed successfully."
    },
    "metadata": {}
}, {
    "output_type": "display_data",
    "data": {
        "text/html": "Commands completed successfully."
    },
    "metadata": {}
}, {
    "output_type": "display_data",
    "data": {
        "text/html": "Commands completed successfully."
    },
    "metadata": {}
}, {
    "output_type": "display_data",
    "data": {
        "text/html": "Total execution time: 00:00:00.409"
    },
    "metadata": {}
}
],
            "execution_count": 1
        }
    ]
}