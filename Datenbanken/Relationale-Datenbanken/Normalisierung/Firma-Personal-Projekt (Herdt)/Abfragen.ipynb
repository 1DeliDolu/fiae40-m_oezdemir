{
    "metadata": {
        "kernelspec": {
            "name": "SQL",
            "display_name": "SQL",
            "language": "sql"
        },
        "language_info": {
            "name": "sql",
            "version": ""
        }
    },
    "nbformat_minor": 2,
    "nbformat": 4,
    "cells": [
        {
            "cell_type": "markdown",
            "source": [
                "# Abfragen zur Darstellung der Normalisierungsschritte\n",
                "\n",
                "DIe Datenbank wird in [Struktur]() in der dritten Normalform erstellt und in [Daten]() mit Datensätzen befüllt. \n",
                "\n",
                "  \n",
                "\n",
                "Nachfolgende Abfragen dienen dazu, die nicht normalisierten Daten und die Daten in der ersten und zweiten Normalform anzuzeigen."
            ],
            "metadata": {
                "azdata_cell_guid": "b52ade51-8b3c-4f07-a9e8-203ea491a722"
            },
            "attachments": {}
        },
        {
            "cell_type": "code",
            "source": [
                "USE NormalisierungsDemo;\r\n",
                "\r\n",
                "-- Rohdaten\r\n",
                "SELECT p1.PersonalNr, CONCAT(p1.Vorname,' ', p1.Name) AS Name, a.AbtNr AS AbtNr, a.Name AS AbtBezeichnung,\r\n",
                "    COALESCE(STRING_AGG(p2.ProjNr, ', '),'') AS ProjNr, \r\n",
                "    COALESCE(STRING_AGG(p2.Beschreibung, ', '),'') AS ProjektBeschreibung, \r\n",
                "    COALESCE(STRING_AGG(t.Tätigkeit, ', '),'') AS Tätigkeit,\r\n",
                "    COALESCE(STRING_AGG(aa.Stunden, ', '), '') AS Stunden,\r\n",
                "    COALESCE(STRING_AGG(t.Stundenlohn, ', '), '') AS Stundenlohn\r\n",
                "FROM Personal AS p1\r\n",
                "LEFT JOIN Abteilung AS a ON p1.AbtNr = a.AbtNr\r\n",
                "LEFT JOIN Arbeitet_An AS aa ON p1.PersonalNr = aa.PersonalNr\r\n",
                "LEFT JOIN Projekt AS p2 ON p2.ProjNr = aa.ProjNr\r\n",
                "LEFT JOIN Tätigkeit AS t ON aa.TätigkeitsNr = t.TätigkeitsNr\r\n",
                "GROUP BY p1.PersonalNr, p1.Name, p1.Vorname, a.AbtNr, a.Name \r\n",
                "ORDER BY p1.PersonalNr;\r\n",
                "\r\n",
                ""
            ],
            "metadata": {
                "azdata_cell_guid": "3c588a2d-1ce7-41a6-86b2-f6eb421ced85",
                "language": "sql"
            },
            "outputs": [
{
    "output_type": "display_data",
    "data": {
        "text/html": "(5 rows affected)"
    },
    "metadata": {}
}, {
    "output_type": "display_data",
    "data": {
        "text/html": "Total execution time: 00:00:00.044"
    },
    "metadata": {}
}, {
    "output_type": "execute_result",
    "metadata": {},
    "execution_count": 1,
    "data": {
        "application/vnd.dataresource+json": {
            "schema": {
                "fields": [
                    {
                        "name": "PersonalNr"
                    },
                    {
                        "name": "Name"
                    },
                    {
                        "name": "AbtNr"
                    },
                    {
                        "name": "AbtBezeichnung"
                    },
                    {
                        "name": "ProjNr"
                    },
                    {
                        "name": "ProjektBeschreibung"
                    },
                    {
                        "name": "Tätigkeit"
                    },
                    {
                        "name": "Stunden"
                    },
                    {
                        "name": "Stundenlohn"
                    }
                ]
            },
            "data": [
                {
                    "PersonalNr": "1",
                    "Name": "Maria Eichenau",
                    "AbtNr": "1",
                    "AbtBezeichnung": "Personal",
                    "ProjNr": "",
                    "ProjektBeschreibung": "",
                    "Tätigkeit": "",
                    "Stunden": "",
                    "Stundenlohn": ""
                },
                {
                    "PersonalNr": "2",
                    "Name": "Stefanie Glahn",
                    "AbtNr": "2",
                    "AbtBezeichnung": "Einkauf",
                    "ProjNr": "1, 3",
                    "ProjektBeschreibung": "Kundenumfrage, Konkurrenzanalyse",
                    "Tätigkeit": "Leitung, Bearbeitung",
                    "Stunden": "25, 80",
                    "Stundenlohn": "50.00, 30.00"
                },
                {
                    "PersonalNr": "3",
                    "Name": "Karin Kirsch",
                    "AbtNr": "2",
                    "AbtBezeichnung": "Einkauf",
                    "ProjNr": "1, 3",
                    "ProjektBeschreibung": "Kundenumfrage, Konkurrenzanalyse",
                    "Tätigkeit": "Bearbeitung, Bearbeitung",
                    "Stunden": "55, 65",
                    "Stundenlohn": "30.00, 30.00"
                },
                {
                    "PersonalNr": "4",
                    "Name": "Sean Conolly",
                    "AbtNr": "3",
                    "AbtBezeichnung": "Verkauf",
                    "ProjNr": "1, 2, 3",
                    "ProjektBeschreibung": "Kundenumfrage, Verkaufsmesse, Konkurrenzanalyse",
                    "Tätigkeit": "Bearbeitung, Leitung, Leitung",
                    "Stunden": "70, 25, 25",
                    "Stundenlohn": "30.00, 50.00, 50.00"
                },
                {
                    "PersonalNr": "5",
                    "Name": "Lutz Frawley",
                    "AbtNr": "3",
                    "AbtBezeichnung": "Verkauf",
                    "ProjNr": "2",
                    "ProjektBeschreibung": "Verkaufsmesse",
                    "Tätigkeit": "Präsentationsvorbereitung",
                    "Stunden": "160",
                    "Stundenlohn": "35.00"
                }
            ]
        },
        "text/html": [
            "<table>",
            "<tr><th>PersonalNr</th><th>Name</th><th>AbtNr</th><th>AbtBezeichnung</th><th>ProjNr</th><th>ProjektBeschreibung</th><th>Tätigkeit</th><th>Stunden</th><th>Stundenlohn</th></tr>",
            "<tr><td>1</td><td>Maria Eichenau</td><td>1</td><td>Personal</td><td></td><td></td><td></td><td></td><td></td></tr>",
            "<tr><td>2</td><td>Stefanie Glahn</td><td>2</td><td>Einkauf</td><td>1, 3</td><td>Kundenumfrage, Konkurrenzanalyse</td><td>Leitung, Bearbeitung</td><td>25, 80</td><td>50.00, 30.00</td></tr>",
            "<tr><td>3</td><td>Karin Kirsch</td><td>2</td><td>Einkauf</td><td>1, 3</td><td>Kundenumfrage, Konkurrenzanalyse</td><td>Bearbeitung, Bearbeitung</td><td>55, 65</td><td>30.00, 30.00</td></tr>",
            "<tr><td>4</td><td>Sean Conolly</td><td>3</td><td>Verkauf</td><td>1, 2, 3</td><td>Kundenumfrage, Verkaufsmesse, Konkurrenzanalyse</td><td>Bearbeitung, Leitung, Leitung</td><td>70, 25, 25</td><td>30.00, 50.00, 50.00</td></tr>",
            "<tr><td>5</td><td>Lutz Frawley</td><td>3</td><td>Verkauf</td><td>2</td><td>Verkaufsmesse</td><td>Präsentationsvorbereitung</td><td>160</td><td>35.00</td></tr>",
            "</table>"
        ]
    }
}
],
            "execution_count": 1
        },
        {
            "cell_type": "code",
            "source": [
                "-- 1NF\r\n",
                "SELECT p1.PersonalNr, p1.Name, p1.Vorname, a.AbtNr, a.Name AS AbtBezeichnung,\r\n",
                "    COALESCE(CAST(p2.ProjNr AS CHAR(3)), '') AS ProjNr, \r\n",
                "    COALESCE(p2.Beschreibung, '') AS ProjektBeschreibung, \r\n",
                "    COALESCE(t.Tätigkeit, '') AS Tätigkeit,\r\n",
                "    COALESCE(CAST(aa.Stunden AS CHAR(3)), '') AS Stunden,\r\n",
                "    COALESCE(CAST(t.Stundenlohn AS CHAR(5)), '') AS Stundenlohn\r\n",
                "FROM Personal AS p1\r\n",
                "LEFT JOIN Abteilung AS a ON p1.AbtNr = a.AbtNr\r\n",
                "LEFT JOIN Arbeitet_An AS aa ON p1.PersonalNr = aa.PersonalNr\r\n",
                "LEFT JOIN Projekt AS p2 ON p2.ProjNr = aa.ProjNr\r\n",
                "LEFT JOIN Tätigkeit AS t ON aa.TätigkeitsNr = t.TätigkeitsNr\r\n",
                "ORDER BY p1.PersonalNr;\r\n",
                ""
            ],
            "metadata": {
                "language": "sql",
                "azdata_cell_guid": "e7e4c04d-433c-443f-a6b1-f04e829de646"
            },
            "outputs": [],
            "execution_count": null
        },
        {
            "cell_type": "code",
            "source": [
                "-- 2NF\r\n",
                "SELECT PersonalNr, Name, Vorname, AbtNr FROM Personal;\r\n",
                "\r\n",
                "SELECT AbtNr, Name FROM Abteilung;\r\n",
                "\r\n",
                "SELECT ProjNr, Beschreibung FROM Projekt;\r\n",
                "\r\n",
                "SELECT aa.PersonalNr, aa.ProjNr, t.Tätigkeit, aa.Stunden, t.Stundenlohn\r\n",
                "FROM Arbeitet_An AS aa\r\n",
                "JOIN Tätigkeit AS t ON aa.TätigkeitsNr = t.TätigkeitsNr;"
            ],
            "metadata": {
                "language": "sql",
                "azdata_cell_guid": "3dba7265-513d-4af7-8bc2-b1eea64b5b09"
            },
            "outputs": [],
            "execution_count": null
        },
        {
            "cell_type": "code",
            "source": [
                "-- 3NF\r\n",
                "\r\n",
                "SELECT PersonalNr, ProjNr, TätigkeitsNr, Stunden FROM Arbeitet_An;\r\n",
                "\r\n",
                "SELECT TätigkeitsNr, Tätigkeit, Stundenlohn FROM Tätigkeit;"
            ],
            "metadata": {
                "language": "sql",
                "azdata_cell_guid": "7784f939-5a83-44d8-95df-bb62cf234e24"
            },
            "outputs": [],
            "execution_count": null
        }
    ]
}