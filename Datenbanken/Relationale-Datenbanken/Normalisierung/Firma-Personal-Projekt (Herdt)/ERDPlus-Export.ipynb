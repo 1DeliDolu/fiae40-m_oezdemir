{
    "metadata": {
        "kernelspec": {
            "name": "SQL",
            "display_name": "SQL",
            "language": "sql"
        },
        "language_info": {
            "name": "sql",
            "version": ""
        }
    },
    "nbformat_minor": 2,
    "nbformat": 4,
    "cells": [
        {
            "cell_type": "markdown",
            "source": [
                "# ERDPlus Export des Datenmodells _NormalisierungsDemo_\n",
                "\n",
                "**Code nicht ausführen:** Hier fehlen Anweisungen zum Erstellen der Datenbank!"
            ],
            "metadata": {
                "language": "sql",
                "azdata_cell_guid": "0bfa5c71-0c6c-4059-9604-2b6ae47efc9d"
            },
            "attachments": {}
        },
        {
            "cell_type": "code",
            "source": [
                "CREATE TABLE Abteilung\r\n",
                "(\r\n",
                "  AbtNr INT NOT NULL,\r\n",
                "  Name VARCHAR(60) NOT NULL,\r\n",
                "  PRIMARY KEY (AbtNr)\r\n",
                ");\r\n",
                "\r\n",
                "CREATE TABLE Projekt\r\n",
                "(\r\n",
                "  ProjNr INT NOT NULL,\r\n",
                "  Beschreibung VARCHAR(120) NOT NULL,\r\n",
                "  PRIMARY KEY (ProjNr)\r\n",
                ");\r\n",
                "\r\n",
                "CREATE TABLE Tätigkeit\r\n",
                "(\r\n",
                "  TätigkeitsNr INT NOT NULL,\r\n",
                "  Tätigkeit VARCHAR(60) NOT NULL,\r\n",
                "  Stundenlohn DECIMAL(9,2) NOT NULL,\r\n",
                "  PRIMARY KEY (TätigkeitsNr)\r\n",
                ");\r\n",
                "\r\n",
                "CREATE TABLE Personal\r\n",
                "(\r\n",
                "  PersonalNr INT NOT NULL,\r\n",
                "  Name VARCHAR(60) NOT NULL,\r\n",
                "  Vorname VARCHAR(60) NOT NULL,\r\n",
                "  AbtNr INT NOT NULL,\r\n",
                "  PRIMARY KEY (PersonalNr),\r\n",
                "  FOREIGN KEY (AbtNr) REFERENCES Abteilung(AbtNr)\r\n",
                ");\r\n",
                "\r\n",
                "CREATE TABLE Arbeitet_An\r\n",
                "(\r\n",
                "  Stunden INT NOT NULL,\r\n",
                "  TätigkeitsNr INT NOT NULL,\r\n",
                "  PersonalNr INT NOT NULL,\r\n",
                "  ProjNr INT NOT NULL,\r\n",
                "  PRIMARY KEY (PersonalNr, ProjNr),\r\n",
                "  FOREIGN KEY (TätigkeitsNr) REFERENCES Tätigkeit(TätigkeitsNr),\r\n",
                "  FOREIGN KEY (PersonalNr) REFERENCES Personal(PersonalNr),\r\n",
                "  FOREIGN KEY (ProjNr) REFERENCES Projekt(ProjNr)\r\n",
                ");\r\n",
                ""
            ],
            "metadata": {
                "azdata_cell_guid": "d6b84106-35de-4d46-9ab8-89ce2a49e1fd",
                "language": "sql"
            },
            "outputs": [],
            "execution_count": null
        }
    ]
}