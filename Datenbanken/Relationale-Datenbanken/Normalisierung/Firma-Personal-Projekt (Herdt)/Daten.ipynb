{
    "metadata": {
        "kernelspec": {
            "name": "SQL",
            "display_name": "SQL",
            "language": "sql"
        },
        "language_info": {
            "name": "sql",
            "version": ""
        }
    },
    "nbformat_minor": 2,
    "nbformat": 4,
    "cells": [
        {
            "cell_type": "markdown",
            "source": [
                "# Datensätze erfassen in Datenbank _NormalisierungsDemo_"
            ],
            "metadata": {
                "azdata_cell_guid": "ad94c5cb-7bba-4c1a-8ed6-e7f12ee55c7d"
            },
            "attachments": {}
        },
        {
            "cell_type": "code",
            "source": [
                "USE NormalisierungsDemo;"
            ],
            "metadata": {
                "azdata_cell_guid": "64174a9d-1f04-4223-9710-f9f01350eb6b",
                "language": "sql",
                "tags": []
            },
            "outputs": [
                {
                    "output_type": "display_data",
                    "data": {
                        "text/html": "Commands completed successfully."
                    },
                    "metadata": {}
                },
                {
                    "output_type": "display_data",
                    "data": {
                        "text/html": "Total execution time: 00:00:00.001"
                    },
                    "metadata": {}
                }
            ],
            "execution_count": 3
        },
        {
            "cell_type": "markdown",
            "source": [
                "## INSERT-Anweisungen\n",
                "\n",
                "Die Tabellen **Personal** und **Arbeitet\\_An** werden _zuletzt_ befüllt, da ihre **Fremdschlüssel** sich auf Werte in anderen Tabellen beziehen."
            ],
            "metadata": {
                "azdata_cell_guid": "37e59dad-b78b-481e-86ea-1c95431a9d37"
            },
            "attachments": {}
        },
        {
            "cell_type": "code",
            "source": [
                "-- Abteilung\r\n",
                "INSERT INTO Abteilung (AbtNr, Name)\r\n",
                "VALUES (1, 'Personal'),\r\n",
                "    (2, 'Einkauf'),\r\n",
                "    (3, 'Verkauf');"
            ],
            "metadata": {
                "language": "sql",
                "azdata_cell_guid": "942c5431-9941-4f23-b368-4a9c7941eaef",
                "tags": []
            },
            "outputs": [
                {
                    "output_type": "display_data",
                    "data": {
                        "text/html": "(3 rows affected)"
                    },
                    "metadata": {}
                },
                {
                    "output_type": "display_data",
                    "data": {
                        "text/html": "Total execution time: 00:00:00.004"
                    },
                    "metadata": {}
                }
            ],
            "execution_count": 4
        },
        {
            "cell_type": "code",
            "source": [
                "-- Projekt\r\n",
                "INSERT INTO Projekt (ProjNr, Beschreibung)\r\n",
                "VALUES (1, 'Kundenumfrage'),\r\n",
                "    (2, 'Verkaufsmesse'),\r\n",
                "    (3, 'Konkurrenzanalyse');"
            ],
            "metadata": {
                "language": "sql",
                "azdata_cell_guid": "74e40ef9-7fb7-4a1e-820d-0c99db1d9fc1",
                "tags": []
            },
            "outputs": [
                {
                    "output_type": "display_data",
                    "data": {
                        "text/html": "(3 rows affected)"
                    },
                    "metadata": {}
                },
                {
                    "output_type": "display_data",
                    "data": {
                        "text/html": "Total execution time: 00:00:00.008"
                    },
                    "metadata": {}
                }
            ],
            "execution_count": 5
        },
        {
            "cell_type": "code",
            "source": [
                "-- Tätigkeit\r\n",
                "INSERT INTO Tätigkeit (TätigkeitsNr, Tätigkeit, Stundenlohn)\r\n",
                "VALUES (1, 'Leitung', 50),\r\n",
                "    (2, 'Bearbeitung', 30),\r\n",
                "    (3, 'Präsentationsvorbereitung', 35);"
            ],
            "metadata": {
                "language": "sql",
                "azdata_cell_guid": "b229af19-6ff4-4704-ae77-c6be673e9b92",
                "tags": []
            },
            "outputs": [
                {
                    "output_type": "display_data",
                    "data": {
                        "text/html": "(3 rows affected)"
                    },
                    "metadata": {}
                },
                {
                    "output_type": "display_data",
                    "data": {
                        "text/html": "Total execution time: 00:00:00.008"
                    },
                    "metadata": {}
                }
            ],
            "execution_count": 6
        },
        {
            "cell_type": "code",
            "source": [
                "-- Personal\r\n",
                "INSERT INTO Personal (PersonalNr, Name, Vorname, AbtNr)\r\n",
                "VALUES (1, 'Eichenau', 'Maria', 1),\r\n",
                "    (2, 'Glahn', 'Stefanie', 2),\r\n",
                "    (3, 'Kirsch', 'Karin', 2),\r\n",
                "    (4, 'Conolly', 'Sean', 3); --,\r\n",
                "   -- (5, 'Frawley', 'Lutz', 3); in Transaktionsbeispiel enthalten"
            ],
            "metadata": {
                "language": "sql",
                "azdata_cell_guid": "f6b14889-5d41-46c9-97b8-702e723b3f40",
                "tags": []
            },
            "outputs": [
                {
                    "output_type": "display_data",
                    "data": {
                        "text/html": "(4 rows affected)"
                    },
                    "metadata": {}
                },
                {
                    "output_type": "display_data",
                    "data": {
                        "text/html": "Total execution time: 00:00:00.009"
                    },
                    "metadata": {}
                }
            ],
            "execution_count": 7
        },
        {
            "cell_type": "code",
            "source": [
                "-- Arbeitet_An\r\n",
                "INSERT INTO Arbeitet_An (PersonalNr, ProjNr, TätigkeitsNr, Stunden)\r\n",
                "VALUES (2, 1, 1, 25),\r\n",
                "    (3, 1, 2, 55),\r\n",
                "    (4, 1, 2, 70),\r\n",
                "    (4, 2, 1, 25),\r\n",
                "   -- (5, 2, 3, 160), in Transaktionsbeispiel enthalten\r\n",
                "    (4, 3, 1, 25),\r\n",
                "    (2, 3, 2, 80),\r\n",
                "    (3, 3, 2, 65);\r\n",
                ""
            ],
            "metadata": {
                "language": "sql",
                "azdata_cell_guid": "8a406bf5-3597-4040-8152-c44b699c0a96",
                "tags": []
            },
            "outputs": [
                {
                    "output_type": "display_data",
                    "data": {
                        "text/html": "(7 rows affected)"
                    },
                    "metadata": {}
                },
                {
                    "output_type": "display_data",
                    "data": {
                        "text/html": "Total execution time: 00:00:00.017"
                    },
                    "metadata": {}
                }
            ],
            "execution_count": 8
        },
        {
            "cell_type": "markdown",
            "source": [
                "## Transaktionen"
            ],
            "metadata": {
                "azdata_cell_guid": "a4d99341-a8af-456c-8be8-9d3f6f4827ba"
            },
            "attachments": {}
        },
        {
            "cell_type": "code",
            "source": [
                "-- Beispiel einer erfolgreichen Transaktion \r\n",
                "-- Mitarbeiter Lutz Frawley wird angelegt und einem Projekt zugeordnet\r\n",
                "USE NormalisierungsDemo;\r\n",
                "BEGIN\r\n",
                "    BEGIN TRANSACTION; -- Transaktion starten\r\n",
                "    BEGIN TRY\r\n",
                "        INSERT INTO Personal (PersonalNr, Name, Vorname, AbtNr)\r\n",
                "            VALUES(5, 'Frawley', 'Lutz', 3);\r\n",
                "        INSERT INTO Arbeitet_An (PersonalNr, ProjNr, TätigkeitsNr, Stunden)\r\n",
                "            VALUES (5, 2, 3, 160);\r\n",
                "        COMMIT TRANSACTION; -- Transaktion bestätigen\r\n",
                "    END TRY\r\n",
                "    BEGIN CATCH\r\n",
                "        ROLLBACK TRANSACTION; -- Transaktion annullieren\r\n",
                "        THROW; -- Fehlermeldung anzeigen\r\n",
                "    END CATCH;\r\n",
                "END;"
            ],
            "metadata": {
                "language": "sql",
                "azdata_cell_guid": "d2af9a70-b5ac-4f06-bb48-77a9b37118b2"
            },
            "outputs": [
                {
                    "output_type": "display_data",
                    "data": {
                        "text/html": "(1 row affected)"
                    },
                    "metadata": {}
                },
                {
                    "output_type": "display_data",
                    "data": {
                        "text/html": "(1 row affected)"
                    },
                    "metadata": {}
                },
                {
                    "output_type": "display_data",
                    "data": {
                        "text/html": "Total execution time: 00:00:00.004"
                    },
                    "metadata": {}
                }
            ],
            "execution_count": 9
        },
        {
            "cell_type": "code",
            "source": [
                "-- Beispiel einer fehlerhaften Transaktion\r\n",
                "-- Mitarbeiter Jane Doe wird angelegt und einem Projekt zugeordnet\r\n",
                "USE NormalisierungsDemo;\r\n",
                "BEGIN\r\n",
                "    BEGIN TRANSACTION; -- Transaktion starten\r\n",
                "    BEGIN TRY\r\n",
                "        INSERT INTO Personal (PersonalNr, Name, Vorname, AbtNr)\r\n",
                "            VALUES(6, 'Doe', 'Jane', 3);\r\n",
                "        INSERT INTO Arbeitet_An (PersonalNr, ProjNr, TätigkeitsNr, Stunden)\r\n",
                "            VALUES (6, 2, 99, 160); -- ungültige Tätigkeitsnummer!\r\n",
                "        COMMIT TRANSACTION; -- Transaktion bestätigen\r\n",
                "    END TRY\r\n",
                "    BEGIN CATCH\r\n",
                "        ROLLBACK TRANSACTION; -- Transaktion annullieren\r\n",
                "        THROW; -- Fehlermeldung anzeigen\r\n",
                "    END CATCH;\r\n",
                "END;"
            ],
            "metadata": {
                "language": "sql",
                "azdata_cell_guid": "4b1afc78-60d0-4258-a2ab-0d2668ca2069"
            },
            "outputs": [
                {
                    "output_type": "display_data",
                    "data": {
                        "text/html": "(1 row affected)"
                    },
                    "metadata": {}
                },
                {
                    "output_type": "display_data",
                    "data": {
                        "text/html": "(0 rows affected)"
                    },
                    "metadata": {}
                },
                {
                    "output_type": "error",
                    "evalue": "Msg 547, Level 16, State 0, Line 9\r\nDie INSERT-Anweisung steht in Konflikt mit der FOREIGN KEY-Einschränkung \"fk_ArbeitetAn_Tätigkeit\". Der Konflikt trat in der NormalisierungsDemo-Datenbank, Tabelle \"dbo.Tätigkeit\", column 'TätigkeitsNr' auf.",
                    "ename": "",
                    "traceback": []
                },
                {
                    "output_type": "display_data",
                    "data": {
                        "text/html": "Total execution time: 00:00:00.006"
                    },
                    "metadata": {}
                }
            ],
            "execution_count": 10
        },
        {
            "cell_type": "code",
            "source": [
                "-- Jane Doe wurde nicht angelegt!\r\n",
                "SELECT PersonalNr, Name, Vorname FROM Personal;"
            ],
            "metadata": {
                "language": "sql",
                "azdata_cell_guid": "800a16b7-e17e-4785-9d21-d601079fa7c2"
            },
            "outputs": [
{
    "output_type": "display_data",
    "data": {
        "text/html": "(5 rows affected)"
    },
    "metadata": {}
}, {
    "output_type": "display_data",
    "data": {
        "text/html": "Total execution time: 00:00:00.108"
    },
    "metadata": {}
}, {
    "output_type": "execute_result",
    "metadata": {},
    "execution_count": 11,
    "data": {
        "application/vnd.dataresource+json": {
            "schema": {
                "fields": [
                    {
                        "name": "PersonalNr"
                    },
                    {
                        "name": "Name"
                    },
                    {
                        "name": "Vorname"
                    }
                ]
            },
            "data": [
                {
                    "PersonalNr": "1",
                    "Name": "Eichenau",
                    "Vorname": "Maria"
                },
                {
                    "PersonalNr": "2",
                    "Name": "Glahn",
                    "Vorname": "Stefanie"
                },
                {
                    "PersonalNr": "3",
                    "Name": "Kirsch",
                    "Vorname": "Karin"
                },
                {
                    "PersonalNr": "4",
                    "Name": "Conolly",
                    "Vorname": "Sean"
                },
                {
                    "PersonalNr": "5",
                    "Name": "Frawley",
                    "Vorname": "Lutz"
                }
            ]
        },
        "text/html": [
            "<table>",
            "<tr><th>PersonalNr</th><th>Name</th><th>Vorname</th></tr>",
            "<tr><td>1</td><td>Eichenau</td><td>Maria</td></tr>",
            "<tr><td>2</td><td>Glahn</td><td>Stefanie</td></tr>",
            "<tr><td>3</td><td>Kirsch</td><td>Karin</td></tr>",
            "<tr><td>4</td><td>Conolly</td><td>Sean</td></tr>",
            "<tr><td>5</td><td>Frawley</td><td>Lutz</td></tr>",
            "</table>"
        ]
    }
}
],
            "execution_count": 11
        }
    ]
}