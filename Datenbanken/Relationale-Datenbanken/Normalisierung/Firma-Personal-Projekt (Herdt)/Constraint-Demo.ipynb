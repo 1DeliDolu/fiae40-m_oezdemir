{
    "metadata": {
        "kernelspec": {
            "name": "SQL",
            "display_name": "SQL",
            "language": "sql"
        },
        "language_info": {
            "name": "sql",
            "version": ""
        }
    },
    "nbformat_minor": 2,
    "nbformat": 4,
    "cells": [
        {
            "cell_type": "markdown",
            "source": [
                "# Demonstration: Auswirkungen von Constraints"
            ],
            "metadata": {
                "language": "sql",
                "azdata_cell_guid": "7b0c09b2-b0b0-4c00-a8b9-16a3491532b3"
            },
            "attachments": {}
        },
        {
            "cell_type": "code",
            "source": [
                "/*\r\n",
                "\tWir probieren die Effekte von CONSTRAINTS\r\n",
                "*/\r\n",
                "-- Daten erfassen, DEFAULT Constraint in Aktion\r\n",
                "INSERT INTO Tätigkeit (TätigkeitsNr, Tätigkeit)\r\n",
                "VALUES (4, 'Recherche'),\r\n",
                "\t(5, 'Dokumentation');\r\n",
                "\r\n",
                "-- Ankucken, was steht alles drin\r\n",
                "SELECT * FROM Tätigkeit;\r\n",
                "\r\n",
                "--Projektion: welche Spalten / Selektion: welche Zeilen\r\n",
                "SELECT TätigkeitsNr, Tätigkeit, Stundenlohn -- Projektion\r\n",
                "FROM Tätigkeit\r\n",
                "WHERE TätigkeitsNr = 5; -- Filter: Selektion\r\n",
                "\r\n",
                "-- Unique Constraint in Aktion\r\n",
                "INSERT INTO Tätigkeit (TätigkeitsNr, Tätigkeit)\r\n",
                "VALUES\t(6, 'Dokumentation');\r\n",
                "\r\n",
                "-- Check Constraint in Aktion\r\n",
                "INSERT INTO Tätigkeit (TätigkeitsNr, Tätigkeit, Stundenlohn)\r\n",
                "VALUES (7, 'Kaffee kochen', 99);"
            ],
            "metadata": {
                "azdata_cell_guid": "6c178e72-a0a7-44de-a8cd-064988bf83f8",
                "language": "sql"
            },
            "outputs": [
{
    "output_type": "display_data",
    "data": {
        "text/html": "(2 rows affected)"
    },
    "metadata": {}
}, {
    "output_type": "display_data",
    "data": {
        "text/html": "(5 rows affected)"
    },
    "metadata": {}
}, {
    "output_type": "display_data",
    "data": {
        "text/html": "(1 row affected)"
    },
    "metadata": {}
}, {
    "output_type": "display_data",
    "data": {
        "text/html": "Die Anweisung wurde beendet."
    },
    "metadata": {}
}, {
    "output_type": "display_data",
    "data": {
        "text/html": "Die Anweisung wurde beendet."
    },
    "metadata": {}
}, {
    "output_type": "display_data",
    "data": {
        "text/html": "Total execution time: 00:00:00.057"
    },
    "metadata": {}
}, {
    "output_type": "execute_result",
    "metadata": {},
    "execution_count": 1,
    "data": {
        "application/vnd.dataresource+json": {
            "schema": {
                "fields": [
                    {
                        "name": "TätigkeitsNr"
                    },
                    {
                        "name": "Tätigkeit"
                    },
                    {
                        "name": "Stundenlohn"
                    }
                ]
            },
            "data": [
                {
                    "TätigkeitsNr": "1",
                    "Tätigkeit": "Leitung",
                    "Stundenlohn": "50.00"
                },
                {
                    "TätigkeitsNr": "2",
                    "Tätigkeit": "Bearbeitung",
                    "Stundenlohn": "30.00"
                },
                {
                    "TätigkeitsNr": "3",
                    "Tätigkeit": "Präsentationsvorbereitung",
                    "Stundenlohn": "35.00"
                },
                {
                    "TätigkeitsNr": "4",
                    "Tätigkeit": "Recherche",
                    "Stundenlohn": "20.00"
                },
                {
                    "TätigkeitsNr": "5",
                    "Tätigkeit": "Dokumentation",
                    "Stundenlohn": "20.00"
                }
            ]
        },
        "text/html": [
            "<table>",
            "<tr><th>TätigkeitsNr</th><th>Tätigkeit</th><th>Stundenlohn</th></tr>",
            "<tr><td>1</td><td>Leitung</td><td>50.00</td></tr>",
            "<tr><td>2</td><td>Bearbeitung</td><td>30.00</td></tr>",
            "<tr><td>3</td><td>Präsentationsvorbereitung</td><td>35.00</td></tr>",
            "<tr><td>4</td><td>Recherche</td><td>20.00</td></tr>",
            "<tr><td>5</td><td>Dokumentation</td><td>20.00</td></tr>",
            "</table>"
        ]
    }
}, {
    "output_type": "execute_result",
    "metadata": {},
    "execution_count": 1,
    "data": {
        "application/vnd.dataresource+json": {
            "schema": {
                "fields": [
                    {
                        "name": "TätigkeitsNr"
                    },
                    {
                        "name": "Tätigkeit"
                    },
                    {
                        "name": "Stundenlohn"
                    }
                ]
            },
            "data": [
                {
                    "TätigkeitsNr": "5",
                    "Tätigkeit": "Dokumentation",
                    "Stundenlohn": "20.00"
                }
            ]
        },
        "text/html": [
            "<table>",
            "<tr><th>TätigkeitsNr</th><th>Tätigkeit</th><th>Stundenlohn</th></tr>",
            "<tr><td>5</td><td>Dokumentation</td><td>20.00</td></tr>",
            "</table>"
        ]
    }
}, {
    "output_type": "error",
    "evalue": "Msg 2627, Level 14, State 1, Line 18\r\nVerletzung der UNIQUE KEY-Einschränkung \"uq_Tätigkeit\". Ein doppelter Schlüssel kann in das dbo.Tätigkeit-Objekt nicht eingefügt werden. Der doppelte Schlüsselwert ist (Dokumentation).",
    "ename": "",
    "traceback": []
}, {
    "output_type": "error",
    "evalue": "Msg 547, Level 16, State 0, Line 22\r\nDie INSERT-Anweisung steht in Konflikt mit der CHECK-Einschränkung \"ck_Stundenlohn\". Der Konflikt trat in der NormalisierungsDemo-Datenbank, Tabelle \"dbo.Tätigkeit\", column 'Stundenlohn' auf.",
    "ename": "",
    "traceback": []
}
],
            "execution_count": 1
        },
        {
            "cell_type": "code",
            "source": [
                "-- Effekt eines FK Constraints\r\n",
                "INSERT INTO Personal (PersonalNr, Name, Vorname, AbtNr)\r\n",
                "VALUES (6, 'Schmidt', 'Paula', 99);"
            ],
            "metadata": {
                "language": "sql",
                "azdata_cell_guid": "4602d6b5-fe45-4336-8665-3eda3bf1cf36"
            },
            "outputs": [],
            "execution_count": null
        }
    ]
}