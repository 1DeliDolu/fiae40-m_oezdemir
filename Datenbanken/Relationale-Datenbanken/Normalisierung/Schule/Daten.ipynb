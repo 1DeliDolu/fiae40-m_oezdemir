{
    "metadata": {
        "kernelspec": {
            "name": "SQL",
            "display_name": "SQL",
            "language": "sql"
        },
        "language_info": {
            "name": "sql",
            "version": ""
        }
    },
    "nbformat_minor": 2,
    "nbformat": 4,
    "cells": [
        {
            "cell_type": "markdown",
            "source": [
                "# Datensätze in Datenbank _Schule_ einfügen"
            ],
            "metadata": {
                "language": "sql",
                "azdata_cell_guid": "ab8a073c-b368-4bfa-9a6b-9ceb0eed42dc"
            },
            "attachments": {}
        },
        {
            "cell_type": "code",
            "source": [
                "USE Schule;\r\n",
                "\r\n",
                "INSERT INTO Lernangebot (Beschreibung)\r\n",
                "VALUES ('Elektronik'),\r\n",
                "    ('Tanz'),\r\n",
                "    ('Chor');\r\n",
                "\r\n",
                "INSERT INTO Klasse (Klasse, Klassenlehrer)\r\n",
                "VALUES ('11a', 'Lempel'),\r\n",
                "    ('11b', 'Sommer'),\r\n",
                "    ('12a', 'Breier');\r\n",
                "\r\n",
                "INSERT INTO Schueler (Nachname, Vorname, Klasse)\r\n",
                "VALUES ('Jürgens', 'Ina', '11a'),\r\n",
                "    ('Schmidt', 'Tom', '12a'),\r\n",
                "    ('Jäger', 'Franz', '11a'),\r\n",
                "    ('Olsen', 'Ina', '11b'),\r\n",
                "    ('Jürgens', 'Paula', '12a');\r\n",
                "\r\n",
                "INSERT INTO Lernangebotsuebersicht (SchuelerNr, LernangebotsNr, Stunden)\r\n",
                "VALUES (1, 2, 12),\r\n",
                "    (2, 3, 22),\r\n",
                "    (3, 1, 15),\r\n",
                "    (3, 2, 12),\r\n",
                "    (3, 3, 2),\r\n",
                "    (4, 2, 5),\r\n",
                "    (5, 1, 23);    \r\n",
                ""
            ],
            "metadata": {
                "azdata_cell_guid": "5e22a0f3-083c-4568-ae3f-a907c9599dc8",
                "language": "sql"
            },
            "outputs": [
                {
                    "output_type": "display_data",
                    "data": {
                        "text/html": "(3 rows affected)"
                    },
                    "metadata": {}
                },
                {
                    "output_type": "display_data",
                    "data": {
                        "text/html": "(3 rows affected)"
                    },
                    "metadata": {}
                },
                {
                    "output_type": "display_data",
                    "data": {
                        "text/html": "(5 rows affected)"
                    },
                    "metadata": {}
                },
                {
                    "output_type": "display_data",
                    "data": {
                        "text/html": "(7 rows affected)"
                    },
                    "metadata": {}
                },
                {
                    "output_type": "display_data",
                    "data": {
                        "text/html": "Total execution time: 00:00:00.020"
                    },
                    "metadata": {}
                }
            ],
            "execution_count": 1
        },
        {
            "cell_type": "code",
            "source": [
                "SELECT * FROM Lernangebot;"
            ],
            "metadata": {
                "language": "sql",
                "azdata_cell_guid": "c89ffd89-f6bf-494f-afd1-1ff735acee08"
            },
            "outputs": [
{
    "output_type": "display_data",
    "data": {
        "text/html": "(3 rows affected)"
    },
    "metadata": {}
}, {
    "output_type": "display_data",
    "data": {
        "text/html": "Total execution time: 00:00:00.017"
    },
    "metadata": {}
}, {
    "output_type": "execute_result",
    "metadata": {},
    "execution_count": 3,
    "data": {
        "application/vnd.dataresource+json": {
            "schema": {
                "fields": [
                    {
                        "name": "LernangebotsNr"
                    },
                    {
                        "name": "Beschreibung"
                    }
                ]
            },
            "data": [
                {
                    "LernangebotsNr": "1",
                    "Beschreibung": "Elektronik"
                },
                {
                    "LernangebotsNr": "2",
                    "Beschreibung": "Tanz"
                },
                {
                    "LernangebotsNr": "3",
                    "Beschreibung": "Chor"
                }
            ]
        },
        "text/html": [
            "<table>",
            "<tr><th>LernangebotsNr</th><th>Beschreibung</th></tr>",
            "<tr><td>1</td><td>Elektronik</td></tr>",
            "<tr><td>2</td><td>Tanz</td></tr>",
            "<tr><td>3</td><td>Chor</td></tr>",
            "</table>"
        ]
    }
}
],
            "execution_count": 3
        }
    ]
}