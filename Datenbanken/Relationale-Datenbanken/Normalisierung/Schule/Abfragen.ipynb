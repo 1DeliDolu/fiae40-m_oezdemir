{
    "metadata": {
        "kernelspec": {
            "name": "SQL",
            "display_name": "SQL",
            "language": "sql"
        },
        "language_info": {
            "name": "sql",
            "version": ""
        }
    },
    "nbformat_minor": 2,
    "nbformat": 4,
    "cells": [
        {
            "cell_type": "markdown",
            "source": [
                "# Abfragen zur Darstellung der _Normalformen_ der Schule-Datenbank\n",
                "\n",
                "Die Datenbank wurde in der dritten Normalform erstellt. Die nicht-normalisierte Tabelle, sowie die erste und zweite Normalform, werden durch folgende Abfragen dargestellt."
            ],
            "metadata": {
                "language": "sql",
                "azdata_cell_guid": "75252fb0-8032-4a57-be0b-2811f5dfb241"
            },
            "attachments": {}
        },
        {
            "cell_type": "code",
            "source": [
                "-- Unstrukturiert\r\n",
                "SELECT s.SchuelerNr, CONCAT(s.Vorname, ' ', s.Nachname) AS Schüler, s.Klasse, k.Klassenlehrer, \r\n",
                "    STRING_AGG(la.LernangebotsNr, ', ') AS LernangebotsNr, \r\n",
                "    STRING_AGG(la.Beschreibung, ', ') AS Beschreibung, \r\n",
                "    STRING_AGG(lu.Stunden, ', ') AS Stunden\r\n",
                "FROM Klasse AS k\r\n",
                "JOIN Schueler AS s ON k.Klasse = s.Klasse\r\n",
                "JOIN Lernangebotsuebersicht AS lu ON s.SchuelerNr = lu.SchuelerNr\r\n",
                "JOIN Lernangebot AS la ON lu.LernangebotsNr = la.LernangebotsNr\r\n",
                "GROUP BY s.SchuelerNr, s.Nachname, s.Vorname, s.Klasse, k.Klassenlehrer;"
            ],
            "metadata": {
                "azdata_cell_guid": "46d7ff11-2119-44be-bf17-7c8309eae20a",
                "language": "sql",
                "tags": []
            },
            "outputs": [
                {
                    "output_type": "display_data",
                    "data": {
                        "text/html": "(5 rows affected)"
                    },
                    "metadata": {}
                },
                {
                    "output_type": "display_data",
                    "data": {
                        "text/html": "Total execution time: 00:00:00.075"
                    },
                    "metadata": {}
                },
                {
                    "output_type": "execute_result",
                    "metadata": {},
                    "execution_count": 2,
                    "data": {
                        "application/vnd.dataresource+json": {
                            "schema": {
                                "fields": [
                                    {
                                        "name": "SchuelerNr"
                                    },
                                    {
                                        "name": "Schüler"
                                    },
                                    {
                                        "name": "Klasse"
                                    },
                                    {
                                        "name": "Klassenlehrer"
                                    },
                                    {
                                        "name": "LernangebotsNr"
                                    },
                                    {
                                        "name": "Beschreibung"
                                    },
                                    {
                                        "name": "Stunden"
                                    }
                                ]
                            },
                            "data": [
                                {
                                    "SchuelerNr": "1",
                                    "Schüler": "Ina Jürgens",
                                    "Klasse": "11a",
                                    "Klassenlehrer": "Lempel",
                                    "LernangebotsNr": "2",
                                    "Beschreibung": "Tanz",
                                    "Stunden": "12"
                                },
                                {
                                    "SchuelerNr": "2",
                                    "Schüler": "Tom Schmidt",
                                    "Klasse": "12a",
                                    "Klassenlehrer": "Breier",
                                    "LernangebotsNr": "3",
                                    "Beschreibung": "Chor",
                                    "Stunden": "22"
                                },
                                {
                                    "SchuelerNr": "3",
                                    "Schüler": "Franz Jäger",
                                    "Klasse": "11a",
                                    "Klassenlehrer": "Lempel",
                                    "LernangebotsNr": "1, 2, 3",
                                    "Beschreibung": "Elektronik, Tanz, Chor",
                                    "Stunden": "15, 12, 2"
                                },
                                {
                                    "SchuelerNr": "4",
                                    "Schüler": "Ina Olsen",
                                    "Klasse": "11b",
                                    "Klassenlehrer": "Sommer",
                                    "LernangebotsNr": "2",
                                    "Beschreibung": "Tanz",
                                    "Stunden": "5"
                                },
                                {
                                    "SchuelerNr": "5",
                                    "Schüler": "Paula Jürgens",
                                    "Klasse": "12a",
                                    "Klassenlehrer": "Breier",
                                    "LernangebotsNr": "1",
                                    "Beschreibung": "Elektronik",
                                    "Stunden": "23"
                                }
                            ]
                        },
                        "text/html": [
                            "<table>",
                            "<tr><th>SchuelerNr</th><th>Schüler</th><th>Klasse</th><th>Klassenlehrer</th><th>LernangebotsNr</th><th>Beschreibung</th><th>Stunden</th></tr>",
                            "<tr><td>1</td><td>Ina Jürgens</td><td>11a</td><td>Lempel</td><td>2</td><td>Tanz</td><td>12</td></tr>",
                            "<tr><td>2</td><td>Tom Schmidt</td><td>12a</td><td>Breier</td><td>3</td><td>Chor</td><td>22</td></tr>",
                            "<tr><td>3</td><td>Franz Jäger</td><td>11a</td><td>Lempel</td><td>1, 2, 3</td><td>Elektronik, Tanz, Chor</td><td>15, 12, 2</td></tr>",
                            "<tr><td>4</td><td>Ina Olsen</td><td>11b</td><td>Sommer</td><td>2</td><td>Tanz</td><td>5</td></tr>",
                            "<tr><td>5</td><td>Paula Jürgens</td><td>12a</td><td>Breier</td><td>1</td><td>Elektronik</td><td>23</td></tr>",
                            "</table>"
                        ]
                    }
                }
            ],
            "execution_count": 2
        },
        {
            "cell_type": "code",
            "source": [
                "-- 1NF\r\n",
                "SELECT s.SchuelerNr, s.Nachname, s.Vorname, s.Klasse,\r\n",
                "    k.Klassenlehrer, la.LernangebotsNr, la.Beschreibung, lu.Stunden\r\n",
                "FROM Klasse AS k\r\n",
                "JOIN Schueler AS s ON k.Klasse = s.Klasse\r\n",
                "JOIN Lernangebotsuebersicht AS lu ON s.SchuelerNr = lu.SchuelerNr\r\n",
                "JOIN Lernangebot AS la ON lu.LernangebotsNr = la.LernangebotsNr;"
            ],
            "metadata": {
                "language": "sql",
                "azdata_cell_guid": "9e445693-c7e7-4a59-a56f-56e1c3d2ee0c",
                "tags": []
            },
            "outputs": [
                {
                    "output_type": "display_data",
                    "data": {
                        "text/html": "(7 rows affected)"
                    },
                    "metadata": {}
                },
                {
                    "output_type": "display_data",
                    "data": {
                        "text/html": "Total execution time: 00:00:00.042"
                    },
                    "metadata": {}
                },
                {
                    "output_type": "execute_result",
                    "metadata": {},
                    "execution_count": 3,
                    "data": {
                        "application/vnd.dataresource+json": {
                            "schema": {
                                "fields": [
                                    {
                                        "name": "SchuelerNr"
                                    },
                                    {
                                        "name": "Nachname"
                                    },
                                    {
                                        "name": "Vorname"
                                    },
                                    {
                                        "name": "Klasse"
                                    },
                                    {
                                        "name": "Klassenlehrer"
                                    },
                                    {
                                        "name": "LernangebotsNr"
                                    },
                                    {
                                        "name": "Beschreibung"
                                    },
                                    {
                                        "name": "Stunden"
                                    }
                                ]
                            },
                            "data": [
                                {
                                    "SchuelerNr": "1",
                                    "Nachname": "Jürgens",
                                    "Vorname": "Ina",
                                    "Klasse": "11a",
                                    "Klassenlehrer": "Lempel",
                                    "LernangebotsNr": "2",
                                    "Beschreibung": "Tanz",
                                    "Stunden": "12"
                                },
                                {
                                    "SchuelerNr": "2",
                                    "Nachname": "Schmidt",
                                    "Vorname": "Tom",
                                    "Klasse": "12a",
                                    "Klassenlehrer": "Breier",
                                    "LernangebotsNr": "3",
                                    "Beschreibung": "Chor",
                                    "Stunden": "22"
                                },
                                {
                                    "SchuelerNr": "3",
                                    "Nachname": "Jäger",
                                    "Vorname": "Franz",
                                    "Klasse": "11a",
                                    "Klassenlehrer": "Lempel",
                                    "LernangebotsNr": "1",
                                    "Beschreibung": "Elektronik",
                                    "Stunden": "15"
                                },
                                {
                                    "SchuelerNr": "3",
                                    "Nachname": "Jäger",
                                    "Vorname": "Franz",
                                    "Klasse": "11a",
                                    "Klassenlehrer": "Lempel",
                                    "LernangebotsNr": "2",
                                    "Beschreibung": "Tanz",
                                    "Stunden": "12"
                                },
                                {
                                    "SchuelerNr": "3",
                                    "Nachname": "Jäger",
                                    "Vorname": "Franz",
                                    "Klasse": "11a",
                                    "Klassenlehrer": "Lempel",
                                    "LernangebotsNr": "3",
                                    "Beschreibung": "Chor",
                                    "Stunden": "2"
                                },
                                {
                                    "SchuelerNr": "4",
                                    "Nachname": "Olsen",
                                    "Vorname": "Ina",
                                    "Klasse": "11b",
                                    "Klassenlehrer": "Sommer",
                                    "LernangebotsNr": "2",
                                    "Beschreibung": "Tanz",
                                    "Stunden": "5"
                                },
                                {
                                    "SchuelerNr": "5",
                                    "Nachname": "Jürgens",
                                    "Vorname": "Paula",
                                    "Klasse": "12a",
                                    "Klassenlehrer": "Breier",
                                    "LernangebotsNr": "1",
                                    "Beschreibung": "Elektronik",
                                    "Stunden": "23"
                                }
                            ]
                        },
                        "text/html": [
                            "<table>",
                            "<tr><th>SchuelerNr</th><th>Nachname</th><th>Vorname</th><th>Klasse</th><th>Klassenlehrer</th><th>LernangebotsNr</th><th>Beschreibung</th><th>Stunden</th></tr>",
                            "<tr><td>1</td><td>Jürgens</td><td>Ina</td><td>11a</td><td>Lempel</td><td>2</td><td>Tanz</td><td>12</td></tr>",
                            "<tr><td>2</td><td>Schmidt</td><td>Tom</td><td>12a</td><td>Breier</td><td>3</td><td>Chor</td><td>22</td></tr>",
                            "<tr><td>3</td><td>Jäger</td><td>Franz</td><td>11a</td><td>Lempel</td><td>1</td><td>Elektronik</td><td>15</td></tr>",
                            "<tr><td>3</td><td>Jäger</td><td>Franz</td><td>11a</td><td>Lempel</td><td>2</td><td>Tanz</td><td>12</td></tr>",
                            "<tr><td>3</td><td>Jäger</td><td>Franz</td><td>11a</td><td>Lempel</td><td>3</td><td>Chor</td><td>2</td></tr>",
                            "<tr><td>4</td><td>Olsen</td><td>Ina</td><td>11b</td><td>Sommer</td><td>2</td><td>Tanz</td><td>5</td></tr>",
                            "<tr><td>5</td><td>Jürgens</td><td>Paula</td><td>12a</td><td>Breier</td><td>1</td><td>Elektronik</td><td>23</td></tr>",
                            "</table>"
                        ]
                    }
                }
            ],
            "execution_count": 3
        },
        {
            "cell_type": "code",
            "source": [
                "-- 2NF\r\n",
                "SELECT LernangebotsNr, Beschreibung FROM Lernangebot;\r\n",
                "\r\n",
                "SELECT s.SchuelerNr, s.Nachname, s.Vorname, s.Klasse, k.Klassenlehrer \r\n",
                "FROM Schueler AS s\r\n",
                "JOIN Klasse AS k ON k.Klasse = s.Klasse;\r\n",
                "\r\n",
                "SELECT SchuelerNr, LernangebotsNr, Stunden FROM Lernangebotsuebersicht;"
            ],
            "metadata": {
                "language": "sql",
                "azdata_cell_guid": "f18d674d-1e10-4031-a5ee-13f9af26fde0",
                "tags": []
            },
            "outputs": [],
            "execution_count": null
        },
        {
            "cell_type": "code",
            "source": [
                "-- 3NF\r\n",
                "SELECT LernangebotsNr, Beschreibung FROM Lernangebot;\r\n",
                "\r\n",
                "SELECT Klasse, Klassenlehrer FROM Klasse;\r\n",
                "\r\n",
                "SELECT SchuelerNr, Nachname, Vorname, Klasse FROM Schueler;\r\n",
                "\r\n",
                "SELECT SchuelerNr, LernangebotsNr, Stunden FROM Lernangebotsuebersicht;\r\n",
                ""
            ],
            "metadata": {
                "language": "sql",
                "azdata_cell_guid": "57f24620-06d7-4909-9d47-b3fd6ad21678",
                "tags": []
            },
            "outputs": [
{
    "output_type": "display_data",
    "data": {
        "text/html": "(3 rows affected)"
    },
    "metadata": {}
}, {
    "output_type": "display_data",
    "data": {
        "text/html": "(3 rows affected)"
    },
    "metadata": {}
}, {
    "output_type": "display_data",
    "data": {
        "text/html": "(5 rows affected)"
    },
    "metadata": {}
}, {
    "output_type": "display_data",
    "data": {
        "text/html": "(7 rows affected)"
    },
    "metadata": {}
}, {
    "output_type": "display_data",
    "data": {
        "text/html": "Total execution time: 00:00:00.087"
    },
    "metadata": {}
}, {
    "output_type": "execute_result",
    "metadata": {},
    "execution_count": 4,
    "data": {
        "application/vnd.dataresource+json": {
            "schema": {
                "fields": [
                    {
                        "name": "LernangebotsNr"
                    },
                    {
                        "name": "Beschreibung"
                    }
                ]
            },
            "data": [
                {
                    "LernangebotsNr": "1",
                    "Beschreibung": "Elektronik"
                },
                {
                    "LernangebotsNr": "2",
                    "Beschreibung": "Tanz"
                },
                {
                    "LernangebotsNr": "3",
                    "Beschreibung": "Chor"
                }
            ]
        },
        "text/html": [
            "<table>",
            "<tr><th>LernangebotsNr</th><th>Beschreibung</th></tr>",
            "<tr><td>1</td><td>Elektronik</td></tr>",
            "<tr><td>2</td><td>Tanz</td></tr>",
            "<tr><td>3</td><td>Chor</td></tr>",
            "</table>"
        ]
    }
}, {
    "output_type": "execute_result",
    "metadata": {},
    "execution_count": 4,
    "data": {
        "application/vnd.dataresource+json": {
            "schema": {
                "fields": [
                    {
                        "name": "Klasse"
                    },
                    {
                        "name": "Klassenlehrer"
                    }
                ]
            },
            "data": [
                {
                    "Klasse": "11a",
                    "Klassenlehrer": "Lempel"
                },
                {
                    "Klasse": "11b",
                    "Klassenlehrer": "Sommer"
                },
                {
                    "Klasse": "12a",
                    "Klassenlehrer": "Breier"
                }
            ]
        },
        "text/html": [
            "<table>",
            "<tr><th>Klasse</th><th>Klassenlehrer</th></tr>",
            "<tr><td>11a</td><td>Lempel</td></tr>",
            "<tr><td>11b</td><td>Sommer</td></tr>",
            "<tr><td>12a</td><td>Breier</td></tr>",
            "</table>"
        ]
    }
}, {
    "output_type": "execute_result",
    "metadata": {},
    "execution_count": 4,
    "data": {
        "application/vnd.dataresource+json": {
            "schema": {
                "fields": [
                    {
                        "name": "SchuelerNr"
                    },
                    {
                        "name": "Nachname"
                    },
                    {
                        "name": "Vorname"
                    },
                    {
                        "name": "Klasse"
                    }
                ]
            },
            "data": [
                {
                    "SchuelerNr": "1",
                    "Nachname": "Jürgens",
                    "Vorname": "Ina",
                    "Klasse": "11a"
                },
                {
                    "SchuelerNr": "2",
                    "Nachname": "Schmidt",
                    "Vorname": "Tom",
                    "Klasse": "12a"
                },
                {
                    "SchuelerNr": "3",
                    "Nachname": "Jäger",
                    "Vorname": "Franz",
                    "Klasse": "11a"
                },
                {
                    "SchuelerNr": "4",
                    "Nachname": "Olsen",
                    "Vorname": "Ina",
                    "Klasse": "11b"
                },
                {
                    "SchuelerNr": "5",
                    "Nachname": "Jürgens",
                    "Vorname": "Paula",
                    "Klasse": "12a"
                }
            ]
        },
        "text/html": [
            "<table>",
            "<tr><th>SchuelerNr</th><th>Nachname</th><th>Vorname</th><th>Klasse</th></tr>",
            "<tr><td>1</td><td>Jürgens</td><td>Ina</td><td>11a</td></tr>",
            "<tr><td>2</td><td>Schmidt</td><td>Tom</td><td>12a</td></tr>",
            "<tr><td>3</td><td>Jäger</td><td>Franz</td><td>11a</td></tr>",
            "<tr><td>4</td><td>Olsen</td><td>Ina</td><td>11b</td></tr>",
            "<tr><td>5</td><td>Jürgens</td><td>Paula</td><td>12a</td></tr>",
            "</table>"
        ]
    }
}, {
    "output_type": "execute_result",
    "metadata": {},
    "execution_count": 4,
    "data": {
        "application/vnd.dataresource+json": {
            "schema": {
                "fields": [
                    {
                        "name": "SchuelerNr"
                    },
                    {
                        "name": "LernangebotsNr"
                    },
                    {
                        "name": "Stunden"
                    }
                ]
            },
            "data": [
                {
                    "SchuelerNr": "1",
                    "LernangebotsNr": "2",
                    "Stunden": "12"
                },
                {
                    "SchuelerNr": "2",
                    "LernangebotsNr": "3",
                    "Stunden": "22"
                },
                {
                    "SchuelerNr": "3",
                    "LernangebotsNr": "1",
                    "Stunden": "15"
                },
                {
                    "SchuelerNr": "3",
                    "LernangebotsNr": "2",
                    "Stunden": "12"
                },
                {
                    "SchuelerNr": "3",
                    "LernangebotsNr": "3",
                    "Stunden": "2"
                },
                {
                    "SchuelerNr": "4",
                    "LernangebotsNr": "2",
                    "Stunden": "5"
                },
                {
                    "SchuelerNr": "5",
                    "LernangebotsNr": "1",
                    "Stunden": "23"
                }
            ]
        },
        "text/html": [
            "<table>",
            "<tr><th>SchuelerNr</th><th>LernangebotsNr</th><th>Stunden</th></tr>",
            "<tr><td>1</td><td>2</td><td>12</td></tr>",
            "<tr><td>2</td><td>3</td><td>22</td></tr>",
            "<tr><td>3</td><td>1</td><td>15</td></tr>",
            "<tr><td>3</td><td>2</td><td>12</td></tr>",
            "<tr><td>3</td><td>3</td><td>2</td></tr>",
            "<tr><td>4</td><td>2</td><td>5</td></tr>",
            "<tr><td>5</td><td>1</td><td>23</td></tr>",
            "</table>"
        ]
    }
}
],
            "execution_count": 4
        }
    ]
}