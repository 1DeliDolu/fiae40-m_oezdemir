{
    "metadata": {
        "kernelspec": {
            "name": "SQL",
            "display_name": "SQL",
            "language": "sql"
        },
        "language_info": {
            "name": "sql",
            "version": ""
        }
    },
    "nbformat_minor": 2,
    "nbformat": 4,
    "cells": [
        {
            "cell_type": "markdown",
            "source": [
                "# Datenbank _Schule_ und Tabellen erstellen"
            ],
            "metadata": {
                "language": "sql",
                "azdata_cell_guid": "7536f822-34b4-4114-9b95-5b54343a705b"
            },
            "attachments": {}
        },
        {
            "cell_type": "code",
            "source": [
                "USE master;\r\n",
                "\r\n",
                "DROP DATABASE IF EXISTS Schule;\r\n",
                "GO\r\n",
                "\r\n",
                "CREATE DATABASE Schule;\r\n",
                "GO\r\n",
                "\r\n",
                "USE Schule;\r\n",
                "\r\n",
                "CREATE TABLE Lernangebot\r\n",
                "(\r\n",
                "  LernangebotsNr INT IDENTITY(1,1) NOT NULL,\r\n",
                "  Beschreibung VARCHAR(30) NOT NULL,\r\n",
                "  CONSTRAINT pk_Lernangebot PRIMARY KEY (LernangebotsNr)\r\n",
                ");\r\n",
                "\r\n",
                "CREATE TABLE Klasse\r\n",
                "(\r\n",
                "  Klasse CHAR(3) NOT NULL,\r\n",
                "  Klassenlehrer VARCHAR(30) NOT NULL,\r\n",
                "  CONSTRAINT pk_Klasse PRIMARY KEY (Klasse)\r\n",
                ");\r\n",
                "\r\n",
                "CREATE TABLE Schueler\r\n",
                "(\r\n",
                "  SchuelerNr INT IDENTITY(1,1) NOT NULL,\r\n",
                "  Nachname VARCHAR(30) NOT NULL,\r\n",
                "  Vorname VARCHAR(30) NOT NULL,\r\n",
                "  Klasse CHAR(3) NOT NULL,\r\n",
                "  CONSTRAINT pk_Schueler PRIMARY KEY (SchuelerNr),\r\n",
                "  CONSTRAINT fk_Schueler_Klasse FOREIGN KEY (Klasse) REFERENCES Klasse(Klasse)\r\n",
                ");\r\n",
                "\r\n",
                "CREATE TABLE Lernangebotsuebersicht\r\n",
                "(\r\n",
                "  Stunden INT NOT NULL,\r\n",
                "  SchuelerNr INT NOT NULL,\r\n",
                "  LernangebotsNr INT NOT NULL,\r\n",
                "  CONSTRAINT pk_Lernangebotsuebersicht PRIMARY KEY (SchuelerNr, LernangebotsNr),\r\n",
                "  CONSTRAINT fk_Lernangebotsuebersicht_Schueler FOREIGN KEY (SchuelerNr) REFERENCES Schueler(SchuelerNr),\r\n",
                "  CONSTRAINT fk_Lernangebotsuebersicht_Lernangebot FOREIGN KEY (LernangebotsNr) REFERENCES Lernangebot(LernangebotsNr)\r\n",
                ");\r\n",
                ""
            ],
            "metadata": {
                "azdata_cell_guid": "0277a4c2-8c23-4687-9ed6-ffbf1d49df2c",
                "language": "sql",
                "tags": []
            },
            "outputs": [
{
    "output_type": "display_data",
    "data": {
        "text/html": "Commands completed successfully."
    },
    "metadata": {}
}, {
    "output_type": "display_data",
    "data": {
        "text/html": "Commands completed successfully."
    },
    "metadata": {}
}, {
    "output_type": "display_data",
    "data": {
        "text/html": "Commands completed successfully."
    },
    "metadata": {}
}, {
    "output_type": "display_data",
    "data": {
        "text/html": "Total execution time: 00:00:00.487"
    },
    "metadata": {}
}
],
            "execution_count": 2
        }
    ]
}