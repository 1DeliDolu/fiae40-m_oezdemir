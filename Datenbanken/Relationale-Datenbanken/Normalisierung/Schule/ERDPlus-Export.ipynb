{
    "metadata": {
        "kernelspec": {
            "name": "SQL",
            "display_name": "SQL",
            "language": "sql"
        },
        "language_info": {
            "name": "sql",
            "version": ""
        }
    },
    "nbformat_minor": 2,
    "nbformat": 4,
    "cells": [
        {
            "cell_type": "markdown",
            "source": [
                "# ERDPlus Export des Datenmodells _Schule_\n",
                "\n",
                "**Code nicht ausführen:** Hier fehlen Anweisungen zur Erstellung der Datenbank!"
            ],
            "metadata": {
                "language": "sql",
                "azdata_cell_guid": "70d0d454-d24a-4a85-b6a9-f916e5eae1a8"
            },
            "attachments": {}
        },
        {
            "cell_type": "code",
            "source": [
                "CREATE TABLE Lernangebot\r\n",
                "(\r\n",
                "  LernangebotsNr INT NOT NULL,\r\n",
                "  Beschreibung VARCHAR(30) NOT NULL,\r\n",
                "  PRIMARY KEY (LernangebotsNr)\r\n",
                ");\r\n",
                "\r\n",
                "CREATE TABLE Klasse\r\n",
                "(\r\n",
                "  Klasse CHAR(3) NOT NULL,\r\n",
                "  Klassenlehrer VARCHAR(30) NOT NULL,\r\n",
                "  PRIMARY KEY (Klasse)\r\n",
                ");\r\n",
                "\r\n",
                "CREATE TABLE Schueler\r\n",
                "(\r\n",
                "  SchuelerNr INT NOT NULL,\r\n",
                "  Vorname VARCHAR(30) NOT NULL,\r\n",
                "  Nachname VARCHAR(30) NOT NULL,\r\n",
                "  Klasse CHAR(3) NOT NULL,\r\n",
                "  PRIMARY KEY (SchuelerNr),\r\n",
                "  FOREIGN KEY (Klasse) REFERENCES Klasse(Klasse)\r\n",
                ");\r\n",
                "\r\n",
                "CREATE TABLE belegt\r\n",
                "(\r\n",
                "  Stunden INT NOT NULL,\r\n",
                "  SchuelerNr INT NOT NULL,\r\n",
                "  LernangebotsNr INT NOT NULL,\r\n",
                "  PRIMARY KEY (SchuelerNr, LernangebotsNr),\r\n",
                "  FOREIGN KEY (SchuelerNr) REFERENCES Schueler(SchuelerNr),\r\n",
                "  FOREIGN KEY (LernangebotsNr) REFERENCES Lernangebot(LernangebotsNr)\r\n",
                ");\r\n",
                ""
            ],
            "metadata": {
                "azdata_cell_guid": "4c9f859e-5605-471f-b944-23356ae86797",
                "language": "sql"
            },
            "outputs": [],
            "execution_count": null
        }
    ]
}