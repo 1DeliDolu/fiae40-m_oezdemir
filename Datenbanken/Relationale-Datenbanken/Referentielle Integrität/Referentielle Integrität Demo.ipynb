{
    "metadata": {
        "kernelspec": {
            "name": "SQL",
            "display_name": "SQL",
            "language": "sql"
        },
        "language_info": {
            "name": "sql",
            "version": ""
        }
    },
    "nbformat_minor": 2,
    "nbformat": 4,
    "cells": [
        {
            "cell_type": "markdown",
            "source": [
                "# Demo: Referentielle Integrität\n",
                "\n",
                "**Beziehungen** zwischen Tabellen **von Fremdschlüssel zu Primärschlüssel** dienen der Sicherung der **Referentiellen Integrität**.\n",
                "\n",
                "Der Datensatz auf der Fremdschlüsselseite würde ungültig, wenn der referenzierte Datensatz auf der Primärschlüsselseite gelöscht würde oder sein Primärschlüssel geändert würde.\n",
                "\n",
                "In dieser Demo werden die verschiedenen Optionen gezeigt, Fremdschlüssel zu definieren, und wie diese Optionen sich auf die Referentielle Intigrität auswirken."
            ],
            "metadata": {
                "azdata_cell_guid": "21fc66db-5032-4522-96c5-378f2329e569"
            },
            "attachments": {}
        },
        {
            "cell_type": "code",
            "source": [
                "-- Datenbank für diese Demo anlegen\r\n",
                "USE master;\r\n",
                "\r\n",
                "DROP DATABASE IF EXISTS IntegrityDemo;\r\n",
                "GO\r\n",
                "\r\n",
                "CREATE DATABASE IntegrityDemo;\r\n",
                "GO\r\n",
                "\r\n",
                "USE IntegrityDemo;"
            ],
            "metadata": {
                "azdata_cell_guid": "d4e0e5c9-dcf9-4904-bd0d-94e1351fd1d3",
                "language": "sql"
            },
            "outputs": [],
            "execution_count": null
        },
        {
            "cell_type": "markdown",
            "source": [
                "## Default-Verhalten: ON UPDATE **NO ACTION** ON DELETE **NO ACTION**"
            ],
            "metadata": {
                "language": "sql",
                "azdata_cell_guid": "ee349561-f564-4f4e-b644-53dc3e4e417f"
            },
            "attachments": {}
        },
        {
            "cell_type": "code",
            "source": [
                "-- Objekte für Demo NO ACTION\r\n",
                "SET NOCOUNT ON;\r\n",
                "\r\n",
                "USE IntegrityDemo;\r\n",
                "\r\n",
                "DROP TABLE IF EXISTS Mietfahrzeug;\r\n",
                "GO\r\n",
                "\r\n",
                "DROP TABLE IF EXISTS Preisklasse;\r\n",
                "GO\r\n",
                "\r\n",
                "CREATE TABLE Preisklasse (\r\n",
                "    Klasse VARCHAR(12) NOT NULL,\r\n",
                "    Tagespreis DECIMAL(9,2) NOT NULL,\r\n",
                "    CONSTRAINT pl_Preisklasse PRIMARY KEY(Klasse)\r\n",
                ");\r\n",
                "\r\n",
                "CREATE TABLE Mietfahrzeug (\r\n",
                "    TypID INT IDENTITY(1,1) NOT NULL,\r\n",
                "    Fahrzeugtyp VARCHAR(50) NOT NULL,\r\n",
                "    Klasse VARCHAR(12) NOT NULL,\r\n",
                "    CONSTRAINT pk_Mietfahrzeug PRIMARY KEY(TypID),\r\n",
                "    CONSTRAINT fk_Mietfahrzeug_Preisklasse FOREIGN KEY(Klasse)\r\n",
                "        REFERENCES Preisklasse(Klasse)\r\n",
                "        ON UPDATE NO ACTION ON DELETE NO ACTION\r\n",
                ");\r\n",
                "\r\n",
                "INSERT INTO Preisklasse (Klasse, Tagespreis)\r\n",
                "VALUES ('Spezial', 20),\r\n",
                "    ('S', 20),\r\n",
                "    ('M', 30),\r\n",
                "    ('L', 40);\r\n",
                "\r\n",
                "INSERT INTO Mietfahrzeug (Fahrzeugtyp, Klasse)\r\n",
                "VALUES ('Fiat 500', 'Spezial'),\r\n",
                "    ('Skoda Citigo', 'Spezial'),\r\n",
                "    ('VW up!', 'Spezial'),\r\n",
                "    ('Fiat 500 Cabrio', 'S'),\r\n",
                "    ('Ford Fiesta', 'S'),\r\n",
                "    ('Opel Corsa', 'S'),\r\n",
                "    ('Renault Clio', 'S'),\r\n",
                "    ('BMW 1er', 'M'),\r\n",
                "    ('Renault Grand Scénic', 'M'),\r\n",
                "    ('Renault Megane Combi', 'M'),\r\n",
                "    ('VW ID.3 E', 'M'),\r\n",
                "    ('BMW 3er Kombi', 'L'),\r\n",
                "    ('VW Passat Kombi', 'L'),\r\n",
                "    ('Renault Master 9 Sitzer mit Rollstuhlrampe', 'L'),\r\n",
                "    ('Renault Master Transporter', 'L');\r\n",
                "\r\n",
                "SELECT pk.Klasse, mf.Fahrzeugtyp, pk.Tagespreis\r\n",
                "FROM Preisklasse AS pk \r\n",
                "FULL OUTER JOIN Mietfahrzeug AS mf ON  pk.Klasse = mf.Klasse; \r\n",
                "\r\n",
                "SET NOCOUNT OFF;"
            ],
            "metadata": {
                "language": "sql",
                "azdata_cell_guid": "e18e0fe2-eddb-4105-8bb9-688080ea5401"
            },
            "outputs": [],
            "execution_count": null
        },
        {
            "cell_type": "code",
            "source": [
                "USE IntegrityDemo;"
            ],
            "metadata": {
                "language": "sql",
                "azdata_cell_guid": "44def468-673f-48ba-ab6f-c61e30423b2c"
            },
            "outputs": [],
            "execution_count": null
        },
        {
            "cell_type": "code",
            "source": [
                "-- Änderungen beschreibender Attribute sind unproblematisch\r\n",
                "UPDATE Preisklasse\r\n",
                "SET Tagespreis += 2.5\r\n",
                "WHERE Klasse = 'S';\r\n",
                "\r\n",
                "SELECT Klasse, Tagespreis FROM Preisklasse;"
            ],
            "metadata": {
                "azdata_cell_guid": "4ac3bb91-05ee-4965-bf5a-6d776ff406da",
                "language": "sql"
            },
            "outputs": [],
            "execution_count": null
        },
        {
            "cell_type": "code",
            "source": [
                "-- Verhalten beim Umbenennen eines PKs\r\n",
                "UPDATE Preisklasse\r\n",
                "SET Klasse = 'Schnäppchen'\r\n",
                "WHERE Klasse = 'Spezial';"
            ],
            "metadata": {
                "language": "sql",
                "azdata_cell_guid": "769907ff-9a7d-40a8-9ab0-7db9d174c1b6"
            },
            "outputs": [],
            "execution_count": null
        },
        {
            "cell_type": "code",
            "source": [
                "-- Verhalten beim Löschen eines PK-Datensatzes\r\n",
                "DELETE FROM Preisklasse\r\n",
                "WHERE Klasse = 'L';"
            ],
            "metadata": {
                "language": "sql",
                "azdata_cell_guid": "34005b25-a6ef-4d55-9c1e-eb70a109f9b8"
            },
            "outputs": [],
            "execution_count": null
        },
        {
            "cell_type": "markdown",
            "source": [
                "## ON UPDATE **CASCADE** ON DELETE **CASCADE**"
            ],
            "metadata": {
                "language": "sql",
                "azdata_cell_guid": "e809b5cf-3135-45a9-8797-b2c671d660c4"
            },
            "attachments": {}
        },
        {
            "cell_type": "code",
            "source": [
                "-- Objekte für Demo CASCADE\r\n",
                "SET NOCOUNT ON;\r\n",
                "\r\n",
                "USE IntegrityDemo;\r\n",
                "\r\n",
                "DROP TABLE IF EXISTS Mietfahrzeug;\r\n",
                "GO\r\n",
                "\r\n",
                "DROP TABLE IF EXISTS Preisklasse;\r\n",
                "GO\r\n",
                "\r\n",
                "CREATE TABLE Preisklasse (\r\n",
                "    Klasse VARCHAR(12) NOT NULL,\r\n",
                "    Tagespreis DECIMAL(9,2) NOT NULL,\r\n",
                "    CONSTRAINT pl_Preisklasse PRIMARY KEY(Klasse)\r\n",
                ");\r\n",
                "\r\n",
                "CREATE TABLE Mietfahrzeug (\r\n",
                "    TypID INT IDENTITY(1,1) NOT NULL,\r\n",
                "    Fahrzeugtyp VARCHAR(50) NOT NULL,\r\n",
                "    Klasse VARCHAR(12) NOT NULL,\r\n",
                "    CONSTRAINT pk_Mietfahrzeug PRIMARY KEY(TypID),\r\n",
                "    CONSTRAINT fk_Mietfahrzeug_Preisklasse FOREIGN KEY(Klasse)\r\n",
                "        REFERENCES Preisklasse(Klasse)\r\n",
                "        ON UPDATE CASCADE ON DELETE CASCADE\r\n",
                ");\r\n",
                "\r\n",
                "INSERT INTO Preisklasse (Klasse, Tagespreis)\r\n",
                "VALUES ('Spezial', 20),\r\n",
                "    ('S', 20),\r\n",
                "    ('M', 30),\r\n",
                "    ('L', 40);\r\n",
                "\r\n",
                "INSERT INTO Mietfahrzeug (Fahrzeugtyp, Klasse)\r\n",
                "VALUES ('Fiat 500', 'Spezial'),\r\n",
                "    ('Skoda Citigo', 'Spezial'),\r\n",
                "    ('VW up!', 'Spezial'),\r\n",
                "    ('Fiat 500 Cabrio', 'S'),\r\n",
                "    ('Ford Fiesta', 'S'),\r\n",
                "    ('Opel Corsa', 'S'),\r\n",
                "    ('Renault Clio', 'S'),\r\n",
                "    ('BMW 1er', 'M'),\r\n",
                "    ('Renault Grand Scénic', 'M'),\r\n",
                "    ('Renault Megane Combi', 'M'),\r\n",
                "    ('VW ID.3 E', 'M'),\r\n",
                "    ('BMW 3er Kombi', 'L'),\r\n",
                "    ('VW Passat Kombi', 'L'),\r\n",
                "    ('Renault Master 9 Sitzer mit Rollstuhlrampe', 'L'),\r\n",
                "    ('Renault Master Transporter', 'L');\r\n",
                "\r\n",
                "SELECT pk.Klasse, mf.Fahrzeugtyp, pk.Tagespreis\r\n",
                "FROM Preisklasse AS pk \r\n",
                "FULL OUTER JOIN Mietfahrzeug AS mf ON  pk.Klasse = mf.Klasse; \r\n",
                "\r\n",
                "SET NOCOUNT OFF;"
            ],
            "metadata": {
                "language": "sql",
                "azdata_cell_guid": "e18e0fe2-eddb-4105-8bb9-688080ea5401"
            },
            "outputs": [],
            "execution_count": null
        },
        {
            "cell_type": "code",
            "source": [
                "USE IntegrityDemo;"
            ],
            "metadata": {
                "language": "sql",
                "azdata_cell_guid": "44def468-673f-48ba-ab6f-c61e30423b2c"
            },
            "outputs": [],
            "execution_count": null
        },
        {
            "cell_type": "code",
            "source": [
                "-- Änderungen beschreibender Attribute sind unproblematisch\r\n",
                "UPDATE Preisklasse\r\n",
                "SET Tagespreis += 2.5\r\n",
                "WHERE Klasse = 'S';\r\n",
                "\r\n",
                "SELECT Klasse, Tagespreis FROM Preisklasse;"
            ],
            "metadata": {
                "azdata_cell_guid": "4ac3bb91-05ee-4965-bf5a-6d776ff406da",
                "language": "sql"
            },
            "outputs": [],
            "execution_count": null
        },
        {
            "cell_type": "code",
            "source": [
                "-- Verhalten beim Umbenennen eines PKs\r\n",
                "UPDATE Preisklasse\r\n",
                "SET Klasse = 'Schnäppchen'\r\n",
                "WHERE Klasse = 'Spezial';"
            ],
            "metadata": {
                "language": "sql",
                "azdata_cell_guid": "769907ff-9a7d-40a8-9ab0-7db9d174c1b6"
            },
            "outputs": [],
            "execution_count": null
        },
        {
            "cell_type": "code",
            "source": [
                "-- Verhalten beim Löschen eines PK-Datensatzes\r\n",
                "DELETE FROM Preisklasse\r\n",
                "WHERE Klasse = 'L';"
            ],
            "metadata": {
                "language": "sql",
                "azdata_cell_guid": "34005b25-a6ef-4d55-9c1e-eb70a109f9b8"
            },
            "outputs": [],
            "execution_count": null
        },
        {
            "cell_type": "code",
            "source": [
                "-- Wie haben sich die Daten durch CASCADE verändert?\r\n",
                "SELECT pk.Klasse, mf.Fahrzeugtyp, pk.Tagespreis\r\n",
                "FROM Preisklasse AS pk \r\n",
                "FULL OUTER JOIN Mietfahrzeug AS mf ON  pk.Klasse = mf.Klasse; "
            ],
            "metadata": {
                "language": "sql",
                "azdata_cell_guid": "f60462be-f1b0-428e-a4b2-361b1db1d023"
            },
            "outputs": [],
            "execution_count": null
        },
        {
            "cell_type": "markdown",
            "source": [
                "## ON UPDATE **SET NULL** ON DELETE **SET NULL**"
            ],
            "metadata": {
                "language": "sql",
                "azdata_cell_guid": "c0a1582f-562f-410e-a921-2a577079aa2f"
            },
            "attachments": {}
        },
        {
            "cell_type": "code",
            "source": [
                "-- Objekte für Demo NO ACTION\r\n",
                "SET NOCOUNT ON;\r\n",
                "\r\n",
                "USE IntegrityDemo;\r\n",
                "\r\n",
                "DROP TABLE IF EXISTS Mietfahrzeug;\r\n",
                "GO\r\n",
                "\r\n",
                "DROP TABLE IF EXISTS Preisklasse;\r\n",
                "GO\r\n",
                "\r\n",
                "CREATE TABLE Preisklasse (\r\n",
                "    Klasse VARCHAR(12) NOT NULL,\r\n",
                "    Tagespreis DECIMAL(9,2) NOT NULL,\r\n",
                "    CONSTRAINT pl_Preisklasse PRIMARY KEY(Klasse)\r\n",
                ");\r\n",
                "\r\n",
                "CREATE TABLE Mietfahrzeug (\r\n",
                "    TypID INT IDENTITY(1,1) NOT NULL,\r\n",
                "    Fahrzeugtyp VARCHAR(50) NOT NULL,\r\n",
                "    Klasse VARCHAR(12) NULL, -- Muss NULL zulassen!\r\n",
                "    CONSTRAINT pk_Mietfahrzeug PRIMARY KEY(TypID),\r\n",
                "    CONSTRAINT fk_Mietfahrzeug_Preisklasse FOREIGN KEY(Klasse)\r\n",
                "        REFERENCES Preisklasse(Klasse)\r\n",
                "        ON UPDATE SET NULL ON DELETE SET NULL\r\n",
                ");\r\n",
                "\r\n",
                "INSERT INTO Preisklasse (Klasse, Tagespreis)\r\n",
                "VALUES ('Spezial', 20),\r\n",
                "    ('S', 20),\r\n",
                "    ('M', 30),\r\n",
                "    ('L', 40);\r\n",
                "\r\n",
                "INSERT INTO Mietfahrzeug (Fahrzeugtyp, Klasse)\r\n",
                "VALUES ('Fiat 500', 'Spezial'),\r\n",
                "    ('Skoda Citigo', 'Spezial'),\r\n",
                "    ('VW up!', 'Spezial'),\r\n",
                "    ('Fiat 500 Cabrio', 'S'),\r\n",
                "    ('Ford Fiesta', 'S'),\r\n",
                "    ('Opel Corsa', 'S'),\r\n",
                "    ('Renault Clio', 'S'),\r\n",
                "    ('BMW 1er', 'M'),\r\n",
                "    ('Renault Grand Scénic', 'M'),\r\n",
                "    ('Renault Megane Combi', 'M'),\r\n",
                "    ('VW ID.3 E', 'M'),\r\n",
                "    ('BMW 3er Kombi', 'L'),\r\n",
                "    ('VW Passat Kombi', 'L'),\r\n",
                "    ('Renault Master 9 Sitzer mit Rollstuhlrampe', 'L'),\r\n",
                "    ('Renault Master Transporter', 'L');\r\n",
                "\r\n",
                "SELECT pk.Klasse, mf.Fahrzeugtyp, pk.Tagespreis\r\n",
                "FROM Preisklasse AS pk \r\n",
                "FULL OUTER JOIN Mietfahrzeug AS mf ON  pk.Klasse = mf.Klasse; \r\n",
                "\r\n",
                "SET NOCOUNT OFF;"
            ],
            "metadata": {
                "language": "sql",
                "azdata_cell_guid": "e18e0fe2-eddb-4105-8bb9-688080ea5401"
            },
            "outputs": [],
            "execution_count": null
        },
        {
            "cell_type": "code",
            "source": [
                "USE IntegrityDemo;"
            ],
            "metadata": {
                "language": "sql",
                "azdata_cell_guid": "44def468-673f-48ba-ab6f-c61e30423b2c"
            },
            "outputs": [],
            "execution_count": null
        },
        {
            "cell_type": "code",
            "source": [
                "-- Änderungen beschreibender Attribute sind unproblematisch\r\n",
                "UPDATE Preisklasse\r\n",
                "SET Tagespreis += 2.5\r\n",
                "WHERE Klasse = 'S';\r\n",
                "\r\n",
                "SELECT Klasse, Tagespreis FROM Preisklasse;"
            ],
            "metadata": {
                "azdata_cell_guid": "4ac3bb91-05ee-4965-bf5a-6d776ff406da",
                "language": "sql"
            },
            "outputs": [],
            "execution_count": null
        },
        {
            "cell_type": "code",
            "source": [
                "-- Verhalten beim Umbenennen eines PKs\r\n",
                "UPDATE Preisklasse\r\n",
                "SET Klasse = 'Schnäppchen'\r\n",
                "WHERE Klasse = 'Spezial';"
            ],
            "metadata": {
                "language": "sql",
                "azdata_cell_guid": "769907ff-9a7d-40a8-9ab0-7db9d174c1b6"
            },
            "outputs": [],
            "execution_count": null
        },
        {
            "cell_type": "code",
            "source": [
                "-- Verhalten beim Löschen eines PK-Datensatzes\r\n",
                "DELETE FROM Preisklasse\r\n",
                "WHERE Klasse = 'L';"
            ],
            "metadata": {
                "language": "sql",
                "azdata_cell_guid": "34005b25-a6ef-4d55-9c1e-eb70a109f9b8"
            },
            "outputs": [],
            "execution_count": null
        },
        {
            "cell_type": "code",
            "source": [
                "-- Wie haben sich die Daten bei SET NULL verändert?\r\n",
                "SELECT pk.Klasse, mf.Fahrzeugtyp, mf.Klasse AS [Fahrzeug Klasse], pk.Tagespreis\r\n",
                "FROM Preisklasse AS pk \r\n",
                "FULL OUTER JOIN Mietfahrzeug AS mf ON  pk.Klasse = mf.Klasse; "
            ],
            "metadata": {
                "language": "sql",
                "azdata_cell_guid": "32fbd9ae-2c6d-4a56-a151-ddcff97dc90f"
            },
            "outputs": [],
            "execution_count": null
        },
        {
            "cell_type": "markdown",
            "source": [
                "## ON UPDATE **SET DEFAULT** ON DELETE **SET DEFAULT**"
            ],
            "metadata": {
                "language": "",
                "azdata_cell_guid": "0ca3b274-fb33-4c46-bdf1-5717d58ed49a"
            },
            "attachments": {}
        },
        {
            "cell_type": "code",
            "source": [
                "-- Objekte für Demo SET DEFAULT\r\n",
                "SET NOCOUNT ON;\r\n",
                "\r\n",
                "USE IntegrityDemo;\r\n",
                "\r\n",
                "DROP TABLE IF EXISTS Mietfahrzeug;\r\n",
                "GO\r\n",
                "\r\n",
                "DROP TABLE IF EXISTS Preisklasse;\r\n",
                "GO\r\n",
                "\r\n",
                "CREATE TABLE Preisklasse (\r\n",
                "    Klasse VARCHAR(12) NOT NULL,\r\n",
                "    Tagespreis DECIMAL(9,2) NOT NULL,\r\n",
                "    CONSTRAINT pl_Preisklasse PRIMARY KEY(Klasse)\r\n",
                ");\r\n",
                "\r\n",
                "CREATE TABLE Mietfahrzeug (\r\n",
                "    TypID INT IDENTITY(1,1) NOT NULL,\r\n",
                "    Fahrzeugtyp VARCHAR(50) NOT NULL,\r\n",
                "    Klasse VARCHAR(12) NOT NULL CONSTRAINT df_Klasse DEFAULT 'M',\r\n",
                "    CONSTRAINT pk_Mietfahrzeug PRIMARY KEY(TypID),\r\n",
                "    CONSTRAINT fk_Mietfahrzeug_Preisklasse FOREIGN KEY(Klasse)\r\n",
                "        REFERENCES Preisklasse(Klasse)\r\n",
                "        ON UPDATE SET DEFAULT ON DELETE SET DEFAULT\r\n",
                ");\r\n",
                "\r\n",
                "INSERT INTO Preisklasse (Klasse, Tagespreis)\r\n",
                "VALUES ('Spezial', 20),\r\n",
                "    ('S', 20),\r\n",
                "    ('M', 30),\r\n",
                "    ('L', 40);\r\n",
                "\r\n",
                "INSERT INTO Mietfahrzeug (Fahrzeugtyp, Klasse)\r\n",
                "VALUES ('Fiat 500', 'Spezial'),\r\n",
                "    ('Skoda Citigo', 'Spezial'),\r\n",
                "    ('VW up!', 'Spezial'),\r\n",
                "    ('Fiat 500 Cabrio', 'S'),\r\n",
                "    ('Ford Fiesta', 'S'),\r\n",
                "    ('Opel Corsa', 'S'),\r\n",
                "    ('Renault Clio', 'S'),\r\n",
                "    ('BMW 1er', 'M'),\r\n",
                "    ('Renault Grand Scénic', 'M'),\r\n",
                "    ('Renault Megane Combi', 'M'),\r\n",
                "    ('VW ID.3 E', 'M'),\r\n",
                "    ('BMW 3er Kombi', 'L'),\r\n",
                "    ('VW Passat Kombi', 'L'),\r\n",
                "    ('Renault Master 9 Sitzer mit Rollstuhlrampe', 'L'),\r\n",
                "    ('Renault Master Transporter', 'L');\r\n",
                "\r\n",
                "SELECT pk.Klasse, mf.Fahrzeugtyp, pk.Tagespreis\r\n",
                "FROM Preisklasse AS pk \r\n",
                "JOIN Mietfahrzeug AS mf ON  pk.Klasse = mf.Klasse; \r\n",
                "\r\n",
                "SET NOCOUNT OFF;"
            ],
            "metadata": {
                "language": "sql",
                "azdata_cell_guid": "e18e0fe2-eddb-4105-8bb9-688080ea5401"
            },
            "outputs": [],
            "execution_count": null
        },
        {
            "cell_type": "code",
            "source": [
                "USE IntegrityDemo;"
            ],
            "metadata": {
                "language": "sql",
                "azdata_cell_guid": "44def468-673f-48ba-ab6f-c61e30423b2c"
            },
            "outputs": [],
            "execution_count": null
        },
        {
            "cell_type": "code",
            "source": [
                "-- Änderungen beschreibender Attribute sind unproblematisch\r\n",
                "UPDATE Preisklasse\r\n",
                "SET Tagespreis += 2.5\r\n",
                "WHERE Klasse = 'S';\r\n",
                "\r\n",
                "SELECT Klasse, Tagespreis FROM Preisklasse;"
            ],
            "metadata": {
                "azdata_cell_guid": "4ac3bb91-05ee-4965-bf5a-6d776ff406da",
                "language": "sql"
            },
            "outputs": [],
            "execution_count": null
        },
        {
            "cell_type": "code",
            "source": [
                "-- Verhalten beim Umbenennen eines PKs\r\n",
                "UPDATE Preisklasse\r\n",
                "SET Klasse = 'Schnäppchen'\r\n",
                "WHERE Klasse = 'Spezial';"
            ],
            "metadata": {
                "language": "sql",
                "azdata_cell_guid": "769907ff-9a7d-40a8-9ab0-7db9d174c1b6"
            },
            "outputs": [],
            "execution_count": null
        },
        {
            "cell_type": "code",
            "source": [
                "-- Verhalten beim Löschen eines PK-Datensatzes\r\n",
                "DELETE FROM Preisklasse\r\n",
                "WHERE Klasse = 'L';"
            ],
            "metadata": {
                "language": "sql",
                "azdata_cell_guid": "34005b25-a6ef-4d55-9c1e-eb70a109f9b8"
            },
            "outputs": [],
            "execution_count": null
        },
        {
            "cell_type": "code",
            "source": [
                "-- Wie haben sich die Daten bei SET DEFAULT verändert?\r\n",
                "SELECT pk.Klasse, mf.Fahrzeugtyp, mf.Klasse AS [Fahrzeug Klasse], pk.Tagespreis\r\n",
                "FROM Preisklasse AS pk \r\n",
                "FULL OUTER JOIN Mietfahrzeug AS mf ON  pk.Klasse = mf.Klasse; "
            ],
            "metadata": {
                "language": "sql",
                "azdata_cell_guid": "d32a5d3e-d231-4881-a9f7-fbda6fd207c7"
            },
            "outputs": [],
            "execution_count": null
        },
        {
            "cell_type": "markdown",
            "source": [
                "## Abschluss\n",
                "\n",
                "Löschen Sie die Datenbank **UntegrityDemo**."
            ],
            "metadata": {
                "azdata_cell_guid": "cfe7f9ef-c948-4d16-8513-cea832e299c5"
            },
            "attachments": {}
        },
        {
            "cell_type": "code",
            "source": [
                "-- Aufräumen nach der Demo\r\n",
                "USE master;\r\n",
                "\r\n",
                "DROP DATABASE IF EXISTS IntegrityDemo;"
            ],
            "metadata": {
                "language": "sql",
                "azdata_cell_guid": "34992a1d-2397-4b00-b58d-840b41da1394"
            },
            "outputs": [],
            "execution_count": null
        }
    ]
}