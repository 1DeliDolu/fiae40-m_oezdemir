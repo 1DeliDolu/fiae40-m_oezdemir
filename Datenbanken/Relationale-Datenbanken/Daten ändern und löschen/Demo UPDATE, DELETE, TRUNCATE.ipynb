{
    "metadata": {
        "kernelspec": {
            "name": "SQL",
            "display_name": "SQL",
            "language": "sql"
        },
        "language_info": {
            "name": "sql",
            "version": ""
        }
    },
    "nbformat_minor": 2,
    "nbformat": 4,
    "cells": [
        {
            "cell_type": "markdown",
            "source": [
                "# Demo: UPDATE, DELETE und TRUNCATE\n",
                "\n",
                "Diese Demo bringt die Daten durcheinander. Erstellen Sie danach die Datenbank neu."
            ],
            "metadata": {
                "azdata_cell_guid": "7861061f-7f32-48b8-aa56-afb11097c4f8"
            },
            "attachments": {}
        },
        {
            "cell_type": "code",
            "source": [
                "USE NormalisierungsDemo;"
            ],
            "metadata": {
                "language": "sql",
                "azdata_cell_guid": "f38fb963-6434-40b2-9a02-34595ce6c00f"
            },
            "outputs": [],
            "execution_count": null
        },
        {
            "cell_type": "code",
            "source": [
                "UPDATE Personal\r\n",
                "SET Name = 'Doe', Vorname = 'Jane'; --Oops!\r\n",
                "\r\n",
                "SELECT * FROM Personal;"
            ],
            "metadata": {
                "azdata_cell_guid": "52d6cf9d-ce26-4455-9fc9-cba82e09b313",
                "language": "sql"
            },
            "outputs": [],
            "execution_count": null
        },
        {
            "cell_type": "code",
            "source": [
                "SELECT * FROM Tätigkeit;\r\n",
                "\r\n",
                "UPDATE Tätigkeit\r\n",
                "SET Stundenlohn *= 1.2\r\n",
                "WHERE Tätigkeit = 'Bearbeitung';\r\n",
                "\r\n",
                "SELECT * FROM Tätigkeit;"
            ],
            "metadata": {
                "language": "sql",
                "azdata_cell_guid": "f918adae-aecd-4b78-8596-fe8a0f3c927b"
            },
            "outputs": [],
            "execution_count": null
        },
        {
            "cell_type": "code",
            "source": [
                "UPDATE Tätigkeit\r\n",
                "SET TätigkeitsNr = 99\r\n",
                "WHERE Tätigkeit = 'Leitung'; -- Verletzung der referentiellen Integrität"
            ],
            "metadata": {
                "language": "sql",
                "azdata_cell_guid": "cd493cdd-218b-49c6-866d-7584eabbbc91"
            },
            "outputs": [],
            "execution_count": null
        },
        {
            "cell_type": "code",
            "source": [
                "DELETE FROM Tätigkeit; -- Verletzung der referentiellen Integrität"
            ],
            "metadata": {
                "language": "sql",
                "azdata_cell_guid": "08f27988-33aa-4ca1-a952-0964904626d4"
            },
            "outputs": [],
            "execution_count": null
        },
        {
            "cell_type": "code",
            "source": [
                "DELETE FROM Arbeitet_An\r\n",
                "WHERE PersonalNr = (\r\n",
                "    SELECT PersonalNr FROM Personal\r\n",
                "    WHERE Vorname = 'Jane'\r\n",
                "); -- Oops, es gibt mehrere Janes"
            ],
            "metadata": {
                "language": "sql",
                "azdata_cell_guid": "14792503-9a81-40d1-ab7b-c0e40bcf3b1d"
            },
            "outputs": [],
            "execution_count": null
        },
        {
            "cell_type": "code",
            "source": [
                "-- Abteilung 2 ohne Verletzung der Referentiellen Integrität löschen\r\n",
                "DELETE FROM Arbeitet_An\r\n",
                "WHERE PersonalNr IN (\r\n",
                "    SELECT PersonalNr \r\n",
                "    FROM Personal\r\n",
                "    WHERE AbtNr = 2\r\n",
                ");\r\n",
                "\r\n",
                "DELETE FROM Personal\r\n",
                "WHERE AbtNr = 2;\r\n",
                "\r\n",
                "DELETE FROM Abteilung\r\n",
                "WHERE AbtNr = 2;"
            ],
            "metadata": {
                "language": "sql",
                "azdata_cell_guid": "7c0d5bb8-a562-4690-a9a8-d3a6e91cef8c"
            },
            "outputs": [],
            "execution_count": null
        },
        {
            "cell_type": "code",
            "source": [
                "TRUNCATE TABLE Tätigkeit; -- FK Verletzung"
            ],
            "metadata": {
                "language": "sql",
                "azdata_cell_guid": "579d7ffa-5b5e-4f76-8bbe-d5cc21c5c4e4"
            },
            "outputs": [],
            "execution_count": null
        },
        {
            "cell_type": "code",
            "source": [
                "DELETE FROM Arbeitet_An;\r\n",
                "\r\n",
                "ALTER TABLE Arbeitet_An\r\n",
                "DROP CONSTRAINT fk_ArbeitetAn_Tätigkeit;\r\n",
                "\r\n",
                "TRUNCATE TABLE Tätigkeit;"
            ],
            "metadata": {
                "language": "sql",
                "azdata_cell_guid": "9cec49d3-1f24-41b5-826a-869ab2a4ddf1"
            },
            "outputs": [],
            "execution_count": null
        },
        {
            "cell_type": "markdown",
            "source": [
                "## TRUNCATE Demo mit einer IDENTITY-Spalte\n",
                "\n",
                "Hierfür legen wir eine neue Tabelle an..."
            ],
            "metadata": {
                "azdata_cell_guid": "c1e031e2-35dd-47a9-8269-3cf2f64a44c2"
            },
            "attachments": {}
        },
        {
            "cell_type": "code",
            "source": [
                "-- Neue Tabelle mit automatisch nummeriertem Primary Key\r\n",
                "CREATE TABLE Inventar (\r\n",
                "    InventarNr INT IDENTITY(1,1),\r\n",
                "    Objekt VARCHAR(60) NOT NULL,\r\n",
                "    CONSTRAINT pk_Inventar PRIMARY KEY(InventarNr)\r\n",
                ");"
            ],
            "metadata": {
                "azdata_cell_guid": "bded02ed-341d-4c42-a6ce-15bc5e228269",
                "language": "sql"
            },
            "outputs": [],
            "execution_count": null
        },
        {
            "cell_type": "code",
            "source": [
                "INSERT INTO Inventar (Objekt) -- Die Spalte InventarNr wird nicht angegeben!\r\n",
                "VALUES ('Stuhl'),\r\n",
                "    ('Tisch'),\r\n",
                "    ('Kühlschrank'),\r\n",
                "    ('Computer');\r\n",
                "\r\n",
                "SELECT InventarNr, Objekt FROM Inventar; -- Das Inventar nummeriert sich durch.   "
            ],
            "metadata": {
                "language": "sql",
                "azdata_cell_guid": "1e762ee9-8a13-49e1-9339-62f927e82d0d"
            },
            "outputs": [],
            "execution_count": null
        },
        {
            "cell_type": "code",
            "source": [
                "DELETE FROM Inventar;\r\n",
                "\r\n",
                "INSERT INTO Inventar (Objekt)\r\n",
                "VALUES ('Sofa'),\r\n",
                "    ('Beistelltisch'),\r\n",
                "    ('Fernseher');\r\n",
                "\r\n",
                "SELECT InventarNr, Objekt FROM Inventar;  -- Nach DELETE entstehen Lücken im Zähler"
            ],
            "metadata": {
                "language": "sql",
                "azdata_cell_guid": "3d6781cb-1113-470e-af91-ff5d94d1ba88"
            },
            "outputs": [],
            "execution_count": null
        },
        {
            "cell_type": "code",
            "source": [
                "TRUNCATE TABLE Inventar;\r\n",
                "\r\n",
                "INSERT INTO Inventar (Objekt)\r\n",
                "VALUES ('PC'),\r\n",
                "    ('Tastatur'),\r\n",
                "    ('Maus'),\r\n",
                "    ('Monitor');\r\n",
                "\r\n",
                "SELECT InventarNr, Objekt FROM Inventar; -- Nach TRUNCATE ist IDENTITY zurückgesetzt."
            ],
            "metadata": {
                "language": "sql",
                "azdata_cell_guid": "0ce47b18-3807-4b91-b490-4fe86a35126e"
            },
            "outputs": [],
            "execution_count": null
        },
        {
            "cell_type": "code",
            "source": [
                "-- Aufräumen\r\n",
                "DROP TABLE Inventar;"
            ],
            "metadata": {
                "language": "sql",
                "azdata_cell_guid": "a379d531-7fcb-445a-824a-0eb55470726b"
            },
            "outputs": [],
            "execution_count": null
        }
    ]
}