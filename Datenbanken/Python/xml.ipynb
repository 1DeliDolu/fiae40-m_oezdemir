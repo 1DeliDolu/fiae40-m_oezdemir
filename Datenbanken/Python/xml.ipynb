{
    "metadata": {
        "kernelspec": {
            "name": "python3",
            "display_name": "Python 3",
            "language": "python"
        },
        "language_info": {
            "name": "python",
            "version": "3.8.10",
            "mimetype": "text/x-python",
            "codemirror_mode": {
                "name": "ipython",
                "version": 3
            },
            "pygments_lexer": "ipython3",
            "nbconvert_exporter": "python",
            "file_extension": ".py"
        }
    },
    "nbformat_minor": 2,
    "nbformat": 4,
    "cells": [
        {
            "cell_type": "markdown",
            "source": [
                "# XMLDaten laden, filtern und anzeigen\n",
                "\n",
                "XML: Extensible Markup Language\n",
                "\n",
                "Der Code ist – wie HTML – aus Elementen und Attributen zusammengesetzt."
            ],
            "metadata": {
                "azdata_cell_guid": "6b2a2019-4feb-423e-9530-9329aa5853d4"
            },
            "attachments": {}
        },
        {
            "cell_type": "code",
            "source": [
                "import xml.etree.ElementTree as ET"
            ],
            "metadata": {
                "azdata_cell_guid": "1a1f671d-98dd-4bed-b0f0-544adebfa86f",
                "language": "python"
            },
            "outputs": [],
            "execution_count": 1
        },
        {
            "cell_type": "code",
            "source": [
                "# Load and parse the XML file\r\n",
                "tree = ET.parse('data/cd-catalog.xml')\r\n",
                "root = tree.getroot()\r\n",
                "type(root)"
            ],
            "metadata": {
                "language": "python",
                "azdata_cell_guid": "a56dc6e7-09ec-46ed-bcf9-29237edced8b"
            },
            "outputs": [
                {
                    "output_type": "execute_result",
                    "execution_count": 2,
                    "data": {
                        "text/plain": "xml.etree.ElementTree.Element"
                    },
                    "metadata": {}
                }
            ],
            "execution_count": 2
        },
        {
            "cell_type": "code",
            "source": [
                "# Access the root element\r\n",
                "print(root.tag)  # Print the root element's tag\r\n",
                "\r\n",
                "# Iterate through the children of the root element\r\n",
                "for child in root:\r\n",
                "    print(child.tag, child.attrib)  # Print the tag and attributes of each child element"
            ],
            "metadata": {
                "language": "python",
                "azdata_cell_guid": "72d86e8c-f139-4dd5-93c0-d67e72c1c11e"
            },
            "outputs": [],
            "execution_count": null
        },
        {
            "cell_type": "code",
            "source": [
                "# Iterate through CD elements and extract the ARTIST and  TITLE\r\n",
                "for cd in root.findall('CD'):\r\n",
                "    country = cd.find('COUNTRY').text\r\n",
                "    if country == 'EU':\r\n",
                "        title = cd.find('TITLE').text\r\n",
                "        artist = cd.find('ARTIST').text\r\n",
                "        print(f'Artist: {artist} — Title: {title}')\r\n",
                ""
            ],
            "metadata": {
                "language": "python",
                "azdata_cell_guid": "77cc4c24-1b9e-44f7-ab83-bb46875a905e"
            },
            "outputs": [
                {
                    "output_type": "stream",
                    "name": "stdout",
                    "text": "Artist: Eros Ramazzotti — Title: Eros\nArtist: Andrea Bocelli — Title: Romanza\nArtist: Savage Rose — Title: Black angel\nArtist: Kim Larsen — Title: Midt om natten\nArtist: Simply Red — Title: Picture book\n"
                }
            ],
            "execution_count": 13
        }
    ]
}