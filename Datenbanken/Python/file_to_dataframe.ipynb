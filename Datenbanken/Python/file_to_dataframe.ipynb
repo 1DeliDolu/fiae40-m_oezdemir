{
    "metadata": {
        "kernelspec": {
            "name": "python3",
            "display_name": "Python 3",
            "language": "python"
        },
        "language_info": {
            "name": "python",
            "version": "3.8.10",
            "mimetype": "text/x-python",
            "codemirror_mode": {
                "name": "ipython",
                "version": 3
            },
            "pygments_lexer": "ipython3",
            "nbconvert_exporter": "python",
            "file_extension": ".py"
        }
    },
    "nbformat_minor": 2,
    "nbformat": 4,
    "cells": [
        {
            "cell_type": "markdown",
            "source": [
                "# Diverse Dateitypen in ein DataFrame lesen\n",
                "\n",
                "| Dateityp | Bedeutung | Anmerkung |\n",
                "| --- | --- | --- |\n",
                "| CSV | Comma Separated Values | Textdatei mit Trennzeichen |\n",
                "| Excel | Excel XLSX Dateiformat | Dateiformat aus der Tabellenkalkulation Microsoft Excel |\n",
                "| JSON | JavaScript Object Notation | Array aus JavaScript Objekten |\n",
                "| XML | Extensible Markup Language | Struktur aus Elementen und Attributen, ähnlich wie HTML |\n",
                "| Parquet | Apache Parquet | [What is parquet?](https:\\www.databricks.com\\glossary\\what-is-parquet) |\n",
                "| Avro | Apache Avro | [Wikipedia](https:\\de.wikipedia.org\\wiki\\Apache_Avro) |\n",
                "| Orc | Optimized Row Columnar | [Language Manual ORC](https:\\cwiki.apache.org\\confluence\\display\\hive\\languagemanual+orc) |"
            ],
            "metadata": {
                "azdata_cell_guid": "362b7e95-8b5e-4943-9404-769ebfa077a3"
            },
            "attachments": {}
        },
        {
            "cell_type": "code",
            "source": [
                "# CSV — Comma Separated Values\r\n",
                "import pandas as pd\r\n",
                "\r\n",
                "# Define the file path\r\n",
                "csv_file_path = 'data/export/population.csv'\r\n",
                "\r\n",
                "# Read the CSV file into a DataFrame\r\n",
                "df = pd.read_csv(csv_file_path)\r\n",
                "\r\n",
                "# Now, 'df' contains your data as a DataFrame\r\n",
                "df.head()"
            ],
            "metadata": {
                "language": "python",
                "azdata_cell_guid": "ab250305-ca75-4cfc-a013-c30126ccbca9",
                "tags": []
            },
            "outputs": [],
            "execution_count": null
        },
        {
            "cell_type": "code",
            "source": [
                "# Excel\r\n",
                "import pandas as pd\r\n",
                "\r\n",
                "# Define the file path\r\n",
                "excel_file_path = 'data/export/population.xlsx'\r\n",
                "\r\n",
                "# Read the Excel file into a DataFrame\r\n",
                "df = pd.read_excel(excel_file_path)\r\n",
                "\r\n",
                "# Now, 'df' contains your data as a DataFrame\r\n",
                "df.head(10)"
            ],
            "metadata": {
                "language": "python",
                "azdata_cell_guid": "f73f8e2c-9af7-4cd5-a52a-9a3328fb6b84",
                "tags": []
            },
            "outputs": [],
            "execution_count": null
        },
        {
            "cell_type": "code",
            "source": [
                "# JSON – JavaScript Object Notation\r\n",
                "import pandas as pd\r\n",
                "\r\n",
                "# Define the file path\r\n",
                "json_file_path = 'data/export/population.json'\r\n",
                "\r\n",
                "# Read the JSON file into a DataFrame\r\n",
                "df = pd.read_json(json_file_path)\r\n",
                "\r\n",
                "# Now, 'df' contains your data as a DataFrame\r\n",
                "df.head(10)"
            ],
            "metadata": {
                "language": "python",
                "azdata_cell_guid": "7e019b50-3d60-40b4-acea-bb46ff6fc516",
                "tags": []
            },
            "outputs": [],
            "execution_count": null
        },
        {
            "cell_type": "code",
            "source": [
                "# XML – Extensible Markup Language\r\n",
                "import pandas as pd\r\n",
                "import xml.etree.ElementTree as ET\r\n",
                "\r\n",
                "# Define the file path\r\n",
                "xml_file_path = 'data/export/population.xml'\r\n",
                "\r\n",
                "# Parse the XML file\r\n",
                "tree = ET.parse(xml_file_path)\r\n",
                "root = tree.getroot()\r\n",
                "\r\n",
                "# Create an empty list to store dictionaries\r\n",
                "data_list = []\r\n",
                "\r\n",
                "# Loop through the XML elements and extract data\r\n",
                "for element in root:\r\n",
                "    data = {}  # Dictionary to store data from each element\r\n",
                "    for sub_element in element:\r\n",
                "        data[sub_element.tag] = sub_element.text\r\n",
                "    data_list.append(data)\r\n",
                "\r\n",
                "# Create a DataFrame from the list of dictionaries\r\n",
                "df = pd.DataFrame(data_list, columns=['country', 'year', 'population'])\r\n",
                "\r\n",
                "# Now, 'df' contains your XML data as a DataFrame\r\n",
                "df.head(10)"
            ],
            "metadata": {
                "language": "python",
                "azdata_cell_guid": "2184dd40-bfda-40fb-9462-cf27aafb3687",
                "tags": []
            },
            "outputs": [],
            "execution_count": null
        },
        {
            "cell_type": "code",
            "source": [
                "# Parquet – Apache Parquet\r\n",
                "import pandas as pd\r\n",
                "\r\n",
                "# Define the file path\r\n",
                "parquet_file_path = 'data/export/population-fastparquet.parquet'\r\n",
                "\r\n",
                "# Load the Parquet file into a DataFrame\r\n",
                "df = pd.read_parquet(parquet_file_path)\r\n",
                "\r\n",
                "# Now, 'df' contains your data as a DataFrame\r\n",
                "df.head(10)"
            ],
            "metadata": {
                "azdata_cell_guid": "47f74a45-442a-49f6-9666-a909d9e64c17",
                "language": "python",
                "tags": []
            },
            "outputs": [],
            "execution_count": null
        },
        {
            "cell_type": "code",
            "source": [
                "# Avro\r\n",
                "import pandas as pd\r\n",
                "import fastavro\r\n",
                "\r\n",
                "# Define the file path\r\n",
                "avro_file_path = 'data/export/population.avro'\r\n",
                "\r\n",
                "# Read the Avro file\r\n",
                "with open(avro_file_path, 'rb') as avro_file:\r\n",
                "    avro_reader = fastavro.reader(avro_file)\r\n",
                "    data = list(avro_reader)\r\n",
                "\r\n",
                "# Convert the Avro data to a DataFrame\r\n",
                "df = pd.DataFrame(data)\r\n",
                "\r\n",
                "# Now, 'df' contains your data as a DataFrame\r\n",
                "df.head(10)"
            ],
            "metadata": {
                "language": "python",
                "azdata_cell_guid": "9d0403c4-9906-4e99-ba0f-62f6593037c8",
                "tags": []
            },
            "outputs": [],
            "execution_count": null
        },
        {
            "cell_type": "code",
            "source": [
                "# ORC\r\n",
                "# noch keine Demo vorhanden"
            ],
            "metadata": {
                "language": "python",
                "azdata_cell_guid": "70894041-cb1d-45b7-a7c2-3637ec47bda9"
            },
            "outputs": [],
            "execution_count": null
        }
    ]
}