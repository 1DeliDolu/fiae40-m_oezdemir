{
    "metadata": {
        "kernelspec": {
            "name": "python3",
            "display_name": "Python 3",
            "language": "python"
        },
        "language_info": {
            "name": "python",
            "version": "3.8.10",
            "mimetype": "text/x-python",
            "codemirror_mode": {
                "name": "ipython",
                "version": 3
            },
            "pygments_lexer": "ipython3",
            "nbconvert_exporter": "python",
            "file_extension": ".py"
        }
    },
    "nbformat_minor": 2,
    "nbformat": 4,
    "cells": [
        {
            "cell_type": "markdown",
            "source": [
                "# JSON Daten laden, analysieren und plotten\n",
                "\n",
                "JSON: JavaScript Object Notation"
            ],
            "metadata": {
                "azdata_cell_guid": "f6075af7-149e-435b-b03f-144b70ae9007"
            },
            "attachments": {}
        },
        {
            "cell_type": "code",
            "source": [
                "# Bibliotheken laden\r\n",
                "import pandas as pd\r\n",
                "import json\r\n",
                "'pandas pd und json geladen'"
            ],
            "metadata": {
                "azdata_cell_guid": "406f556a-2add-4f00-8fb7-6f6d01530a5b",
                "language": "python"
            },
            "outputs": [
                {
                    "data": {
                        "text/plain": "'pandas pd und json geladen'"
                    },
                    "metadata": {},
                    "execution_count": 24,
                    "output_type": "execute_result"
                }
            ],
            "execution_count": 24
        },
        {
            "cell_type": "code",
            "source": [
                "# Load JSON data\r\n",
                "with open('data/cd-catalog.json', 'r') as file:\r\n",
                "    data = json.load(file)\r\n",
                "\r\n",
                "type(data)"
            ],
            "metadata": {
                "language": "python",
                "azdata_cell_guid": "a636bedf-c247-451f-8f45-953b974ff718"
            },
            "outputs": [
                {
                    "data": {
                        "text/plain": "list"
                    },
                    "metadata": {},
                    "execution_count": 25,
                    "output_type": "execute_result"
                }
            ],
            "execution_count": 25
        },
        {
            "cell_type": "code",
            "source": [
                "# Convert JSON to DataFrame\r\n",
                "df = pd.DataFrame(data)\r\n",
                "\r\n",
                "type(df)"
            ],
            "metadata": {
                "language": "python",
                "azdata_cell_guid": "af5c8e4d-9f57-4b43-9d85-3d6b467c673f"
            },
            "outputs": [
                {
                    "data": {
                        "text/plain": "pandas.core.frame.DataFrame"
                    },
                    "metadata": {},
                    "execution_count": 26,
                    "output_type": "execute_result"
                }
            ],
            "execution_count": 26
        },
        {
            "cell_type": "code",
            "source": [
                "# Analyze the data\r\n",
                "# Display the first few rows\r\n",
                "df.head()"
            ],
            "metadata": {
                "language": "python",
                "azdata_cell_guid": "3323552d-2353-47bd-8716-da0bd16f621a"
            },
            "outputs": [
                {
                    "data": {
                        "text/plain": "                 TITLE           ARTIST COUNTRY         COMPANY  PRICE  YEAR\n0     Empire Burlesque        Bob Dylan     USA        Columbia  10.90  1985\n1      Hide your heart     Bonnie Tyler      UK     CBS Records   9.90  1988\n2        Greatest Hits     Dolly Parton     USA             RCA   9.90  1982\n3  Still got the blues       Gary Moore      UK  Virgin records  10.20  1990\n4                 Eros  Eros Ramazzotti      EU             BMG   9.90  1997",
                        "text/html": "<div>\n<style scoped>\n    .dataframe tbody tr th:only-of-type {\n        vertical-align: middle;\n    }\n\n    .dataframe tbody tr th {\n        vertical-align: top;\n    }\n\n    .dataframe thead th {\n        text-align: right;\n    }\n</style>\n<table border=\"1\" class=\"dataframe\">\n  <thead>\n    <tr style=\"text-align: right;\">\n      <th></th>\n      <th>TITLE</th>\n      <th>ARTIST</th>\n      <th>COUNTRY</th>\n      <th>COMPANY</th>\n      <th>PRICE</th>\n      <th>YEAR</th>\n    </tr>\n  </thead>\n  <tbody>\n    <tr>\n      <th>0</th>\n      <td>Empire Burlesque</td>\n      <td>Bob Dylan</td>\n      <td>USA</td>\n      <td>Columbia</td>\n      <td>10.90</td>\n      <td>1985</td>\n    </tr>\n    <tr>\n      <th>1</th>\n      <td>Hide your heart</td>\n      <td>Bonnie Tyler</td>\n      <td>UK</td>\n      <td>CBS Records</td>\n      <td>9.90</td>\n      <td>1988</td>\n    </tr>\n    <tr>\n      <th>2</th>\n      <td>Greatest Hits</td>\n      <td>Dolly Parton</td>\n      <td>USA</td>\n      <td>RCA</td>\n      <td>9.90</td>\n      <td>1982</td>\n    </tr>\n    <tr>\n      <th>3</th>\n      <td>Still got the blues</td>\n      <td>Gary Moore</td>\n      <td>UK</td>\n      <td>Virgin records</td>\n      <td>10.20</td>\n      <td>1990</td>\n    </tr>\n    <tr>\n      <th>4</th>\n      <td>Eros</td>\n      <td>Eros Ramazzotti</td>\n      <td>EU</td>\n      <td>BMG</td>\n      <td>9.90</td>\n      <td>1997</td>\n    </tr>\n  </tbody>\n</table>\n</div>"
                    },
                    "metadata": {},
                    "execution_count": 27,
                    "output_type": "execute_result"
                }
            ],
            "execution_count": 27
        },
        {
            "cell_type": "code",
            "source": [
                "# Summary statistics\r\n",
                "df.describe()  "
            ],
            "metadata": {
                "language": "python",
                "azdata_cell_guid": "10fa279f-8479-4710-a59e-eb10dfdff4d8"
            },
            "outputs": [
                {
                    "data": {
                        "text/plain": "                   TITLE     ARTIST COUNTRY  COMPANY PRICE  YEAR\ncount                 26         26      26       26    26    26\nunique                26         26       4       23    13    15\ntop     Empire Burlesque  Bob Dylan      UK  Polydor  9.90  1987\nfreq                   1          1      13        3     5     4",
                        "text/html": "<div>\n<style scoped>\n    .dataframe tbody tr th:only-of-type {\n        vertical-align: middle;\n    }\n\n    .dataframe tbody tr th {\n        vertical-align: top;\n    }\n\n    .dataframe thead th {\n        text-align: right;\n    }\n</style>\n<table border=\"1\" class=\"dataframe\">\n  <thead>\n    <tr style=\"text-align: right;\">\n      <th></th>\n      <th>TITLE</th>\n      <th>ARTIST</th>\n      <th>COUNTRY</th>\n      <th>COMPANY</th>\n      <th>PRICE</th>\n      <th>YEAR</th>\n    </tr>\n  </thead>\n  <tbody>\n    <tr>\n      <th>count</th>\n      <td>26</td>\n      <td>26</td>\n      <td>26</td>\n      <td>26</td>\n      <td>26</td>\n      <td>26</td>\n    </tr>\n    <tr>\n      <th>unique</th>\n      <td>26</td>\n      <td>26</td>\n      <td>4</td>\n      <td>23</td>\n      <td>13</td>\n      <td>15</td>\n    </tr>\n    <tr>\n      <th>top</th>\n      <td>Empire Burlesque</td>\n      <td>Bob Dylan</td>\n      <td>UK</td>\n      <td>Polydor</td>\n      <td>9.90</td>\n      <td>1987</td>\n    </tr>\n    <tr>\n      <th>freq</th>\n      <td>1</td>\n      <td>1</td>\n      <td>13</td>\n      <td>3</td>\n      <td>5</td>\n      <td>4</td>\n    </tr>\n  </tbody>\n</table>\n</div>"
                    },
                    "metadata": {},
                    "execution_count": 28,
                    "output_type": "execute_result"
                }
            ],
            "execution_count": 28
        },
        {
            "cell_type": "code",
            "source": [
                "# Data types and missing values\r\n",
                "df.info()"
            ],
            "metadata": {
                "language": "python",
                "azdata_cell_guid": "6f619697-10b7-4728-a625-42ae6d4e9fa7"
            },
            "outputs": [
                {
                    "name": "stdout",
                    "text": "<class 'pandas.core.frame.DataFrame'>\nRangeIndex: 26 entries, 0 to 25\nData columns (total 6 columns):\n #   Column   Non-Null Count  Dtype \n---  ------   --------------  ----- \n 0   TITLE    26 non-null     object\n 1   ARTIST   26 non-null     object\n 2   COUNTRY  26 non-null     object\n 3   COMPANY  26 non-null     object\n 4   PRICE    26 non-null     object\n 5   YEAR     26 non-null     object\ndtypes: object(6)\nmemory usage: 1.3+ KB\n",
                    "output_type": "stream"
                }
            ],
            "execution_count": 29
        },
        {
            "cell_type": "code",
            "source": [
                "df.groupby('COUNTRY').TITLE.count().sort_values(\r\n",
                "    ascending=True\r\n",
                ").plot(\r\n",
                "    kind='barh',\r\n",
                "    ylabel='',\r\n",
                "    title='Number of CDs per Country'\r\n",
                ")"
            ],
            "metadata": {
                "language": "python",
                "azdata_cell_guid": "27d8f3fd-73a8-4f57-bd1f-d3c00cc81681"
            },
            "outputs": [
                {
                    "data": {
                        "text/plain": "<Figure size 432x288 with 1 Axes>",
                        "image/png": "[encoded data removed]"
                    },
                    "metadata": {
                        "needs_background": "light"
                    },
                    "output_type": "display_data"
                },
                {
                    "data": {
                        "text/plain": "<Axes: title={'center': 'Number of CDs per Country'}>"
                    },
                    "metadata": {},
                    "execution_count": 34,
                    "output_type": "execute_result"
                }
            ],
            "execution_count": 34
        }
    ]
}