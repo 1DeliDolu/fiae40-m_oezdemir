{
    "metadata": {
        "kernelspec": {
            "name": "python3",
            "display_name": "Python 3",
            "language": "python"
        },
        "language_info": {
            "name": "python",
            "version": "3.8.10",
            "mimetype": "text/x-python",
            "codemirror_mode": {
                "name": "ipython",
                "version": 3
            },
            "pygments_lexer": "ipython3",
            "nbconvert_exporter": "python",
            "file_extension": ".py"
        }
    },
    "nbformat_minor": 2,
    "nbformat": 4,
    "cells": [
        {
            "cell_type": "markdown",
            "source": [
                "# Vorbereitung: Verschiedene Python Bibliotheken installieren"
            ],
            "metadata": {
                "azdata_cell_guid": "60bd3c89-8a8e-4aa0-8b19-5f767898109c"
            },
            "attachments": {}
        },
        {
            "cell_type": "code",
            "source": [
                "# Bibliothek für Datenanalysen\r\n",
                "!pip install pandas"
            ],
            "metadata": {
                "language": "python",
                "azdata_cell_guid": "6f732f0a-878d-4ccb-a39f-6aa9ec3e2b1a"
            },
            "outputs": [],
            "execution_count": null
        },
        {
            "cell_type": "code",
            "source": [
                "# Bibliothek für Diagramme\r\n",
                "!pip install matplotlib"
            ],
            "metadata": {
                "language": "python",
                "azdata_cell_guid": "949a0acb-6d76-4b0d-8816-3ea990942be9"
            },
            "outputs": [],
            "execution_count": null
        },
        {
            "cell_type": "code",
            "source": [
                "# Bibliothek für Datenbankverbindungen\r\n",
                "!pip install sqlalchemy"
            ],
            "metadata": {
                "language": "python",
                "azdata_cell_guid": "a1c7b89f-c5bb-4fc4-8e9a-56389ef8f2f0"
            },
            "outputs": [],
            "execution_count": null
        },
        {
            "cell_type": "code",
            "source": [
                "# Bibliothek für Datenbankverbindungen mit ODBC\r\n",
                "!pip install pyodbc"
            ],
            "metadata": {
                "language": "python",
                "azdata_cell_guid": "e2202374-f2b8-4b8c-a2d9-4e5ba53a882a"
            },
            "outputs": [],
            "execution_count": null
        },
        {
            "cell_type": "markdown",
            "source": [
                "## Bibliotheken für die Verarbeitung spezieller Dateitypen"
            ],
            "metadata": {
                "language": "python",
                "azdata_cell_guid": "d1dafcbf-43c2-4b64-a326-d426f33ff0c7"
            },
            "attachments": {}
        },
        {
            "cell_type": "code",
            "source": [
                "# Bibliothek zur Verarbeitung von Excel-Dateien\r\n",
                "!pip install openpyxl"
            ],
            "metadata": {
                "language": "python",
                "azdata_cell_guid": "6178f380-d8fa-4880-b9de-c265154af4fa"
            },
            "outputs": [],
            "execution_count": null
        },
        {
            "cell_type": "code",
            "source": [
                "# Zur XML Verabeitung\r\n",
                "!pip install lxml"
            ],
            "metadata": {
                "language": "python",
                "azdata_cell_guid": "acc92c1b-7cb3-4a86-b5c2-302c80b90fcf"
            },
            "outputs": [],
            "execution_count": null
        },
        {
            "cell_type": "code",
            "source": [
                "# Bibliothek zur Verarbeitung von Parquet-Dateien\r\n",
                "!pip install pyarrow"
            ],
            "metadata": {
                "language": "python",
                "azdata_cell_guid": "820b5826-a832-44cb-be29-33442800cc2a"
            },
            "outputs": [],
            "execution_count": null
        },
        {
            "cell_type": "code",
            "source": [
                "# Alternative Bibliothek zur Verarbeitung von Parquet-Dateien\r\n",
                "!pip install fastparquet"
            ],
            "metadata": {
                "language": "python",
                "azdata_cell_guid": "1fe646e1-8735-48f2-ba6d-8c7b95501be3"
            },
            "outputs": [],
            "execution_count": null
        },
        {
            "cell_type": "code",
            "source": [
                "# Bibliothek zur Verarbeitung von AVRO Dateien\r\n",
                "!pip install fastavro"
            ],
            "metadata": {
                "language": "python",
                "azdata_cell_guid": "c0c64aea-5c59-4310-b5b5-89b4e7002314"
            },
            "outputs": [],
            "execution_count": null
        },
        {
            "cell_type": "code",
            "source": [
                "# Bibliothek zur verarbeitung von ORC-DateienS\r\n",
                "!pip install pyorc"
            ],
            "metadata": {
                "language": "python",
                "azdata_cell_guid": "d78df2c0-9742-46eb-920b-00072d7b3355"
            },
            "outputs": [],
            "execution_count": null
        },
        {
            "cell_type": "code",
            "source": [
                "# Zur ORC Verarbeitung versucht\r\n",
                "!pip install pandas pyhive\r\n",
                ""
            ],
            "metadata": {
                "language": "python",
                "azdata_cell_guid": "37bd6019-9f71-4e72-82b4-ba704d16d4dc"
            },
            "outputs": [],
            "execution_count": null
        },
        {
            "cell_type": "code",
            "source": [
                "# Zur ORC Verarbeitung versucht\r\n",
                "!pip install pyspark\r\n",
                ""
            ],
            "metadata": {
                "language": "python",
                "azdata_cell_guid": "b0dd4245-e979-406e-b447-2958dec2a6ef"
            },
            "outputs": [],
            "execution_count": null
        }
    ]
}