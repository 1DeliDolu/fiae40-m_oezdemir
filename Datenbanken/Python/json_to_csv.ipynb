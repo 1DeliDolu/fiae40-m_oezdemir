{
    "metadata": {
        "kernelspec": {
            "name": "python3",
            "display_name": "Python 3",
            "language": "python"
        },
        "language_info": {
            "name": "python",
            "version": "3.8.10",
            "mimetype": "text/x-python",
            "codemirror_mode": {
                "name": "ipython",
                "version": 3
            },
            "pygments_lexer": "ipython3",
            "nbconvert_exporter": "python",
            "file_extension": ".py"
        }
    },
    "nbformat_minor": 2,
    "nbformat": 4,
    "cells": [
        {
            "cell_type": "markdown",
            "source": [
                "# DataFrame in CSV-Datei schreiben"
            ],
            "metadata": {
                "azdata_cell_guid": "b5a32f6d-a442-4a1b-9ce1-2aacb5bbe2bc"
            },
            "attachments": {}
        },
        {
            "cell_type": "code",
            "source": [
                "# Bibliotheken laden\r\n",
                "import pandas as pd\r\n",
                "import json\r\n",
                "'pandas pd und json geladen'"
            ],
            "metadata": {
                "azdata_cell_guid": "fa399fee-b1c0-4e55-a706-774482bd2f34",
                "language": "python"
            },
            "outputs": [
                {
                    "output_type": "execute_result",
                    "execution_count": 1,
                    "data": {
                        "text/plain": "'pandas pd und json geladen'"
                    },
                    "metadata": {}
                }
            ],
            "execution_count": 1
        },
        {
            "cell_type": "code",
            "source": [
                "# Load JSON data\r\n",
                "with open('data/cd-catalog.json', 'r') as file:\r\n",
                "    data = json.load(file)\r\n",
                "\r\n",
                "# Convert JSON to DataFrame\r\n",
                "df = pd.DataFrame(data)"
            ],
            "metadata": {
                "language": "python",
                "azdata_cell_guid": "ef5ced96-fd9d-4c4d-be11-460305f6a2a5"
            },
            "outputs": [],
            "execution_count": 2
        },
        {
            "cell_type": "code",
            "source": [
                "csv_file_path = 'data/cd-catalog.csv'\r\n",
                "df.to_csv(csv_file_path, index=False)\r\n",
                "'cd-catalog.csv erstellt'"
            ],
            "metadata": {
                "language": "python",
                "azdata_cell_guid": "e9f7a90d-331b-4279-8b7a-9433b4bd8d12"
            },
            "outputs": [
                {
                    "output_type": "execute_result",
                    "execution_count": 7,
                    "data": {
                        "text/plain": "'cd-catalog.csv erstellt'"
                    },
                    "metadata": {}
                }
            ],
            "execution_count": 7
        },
        {
            "cell_type": "code",
            "source": [
                "df_csv = pd.read_csv('data/cd-catalog.csv')\r\n",
                "df_csv.describe()"
            ],
            "metadata": {
                "language": "python",
                "azdata_cell_guid": "145aa1fc-0ad6-4ed8-becc-5a014273c6c3"
            },
            "outputs": [
                {
                    "output_type": "execute_result",
                    "execution_count": 5,
                    "data": {
                        "text/plain": "             PRICE         YEAR\ncount    26.000000    26.000000\nmean    104.884615  1988.000000\nstd     488.286594     8.128961\nmin       7.200000  1968.000000\n25%       8.125000  1985.000000\n50%       8.900000  1988.000000\n75%      10.125000  1995.000000\nmax    2498.900000  1999.000000",
                        "text/html": "<div>\n<style scoped>\n    .dataframe tbody tr th:only-of-type {\n        vertical-align: middle;\n    }\n\n    .dataframe tbody tr th {\n        vertical-align: top;\n    }\n\n    .dataframe thead th {\n        text-align: right;\n    }\n</style>\n<table border=\"1\" class=\"dataframe\">\n  <thead>\n    <tr style=\"text-align: right;\">\n      <th></th>\n      <th>PRICE</th>\n      <th>YEAR</th>\n    </tr>\n  </thead>\n  <tbody>\n    <tr>\n      <th>count</th>\n      <td>26.000000</td>\n      <td>26.000000</td>\n    </tr>\n    <tr>\n      <th>mean</th>\n      <td>104.884615</td>\n      <td>1988.000000</td>\n    </tr>\n    <tr>\n      <th>std</th>\n      <td>488.286594</td>\n      <td>8.128961</td>\n    </tr>\n    <tr>\n      <th>min</th>\n      <td>7.200000</td>\n      <td>1968.000000</td>\n    </tr>\n    <tr>\n      <th>25%</th>\n      <td>8.125000</td>\n      <td>1985.000000</td>\n    </tr>\n    <tr>\n      <th>50%</th>\n      <td>8.900000</td>\n      <td>1988.000000</td>\n    </tr>\n    <tr>\n      <th>75%</th>\n      <td>10.125000</td>\n      <td>1995.000000</td>\n    </tr>\n    <tr>\n      <th>max</th>\n      <td>2498.900000</td>\n      <td>1999.000000</td>\n    </tr>\n  </tbody>\n</table>\n</div>"
                    },
                    "metadata": {}
                }
            ],
            "execution_count": 5
        }
    ]
}