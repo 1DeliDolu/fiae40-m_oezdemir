{
    "metadata": {
        "kernelspec": {
            "name": "python3",
            "display_name": "Python 3",
            "language": "python"
        },
        "language_info": {
            "name": "python",
            "version": "3.8.10",
            "mimetype": "text/x-python",
            "codemirror_mode": {
                "name": "ipython",
                "version": 3
            },
            "pygments_lexer": "ipython3",
            "nbconvert_exporter": "python",
            "file_extension": ".py"
        }
    },
    "nbformat_minor": 2,
    "nbformat": 4,
    "cells": [
        {
            "cell_type": "markdown",
            "source": [
                "# Ein DataFrame in unterschiedliche Dateiformate ausgeben"
            ],
            "metadata": {
                "azdata_cell_guid": "676e799f-e864-48b8-9b26-2c262bf09370"
            },
            "attachments": {}
        },
        {
            "cell_type": "code",
            "source": [
                "import pandas as pd\r\n",
                "df = pd.read_csv('data/population_total.csv')\r\n",
                "\r\n",
                "# Adjusting data types\r\n",
                "df.dropna(subset=['year'], inplace=True) \r\n",
                "df.dropna(subset=['population'], inplace=True) \r\n",
                "print(len(df))\r\n",
                "\r\n",
                "df['year'] = df['year'].astype(int)  # Convert \"year\" column to int\r\n",
                "df['population'] = df['population'].astype(int)  # Convert \"population\" column to int\r\n",
                "\r\n",
                "'Data Frame geladen als df'"
            ],
            "metadata": {
                "azdata_cell_guid": "a94056bb-b7e7-4470-8647-f8885734f715",
                "language": "python"
            },
            "outputs": [],
            "execution_count": null
        },
        {
            "cell_type": "code",
            "source": [
                "df.describe()"
            ],
            "metadata": {
                "language": "python",
                "azdata_cell_guid": "ebb332a0-b926-4f4a-bec9-a0bead18f75d"
            },
            "outputs": [],
            "execution_count": null
        },
        {
            "cell_type": "code",
            "source": [
                "# Save DataFrame to a CSV file\r\n",
                "df.to_csv('data/export/population.csv', index=False)\r\n",
                "'population.csv erstellt'"
            ],
            "metadata": {
                "language": "python",
                "azdata_cell_guid": "62779aee-3ad7-4233-8546-c3df28f53f2f"
            },
            "outputs": [],
            "execution_count": null
        },
        {
            "cell_type": "code",
            "source": [
                "# Save DataFrame to an Excel file\r\n",
                "import openpyxl\r\n",
                "df.to_excel('data/export/population.xlsx', index=False)\r\n",
                "'population.xlsx erstellt'"
            ],
            "metadata": {
                "language": "python",
                "azdata_cell_guid": "71fc13ca-d1bd-4a35-81bc-6732141a3919"
            },
            "outputs": [],
            "execution_count": null
        },
        {
            "cell_type": "code",
            "source": [
                "# Save DataFrame to a JSON file\r\n",
                "df.to_json('data/export/population.json', orient='records')  \r\n",
                "'population.json erstellt'"
            ],
            "metadata": {
                "language": "python",
                "azdata_cell_guid": "439c374e-3ca7-4d9f-ade7-c7d4bff54947"
            },
            "outputs": [],
            "execution_count": null
        },
        {
            "cell_type": "code",
            "source": [
                "import pandas as pd\r\n",
                "\r\n",
                "# Specify the path to the XML file\r\n",
                "xml_file_path = 'data/export/population.xml'\r\n",
                "\r\n",
                "# Write the DataFrame to XML\r\n",
                "df.to_xml(xml_file_path, root_name='data', row_name='record')\r\n",
                "'population.xml erstellt'"
            ],
            "metadata": {
                "language": "python",
                "azdata_cell_guid": "fa231a87-4d56-48c6-88c6-1234b287d912"
            },
            "outputs": [],
            "execution_count": null
        },
        {
            "cell_type": "code",
            "source": [
                "# Save DataFrame to a Parquet file using pyarrow\r\n",
                "df.to_parquet('data/export/population-pyarrow.parquet', index=False, engine='pyarrow')\r\n",
                "'population-pyarrow.parquet erstellt'"
            ],
            "metadata": {
                "language": "python",
                "azdata_cell_guid": "28389dbe-fd4c-4dc3-9c58-c5bb8a2ecf28"
            },
            "outputs": [],
            "execution_count": null
        },
        {
            "cell_type": "code",
            "source": [
                "# Save DataFrame to a Parquet file using fastparquet\r\n",
                "df.to_parquet('data/export/population-fastparquet.parquet', index=False, engine='fastparquet')\r\n",
                "'population-fastparquet.parquet erstellt'"
            ],
            "metadata": {
                "language": "python",
                "azdata_cell_guid": "36f8ae1a-a2d1-4b45-ab19-5bce794ddc35"
            },
            "outputs": [],
            "execution_count": null
        },
        {
            "cell_type": "code",
            "source": [
                "# Save DataFrame to AVRO file\r\n",
                "import pandas as pd\r\n",
                "import fastavro\r\n",
                "\r\n",
                "# Assuming df is your DataFrame\r\n",
                "avro_schema = fastavro.parse_schema({\r\n",
                "    'type': 'record',\r\n",
                "    'name': 'population_data',\r\n",
                "    'fields': [\r\n",
                "        {'name': 'country', 'type': ['null', 'string']},\r\n",
                "        {'name': 'year', 'type': ['null', 'int']},\r\n",
                "        {'name': 'population', 'type': ['null', 'int']}\r\n",
                "    ]\r\n",
                "})\r\n",
                "\r\n",
                "with open('data/export/population.avro', 'wb') as avro_file:\r\n",
                "    fastavro.writer(avro_file, avro_schema, df.to_dict(orient='records'))\r\n",
                "\r\n",
                "'population.avro erstellt'    "
            ],
            "metadata": {
                "language": "python",
                "azdata_cell_guid": "9f787000-2e7c-4f24-a6c3-f6f7b0e3e0c4"
            },
            "outputs": [],
            "execution_count": null
        },
        {
            "cell_type": "markdown",
            "source": [
                "## ORC benötigt eine korrekt konfigurierte HADOOP Umgebung\n",
                "\n",
                "Dieses Beispiel benötigt weitere Vorbereitung"
            ],
            "metadata": {
                "language": "python",
                "azdata_cell_guid": "04ddb0e7-9749-4379-8d48-8ff3158e6446"
            },
            "attachments": {}
        },
        {
            "cell_type": "code",
            "source": [
                "from pyspark.sql import SparkSession\r\n",
                "\r\n",
                "# Initialize a Spark session\r\n",
                "spark = SparkSession.builder.appName(\"DataFrameToORC\").getOrCreate()\r\n",
                "\r\n",
                "# Create a Spark DataFrame from the Pandas DataFrame\r\n",
                "spark_df = spark.createDataFrame(df)\r\n",
                "\r\n",
                "# Specify the path to the ORC file\r\n",
                "orc_file_path = \"data/export/population.orc\"\r\n",
                "\r\n",
                "# Write the DataFrame to the ORC file\r\n",
                "spark_df.write.mode(\"overwrite\").orc(orc_file_path)\r\n",
                "\r\n",
                "# Stop the Spark session\r\n",
                "spark.stop()\r\n",
                "\r\n",
                "print(f\"DataFrame successfully written to {orc_file_path}\")"
            ],
            "metadata": {
                "azdata_cell_guid": "59a556a6-fca1-45c5-ab12-6abe6e99d9be",
                "language": "python"
            },
            "outputs": [],
            "execution_count": null
        }
    ]
}