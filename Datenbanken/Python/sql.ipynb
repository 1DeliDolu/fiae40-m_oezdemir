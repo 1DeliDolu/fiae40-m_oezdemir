{
    "metadata": {
        "kernelspec": {
            "name": "python3",
            "display_name": "Python 3",
            "language": "python"
        },
        "language_info": {
            "name": "python",
            "version": "3.8.10",
            "mimetype": "text/x-python",
            "codemirror_mode": {
                "name": "ipython",
                "version": 3
            },
            "pygments_lexer": "ipython3",
            "nbconvert_exporter": "python",
            "file_extension": ".py"
        }
    },
    "nbformat_minor": 2,
    "nbformat": 4,
    "cells": [
        {
            "cell_type": "markdown",
            "source": [
                "# Mit Python SQL-Server Datenbank abfragen"
            ],
            "metadata": {
                "azdata_cell_guid": "13d72ec0-83e4-4383-9077-545bcb5b586e"
            },
            "attachments": {}
        },
        {
            "cell_type": "code",
            "source": [
                "import pandas as pd\r\n",
                "from sqlalchemy import create_engine\r\n",
                "\r\n",
                "server = '<Server Name eintragen!>'\r\n",
                "database = 'cd_catalog'\r\n",
                "username = 'PythonDemo'\r\n",
                "password = 'python'\r\n",
                "\r\n",
                "# Create a SQLAlchemy engine\r\n",
                "engine = create_engine(f'mssql+pyodbc://{username}:{password}@{server}/{database}?driver=ODBC+Driver+17+for+SQL+Server')\r\n",
                "\r\n",
                "type(engine)"
            ],
            "metadata": {
                "language": "python",
                "azdata_cell_guid": "b66a8993-2a09-4d7b-87d7-4746ebdf8b52"
            },
            "outputs": [
                {
                    "output_type": "execute_result",
                    "execution_count": 1,
                    "data": {
                        "text/plain": "sqlalchemy.engine.base.Engine"
                    },
                    "metadata": {}
                }
            ],
            "execution_count": 1
        },
        {
            "cell_type": "code",
            "source": [
                "query = 'SELECT * FROM cd_catalog'\r\n",
                "\r\n",
                "# Use pandas to load data into a DataFrame\r\n",
                "df = pd.read_sql_query(query, engine)\r\n",
                "\r\n",
                "# Print the first 30 rows of the DataFrame\r\n",
                "df.head(30)\r\n",
                ""
            ],
            "metadata": {
                "language": "python",
                "azdata_cell_guid": "8716b315-00af-420c-83e0-ef9df6a769cd"
            },
            "outputs": [
                {
                    "output_type": "execute_result",
                    "execution_count": 3,
                    "data": {
                        "text/plain": "    ID                     TITLE             ARTIST COUNTRY         COMPANY  \\\n0    1          Empire Burlesque          Bob Dylan     USA        Columbia   \n1    2           Hide your heart       Bonnie Tyler      UK     CBS Records   \n2    3             Greatest Hits       Dolly Parton     USA             RCA   \n3    4       Still got the blues         Gary Moore      UK  Virgin records   \n4    5                      Eros    Eros Ramazzotti      EU             BMG   \n5    6            One night only           Bee Gees      UK         Polydor   \n6    7            Sylvias Mother            Dr.Hook      UK             CBS   \n7    8                Maggie May        Rod Stewart      UK        Pickwick   \n8    9                   Romanza     Andrea Bocelli      EU         Polydor   \n9   10  When a man loves a woman       Percy Sledge     USA        Atlantic   \n10  11               Black angel        Savage Rose      EU            Mega   \n11  12      1999 Grammy Nominees               Many     USA          Grammy   \n12  13        For the good times       Kenny Rogers      UK    Mucik Master   \n13  14          Big Willie style         Will Smith     USA        Columbia   \n14  15              Tupelo Honey       Van Morrison      UK         Polydor   \n15  16                Soulsville          Jorn Hoel  Norway             WEA   \n16  17          The very best of        Cat Stevens      UK          Island   \n17  18                      Stop          Sam Brown      UK         A and M   \n18  19           Bridge of Spies              T'Pau      UK           Siren   \n19  20            Private Dancer        Tina Turner      UK         Capitol   \n20  21            Midt om natten         Kim Larsen      EU          Medley   \n21  22    Pavarotti Gala Concert  Luciano Pavarotti      UK           DECCA   \n22  23       The dock of the bay       Otis Redding     USA    Stax Records   \n23  24              Picture book         Simply Red      EU         Elektra   \n24  25                       Red     The Communards      UK          London   \n25  26          Unchain my heart         Joe Cocker     USA             EMI   \n\n     PRICE  YEAR  \n0     10.9  1985  \n1      9.9  1988  \n2      9.9  1982  \n3     10.2  1990  \n4      9.9  1997  \n5     10.9  1998  \n6      8.1  1973  \n7      8.5  1990  \n8     10.8  1996  \n9      8.7  1987  \n10    10.9  1995  \n11    10.2  1999  \n12     8.7  1995  \n13     9.9  1997  \n14     8.2  1971  \n15     7.9  1996  \n16     8.9  1990  \n17     8.9  1988  \n18     7.9  1987  \n19  2498.9  1983  \n20     7.8  1983  \n21     9.9  1991  \n22     7.9  1968  \n23     7.2  1985  \n24     7.8  1987  \n25     8.2  1987  ",
                        "text/html": "<div>\n<style scoped>\n    .dataframe tbody tr th:only-of-type {\n        vertical-align: middle;\n    }\n\n    .dataframe tbody tr th {\n        vertical-align: top;\n    }\n\n    .dataframe thead th {\n        text-align: right;\n    }\n</style>\n<table border=\"1\" class=\"dataframe\">\n  <thead>\n    <tr style=\"text-align: right;\">\n      <th></th>\n      <th>ID</th>\n      <th>TITLE</th>\n      <th>ARTIST</th>\n      <th>COUNTRY</th>\n      <th>COMPANY</th>\n      <th>PRICE</th>\n      <th>YEAR</th>\n    </tr>\n  </thead>\n  <tbody>\n    <tr>\n      <th>0</th>\n      <td>1</td>\n      <td>Empire Burlesque</td>\n      <td>Bob Dylan</td>\n      <td>USA</td>\n      <td>Columbia</td>\n      <td>10.9</td>\n      <td>1985</td>\n    </tr>\n    <tr>\n      <th>1</th>\n      <td>2</td>\n      <td>Hide your heart</td>\n      <td>Bonnie Tyler</td>\n      <td>UK</td>\n      <td>CBS Records</td>\n      <td>9.9</td>\n      <td>1988</td>\n    </tr>\n    <tr>\n      <th>2</th>\n      <td>3</td>\n      <td>Greatest Hits</td>\n      <td>Dolly Parton</td>\n      <td>USA</td>\n      <td>RCA</td>\n      <td>9.9</td>\n      <td>1982</td>\n    </tr>\n    <tr>\n      <th>3</th>\n      <td>4</td>\n      <td>Still got the blues</td>\n      <td>Gary Moore</td>\n      <td>UK</td>\n      <td>Virgin records</td>\n      <td>10.2</td>\n      <td>1990</td>\n    </tr>\n    <tr>\n      <th>4</th>\n      <td>5</td>\n      <td>Eros</td>\n      <td>Eros Ramazzotti</td>\n      <td>EU</td>\n      <td>BMG</td>\n      <td>9.9</td>\n      <td>1997</td>\n    </tr>\n    <tr>\n      <th>5</th>\n      <td>6</td>\n      <td>One night only</td>\n      <td>Bee Gees</td>\n      <td>UK</td>\n      <td>Polydor</td>\n      <td>10.9</td>\n      <td>1998</td>\n    </tr>\n    <tr>\n      <th>6</th>\n      <td>7</td>\n      <td>Sylvias Mother</td>\n      <td>Dr.Hook</td>\n      <td>UK</td>\n      <td>CBS</td>\n      <td>8.1</td>\n      <td>1973</td>\n    </tr>\n    <tr>\n      <th>7</th>\n      <td>8</td>\n      <td>Maggie May</td>\n      <td>Rod Stewart</td>\n      <td>UK</td>\n      <td>Pickwick</td>\n      <td>8.5</td>\n      <td>1990</td>\n    </tr>\n    <tr>\n      <th>8</th>\n      <td>9</td>\n      <td>Romanza</td>\n      <td>Andrea Bocelli</td>\n      <td>EU</td>\n      <td>Polydor</td>\n      <td>10.8</td>\n      <td>1996</td>\n    </tr>\n    <tr>\n      <th>9</th>\n      <td>10</td>\n      <td>When a man loves a woman</td>\n      <td>Percy Sledge</td>\n      <td>USA</td>\n      <td>Atlantic</td>\n      <td>8.7</td>\n      <td>1987</td>\n    </tr>\n    <tr>\n      <th>10</th>\n      <td>11</td>\n      <td>Black angel</td>\n      <td>Savage Rose</td>\n      <td>EU</td>\n      <td>Mega</td>\n      <td>10.9</td>\n      <td>1995</td>\n    </tr>\n    <tr>\n      <th>11</th>\n      <td>12</td>\n      <td>1999 Grammy Nominees</td>\n      <td>Many</td>\n      <td>USA</td>\n      <td>Grammy</td>\n      <td>10.2</td>\n      <td>1999</td>\n    </tr>\n    <tr>\n      <th>12</th>\n      <td>13</td>\n      <td>For the good times</td>\n      <td>Kenny Rogers</td>\n      <td>UK</td>\n      <td>Mucik Master</td>\n      <td>8.7</td>\n      <td>1995</td>\n    </tr>\n    <tr>\n      <th>13</th>\n      <td>14</td>\n      <td>Big Willie style</td>\n      <td>Will Smith</td>\n      <td>USA</td>\n      <td>Columbia</td>\n      <td>9.9</td>\n      <td>1997</td>\n    </tr>\n    <tr>\n      <th>14</th>\n      <td>15</td>\n      <td>Tupelo Honey</td>\n      <td>Van Morrison</td>\n      <td>UK</td>\n      <td>Polydor</td>\n      <td>8.2</td>\n      <td>1971</td>\n    </tr>\n    <tr>\n      <th>15</th>\n      <td>16</td>\n      <td>Soulsville</td>\n      <td>Jorn Hoel</td>\n      <td>Norway</td>\n      <td>WEA</td>\n      <td>7.9</td>\n      <td>1996</td>\n    </tr>\n    <tr>\n      <th>16</th>\n      <td>17</td>\n      <td>The very best of</td>\n      <td>Cat Stevens</td>\n      <td>UK</td>\n      <td>Island</td>\n      <td>8.9</td>\n      <td>1990</td>\n    </tr>\n    <tr>\n      <th>17</th>\n      <td>18</td>\n      <td>Stop</td>\n      <td>Sam Brown</td>\n      <td>UK</td>\n      <td>A and M</td>\n      <td>8.9</td>\n      <td>1988</td>\n    </tr>\n    <tr>\n      <th>18</th>\n      <td>19</td>\n      <td>Bridge of Spies</td>\n      <td>T'Pau</td>\n      <td>UK</td>\n      <td>Siren</td>\n      <td>7.9</td>\n      <td>1987</td>\n    </tr>\n    <tr>\n      <th>19</th>\n      <td>20</td>\n      <td>Private Dancer</td>\n      <td>Tina Turner</td>\n      <td>UK</td>\n      <td>Capitol</td>\n      <td>2498.9</td>\n      <td>1983</td>\n    </tr>\n    <tr>\n      <th>20</th>\n      <td>21</td>\n      <td>Midt om natten</td>\n      <td>Kim Larsen</td>\n      <td>EU</td>\n      <td>Medley</td>\n      <td>7.8</td>\n      <td>1983</td>\n    </tr>\n    <tr>\n      <th>21</th>\n      <td>22</td>\n      <td>Pavarotti Gala Concert</td>\n      <td>Luciano Pavarotti</td>\n      <td>UK</td>\n      <td>DECCA</td>\n      <td>9.9</td>\n      <td>1991</td>\n    </tr>\n    <tr>\n      <th>22</th>\n      <td>23</td>\n      <td>The dock of the bay</td>\n      <td>Otis Redding</td>\n      <td>USA</td>\n      <td>Stax Records</td>\n      <td>7.9</td>\n      <td>1968</td>\n    </tr>\n    <tr>\n      <th>23</th>\n      <td>24</td>\n      <td>Picture book</td>\n      <td>Simply Red</td>\n      <td>EU</td>\n      <td>Elektra</td>\n      <td>7.2</td>\n      <td>1985</td>\n    </tr>\n    <tr>\n      <th>24</th>\n      <td>25</td>\n      <td>Red</td>\n      <td>The Communards</td>\n      <td>UK</td>\n      <td>London</td>\n      <td>7.8</td>\n      <td>1987</td>\n    </tr>\n    <tr>\n      <th>25</th>\n      <td>26</td>\n      <td>Unchain my heart</td>\n      <td>Joe Cocker</td>\n      <td>USA</td>\n      <td>EMI</td>\n      <td>8.2</td>\n      <td>1987</td>\n    </tr>\n  </tbody>\n</table>\n</div>"
                    },
                    "metadata": {}
                }
            ],
            "execution_count": 3
        }
    ]
}