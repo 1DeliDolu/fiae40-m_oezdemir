{
    "metadata": {
        "kernelspec": {
            "name": "SQL",
            "display_name": "SQL",
            "language": "sql"
        },
        "language_info": {
            "name": "sql",
            "version": ""
        }
    },
    "nbformat_minor": 2,
    "nbformat": 4,
    "cells": [
        {
            "cell_type": "markdown",
            "source": [
                "# CD-Catalog SQL-Server Database"
            ],
            "metadata": {
                "azdata_cell_guid": "9600e2e2-53e5-49ae-be11-62d6426f7dc7",
                "language": ""
            },
            "attachments": {}
        },
        {
            "cell_type": "code",
            "source": [
                "USE master;\r\n",
                "\r\n",
                "DROP DATABASE IF EXISTS cd_catalog;\r\n",
                "go\r\n",
                "\r\n",
                "CREATE DATABASE cd_catalog;\r\n",
                "go\r\n",
                "\r\n",
                "USE cd_catalog;\r\n",
                "\r\n",
                "CREATE TABLE cd_catalog (\r\n",
                "    ID int identity(1,1),\r\n",
                "    TITLE varchar(50),\r\n",
                "    ARTIST varchar(50),\r\n",
                "    COUNTRY varchar(50),\r\n",
                "    COMPANY varchar(50),\r\n",
                "    PRICE decimal(9,2),\r\n",
                "    YEAR int\r\n",
                ");\r\n",
                "\r\n",
                ""
            ],
            "metadata": {
                "azdata_cell_guid": "745ab2be-d311-42af-be9e-6aec42e1f184",
                "language": "sql"
            },
            "outputs": [],
            "execution_count": null
        },
        {
            "cell_type": "code",
            "source": [
                "INSERT INTO cd_catalog (TITLE,ARTIST, COUNTRY, COMPANY, PRICE, YEAR)\r\n",
                "VALUES ('Empire Burlesque','Bob Dylan','USA','Columbia',10.90,1985),\r\n",
                "('Hide your heart','Bonnie Tyler','UK','CBS Records',9.90,1988),\r\n",
                "('Greatest Hits','Dolly Parton','USA','RCA',9.90,1982),\r\n",
                "('Still got the blues','Gary Moore','UK','Virgin records',10.20,1990),\r\n",
                "('Eros','Eros Ramazzotti','EU','BMG',9.90,1997),\r\n",
                "('One night only','Bee Gees','UK','Polydor',10.90,1998),\r\n",
                "('Sylvias Mother','Dr.Hook','UK','CBS',8.10,1973),\r\n",
                "('Maggie May','Rod Stewart','UK','Pickwick',8.50,1990),\r\n",
                "('Romanza','Andrea Bocelli','EU','Polydor',10.80,1996),\r\n",
                "('When a man loves a woman','Percy Sledge','USA','Atlantic',8.70,1987),\r\n",
                "('Black angel','Savage Rose','EU','Mega',10.90,1995),\r\n",
                "('1999 Grammy Nominees','Many','USA','Grammy',10.20,1999),\r\n",
                "('For the good times','Kenny Rogers','UK','Mucik Master',8.70,1995),\r\n",
                "('Big Willie style','Will Smith','USA','Columbia',9.90,1997),\r\n",
                "('Tupelo Honey','Van Morrison','UK','Polydor',8.20,1971),\r\n",
                "('Soulsville','Jorn Hoel','Norway','WEA',7.90,1996),\r\n",
                "('The very best of','Cat Stevens','UK','Island',8.90,1990),\r\n",
                "('Stop','Sam Brown','UK','A and M',8.90,1988),\r\n",
                "('Bridge of Spies','T''Pau','UK','Siren',7.90,1987),\r\n",
                "('Private Dancer','Tina Turner','UK','Capitol',2498.90,1983),\r\n",
                "('Midt om natten','Kim Larsen','EU','Medley',7.80,1983),\r\n",
                "('Pavarotti Gala Concert','Luciano Pavarotti','UK','DECCA',9.90,1991),\r\n",
                "('The dock of the bay','Otis Redding','USA','Stax Records',7.90,1968),\r\n",
                "('Picture book','Simply Red','EU','Elektra',7.20,1985),\r\n",
                "('Red','The Communards','UK','London',7.80,1987),\r\n",
                "('Unchain my heart','Joe Cocker','USA','EMI',8.20,1987);"
            ],
            "metadata": {
                "language": "sql",
                "azdata_cell_guid": "e49d8e5f-0104-4e67-aa45-55a501cfa541"
            },
            "outputs": [],
            "execution_count": null
        },
        {
            "cell_type": "code",
            "source": [
                "USE [master]\r\n",
                "GO\r\n",
                "CREATE LOGIN [PythonDemo] WITH PASSWORD=N'python', DEFAULT_DATABASE=[cd_catalog], CHECK_EXPIRATION=OFF, CHECK_POLICY=OFF\r\n",
                "GO"
            ],
            "metadata": {
                "azdata_cell_guid": "9815f63e-cd94-479a-9455-affd3668f924",
                "language": "sql"
            },
            "outputs": [],
            "execution_count": null
        },
        {
            "cell_type": "code",
            "source": [
                "USE [cd_catalog]\r\n",
                "GO\r\n",
                "CREATE USER [PythonDemo] FOR LOGIN [PythonDemo] WITH DEFAULT_SCHEMA=[dbo]\r\n",
                "GO\r\n",
                ""
            ],
            "metadata": {
                "language": "sql",
                "azdata_cell_guid": "8ad84d31-9960-4835-aafd-81923d61821e"
            },
            "outputs": [],
            "execution_count": null
        },
        {
            "cell_type": "code",
            "source": [
                "GRANT SELECT ON dbo.cd_catalog TO PythonDemo;"
            ],
            "metadata": {
                "language": "sql",
                "azdata_cell_guid": "c7601ff8-adcc-4f5f-aafe-19a431fc7a69"
            },
            "outputs": [],
            "execution_count": null
        }
    ]
}