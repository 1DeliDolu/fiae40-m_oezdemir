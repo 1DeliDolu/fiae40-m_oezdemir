{
    "metadata": {
        "kernelspec": {
            "name": "SQL",
            "display_name": "SQL",
            "language": "sql"
        },
        "language_info": {
            "name": "sql",
            "version": ""
        }
    },
    "nbformat_minor": 2,
    "nbformat": 4,
    "cells": [
        {
            "cell_type": "markdown",
            "source": [
                "# ERDPlus Export: Diesen Code <u>**NICHT!**</u> ausführen"
            ],
            "metadata": {
                "azdata_cell_guid": "963db955-e52a-4793-9e2b-75464fda20ec"
            },
            "attachments": {}
        },
        {
            "cell_type": "code",
            "source": [
                "CREATE TABLE FORSCHUNGSGRUPPE\n",
                "(\n",
                "  Nummer INT IDENTITY(1,1) NOT NULL,\n",
                "  Name INT NOT NULL,\n",
                "  CONSTRAINT pk_FORSCHUNGSGRUPPE PRIMARY KEY (Nummer)\n",
                ");\n",
                "\n",
                "CREATE TABLE CHEMIKALIE\n",
                "(\n",
                "  Formel VARCHAR(200) NOT NULL,\n",
                "  Name VARCHAR(100) NOT NULL,\n",
                "  Gefahrrenk INT NOT NULL,\n",
                "  Lagermenge INT NOT NULL,\n",
                "  CONSTRAINT pk_CHEMIKALIE PRIMARY KEY (Formel)\n",
                ");\n",
                "\n",
                "CREATE TABLE GERÄT\n",
                "(\n",
                "  GräteNr INT IDENTITY(1,1) NOT NULL,\n",
                "  Name VARCHAR(100) NOT NULL,\n",
                "  Beschreib VARCHAR(1000) NOT NULL,\n",
                "  AnzahlVerfügb INT NOT NULL,\n",
                "  PRIMARY KEY (GräteNr)\n",
                ");\n",
                "\n",
                "CREATE TABLE VERSUCH\n",
                "(\n",
                "  Nummer INT IDENTITY(1,1) NOT NULL,\n",
                "  Zeit INT NOT NULL,\n",
                "  Beschreib INT NOT NULL,\n",
                "  Formel VARCHAR(200) NOT NULL,\n",
                "  GräteNr INT NOT NULL,\n",
                "  CONSTRAINT pk_VERSUCH PRIMARY KEY (Nummer),\n",
                "  CONSTRAINT fk_CHEMIKALI FOREIGN KEY (Formel) REFERENCES CHEMIKALIE(Formel),\n",
                "  CONSTRAINT fk_GERÄT FOREIGN KEY (GräteNr) REFERENCES GERÄT(GräteNr)\n",
                ");\n",
                "\n",
                "CREATE TABLE MESSWERTE\n",
                "(\n",
                "  Zeit DATETIME NOT NULL,\n",
                "  Wert INT NOT NULL,\n",
                "  VersuchNr INT NOT NULL,\n",
                "  Nummer INT IDENTITY(1,1) NOT NULL,\n",
                "  CONSTRAINT fk_VERSUCH FOREIGN KEY (Nummer) REFERENCES VERSUCH(Nummer)\n",
                ");\n",
                "\n",
                "CREATE TABLE MITARBEITER\n",
                "(\n",
                "  Adresse CHAR(5) NOT NULL,\n",
                "  GebDat DATE NOT NULL,\n",
                "  Position VARCHAR(100) NOT NULL,\n",
                "  Name VARCHAR(100) NOT NULL,\n",
                "  Nummer INT IDENTITY(1,1) NOT NULL,\n",
                "  Nummer INT IDENTITY(1,1)  NOT NULL,\n",
                "  Nummer INT IDENTITY(1,1)  NOT NULL,\n",
                "  CONSTRAINT pk_MITARBEITER PRIMARY KEY (Nummer),\n",
                "  CONSTRAINT fk_FORSCHUNGSGRUPPE FOREIGN KEY (Nummer) REFERENCES FORSCHUNGSGRUPPE(Nummer),\n",
                "  CONSTRAINT fk_VERSUCH FOREIGN KEY (Nummer) REFERENCES VERSUCH(Nummer)\n",
                ");\n",
                "\n",
                "CREATE TABLE PROJEKT\n",
                "(\n",
                "  Nummer INT IDENTITY(1,1) NOT NULL,\n",
                "  Name VARCHAR(100) NOT NULL,\n",
                "  Beginn DATE NOT NULL,\n",
                "  Ende DATE NOT NULL,\n",
                "  Sponsor VARCHAR(100) NOT NULL,\n",
                "  Nummer INT NOT NULL,\n",
                "  Nummer INT NOT NULL,\n",
                "  CONSTRAINT pk_PROJEKT PRIMARY KEY (Nummer),\n",
                "  CONSTRAINT fk_FORSCHUNGSGRUPPRE FOREIGN KEY (Nummer) REFERENCES FORSCHUNGSGRUPPE(Nummer),\n",
                "  CONSTRAINT fk_VERSUCH FOREIGN KEY (Nummer) REFERENCES VERSUCH(Nummer)\n",
                ");"
            ],
            "metadata": {
                "azdata_cell_guid": "a7d0e5b2-81a8-4bf8-9863-2acaa3623c6b",
                "language": "sql"
            },
            "outputs": [
{
    "output_type": "error",
    "evalue": "Msg 2705, Level 16, State 3, Line 47\r\nSpaltennamen müssen in jeder Tabelle eindeutig sein. Der Spaltenname \"Nummer\" wurde in der MITARBEITER-Tabelle mehrmals angegeben.",
    "ename": "",
    "traceback": []
}, {
    "output_type": "display_data",
    "data": {
        "text/html": "Total execution time: 00:00:00.001"
    },
    "metadata": {}
}
],
            "execution_count": 2
        }
    ]
}