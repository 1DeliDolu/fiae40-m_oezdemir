{
    "metadata": {
        "kernelspec": {
            "name": "SQL",
            "display_name": "SQL",
            "language": "sql"
        },
        "language_info": {
            "name": "sql",
            "version": ""
        }
    },
    "nbformat_minor": 2,
    "nbformat": 4,
    "cells": [
        {
            "cell_type": "markdown",
            "source": [
                "# Datenbank Objekte"
            ],
            "metadata": {
                "azdata_cell_guid": "06178065-590c-46a5-af84-da825ffb5925"
            },
            "attachments": {}
        },
        {
            "cell_type": "code",
            "source": [
                "USE master;\r\n",
                "\r\n",
                "DROP DATABASE IF EXISTS Forschung;\r\n",
                "\r\n",
                "GO\r\n",
                "\r\n",
                "CREATE DATABASE Forschung;\r\n",
                "\r\n",
                "GO \r\n",
                "\r\n",
                "USE Forschung;\r\n",
                "\r\n",
                "CREATE TABLE FORSCHUNGSGRUPPE\r\n",
                "(\r\n",
                "  Nummer INT IDENTITY(1,1) NOT NULL,\r\n",
                "  Name INT NOT NULL,\r\n",
                "  CONSTRAINT pk_FORSCHUNGSGRUPPE PRIMARY KEY (Nummer)\r\n",
                ");\r\n",
                "\r\n",
                "CREATE TABLE CHEMIKALIE\r\n",
                "(\r\n",
                "  Formel VARCHAR(200) NOT NULL,\r\n",
                "  Name VARCHAR(100) NOT NULL,\r\n",
                "  Gefahrrenk INT NOT NULL,\r\n",
                "  Lagermenge INT NOT NULL,\r\n",
                "  CONSTRAINT pk_CHEMIKALIE PRIMARY KEY (Formel)\r\n",
                ");\r\n",
                "\r\n",
                "CREATE TABLE GERÄT\r\n",
                "(\r\n",
                "  GräteNr INT IDENTITY(1,1) NOT NULL,\r\n",
                "  Name VARCHAR(100) NOT NULL,\r\n",
                "  Beschreib VARCHAR(1000) NOT NULL,\r\n",
                "  AnzahlVerfügb INT NOT NULL,\r\n",
                "  PRIMARY KEY (GräteNr)\r\n",
                ");\r\n",
                "\r\n",
                "CREATE TABLE VERSUCH\r\n",
                "(\r\n",
                "  Nummer INT IDENTITY(1,1) NOT NULL,\r\n",
                "  Zeit INT NOT NULL,\r\n",
                "  Beschreib INT NOT NULL,\r\n",
                "  Formel VARCHAR(200) NOT NULL,\r\n",
                "  GräteNr INT NOT NULL,\r\n",
                "  CONSTRAINT pk_VERSUCH PRIMARY KEY (Nummer),\r\n",
                "  CONSTRAINT fk_CHEMIKALI FOREIGN KEY (Formel) REFERENCES CHEMIKALIE(Formel),\r\n",
                "  CONSTRAINT fk_GERÄT FOREIGN KEY (GräteNr) REFERENCES GERÄT(GräteNr)\r\n",
                ");\r\n",
                "\r\n",
                "CREATE TABLE MESSWERTE\r\n",
                "(\r\n",
                "  Zeit DATETIME NOT NULL,\r\n",
                "  Wert INT NOT NULL,\r\n",
                "  VersuchNr INT NOT NULL,\r\n",
                "  Nummer INT IDENTITY(1,1) NOT NULL,\r\n",
                "  CONSTRAINT fk_VERSUCH FOREIGN KEY (Nummer) REFERENCES VERSUCH(Nummer)\r\n",
                ");\r\n",
                "\r\n",
                "CREATE TABLE MITARBEITER\r\n",
                "(\r\n",
                "  Adresse CHAR(5) NOT NULL,\r\n",
                "  GebDat DATE NOT NULL,\r\n",
                "  Position VARCHAR(100) NOT NULL,\r\n",
                "  Name VARCHAR(100) NOT NULL,\r\n",
                "  Nummer INT IDENTITY(1,1) NOT NULL,\r\n",
                "  Nummer INT IDENTITY(1,1)  NOT NULL,\r\n",
                "  Nummer INT IDENTITY(1,1)  NOT NULL,\r\n",
                "  CONSTRAINT pk_MITARBEITER PRIMARY KEY (Nummer),\r\n",
                "  CONSTRAINT fk_FORSCHUNGSGRUPPE FOREIGN KEY (Nummer) REFERENCES FORSCHUNGSGRUPPE(Nummer),\r\n",
                "  CONSTRAINT fk_VERSUCH FOREIGN KEY (Nummer) REFERENCES VERSUCH(Nummer)\r\n",
                ");\r\n",
                "\r\n",
                "CREATE TABLE PROJEKT\r\n",
                "(\r\n",
                "  Nummer INT IDENTITY(1,1) NOT NULL,\r\n",
                "  Name VARCHAR(100) NOT NULL,\r\n",
                "  Beginn DATE NOT NULL,\r\n",
                "  Ende DATE NOT NULL,\r\n",
                "  Sponsor VARCHAR(100) NOT NULL,\r\n",
                "  Nummer INT NOT NULL,\r\n",
                "  Nummer INT NOT NULL,\r\n",
                "  CONSTRAINT pk_PROJEKT PRIMARY KEY (Nummer),\r\n",
                "  CONSTRAINT fk_FORSCHUNGSGRUPPRE FOREIGN KEY (Nummer) REFERENCES FORSCHUNGSGRUPPE(Nummer),\r\n",
                "  CONSTRAINT fk_VERSUCH FOREIGN KEY (Nummer) REFERENCES VERSUCH(Nummer)\r\n",
                ");"
            ],
            "metadata": {
                "azdata_cell_guid": "9edb8f09-2308-4e40-bdf1-e415d837987f",
                "language": "sql"
            },
            "outputs": [
{
    "output_type": "display_data",
    "data": {
        "text/html": "Commands completed successfully."
    },
    "metadata": {}
}, {
    "output_type": "display_data",
    "data": {
        "text/html": "Commands completed successfully."
    },
    "metadata": {}
}, {
    "output_type": "error",
    "evalue": "Msg 2705, Level 16, State 3, Line 59\r\nSpaltennamen müssen in jeder Tabelle eindeutig sein. Der Spaltenname \"Nummer\" wurde in der MITARBEITER-Tabelle mehrmals angegeben.",
    "ename": "",
    "traceback": []
}, {
    "output_type": "display_data",
    "data": {
        "text/html": "Total execution time: 00:00:00.386"
    },
    "metadata": {}
}
],
            "execution_count": 2
        }
    ]
}