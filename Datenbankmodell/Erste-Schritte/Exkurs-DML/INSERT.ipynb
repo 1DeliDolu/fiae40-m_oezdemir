{
    "metadata": {
        "kernelspec": {
            "name": "SQL",
            "display_name": "SQL",
            "language": "sql"
        },
        "language_info": {
            "name": "sql",
            "version": ""
        }
    },
    "nbformat_minor": 2,
    "nbformat": 4,
    "cells": [
        {
            "cell_type": "markdown",
            "source": [
                "# INSERT"
            ],
            "metadata": {
                "azdata_cell_guid": "02616267-d600-4f15-99c6-5e4c80b66d83"
            },
            "attachments": {}
        },
        {
            "cell_type": "code",
            "source": [
                "INSERT INTO Kunde (Vorname, Nachname,Strasse,PLZ,Ort,Telefon)\n",
                "SELECT Vorname, Nachname,Strasse,PLZ,Ort,Telefon\n",
                "FROM Adresse\n",
                "WHERE Ort = 'Marburg';\n",
                ""
            ],
            "metadata": {
                "azdata_cell_guid": "be5c4c47-f663-4e2f-9e54-520d0aec1631",
                "language": "sql"
            },
            "outputs": [
                {
                    "output_type": "display_data",
                    "data": {
                        "text/html": "(3 rows affected)"
                    },
                    "metadata": {}
                },
                {
                    "output_type": "display_data",
                    "data": {
                        "text/html": "Total execution time: 00:00:00.095"
                    },
                    "metadata": {}
                }
            ],
            "execution_count": 2
        },
        {
            "cell_type": "code",
            "source": [
                "SELECT * \r\n",
                "FROM Kunde\r\n",
                "WHERE Ort= 'Marburg'"
            ],
            "metadata": {
                "language": "sql",
                "azdata_cell_guid": "b32cd2ef-d62c-42b7-b899-da4cb2ac5e4a"
            },
            "outputs": [
                {
                    "output_type": "display_data",
                    "data": {
                        "text/html": "(4 rows affected)"
                    },
                    "metadata": {}
                },
                {
                    "output_type": "display_data",
                    "data": {
                        "text/html": "Total execution time: 00:00:00.058"
                    },
                    "metadata": {}
                },
                {
                    "output_type": "execute_result",
                    "metadata": {},
                    "execution_count": 3,
                    "data": {
                        "application/vnd.dataresource+json": {
                            "schema": {
                                "fields": [
                                    {
                                        "name": "KundenNr"
                                    },
                                    {
                                        "name": "Firma"
                                    },
                                    {
                                        "name": "Vorname"
                                    },
                                    {
                                        "name": "Nachname"
                                    },
                                    {
                                        "name": "Position"
                                    },
                                    {
                                        "name": "Strasse"
                                    },
                                    {
                                        "name": "Ort"
                                    },
                                    {
                                        "name": "PLZ"
                                    },
                                    {
                                        "name": "Land"
                                    },
                                    {
                                        "name": "Region"
                                    },
                                    {
                                        "name": "Telefon"
                                    },
                                    {
                                        "name": "Telefax"
                                    }
                                ]
                            },
                            "data": [
                                {
                                    "KundenNr": "92",
                                    "Firma": "IAD GmbH",
                                    "Vorname": "John",
                                    "Nachname": "Doe",
                                    "Position": "NULL",
                                    "Strasse": "Neue Kasseler Strasse 62E",
                                    "Ort": "Marburg",
                                    "PLZ": "35039",
                                    "Land": "Deutschland",
                                    "Region": "NULL",
                                    "Telefon": "06421 / 9658-0",
                                    "Telefax": "NULL"
                                },
                                {
                                    "KundenNr": "93",
                                    "Firma": "NULL",
                                    "Vorname": "Chantall",
                                    "Nachname": "Böttger",
                                    "Position": "NULL",
                                    "Strasse": "Mariendorfer Str. 134",
                                    "Ort": "Marburg",
                                    "PLZ": "35039",
                                    "Land": "NULL",
                                    "Region": "NULL",
                                    "Telefon": "06421 / 48541817",
                                    "Telefax": "NULL"
                                },
                                {
                                    "KundenNr": "94",
                                    "Firma": "NULL",
                                    "Vorname": "Alexa",
                                    "Nachname": "Ewald",
                                    "Position": "NULL",
                                    "Strasse": "Sentmaringer Weg 189",
                                    "Ort": "Marburg",
                                    "PLZ": "35039",
                                    "Land": "NULL",
                                    "Region": "NULL",
                                    "Telefon": "06421 / 41671905",
                                    "Telefax": "NULL"
                                },
                                {
                                    "KundenNr": "95",
                                    "Firma": "NULL",
                                    "Vorname": "Lewin",
                                    "Nachname": "Ball",
                                    "Position": "NULL",
                                    "Strasse": "Kösliner Str. 69",
                                    "Ort": "Marburg",
                                    "PLZ": "35041",
                                    "Land": "NULL",
                                    "Region": "NULL",
                                    "Telefon": "06421 / 43942040",
                                    "Telefax": "NULL"
                                }
                            ]
                        },
                        "text/html": [
                            "<table>",
                            "<tr><th>KundenNr</th><th>Firma</th><th>Vorname</th><th>Nachname</th><th>Position</th><th>Strasse</th><th>Ort</th><th>PLZ</th><th>Land</th><th>Region</th><th>Telefon</th><th>Telefax</th></tr>",
                            "<tr><td>92</td><td>IAD GmbH</td><td>John</td><td>Doe</td><td>NULL</td><td>Neue Kasseler Strasse 62E</td><td>Marburg</td><td>35039</td><td>Deutschland</td><td>NULL</td><td>06421 / 9658-0</td><td>NULL</td></tr>",
                            "<tr><td>93</td><td>NULL</td><td>Chantall</td><td>Böttger</td><td>NULL</td><td>Mariendorfer Str. 134</td><td>Marburg</td><td>35039</td><td>NULL</td><td>NULL</td><td>06421 / 48541817</td><td>NULL</td></tr>",
                            "<tr><td>94</td><td>NULL</td><td>Alexa</td><td>Ewald</td><td>NULL</td><td>Sentmaringer Weg 189</td><td>Marburg</td><td>35039</td><td>NULL</td><td>NULL</td><td>06421 / 41671905</td><td>NULL</td></tr>",
                            "<tr><td>95</td><td>NULL</td><td>Lewin</td><td>Ball</td><td>NULL</td><td>Kösliner Str. 69</td><td>Marburg</td><td>35041</td><td>NULL</td><td>NULL</td><td>06421 / 43942040</td><td>NULL</td></tr>",
                            "</table>"
                        ]
                    }
                }
            ],
            "execution_count": 3
        },
        {
            "cell_type": "code",
            "source": [
                "-- Tabellenerstellungsabfrage  SELECT... INTO\r\n",
                "\r\n",
                "SELECT Vorname, Nachname,Strasse,PLZ,Ort,Telefon\r\n",
                "INTO MarburgerKunden -- Hier wird eine neue Tabelle erzeugt\r\n",
                "FROM Kunde\r\n",
                "WHERE Ort = 'Marburg';\r\n",
                ""
            ],
            "metadata": {
                "language": "sql",
                "azdata_cell_guid": "944739df-8aec-4563-8b1b-a6c5d5789f51"
            },
            "outputs": [
                {
                    "output_type": "error",
                    "evalue": "Msg 2714, Level 16, State 6, Line 3\r\nIn der Datenbank ist bereits ein Objekt mit dem Namen \"MarburgerKunden\" vorhanden.",
                    "ename": "",
                    "traceback": []
                },
                {
                    "output_type": "display_data",
                    "data": {
                        "text/html": "Total execution time: 00:00:00.002"
                    },
                    "metadata": {}
                }
            ],
            "execution_count": 7
        },
        {
            "cell_type": "code",
            "source": [
                "SELECT * \r\n",
                "FROM MarburgerKunden\r\n",
                "WHERE Ort= 'Marburg'"
            ],
            "metadata": {
                "language": "sql",
                "azdata_cell_guid": "0648c7bd-a630-4122-b63f-e1e3a8edd0e3",
                "tags": []
            },
            "outputs": [
                {
                    "output_type": "display_data",
                    "data": {
                        "text/html": "(4 rows affected)"
                    },
                    "metadata": {}
                },
                {
                    "output_type": "display_data",
                    "data": {
                        "text/html": "Total execution time: 00:00:00.018"
                    },
                    "metadata": {}
                },
                {
                    "output_type": "execute_result",
                    "metadata": {},
                    "execution_count": 8,
                    "data": {
                        "application/vnd.dataresource+json": {
                            "schema": {
                                "fields": [
                                    {
                                        "name": "Vorname"
                                    },
                                    {
                                        "name": "Nachname"
                                    },
                                    {
                                        "name": "Strasse"
                                    },
                                    {
                                        "name": "PLZ"
                                    },
                                    {
                                        "name": "Ort"
                                    },
                                    {
                                        "name": "Telefon"
                                    }
                                ]
                            },
                            "data": [
                                {
                                    "Vorname": "John",
                                    "Nachname": "Doe",
                                    "Strasse": "Neue Kasseler Strasse 62E",
                                    "PLZ": "35039",
                                    "Ort": "Marburg",
                                    "Telefon": "06421 / 9658-0"
                                },
                                {
                                    "Vorname": "Chantall",
                                    "Nachname": "Böttger",
                                    "Strasse": "Mariendorfer Str. 134",
                                    "PLZ": "35039",
                                    "Ort": "Marburg",
                                    "Telefon": "06421 / 48541817"
                                },
                                {
                                    "Vorname": "Alexa",
                                    "Nachname": "Ewald",
                                    "Strasse": "Sentmaringer Weg 189",
                                    "PLZ": "35039",
                                    "Ort": "Marburg",
                                    "Telefon": "06421 / 41671905"
                                },
                                {
                                    "Vorname": "Lewin",
                                    "Nachname": "Ball",
                                    "Strasse": "Kösliner Str. 69",
                                    "PLZ": "35041",
                                    "Ort": "Marburg",
                                    "Telefon": "06421 / 43942040"
                                }
                            ]
                        },
                        "text/html": [
                            "<table>",
                            "<tr><th>Vorname</th><th>Nachname</th><th>Strasse</th><th>PLZ</th><th>Ort</th><th>Telefon</th></tr>",
                            "<tr><td>John</td><td>Doe</td><td>Neue Kasseler Strasse 62E</td><td>35039</td><td>Marburg</td><td>06421 / 9658-0</td></tr>",
                            "<tr><td>Chantall</td><td>Böttger</td><td>Mariendorfer Str. 134</td><td>35039</td><td>Marburg</td><td>06421 / 48541817</td></tr>",
                            "<tr><td>Alexa</td><td>Ewald</td><td>Sentmaringer Weg 189</td><td>35039</td><td>Marburg</td><td>06421 / 41671905</td></tr>",
                            "<tr><td>Lewin</td><td>Ball</td><td>Kösliner Str. 69</td><td>35041</td><td>Marburg</td><td>06421 / 43942040</td></tr>",
                            "</table>"
                        ]
                    }
                }
            ],
            "execution_count": 8
        },
        {
            "cell_type": "code",
            "source": [
                "-- Neue Bestellung von Kundin Alexa Ewald aus Marburg bei Mitarbeiterin Janet Leverling\r\n",
                "INSERT INTO Bestellung (Bestelldatum,KundenNr,MitarbeiterNr)\r\n",
                "VALUES ('2024-02-07',(\r\n",
                "    SELECT KundenNr FROM Kunde\r\n",
                "    WHERE Vorname='Alexa' and Nachname ='Ewald' and Ort='Marburg'\r\n",
                ") , (\r\n",
                "    SELECT MitarbeiterNr FROM Mitarbeiter\r\n",
                "    WHERE Vorname='Janet' AND Nachname='Leverling'\r\n",
                "))"
            ],
            "metadata": {
                "language": "sql",
                "azdata_cell_guid": "a2c3060d-a3c5-40bc-93b5-8f20d992dc78"
            },
            "outputs": [
                {
                    "output_type": "display_data",
                    "data": {
                        "text/html": "(1 row affected)"
                    },
                    "metadata": {}
                },
                {
                    "output_type": "display_data",
                    "data": {
                        "text/html": "Total execution time: 00:00:00.048"
                    },
                    "metadata": {}
                }
            ],
            "execution_count": 12
        },
        {
            "cell_type": "code",
            "source": [
                "SELECT KundenNr FROM Kunde\r\n",
                "    WHERE Vorname='Carlos'-- Vorname='Alexa' and Nachname ='Ewald' es gibt mehrere "
            ],
            "metadata": {
                "language": "sql",
                "azdata_cell_guid": "dc6e03c7-c3ec-4141-a9ad-602018f10db4"
            },
            "outputs": [],
            "execution_count": 13
        },
        {
            "cell_type": "code",
            "source": [
                "SELECT * \r\n",
                "FROM Bestellung\r\n",
                ""
            ],
            "metadata": {
                "language": "sql",
                "azdata_cell_guid": "99464d90-13b3-496a-83d5-e827446a86af"
            },
            "outputs": [],
            "execution_count": 15
        }
    ]
}