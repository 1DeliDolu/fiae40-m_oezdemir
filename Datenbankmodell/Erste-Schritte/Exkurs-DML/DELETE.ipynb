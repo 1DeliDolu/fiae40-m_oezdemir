{
    "metadata": {
        "kernelspec": {
            "name": "SQL",
            "display_name": "SQL",
            "language": "sql"
        },
        "language_info": {
            "name": "sql",
            "version": ""
        }
    },
    "nbformat_minor": 2,
    "nbformat": 4,
    "cells": [
        {
            "cell_type": "markdown",
            "source": [
                "# DELETE"
            ],
            "metadata": {
                "azdata_cell_guid": "03045267-a7c6-48df-8da1-9a626fc9b2e1"
            },
            "attachments": {}
        },
        {
            "cell_type": "code",
            "source": [
                "DELETE FROM Kunde\r\n",
                "WHERE KundenNr >95 ;"
            ],
            "metadata": {
                "azdata_cell_guid": "bcc3b18e-472a-4ed2-84da-c9468eabae98",
                "language": "sql"
            },
            "outputs": [],
            "execution_count": null
        },
        {
            "cell_type": "code",
            "source": [
                "DELETE FROM Bestellung\r\n",
                "WHERE KundenNr = (\r\n",
                "    SELECT KundenNr FROM Kunde\r\n",
                "    WHERE Vorname='Alexa' AND Nachname='Ewald'\r\n",
                ")"
            ],
            "metadata": {
                "language": "sql",
                "azdata_cell_guid": "0a8c6b0d-892e-4f5d-9dc7-19bca4cf8e1e"
            },
            "outputs": [],
            "execution_count": null
        },
        {
            "cell_type": "code",
            "source": [
                "DELETE FROM Kunde\r\n",
                "WHERE Vorname='Alexa' AND Nachname='Ewald' ;"
            ],
            "metadata": {
                "language": "sql",
                "azdata_cell_guid": "34c56f1c-850a-4883-9e3c-b012b5ad1be4"
            },
            "outputs": [],
            "execution_count": null
        },
        {
            "cell_type": "code",
            "source": [
                ""
            ],
            "metadata": {
                "language": "sql",
                "azdata_cell_guid": "5a8cff9a-e409-4863-9be1-9455f6a9009b"
            },
            "outputs": [],
            "execution_count": null
        }
    ]
}