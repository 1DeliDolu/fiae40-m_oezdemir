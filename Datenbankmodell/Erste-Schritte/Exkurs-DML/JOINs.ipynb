{
    "metadata": {
        "kernelspec": {
            "name": "SQL",
            "display_name": "SQL",
            "language": "sql"
        },
        "language_info": {
            "name": "sql",
            "version": ""
        }
    },
    "nbformat_minor": 2,
    "nbformat": 4,
    "cells": [
        {
            "cell_type": "markdown",
            "source": [
                "# JOINs"
            ],
            "metadata": {
                "azdata_cell_guid": "825115b0-bbee-40be-b744-62adc6a183dc"
            },
            "attachments": {}
        },
        {
            "cell_type": "code",
            "source": [
                "USE NormalisierungsDemo"
            ],
            "metadata": {
                "azdata_cell_guid": "fb8746d6-e232-441a-a808-108b20cbe236",
                "language": "sql"
            },
            "outputs": [
                {
                    "output_type": "display_data",
                    "data": {
                        "text/html": "Commands completed successfully."
                    },
                    "metadata": {}
                },
                {
                    "output_type": "display_data",
                    "data": {
                        "text/html": "Total execution time: 00:00:00.001"
                    },
                    "metadata": {}
                }
            ],
            "execution_count": 1
        },
        {
            "cell_type": "markdown",
            "source": [
                "Zeigen Sie Abteilung und Die Personen, Die in den Abteilungen Arbeiten"
            ],
            "metadata": {
                "language": "sql",
                "azdata_cell_guid": "3f933943-36fb-4a06-8cc0-e7facadb0051"
            },
            "attachments": {}
        },
        {
            "cell_type": "code",
            "source": [
                "SELECT a.Name As Abteilung, p.Vorname AS [Mitarbeiterer Vorname], p.Name As [ Mitarbeiterer Nachname]\r\n",
                "FROM Personal AS p\r\n",
                "JOIN Abteilung AS a ON a.AbtNr=p.AbtNr"
            ],
            "metadata": {
                "language": "sql",
                "azdata_cell_guid": "ccc418ce-8e34-45d8-a0ad-c8434d15c2ed"
            },
            "outputs": [
                {
                    "output_type": "display_data",
                    "data": {
                        "text/html": "(4 rows affected)"
                    },
                    "metadata": {}
                },
                {
                    "output_type": "display_data",
                    "data": {
                        "text/html": "Total execution time: 00:00:00.039"
                    },
                    "metadata": {}
                },
                {
                    "output_type": "execute_result",
                    "execution_count": 9,
                    "data": {
                        "application/vnd.dataresource+json": {
                            "schema": {
                                "fields": [
                                    {
                                        "name": "Abteilung"
                                    },
                                    {
                                        "name": "Mitarbeiterer Vorname"
                                    },
                                    {
                                        "name": " Mitarbeiterer Nachname"
                                    }
                                ]
                            },
                            "data": [
                                {
                                    "Abteilung": "Personal",
                                    "Mitarbeiterer Vorname": "Maria",
                                    " Mitarbeiterer Nachname": "Eichenau"
                                },
                                {
                                    "Abteilung": "Einkauf",
                                    "Mitarbeiterer Vorname": "Stefanie",
                                    " Mitarbeiterer Nachname": "Glahn"
                                },
                                {
                                    "Abteilung": "Einkauf",
                                    "Mitarbeiterer Vorname": "Karin",
                                    " Mitarbeiterer Nachname": "Kirsch"
                                },
                                {
                                    "Abteilung": "Verkauf",
                                    "Mitarbeiterer Vorname": "Sean",
                                    " Mitarbeiterer Nachname": "Conolly"
                                }
                            ]
                        },
                        "text/html": "<table><tr><th>Abteilung</th><th>Mitarbeiterer Vorname</th><th> Mitarbeiterer Nachname</th></tr><tr><td>Personal</td><td>Maria</td><td>Eichenau</td></tr><tr><td>Einkauf</td><td>Stefanie</td><td>Glahn</td></tr><tr><td>Einkauf</td><td>Karin</td><td>Kirsch</td></tr><tr><td>Verkauf</td><td>Sean</td><td>Conolly</td></tr></table>"
                    },
                    "metadata": {}
                }
            ],
            "execution_count": 9
        },
        {
            "cell_type": "markdown",
            "source": [
                "Zeigen Sie die Projekte , die im Projekt tätigen Personen, die ausgeübte Tätigkeit und Die Anzahl Stunden"
            ],
            "metadata": {
                "language": "sql",
                "azdata_cell_guid": "adf8e855-f5ed-48c6-9b78-136363fef29d"
            },
            "attachments": {}
        },
        {
            "cell_type": "code",
            "source": [
                "SELECT p.Beschreibung AS Projekt, pe.Vorname, pe.Name, t.Tätigkeit\r\n",
                "FROM Projekt AS p \r\n",
                "JOIN Arbeitet_An As aa ON aa.ProjNr=p.ProjNr\r\n",
                "JOIN Personal AS pe ON pe.PersonalNr=aa.PersonalNr\r\n",
                "JOIN Tätigkeit AS t ON t.TätigkeitsNr=aa.TätigkeitsNr"
            ],
            "metadata": {
                "language": "sql",
                "azdata_cell_guid": "5d0835bb-a903-4e2e-ba75-012c7c946031"
            },
            "outputs": [
                {
                    "output_type": "display_data",
                    "data": {
                        "text/html": "(7 rows affected)"
                    },
                    "metadata": {}
                },
                {
                    "output_type": "display_data",
                    "data": {
                        "text/html": "Total execution time: 00:00:00.074"
                    },
                    "metadata": {}
                },
                {
                    "output_type": "execute_result",
                    "execution_count": 3,
                    "data": {
                        "application/vnd.dataresource+json": {
                            "schema": {
                                "fields": [
                                    {
                                        "name": "Beschreibung"
                                    },
                                    {
                                        "name": "Vorname"
                                    },
                                    {
                                        "name": "Name"
                                    },
                                    {
                                        "name": "Tätigkeit"
                                    }
                                ]
                            },
                            "data": [
                                {
                                    "Beschreibung": "Kundenumfrage",
                                    "Vorname": "Stefanie",
                                    "Name": "Glahn",
                                    "Tätigkeit": "Leitung"
                                },
                                {
                                    "Beschreibung": "Konkurrenzanalyse",
                                    "Vorname": "Stefanie",
                                    "Name": "Glahn",
                                    "Tätigkeit": "Bearbeitung"
                                },
                                {
                                    "Beschreibung": "Kundenumfrage",
                                    "Vorname": "Karin",
                                    "Name": "Kirsch",
                                    "Tätigkeit": "Bearbeitung"
                                },
                                {
                                    "Beschreibung": "Konkurrenzanalyse",
                                    "Vorname": "Karin",
                                    "Name": "Kirsch",
                                    "Tätigkeit": "Bearbeitung"
                                },
                                {
                                    "Beschreibung": "Kundenumfrage",
                                    "Vorname": "Sean",
                                    "Name": "Conolly",
                                    "Tätigkeit": "Bearbeitung"
                                },
                                {
                                    "Beschreibung": "Verkaufsmesse",
                                    "Vorname": "Sean",
                                    "Name": "Conolly",
                                    "Tätigkeit": "Leitung"
                                },
                                {
                                    "Beschreibung": "Konkurrenzanalyse",
                                    "Vorname": "Sean",
                                    "Name": "Conolly",
                                    "Tätigkeit": "Leitung"
                                }
                            ]
                        },
                        "text/html": "<table><tr><th>Beschreibung</th><th>Vorname</th><th>Name</th><th>Tätigkeit</th></tr><tr><td>Kundenumfrage</td><td>Stefanie</td><td>Glahn</td><td>Leitung</td></tr><tr><td>Konkurrenzanalyse</td><td>Stefanie</td><td>Glahn</td><td>Bearbeitung</td></tr><tr><td>Kundenumfrage</td><td>Karin</td><td>Kirsch</td><td>Bearbeitung</td></tr><tr><td>Konkurrenzanalyse</td><td>Karin</td><td>Kirsch</td><td>Bearbeitung</td></tr><tr><td>Kundenumfrage</td><td>Sean</td><td>Conolly</td><td>Bearbeitung</td></tr><tr><td>Verkaufsmesse</td><td>Sean</td><td>Conolly</td><td>Leitung</td></tr><tr><td>Konkurrenzanalyse</td><td>Sean</td><td>Conolly</td><td>Leitung</td></tr></table>"
                    },
                    "metadata": {}
                }
            ],
            "execution_count": 3
        },
        {
            "cell_type": "code",
            "source": [
                "Geben Sie zusätzlich das den geleisteten Stunden entsprechende Honorar aus"
            ],
            "metadata": {
                "language": "sql",
                "azdata_cell_guid": "2c9bea6c-935d-48ca-a4ee-43ea3f7291d9"
            },
            "outputs": [],
            "execution_count": null
        },
        {
            "cell_type": "code",
            "source": [
                "SELECT p.Beschreibung, pe.Vorname AS [Mitarbeiterer Vorname], pe.Name AS [Mitarbeiterer Nachname], t.Tätigkeit , aa.Stunden*t.Stundenlohn As Honorar\r\n",
                "FROM Projekt AS p \r\n",
                "JOIN Arbeitet_An As aa ON aa.ProjNr=p.ProjNr\r\n",
                "JOIN Personal AS pe ON pe.PersonalNr=aa.PersonalNr\r\n",
                "JOIN Tätigkeit AS t ON t.TätigkeitsNr=aa.TätigkeitsNr"
            ],
            "metadata": {
                "language": "sql",
                "azdata_cell_guid": "4f73fee3-c711-4a43-9853-83772d7e215c",
                "tags": []
            },
            "outputs": [
                {
                    "output_type": "display_data",
                    "data": {
                        "text/html": "(7 rows affected)"
                    },
                    "metadata": {}
                },
                {
                    "output_type": "display_data",
                    "data": {
                        "text/html": "Total execution time: 00:00:00.044"
                    },
                    "metadata": {}
                },
                {
                    "output_type": "execute_result",
                    "execution_count": 10,
                    "data": {
                        "application/vnd.dataresource+json": {
                            "schema": {
                                "fields": [
                                    {
                                        "name": "Beschreibung"
                                    },
                                    {
                                        "name": "Mitarbeiterer Vorname"
                                    },
                                    {
                                        "name": "Mitarbeiterer Nachname"
                                    },
                                    {
                                        "name": "Tätigkeit"
                                    },
                                    {
                                        "name": "Honorar"
                                    }
                                ]
                            },
                            "data": [
                                {
                                    "Beschreibung": "Kundenumfrage",
                                    "Mitarbeiterer Vorname": "Stefanie",
                                    "Mitarbeiterer Nachname": "Glahn",
                                    "Tätigkeit": "Leitung",
                                    "Honorar": "1250.00"
                                },
                                {
                                    "Beschreibung": "Konkurrenzanalyse",
                                    "Mitarbeiterer Vorname": "Stefanie",
                                    "Mitarbeiterer Nachname": "Glahn",
                                    "Tätigkeit": "Bearbeitung",
                                    "Honorar": "2400.00"
                                },
                                {
                                    "Beschreibung": "Kundenumfrage",
                                    "Mitarbeiterer Vorname": "Karin",
                                    "Mitarbeiterer Nachname": "Kirsch",
                                    "Tätigkeit": "Bearbeitung",
                                    "Honorar": "1650.00"
                                },
                                {
                                    "Beschreibung": "Konkurrenzanalyse",
                                    "Mitarbeiterer Vorname": "Karin",
                                    "Mitarbeiterer Nachname": "Kirsch",
                                    "Tätigkeit": "Bearbeitung",
                                    "Honorar": "1950.00"
                                },
                                {
                                    "Beschreibung": "Kundenumfrage",
                                    "Mitarbeiterer Vorname": "Sean",
                                    "Mitarbeiterer Nachname": "Conolly",
                                    "Tätigkeit": "Bearbeitung",
                                    "Honorar": "2100.00"
                                },
                                {
                                    "Beschreibung": "Verkaufsmesse",
                                    "Mitarbeiterer Vorname": "Sean",
                                    "Mitarbeiterer Nachname": "Conolly",
                                    "Tätigkeit": "Leitung",
                                    "Honorar": "1250.00"
                                },
                                {
                                    "Beschreibung": "Konkurrenzanalyse",
                                    "Mitarbeiterer Vorname": "Sean",
                                    "Mitarbeiterer Nachname": "Conolly",
                                    "Tätigkeit": "Leitung",
                                    "Honorar": "1250.00"
                                }
                            ]
                        },
                        "text/html": "<table><tr><th>Beschreibung</th><th>Mitarbeiterer Vorname</th><th>Mitarbeiterer Nachname</th><th>Tätigkeit</th><th>Honorar</th></tr><tr><td>Kundenumfrage</td><td>Stefanie</td><td>Glahn</td><td>Leitung</td><td>1250.00</td></tr><tr><td>Konkurrenzanalyse</td><td>Stefanie</td><td>Glahn</td><td>Bearbeitung</td><td>2400.00</td></tr><tr><td>Kundenumfrage</td><td>Karin</td><td>Kirsch</td><td>Bearbeitung</td><td>1650.00</td></tr><tr><td>Konkurrenzanalyse</td><td>Karin</td><td>Kirsch</td><td>Bearbeitung</td><td>1950.00</td></tr><tr><td>Kundenumfrage</td><td>Sean</td><td>Conolly</td><td>Bearbeitung</td><td>2100.00</td></tr><tr><td>Verkaufsmesse</td><td>Sean</td><td>Conolly</td><td>Leitung</td><td>1250.00</td></tr><tr><td>Konkurrenzanalyse</td><td>Sean</td><td>Conolly</td><td>Leitung</td><td>1250.00</td></tr></table>"
                    },
                    "metadata": {}
                }
            ],
            "execution_count": 10
        },
        {
            "cell_type": "markdown",
            "source": [
                "# Transaktionen\n",
                "\n",
                "Mustafa Özdemir ist neuer Mitarbeiter in Vekuaf. PersonalNR6   er arbeitet im Projekt Konkurrrenz analyse 20 Stunden an der Präsentätionvorbereitung"
            ],
            "metadata": {
                "language": "sql",
                "azdata_cell_guid": "349c7561-1022-40a9-be37-6911f708d3f4"
            },
            "attachments": {}
        },
        {
            "cell_type": "code",
            "source": [
                "SELECT * FROM Tätigkeit"
            ],
            "metadata": {
                "language": "sql",
                "azdata_cell_guid": "5f099a2e-f373-47a7-8bee-76c947662cb0"
            },
            "outputs": [
                {
                    "output_type": "display_data",
                    "data": {
                        "text/html": "(3 rows affected)"
                    },
                    "metadata": {}
                },
                {
                    "output_type": "display_data",
                    "data": {
                        "text/html": "Total execution time: 00:00:00.057"
                    },
                    "metadata": {}
                },
                {
                    "output_type": "execute_result",
                    "execution_count": 11,
                    "data": {
                        "application/vnd.dataresource+json": {
                            "schema": {
                                "fields": [
                                    {
                                        "name": "TätigkeitsNr"
                                    },
                                    {
                                        "name": "Tätigkeit"
                                    },
                                    {
                                        "name": "Stundenlohn"
                                    }
                                ]
                            },
                            "data": [
                                {
                                    "TätigkeitsNr": "1",
                                    "Tätigkeit": "Leitung",
                                    "Stundenlohn": "50.00"
                                },
                                {
                                    "TätigkeitsNr": "2",
                                    "Tätigkeit": "Bearbeitung",
                                    "Stundenlohn": "30.00"
                                },
                                {
                                    "TätigkeitsNr": "3",
                                    "Tätigkeit": "Präsentationsvorbereitung",
                                    "Stundenlohn": "35.00"
                                }
                            ]
                        },
                        "text/html": "<table><tr><th>TätigkeitsNr</th><th>Tätigkeit</th><th>Stundenlohn</th></tr><tr><td>1</td><td>Leitung</td><td>50.00</td></tr><tr><td>2</td><td>Bearbeitung</td><td>30.00</td></tr><tr><td>3</td><td>Präsentationsvorbereitung</td><td>35.00</td></tr></table>"
                    },
                    "metadata": {}
                }
            ],
            "execution_count": 11
        },
        {
            "cell_type": "code",
            "source": [
                "\r\n",
                "BEGIN\r\n",
                "    BEGIN TRANSACTION;\r\n",
                "    BEGIN TRY\r\n",
                "        DECLARE @AbtNr INT, @ProjNr INT, @TätigkeitsNr INT;\r\n",
                "\r\n",
                "        SET @AbtNr = (\r\n",
                "            SELECT a.AbtNr\r\n",
                "            FROM Abteilung AS a\r\n",
                "            WHERE a.Name = 'Verkauf'\r\n",
                "        );\r\n",
                "\r\n",
                "        IF @AbtNr IS NULL\r\n",
                "            THROW 50000, 'Abteilung nicht gefunden', 1;\r\n",
                "\r\n",
                "        SET @ProjNr = (\r\n",
                "            SELECT p.ProjNr\r\n",
                "            FROM Projekt AS p\r\n",
                "            WHERE p.Beschreibung = 'Konkurrenzanalyse'\r\n",
                "        );\r\n",
                "\r\n",
                "        IF @ProjNr IS NULL\r\n",
                "            THROW 50000, 'Projekt nicht gefunden', 1;\r\n",
                "\r\n",
                "        SET @TätigkeitsNr = (\r\n",
                "            SELECT t.TätigkeitsNr\r\n",
                "            FROM Tätigkeit AS t \r\n",
                "            WHERE t.Tätigkeit = 'Präsentationsvorbereitung'\r\n",
                "        );\r\n",
                "\r\n",
                "        IF @TätigkeitsNr IS NULL\r\n",
                "            THROW 50000, 'Tätigkeit nicht gefunden', 1;\r\n",
                "\r\n",
                "            \r\n",
                "\r\n",
                "        -- jetz darf ich schreiben :-)\r\n",
                "        /*INSERT INTO Personal (PersonalNr, Vorname, Name, AbtNr)\r\n",
                "        VALUES (6,'Hans Georg','Röder',(\r\n",
                "        SELECT a.AbtNr\r\n",
                "        FROM Abteilung AS a\r\n",
                "        WHERE a.Name = 'Verkauf'\r\n",
                "    \r\n",
                "    ))*/\r\n",
                "        INSERT INTO Personal (PersonalNr, Vorname, Name, AbtNr)\r\n",
                "        VALUES (6, 'Hans Georg', 'Röder', @AbtNr);\r\n",
                "\r\n",
                "        INSERT INTO Arbeitet_An (PersonalNr, ProjNr, TätigkeitsNr, Stunden)\r\n",
                "        VALUES (6, @ProjNr, @TätigkeitsNr, 20);\r\n",
                "\r\n",
                "        COMMIT TRANSACTION;\r\n",
                "    END TRY \r\n",
                "    BEGIN CATCH\r\n",
                "        ROLLBACK TRANSACTION;\r\n",
                "        THROW;\r\n",
                "    END CATCH;\r\n",
                "END\r\n",
                ""
            ],
            "metadata": {
                "language": "sql",
                "azdata_cell_guid": "0760c5be-a942-4740-a3ab-9ad6d2cfb0fb"
            },
            "outputs": [
                {
                    "output_type": "display_data",
                    "data": {
                        "text/html": "(0 rows affected)"
                    },
                    "metadata": {}
                },
                {
                    "output_type": "error",
                    "evalue": "Msg 2627, Level 14, State 1, Line 44\r\nVerletzung der PRIMARY KEY-Einschränkung \"pk_Personal\". Ein doppelter Schlüssel kann in das dbo.Personal-Objekt nicht eingefügt werden. Der doppelte Schlüsselwert ist (6).",
                    "ename": "",
                    "traceback": []
                },
                {
                    "output_type": "display_data",
                    "data": {
                        "text/html": "Total execution time: 00:00:00.025"
                    },
                    "metadata": {}
                }
            ],
            "execution_count": 5
        },
        {
            "cell_type": "code",
            "source": [
                "SELECT * FROM Personal;"
            ],
            "metadata": {
                "language": "sql",
                "azdata_cell_guid": "e6ff9543-7929-4ca9-8087-ce58f5579c1d"
            },
            "outputs": [
{
    "output_type": "display_data",
    "data": {
        "text/html": "(5 rows affected)"
    },
    "metadata": {}
}, {
    "output_type": "display_data",
    "data": {
        "text/html": "Total execution time: 00:00:00.048"
    },
    "metadata": {}
}, {
    "output_type": "execute_result",
    "metadata": {},
    "execution_count": 7,
    "data": {
        "application/vnd.dataresource+json": {
            "schema": {
                "fields": [
                    {
                        "name": "PersonalNr"
                    },
                    {
                        "name": "Name"
                    },
                    {
                        "name": "Vorname"
                    },
                    {
                        "name": "AbtNr"
                    }
                ]
            },
            "data": [
                {
                    "PersonalNr": "1",
                    "Name": "Eichenau",
                    "Vorname": "Maria",
                    "AbtNr": "1"
                },
                {
                    "PersonalNr": "2",
                    "Name": "Glahn",
                    "Vorname": "Stefanie",
                    "AbtNr": "2"
                },
                {
                    "PersonalNr": "3",
                    "Name": "Kirsch",
                    "Vorname": "Karin",
                    "AbtNr": "2"
                },
                {
                    "PersonalNr": "4",
                    "Name": "Conolly",
                    "Vorname": "Sean",
                    "AbtNr": "3"
                },
                {
                    "PersonalNr": "6",
                    "Name": "Röder",
                    "Vorname": "Hans Georg",
                    "AbtNr": "3"
                }
            ]
        },
        "text/html": [
            "<table>",
            "<tr><th>PersonalNr</th><th>Name</th><th>Vorname</th><th>AbtNr</th></tr>",
            "<tr><td>1</td><td>Eichenau</td><td>Maria</td><td>1</td></tr>",
            "<tr><td>2</td><td>Glahn</td><td>Stefanie</td><td>2</td></tr>",
            "<tr><td>3</td><td>Kirsch</td><td>Karin</td><td>2</td></tr>",
            "<tr><td>4</td><td>Conolly</td><td>Sean</td><td>3</td></tr>",
            "<tr><td>6</td><td>Röder</td><td>Hans Georg</td><td>3</td></tr>",
            "</table>"
        ]
    }
}
],
            "execution_count": 7
        },
        {
            "cell_type": "code",
            "source": [
                "SELECT a.AbtNr\r\n",
                "FROM Abteilung AS a\r\n",
                "WHERE a.Name = 'Verkauf'"
            ],
            "metadata": {
                "language": "sql",
                "azdata_cell_guid": "b77a901e-fc24-4c08-a9de-722ad58041f2"
            },
            "outputs": [
                {
                    "output_type": "display_data",
                    "data": {
                        "text/html": "(1 row affected)"
                    },
                    "metadata": {}
                },
                {
                    "output_type": "display_data",
                    "data": {
                        "text/html": "Total execution time: 00:00:00.012"
                    },
                    "metadata": {}
                },
                {
                    "output_type": "execute_result",
                    "execution_count": 15,
                    "data": {
                        "application/vnd.dataresource+json": {
                            "schema": {
                                "fields": [
                                    {
                                        "name": "AbtNr"
                                    }
                                ]
                            },
                            "data": [
                                {
                                    "AbtNr": "3"
                                }
                            ]
                        },
                        "text/html": "<table><tr><th>AbtNr</th></tr><tr><td>3</td></tr></table>"
                    },
                    "metadata": {}
                }
            ],
            "execution_count": 15
        },
        {
            "cell_type": "code",
            "source": [
                "SELECT p.ProjNr\r\n",
                "FROM Projekt AS p\r\n",
                "WHERE p.Beschreibung='Konkurrenzanalyse';"
            ],
            "metadata": {
                "language": "sql",
                "azdata_cell_guid": "b28f69a4-85f2-4ca1-a429-25484b6399d0"
            },
            "outputs": [
                {
                    "output_type": "display_data",
                    "data": {
                        "text/html": "(1 row affected)"
                    },
                    "metadata": {}
                },
                {
                    "output_type": "display_data",
                    "data": {
                        "text/html": "Total execution time: 00:00:00.018"
                    },
                    "metadata": {}
                },
                {
                    "output_type": "execute_result",
                    "execution_count": 14,
                    "data": {
                        "application/vnd.dataresource+json": {
                            "schema": {
                                "fields": [
                                    {
                                        "name": "ProjNr"
                                    }
                                ]
                            },
                            "data": [
                                {
                                    "ProjNr": "3"
                                }
                            ]
                        },
                        "text/html": "<table><tr><th>ProjNr</th></tr><tr><td>3</td></tr></table>"
                    },
                    "metadata": {}
                }
            ],
            "execution_count": 14
        },
        {
            "cell_type": "code",
            "source": [
                "SELECT t.Tätigkeit\r\n",
                "FROM Tätigkeit AS t \r\n",
                "WHERE t.Tätigkeit='Präsentationsvorbereitung'"
            ],
            "metadata": {
                "language": "sql",
                "azdata_cell_guid": "c4cedf68-5de6-49e9-8609-8fac874afcb7"
            },
            "outputs": [
                {
                    "output_type": "display_data",
                    "data": {
                        "text/html": "(1 row affected)"
                    },
                    "metadata": {}
                },
                {
                    "output_type": "display_data",
                    "data": {
                        "text/html": "Total execution time: 00:00:00.022"
                    },
                    "metadata": {}
                },
                {
                    "output_type": "execute_result",
                    "execution_count": 16,
                    "data": {
                        "application/vnd.dataresource+json": {
                            "schema": {
                                "fields": [
                                    {
                                        "name": "Tätigkeit"
                                    }
                                ]
                            },
                            "data": [
                                {
                                    "Tätigkeit": "Präsentationsvorbereitung"
                                }
                            ]
                        },
                        "text/html": "<table><tr><th>Tätigkeit</th></tr><tr><td>Präsentationsvorbereitung</td></tr></table>"
                    },
                    "metadata": {}
                }
            ],
            "execution_count": 16
        }
    ]
}