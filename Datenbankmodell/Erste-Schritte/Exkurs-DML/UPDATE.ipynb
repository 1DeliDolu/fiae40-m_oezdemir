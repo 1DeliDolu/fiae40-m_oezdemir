{
    "metadata": {
        "kernelspec": {
            "name": "SQL",
            "display_name": "SQL",
            "language": "sql"
        },
        "language_info": {
            "name": "sql",
            "version": ""
        }
    },
    "nbformat_minor": 2,
    "nbformat": 4,
    "cells": [
        {
            "cell_type": "markdown",
            "source": [
                "# UPDATE"
            ],
            "metadata": {
                "azdata_cell_guid": "dec9b491-8234-4adf-9ead-f7a169ac577a"
            },
            "attachments": {}
        },
        {
            "cell_type": "code",
            "source": [
                "SELECT * FROM Kunde\r\n",
                "WHERE Nachname='González' \r\n",
                "\r\n",
                ""
            ],
            "metadata": {
                "azdata_cell_guid": "2fc8d761-5b8c-4e7a-b7f8-93f7e140254b",
                "language": "sql"
            },
            "outputs": [
                {
                    "output_type": "display_data",
                    "data": {
                        "text/html": "(1 row affected)"
                    },
                    "metadata": {}
                },
                {
                    "output_type": "display_data",
                    "data": {
                        "text/html": "Total execution time: 00:00:00.096"
                    },
                    "metadata": {}
                },
                {
                    "output_type": "execute_result",
                    "metadata": {},
                    "execution_count": 12,
                    "data": {
                        "application/vnd.dataresource+json": {
                            "schema": {
                                "fields": [
                                    {
                                        "name": "KundenNr"
                                    },
                                    {
                                        "name": "Firma"
                                    },
                                    {
                                        "name": "Vorname"
                                    },
                                    {
                                        "name": "Nachname"
                                    },
                                    {
                                        "name": "Position"
                                    },
                                    {
                                        "name": "Strasse"
                                    },
                                    {
                                        "name": "Ort"
                                    },
                                    {
                                        "name": "PLZ"
                                    },
                                    {
                                        "name": "Land"
                                    },
                                    {
                                        "name": "Region"
                                    },
                                    {
                                        "name": "Telefon"
                                    },
                                    {
                                        "name": "Telefax"
                                    }
                                ]
                            },
                            "data": [
                                {
                                    "KundenNr": "46",
                                    "Firma": "LILA-Supermercado",
                                    "Vorname": "Karl",
                                    "Nachname": "González",
                                    "Position": "Chef",
                                    "Strasse": "Carrera 52 con Ave. Bolívar #65-98 Llano Largo",
                                    "Ort": "Barquisimeto",
                                    "PLZ": "3548",
                                    "Land": "Venezuela",
                                    "Region": "Lara",
                                    "Telefon": "(9) 331-6970",
                                    "Telefax": "(9) 331-7256"
                                }
                            ]
                        },
                        "text/html": [
                            "<table>",
                            "<tr><th>KundenNr</th><th>Firma</th><th>Vorname</th><th>Nachname</th><th>Position</th><th>Strasse</th><th>Ort</th><th>PLZ</th><th>Land</th><th>Region</th><th>Telefon</th><th>Telefax</th></tr>",
                            "<tr><td>46</td><td>LILA-Supermercado</td><td>Karl</td><td>González</td><td>Chef</td><td>Carrera 52 con Ave. Bolívar #65-98 Llano Largo</td><td>Barquisimeto</td><td>3548</td><td>Venezuela</td><td>Lara</td><td>(9) 331-6970</td><td>(9) 331-7256</td></tr>",
                            "</table>"
                        ]
                    }
                }
            ],
            "execution_count": 12
        },
        {
            "cell_type": "code",
            "source": [
                "UPDATE Kunde\r\n",
                "SET Vorname ='Karl',\r\n",
                "    Position ='Chef',\r\n",
                "    Telefon ='(9) 331-6970',\r\n",
                "    PLZ ='3548'\r\n",
                "WHERE Nachname='González';"
            ],
            "metadata": {
                "language": "sql",
                "azdata_cell_guid": "8555951c-c7a5-4e79-be67-5433be5f9833"
            },
            "outputs": [
                {
                    "output_type": "display_data",
                    "data": {
                        "text/html": "(1 row affected)"
                    },
                    "metadata": {}
                },
                {
                    "output_type": "display_data",
                    "data": {
                        "text/html": "Total execution time: 00:00:00.166"
                    },
                    "metadata": {}
                }
            ],
            "execution_count": 11
        },
        {
            "cell_type": "code",
            "source": [
                "SELECT Einzelpreis FROM Produkt WHERE Produkt='Gravad lax'"
            ],
            "metadata": {
                "language": "sql",
                "azdata_cell_guid": "0a1edeb3-46be-44f6-99e1-f2f90fc72271"
            },
            "outputs": [
                {
                    "output_type": "display_data",
                    "data": {
                        "text/html": "(1 row affected)"
                    },
                    "metadata": {}
                },
                {
                    "output_type": "display_data",
                    "data": {
                        "text/html": "Total execution time: 00:00:00.015"
                    },
                    "metadata": {}
                },
                {
                    "output_type": "execute_result",
                    "metadata": {},
                    "execution_count": 15,
                    "data": {
                        "application/vnd.dataresource+json": {
                            "schema": {
                                "fields": [
                                    {
                                        "name": "Einzelpreis"
                                    }
                                ]
                            },
                            "data": [
                                {
                                    "Einzelpreis": "26,00"
                                }
                            ]
                        },
                        "text/html": [
                            "<table>",
                            "<tr><th>Einzelpreis</th></tr>",
                            "<tr><td>26,00</td></tr>",
                            "</table>"
                        ]
                    }
                }
            ],
            "execution_count": 15
        },
        {
            "cell_type": "code",
            "source": [
                "UPDATE Produkt\r\n",
                "SET Einzelpreis = Einzelpreis * 0.9\r\n",
                "WHERE KategorieID = (\r\n",
                "    SELECT * FROM Produktkategorie\r\n",
                "    WHERE Kategorie = 'Meeresfrüchte'\r\n",
                ");"
            ],
            "metadata": {
                "language": "sql",
                "azdata_cell_guid": "6f864e80-a520-4b91-ac6a-43821a53198e"
            },
            "outputs": [
{
    "output_type": "error",
    "ename": "",
    "evalue": "Msg 116, Level 16, State 1, Line 6\r\nNur ein einziger Ausdruck kann in der Auswahlliste angegeben werden, wenn die Unterabfrage nicht mit EXISTS eingeleitet wird.",
    "traceback": []
}, {
    "output_type": "display_data",
    "data": {
        "text/html": "Total execution time: 00:00:00.002"
    },
    "metadata": {}
}
],
            "execution_count": 16
        },
        {
            "cell_type": "code",
            "source": [
                ""
            ],
            "metadata": {
                "language": "sql",
                "azdata_cell_guid": "8b7e7812-0147-45ac-b295-5ea150256e8c",
                "tags": []
            },
            "outputs": [],
            "execution_count": null
        }
    ]
}