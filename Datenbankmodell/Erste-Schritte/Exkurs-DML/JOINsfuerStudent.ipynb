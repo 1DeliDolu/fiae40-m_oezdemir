{
    "metadata": {
        "kernelspec": {
            "name": "SQL",
            "display_name": "SQL",
            "language": "sql"
        },
        "language_info": {
            "name": "sql",
            "version": ""
        }
    },
    "nbformat_minor": 2,
    "nbformat": 4,
    "cells": [
        {
            "cell_type": "markdown",
            "source": [
                "Zeigen Sie Abteilung und Die Personen, Die in den Abteilungen Arbeiten"
            ],
            "metadata": {
                "azdata_cell_guid": "73a5c9a7-900a-4919-a04f-41fd027757fa"
            },
            "attachments": {}
        },
        {
            "cell_type": "code",
            "source": [
                ""
            ],
            "metadata": {
                "azdata_cell_guid": "25b11743-a51e-44da-bddc-0886735c91eb",
                "language": "sql"
            },
            "outputs": [],
            "execution_count": null
        }
    ]
}