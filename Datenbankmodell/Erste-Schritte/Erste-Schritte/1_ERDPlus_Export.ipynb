{
    "metadata": {
        "kernelspec": {
            "name": "SQL",
            "display_name": "SQL",
            "language": "sql"
        },
        "language_info": {
            "name": "sql",
            "version": ""
        }
    },
    "nbformat_minor": 2,
    "nbformat": 4,
    "cells": [
        {
            "cell_type": "markdown",
            "source": [
                "# ERDPlus Export: Diesen Code <u>**NICHT!**</u> ausführen"
            ],
            "metadata": {
                "azdata_cell_guid": "9da17686-af63-4a6c-94c0-76ec27b6c075"
            },
            "attachments": {}
        },
        {
            "cell_type": "code",
            "source": [
                "CREATE TABLE Produkt\r\n",
                "(\r\n",
                "  ProduktID INT NOT NULL,\r\n",
                "  Produkt VARCHAR(100) NOT NULL,\r\n",
                "  Einzelpreis decimal(9,2) NOT NULL,\r\n",
                "  PRIMARY KEY (ProduktID)\r\n",
                ");\r\n",
                "\r\n",
                "CREATE TABLE Kunde\r\n",
                "(\r\n",
                "  KundenNr INT NOT NULL,\r\n",
                "  Vorname VARCHAR(100) NOT NULL,\r\n",
                "  Nachname VARCHAR(100) NOT NULL,\r\n",
                "  Firma VARCHAR(100) NOT NULL,\r\n",
                "  PRIMARY KEY (KundenNr)\r\n",
                ");\r\n",
                "\r\n",
                "CREATE TABLE Mitarbeiter\r\n",
                "(\r\n",
                "  MitarbeiterNr INT NOT NULL,\r\n",
                "  Vorname VARCHAR(100) NOT NULL,\r\n",
                "  Nachname VARCHAR(100) NOT NULL,\r\n",
                "  PRIMARY KEY (MitarbeiterNr)\r\n",
                ");\r\n",
                "\r\n",
                "CREATE TABLE Bestellung\r\n",
                "(\r\n",
                "  Bestelldatum DATE NOT NULL,\r\n",
                "  BestellungID INT NOT NULL,\r\n",
                "  KundenNr INT NOT NULL,\r\n",
                "  MitarbeiterNr INT NOT NULL,\r\n",
                "  PRIMARY KEY (BestellungID),\r\n",
                "  FOREIGN KEY (KundenNr) REFERENCES Kunde(KundenNr),\r\n",
                "  FOREIGN KEY (MitarbeiterNr) REFERENCES Mitarbeiter(MitarbeiterNr)\r\n",
                ");\r\n",
                "\r\n",
                "CREATE TABLE Bestelldetail\r\n",
                "(\r\n",
                "  Verkaufspreis Decimal(9,2) NOT NULL,\r\n",
                "  Menge smallint NOT NULL,\r\n",
                "  ProduktID INT NOT NULL,\r\n",
                "  BestellungID INT NOT NULL,\r\n",
                "  PRIMARY KEY (ProduktID, BestellungID),\r\n",
                "  FOREIGN KEY (ProduktID) REFERENCES Produkt(ProduktID),\r\n",
                "  FOREIGN KEY (BestellungID) REFERENCES Bestellung(BestellungID)\r\n",
                ");"
            ],
            "metadata": {
                "azdata_cell_guid": "fee25628-1cfb-410e-9dc2-ca1f5b1383fe",
                "language": "sql"
            },
            "outputs": [
{
    "output_type": "error",
    "evalue": "Msg 2714, Level 16, State 6, Line 1\r\nIn der Datenbank ist bereits ein Objekt mit dem Namen \"Produkt\" vorhanden.",
    "ename": "",
    "traceback": []
}, {
    "output_type": "display_data",
    "data": {
        "text/html": "Total execution time: 00:00:00.002"
    },
    "metadata": {}
}
],
            "execution_count": 5
        }
    ]
}