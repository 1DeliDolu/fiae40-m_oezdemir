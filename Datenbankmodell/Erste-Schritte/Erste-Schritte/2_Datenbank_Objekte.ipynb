{
    "metadata": {
        "kernelspec": {
            "name": "SQL",
            "display_name": "SQL",
            "language": "sql"
        },
        "language_info": {
            "name": "sql",
            "version": ""
        }
    },
    "nbformat_minor": 2,
    "nbformat": 4,
    "cells": [
        {
            "cell_type": "markdown",
            "source": [
                ""
            ],
            "metadata": {
                "azdata_cell_guid": "987c747b-baab-431a-a642-cf3957246adc"
            }
        },
        {
            "cell_type": "code",
            "source": [
                "-- Wechsle in Master-Datenbank\r\n",
                "/* \r\n",
                "mehrzeilige Kommentar\r\n",
                "*/\r\n",
                "\r\n",
                "USE master;\r\n",
                "\r\n",
                "DROP DATABASE IF EXISTS ErsteSchritte;\r\n",
                "-- Batch Operator\r\n",
                "go \r\n",
                "\r\n",
                "CREATE DATABASE ErsteSchritte;\r\n",
                "go\r\n",
                "\r\n",
                "USE ErsteSchritte;\r\n",
                "\r\n",
                "CREATE TABLE Produkt\r\n",
                "(\r\n",
                "  ProduktID INT IDENTITY(1,1) NOT NULL,\r\n",
                "  Produkt VARCHAR(100) NOT NULL,\r\n",
                "  Einzelpreis decimal(9,2) NOT NULL,\r\n",
                "  CONSTRAINT pk_Produkt PRIMARY KEY (ProduktID)\r\n",
                ");\r\n",
                "\r\n",
                "CREATE TABLE Kunde\r\n",
                "(\r\n",
                "  KundenNr INT IDENTITY(1,1) NOT NULL,\r\n",
                "  Vorname VARCHAR(100) NOT NULL,\r\n",
                "  Nachname VARCHAR(100) NOT NULL,\r\n",
                "  Firma VARCHAR(100) NOT NULL,\r\n",
                "  CONSTRAINT pk_Kunde PRIMARY KEY (KundenNr)\r\n",
                ");\r\n",
                "\r\n",
                "CREATE TABLE Mitarbeiter\r\n",
                "(\r\n",
                "  MitarbeiterNr INT IDENTITY(1,1) NOT NULL,\r\n",
                "  Vorname VARCHAR(100) NOT NULL,\r\n",
                "  Nachname VARCHAR(100) NOT NULL,\r\n",
                "  CONSTRAINT pk_Mitarbeiter PRIMARY KEY (MitarbeiterNr)\r\n",
                ");\r\n",
                "\r\n",
                "CREATE TABLE Bestellung\r\n",
                "(\r\n",
                "  Bestelldatum DATE NOT NULL,\r\n",
                "  BestellungID  INT IDENTITY(1,1) NOT NULL,\r\n",
                "  KundenNr INT NOT NULL,\r\n",
                "  MitarbeiterNr INT NOT NULL,\r\n",
                "  CONSTRAINT pk_Bestellung PRIMARY KEY (BestellungID),\r\n",
                "  CONSTRAINT fk_Bestellung_Kunde FOREIGN KEY (KundenNr) REFERENCES Kunde(KundenNr),\r\n",
                "  CONSTRAINT fk_Bestellung_Mitarbeiter FOREIGN KEY (MitarbeiterNr) REFERENCES Mitarbeiter(MitarbeiterNr)\r\n",
                ");\r\n",
                "\r\n",
                "CREATE TABLE Bestelldetail\r\n",
                "(\r\n",
                "  Verkaufspreis Decimal(9,2) NOT NULL,\r\n",
                "  Menge smallint NOT NULL,\r\n",
                "  ProduktID INT NOT NULL,\r\n",
                "  BestellungID INT NOT NULL,\r\n",
                "  CONSTRAINT pk_Bestelldetail PRIMARY KEY (ProduktID, BestellungID),\r\n",
                "  CONSTRAINT fk_Bestelldetail_Produkt FOREIGN KEY (ProduktID) REFERENCES Produkt(ProduktID),\r\n",
                "  CONSTRAINT fk_Bestelldetail_Bestellung FOREIGN KEY (BestellungID) REFERENCES Bestellung(BestellungID)\r\n",
                ");"
            ],
            "metadata": {
                "azdata_cell_guid": "ad504ab0-4bfd-4750-b01a-1527fc9181d8",
                "language": "sql"
            },
            "outputs": [
                {
                    "output_type": "error",
                    "ename": "",
                    "evalue": "Msg 3702, Level 16, State 4, Line 8\r\nDie ErsteSchritte-Datenbank kann nicht gelöscht werden, da sie zurzeit verwendet wird.",
                    "traceback": []
                },
                {
                    "output_type": "error",
                    "ename": "",
                    "evalue": "Msg 1801, Level 16, State 3, Line 12\r\nDie ErsteSchritte-Datenbank ist bereits vorhanden. Wählen Sie einen anderen Datenbanknamen aus.",
                    "traceback": []
                },
                {
                    "output_type": "error",
                    "ename": "",
                    "evalue": "Msg 173, Level 15, State 13, Line 45\r\nDie Definition für die BestellungID-Spalte muss einen Datentyp einschließen.",
                    "traceback": []
                },
                {
                    "output_type": "error",
                    "ename": "",
                    "evalue": "Msg 156, Level 15, State 1, Line 61\r\nFalsche Syntax in der Nähe des KEY-Schlüsselworts.",
                    "traceback": []
                },
                {
                    "output_type": "display_data",
                    "data": {
                        "text/html": "Total execution time: 00:00:20.025"
                    },
                    "metadata": {}
                }
            ],
            "execution_count": 1
        }
    ]
}