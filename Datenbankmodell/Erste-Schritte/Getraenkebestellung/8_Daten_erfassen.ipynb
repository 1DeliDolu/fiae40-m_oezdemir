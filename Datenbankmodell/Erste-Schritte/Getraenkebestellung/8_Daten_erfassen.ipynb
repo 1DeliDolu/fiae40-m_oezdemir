{
    "metadata": {
        "kernelspec": {
            "name": "SQL",
            "display_name": "SQL",
            "language": "sql"
        },
        "language_info": {
            "name": "sql",
            "version": ""
        }
    },
    "nbformat_minor": 2,
    "nbformat": 4,
    "cells": [
        {
            "cell_type": "markdown",
            "source": [
                "# Getränkebestellung Daten erfassen"
            ],
            "metadata": {
                "azdata_cell_guid": "29f73761-81d8-4839-9e0d-02240d94b7bb"
            },
            "attachments": {}
        },
        {
            "cell_type": "markdown",
            "source": [
                "Stammdaten"
            ],
            "metadata": {
                "azdata_cell_guid": "718b9954-3d82-4415-b71d-2f5937160a49"
            },
            "attachments": {}
        },
        {
            "cell_type": "code",
            "source": [
                "-- Lieferant\r\n",
                "/*\r\n",
                "\r\n",
                "INSERT INTO Lieferant (Firma, Straße, PLZ, Ort)\r\n",
                "VALUES  ('Schiller KG','Goetheplatz 3','12345','Berlin'),\r\n",
                "        ('Mauer GmbH', 'Bahnweg 45','02345','Postdam'),\r\n",
                "        ('Bäcker GmbH', 'Platz 45','65623','Reuth');\r\n",
                "        */"
            ],
            "metadata": {
                "azdata_cell_guid": "52fe45bc-e55e-4e0b-b2a0-a2b3c6f02584",
                "language": "sql",
                "tags": []
            },
            "outputs": [
                {
                    "output_type": "display_data",
                    "data": {
                        "text/html": "(3 rows affected)"
                    },
                    "metadata": {}
                },
                {
                    "output_type": "display_data",
                    "data": {
                        "text/html": "Total execution time: 00:00:00.004"
                    },
                    "metadata": {}
                }
            ],
            "execution_count": 1
        },
        {
            "cell_type": "code",
            "source": [
                "SELECT * FROM Lieferant;"
            ],
            "metadata": {
                "language": "sql",
                "azdata_cell_guid": "2ce2a23e-ead7-4a63-b2c2-edbe49907b3e"
            },
            "outputs": [
                {
                    "output_type": "display_data",
                    "data": {
                        "text/html": "(3 rows affected)"
                    },
                    "metadata": {}
                },
                {
                    "output_type": "display_data",
                    "data": {
                        "text/html": "Total execution time: 00:00:00.037"
                    },
                    "metadata": {}
                },
                {
                    "output_type": "execute_result",
                    "execution_count": 3,
                    "data": {
                        "application/vnd.dataresource+json": {
                            "schema": {
                                "fields": [
                                    {
                                        "name": "LieferantID"
                                    },
                                    {
                                        "name": "Firma"
                                    },
                                    {
                                        "name": "Straße"
                                    },
                                    {
                                        "name": "PLZ"
                                    },
                                    {
                                        "name": "Ort"
                                    }
                                ]
                            },
                            "data": [
                                {
                                    "LieferantID": "1",
                                    "Firma": "Schiller KG",
                                    "Straße": "Goetheplatz 3",
                                    "PLZ": "12345",
                                    "Ort": "Berlin"
                                },
                                {
                                    "LieferantID": "2",
                                    "Firma": "Mauer GmbH",
                                    "Straße": "Bahnweg 45",
                                    "PLZ": "02345",
                                    "Ort": "Postdam"
                                },
                                {
                                    "LieferantID": "3",
                                    "Firma": "Bäcker GmbH",
                                    "Straße": "Platz 45",
                                    "PLZ": "65623",
                                    "Ort": "Reuth"
                                }
                            ]
                        },
                        "text/html": "<table><tr><th>LieferantID</th><th>Firma</th><th>Straße</th><th>PLZ</th><th>Ort</th></tr><tr><td>1</td><td>Schiller KG</td><td>Goetheplatz 3</td><td>12345</td><td>Berlin</td></tr><tr><td>2</td><td>Mauer GmbH</td><td>Bahnweg 45</td><td>02345</td><td>Postdam</td></tr><tr><td>3</td><td>Bäcker GmbH</td><td>Platz 45</td><td>65623</td><td>Reuth</td></tr></table>"
                    },
                    "metadata": {}
                }
            ],
            "execution_count": 3
        },
        {
            "cell_type": "code",
            "source": [
                "-- Gebindeart\r\n",
                "/*\r\n",
                "INSERT INTO Gebinde (GebindeArt)\r\n",
                "VALUES  ('Faß'),\r\n",
                "        ('Karton'),\r\n",
                "        ('Kiste');\r\n",
                "  */     "
            ],
            "metadata": {
                "language": "sql",
                "azdata_cell_guid": "be91c15f-60d1-4da5-9754-444fb980f3c2",
                "tags": []
            },
            "outputs": [
                {
                    "output_type": "display_data",
                    "data": {
                        "text/html": "(3 rows affected)"
                    },
                    "metadata": {}
                },
                {
                    "output_type": "display_data",
                    "data": {
                        "text/html": "Total execution time: 00:00:00.004"
                    },
                    "metadata": {}
                }
            ],
            "execution_count": 2
        },
        {
            "cell_type": "code",
            "source": [
                "SELECT * FROM Gebinde;"
            ],
            "metadata": {
                "language": "sql",
                "azdata_cell_guid": "6eecd095-f33b-4c12-af7e-4fabdd833d26"
            },
            "outputs": [
                {
                    "output_type": "display_data",
                    "data": {
                        "text/html": "(3 rows affected)"
                    },
                    "metadata": {}
                },
                {
                    "output_type": "display_data",
                    "data": {
                        "text/html": "Total execution time: 00:00:00.010"
                    },
                    "metadata": {}
                },
                {
                    "output_type": "execute_result",
                    "execution_count": 5,
                    "data": {
                        "application/vnd.dataresource+json": {
                            "schema": {
                                "fields": [
                                    {
                                        "name": "GebindeID"
                                    },
                                    {
                                        "name": "GebindeArt"
                                    }
                                ]
                            },
                            "data": [
                                {
                                    "GebindeID": "1",
                                    "GebindeArt": "Faß"
                                },
                                {
                                    "GebindeID": "2",
                                    "GebindeArt": "Karton"
                                },
                                {
                                    "GebindeID": "3",
                                    "GebindeArt": "Kiste"
                                }
                            ]
                        },
                        "text/html": "<table><tr><th>GebindeID</th><th>GebindeArt</th></tr><tr><td>1</td><td>Faß</td></tr><tr><td>2</td><td>Karton</td></tr><tr><td>3</td><td>Kiste</td></tr></table>"
                    },
                    "metadata": {}
                }
            ],
            "execution_count": 5
        },
        {
            "cell_type": "code",
            "source": [
                "-- Artikel\r\n",
                "/*\r\n",
                "INSERT INTO Artikel (Artikel,GebindeID,UVP)\r\n",
                "VALUES  ('Hydro-Wasser',3,5.50),\r\n",
                "        ('Cola-Mix-Spree',3,12.50),\r\n",
                "        ('Stone Energy Drink',2,22),\r\n",
                "        ('Weizen Hell Rhein-Bräu',3, 15);\r\n",
                "   */   "
            ],
            "metadata": {
                "language": "sql",
                "azdata_cell_guid": "39060b6b-be19-4f4f-87a9-9becf10b1bc6",
                "tags": []
            },
            "outputs": [
                {
                    "output_type": "display_data",
                    "data": {
                        "text/html": "(4 rows affected)"
                    },
                    "metadata": {}
                },
                {
                    "output_type": "display_data",
                    "data": {
                        "text/html": "Total execution time: 00:00:00.008"
                    },
                    "metadata": {}
                }
            ],
            "execution_count": 3
        },
        {
            "cell_type": "code",
            "source": [
                "SELECT * FROM Artikel;"
            ],
            "metadata": {
                "language": "sql",
                "azdata_cell_guid": "8a73ecb3-b10d-4ade-906f-89c880078cae"
            },
            "outputs": [
                {
                    "output_type": "display_data",
                    "data": {
                        "text/html": "(4 rows affected)"
                    },
                    "metadata": {}
                },
                {
                    "output_type": "display_data",
                    "data": {
                        "text/html": "Total execution time: 00:00:00.013"
                    },
                    "metadata": {}
                },
                {
                    "output_type": "execute_result",
                    "execution_count": 7,
                    "data": {
                        "application/vnd.dataresource+json": {
                            "schema": {
                                "fields": [
                                    {
                                        "name": "ArtikelID"
                                    },
                                    {
                                        "name": "Artikel"
                                    },
                                    {
                                        "name": "UVP"
                                    },
                                    {
                                        "name": "GebindeID"
                                    }
                                ]
                            },
                            "data": [
                                {
                                    "ArtikelID": "1",
                                    "Artikel": "Hydro-Wasser",
                                    "UVP": "5.50",
                                    "GebindeID": "3"
                                },
                                {
                                    "ArtikelID": "2",
                                    "Artikel": "Cola-Mix-Spree",
                                    "UVP": "12.50",
                                    "GebindeID": "3"
                                },
                                {
                                    "ArtikelID": "3",
                                    "Artikel": "Stone Energy Drink",
                                    "UVP": "22.00",
                                    "GebindeID": "2"
                                },
                                {
                                    "ArtikelID": "4",
                                    "Artikel": "Weizen Hell Rhein-Bräu",
                                    "UVP": "15.00",
                                    "GebindeID": "3"
                                }
                            ]
                        },
                        "text/html": "<table><tr><th>ArtikelID</th><th>Artikel</th><th>UVP</th><th>GebindeID</th></tr><tr><td>1</td><td>Hydro-Wasser</td><td>5.50</td><td>3</td></tr><tr><td>2</td><td>Cola-Mix-Spree</td><td>12.50</td><td>3</td></tr><tr><td>3</td><td>Stone Energy Drink</td><td>22.00</td><td>2</td></tr><tr><td>4</td><td>Weizen Hell Rhein-Bräu</td><td>15.00</td><td>3</td></tr></table>"
                    },
                    "metadata": {}
                }
            ],
            "execution_count": 7
        },
        {
            "cell_type": "code",
            "source": [
                "--Sortiment\r\n",
                "/*\r\n",
                "Schiller hat Hydro 7.99, cola Mix 11.99, Weizen 13.99\r\n",
                "Mauer hat Stone-Energy 22\r\n",
                "Bäcker hat 5.46, Stone-Energy 20\r\n",
                "*/\r\n",
                "/*\r\n",
                "INSERT INTO Sortiment (LieferantID, ArtikelID, Angebotspreis)\r\n",
                "VALUES  (1 , 1, 7.99 ),\r\n",
                "        (1 , 2, 11.99),\r\n",
                "        (1 , 4 , 13.99 ),\r\n",
                "        ( 2, 3, 22),\r\n",
                "        ( 3, 1 , 5.46 ),\r\n",
                "        ( 3, 3 , 20 );\r\n",
                "\r\n",
                "   */  "
            ],
            "metadata": {
                "language": "sql",
                "azdata_cell_guid": "13425040-288c-4bc1-9866-5ae2b1ef39f7",
                "tags": []
            },
            "outputs": [
                {
                    "output_type": "display_data",
                    "data": {
                        "text/html": "(6 rows affected)"
                    },
                    "metadata": {}
                },
                {
                    "output_type": "display_data",
                    "data": {
                        "text/html": "Total execution time: 00:00:00.012"
                    },
                    "metadata": {}
                }
            ],
            "execution_count": 4
        },
        {
            "cell_type": "code",
            "source": [
                "\r\n",
                "SELECT l.Firma, a.Artikel, a.UVP , s.Angebotspreis\r\n",
                "FROM Lieferant AS l\r\n",
                "JOIN Sortiment  AS s ON l.LieferantID = s.LieferantID\r\n",
                "JOIN Artikel AS a ON  a.ArtikelID = s.ArtikelID;"
            ],
            "metadata": {
                "language": "sql",
                "azdata_cell_guid": "415f94f3-cdc4-423c-87f2-6c3ce3fe0533",
                "tags": []
            },
            "outputs": [
                {
                    "output_type": "display_data",
                    "data": {
                        "text/html": "(6 rows affected)"
                    },
                    "metadata": {}
                },
                {
                    "output_type": "display_data",
                    "data": {
                        "text/html": "Total execution time: 00:00:00.011"
                    },
                    "metadata": {}
                },
                {
                    "output_type": "execute_result",
                    "metadata": {},
                    "execution_count": 8,
                    "data": {
                        "application/vnd.dataresource+json": {
                            "schema": {
                                "fields": [
                                    {
                                        "name": "Firma"
                                    },
                                    {
                                        "name": "Artikel"
                                    },
                                    {
                                        "name": "UVP"
                                    },
                                    {
                                        "name": "Angebotspreis"
                                    }
                                ]
                            },
                            "data": [
                                {
                                    "Firma": "Schiller KG",
                                    "Artikel": "Hydro-Wasser",
                                    "UVP": "5.50",
                                    "Angebotspreis": "7.99"
                                },
                                {
                                    "Firma": "Schiller KG",
                                    "Artikel": "Cola-Mix-Spree",
                                    "UVP": "12.50",
                                    "Angebotspreis": "11.99"
                                },
                                {
                                    "Firma": "Schiller KG",
                                    "Artikel": "Weizen Hell Rhein-Bräu",
                                    "UVP": "15.00",
                                    "Angebotspreis": "13.99"
                                },
                                {
                                    "Firma": "Mauer GmbH",
                                    "Artikel": "Stone Energy Drink",
                                    "UVP": "22.00",
                                    "Angebotspreis": "22.00"
                                },
                                {
                                    "Firma": "Bäcker GmbH",
                                    "Artikel": "Hydro-Wasser",
                                    "UVP": "5.50",
                                    "Angebotspreis": "5.46"
                                },
                                {
                                    "Firma": "Bäcker GmbH",
                                    "Artikel": "Stone Energy Drink",
                                    "UVP": "22.00",
                                    "Angebotspreis": "20.00"
                                }
                            ]
                        },
                        "text/html": [
                            "<table>",
                            "<tr><th>Firma</th><th>Artikel</th><th>UVP</th><th>Angebotspreis</th></tr>",
                            "<tr><td>Schiller KG</td><td>Hydro-Wasser</td><td>5.50</td><td>7.99</td></tr>",
                            "<tr><td>Schiller KG</td><td>Cola-Mix-Spree</td><td>12.50</td><td>11.99</td></tr>",
                            "<tr><td>Schiller KG</td><td>Weizen Hell Rhein-Bräu</td><td>15.00</td><td>13.99</td></tr>",
                            "<tr><td>Mauer GmbH</td><td>Stone Energy Drink</td><td>22.00</td><td>22.00</td></tr>",
                            "<tr><td>Bäcker GmbH</td><td>Hydro-Wasser</td><td>5.50</td><td>5.46</td></tr>",
                            "<tr><td>Bäcker GmbH</td><td>Stone Energy Drink</td><td>22.00</td><td>20.00</td></tr>",
                            "</table>"
                        ]
                    }
                }
            ],
            "execution_count": 8
        },
        {
            "cell_type": "code",
            "source": [
                "SELECT  b.BestellungID, l.Firma,bd.Menge,a.Artikel,bd.Preis, \r\n",
                "bd.Menge * bd.Preis AS Absatzmenge\r\n",
                "FROM Lieferant AS l\r\n",
                "JOIN Bestellung AS b ON l.LieferantID=b.LieferantID\r\n",
                "JOIN Bestelldetail AS bd ON bd.BestellungID =b.BestellungID\r\n",
                "JOIN Artikel AS a ON a.ArtikelID = bd.ArtikelID\r\n",
                ""
            ],
            "metadata": {
                "language": "sql",
                "azdata_cell_guid": "3f0186d5-e1a1-456d-b9b2-7b2c19204474",
                "tags": []
            },
            "outputs": [
                {
                    "output_type": "display_data",
                    "data": {
                        "text/html": "(0 rows affected)"
                    },
                    "metadata": {}
                },
                {
                    "output_type": "display_data",
                    "data": {
                        "text/html": "Total execution time: 00:00:00.008"
                    },
                    "metadata": {}
                },
                {
                    "output_type": "execute_result",
                    "metadata": {},
                    "execution_count": 14,
                    "data": {
                        "application/vnd.dataresource+json": {
                            "schema": {
                                "fields": [
                                    {
                                        "name": "BestellungID"
                                    },
                                    {
                                        "name": "Firma"
                                    },
                                    {
                                        "name": "Menge"
                                    },
                                    {
                                        "name": "Artikel"
                                    },
                                    {
                                        "name": "Preis"
                                    },
                                    {
                                        "name": "Absatzmenge"
                                    }
                                ]
                            },
                            "data": []
                        },
                        "text/html": [
                            "<table>",
                            "<tr><th>BestellungID</th><th>Firma</th><th>Menge</th><th>Artikel</th><th>Preis</th><th>Absatzmenge</th></tr>",
                            "</table>"
                        ]
                    }
                }
            ],
            "execution_count": 14
        },
        {
            "cell_type": "code",
            "source": [
                " SELECT l.Firma, a.Artikel, a.UVP, s.Angebotspreis,\r\n",
                " a.UVP- s.Angebotspreis AS Ersparnis --AS definiert Spaltename\r\n",
                " FROM Lieferant AS l --AS definiert  alias\r\n",
                " JOIN  Sortiment AS s ON s.LieferantID=l.LieferantID\r\n",
                " JOIN Artikel AS a ON a.ArtikelID=s.ArtikelID"
            ],
            "metadata": {
                "language": "sql",
                "azdata_cell_guid": "fdef49fb-4c80-4e3b-a74a-753863a32453"
            },
            "outputs": [
{
    "output_type": "display_data",
    "data": {
        "text/html": "(6 rows affected)"
    },
    "metadata": {}
}, {
    "output_type": "display_data",
    "data": {
        "text/html": "Total execution time: 00:00:00.014"
    },
    "metadata": {}
}, {
    "output_type": "execute_result",
    "metadata": {},
    "execution_count": 15,
    "data": {
        "application/vnd.dataresource+json": {
            "schema": {
                "fields": [
                    {
                        "name": "Firma"
                    },
                    {
                        "name": "Artikel"
                    },
                    {
                        "name": "UVP"
                    },
                    {
                        "name": "Angebotspreis"
                    },
                    {
                        "name": "Ersparnis"
                    }
                ]
            },
            "data": [
                {
                    "Firma": "Schiller KG",
                    "Artikel": "Hydro-Wasser",
                    "UVP": "5.50",
                    "Angebotspreis": "7.99",
                    "Ersparnis": "-2.49"
                },
                {
                    "Firma": "Schiller KG",
                    "Artikel": "Cola-Mix-Spree",
                    "UVP": "12.50",
                    "Angebotspreis": "11.99",
                    "Ersparnis": "0.51"
                },
                {
                    "Firma": "Schiller KG",
                    "Artikel": "Weizen Hell Rhein-Bräu",
                    "UVP": "15.00",
                    "Angebotspreis": "13.99",
                    "Ersparnis": "1.01"
                },
                {
                    "Firma": "Mauer GmbH",
                    "Artikel": "Stone Energy Drink",
                    "UVP": "22.00",
                    "Angebotspreis": "22.00",
                    "Ersparnis": "0.00"
                },
                {
                    "Firma": "Bäcker GmbH",
                    "Artikel": "Hydro-Wasser",
                    "UVP": "5.50",
                    "Angebotspreis": "5.46",
                    "Ersparnis": "0.04"
                },
                {
                    "Firma": "Bäcker GmbH",
                    "Artikel": "Stone Energy Drink",
                    "UVP": "22.00",
                    "Angebotspreis": "20.00",
                    "Ersparnis": "2.00"
                }
            ]
        },
        "text/html": [
            "<table>",
            "<tr><th>Firma</th><th>Artikel</th><th>UVP</th><th>Angebotspreis</th><th>Ersparnis</th></tr>",
            "<tr><td>Schiller KG</td><td>Hydro-Wasser</td><td>5.50</td><td>7.99</td><td>-2.49</td></tr>",
            "<tr><td>Schiller KG</td><td>Cola-Mix-Spree</td><td>12.50</td><td>11.99</td><td>0.51</td></tr>",
            "<tr><td>Schiller KG</td><td>Weizen Hell Rhein-Bräu</td><td>15.00</td><td>13.99</td><td>1.01</td></tr>",
            "<tr><td>Mauer GmbH</td><td>Stone Energy Drink</td><td>22.00</td><td>22.00</td><td>0.00</td></tr>",
            "<tr><td>Bäcker GmbH</td><td>Hydro-Wasser</td><td>5.50</td><td>5.46</td><td>0.04</td></tr>",
            "<tr><td>Bäcker GmbH</td><td>Stone Energy Drink</td><td>22.00</td><td>20.00</td><td>2.00</td></tr>",
            "</table>"
        ]
    }
}
],
            "execution_count": 15
        },
        {
            "cell_type": "code",
            "source": [
                ""
            ],
            "metadata": {
                "language": "sql",
                "azdata_cell_guid": "b5ed5c9b-afcf-4131-9bd5-bf191f30ade3"
            },
            "outputs": [],
            "execution_count": null
        },
        {
            "cell_type": "markdown",
            "source": [
                "## Fakten\n",
                "\n",
                "Hier gehören Zeilen aus verschidene Tabellen zusamnen ( Bestellunhg und Bestelldetail).\n",
                "\n",
                "diese erfassen wir als **Transaktionen** nach dem **ACID** Prinzip)"
            ],
            "metadata": {
                "language": "sql",
                "azdata_cell_guid": "77865939-a2cf-4573-b7ae-37e6cf055fa0"
            },
            "attachments": {}
        },
        {
            "cell_type": "code",
            "source": [
                "--Trockenübungs TRY und CATCH\r\n",
                "\r\n",
                "BEGIN \r\n",
                "    BEGIN TRY\r\n",
                "       \r\n",
                "        PRINT 'Yay! Alles Prima!';  \r\n",
                "\r\n",
                "\r\n",
                "    END TRY\r\n",
                "    BEGIN CATCH\r\n",
                "      \r\n",
                "        PRINT 'Aua! Schief gegangen!';\r\n",
                "        THROW;\r\n",
                "    END CATCH;\r\n",
                "END;\r\n",
                ""
            ],
            "metadata": {
                "language": "sql",
                "azdata_cell_guid": "0470b9bd-1180-4686-b522-2e007cc855fa"
            },
            "outputs": [
                {
                    "output_type": "display_data",
                    "data": {
                        "text/html": "1.80"
                    },
                    "metadata": {}
                },
                {
                    "output_type": "display_data",
                    "data": {
                        "text/html": "Yay! Alles Prima!"
                    },
                    "metadata": {}
                },
                {
                    "output_type": "display_data",
                    "data": {
                        "text/html": "Total execution time: 00:00:00.002"
                    },
                    "metadata": {}
                }
            ],
            "execution_count": 8
        },
        {
            "cell_type": "code",
            "source": [
                "--Trockenübungs TRY und CATCH\r\n",
                "BEGIN \r\n",
                "    BEGIN TRY\r\n",
                "        DECLARE @dividend decimal(9,2), @divisor decimal(9,2), @quotient decimal(9,2);\r\n",
                "        SET @dividend =25;\r\n",
                "        SET @divisor = 0;\r\n",
                "        IF @divisor =0 THROW 50000, 'Du darfst nicht durch 0 teilen! ', 1; \r\n",
                "        SET @quotient =1.0* @dividend/@divisor;\r\n",
                "        PRINT @quotient;\r\n",
                "        PRINT 'Yay! Alles Prima!';  \r\n",
                "\r\n",
                "\r\n",
                "    END TRY\r\n",
                "    BEGIN CATCH\r\n",
                "      \r\n",
                "        PRINT 'Aua! Schief gegangen!';\r\n",
                "        THROW;\r\n",
                "    END CATCH;\r\n",
                "END;\r\n",
                ""
            ],
            "metadata": {
                "language": "sql",
                "azdata_cell_guid": "cfa599c1-a1af-41cd-8780-95b9b8f78adf"
            },
            "outputs": [
                {
                    "output_type": "display_data",
                    "data": {
                        "text/html": "Aua! Schief gegangen!"
                    },
                    "metadata": {}
                },
                {
                    "output_type": "error",
                    "ename": "",
                    "evalue": "Msg 50000, Level 16, State 1, Line 7\r\nDu darfst nicht durch 0 teilen! ",
                    "traceback": []
                },
                {
                    "output_type": "display_data",
                    "data": {
                        "text/html": "Total execution time: 00:00:00.002"
                    },
                    "metadata": {}
                }
            ],
            "execution_count": 5
        },
        {
            "cell_type": "code",
            "source": [
                "--Trockenübungs TRY und CATCH\r\n",
                "\r\n",
                "BEGIN \r\n",
                "    BEGIN TRANSACTION;\r\n",
                "    BEGIN TRY \r\n",
                "        DECLARE @BestellungID int;\r\n",
                "        SET @BestellungID = @@IDENTITY;\r\n",
                "        \r\n",
                "    \r\n",
                "       -- Schiller KG 1\r\n",
                "       INSERT INTO Bestellung (LieferantID , Bestelldatum)\r\n",
                "       VALUES (1,'2016-02-10')\r\n",
                "       INSERT INTO Bestelldetail (BestellungID,ArtikelID, Menge, Preis)\r\n",
                "       VALUES(@BestellungID,1,5,7.99)\r\n",
                "       \r\n",
                "       INSERT INTO Bestelldetail (BestellungID, ArtikelId, Menge, Preis)\r\n",
                "       VALUES(@BestellungID,2,5,11.99)\r\n",
                "        \r\n",
                "        -- Mauer GmbH \r\n",
                "       INSERT INTO Bestellung (LieferantID , Bestelldatum)\r\n",
                "       VALUES (2,'2016-02-17')\r\n",
                "       INSERT INTO Bestelldetail (BestellungID,ArtikelID, Menge, Preis)\r\n",
                "       VALUES(@BestellungID,3,10,22)\r\n",
                "        \r\n",
                "        -- Bäcker GmbH\r\n",
                "       INSERT INTO Bestellung (LieferantID , Bestelldatum)\r\n",
                "       VALUES (3,'2016-02-24')\r\n",
                "       \r\n",
                "       INSERT INTO Bestellung (LieferantID , Bestelldatum)\r\n",
                "       VALUES (3,'2016-03-16')\r\n",
                "       \r\n",
                "       INSERT INTO Bestellung (LieferantID , Bestelldatum)\r\n",
                "       VALUES (3,'2016-03-23')\r\n",
                "              \r\n",
                "       INSERT INTO Bestelldetail (BestellungID,ArtikelID, Menge, Preis)\r\n",
                "       VALUES(@BestellungID,1,10,5.46)\r\n",
                "        \r\n",
                "       INSERT INTO Bestelldetail (BestellungID,ArtikelID, Menge, Preis)\r\n",
                "       VALUES(@BestellungID,4,4,20)\r\n",
                "\r\n",
                "        PRINT 'Yay! Alles Prima!';  \r\n",
                "        COMMIT TRANSACTION;\r\n",
                "    END TRY\r\n",
                "    BEGIN CATCH\r\n",
                "        ROLLBACK TRANSACTION;\r\n",
                "        PRINT 'Aua! Schief gegangen!';\r\n",
                "        THROW;\r\n",
                "    END CATCH;\r\n",
                "END;\r\n",
                ""
            ],
            "metadata": {
                "language": "sql",
                "azdata_cell_guid": "39367779-e70e-4d11-b929-23f98c4c6182"
            },
            "outputs": [
                {
                    "output_type": "display_data",
                    "data": {
                        "text/html": "(1 row affected)"
                    },
                    "metadata": {}
                },
                {
                    "output_type": "display_data",
                    "data": {
                        "text/html": "(0 rows affected)"
                    },
                    "metadata": {}
                },
                {
                    "output_type": "display_data",
                    "data": {
                        "text/html": "Aua! Schief gegangen!"
                    },
                    "metadata": {}
                },
                {
                    "output_type": "error",
                    "evalue": "Msg 515, Level 16, State 2, Line 16\r\nDer Wert NULL kann in die BestellungID-Spalte, Getraenkebestellung.dbo.Bestelldetail-Tabelle nicht eingefügt werden. Die Spalte lässt NULL-Werte nicht zu. Fehler bei INSERT.",
                    "ename": "",
                    "traceback": []
                },
                {
                    "output_type": "display_data",
                    "data": {
                        "text/html": "Total execution time: 00:00:00.016"
                    },
                    "metadata": {}
                }
            ],
            "execution_count": 12
        },
        {
            "cell_type": "code",
            "source": [
                "SELECT * FROM Bestellung;"
            ],
            "metadata": {
                "language": "sql",
                "azdata_cell_guid": "b10c847f-b2e2-420b-a51a-4e0a19822276"
            },
            "outputs": [
                {
                    "output_type": "display_data",
                    "data": {
                        "text/html": "(0 rows affected)"
                    },
                    "metadata": {}
                },
                {
                    "output_type": "display_data",
                    "data": {
                        "text/html": "Total execution time: 00:00:00.007"
                    },
                    "metadata": {}
                },
                {
                    "output_type": "execute_result",
                    "metadata": {},
                    "execution_count": 13,
                    "data": {
                        "application/vnd.dataresource+json": {
                            "schema": {
                                "fields": [
                                    {
                                        "name": "BestellungID"
                                    },
                                    {
                                        "name": "Bestelldatum"
                                    },
                                    {
                                        "name": "LieferantID"
                                    }
                                ]
                            },
                            "data": []
                        },
                        "text/html": [
                            "<table>",
                            "<tr><th>BestellungID</th><th>Bestelldatum</th><th>LieferantID</th></tr>",
                            "</table>"
                        ]
                    }
                }
            ],
            "execution_count": 13
        },
        {
            "cell_type": "code",
            "source": [
                "SELECT Bestellung.BestellungID, Lieferant.Firma, Bestellung.Bestelldatum , Bestelldetail.Menge, Artikel.Artikel, Bestelldetail.Preis\r\n",
                "FROM Lieferant\r\n",
                "JOIN Bestellung ON Lieferant.LieferantID = Bestellung.LieferantID\r\n",
                "JOIN Bestelldetail ON Bestellung.BestellungID = Bestelldetail.BestellungID\r\n",
                "JOIN Artikel ON Bestelldetail.ArtikelID = Artikel.ArtikelID;"
            ],
            "metadata": {
                "language": "sql",
                "azdata_cell_guid": "be188408-f9f2-4064-bea6-0b2b871b9581",
                "tags": []
            },
            "outputs": [
                {
                    "output_type": "display_data",
                    "data": {
                        "text/html": "(2 rows affected)"
                    },
                    "metadata": {}
                },
                {
                    "output_type": "display_data",
                    "data": {
                        "text/html": "Total execution time: 00:00:00.043"
                    },
                    "metadata": {}
                },
                {
                    "output_type": "execute_result",
                    "execution_count": 11,
                    "data": {
                        "application/vnd.dataresource+json": {
                            "schema": {
                                "fields": [
                                    {
                                        "name": "BestellungID"
                                    },
                                    {
                                        "name": "Firma"
                                    },
                                    {
                                        "name": "Bestelldatum"
                                    },
                                    {
                                        "name": "Menge"
                                    },
                                    {
                                        "name": "Artikel"
                                    },
                                    {
                                        "name": "Preis"
                                    }
                                ]
                            },
                            "data": [
                                {
                                    "BestellungID": "1",
                                    "Firma": "Schiller KG",
                                    "Bestelldatum": "2016-02-10",
                                    "Menge": "5",
                                    "Artikel": "Hydro-Wasser",
                                    "Preis": "7.99"
                                },
                                {
                                    "BestellungID": "1",
                                    "Firma": "Schiller KG",
                                    "Bestelldatum": "2016-02-10",
                                    "Menge": "5",
                                    "Artikel": "Cola-Mix-Spree",
                                    "Preis": "11.99"
                                }
                            ]
                        },
                        "text/html": "<table><tr><th>BestellungID</th><th>Firma</th><th>Bestelldatum</th><th>Menge</th><th>Artikel</th><th>Preis</th></tr><tr><td>1</td><td>Schiller KG</td><td>2016-02-10</td><td>5</td><td>Hydro-Wasser</td><td>7.99</td></tr><tr><td>1</td><td>Schiller KG</td><td>2016-02-10</td><td>5</td><td>Cola-Mix-Spree</td><td>11.99</td></tr></table>"
                    },
                    "metadata": {}
                }
            ],
            "execution_count": 11
        },
        {
            "cell_type": "markdown",
            "source": [
                "<span style=\"color: #6a9955;\">--Trockenübungs TRY und CATCH</span>"
            ],
            "metadata": {
                "language": "sql",
                "azdata_cell_guid": "4eceb390-dc0c-4c5c-a747-c8f201a27b7e"
            },
            "attachments": {}
        },
        {
            "cell_type": "code",
            "source": [
                "SELECT Bestellung.BestellungID, Lieferant.Firma, Bestellung.Bestelldatum , Bestelldetail.Menge, Artikel.Artikel, Bestelldetail.Preis\r\n",
                "FROM Lieferant\r\n",
                "JOIN Bestellung ON Lieferant.LieferantID = Bestellung.LieferantID\r\n",
                "JOIN Bestelldetail ON Bestellung.BestellungID = Bestelldetail.BestellungID\r\n",
                "JOIN Artikel ON Bestelldetail.ArtikelID = Artikel.ArtikelID;"
            ],
            "metadata": {
                "language": "sql",
                "azdata_cell_guid": "07f648ee-1198-4600-a100-cab7a2f8fa9f"
            },
            "outputs": [
                {
                    "output_type": "display_data",
                    "data": {
                        "text/html": "(10 rows affected)"
                    },
                    "metadata": {}
                },
                {
                    "output_type": "display_data",
                    "data": {
                        "text/html": "Total execution time: 00:00:00.033"
                    },
                    "metadata": {}
                },
                {
                    "output_type": "execute_result",
                    "execution_count": 18,
                    "data": {
                        "application/vnd.dataresource+json": {
                            "schema": {
                                "fields": [
                                    {
                                        "name": "BestellungID"
                                    },
                                    {
                                        "name": "Firma"
                                    },
                                    {
                                        "name": "Bestelldatum"
                                    },
                                    {
                                        "name": "Menge"
                                    },
                                    {
                                        "name": "Artikel"
                                    },
                                    {
                                        "name": "Preis"
                                    }
                                ]
                            },
                            "data": [
                                {
                                    "BestellungID": "8",
                                    "Firma": "Schiller KG",
                                    "Bestelldatum": "2016-02-10",
                                    "Menge": "5",
                                    "Artikel": "Hydro-Wasser",
                                    "Preis": "7.99"
                                },
                                {
                                    "BestellungID": "8",
                                    "Firma": "Schiller KG",
                                    "Bestelldatum": "2016-02-10",
                                    "Menge": "5",
                                    "Artikel": "Cola-Mix-Spree",
                                    "Preis": "11.99"
                                },
                                {
                                    "BestellungID": "9",
                                    "Firma": "Mauer GmbH",
                                    "Bestelldatum": "2016-02-17",
                                    "Menge": "10",
                                    "Artikel": "Stone Energy Drink",
                                    "Preis": "22.00"
                                },
                                {
                                    "BestellungID": "10",
                                    "Firma": "Bäcker GmbH",
                                    "Bestelldatum": "2016-02-24",
                                    "Menge": "10",
                                    "Artikel": "Hydro-Wasser",
                                    "Preis": "5.46"
                                },
                                {
                                    "BestellungID": "10",
                                    "Firma": "Bäcker GmbH",
                                    "Bestelldatum": "2016-02-24",
                                    "Menge": "4",
                                    "Artikel": "Weizen Hell Rhein-Bräu",
                                    "Preis": "20.00"
                                },
                                {
                                    "BestellungID": "13",
                                    "Firma": "Schiller KG",
                                    "Bestelldatum": "2016-02-10",
                                    "Menge": "5",
                                    "Artikel": "Hydro-Wasser",
                                    "Preis": "7.99"
                                },
                                {
                                    "BestellungID": "13",
                                    "Firma": "Schiller KG",
                                    "Bestelldatum": "2016-02-10",
                                    "Menge": "5",
                                    "Artikel": "Cola-Mix-Spree",
                                    "Preis": "11.99"
                                },
                                {
                                    "BestellungID": "14",
                                    "Firma": "Mauer GmbH",
                                    "Bestelldatum": "2016-02-17",
                                    "Menge": "10",
                                    "Artikel": "Stone Energy Drink",
                                    "Preis": "22.00"
                                },
                                {
                                    "BestellungID": "15",
                                    "Firma": "Bäcker GmbH",
                                    "Bestelldatum": "2016-02-24",
                                    "Menge": "10",
                                    "Artikel": "Hydro-Wasser",
                                    "Preis": "5.46"
                                },
                                {
                                    "BestellungID": "15",
                                    "Firma": "Bäcker GmbH",
                                    "Bestelldatum": "2016-02-24",
                                    "Menge": "4",
                                    "Artikel": "Weizen Hell Rhein-Bräu",
                                    "Preis": "20.00"
                                }
                            ]
                        },
                        "text/html": "<table><tr><th>BestellungID</th><th>Firma</th><th>Bestelldatum</th><th>Menge</th><th>Artikel</th><th>Preis</th></tr><tr><td>8</td><td>Schiller KG</td><td>2016-02-10</td><td>5</td><td>Hydro-Wasser</td><td>7.99</td></tr><tr><td>8</td><td>Schiller KG</td><td>2016-02-10</td><td>5</td><td>Cola-Mix-Spree</td><td>11.99</td></tr><tr><td>9</td><td>Mauer GmbH</td><td>2016-02-17</td><td>10</td><td>Stone Energy Drink</td><td>22.00</td></tr><tr><td>10</td><td>Bäcker GmbH</td><td>2016-02-24</td><td>10</td><td>Hydro-Wasser</td><td>5.46</td></tr><tr><td>10</td><td>Bäcker GmbH</td><td>2016-02-24</td><td>4</td><td>Weizen Hell Rhein-Bräu</td><td>20.00</td></tr><tr><td>13</td><td>Schiller KG</td><td>2016-02-10</td><td>5</td><td>Hydro-Wasser</td><td>7.99</td></tr><tr><td>13</td><td>Schiller KG</td><td>2016-02-10</td><td>5</td><td>Cola-Mix-Spree</td><td>11.99</td></tr><tr><td>14</td><td>Mauer GmbH</td><td>2016-02-17</td><td>10</td><td>Stone Energy Drink</td><td>22.00</td></tr><tr><td>15</td><td>Bäcker GmbH</td><td>2016-02-24</td><td>10</td><td>Hydro-Wasser</td><td>5.46</td></tr><tr><td>15</td><td>Bäcker GmbH</td><td>2016-02-24</td><td>4</td><td>Weizen Hell Rhein-Bräu</td><td>20.00</td></tr></table>"
                    },
                    "metadata": {}
                }
            ],
            "execution_count": 18
        },
        {
            "cell_type": "code",
            "source": [
                "-- Bestellungdetail\r\n",
                ""
            ],
            "metadata": {
                "language": "sql",
                "azdata_cell_guid": "1aa98b66-fa56-4700-9739-ca745f5caad1"
            },
            "outputs": [],
            "execution_count": null
        },
        {
            "cell_type": "code",
            "source": [
                ""
            ],
            "metadata": {
                "language": "sql",
                "azdata_cell_guid": "102f0513-fca2-427b-8bd7-8ec6f572ddcc"
            },
            "outputs": [],
            "execution_count": null
        }
    ]
}