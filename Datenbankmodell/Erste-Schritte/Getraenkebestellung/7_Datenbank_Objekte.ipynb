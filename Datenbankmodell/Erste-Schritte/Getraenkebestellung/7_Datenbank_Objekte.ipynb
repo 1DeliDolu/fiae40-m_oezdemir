{
    "metadata": {
        "kernelspec": {
            "name": "SQL",
            "display_name": "SQL",
            "language": "sql"
        },
        "language_info": {
            "name": "sql",
            "version": ""
        }
    },
    "nbformat_minor": 2,
    "nbformat": 4,
    "cells": [
        {
            "cell_type": "markdown",
            "source": [
                "Getraenkebestellung"
            ],
            "metadata": {
                "azdata_cell_guid": "e35828b1-4f85-4edb-b1e2-42f345027b76"
            }
        },
        {
            "cell_type": "code",
            "source": [
                "-- Wechsle in Master-Datenbank\n",
                "USE master;\n",
                " \n",
                "DROP DATABASE IF EXISTS Getraenkebestellung;\n",
                "-- Batch Operator\n",
                "GO\n",
                " \n",
                "CREATE DATABASE Getraenkebestellung;\n",
                "GO\n",
                " \n",
                "USE Getraenkebestellung;\n",
                " \n",
                " \n",
                "CREATE TABLE Lieferant\n",
                "(\n",
                "  LieferantID INT IDENTITY(1,1) NOT NULL,\n",
                "  Firma VARCHAR(100) NOT NULL,\n",
                "  Straße VARCHAR(100) NOT NULL,\n",
                "  PLZ CHAR(5) NOT NULL,\n",
                "  Ort VARCHAR(100) NOT NULL,\n",
                "  CONSTRAINT pk_Lieferant PRIMARY KEY (LieferantID)\n",
                ");\n",
                " \n",
                "CREATE TABLE Gebinde\n",
                "(\n",
                "  GebindeID INT IDENTITY(1,1) NOT NULL,\n",
                "  GebindeArt VARCHAR(20) NOT NULL,\n",
                "  CONSTRAINT pk_Gebinde PRIMARY KEY (GebindeID)\n",
                ");\n",
                " \n",
                "CREATE TABLE Bestellung\n",
                "(\n",
                "  BestellungID INT IDENTITY(1,1) NOT NULL,\n",
                "  Bestelldatum DATE NOT NULL,\n",
                "  LieferantID INT NOT NULL,\n",
                "  CONSTRAINT pk_Bestellung PRIMARY KEY (BestellungID),\n",
                "  CONSTRAINT fk_Bestellung_Lieferant FOREIGN KEY (LieferantID) REFERENCES Lieferant(LieferantID)\n",
                ");\n",
                " \n",
                "CREATE TABLE Artikel\n",
                "(\n",
                "  ArtikelID INT IDENTITY(1,1) NOT NULL,\n",
                "  Artikel VARCHAR(100) NOT NULL,\n",
                "  UVP decimal(9,2) NOT NULL,\n",
                "  GebindeID INT NOT NULL,\n",
                "  CONSTRAINT pk_Artikel PRIMARY KEY (ArtikelID),\n",
                "  CONSTRAINT fk_Artikel_Gebinde FOREIGN KEY (GebindeID) REFERENCES Gebinde(GebindeID)\n",
                ");\n",
                " \n",
                "CREATE TABLE Bestelldetail\n",
                "(\n",
                "  Menge INT NOT NULL,\n",
                "  Preis decimal(9,2) NOT NULL,\n",
                "  BestellungID INT NOT NULL,\n",
                "  ArtikelID INT NOT NULL,\n",
                "  CONSTRAINT pk_Bestelldetail PRIMARY KEY (BestellungID, ArtikelID),\n",
                "  CONSTRAINT fk_Bestelldetail_Bestellung FOREIGN KEY (BestellungID) REFERENCES Bestellung(BestellungID),\n",
                "  CONSTRAINT fk_Bestelldetail_Artikel FOREIGN KEY (ArtikelID) REFERENCES Artikel(ArtikelID)\n",
                ");\n",
                " \n",
                "CREATE TABLE Sortiment\n",
                "(\n",
                "  LieferantID INT NOT NULL,\n",
                "  ArtikelID INT NOT NULL,\n",
                "  Angebotspreis decimal(9,2) NOT NULL,\n",
                "  CONSTRAINT pk_Sortiment PRIMARY KEY (LieferantID, ArtikelID),\n",
                "  CONSTRAINT fk_Sortiment_Lieferant FOREIGN KEY (LieferantID) REFERENCES Lieferant(LieferantID),\n",
                "  CONSTRAINT fk_Sortiment_Artikel FOREIGN KEY (ArtikelID) REFERENCES Artikel(ArtikelID)\n",
                ");"
            ],
            "metadata": {
                "azCONSTRAINT pk_Sortiment data_cell_guid": "da00a511-44fc-4eaa-94da-a6b216b3a49f",
                "laCONSTRAINT fk_Lieferant nguage": "sql",
                "azdata_cell_guid": "8455d8ed-47c5-46f1-a6b0-9918857d9ba4",
                "language": "sql"
            },
            "outputs": [
{
    "output_type": "display_data",
    "data": {
        "text/html": "Commands completed successfully."
    },
    "metadata": {}
}, {
    "output_type": "display_data",
    "data": {
        "text/html": "Commands completed successfully."
    },
    "metadata": {}
}, {
    "output_type": "display_data",
    "data": {
        "text/html": "Commands completed successfully."
    },
    "metadata": {}
}, {
    "output_type": "display_data",
    "data": {
        "text/html": "Total execution time: 00:00:00.529"
    },
    "metadata": {}
}
],
            "execution_count": 1
        }
    ]
}