{
    "metadata": {
        "kernelspec": {
            "name": "SQL",
            "display_name": "SQL",
            "language": "sql"
        },
        "language_info": {
            "name": "sql",
            "version": ""
        }
    },
    "nbformat_minor": 2,
    "nbformat": 4,
    "cells": [
        {
            "cell_type": "markdown",
            "source": [
                "# ERDPlus Export: Diesen Code <u>**NICHT!**</u> ausführen"
            ],
            "metadata": {
                "azdata_cell_guid": "c3fc58ce-014f-44e2-938a-a165d8daa363"
            }
        },
        {
            "cell_type": "code",
            "source": [
                "CREATE TABLE Lieferant\n",
                "(\n",
                "  LieferantID INT NOT NULL,\n",
                "  Firma VARCHAR(100) NOT NULL,\n",
                "  Straße VARCHAR(100) NOT NULL,\n",
                "  PLZ CHAR(5) NOT NULL,\n",
                "  Ort VARCHAR(100) NOT NULL,\n",
                "  PRIMARY KEY (LieferantID)\n",
                ");\n",
                " \n",
                "CREATE TABLE Gebinde\n",
                "(\n",
                "  GebindeArt VARCHAR(20) NOT NULL,\n",
                "  GebindeID INT NOT NULL,\n",
                "  PRIMARY KEY (GebindeID)\n",
                ");\n",
                " \n",
                "CREATE TABLE Bestellung\n",
                "(\n",
                "  BestellungID INT NOT NULL,\n",
                "  Bestelldatum DATE NOT NULL,\n",
                "  LieferantID INT NOT NULL,\n",
                "  PRIMARY KEY (BestellungID),\n",
                "  FOREIGN KEY (LieferantID) REFERENCES Lieferant(LieferantID)\n",
                ");\n",
                " \n",
                "CREATE TABLE Artikel\n",
                "(\n",
                "  ArtikelID INT NOT NULL,\n",
                "  Artikel VARCHAR(100) NOT NULL,\n",
                "  UVP decimal(9,2) NOT NULL,\n",
                "  GebindeID INT NOT NULL,\n",
                "  PRIMARY KEY (ArtikelID),\n",
                "  FOREIGN KEY (GebindeID) REFERENCES Gebinde(GebindeID)\n",
                ");\n",
                " \n",
                "CREATE TABLE Bestelldetail\n",
                "(\n",
                "  Menge INT NOT NULL,\n",
                "  Preis decimal(9,2) NOT NULL,\n",
                "  BestellungID INT NOT NULL,\n",
                "  ArtikelID INT NOT NULL,\n",
                "  PRIMARY KEY (BestellungID, ArtikelID),\n",
                "  FOREIGN KEY (BestellungID) REFERENCES Bestellung(BestellungID),\n",
                "  FOREIGN KEY (ArtikelID) REFERENCES Artikel(ArtikelID)\n",
                ");\n",
                " \n",
                "CREATE TABLE Sortiment\n",
                "(\n",
                "  Angebotspreis decimal(9,2) NOT NULL,\n",
                "  LieferantID INT NOT NULL,\n",
                "  ArtikelID INT NOT NULL,\n",
                "  PRIMARY KEY (LieferantID, ArtikelID),\n",
                "  FOREIGN KEY (LieferantID) REFERENCES Lieferant(LieferantID),\n",
                "  FOREIGN KEY (ArtikelID) REFERENCES Artikel(ArtikelID)\n",
                ");"
            ],
            "metadata": {
                "azdata_cell_guid": "edeeebcd-9fb8-4bc8-9e66-dcaac1ba8b9e",
                "language": "sql"
            },
            "outputs": [
                {
                    "output_type": "error",
                    "ename": "",
                    "evalue": "Msg 2714, Level 16, State 6, Line 18\r\nIn der Datenbank ist bereits ein Objekt mit dem Namen \"Bestellung\" vorhanden.",
                    "traceback": []
                },
                {
                    "output_type": "display_data",
                    "data": {
                        "text/html": "Total execution time: 00:00:00.010"
                    },
                    "metadata": {}
                }
            ],
            "execution_count": 4
        }
    ]
}