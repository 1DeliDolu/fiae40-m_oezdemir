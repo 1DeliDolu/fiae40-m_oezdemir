{
    "metadata": {
        "kernelspec": {
            "name": "SQL",
            "display_name": "SQL",
            "language": "sql"
        },
        "language_info": {
            "name": "sql",
            "version": ""
        }
    },
    "nbformat_minor": 2,
    "nbformat": 4,
    "cells": [
        {
            "cell_type": "markdown",
            "source": [
                "# Polizeivorgaengedaten erfassen\n",
                "\n",
                "Stamdaten"
            ],
            "metadata": {
                "azdata_cell_guid": "2decc8d2-a658-4249-960f-4f426fe284a2"
            },
            "attachments": {}
        },
        {
            "cell_type": "code",
            "source": [
                "-- Delikt\n",
                "/*\n",
                "INSERT INTO Delikt (DeliktTyp)\n",
                "VALUES ('Raub'),\n",
                "        ('Drogenmissbrauch'),\n",
                "        ('Fahrerflucht,Drogenmissbrauch'),\n",
                "        ('Drogenmisbrauch'),\n",
                "        ('Körperverletzung');\n",
                "        */"
            ],
            "metadata": {
                "azdata_cell_guid": "79f66075-c35d-4b13-8600-cfede98f42c9",
                "language": "sql"
            },
            "outputs": [
                {
                    "output_type": "display_data",
                    "data": {
                        "text/html": "(5 rows affected)"
                    },
                    "metadata": {}
                },
                {
                    "output_type": "display_data",
                    "data": {
                        "text/html": "Total execution time: 00:00:00.003"
                    },
                    "metadata": {}
                }
            ],
            "execution_count": 12
        },
        {
            "cell_type": "code",
            "source": [
                "SELECT * FROM Delikt;"
            ],
            "metadata": {
                "language": "sql",
                "azdata_cell_guid": "81d8c7b3-95b0-4edb-8fe3-1a000608627c"
            },
            "outputs": [
                {
                    "output_type": "display_data",
                    "data": {
                        "text/html": "(5 rows affected)"
                    },
                    "metadata": {}
                },
                {
                    "output_type": "display_data",
                    "data": {
                        "text/html": "Total execution time: 00:00:00.019"
                    },
                    "metadata": {}
                },
                {
                    "output_type": "execute_result",
                    "metadata": {},
                    "execution_count": 13,
                    "data": {
                        "application/vnd.dataresource+json": {
                            "schema": {
                                "fields": [
                                    {
                                        "name": "DeliktTypeID"
                                    },
                                    {
                                        "name": "DeliktTyp"
                                    }
                                ]
                            },
                            "data": [
                                {
                                    "DeliktTypeID": "1",
                                    "DeliktTyp": "Raub"
                                },
                                {
                                    "DeliktTypeID": "2",
                                    "DeliktTyp": "Drogenmissbrauch"
                                },
                                {
                                    "DeliktTypeID": "3",
                                    "DeliktTyp": "Fahrerflucht,Drogenmissbrauch"
                                },
                                {
                                    "DeliktTypeID": "4",
                                    "DeliktTyp": "Drogenmisbrauch"
                                },
                                {
                                    "DeliktTypeID": "5",
                                    "DeliktTyp": "Körperverletzung"
                                }
                            ]
                        },
                        "text/html": [
                            "<table>",
                            "<tr><th>DeliktTypeID</th><th>DeliktTyp</th></tr>",
                            "<tr><td>1</td><td>Raub</td></tr>",
                            "<tr><td>2</td><td>Drogenmissbrauch</td></tr>",
                            "<tr><td>3</td><td>Fahrerflucht,Drogenmissbrauch</td></tr>",
                            "<tr><td>4</td><td>Drogenmisbrauch</td></tr>",
                            "<tr><td>5</td><td>Körperverletzung</td></tr>",
                            "</table>"
                        ]
                    }
                }
            ],
            "execution_count": 13
        },
        {
            "cell_type": "code",
            "source": [
                "--Dokument\r\n",
                "/*\r\n",
                "INSERT INTO Dokument (DokumentTyp)\r\n",
                "    VALUES  ('Personalausweis, Fahrerlaubnis'),\r\n",
                "            ('Personalausweis'),\r\n",
                "            ('Reisepass,Fahrerlaubnis'),\r\n",
                "            ('Personelausweis');\r\n",
                "            */"
            ],
            "metadata": {
                "language": "sql",
                "azdata_cell_guid": "c219c2ed-f81b-4dca-bc7c-f6df9b8df7fc",
                "tags": []
            },
            "outputs": [
                {
                    "output_type": "display_data",
                    "data": {
                        "text/html": "(4 rows affected)"
                    },
                    "metadata": {}
                },
                {
                    "output_type": "display_data",
                    "data": {
                        "text/html": "Total execution time: 00:00:00.007"
                    },
                    "metadata": {}
                }
            ],
            "execution_count": 14
        },
        {
            "cell_type": "code",
            "source": [
                "SELECT * FROM Dokument;"
            ],
            "metadata": {
                "language": "sql",
                "azdata_cell_guid": "68481253-20fc-454e-a195-389ec383f819"
            },
            "outputs": [
                {
                    "output_type": "display_data",
                    "data": {
                        "text/html": "(4 rows affected)"
                    },
                    "metadata": {}
                },
                {
                    "output_type": "display_data",
                    "data": {
                        "text/html": "Total execution time: 00:00:00.024"
                    },
                    "metadata": {}
                },
                {
                    "output_type": "execute_result",
                    "metadata": {},
                    "execution_count": 15,
                    "data": {
                        "application/vnd.dataresource+json": {
                            "schema": {
                                "fields": [
                                    {
                                        "name": "DokumentID"
                                    },
                                    {
                                        "name": "DokumentTyp"
                                    }
                                ]
                            },
                            "data": [
                                {
                                    "DokumentID": "1",
                                    "DokumentTyp": "Personalausweis, Fahrerlaubnis"
                                },
                                {
                                    "DokumentID": "2",
                                    "DokumentTyp": "Personalausweis"
                                },
                                {
                                    "DokumentID": "3",
                                    "DokumentTyp": "Reisepass,Fahrerlaubnis"
                                },
                                {
                                    "DokumentID": "4",
                                    "DokumentTyp": "Personelausweis"
                                }
                            ]
                        },
                        "text/html": [
                            "<table>",
                            "<tr><th>DokumentID</th><th>DokumentTyp</th></tr>",
                            "<tr><td>1</td><td>Personalausweis, Fahrerlaubnis</td></tr>",
                            "<tr><td>2</td><td>Personalausweis</td></tr>",
                            "<tr><td>3</td><td>Reisepass,Fahrerlaubnis</td></tr>",
                            "<tr><td>4</td><td>Personelausweis</td></tr>",
                            "</table>"
                        ]
                    }
                }
            ],
            "execution_count": 15
        },
        {
            "cell_type": "code",
            "source": [
                "-- Bearbeiter\r\n",
                "/*\r\n",
                "INSERT INTO Bearbeiter (Nachname,Vorname)\r\n",
                "    VALUES('Hansen','Klaus'),\r\n",
                "        ('Müller', 'Marcel'),\r\n",
                "        ('Wagner','Wolfram')\r\n",
                "        */"
            ],
            "metadata": {
                "language": "sql",
                "azdata_cell_guid": "823ea80f-809a-42a8-89c9-6dab3d032793"
            },
            "outputs": [
                {
                    "output_type": "display_data",
                    "data": {
                        "text/html": "(3 rows affected)"
                    },
                    "metadata": {}
                },
                {
                    "output_type": "display_data",
                    "data": {
                        "text/html": "Total execution time: 00:00:00.004"
                    },
                    "metadata": {}
                }
            ],
            "execution_count": 16
        },
        {
            "cell_type": "code",
            "source": [
                "SELECT * FROM Bearbeiter;"
            ],
            "metadata": {
                "language": "sql",
                "azdata_cell_guid": "9b175e77-83bb-42ce-a2f1-b51bb11bb4f2"
            },
            "outputs": [
                {
                    "output_type": "display_data",
                    "data": {
                        "text/html": "(3 rows affected)"
                    },
                    "metadata": {}
                },
                {
                    "output_type": "display_data",
                    "data": {
                        "text/html": "Total execution time: 00:00:00.017"
                    },
                    "metadata": {}
                },
                {
                    "output_type": "execute_result",
                    "metadata": {},
                    "execution_count": 17,
                    "data": {
                        "application/vnd.dataresource+json": {
                            "schema": {
                                "fields": [
                                    {
                                        "name": "BearbeiterID"
                                    },
                                    {
                                        "name": "Nachname"
                                    },
                                    {
                                        "name": "Vorname"
                                    }
                                ]
                            },
                            "data": [
                                {
                                    "BearbeiterID": "1",
                                    "Nachname": "Hansen",
                                    "Vorname": "Klaus"
                                },
                                {
                                    "BearbeiterID": "2",
                                    "Nachname": "Müller",
                                    "Vorname": "Marcel"
                                },
                                {
                                    "BearbeiterID": "3",
                                    "Nachname": "Wagner",
                                    "Vorname": "Wolfram"
                                }
                            ]
                        },
                        "text/html": [
                            "<table>",
                            "<tr><th>BearbeiterID</th><th>Nachname</th><th>Vorname</th></tr>",
                            "<tr><td>1</td><td>Hansen</td><td>Klaus</td></tr>",
                            "<tr><td>2</td><td>Müller</td><td>Marcel</td></tr>",
                            "<tr><td>3</td><td>Wagner</td><td>Wolfram</td></tr>",
                            "</table>"
                        ]
                    }
                }
            ],
            "execution_count": 17
        },
        {
            "cell_type": "code",
            "source": [
                "--Delinquent\r\n",
                "\r\n",
                "/*\r\n",
                "INSERT INTO Delinquent (Anrede,Nachname,Vorname,Geburtsdatum,Strasse,PLZ,Ort)\r\n",
                "VALUES ('Herr','Musterman','Max','1970-02-28','Kernweg 12','01234','AStadt'),\r\n",
                "    ('Herr','Muster','Max','2000-06-06','Müller Str. 1','02566','BStadt'),\r\n",
                "    ('Herr','Muster','Anton','1998-07-01','Franzgasse 3','03669','AStadt'),\r\n",
                "    ('Frau','Mann','Betina','1991-08-16','Burgplatz 16','02566','BStadt');\r\n",
                "    */"
            ],
            "metadata": {
                "language": "sql",
                "azdata_cell_guid": "79cd66a8-815d-4fc0-bea6-08bfd6ecbe42"
            },
            "outputs": [
                {
                    "output_type": "display_data",
                    "data": {
                        "text/html": "(4 rows affected)"
                    },
                    "metadata": {}
                },
                {
                    "output_type": "display_data",
                    "data": {
                        "text/html": "Total execution time: 00:00:00.002"
                    },
                    "metadata": {}
                }
            ],
            "execution_count": 18
        },
        {
            "cell_type": "code",
            "source": [
                "SELECT * FROM Delinquent;"
            ],
            "metadata": {
                "language": "sql",
                "azdata_cell_guid": "7550dfe6-40b6-47df-a4cc-1c665114fdf4"
            },
            "outputs": [
                {
                    "output_type": "display_data",
                    "data": {
                        "text/html": "(8 rows affected)"
                    },
                    "metadata": {}
                },
                {
                    "output_type": "display_data",
                    "data": {
                        "text/html": "Total execution time: 00:00:00.096"
                    },
                    "metadata": {}
                },
                {
                    "output_type": "execute_result",
                    "metadata": {},
                    "execution_count": 19,
                    "data": {
                        "application/vnd.dataresource+json": {
                            "schema": {
                                "fields": [
                                    {
                                        "name": "DelinquentID"
                                    },
                                    {
                                        "name": "Anrede"
                                    },
                                    {
                                        "name": "Nachname"
                                    },
                                    {
                                        "name": "Vorname"
                                    },
                                    {
                                        "name": "Geburtsdatum"
                                    },
                                    {
                                        "name": "Strasse"
                                    },
                                    {
                                        "name": "PLZ"
                                    },
                                    {
                                        "name": "Ort"
                                    }
                                ]
                            },
                            "data": [
                                {
                                    "DelinquentID": "1",
                                    "Anrede": "Herr",
                                    "Nachname": "Musterman",
                                    "Vorname": "Max",
                                    "Geburtsdatum": "1970-02-28",
                                    "Strasse": "Kernweg 12",
                                    "PLZ": "01234",
                                    "Ort": "AStadt"
                                },
                                {
                                    "DelinquentID": "2",
                                    "Anrede": "Herr",
                                    "Nachname": "Muster",
                                    "Vorname": "Max",
                                    "Geburtsdatum": "2000-06-06",
                                    "Strasse": "Müller Str. 1",
                                    "PLZ": "02566",
                                    "Ort": "BStadt"
                                },
                                {
                                    "DelinquentID": "3",
                                    "Anrede": "Herr",
                                    "Nachname": "Muster",
                                    "Vorname": "Anton",
                                    "Geburtsdatum": "1998-07-01",
                                    "Strasse": "Franzgasse 3",
                                    "PLZ": "03669",
                                    "Ort": "AStadt"
                                },
                                {
                                    "DelinquentID": "4",
                                    "Anrede": "Frau",
                                    "Nachname": "Mann",
                                    "Vorname": "Betina",
                                    "Geburtsdatum": "1991-08-16",
                                    "Strasse": "Burgplatz 16",
                                    "PLZ": "02566",
                                    "Ort": "BStadt"
                                },
                                {
                                    "DelinquentID": "5",
                                    "Anrede": "Herr",
                                    "Nachname": "Musterman",
                                    "Vorname": "Max",
                                    "Geburtsdatum": "1970-02-28",
                                    "Strasse": "Kernweg 12",
                                    "PLZ": "01234",
                                    "Ort": "AStadt"
                                },
                                {
                                    "DelinquentID": "6",
                                    "Anrede": "Herr",
                                    "Nachname": "Muster",
                                    "Vorname": "Max",
                                    "Geburtsdatum": "2000-06-06",
                                    "Strasse": "Müller Str. 1",
                                    "PLZ": "02566",
                                    "Ort": "BStadt"
                                },
                                {
                                    "DelinquentID": "7",
                                    "Anrede": "Herr",
                                    "Nachname": "Muster",
                                    "Vorname": "Anton",
                                    "Geburtsdatum": "1998-07-01",
                                    "Strasse": "Franzgasse 3",
                                    "PLZ": "03669",
                                    "Ort": "AStadt"
                                },
                                {
                                    "DelinquentID": "8",
                                    "Anrede": "Frau",
                                    "Nachname": "Mann",
                                    "Vorname": "Betina",
                                    "Geburtsdatum": "1991-08-16",
                                    "Strasse": "Burgplatz 16",
                                    "PLZ": "02566",
                                    "Ort": "BStadt"
                                }
                            ]
                        },
                        "text/html": [
                            "<table>",
                            "<tr><th>DelinquentID</th><th>Anrede</th><th>Nachname</th><th>Vorname</th><th>Geburtsdatum</th><th>Strasse</th><th>PLZ</th><th>Ort</th></tr>",
                            "<tr><td>1</td><td>Herr</td><td>Musterman</td><td>Max</td><td>1970-02-28</td><td>Kernweg 12</td><td>01234</td><td>AStadt</td></tr>",
                            "<tr><td>2</td><td>Herr</td><td>Muster</td><td>Max</td><td>2000-06-06</td><td>Müller Str. 1</td><td>02566</td><td>BStadt</td></tr>",
                            "<tr><td>3</td><td>Herr</td><td>Muster</td><td>Anton</td><td>1998-07-01</td><td>Franzgasse 3</td><td>03669</td><td>AStadt</td></tr>",
                            "<tr><td>4</td><td>Frau</td><td>Mann</td><td>Betina</td><td>1991-08-16</td><td>Burgplatz 16</td><td>02566</td><td>BStadt</td></tr>",
                            "<tr><td>5</td><td>Herr</td><td>Musterman</td><td>Max</td><td>1970-02-28</td><td>Kernweg 12</td><td>01234</td><td>AStadt</td></tr>",
                            "<tr><td>6</td><td>Herr</td><td>Muster</td><td>Max</td><td>2000-06-06</td><td>Müller Str. 1</td><td>02566</td><td>BStadt</td></tr>",
                            "<tr><td>7</td><td>Herr</td><td>Muster</td><td>Anton</td><td>1998-07-01</td><td>Franzgasse 3</td><td>03669</td><td>AStadt</td></tr>",
                            "<tr><td>8</td><td>Frau</td><td>Mann</td><td>Betina</td><td>1991-08-16</td><td>Burgplatz 16</td><td>02566</td><td>BStadt</td></tr>",
                            "</table>"
                        ]
                    }
                }
            ],
            "execution_count": 19
        },
        {
            "cell_type": "code",
            "source": [
                "-- Vorgang und Zwischentabellen als Transaktion\r\n",
                "BEGIN TRY\r\n",
                "    BEGIN TRANSACTION;\r\n",
                "    DECLARE @BearbeiterID1 INT, @BearbeiterID2 INT, @BearbeiterID3 INT;\r\n",
                "    SELECT @BearbeiterID1 = SCOPE_IDENTITY(); \r\n",
                "    SELECT @BearbeiterID2 = SCOPE_IDENTITY() - 1; \r\n",
                "    SELECT @BearbeiterID3 = SCOPE_IDENTITY() - 2;\r\n",
                "\r\n",
                "    INSERT INTO Vorgang (Datum, BearbeiterID, DelinquentID)\r\n",
                "    VALUES ('2017-04-02',  @BearbeiterID1, 5645),\r\n",
                "           ('2014-02-02', @BearbeiterID2, 1213),\r\n",
                "           ('2017-03-30', @BearbeiterID1, 7887),\r\n",
                "           ('2017-04-12', @BearbeiterID3, 4545),\r\n",
                "           ('2017-03-08', @BearbeiterID1, 1213);\r\n",
                "\r\n",
                " \r\n",
                "    DECLARE @VorgangsID1 INT, @VorgangsID2 INT, @VorgangsID3 INT;\r\n",
                "    SELECT @VorgangsID1 = SCOPE_IDENTITY(); \r\n",
                "    SELECT @VorgangsID2 = SCOPE_IDENTITY() - 1; \r\n",
                "    SELECT @VorgangsID3 = SCOPE_IDENTITY() - 2; \r\n",
                "\r\n",
                "    \r\n",
                "    INSERT INTO ZwVorgangDelikt (VorgangsID, DeliktTypeID)\r\n",
                "    VALUES (@VorgangsID1, 1),\r\n",
                "           (@VorgangsID2, 2),\r\n",
                "           (@VorgangsID3, 3);\r\n",
                "\r\n",
                " \r\n",
                "    INSERT INTO ZwVorgangDokument (VorgangsID, DokumentID)\r\n",
                "    VALUES (@VorgangsID1, 1),\r\n",
                "           (@VorgangsID2, 2),\r\n",
                "           (@VorgangsID3, 3);\r\n",
                "\r\n",
                "    COMMIT TRANSACTION;\r\n",
                "END TRY\r\n",
                "BEGIN CATCH\r\n",
                "    ROLLBACK TRANSACTION;\r\n",
                "    PRINT 'Aua! Schief gegangen!';\r\n",
                "    THROW;\r\n",
                "END CATCH;\r\n",
                ""
            ],
            "metadata": {
                "language": "sql",
                "azdata_cell_guid": "66133606-9802-4837-8d81-219962220f32"
            },
            "outputs": [
                {
                    "output_type": "display_data",
                    "data": {
                        "text/html": "(0 rows affected)"
                    },
                    "metadata": {}
                },
                {
                    "output_type": "display_data",
                    "data": {
                        "text/html": "Aua! Schief gegangen!"
                    },
                    "metadata": {}
                },
                {
                    "output_type": "error",
                    "evalue": "Msg 547, Level 16, State 0, Line 9\r\nDie INSERT-Anweisung steht in Konflikt mit der FOREIGN KEY-Einschränkung \"fk_Vorgang_Bearbeiter\". Der Konflikt trat in der Polizeivorgaenge-Datenbank, Tabelle \"dbo.Bearbeiter\", column 'BearbeiterID' auf.",
                    "ename": "",
                    "traceback": []
                },
                {
                    "output_type": "display_data",
                    "data": {
                        "text/html": "Total execution time: 00:00:00.001"
                    },
                    "metadata": {}
                }
            ],
            "execution_count": 21
        }
    ]
}