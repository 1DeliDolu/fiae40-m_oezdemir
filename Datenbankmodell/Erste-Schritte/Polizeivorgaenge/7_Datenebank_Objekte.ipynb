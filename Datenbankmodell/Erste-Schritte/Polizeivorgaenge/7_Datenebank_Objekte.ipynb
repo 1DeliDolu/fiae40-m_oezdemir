{
    "metadata": {
        "kernelspec": {
            "name": "SQL",
            "display_name": "SQL",
            "language": "sql"
        },
        "language_info": {
            "name": "sql",
            "version": ""
        }
    },
    "nbformat_minor": 2,
    "nbformat": 4,
    "cells": [
        {
            "cell_type": "markdown",
            "source": [
                ""
            ],
            "metadata": {
                "azdata_cell_guid": "3c6707d4-2034-48fc-bdbf-98a053cb71a5"
            }
        },
        {
            "cell_type": "code",
            "source": [
                "-- Wechsle in Master-Datenbank\n",
                "USE master;\n",
                " \n",
                "DROP DATABASE IF EXISTS Polizeivorgaenge;\n",
                "-- Batch Operator\n",
                "GO\n",
                "CREATE DATABASE Polizeivorgaenge;\n",
                "GO\n",
                "USE Polizeivorgaenge;Vorname VARCHAR(100) NOT NULL,\n",
                "  CONSTRAINT pk_Bearbeiter PRIMARY KEY (BearbeiterID)\n",
                ");\n",
                "CREATE TABLE Dokument\n",
                "(\n",
                "  DokumentID INT IDENTITY(1,1) NOT NULL,\n",
                "  DokumentTyp VARCHAR(100) NOT NULL,\n",
                "  CONSTRAINT pk_Dokument PRIMARY KEY (DokumentID)\n",
                ");\n",
                "CREATE TABLE Delinquent\n",
                "(\n",
                "  DelinquentID INT IDENTITY(1,1) NOT NULL,\n",
                "  Anrede CHAR(4) NOT NULL,\n",
                "  Nachname VARCHAR(100) NOT NULL,\n",
                "  Vorname VARCHAR(100) NOT NULL,\n",
                "  Geburtsdatum DATE NOT NULL,\n",
                "  Strasse VARCHAR(100) NOT NULL,\n",
                "  PLZ CHAR(5) NOT NULL,\n",
                "  Ort VARCHAR(50) NOT NULL,\n",
                "  CONSTRAINT pk_Delinquent PRIMARY KEY (DelinquentID)\n",
                ");\n",
                "CREATE TABLE Delikt\n",
                "(\n",
                "  DeliktTypeID INT IDENTITY(1,1) NOT NULL,\n",
                "  DeliktTyp VARCHAR(30) NOT NULL,\n",
                "  CONSTRAINT pk_Delikt PRIMARY KEY (DeliktTypeID)\n",
                ");\n",
                "CREATE TABLE Vorgang\n",
                "(\n",
                "  VorgangsID INT IDENTITY(1,1) NOT NULL,\n",
                "  Datum DATE NOT NULL,\n",
                "  BearbeiterID INT NOT NULL,\n",
                "  DelinquentID INT NOT NULL,\n",
                "  CONSTRAINT pk_Vorgang PRIMARY KEY (VorgangsID),\n",
                "  CONSTRAINT fk_Vorgang_Bearbeiter FOREIGN KEY (BearbeiterID) REFERENCES Bearbeiter(BearbeiterID),\n",
                "  CONSTRAINT fk_Vorgang_Delinquent FOREIGN KEY (DelinquentID) REFERENCES Delinquent(DelinquentID)\n",
                ");\n",
                "CREATE TABLE ZwVorgangDelikt\n",
                "(\n",
                "  VorgangsID INT NOT NULL,\n",
                "  DeliktTypeID INT NOT NULL,\n",
                "  CONSTRAINT pk_ZwVorgangDelikt PRIMARY KEY (VorgangsID, DeliktTypeID),\n",
                "  CONSTRAINT fk_ZwVorgangDelikt_Vorgang FOREIGN KEY (VorgangsID) REFERENCES Vorgang(VorgangsID),\n",
                "  CONSTRAINT fk_ZwVorgangDelikt_Delikt FOREIGN KEY (DeliktTypeID) REFERENCES Delikt(DeliktTypeID)\n",
                ");\n",
                "CREATE TABLE ZwVorgangDokument\n",
                "(\n",
                "  VorgangsID INT NOT NULL,\n",
                "  DokumentID INT NOT NULL,\n",
                "  CONSTRAINT pk_ZwVorgangDokument PRIMARY KEY (VorgangsID, DokumentID),\n",
                "  CONSTRAINT fk_ZwVorgangDokument_Vorgang FOREIGN KEY (VorgangsID) REFERENCES Vorgang(VorgangsID),\n",
                "  CONSTRAINT fk_ZwVorgangDokument_Dokument FOREIGN KEY (DokumentID) REFERENCES Dokument(DokumentID)\n",
                ");\n",
                ""
            ],
            "metadata": {
                "azdata_cell_guid": "ae76e9ff-b904-4f1b-a943-f68ffa5e92ff",
                "language": "sql",
                "tags": []
            },
            "outputs": [
{
    "output_type": "display_data",
    "data": {
        "text/html": "Commands completed successfully."
    },
    "metadata": {}
}, {
    "output_type": "display_data",
    "data": {
        "text/html": "Commands completed successfully."
    },
    "metadata": {}
}, {
    "output_type": "display_data",
    "data": {
        "text/html": "Commands completed successfully."
    },
    "metadata": {}
}, {
    "output_type": "display_data",
    "data": {
        "text/html": "Total execution time: 00:00:00.572"
    },
    "metadata": {}
}
],
            "execution_count": 1
        }
    ]
}