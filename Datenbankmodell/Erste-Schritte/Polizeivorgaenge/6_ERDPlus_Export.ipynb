{
    "metadata": {
        "kernelspec": {
            "name": "SQL",
            "display_name": "SQL",
            "language": "sql"
        },
        "language_info": {
            "name": "sql",
            "version": ""
        }
    },
    "nbformat_minor": 2,
    "nbformat": 4,
    "cells": [
        {
            "cell_type": "markdown",
            "source": [
                "# ERDPlus Export: Diesen Code <u>**NICHT!**</u> ausführen"
            ],
            "metadata": {
                "azdata_cell_guid": "9df28779-343b-4e3e-a903-8992be462014"
            }
        },
        {
            "cell_type": "code",
            "source": [
                "CREATE TABLE Bearbeiter\n",
                "(\n",
                "  BearbeiterID INT NOT NULL,\n",
                "  Nachname VARCHAR(100) NOT NULL,\n",
                "  Vorname VARCHAR(100) NOT NULL,\n",
                "  PRIMARY KEY (BearbeiterID)\n",
                ");\n",
                "CREATE TABLE Dokument\n",
                "(\n",
                "  DokumentID INT NOT NULL,\n",
                "  DokumentTyp VARCHAR(100) NOT NULL,\n",
                "  PRIMARY KEY (DokumentID)\n",
                ");\n",
                "CREATE TABLE Delinquent\n",
                "(\n",
                "  DelinquentID INT NOT NULL,\n",
                "  Geburtsdatum DATE NOT NULL,\n",
                "  Anrede CHAR(4) NOT NULL,\n",
                "  Anrede CHAR(4) NOT NULL,\n",
                "  Nachname VARCHAR(100) NOT NULL,\n",
                "  Vorname VARCHAR(100) NOT NULL,\n",
                "  Geburtsdatum DATE NOT NULL,
                "  Strasse VARCHAR(100) NOT NULL,\n",
                "  PLZ CHAR(5) NOT NULL,\n",
                "  Ort VARCHAR(50) NOT NULL,
                "CREATE TABLE Delikt\n",
                "(\n",
                "  DeliktTyp VARCHAR(30) NOT NULL,\n",
                "  DeliktTypeID INT NOT NULL,\n",
                "  PRIMARY KEY (DeliktTypeID)\n",
                "CREATE TABLE Vorgang\n",\n",
                "  DeliktTyp VARCHAR(30) NOT NULL,
                "(\n",
                "  VorgangsID INT NOT NULL,\n",
                "  Datum DATE NOT NULL,\n",
                "  BearbeiterID INT NOT NULL,\n",
                "  DelinquentID INT NOT NULL,\n",
                "  PRIMARY KEY (VorgangsID),\n",
                "  FOREIGN KEY (BearbeiterID) REFERENCES Bearbeiter(BearbeiterID),\n",
                "  FOREIGN KEY (DelinquentID) REFERENCES Delinquent(DelinquentID)\n",
                ");\n",
                "CREATE TABLE ZwVorgangDelikt\n",
                "(\n",
                "  VorgangsID INT NOT NULL,\n",
                "  DeliktTypeID INT NOT NULL,\n",
                "  PRIMARY KEY (VorgangsID, DeliktTypeID),\n",
                "  FOREIGN KEY (VorgangsID) REFERENCES Vorgang(VorgangsID),\n",
                "  FOREIGN KEY (DeliktTypeID) REFERENCES Delikt(DeliktTypeID)\n",
                ");\n",
                "CREATE TABLE ZwVorgangDokument\n",
                "(\n",
                "  VorgangsID INT NOT NULL,\n",
                "  DokumentID INT NOT NULL,\n",
                "  PRIMARY KEY (VorgangsID, DokumentID),\n",
                "  FOREIGN KEY (VorgangsID) REFERENCES Vorgang(VorgangsID),\n",
                "  FOREIGN KEY (DokumentID) REFERENCES Dokument(DokumentID)\n",
                ");s": [],
            "execution_count": null
        }
    ]
}