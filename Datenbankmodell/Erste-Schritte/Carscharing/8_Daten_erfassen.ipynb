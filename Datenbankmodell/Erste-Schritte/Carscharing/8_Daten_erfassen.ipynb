{
    "metadata": {
        "kernelspec": {
            "name": "SQL",
            "display_name": "SQL",
            "language": "sql"
        },
        "language_info": {
            "name": "sql",
            "version": ""
        }
    },
    "nbformat_minor": 2,
    "nbformat": 4,
    "cells": [
        {
            "cell_type": "code",
            "source": [
                "-- Kunde\r\n",
                "INSERT INTO Kunde (KundeNr, Strasse, PLZ, Ort, Firma)\r\n",
                "VALUES \r\n",
                "('K10200', 'Gotthilf-von-Meyer-Bogen 12', '99900', 'Scharehausen', 'CarStar GmbH');\r\n",
                ""
            ],
            "metadata": {
                "azdata_cell_guid": "4c2ca8f6-aa27-4ada-8cec-4239ff44b89b",
                "language": "sql"
            },
            "outputs": [],
            "execution_count": null
        },
        {
            "cell_type": "code",
            "source": [
                "SELECT * FROM Kunde;"
            ],
            "metadata": {
                "language": "sql",
                "azdata_cell_guid": "928f434e-8009-47d5-a33e-d4839018df2c"
            },
            "outputs": [],
            "execution_count": null
        },
        {
            "cell_type": "code",
            "source": [
                "-- Monatsrechung\r\n",
                "\r\n",
                "DECLARE @KundeNr VARCHAR;\r\n",
                "SET @KundeNr = @@IDENTITY;\r\n",
                "INSERT INTO Monatsrechung (RechnungsNr, Rechnungsdatum, KundeNr)\r\n",
                "VALUES ('102015/005498', '2015-11-06', @KundeNr);\r\n",
                "\r\n",
                ""
            ],
            "metadata": {
                "language": "sql",
                "azdata_cell_guid": "c226ed8e-117f-4ed2-81d1-568d67c0f59f"
            },
            "outputs": [],
            "execution_count": null
        },
        {
            "cell_type": "code",
            "source": [
                "SELECT * FROM Monatsrechung;"
            ],
            "metadata": {
                "language": "sql",
                "azdata_cell_guid": "c4800e98-d2f1-4708-913c-d4ee01ac4656"
            },
            "outputs": [],
            "execution_count": null
        },
        {
            "cell_type": "code",
            "source": [
                "-- Fahrzeug\r\n",
                "INSERT INTO Fahrzeug (Kennzeichen)\r\n",
                "VALUES \r\n",
                "('SHH-CS 650'),\r\n",
                "('SHH-CS1116'),\r\n",
                "('SHH-CS 538'),\r\n",
                "('SHH-CS 604');"
            ],
            "metadata": {
                "language": "sql",
                "azdata_cell_guid": "559bddef-883e-45eb-bb53-31d1b7f899a5"
            },
            "outputs": [],
            "execution_count": null
        },
        {
            "cell_type": "code",
            "source": [
                "SELECT * FROM Fahrzeug;"
            ],
            "metadata": {
                "language": "sql",
                "azdata_cell_guid": "37abc1bd-ccc3-4470-91a1-f2816d8ba1d5"
            },
            "outputs": [
                {
                    "output_type": "display_data",
                    "data": {
                        "text/html": "(0 rows affected)"
                    },
                    "metadata": {}
                },
                {
                    "output_type": "display_data",
                    "data": {
                        "text/html": "Total execution time: 00:00:00.004"
                    },
                    "metadata": {}
                },
                {
                    "output_type": "execute_result",
                    "execution_count": 3,
                    "data": {
                        "application/vnd.dataresource+json": {
                            "schema": {
                                "fields": [
                                    {
                                        "name": "FahrzeugID"
                                    },
                                    {
                                        "name": "Kennzeichen"
                                    }
                                ]
                            },
                            "data": []
                        },
                        "text/html": "<table><tr><th>FahrzeugID</th><th>Kennzeichen</th></tr></table>"
                    },
                    "metadata": {}
                }
            ],
            "execution_count": 3
        },
        {
            "cell_type": "code",
            "source": [
                "-- Fahrzeugtyp\r\n",
                "INSERT INTO Fahrzeugtyp (Typ, EURperKM, EURperStd)\r\n",
                "VALUES \r\n",
                "('Transporter', 0.35, 5.00),\r\n",
                "('PKW-S', 0.19, 1.90),\r\n",
                "('Kleinbus',0.42  , 3.70),\r\n",
                "('Transporter', 0.35, 5.0);"
            ],
            "metadata": {
                "language": "sql",
                "azdata_cell_guid": "2fa04846-8908-41c2-a520-9675370f0cd2"
            },
            "outputs": [],
            "execution_count": null
        },
        {
            "cell_type": "code",
            "source": [
                "-- Nutzer\r\n",
                "DECLARE @KundeNr VARCHAR;\r\n",
                "SET @KundeNr = @@IDENTITY;\r\n",
                "INSERT INTO Nutzer (KundeNr)\r\n",
                "VALUES \r\n",
                "(@KundeNr);"
            ],
            "metadata": {
                "language": "sql",
                "azdata_cell_guid": "08f861ef-875a-4ccd-bc64-93036226a06a"
            },
            "outputs": [],
            "execution_count": null
        },
        {
            "cell_type": "code",
            "source": [
                "SELECT * FROM Nutzer;"
            ],
            "metadata": {
                "language": "sql",
                "azdata_cell_guid": "8e3e0514-69a5-47f1-b517-98083a1c8b4d"
            },
            "outputs": [
                {
                    "output_type": "display_data",
                    "data": {
                        "text/html": "(0 rows affected)"
                    },
                    "metadata": {}
                },
                {
                    "output_type": "display_data",
                    "data": {
                        "text/html": "Total execution time: 00:00:00.016"
                    },
                    "metadata": {}
                },
                {
                    "output_type": "execute_result",
                    "execution_count": 4,
                    "data": {
                        "application/vnd.dataresource+json": {
                            "schema": {
                                "fields": [
                                    {
                                        "name": "NutzerID"
                                    },
                                    {
                                        "name": "KundeNr"
                                    }
                                ]
                            },
                            "data": []
                        },
                        "text/html": "<table><tr><th>NutzerID</th><th>KundeNr</th></tr></table>"
                    },
                    "metadata": {}
                }
            ],
            "execution_count": 4
        },
        {
            "cell_type": "code",
            "source": [
                "-- Fahrt\r\n",
                "INSERT INTO Fahrt (Abholung, Rueckgabe, StartKm, EndKm, NutzerID, FahrzeugID)\n",
                "VALUES\n",
                "('2015-10-01 09:30', '2015-10-02 16:36', 39155, 39387, 1, 1),\n",
                "('2015-10-13 16:36', '2015-10-13 14:15', 5666, 5715, 1, 2),\n",
                "('2015-10-14 16:25', '2015-10-16 23:36', 57210, 57999, 1, 3),\n",
                "('2015-10-21 17:07', '2015-10-21 21:36', 41554, 41621, 1, 4);"
            ],
            "metadata": {
                "language": "sql",
                "azdata_cell_guid": "4a883504-2fc4-420a-bd57-a4cf49dc8689",
                "tags": []
            },
            "outputs": [
                {
                    "output_type": "error",
                    "ename": "",
                    "evalue": "Msg 547, Level 16, State 0, Line 2\r\nDie INSERT-Anweisung steht in Konflikt mit der FOREIGN KEY-Einschränkung \"fk_Fahrt_Nutzer\". Der Konflikt trat in der Carsharing-Datenbank, Tabelle \"dbo.Nutzer\", column 'NutzerID' auf.",
                    "traceback": []
                },
                {
                    "output_type": "display_data",
                    "data": {
                        "text/html": "Die Anweisung wurde beendet."
                    },
                    "metadata": {}
                },
                {
                    "output_type": "display_data",
                    "data": {
                        "text/html": "Total execution time: 00:00:00.010"
                    },
                    "metadata": {}
                }
            ],
            "execution_count": 3
        },
        {
            "cell_type": "code",
            "source": [
                "-- Parameter\r\n",
                "INSERT INTO Parameter (Parameter, Wert)\r\n",
                "VALUES \r\n",
                "('Monatpauschale',9.2),\r\n",
                "('NettobetragKM', (SELECT \r\n",
                "    SUM((EndKm - StartKm) * EURperKM) AS NettobetragKM\r\n",
                "FROM \r\n",
                "    Fahrt\r\n",
                "JOIN \r\n",
                "    Fahrzeugtyp ON Fahrt.FahrzeugID = Fahrzeugtyp.FahrzeugID)),\r\n",
                "\r\n",
                "('NettobetragStd', (\r\n",
                "    SELECT \r\n",
                "    SUM (DATEDIFF(HOUR, Abholung, Rueckgabe) * EURperStd) AS NettobetragStd\r\n",
                "    FROM \r\n",
                "    Fahrt\r\n",
                "    JOIN \r\n",
                "    Fahrzeugtyp ON Fahrt.FahrzeugID = Fahrzeugtyp.FahrzeugID\r\n",
                "\r\n",
                "));"
            ],
            "metadata": {
                "language": "sql",
                "azdata_cell_guid": "a3e3b694-e943-4d14-b162-8c4618a99d25"
            },
            "outputs": [
                {
                    "output_type": "display_data",
                    "data": {
                        "text/html": "(3 rows affected)"
                    },
                    "metadata": {}
                },
                {
                    "output_type": "display_data",
                    "data": {
                        "text/html": "Total execution time: 00:00:00.005"
                    },
                    "metadata": {}
                }
            ],
            "execution_count": 1
        },
        {
            "cell_type": "code",
            "source": [
                "SELECT \r\n",
                "    SUM((EndKm - StartKm) * EURperKM) AS NettoKostenKM\r\n",
                "FROM \r\n",
                "    Fahrt\r\n",
                "JOIN \r\n",
                "    Fahrzeugtyp ON Fahrt.FahrzeugID = Fahrzeugtyp.FahrzeugID;\r\n",
                ""
            ],
            "metadata": {
                "language": "sql",
                "azdata_cell_guid": "e52eee33-1c18-449c-8aee-497419ba33b6"
            },
            "outputs": [
                {
                    "output_type": "display_data",
                    "data": {
                        "text/html": "(1 row affected)"
                    },
                    "metadata": {}
                },
                {
                    "output_type": "display_data",
                    "data": {
                        "text/html": "Total execution time: 00:00:00.010"
                    },
                    "metadata": {}
                },
                {
                    "output_type": "execute_result",
                    "metadata": {},
                    "execution_count": 4,
                    "data": {
                        "application/vnd.dataresource+json": {
                            "schema": {
                                "fields": [
                                    {
                                        "name": "NettoKostenKM"
                                    }
                                ]
                            },
                            "data": [
                                {
                                    "NettoKostenKM": "NULL"
                                }
                            ]
                        },
                        "text/html": [
                            "<table>",
                            "<tr><th>NettoKostenKM</th></tr>",
                            "<tr><td>NULL</td></tr>",
                            "</table>"
                        ]
                    }
                }
            ],
            "execution_count": 4
        },
        {
            "cell_type": "code",
            "source": [
                "SELECT \r\n",
                "    SUM (DATEDIFF(HOUR, Abholung, Rueckgabe) * EURperStd) AS TotalCostPerHour\r\n",
                "FROM \r\n",
                "    Fahrt\r\n",
                "JOIN \r\n",
                "    Fahrzeugtyp ON Fahrt.FahrzeugID = Fahrzeugtyp.FahrzeugID;\r\n",
                ""
            ],
            "metadata": {
                "language": "sql",
                "azdata_cell_guid": "cea7dd80-29f0-4467-856b-6c371ebb2664"
            },
            "outputs": [
{
    "output_type": "display_data",
    "data": {
        "text/html": "(1 row affected)"
    },
    "metadata": {}
}, {
    "output_type": "display_data",
    "data": {
        "text/html": "Total execution time: 00:00:00.006"
    },
    "metadata": {}
}, {
    "output_type": "execute_result",
    "metadata": {},
    "execution_count": 5,
    "data": {
        "application/vnd.dataresource+json": {
            "schema": {
                "fields": [
                    {
                        "name": "TotalCostPerHour"
                    }
                ]
            },
            "data": [
                {
                    "TotalCostPerHour": "NULL"
                }
            ]
        },
        "text/html": [
            "<table>",
            "<tr><th>TotalCostPerHour</th></tr>",
            "<tr><td>NULL</td></tr>",
            "</table>"
        ]
    }
}
],
            "execution_count": 5
        },
        {
            "cell_type": "code",
            "source": [
                ""
            ],
            "metadata": {
                "language": "sql",
                "azdata_cell_guid": "a80e483f-21a3-43cf-b617-f4700a61a6b1"
            },
            "outputs": [],
            "execution_count": null
        }
    ]
}