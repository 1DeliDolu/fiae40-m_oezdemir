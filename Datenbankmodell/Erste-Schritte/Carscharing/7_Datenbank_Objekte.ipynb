{
    "metadata": {
        "kernelspec": {
            "name": "SQL",
            "display_name": "SQL",
            "language": "sql"
        },
        "language_info": {
            "name": "sql",
            "version": ""
        }
    },
    "nbformat_minor": 2,
    "nbformat": 4,
    "cells": [
        {
            "cell_type": "code",
            "source": [
                "-- Wechsle in Master-Datenbank\r\n",
                "USE master;\r\n",
                " \r\n",
                "DROP DATABASE IF EXISTS Carsharing;\r\n",
                "-- Batch Operator\r\n",
                "GO\r\n",
                " \r\n",
                "CREATE DATABASE Carsharing;\r\n",
                "GO\r\n",
                " \r\n",
                "USE Carsharing;\r\n",
                " \r\n",
                "CREATE TABLE Kunde\r\n",
                "(\r\n",
                "  KundeNr VARCHAR(30) NOT NULL,\r\n",
                "  Strasse VARCHAR(50) NOT NULL,\r\n",
                "  PLZ CHAR(5) NOT NULL,\r\n",
                "  Ort VARCHAR(50) NOT NULL,\r\n",
                "  Firma VARCHAR(50) NOT NULL,\r\n",
                "  CONSTRAINT pk_Kunde PRIMARY KEY (KundeNr)\r\n",
                ");\r\n",
                "\r\n",
                "CREATE TABLE Monatsrechung\r\n",
                "(\r\n",
                "  RechnungsNr VARCHAR(30) NOT NULL,\r\n",
                "  Rechnungsdatum SMALLDATETIME NOT NULL,\r\n",
                "  KundeNr VARCHAR(30) NOT NULL,\r\n",
                "  CONSTRAINT pk_Monatsrechung PRIMARY KEY (RechnungsNr),\r\n",
                "  CONSTRAINT fk_Monatsrechung_Kunde FOREIGN KEY (KundeNr) REFERENCES Kunde(KundeNr)\r\n",
                ");\r\n",
                "\r\n",
                "CREATE TABLE Fahrzeug\r\n",
                "(\r\n",
                "  FahrzeugID INT IDENTITY(1,1) NOT NULL,\r\n",
                "  Kennzeichen VARCHAR(15) NOT NULL,\r\n",
                "  CONSTRAINT pk_Fahrzeug PRIMARY KEY (FahrzeugID)\r\n",
                ");\r\n",
                "\r\n",
                "CREATE TABLE Fahrzeugtyp\r\n",
                "(\r\n",
                "  FahrzeugtypID INT IDENTITY(1,1) NOT NULL,\r\n",
                "  Typ VARCHAR(30) NOT NULL,\r\n",
                "  EURperKM DECIMAL(9,2) NOT NULL,\r\n",
                "  EURperStd DECIMAL(9,2) NOT NULL,\r\n",
                "  FahrzeugID INT NOT NULL,\r\n",
                "  CONSTRAINT fk_Fahrzeugtyp_Fahrzeug FOREIGN KEY (FahrzeugID) REFERENCES Fahrzeug(FahrzeugID)\r\n",
                ");\r\n",
                "\r\n",
                "CREATE TABLE Nutzer\r\n",
                "(\r\n",
                "  NutzerID INT IDENTITY(1,1) NOT NULL,\r\n",
                "  KundeNr VARCHAR(30) NOT NULL,\r\n",
                "  CONSTRAINT pk_Nutzer PRIMARY KEY (NutzerID),\r\n",
                "  CONSTRAINT fk_Nutzer_Kunde FOREIGN KEY (KundeNr) REFERENCES Kunde(KundeNr)\r\n",
                ");\r\n",
                "\r\n",
                "CREATE TABLE Parameter\r\n",
                "(\r\n",
                "  ParameterID INT IDENTITY(1,1) NOT NULL,\r\n",
                "  Parameter VARCHAR(30) NOT NULL,\r\n",
                "  Wert DECIMAL(9,2) NOT NULL,\r\n",
                "  CONSTRAINT pk_Parameter PRIMARY KEY (ParameterID)\r\n",
                ");\r\n",
                "\r\n",
                "CREATE TABLE Fahrt\r\n",
                "(\r\n",
                "  Abholung SMALLDATETIME NOT NULL,\r\n",
                "  Rueckgabe SMALLDATETIME NOT NULL,\r\n",
                "  StartKm DECIMAL(9,3) NOT NULL,\r\n",
                "  EndKm DECIMAL(9,3) NOT NULL,\r\n",
                "  NutzerID INT NOT NULL,\r\n",
                "  FahrzeugID INT NOT NULL,\r\n",
                "  CONSTRAINT pk_Fahrt PRIMARY KEY (NutzerID, FahrzeugID),\r\n",
                "  CONSTRAINT fk_Fahrt_Nutzer FOREIGN KEY (NutzerID) REFERENCES Nutzer(NutzerID),\r\n",
                "  CONSTRAINT fk_Fahrt_Fahrzeug FOREIGN KEY (FahrzeugID) REFERENCES Fahrzeug(FahrzeugID)\r\n",
                ");\r\n",
                ""
            ],
            "metadata": {
                "azdata_cell_guid": "82a5eba9-b04a-4709-a12e-8f5f0d05b0ae",
                "language": "sql"
            },
            "outputs": [
{
    "output_type": "display_data",
    "data": {
        "text/html": "Commands completed successfully."
    },
    "metadata": {}
}, {
    "output_type": "display_data",
    "data": {
        "text/html": "Commands completed successfully."
    },
    "metadata": {}
}, {
    "output_type": "display_data",
    "data": {
        "text/html": "Commands completed successfully."
    },
    "metadata": {}
}, {
    "output_type": "display_data",
    "data": {
        "text/html": "Total execution time: 00:00:00.393"
    },
    "metadata": {}
}
],
            "execution_count": 2
        }
    ]
}