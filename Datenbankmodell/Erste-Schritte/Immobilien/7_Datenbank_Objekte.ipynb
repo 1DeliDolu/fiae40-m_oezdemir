{
    "metadata": {
        "kernelspec": {
            "name": "SQL",
            "display_name": "SQL",
            "language": "sql"
        },
        "language_info": {
            "name": "sql",
            "version": ""
        }
    },
    "nbformat_minor": 2,
    "nbformat": 4,
    "cells": [
        {
            "cell_type": "code",
            "source": [
                "-- Wechsle in Master-Datenbank\r\n",
                "USE master;\r\n",
                "GO\r\n",
                "\r\n",
                "\r\n",
                "--ALTER DATABASE Immobilien SET SINGLE_USER WITH ROLLBACK IMMEDIATE;\r\n",
                "\r\n",
                "-- Batch Operator\r\n",
                "DROP DATABASE IF EXISTS Immobilien;\r\n",
                "GO\r\n",
                "\r\n",
                "\r\n",
                "CREATE DATABASE Immobilien;\r\n",
                "GO\r\n",
                "USE Immobilien;\r\n",
                "\r\n",
                "\r\n",
                "CREATE TABLE Makler\r\n",
                "(\r\n",
                "  MaklerID INT IDENTITY(1,1) NOT NULL,\r\n",
                "  Vorname VARCHAR(30) NOT NULL,\r\n",
                "  Nachname VARCHAR(30) NOT NULL,\r\n",
                "  Telefon VARCHAR(20) NOT NULL,\r\n",
                "  CONSTRAINT pk_Makler PRIMARY KEY (MaklerID)\r\n",
                ");\r\n",
                "\r\n",
                "CREATE TABLE Adresse\r\n",
                "(\r\n",
                "  AdressID INT IDENTITY(1,1) NOT NULL,\r\n",
                "  Strasse VARCHAR(50) NOT NULL,\r\n",
                "  PLZ CHAR(5) NOT NULL,\r\n",
                "  Ort VARCHAR(30) NOT NULL,\r\n",
                "  CONSTRAINT pk_Adresse PRIMARY KEY (AdressID)\r\n",
                ");\r\n",
                "\r\n",
                "CREATE TABLE Eigentuemer\r\n",
                "(\r\n",
                "  EigentuemerID INT IDENTITY(1,1) NOT NULL,\r\n",
                "  Firma VARCHAR(30),\r\n",
                "  Vorname VARCHAR(30),\r\n",
                "  Nachname VARCHAR(30),\r\n",
                "  AdressID INT NOT NULL,\r\n",
                "  CONSTRAINT pk_Eigentuemer PRIMARY KEY (EigentuemerID),\r\n",
                "  CONSTRAINT fk_Eigentuemer_Adresse FOREIGN KEY (AdressID) REFERENCES Adresse(AdressID)\r\n",
                ");\r\n",
                "\r\n",
                "CREATE TABLE Kunde\r\n",
                "(\r\n",
                "  KundeID INT IDENTITY(1,1) NOT NULL,\r\n",
                "  Vorname VARCHAR(30),\r\n",
                "  Nachname VARCHAR(30),\r\n",
                "  Firma VARCHAR(30),\r\n",
                "  AdressID INT NOT NULL,\r\n",
                "  CONSTRAINT pk_Kunde PRIMARY KEY (KundeID),\r\n",
                "  CONSTRAINT fk_Kunde_Adresse FOREIGN KEY (AdressID) REFERENCES Adresse(AdressID)\r\n",
                ");\r\n",
                "\r\n",
                "CREATE TABLE Immobilie\r\n",
                "(\r\n",
                "  ImmobilienID INT IDENTITY(1,1) NOT NULL,\r\n",
                "  Objektname VARCHAR(50) NOT NULL,\r\n",
                "  EigentuemerID INT NOT NULL,\r\n",
                "  AdressID INT NOT NULL,\r\n",
                "  CONSTRAINT pk_Immobilie PRIMARY KEY (ImmobilienID),\r\n",
                "  CONSTRAINT fk_Immobilie_Eigentuemer FOREIGN KEY (EigentuemerID) REFERENCES Eigentuemer(EigentuemerID),\r\n",
                "  CONSTRAINT fk_Immobilie_Adresse FOREIGN KEY (AdressID) REFERENCES Adresse(AdressID)\r\n",
                ");\r\n",
                "\r\n",
                "CREATE TABLE Besichtigung\r\n",
                "(\r\n",
                "  BesichtigungID INT IDENTITY(1,1) NOT NULL,\r\n",
                "  Datum DATE NOT NULL,\r\n",
                "  ImmobilienID INT NOT NULL,\r\n",
                "  KundeID INT NOT NULL,\r\n",
                "  MaklerID INT NOT NULL,\r\n",
                "  CONSTRAINT pk_Besichtigung PRIMARY KEY (BesichtigungID),\r\n",
                "  CONSTRAINT fk_Besichtigung_Immobilie FOREIGN KEY (ImmobilienID) REFERENCES Immobilie(ImmobilienID),\r\n",
                "  CONSTRAINT fk_Besichtigung_Kunde FOREIGN KEY (KundeID) REFERENCES Kunde(KundeID),\r\n",
                "  CONSTRAINT fk_Besichtigung_Makler FOREIGN KEY (MaklerID) REFERENCES Makler(MaklerID)\r\n",
                ");\r\n",
                ""
            ],
            "metadata": {
                "azdata_cell_guid": "ae9a2f1f-9276-4050-b354-51cbe8edac73",
                "language": "sql"
            },
            "outputs": [
{
    "output_type": "display_data",
    "data": {
        "text/html": "Commands completed successfully."
    },
    "metadata": {}
}, {
    "output_type": "display_data",
    "data": {
        "text/html": "Commands completed successfully."
    },
    "metadata": {}
}, {
    "output_type": "display_data",
    "data": {
        "text/html": "Commands completed successfully."
    },
    "metadata": {}
}, {
    "output_type": "display_data",
    "data": {
        "text/html": "Commands completed successfully."
    },
    "metadata": {}
}, {
    "output_type": "display_data",
    "data": {
        "text/html": "Total execution time: 00:00:00.440"
    },
    "metadata": {}
}
],
            "execution_count": 1
        }
    ]
}