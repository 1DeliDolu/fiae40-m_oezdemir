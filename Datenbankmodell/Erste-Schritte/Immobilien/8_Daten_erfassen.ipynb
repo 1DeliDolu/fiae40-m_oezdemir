{
    "metadata": {
        "kernelspec": {
            "name": "SQL",
            "display_name": "SQL",
            "language": "sql"
        },
        "language_info": {
            "name": "sql",
            "version": ""
        }
    },
    "nbformat_minor": 2,
    "nbformat": 4,
    "cells": [
        {
            "cell_type": "code",
            "source": [
                "-- Makler\r\n",
                "/*\r\n",
                "INSERT INTO Makler (Vorname, Nachname, Telefon)\r\n",
                "VALUES\r\n",
                "    ('Berta', 'Maier', '089 1234-43'),\r\n",
                "    ('Klaus', 'Baldus', '089 1234-12'),\r\n",
                "    ('Toni', 'Sauer', '089 1234-40');\r\n",
                "*/"
            ],
            "metadata": {
                "azdata_cell_guid": "2ec36274-b5ee-4e35-96d3-d4beced3e1a8",
                "language": "sql"
            },
            "outputs": [
                {
                    "output_type": "display_data",
                    "data": {
                        "text/html": "(3 rows affected)"
                    },
                    "metadata": {}
                },
                {
                    "output_type": "display_data",
                    "data": {
                        "text/html": "Total execution time: 00:00:00.008"
                    },
                    "metadata": {}
                }
            ],
            "execution_count": 1
        },
        {
            "cell_type": "code",
            "source": [
                "SELECT * FROM Makler;"
            ],
            "metadata": {
                "language": "sql",
                "azdata_cell_guid": "14e236d9-9126-47aa-bc24-4c6f92d6ce24"
            },
            "outputs": [
                {
                    "output_type": "display_data",
                    "data": {
                        "text/html": "(3 rows affected)"
                    },
                    "metadata": {}
                },
                {
                    "output_type": "display_data",
                    "data": {
                        "text/html": "Total execution time: 00:00:00.109"
                    },
                    "metadata": {}
                },
                {
                    "output_type": "execute_result",
                    "execution_count": 2,
                    "data": {
                        "application/vnd.dataresource+json": {
                            "schema": {
                                "fields": [
                                    {
                                        "name": "MaklerID"
                                    },
                                    {
                                        "name": "Vorname"
                                    },
                                    {
                                        "name": "Nachname"
                                    },
                                    {
                                        "name": "Telefon"
                                    }
                                ]
                            },
                            "data": [
                                {
                                    "MaklerID": "1",
                                    "Vorname": "Berta",
                                    "Nachname": "Maier",
                                    "Telefon": "089 1234-43"
                                },
                                {
                                    "MaklerID": "2",
                                    "Vorname": "Klaus",
                                    "Nachname": "Baldus",
                                    "Telefon": "089 1234-12"
                                },
                                {
                                    "MaklerID": "3",
                                    "Vorname": "Toni",
                                    "Nachname": "Sauer",
                                    "Telefon": "089 1234-40"
                                }
                            ]
                        },
                        "text/html": "<table><tr><th>MaklerID</th><th>Vorname</th><th>Nachname</th><th>Telefon</th></tr><tr><td>1</td><td>Berta</td><td>Maier</td><td>089 1234-43</td></tr><tr><td>2</td><td>Klaus</td><td>Baldus</td><td>089 1234-12</td></tr><tr><td>3</td><td>Toni</td><td>Sauer</td><td>089 1234-40</td></tr></table>"
                    },
                    "metadata": {}
                }
            ],
            "execution_count": 2
        },
        {
            "cell_type": "code",
            "source": [
                "-- Adresse\r\n",
                "/*\r\n",
                "INSERT INTO Adresse (Strasse, PLZ, Ort)\r\n",
                "VALUES\r\n",
                "    ('Am Leuchtturm 12','80333','München'),\r\n",
                "    ('Kruppstr. 1', '45130', 'Essen'),\r\n",
                "    ('Babelsberg Str. 20', '14480', 'Potsdam'),\r\n",
                "    ('Schreiberweg 132', '80335', 'München'),\r\n",
                "    ('Am Hafen', '20144', 'Hamburg'),\r\n",
                "    ('Kruppstr. 1', '45130', 'Essen'),\r\n",
                "    ('Kudamm 23','10115', 'Berlin'),\r\n",
                "    ('Schulstr. 45', '93055', 'Regensburg'),\r\n",
                "    ('Im Rhein 2', '50999', 'Köln'),\r\n",
                "    ('Hochofen Allee 12', '44787', 'Bochum');\r\n",
                "    */\r\n",
                ""
            ],
            "metadata": {
                "language": "sql",
                "azdata_cell_guid": "35605770-61ab-45f8-948e-3de6823fa9d5"
            },
            "outputs": [
                {
                    "output_type": "display_data",
                    "data": {
                        "text/html": "(10 rows affected)"
                    },
                    "metadata": {}
                },
                {
                    "output_type": "display_data",
                    "data": {
                        "text/html": "Total execution time: 00:00:00.004"
                    },
                    "metadata": {}
                }
            ],
            "execution_count": 3
        },
        {
            "cell_type": "code",
            "source": [
                "SELECT * FROM Adresse; "
            ],
            "metadata": {
                "language": "sql",
                "azdata_cell_guid": "8a46d28e-3156-45e9-9fb0-8cc361ab407f"
            },
            "outputs": [
                {
                    "output_type": "display_data",
                    "data": {
                        "text/html": "(10 rows affected)"
                    },
                    "metadata": {}
                },
                {
                    "output_type": "display_data",
                    "data": {
                        "text/html": "Total execution time: 00:00:00.023"
                    },
                    "metadata": {}
                },
                {
                    "output_type": "execute_result",
                    "execution_count": 4,
                    "data": {
                        "application/vnd.dataresource+json": {
                            "schema": {
                                "fields": [
                                    {
                                        "name": "AdressID"
                                    },
                                    {
                                        "name": "Strasse"
                                    },
                                    {
                                        "name": "PLZ"
                                    },
                                    {
                                        "name": "Ort"
                                    }
                                ]
                            },
                            "data": [
                                {
                                    "AdressID": "1",
                                    "Strasse": "Am Leuchtturm 12",
                                    "PLZ": "80333",
                                    "Ort": "München"
                                },
                                {
                                    "AdressID": "2",
                                    "Strasse": "Kruppstr. 1",
                                    "PLZ": "45130",
                                    "Ort": "Essen"
                                },
                                {
                                    "AdressID": "3",
                                    "Strasse": "Babelsberg Str. 20",
                                    "PLZ": "14480",
                                    "Ort": "Potsdam"
                                },
                                {
                                    "AdressID": "4",
                                    "Strasse": "Schreiberweg 132",
                                    "PLZ": "80335",
                                    "Ort": "München"
                                },
                                {
                                    "AdressID": "5",
                                    "Strasse": "Am Hafen",
                                    "PLZ": "20144",
                                    "Ort": "Hamburg"
                                },
                                {
                                    "AdressID": "6",
                                    "Strasse": "Kruppstr. 1",
                                    "PLZ": "45130",
                                    "Ort": "Essen"
                                },
                                {
                                    "AdressID": "7",
                                    "Strasse": "Kudamm 23",
                                    "PLZ": "10115",
                                    "Ort": "Berlin"
                                },
                                {
                                    "AdressID": "8",
                                    "Strasse": "Schulstr. 45",
                                    "PLZ": "93055",
                                    "Ort": "Regensburg"
                                },
                                {
                                    "AdressID": "9",
                                    "Strasse": "Im Rhein 2",
                                    "PLZ": "50999",
                                    "Ort": "Köln"
                                },
                                {
                                    "AdressID": "10",
                                    "Strasse": "Hochofen Allee 12",
                                    "PLZ": "44787",
                                    "Ort": "Bochum"
                                }
                            ]
                        },
                        "text/html": "<table><tr><th>AdressID</th><th>Strasse</th><th>PLZ</th><th>Ort</th></tr><tr><td>1</td><td>Am Leuchtturm 12</td><td>80333</td><td>München</td></tr><tr><td>2</td><td>Kruppstr. 1</td><td>45130</td><td>Essen</td></tr><tr><td>3</td><td>Babelsberg Str. 20</td><td>14480</td><td>Potsdam</td></tr><tr><td>4</td><td>Schreiberweg 132</td><td>80335</td><td>München</td></tr><tr><td>5</td><td>Am Hafen</td><td>20144</td><td>Hamburg</td></tr><tr><td>6</td><td>Kruppstr. 1</td><td>45130</td><td>Essen</td></tr><tr><td>7</td><td>Kudamm 23</td><td>10115</td><td>Berlin</td></tr><tr><td>8</td><td>Schulstr. 45</td><td>93055</td><td>Regensburg</td></tr><tr><td>9</td><td>Im Rhein 2</td><td>50999</td><td>Köln</td></tr><tr><td>10</td><td>Hochofen Allee 12</td><td>44787</td><td>Bochum</td></tr></table>"
                    },
                    "metadata": {}
                }
            ],
            "execution_count": 4
        },
        {
            "cell_type": "code",
            "source": [
                "/*UPDATE Adresse\r\n",
                "SET Strasse ='Kruppstr. 1',\r\n",
                "    PLZ ='45130',\r\n",
                "    Ort ='Essen'\r\n",
                "WHERE AdressID = 2;\r\n",
                "\r\n",
                ""
            ],
            "metadata": {
                "language": "sql",
                "azdata_cell_guid": "3d6fe4a0-3e1d-4ab9-9d24-0032cb13aba1"
            },
            "outputs": [
                {
                    "output_type": "display_data",
                    "data": {
                        "text/html": "(1 row affected)"
                    },
                    "metadata": {}
                },
                {
                    "output_type": "display_data",
                    "data": {
                        "text/html": "(1 row affected)"
                    },
                    "metadata": {}
                },
                {
                    "output_type": "display_data",
                    "data": {
                        "text/html": "(1 row affected)"
                    },
                    "metadata": {}
                },
                {
                    "output_type": "display_data",
                    "data": {
                        "text/html": "(1 row affected)"
                    },
                    "metadata": {}
                },
                {
                    "output_type": "display_data",
                    "data": {
                        "text/html": "(1 row affected)"
                    },
                    "metadata": {}
                },
                {
                    "output_type": "display_data",
                    "data": {
                        "text/html": "(1 row affected)"
                    },
                    "metadata": {}
                },
                {
                    "output_type": "display_data",
                    "data": {
                        "text/html": "(1 row affected)"
                    },
                    "metadata": {}
                },
                {
                    "output_type": "display_data",
                    "data": {
                        "text/html": "(2 rows affected)"
                    },
                    "metadata": {}
                },
                {
                    "output_type": "display_data",
                    "data": {
                        "text/html": "Total execution time: 00:00:00.008"
                    },
                    "metadata": {}
                }
            ],
            "execution_count": 18
        },
        {
            "cell_type": "code",
            "source": [
                "-- Eigentümer\r\n",
                "/*\r\n",
                "INSERT INTO Eigentuemer (Firma, Vorname, Nachname, AdressID)\r\n",
                "VALUES\r\n",
                "    ('Bella Hotel AG', NULL, NULL, 5),\r\n",
                "    (NULL, 'Alfredo', 'Kruppi', 6),\r\n",
                "    (NULL, 'Marlene', 'Schulz', 7);\r\n",
                "    */"
            ],
            "metadata": {
                "language": "sql",
                "azdata_cell_guid": "3e2f1482-7fc6-4e72-b3f5-576ca6a91513",
                "tags": []
            },
            "outputs": [
                {
                    "output_type": "display_data",
                    "data": {
                        "text/html": "(3 rows affected)"
                    },
                    "metadata": {}
                },
                {
                    "output_type": "display_data",
                    "data": {
                        "text/html": "Total execution time: 00:00:00.012"
                    },
                    "metadata": {}
                }
            ],
            "execution_count": 5
        },
        {
            "cell_type": "code",
            "source": [
                "/*UPDATE Eigentuemer\r\n",
                "SET AdressID =5\r\n",
                "WHERE EigentuemerID= 1;\r\n",
                "\r\n",
                ""
            ],
            "metadata": {
                "language": "sql",
                "azdata_cell_guid": "7d322116-83f1-45d8-bffd-05b389411882"
            },
            "outputs": [
                {
                    "output_type": "display_data",
                    "data": {
                        "text/html": "(1 row affected)"
                    },
                    "metadata": {}
                },
                {
                    "output_type": "display_data",
                    "data": {
                        "text/html": "(1 row affected)"
                    },
                    "metadata": {}
                },
                {
                    "output_type": "display_data",
                    "data": {
                        "text/html": "(1 row affected)"
                    },
                    "metadata": {}
                },
                {
                    "output_type": "error",
                    "ename": "",
                    "evalue": "Msg 547, Level 16, State 0, Line 10\r\nDie DELETE-Anweisung steht in Konflikt mit der REFERENCE-Einschränkung \"fk_Immobilie_Eigentuemer\". Der Konflikt trat in der Immobilien-Datenbank, Tabelle \"dbo.Immobilie\", column 'EigentuemerID' auf.",
                    "traceback": []
                },
                {
                    "output_type": "display_data",
                    "data": {
                        "text/html": "Die Anweisung wurde beendet."
                    },
                    "metadata": {}
                },
                {
                    "output_type": "display_data",
                    "data": {
                        "text/html": "Total execution time: 00:00:00.010"
                    },
                    "metadata": {}
                }
            ],
            "execution_count": 27
        },
        {
            "cell_type": "code",
            "source": [
                "SELECT * FROM Eigentuemer;"
            ],
            "metadata": {
                "language": "sql",
                "azdata_cell_guid": "94b9250d-9f2e-4e96-ac12-edba24a4b599"
            },
            "outputs": [
                {
                    "output_type": "display_data",
                    "data": {
                        "text/html": "(3 rows affected)"
                    },
                    "metadata": {}
                },
                {
                    "output_type": "display_data",
                    "data": {
                        "text/html": "Total execution time: 00:00:00.020"
                    },
                    "metadata": {}
                },
                {
                    "output_type": "execute_result",
                    "execution_count": 6,
                    "data": {
                        "application/vnd.dataresource+json": {
                            "schema": {
                                "fields": [
                                    {
                                        "name": "EigentuemerID"
                                    },
                                    {
                                        "name": "Firma"
                                    },
                                    {
                                        "name": "Vorname"
                                    },
                                    {
                                        "name": "Nachname"
                                    },
                                    {
                                        "name": "AdressID"
                                    }
                                ]
                            },
                            "data": [
                                {
                                    "EigentuemerID": "1",
                                    "Firma": "Bella Hotel AG",
                                    "Vorname": "NULL",
                                    "Nachname": "NULL",
                                    "AdressID": "5"
                                },
                                {
                                    "EigentuemerID": "2",
                                    "Firma": "NULL",
                                    "Vorname": "Alfredo",
                                    "Nachname": "Kruppi",
                                    "AdressID": "6"
                                },
                                {
                                    "EigentuemerID": "3",
                                    "Firma": "NULL",
                                    "Vorname": "Marlene",
                                    "Nachname": "Schulz",
                                    "AdressID": "7"
                                }
                            ]
                        },
                        "text/html": "<table><tr><th>EigentuemerID</th><th>Firma</th><th>Vorname</th><th>Nachname</th><th>AdressID</th></tr><tr><td>1</td><td>Bella Hotel AG</td><td>NULL</td><td>NULL</td><td>5</td></tr><tr><td>2</td><td>NULL</td><td>Alfredo</td><td>Kruppi</td><td>6</td></tr><tr><td>3</td><td>NULL</td><td>Marlene</td><td>Schulz</td><td>7</td></tr></table>"
                    },
                    "metadata": {}
                }
            ],
            "execution_count": 6
        },
        {
            "cell_type": "code",
            "source": [
                "-- Kunde\r\n",
                "/*\r\n",
                "INSERT INTO Kunde (Firma, Vorname, Nachname, AdressID)\r\n",
                "VALUES\r\n",
                "    (NULL, 'Hans', 'Müller', 8),\r\n",
                "    ('Schöller GmbH', NULL, NULL, 9), \r\n",
                "    (NULL, 'Gerd', 'Hoesch', 10); */"
            ],
            "metadata": {
                "language": "sql",
                "azdata_cell_guid": "49c14a52-7f12-4d4b-b999-85d4698a18b7",
                "tags": []
            },
            "outputs": [
                {
                    "output_type": "display_data",
                    "data": {
                        "text/html": "(3 rows affected)"
                    },
                    "metadata": {}
                },
                {
                    "output_type": "display_data",
                    "data": {
                        "text/html": "Total execution time: 00:00:00.005"
                    },
                    "metadata": {}
                }
            ],
            "execution_count": 7
        },
        {
            "cell_type": "code",
            "source": [
                "/*UPDATE Kunde\r\n",
                "SET KundeID =1\r\n",
                "WHERE Vorname = 'Hans';\r\n",
                "\r\n",
                "*/"
            ],
            "metadata": {
                "language": "sql",
                "azdata_cell_guid": "6ad71bcf-17ff-437d-bedd-d36c3f1145d2",
                "tags": []
            },
            "outputs": [
                {
                    "output_type": "error",
                    "ename": "",
                    "evalue": "Msg 8102, Level 16, State 1, Line 1\r\nDie KundeID-Identitätsspalte kann nicht aktualisiert werden.",
                    "traceback": []
                },
                {
                    "output_type": "display_data",
                    "data": {
                        "text/html": "Total execution time: 00:00:00.001"
                    },
                    "metadata": {}
                }
            ],
            "execution_count": 24
        },
        {
            "cell_type": "code",
            "source": [
                "SELECT * FROM Kunde;"
            ],
            "metadata": {
                "language": "sql",
                "azdata_cell_guid": "7d970c1a-4c40-4c8d-bcda-12b5bed7c86b"
            },
            "outputs": [
                {
                    "output_type": "display_data",
                    "data": {
                        "text/html": "(3 rows affected)"
                    },
                    "metadata": {}
                },
                {
                    "output_type": "display_data",
                    "data": {
                        "text/html": "Total execution time: 00:00:00.019"
                    },
                    "metadata": {}
                },
                {
                    "output_type": "execute_result",
                    "execution_count": 15,
                    "data": {
                        "application/vnd.dataresource+json": {
                            "schema": {
                                "fields": [
                                    {
                                        "name": "KundeID"
                                    },
                                    {
                                        "name": "Vorname"
                                    },
                                    {
                                        "name": "Nachname"
                                    },
                                    {
                                        "name": "Firma"
                                    },
                                    {
                                        "name": "AdressID"
                                    }
                                ]
                            },
                            "data": [
                                {
                                    "KundeID": "1",
                                    "Vorname": "Hans",
                                    "Nachname": "Müller",
                                    "Firma": "NULL",
                                    "AdressID": "8"
                                },
                                {
                                    "KundeID": "2",
                                    "Vorname": "NULL",
                                    "Nachname": "NULL",
                                    "Firma": "Schöller GmbH",
                                    "AdressID": "9"
                                },
                                {
                                    "KundeID": "3",
                                    "Vorname": "Gerd",
                                    "Nachname": "Hoesch",
                                    "Firma": "NULL",
                                    "AdressID": "10"
                                }
                            ]
                        },
                        "text/html": "<table><tr><th>KundeID</th><th>Vorname</th><th>Nachname</th><th>Firma</th><th>AdressID</th></tr><tr><td>1</td><td>Hans</td><td>Müller</td><td>NULL</td><td>8</td></tr><tr><td>2</td><td>NULL</td><td>NULL</td><td>Schöller GmbH</td><td>9</td></tr><tr><td>3</td><td>Gerd</td><td>Hoesch</td><td>NULL</td><td>10</td></tr></table>"
                    },
                    "metadata": {}
                }
            ],
            "execution_count": 15
        },
        {
            "cell_type": "code",
            "source": [
                "-- Immobilie\r\n",
                "/*\r\n",
                "INSERT INTO Immobilie (Objektname, EigentuemerID, AdressID)\r\n",
                "VALUES\r\n",
                "    ('A la cart Hotel', 1, 1),\r\n",
                "    ('Villa Hügel', 2, 2),\r\n",
                "    ('Filou Theater', 3, 3),\r\n",
                "    ('Hotel Penthaus', 1, 4);\r\n",
                "    */"
            ],
            "metadata": {
                "language": "sql",
                "azdata_cell_guid": "764977c4-4798-433a-a6b6-8ac1ec7ba68b",
                "tags": []
            },
            "outputs": [
                {
                    "output_type": "display_data",
                    "data": {
                        "text/html": "(4 rows affected)"
                    },
                    "metadata": {}
                },
                {
                    "output_type": "display_data",
                    "data": {
                        "text/html": "Total execution time: 00:00:00.008"
                    },
                    "metadata": {}
                }
            ],
            "execution_count": 8
        },
        {
            "cell_type": "code",
            "source": [
                "/*UPDATE Immobilie\r\n",
                "SET AdressID =1,\r\n",
                "    EigentuemerID = 1\r\n",
                "WHERE ImmobilienID= 1;\r\n",
                "\r\n",
                ""
            ],
            "metadata": {
                "language": "sql",
                "azdata_cell_guid": "759dff88-c03e-46eb-a94c-3f6b071670f0"
            },
            "outputs": [
                {
                    "output_type": "display_data",
                    "data": {
                        "text/html": "(1 row affected)"
                    },
                    "metadata": {}
                },
                {
                    "output_type": "display_data",
                    "data": {
                        "text/html": "(1 row affected)"
                    },
                    "metadata": {}
                },
                {
                    "output_type": "display_data",
                    "data": {
                        "text/html": "(1 row affected)"
                    },
                    "metadata": {}
                },
                {
                    "output_type": "display_data",
                    "data": {
                        "text/html": "(1 row affected)"
                    },
                    "metadata": {}
                },
                {
                    "output_type": "display_data",
                    "data": {
                        "text/html": "(0 rows affected)"
                    },
                    "metadata": {}
                },
                {
                    "output_type": "display_data",
                    "data": {
                        "text/html": "Total execution time: 00:00:00.006"
                    },
                    "metadata": {}
                }
            ],
            "execution_count": 25
        },
        {
            "cell_type": "code",
            "source": [
                "SELECT * FROM Immobilie;"
            ],
            "metadata": {
                "language": "sql",
                "azdata_cell_guid": "0f0a99bb-5d60-4786-bf55-9852e7f96ecd"
            },
            "outputs": [
                {
                    "output_type": "display_data",
                    "data": {
                        "text/html": "(4 rows affected)"
                    },
                    "metadata": {}
                },
                {
                    "output_type": "display_data",
                    "data": {
                        "text/html": "Total execution time: 00:00:00.020"
                    },
                    "metadata": {}
                },
                {
                    "output_type": "execute_result",
                    "execution_count": 9,
                    "data": {
                        "application/vnd.dataresource+json": {
                            "schema": {
                                "fields": [
                                    {
                                        "name": "ImmobilienID"
                                    },
                                    {
                                        "name": "Objektname"
                                    },
                                    {
                                        "name": "EigentuemerID"
                                    },
                                    {
                                        "name": "AdressID"
                                    }
                                ]
                            },
                            "data": [
                                {
                                    "ImmobilienID": "1",
                                    "Objektname": "A la cart Hotel",
                                    "EigentuemerID": "1",
                                    "AdressID": "1"
                                },
                                {
                                    "ImmobilienID": "2",
                                    "Objektname": "Villa Hügel",
                                    "EigentuemerID": "2",
                                    "AdressID": "2"
                                },
                                {
                                    "ImmobilienID": "3",
                                    "Objektname": "Filou Theater",
                                    "EigentuemerID": "3",
                                    "AdressID": "3"
                                },
                                {
                                    "ImmobilienID": "4",
                                    "Objektname": "Hotel Penthaus",
                                    "EigentuemerID": "1",
                                    "AdressID": "4"
                                }
                            ]
                        },
                        "text/html": "<table><tr><th>ImmobilienID</th><th>Objektname</th><th>EigentuemerID</th><th>AdressID</th></tr><tr><td>1</td><td>A la cart Hotel</td><td>1</td><td>1</td></tr><tr><td>2</td><td>Villa Hügel</td><td>2</td><td>2</td></tr><tr><td>3</td><td>Filou Theater</td><td>3</td><td>3</td></tr><tr><td>4</td><td>Hotel Penthaus</td><td>1</td><td>4</td></tr></table>"
                    },
                    "metadata": {}
                }
            ],
            "execution_count": 9
        },
        {
            "cell_type": "code",
            "source": [
                "-- Besichtigung\n",
                "\n",
                "-- Beispiel einer erfolgreichen Transaktion \n",
                "-- Mitarbeiter Lutz Frawley wird angelegt und einem Projekt zugeordnet\n",
                "\n",
                "/*\n",
                "USE Immobilien;\n",
                "BEGIN\n",
                "    BEGIN TRANSACTION; -- Transaktion starten\n",
                "    BEGIN TRY\n",
                "     \n",
                "    INSERT INTO Besichtigung (Datum, ImmobilienID, KundeID, MaklerID)\n",
                "    VALUES\n",
                "    ('2012-01-13', 1, 1, 1),\n",
                "    ('2012-02-02', 1, 2, 2),\n",
                "    ('2012-02-02', 4, 2, 2),\n",
                "    ('2012-02-14', 3, 3, 3),\n",
                "    ('2012-02-15', 4, 2, 3);\n",
                "   \n",
                "\n",
                "        COMMIT TRANSACTION; -- Transaktion bestätigen\n",
                "    END TRY\n",
                "    BEGIN CATCH\n",
                "        ROLLBACK TRANSACTION; -- Transaktion annullieren\n",
                "        THROW; -- Fehlermeldung anzeigen\n",
                "    END CATCH;\n",
                "END;\n",
                " */"
            ],
            "metadata": {
                "language": "sql",
                "azdata_cell_guid": "0cc3d297-135e-47d4-b648-70acdff92f1d"
            },
            "outputs": [
                {
                    "output_type": "display_data",
                    "data": {
                        "text/html": "(5 rows affected)"
                    },
                    "metadata": {}
                },
                {
                    "output_type": "display_data",
                    "data": {
                        "text/html": "Total execution time: 00:00:00.007"
                    },
                    "metadata": {}
                }
            ],
            "execution_count": 16
        },
        {
            "cell_type": "code",
            "source": [
                "SELECT * FROM Besichtigung;"
            ],
            "metadata": {
                "language": "sql",
                "azdata_cell_guid": "b2869d08-6212-4391-9bbe-0b1fa25a45f3"
            },
            "outputs": [
                {
                    "output_type": "display_data",
                    "data": {
                        "text/html": "(5 rows affected)"
                    },
                    "metadata": {}
                },
                {
                    "output_type": "display_data",
                    "data": {
                        "text/html": "Total execution time: 00:00:00.022"
                    },
                    "metadata": {}
                },
                {
                    "output_type": "execute_result",
                    "execution_count": 17,
                    "data": {
                        "application/vnd.dataresource+json": {
                            "schema": {
                                "fields": [
                                    {
                                        "name": "BesichtigungID"
                                    },
                                    {
                                        "name": "Datum"
                                    },
                                    {
                                        "name": "ImmobilienID"
                                    },
                                    {
                                        "name": "KundeID"
                                    },
                                    {
                                        "name": "MaklerID"
                                    }
                                ]
                            },
                            "data": [
                                {
                                    "BesichtigungID": "7",
                                    "Datum": "2012-01-13",
                                    "ImmobilienID": "1",
                                    "KundeID": "1",
                                    "MaklerID": "1"
                                },
                                {
                                    "BesichtigungID": "8",
                                    "Datum": "2012-02-02",
                                    "ImmobilienID": "1",
                                    "KundeID": "2",
                                    "MaklerID": "2"
                                },
                                {
                                    "BesichtigungID": "9",
                                    "Datum": "2012-02-02",
                                    "ImmobilienID": "4",
                                    "KundeID": "2",
                                    "MaklerID": "2"
                                },
                                {
                                    "BesichtigungID": "10",
                                    "Datum": "2012-02-14",
                                    "ImmobilienID": "3",
                                    "KundeID": "3",
                                    "MaklerID": "3"
                                },
                                {
                                    "BesichtigungID": "11",
                                    "Datum": "2012-02-15",
                                    "ImmobilienID": "4",
                                    "KundeID": "2",
                                    "MaklerID": "3"
                                }
                            ]
                        },
                        "text/html": "<table><tr><th>BesichtigungID</th><th>Datum</th><th>ImmobilienID</th><th>KundeID</th><th>MaklerID</th></tr><tr><td>7</td><td>2012-01-13</td><td>1</td><td>1</td><td>1</td></tr><tr><td>8</td><td>2012-02-02</td><td>1</td><td>2</td><td>2</td></tr><tr><td>9</td><td>2012-02-02</td><td>4</td><td>2</td><td>2</td></tr><tr><td>10</td><td>2012-02-14</td><td>3</td><td>3</td><td>3</td></tr><tr><td>11</td><td>2012-02-15</td><td>4</td><td>2</td><td>3</td></tr></table>"
                    },
                    "metadata": {}
                }
            ],
            "execution_count": 17
        },
        {
            "cell_type": "code",
            "source": [
                "SELECT\r\n",
                "    Immo.Objektname AS 'ImmobilienName',\r\n",
                "    Adr.Strasse + ', ' + Adr.PLZ + ' ' + Adr.Ort AS 'ImmobilienAdresse',\r\n",
                "    Eig.Vorname + ' ' + Eig.Nachname AS 'EigentuemerName',\r\n",
                "    Mak.Vorname + ' ' + Mak.Nachname AS 'MaklerName',\r\n",
                "    Kun.Vorname + ' ' + Kun.Nachname AS 'KundeName'\r\n",
                "FROM\r\n",
                "    Immobilie Immo\r\n",
                "INNER JOIN\r\n",
                "    Adresse Adr ON Immo.AdressID = Adr.AdressID\r\n",
                "INNER JOIN\r\n",
                "    Eigentuemer Eig ON Immo.EigentuemerID = Eig.EigentuemerID\r\n",
                "INNER JOIN\r\n",
                "    Besichtigung Bes ON Immo.ImmobilienID = Bes.ImmobilienID\r\n",
                "INNER JOIN\r\n",
                "    Makler Mak ON Bes.MaklerID = Mak.MaklerID\r\n",
                "INNER JOIN\r\n",
                "    Kunde Kun ON Bes.KundeID = Kun.KundeID;\r\n",
                "\r\n",
                ""
            ],
            "metadata": {
                "language": "sql",
                "azdata_cell_guid": "ff6fed50-bf03-424d-b65a-94e3c18f1976"
            },
            "outputs": [
{
    "output_type": "display_data",
    "data": {
        "text/html": "(5 rows affected)"
    },
    "metadata": {}
}, {
    "output_type": "display_data",
    "data": {
        "text/html": "Total execution time: 00:00:00.070"
    },
    "metadata": {}
}, {
    "output_type": "execute_result",
    "metadata": {},
    "execution_count": 2,
    "data": {
        "application/vnd.dataresource+json": {
            "schema": {
                "fields": [
                    {
                        "name": "ImmobilienName"
                    },
                    {
                        "name": "ImmobilienAdresse"
                    },
                    {
                        "name": "EigentuemerName"
                    },
                    {
                        "name": "MaklerName"
                    },
                    {
                        "name": "KundeName"
                    }
                ]
            },
            "data": [
                {
                    "ImmobilienName": "A la cart Hotel",
                    "ImmobilienAdresse": "Am Leuchtturm 12, 80333 München",
                    "EigentuemerName": "NULL",
                    "MaklerName": "Berta Maier",
                    "KundeName": "Hans Müller"
                },
                {
                    "ImmobilienName": "A la cart Hotel",
                    "ImmobilienAdresse": "Am Leuchtturm 12, 80333 München",
                    "EigentuemerName": "NULL",
                    "MaklerName": "Klaus Baldus",
                    "KundeName": "NULL"
                },
                {
                    "ImmobilienName": "Hotel Penthaus",
                    "ImmobilienAdresse": "Schreiberweg 132, 80335 München",
                    "EigentuemerName": "NULL",
                    "MaklerName": "Klaus Baldus",
                    "KundeName": "NULL"
                },
                {
                    "ImmobilienName": "Filou Theater",
                    "ImmobilienAdresse": "Babelsberg Str. 20, 14480 Potsdam",
                    "EigentuemerName": "Marlene Schulz",
                    "MaklerName": "Toni Sauer",
                    "KundeName": "Gerd Hoesch"
                },
                {
                    "ImmobilienName": "Hotel Penthaus",
                    "ImmobilienAdresse": "Schreiberweg 132, 80335 München",
                    "EigentuemerName": "NULL",
                    "MaklerName": "Toni Sauer",
                    "KundeName": "NULL"
                }
            ]
        },
        "text/html": [
            "<table>",
            "<tr><th>ImmobilienName</th><th>ImmobilienAdresse</th><th>EigentuemerName</th><th>MaklerName</th><th>KundeName</th></tr>",
            "<tr><td>A la cart Hotel</td><td>Am Leuchtturm 12, 80333 München</td><td>NULL</td><td>Berta Maier</td><td>Hans Müller</td></tr>",
            "<tr><td>A la cart Hotel</td><td>Am Leuchtturm 12, 80333 München</td><td>NULL</td><td>Klaus Baldus</td><td>NULL</td></tr>",
            "<tr><td>Hotel Penthaus</td><td>Schreiberweg 132, 80335 München</td><td>NULL</td><td>Klaus Baldus</td><td>NULL</td></tr>",
            "<tr><td>Filou Theater</td><td>Babelsberg Str. 20, 14480 Potsdam</td><td>Marlene Schulz</td><td>Toni Sauer</td><td>Gerd Hoesch</td></tr>",
            "<tr><td>Hotel Penthaus</td><td>Schreiberweg 132, 80335 München</td><td>NULL</td><td>Toni Sauer</td><td>NULL</td></tr>",
            "</table>"
        ]
    }
}
],
            "execution_count": 2
        }
    ]
}