{
    "metadata": {
        "kernelspec": {
            "name": "SQL",
            "display_name": "SQL",
            "language": "sql"
        },
        "language_info": {
            "name": "sql",
            "version": ""
        }
    },
    "nbformat_minor": 2,
    "nbformat": 4,
    "cells": [
        {
            "cell_type": "markdown",
            "source": [
                "# ERDPlus Export: Diesen Code <u>**NICHT!**</u> ausführen"
            ],
            "metadata": {
                "azdata_cell_guid": "95fdee56-1bd3-499a-ba62-8bb1bc292af4"
            }
        },
        {
            "cell_type": "code",
            "source": [
                "CREATE TABLE Makler\n",
                "(\n",
                "  MaklerID INT NOT NULL,\n",
                "  Vorname VARCHAR(30) NOT NULL,\n",
                "  Nachname VARCHAR(30) NOT NULL,\n",
                "  Telefon VARCHAR(20) NOT NULL,\n",
                "  PRIMARY KEY (MaklerID)\n",
                ");\n",
                "CREATE TABLE Adresse\n",
                "(\n",
                "  AdressID INT NOT NULL,\n",
                "  Strasse VARCHAR(50) NOT NULL,\n",
                "  PLZ CHAR(5) NOT NULL,\n",
                "  Ort VARCHAR(30) NOT NULL,\n",
                "  PRIMARY KEY (AdressID)\n",
                ");\n",
                "CREATE TABLE Eigentuemer\n",
                "(\n",
                "  EigentuemerID INT NOT NULL,\n",
                "  Firma VARCHAR(30),\n",
                "  Vorname VARCHAR(30),\n",
                "  Firma VARCHAR(30),\n",
                "  AdressID INT NOT NULL,\n",
                "  PRIMARY KEY (EigentuemerID),\n",
                "  FOREIGN KEY (AdressID) REFERENCES Adresse(AdressID)\n",
                ");\n",
                "CREATE TABLE Kunde\n",
                "(\n",
                "  KundeID INT NOT NULL,\n",
                "  Vorname INT,\n",
                "  Nachname INT,\n",
                "  Firma INT,\n",
                "  AdressID INT NOT NULL,\n",
                "  PRIMARY KEY (KundeID),\n",
                "  FOREIGN KEY (AdressID) REFERENCES Adresse(AdressID)\n",
                ");\n",
                "CREATE TABLE Immobilie\n",
                "(\n",
                "  ImmobilienID INT NOT NULL,\n",
                "  Objektname VARCHAR(50) NOT NULL,\n",
                "  EigentuemerID INT NOT NULL,\n",
                "  AdressID INT NOT NULL,\n",
                "  PRIMARY KEY (ImmobilienID),\n",
                "  FOREIGN KEY (EigentuemerID) REFERENCES Eigentümer(EigentuemerID),\n",
                "  FOREIGN KEY (AdressID) REFERENCES Adresse(AdressID)\n",
                ");\n",
                "CREATE TABLE Besichtigung\n",
                "(\n",
                "  BesichtigungID INT NOT NULL,\n",
                "  Datum DATE NOT NULL,\n",
                "  ImmobilienID INT NOT NULL,\n",
                "  KundeID INT NOT NULL,\n",
                "  MaklerID INT NOT NULL,\n",
                "  PRIMARY KEY (BesichtigungID),\n",
                "  FOREIGN KEY (ImmobilienID) REFERENCES Immobilie(ImmobilienID),\n",
                "  FOREIGN KEY (KundeID) REFERENCES Kunde(KundeID),\n",
                "  FOREIGN KEY (MaklerID) REFERENCES Makler(MaklerID)\n",
                ");"
            ],
            "metadata": {
                "azdata_cell_guid": "3f8bb171-73c6-4c9d-97cc-ca2a9a34d5a0",
                "language": "sql"
            },
            "outputs": [],
            "execution_count": null
        }
    ]
}