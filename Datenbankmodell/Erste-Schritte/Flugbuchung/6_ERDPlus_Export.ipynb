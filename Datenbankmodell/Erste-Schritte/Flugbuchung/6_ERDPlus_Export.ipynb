{
    "metadata": {
        "kernelspec": {
            "name": "SQL",
            "display_name": "SQL",
            "language": "sql"
        },
        "language_info": {
            "name": "sql",
            "version": ""
        }
    },
    "nbformat_minor": 2,
    "nbformat": 4,
    "cells": [
        {
            "cell_type": "markdown",
            "source": [
                "# ERDPlus Export: Diesen Code <u>**NICHT!**</u> ausführen"
            ],
            "metadata": {
                "azdata_cell_guid": "80e478ef-339c-4d43-a9cf-18604cbc6df2"
            }
        },
        {
            "cell_type": "code",
            "source": [
                "CREATE TABLE Kunde\n",
                "(\n",
                "  KundeNr INT NOT NULL,\n",
                "  Anrede CHAR(5) NOT NULL,\n",
                "  Vorname VARCHAR(50) NOT NULL,\n",
                "  Nachname VARCHAR(50) NOT NULL,\n",
                "  Strasse VARCHAR(50) NOT NULL,\n",
                "  PLZ CHAR(5) NOT NULL,\n",
                "  Ort VARCHAR(50) NOT NULL,\n",
                "  PRIMARY KEY (KundeNr)\n",
                ");\n",
                "CREATE TABLE Buchung\n",
                "(\n",
                "  Buchungnummer INT NOT NULL,\n",
                "  KundeNr INT NOT NULL,\n",
                "  PRIMARY KEY (Buchungnummer),\n",
                "  FOREIGN KEY (KundeNr) REFERENCES Kunde(KundeNr)\n",
                ");\n",
                "CREATE TABLE Flughafen\n",
                "(\n",
                "  FlughafenCode INT NOT NULL,\n",
                "  PRIMARY KEY (FlughafenCode)\n",
                ");\n",
                "CREATE TABLE Fluggast\n",
                "(\n",
                "  FluggastID INT NOT NULL,\n",
                "  Vorname VARCHAR(50) NOT NULL,\n",
                "  Nachname VARCHAR(50) NOT NULL,\n",
                "  Geburtsdatum DATE NOT NULL,\n",
                "  PRIMARY KEY (FluggastID)\n",
                ");\n",
                "CREATE TABLE Flugnummer_o._Flugtyp\n",
                "(\n",
                "  Flugnummer INT NOT NULL,\n",
                "  Abflugzeit time NOT NULL,\n",
                "  Landezeit time NOT NULL,\n",
                "  FlughafenCode INT NOT NULL,\n",
                "  landet_inFlughafenCode INT NOT NULL,\n",
                "  PRIMARY KEY (Flugnummer),\n",
                "  FOREIGN KEY (FlughafenCode) REFERENCES Flughafen(FlughafenCode),\n",
                "  FOREIGN KEY (landet_inFlughafenCode) REFERENCES Flughafen(FlughafenCode)\n",
                ");\n",
                "CREATE TABLE Flug\n",
                "(\n",
                "  Flugnr_Datum_ID INT NOT NULL,\n",
                "  Datum DATE NOT NULL,\n",
                "  Flugnummer INT NOT NULL,\n",
                "  PRIMARY KEY (Flugnr_Datum_ID),\n",
                "  FOREIGN KEY (Flugnummer) REFERENCES Flugnummer_o._Flugtyp(Flugnummer)\n",
                ");\n",
                "CREATE TABLE Buchungsdetail\n",
                "(\n",
                "  FlugKostenFluggast decimal(9,2) NOT NULL,\n",
                "  Hinflug smalldatetime NOT NULL,\n",
                "  Rueckflug smalldatetime NOT NULL,\n",
                "  FluggastID INT NOT NULL,\n",
                "  Buchungnummer INT NOT NULL,\n",
                "  Flugnr_Datum_ID INT NOT NULL,\n",
                "  PRIMARY KEY (FluggastID, Buchungnummer, Flugnr_Datum_ID),\n",
                "  FOREIGN KEY (FluggastID) REFERENCES Fluggast(FluggastID),\n",
                "  FOREIGN KEY (Buchungnummer) REFERENCES Buchung(Buchungnummer),\n",
                "  FOREIGN KEY (Flugnr_Datum_ID) REFERENCES Flug(Flugnr_Datum_ID)\n",
                ");"
            ],
            "metadata": {
                "azdata_cell_guid": "0bdb8f7e-db10-4489-a507-ddfb7ab9d8ab",
                "language": "sql"
            },
            "outputs": [],
            "execution_count": null
        }
    ]
}