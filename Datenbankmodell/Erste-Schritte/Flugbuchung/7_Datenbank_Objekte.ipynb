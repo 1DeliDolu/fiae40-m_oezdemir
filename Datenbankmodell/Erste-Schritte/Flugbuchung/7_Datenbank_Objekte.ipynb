{
    "metadata": {
        "kernelspec": {
            "name": "SQL",
            "display_name": "SQL",
            "language": "sql"
        },
        "language_info": {
            "name": "sql",
            "version": ""
        }
    },
    "nbformat_minor": 2,
    "nbformat": 4,
    "cells": [
        {
            "cell_type": "code",
            "source": [
                "-- Wechsle in Master-Datenbank\r\n",
                "USE master;\r\n",
                "GO\r\n",
                "\r\n",
                "-- Var olan bağlantıları kapatarak tek kullanıcılı moda geçiş yap\r\n",
                "ALTER DATABASE Flugbuchung SET SINGLE_USER WITH ROLLBACK IMMEDIATE;\r\n",
                "GO\r\n",
                "\r\n",
                "-- Flugbuchung veritabanını sil\r\n",
                "DROP DATABASE IF EXISTS Flugbuchung;\r\n",
                "GO\r\n",
                "\r\n",
                "-- Flugbuchung veritabanını yeniden oluştur\r\n",
                "CREATE DATABASE Flugbuchung;\r\n",
                "GO\r\n",
                "USE Flugbuchung;\r\n",
                "\r\n",
                "-- Kunde tablosunu oluştur\r\n",
                "CREATE TABLE Kunde\r\n",
                "(\r\n",
                "  KundeNr CHAR(5) NOT NULL,\r\n",
                "  Anrede CHAR(5) NOT NULL,\r\n",
                "  Vorname VARCHAR(50) NOT NULL,\r\n",
                "  Nachname VARCHAR(50) NOT NULL,\r\n",
                "  Strasse VARCHAR(50) NOT NULL,\r\n",
                "  PLZ CHAR(5) NOT NULL,\r\n",
                "  Ort VARCHAR(50) NOT NULL,\r\n",
                "  CONSTRAINT pk_Kunde PRIMARY KEY (KundeNr)\r\n",
                ");\r\n",
                "\r\n",
                "-- Buchung tablosunu oluştur\r\n",
                "CREATE TABLE Buchung\r\n",
                "(\r\n",
                "  Buchungnummer VARCHAR(50) NOT NULL,\r\n",
                "  KundeNr CHAR(5) NOT NULL,\r\n",
                "  CONSTRAINT pk_Buchung PRIMARY KEY (Buchungnummer),\r\n",
                "  CONSTRAINT fk_Buchung_Kunde FOREIGN KEY (KundeNr) REFERENCES Kunde(KundeNr)\r\n",
                ");\r\n",
                "\r\n",
                "-- Flughafen tablosunu oluştur\r\n",
                "CREATE TABLE Flughafen\r\n",
                "(\r\n",
                "  FlughafenCode VARCHAR(3) NOT NULL,\r\n",
                "  CONSTRAINT pk_Flughafen PRIMARY KEY (FlughafenCode)\r\n",
                ");\r\n",
                "\r\n",
                "-- Fluggast tablosunu oluştur\r\n",
                "CREATE TABLE Fluggast\r\n",
                "(\r\n",
                "  FluggastID INT IDENTITY(1,1) NOT NULL,\r\n",
                "  Vorname VARCHAR(50) NOT NULL,\r\n",
                "  Nachname VARCHAR(50) NOT NULL,\r\n",
                "  Geburtsdatum DATE NOT NULL,\r\n",
                "  CONSTRAINT pk_Fluggast PRIMARY KEY (FluggastID)\r\n",
                ");\r\n",
                "\r\n",
                "-- FlugnummerFlugtyp tablosunu oluştur\r\n",
                "CREATE TABLE FlugnummerFlugtyp\r\n",
                "(\r\n",
                "  Flugnummer VARCHAR(6) NOT NULL,\r\n",
                "  Abflugzeit TIME NOT NULL,\r\n",
                "  Landezeit TIME NOT NULL,\r\n",
                "  FlughafenCode VARCHAR(3) NOT NULL,\r\n",
                "  landet_inFlughafenCode VARCHAR(3) NOT NULL,\r\n",
                "  CONSTRAINT pk_FlugnummerFlugtyp PRIMARY KEY (Flugnummer),\r\n",
                "  CONSTRAINT fk_FlugnummerFlugtyp_Flughafen FOREIGN KEY (FlughafenCode) REFERENCES Flughafen(FlughafenCode),\r\n",
                "  CONSTRAINT fk_FlugnummerFlugtyp_LandetFlughafen FOREIGN KEY (landet_inFlughafenCode) REFERENCES Flughafen(FlughafenCode)\r\n",
                ");\r\n",
                "\r\n",
                "-- Flug tablosunu oluştur\r\n",
                "CREATE TABLE Flug\r\n",
                "(\r\n",
                "  Flugnr_Datum_ID DATE NOT NULL,\r\n",
                "  Datum DATE NOT NULL,\r\n",
                "  Flugnummer VARCHAR(6) NOT NULL,\r\n",
                "  CONSTRAINT pk_Flug PRIMARY KEY (Flugnr_Datum_ID),\r\n",
                "  CONSTRAINT fk_Flug_FlugnummerFlugtyp FOREIGN KEY (Flugnummer) REFERENCES FlugnummerFlugtyp(Flugnummer)\r\n",
                ");\r\n",
                "\r\n",
                "-- Buchungsdetail tablosunu oluştur\r\n",
                "CREATE TABLE Buchungsdetail\r\n",
                "(\r\n",
                "  FlugKostenFluggast DECIMAL(9,2) NOT NULL,\r\n",
                "  Hinflug SMALLDATETIME NOT NULL,\r\n",
                "  Rueckflug SMALLDATETIME NOT NULL,\r\n",
                "  FluggastID INT NOT NULL,\r\n",
                "  Buchungnummer VARCHAR(50) NOT NULL,\r\n",
                "  Flugnr_Datum_ID DATE NOT NULL,\r\n",
                "  CONSTRAINT pk_Buchungsdetail PRIMARY KEY (FluggastID, Buchungnummer, Flugnr_Datum_ID),\r\n",
                "  CONSTRAINT fk_Buchungsdetail_Fluggast FOREIGN KEY (FluggastID) REFERENCES Fluggast(FluggastID),\r\n",
                "  CONSTRAINT fk_Buchungsdetail_Buchung FOREIGN KEY (Buchungnummer) REFERENCES Buchung(Buchungnummer),\r\n",
                "  CONSTRAINT fk_Buchungsdetail_Flug FOREIGN KEY (Flugnr_Datum_ID) REFERENCES Flug(Flugnr_Datum_ID)\r\n",
                ");\r\n",
                "\r\n",
                "-- Komutlar başarıyla tamamlandı\r\n",
                ""
            ],
            "metadata": {
                "azdata_cell_guid": "cba9b589-cc58-4004-aeca-ff9887af9f77",
                "language": "sql"
            },
            "outputs": [
{
    "output_type": "display_data",
    "data": {
        "text/html": "Commands completed successfully."
    },
    "metadata": {}
}, {
    "output_type": "display_data",
    "data": {
        "text/html": "Für nicht gekennzeichnete Transaktionen wird ein Rollback ausgeführt. Bereits abgeschlossen (geschätzt): 0%."
    },
    "metadata": {}
}, {
    "output_type": "display_data",
    "data": {
        "text/html": "Für nicht gekennzeichnete Transaktionen wird ein Rollback ausgeführt. Bereits abgeschlossen (geschätzt): 100%."
    },
    "metadata": {}
}, {
    "output_type": "display_data",
    "data": {
        "text/html": "Commands completed successfully."
    },
    "metadata": {}
}, {
    "output_type": "display_data",
    "data": {
        "text/html": "Commands completed successfully."
    },
    "metadata": {}
}, {
    "output_type": "display_data",
    "data": {
        "text/html": "Commands completed successfully."
    },
    "metadata": {}
}, {
    "output_type": "display_data",
    "data": {
        "text/html": "Total execution time: 00:00:03.469"
    },
    "metadata": {}
}
],
            "execution_count": 2
        }
    ]
}