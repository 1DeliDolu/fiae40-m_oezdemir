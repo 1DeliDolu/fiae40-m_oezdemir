{
    "metadata": {
        "kernelspec": {
            "name": "SQL",
            "display_name": "SQL",
            "language": "sql"
        },
        "language_info": {
            "name": "sql",
            "version": ""
        }
    },
    "nbformat_minor": 2,
    "nbformat": 4,
    "cells": [
        {
            "cell_type": "code",
            "source": [
                "USE Flugbuchung;"
            ],
            "metadata": {
                "azdata_cell_guid": "a6ab86e7-8ea2-4d97-bde9-b2973db5b136",
                "language": "sql"
            },
            "outputs": [
                {
                    "output_type": "display_data",
                    "data": {
                        "text/html": "Commands completed successfully."
                    },
                    "metadata": {}
                },
                {
                    "output_type": "display_data",
                    "data": {
                        "text/html": "Total execution time: 00:00:00"
                    },
                    "metadata": {}
                }
            ],
            "execution_count": 1
        },
        {
            "cell_type": "code",
            "source": [
                "INSERT INTO Kunde (KundeNr, Anrede, Vorname, Nachname, Strasse, PLZ, Ort)\r\n",
                "VALUES('00456', 'Herr', 'Marcel', 'Pott', 'Sandweg 2', '12345', 'Berlin');\r\n",
                ""
            ],
            "metadata": {
                "language": "sql",
                "azdata_cell_guid": "a69ccf6d-7134-41b7-acb2-51823eda7044"
            },
            "outputs": [
                {
                    "output_type": "display_data",
                    "data": {
                        "text/html": "(1 row affected)"
                    },
                    "metadata": {}
                },
                {
                    "output_type": "display_data",
                    "data": {
                        "text/html": "Total execution time: 00:00:00.026"
                    },
                    "metadata": {}
                }
            ],
            "execution_count": 2
        },
        {
            "cell_type": "code",
            "source": [
                "INSERT INTO Buchung (Buchungnummer, KundeNr)\r\n",
                "VALUES\r\n",
                "('3897212633', '00456');\r\n",
                ""
            ],
            "metadata": {
                "language": "sql",
                "azdata_cell_guid": "b28cb28f-4f01-4b5d-b5a4-6e0eb78beacb"
            },
            "outputs": [
                {
                    "output_type": "display_data",
                    "data": {
                        "text/html": "(1 row affected)"
                    },
                    "metadata": {}
                },
                {
                    "output_type": "display_data",
                    "data": {
                        "text/html": "Total execution time: 00:00:00.004"
                    },
                    "metadata": {}
                }
            ],
            "execution_count": 3
        },
        {
            "cell_type": "code",
            "source": [
                "INSERT INTO Flughafen (FlughafenCode)\r\n",
                "VALUES\r\n",
                "('CGN'),\r\n",
                "('PMI');\r\n",
                ""
            ],
            "metadata": {
                "language": "sql",
                "azdata_cell_guid": "90c1449b-5fe2-4c30-865a-0325f5f6d44b"
            },
            "outputs": [
                {
                    "output_type": "display_data",
                    "data": {
                        "text/html": "(2 rows affected)"
                    },
                    "metadata": {}
                },
                {
                    "output_type": "display_data",
                    "data": {
                        "text/html": "Total execution time: 00:00:00.008"
                    },
                    "metadata": {}
                }
            ],
            "execution_count": 4
        },
        {
            "cell_type": "code",
            "source": [
                "INSERT INTO Fluggast (Vorname, Nachname, Geburtsdatum)\r\n",
                "VALUES\r\n",
                "('Petra', 'Pott', '1968-07-23'),\r\n",
                "('Inge', 'Pott', '1988-10-31');\r\n",
                ""
            ],
            "metadata": {
                "language": "sql",
                "azdata_cell_guid": "8e653388-e21e-4eb3-a176-c85ea9db5ba6"
            },
            "outputs": [
                {
                    "output_type": "display_data",
                    "data": {
                        "text/html": "(2 rows affected)"
                    },
                    "metadata": {}
                },
                {
                    "output_type": "display_data",
                    "data": {
                        "text/html": "Total execution time: 00:00:00.006"
                    },
                    "metadata": {}
                }
            ],
            "execution_count": 5
        },
        {
            "cell_type": "code",
            "source": [
                "\n",
                "INSERT INTO FlugnummerFlugtyp (Flugnummer, Abflugzeit, Landezeit, FlughafenCode, landet_inFlughafenCode)\r\n",
                "VALUES\r\n",
                "('ET9250', '11:20', '13:30', 'CGN', 'PMI'),\r\n",
                "('ET9251', '20:20', '22:40', 'PMI', 'CGN');\r\n",
                ""
            ],
            "metadata": {
                "language": "sql",
                "azdata_cell_guid": "48000205-3196-47e6-80e4-7f6e1f935b91"
            },
            "outputs": [
                {
                    "output_type": "display_data",
                    "data": {
                        "text/html": "(2 rows affected)"
                    },
                    "metadata": {}
                },
                {
                    "output_type": "display_data",
                    "data": {
                        "text/html": "Total execution time: 00:00:00.011"
                    },
                    "metadata": {}
                }
            ],
            "execution_count": 7
        },
        {
            "cell_type": "code",
            "source": [
                "INSERT INTO Flug (Flugnr_Datum_ID, Datum, Flugnummer)\r\n",
                "VALUES\r\n",
                "('2006-12-02', '2006-12-02', 'ET9250'),\r\n",
                "('2006-12-06', '2006-12-06', 'ET9251');\r\n",
                ""
            ],
            "metadata": {
                "language": "sql",
                "azdata_cell_guid": "c63cc4e7-0f82-4dba-9ee8-d6faf03286eb"
            },
            "outputs": [
                {
                    "output_type": "display_data",
                    "data": {
                        "text/html": "(2 rows affected)"
                    },
                    "metadata": {}
                },
                {
                    "output_type": "display_data",
                    "data": {
                        "text/html": "Total execution time: 00:00:00.009"
                    },
                    "metadata": {}
                }
            ],
            "execution_count": 8
        },
        {
            "cell_type": "code",
            "source": [
                "INSERT INTO Buchungsdetail (FlugKostenFluggast, Hinflug, Rueckflug, FluggastID, Buchungnummer, Flugnr_Datum_ID)\n",
                "VALUES\n",
                "(150.00, '2006-12-02 11:20', '2006-12-06 20:20', '1', '3897212633', '2006-12-02'),\n",
                "(150.00, '2006-12-02 11:20', '2006-12-06 20:20', '2', '3897212633', '2006-12-02');\n",
                ""
            ],
            "metadata": {
                "language": "sql",
                "azdata_cell_guid": "8f458c45-f3a5-495c-8c03-4fe7a44096cb"
            },
            "outputs": [
                {
                    "output_type": "display_data",
                    "data": {
                        "text/html": "(2 rows affected)"
                    },
                    "metadata": {}
                },
                {
                    "output_type": "display_data",
                    "data": {
                        "text/html": "Total execution time: 00:00:00.009"
                    },
                    "metadata": {}
                }
            ],
            "execution_count": 9
        },
        {
            "cell_type": "code",
            "source": [
                "SELECT * FROM Buchungsdetail;"
            ],
            "metadata": {
                "language": "sql",
                "azdata_cell_guid": "7ae37560-875f-4c9b-885e-4b905afe743b"
            },
            "outputs": [
{
    "output_type": "display_data",
    "data": {
        "text/html": "(2 rows affected)"
    },
    "metadata": {}
}, {
    "output_type": "display_data",
    "data": {
        "text/html": "Total execution time: 00:00:00.097"
    },
    "metadata": {}
}, {
    "output_type": "execute_result",
    "metadata": {},
    "execution_count": 10,
    "data": {
        "application/vnd.dataresource+json": {
            "schema": {
                "fields": [
                    {
                        "name": "FlugKostenFluggast"
                    },
                    {
                        "name": "Hinflug"
                    },
                    {
                        "name": "Rueckflug"
                    },
                    {
                        "name": "FluggastID"
                    },
                    {
                        "name": "Buchungnummer"
                    },
                    {
                        "name": "Flugnr_Datum_ID"
                    }
                ]
            },
            "data": [
                {
                    "FlugKostenFluggast": "150.00",
                    "Hinflug": "2006-02-12 11:20:00",
                    "Rueckflug": "2006-06-12 20:20:00",
                    "FluggastID": "1",
                    "Buchungnummer": "3897212633",
                    "Flugnr_Datum_ID": "2006-12-02"
                },
                {
                    "FlugKostenFluggast": "150.00",
                    "Hinflug": "2006-02-12 11:20:00",
                    "Rueckflug": "2006-06-12 20:20:00",
                    "FluggastID": "2",
                    "Buchungnummer": "3897212633",
                    "Flugnr_Datum_ID": "2006-12-02"
                }
            ]
        },
        "text/html": [
            "<table>",
            "<tr><th>FlugKostenFluggast</th><th>Hinflug</th><th>Rueckflug</th><th>FluggastID</th><th>Buchungnummer</th><th>Flugnr_Datum_ID</th></tr>",
            "<tr><td>150.00</td><td>2006-02-12 11:20:00</td><td>2006-06-12 20:20:00</td><td>1</td><td>3897212633</td><td>2006-12-02</td></tr>",
            "<tr><td>150.00</td><td>2006-02-12 11:20:00</td><td>2006-06-12 20:20:00</td><td>2</td><td>3897212633</td><td>2006-12-02</td></tr>",
            "</table>"
        ]
    }
}
],
            "execution_count": 10
        }
    ]
}